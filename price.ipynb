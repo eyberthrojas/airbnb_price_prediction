{
 "metadata": {
  "language_info": {
   "codemirror_mode": {
    "name": "ipython",
    "version": 3
   },
   "file_extension": ".py",
   "mimetype": "text/x-python",
   "name": "python",
   "nbconvert_exporter": "python",
   "pygments_lexer": "ipython3",
   "version": "3.7.9-final"
  },
  "orig_nbformat": 2,
  "kernelspec": {
   "name": "python3",
   "display_name": "Python 3.7.9 64-bit ('airbnb_price': conda)",
   "metadata": {
    "interpreter": {
     "hash": "f3d34c99335296b7ffaa3f7a0c3d7dc92c513d5427b5b6e7a088576aefc29e6d"
    }
   }
  }
 },
 "nbformat": 4,
 "nbformat_minor": 2,
 "cells": [
  {
   "cell_type": "code",
   "execution_count": 1,
   "metadata": {},
   "outputs": [],
   "source": [
    "import numpy as np\n",
    "import pandas as pd\n",
    "import matplotlib.pyplot as plt\n",
    "\n",
    "from sklearn.model_selection import train_test_split\n",
    "from sklearn.metrics import r2_score, mean_squared_error\n",
    "from sklearn.preprocessing import StandardScaler\n",
    "from sklearn.linear_model import LinearRegression\n",
    "from sklearn.ensemble import RandomForestRegressor\n",
    "from sklearn.svm import SVR\n",
    "import seaborn as sns\n",
    "import plotly.express as px\n",
    "%matplotlib inline"
   ]
  },
  {
   "cell_type": "code",
   "execution_count": 2,
   "metadata": {},
   "outputs": [],
   "source": [
    "df = pd.read_csv('dataset/listings.csv')"
   ]
  },
  {
   "cell_type": "code",
   "execution_count": 3,
   "metadata": {},
   "outputs": [
    {
     "output_type": "execute_result",
     "data": {
      "text/plain": [
       "(92,)"
      ]
     },
     "metadata": {},
     "execution_count": 3
    }
   ],
   "source": [
    "df.columns.shape"
   ]
  },
  {
   "source": [
    "### Preselección de variables\n",
    "\n",
    "Inicialmente se cuenta con 92 variables, de los cuales se seleccionan las que muestran alguna información,\n",
    "\n",
    "- Se eliminan las que solo tienen un valor\n",
    "- Informacion que no es relevante como Codigo de identificación, url, etc\n",
    "- Las que columnas que solo tienen NaN\n",
    "\n",
    "\n"
   ],
   "cell_type": "markdown",
   "metadata": {}
  },
  {
   "cell_type": "code",
   "execution_count": 4,
   "metadata": {},
   "outputs": [
    {
     "output_type": "execute_result",
     "data": {
      "text/plain": [
       "51"
      ]
     },
     "metadata": {},
     "execution_count": 4
    }
   ],
   "source": [
    "columns=['host_since','host_response_rate','host_acceptance_rate','host_is_superhost','host_total_listings_count','host_has_profile_pic','host_identity_verified','latitude','longitude','is_location_exact', 'property_type', 'room_type', 'accommodates','bathrooms', 'bedrooms', 'beds', 'bed_type','amenities','square_feet','price','weekly_price','monthly_price','security_deposit','cleaning_fee', 'guests_included', 'extra_people', 'minimum_nights','maximum_nights', 'calendar_updated', 'has_availability','availability_30', 'availability_60', 'availability_90','availability_365','number_of_reviews','first_review', 'last_review', 'review_scores_rating', 'review_scores_accuracy', 'review_scores_cleanliness','review_scores_checkin','review_scores_communication','review_scores_location', 'review_scores_value', 'requires_license', 'instant_bookable', 'cancellation_policy', 'require_guest_profile_picture','require_guest_phone_verification', 'calculated_host_listings_count','reviews_per_month']\n",
    "len(columns)"
   ]
  },
  {
   "source": [
    "Se eliminan todas las filas con valor NaN de la columna \"price\", es lo que se va a predecir "
   ],
   "cell_type": "markdown",
   "metadata": {}
  },
  {
   "cell_type": "code",
   "execution_count": 5,
   "metadata": {},
   "outputs": [
    {
     "output_type": "execute_result",
     "data": {
      "text/plain": [
       "       host_total_listings_count     latitude    longitude  accommodates  \\\n",
       "count                3816.000000  3818.000000  3818.000000   3818.000000   \n",
       "mean                    7.157757    47.628961  -122.333103      3.349398   \n",
       "std                    28.628149     0.043052     0.031745      1.977599   \n",
       "min                     1.000000    47.505088  -122.417219      1.000000   \n",
       "25%                     1.000000    47.609418  -122.354320      2.000000   \n",
       "50%                     1.000000    47.623601  -122.328874      3.000000   \n",
       "75%                     3.000000    47.662694  -122.310800      4.000000   \n",
       "max                   502.000000    47.733358  -122.240607     16.000000   \n",
       "\n",
       "         bathrooms     bedrooms         beds  square_feet  guests_included  \\\n",
       "count  3802.000000  3812.000000  3817.000000    97.000000      3818.000000   \n",
       "mean      1.259469     1.307712     1.735394   854.618557         1.672603   \n",
       "std       0.590369     0.883395     1.139480   671.404893         1.311040   \n",
       "min       0.000000     0.000000     1.000000     0.000000         0.000000   \n",
       "25%       1.000000     1.000000     1.000000   420.000000         1.000000   \n",
       "50%       1.000000     1.000000     1.000000   750.000000         1.000000   \n",
       "75%       1.000000     2.000000     2.000000  1200.000000         2.000000   \n",
       "max       8.000000     7.000000    15.000000  3000.000000        15.000000   \n",
       "\n",
       "       minimum_nights  ...  number_of_reviews  review_scores_rating  \\\n",
       "count     3818.000000  ...        3818.000000           3171.000000   \n",
       "mean         2.369303  ...          22.223415             94.539262   \n",
       "std         16.305902  ...          37.730892              6.606083   \n",
       "min          1.000000  ...           0.000000             20.000000   \n",
       "25%          1.000000  ...           2.000000             93.000000   \n",
       "50%          2.000000  ...           9.000000             96.000000   \n",
       "75%          2.000000  ...          26.000000             99.000000   \n",
       "max       1000.000000  ...         474.000000            100.000000   \n",
       "\n",
       "       review_scores_accuracy  review_scores_cleanliness  \\\n",
       "count             3160.000000                3165.000000   \n",
       "mean                 9.636392                   9.556398   \n",
       "std                  0.698031                   0.797274   \n",
       "min                  2.000000                   3.000000   \n",
       "25%                  9.000000                   9.000000   \n",
       "50%                 10.000000                  10.000000   \n",
       "75%                 10.000000                  10.000000   \n",
       "max                 10.000000                  10.000000   \n",
       "\n",
       "       review_scores_checkin  review_scores_communication  \\\n",
       "count            3160.000000                  3167.000000   \n",
       "mean                9.786709                     9.809599   \n",
       "std                 0.595499                     0.568211   \n",
       "min                 2.000000                     2.000000   \n",
       "25%                10.000000                    10.000000   \n",
       "50%                10.000000                    10.000000   \n",
       "75%                10.000000                    10.000000   \n",
       "max                10.000000                    10.000000   \n",
       "\n",
       "       review_scores_location  review_scores_value  \\\n",
       "count             3163.000000          3162.000000   \n",
       "mean                 9.608916             9.452245   \n",
       "std                  0.629053             0.750259   \n",
       "min                  4.000000             2.000000   \n",
       "25%                  9.000000             9.000000   \n",
       "50%                 10.000000            10.000000   \n",
       "75%                 10.000000            10.000000   \n",
       "max                 10.000000            10.000000   \n",
       "\n",
       "       calculated_host_listings_count  reviews_per_month  \n",
       "count                     3818.000000        3191.000000  \n",
       "mean                         2.946307           2.078919  \n",
       "std                          5.893029           1.822348  \n",
       "min                          1.000000           0.020000  \n",
       "25%                          1.000000           0.695000  \n",
       "50%                          1.000000           1.540000  \n",
       "75%                          2.000000           3.000000  \n",
       "max                         37.000000          12.150000  \n",
       "\n",
       "[8 rows x 25 columns]"
      ],
      "text/html": "<div>\n<style scoped>\n    .dataframe tbody tr th:only-of-type {\n        vertical-align: middle;\n    }\n\n    .dataframe tbody tr th {\n        vertical-align: top;\n    }\n\n    .dataframe thead th {\n        text-align: right;\n    }\n</style>\n<table border=\"1\" class=\"dataframe\">\n  <thead>\n    <tr style=\"text-align: right;\">\n      <th></th>\n      <th>host_total_listings_count</th>\n      <th>latitude</th>\n      <th>longitude</th>\n      <th>accommodates</th>\n      <th>bathrooms</th>\n      <th>bedrooms</th>\n      <th>beds</th>\n      <th>square_feet</th>\n      <th>guests_included</th>\n      <th>minimum_nights</th>\n      <th>...</th>\n      <th>number_of_reviews</th>\n      <th>review_scores_rating</th>\n      <th>review_scores_accuracy</th>\n      <th>review_scores_cleanliness</th>\n      <th>review_scores_checkin</th>\n      <th>review_scores_communication</th>\n      <th>review_scores_location</th>\n      <th>review_scores_value</th>\n      <th>calculated_host_listings_count</th>\n      <th>reviews_per_month</th>\n    </tr>\n  </thead>\n  <tbody>\n    <tr>\n      <th>count</th>\n      <td>3816.000000</td>\n      <td>3818.000000</td>\n      <td>3818.000000</td>\n      <td>3818.000000</td>\n      <td>3802.000000</td>\n      <td>3812.000000</td>\n      <td>3817.000000</td>\n      <td>97.000000</td>\n      <td>3818.000000</td>\n      <td>3818.000000</td>\n      <td>...</td>\n      <td>3818.000000</td>\n      <td>3171.000000</td>\n      <td>3160.000000</td>\n      <td>3165.000000</td>\n      <td>3160.000000</td>\n      <td>3167.000000</td>\n      <td>3163.000000</td>\n      <td>3162.000000</td>\n      <td>3818.000000</td>\n      <td>3191.000000</td>\n    </tr>\n    <tr>\n      <th>mean</th>\n      <td>7.157757</td>\n      <td>47.628961</td>\n      <td>-122.333103</td>\n      <td>3.349398</td>\n      <td>1.259469</td>\n      <td>1.307712</td>\n      <td>1.735394</td>\n      <td>854.618557</td>\n      <td>1.672603</td>\n      <td>2.369303</td>\n      <td>...</td>\n      <td>22.223415</td>\n      <td>94.539262</td>\n      <td>9.636392</td>\n      <td>9.556398</td>\n      <td>9.786709</td>\n      <td>9.809599</td>\n      <td>9.608916</td>\n      <td>9.452245</td>\n      <td>2.946307</td>\n      <td>2.078919</td>\n    </tr>\n    <tr>\n      <th>std</th>\n      <td>28.628149</td>\n      <td>0.043052</td>\n      <td>0.031745</td>\n      <td>1.977599</td>\n      <td>0.590369</td>\n      <td>0.883395</td>\n      <td>1.139480</td>\n      <td>671.404893</td>\n      <td>1.311040</td>\n      <td>16.305902</td>\n      <td>...</td>\n      <td>37.730892</td>\n      <td>6.606083</td>\n      <td>0.698031</td>\n      <td>0.797274</td>\n      <td>0.595499</td>\n      <td>0.568211</td>\n      <td>0.629053</td>\n      <td>0.750259</td>\n      <td>5.893029</td>\n      <td>1.822348</td>\n    </tr>\n    <tr>\n      <th>min</th>\n      <td>1.000000</td>\n      <td>47.505088</td>\n      <td>-122.417219</td>\n      <td>1.000000</td>\n      <td>0.000000</td>\n      <td>0.000000</td>\n      <td>1.000000</td>\n      <td>0.000000</td>\n      <td>0.000000</td>\n      <td>1.000000</td>\n      <td>...</td>\n      <td>0.000000</td>\n      <td>20.000000</td>\n      <td>2.000000</td>\n      <td>3.000000</td>\n      <td>2.000000</td>\n      <td>2.000000</td>\n      <td>4.000000</td>\n      <td>2.000000</td>\n      <td>1.000000</td>\n      <td>0.020000</td>\n    </tr>\n    <tr>\n      <th>25%</th>\n      <td>1.000000</td>\n      <td>47.609418</td>\n      <td>-122.354320</td>\n      <td>2.000000</td>\n      <td>1.000000</td>\n      <td>1.000000</td>\n      <td>1.000000</td>\n      <td>420.000000</td>\n      <td>1.000000</td>\n      <td>1.000000</td>\n      <td>...</td>\n      <td>2.000000</td>\n      <td>93.000000</td>\n      <td>9.000000</td>\n      <td>9.000000</td>\n      <td>10.000000</td>\n      <td>10.000000</td>\n      <td>9.000000</td>\n      <td>9.000000</td>\n      <td>1.000000</td>\n      <td>0.695000</td>\n    </tr>\n    <tr>\n      <th>50%</th>\n      <td>1.000000</td>\n      <td>47.623601</td>\n      <td>-122.328874</td>\n      <td>3.000000</td>\n      <td>1.000000</td>\n      <td>1.000000</td>\n      <td>1.000000</td>\n      <td>750.000000</td>\n      <td>1.000000</td>\n      <td>2.000000</td>\n      <td>...</td>\n      <td>9.000000</td>\n      <td>96.000000</td>\n      <td>10.000000</td>\n      <td>10.000000</td>\n      <td>10.000000</td>\n      <td>10.000000</td>\n      <td>10.000000</td>\n      <td>10.000000</td>\n      <td>1.000000</td>\n      <td>1.540000</td>\n    </tr>\n    <tr>\n      <th>75%</th>\n      <td>3.000000</td>\n      <td>47.662694</td>\n      <td>-122.310800</td>\n      <td>4.000000</td>\n      <td>1.000000</td>\n      <td>2.000000</td>\n      <td>2.000000</td>\n      <td>1200.000000</td>\n      <td>2.000000</td>\n      <td>2.000000</td>\n      <td>...</td>\n      <td>26.000000</td>\n      <td>99.000000</td>\n      <td>10.000000</td>\n      <td>10.000000</td>\n      <td>10.000000</td>\n      <td>10.000000</td>\n      <td>10.000000</td>\n      <td>10.000000</td>\n      <td>2.000000</td>\n      <td>3.000000</td>\n    </tr>\n    <tr>\n      <th>max</th>\n      <td>502.000000</td>\n      <td>47.733358</td>\n      <td>-122.240607</td>\n      <td>16.000000</td>\n      <td>8.000000</td>\n      <td>7.000000</td>\n      <td>15.000000</td>\n      <td>3000.000000</td>\n      <td>15.000000</td>\n      <td>1000.000000</td>\n      <td>...</td>\n      <td>474.000000</td>\n      <td>100.000000</td>\n      <td>10.000000</td>\n      <td>10.000000</td>\n      <td>10.000000</td>\n      <td>10.000000</td>\n      <td>10.000000</td>\n      <td>10.000000</td>\n      <td>37.000000</td>\n      <td>12.150000</td>\n    </tr>\n  </tbody>\n</table>\n<p>8 rows × 25 columns</p>\n</div>"
     },
     "metadata": {},
     "execution_count": 5
    }
   ],
   "source": [
    "df_1 = df[columns]\n",
    "df_1 = df_1.dropna(axis = 0, subset=['price'])\n",
    "df_1.describe()"
   ]
  },
  {
   "source": [
    "Se convierte a valor float las columnas donde la información es de moneda:\n",
    "price, weekly_price, monthly_price, security_deposit, cleaning_fee, extra_people"
   ],
   "cell_type": "markdown",
   "metadata": {}
  },
  {
   "cell_type": "code",
   "execution_count": 6,
   "metadata": {},
   "outputs": [],
   "source": [
    "df_1['price'] = df_1.price.str.replace(\",\",\"\").str.replace(\"$\",\"\").astype(float)\n",
    "df_1['weekly_price'] = df_1.weekly_price.str.replace(\",\",\"\").str.replace(\"$\",\"\").astype(float)\n",
    "df_1['monthly_price'] = df_1.monthly_price.str.replace(\",\",\"\").str.replace(\"$\",\"\").astype(float)\n",
    "df_1['security_deposit'] = df_1.security_deposit.str.replace(\",\",\"\").str.replace(\"$\",\"\").astype(float)\n",
    "df_1['cleaning_fee'] = df_1.cleaning_fee.str.replace(\",\",\"\").str.replace(\"$\",\"\").astype(float)\n",
    "df_1['extra_people'] = df_1.extra_people.str.replace(\",\",\"\").str.replace(\"$\",\"\").astype(float)\n"
   ]
  },
  {
   "source": [
    "Las columnas de información booleana muestran la información True con una 't' y False con una 'f', por lo que se reemplaza 't' por 1 y 'f' por 0 y se jan de tipo float"
   ],
   "cell_type": "markdown",
   "metadata": {}
  },
  {
   "cell_type": "code",
   "execution_count": 7,
   "metadata": {},
   "outputs": [
    {
     "output_type": "execute_result",
     "data": {
      "text/plain": [
       "       host_is_superhost  host_total_listings_count  host_has_profile_pic  \\\n",
       "count        3816.000000                3816.000000           3816.000000   \n",
       "mean            0.203878                   7.157757              0.998166   \n",
       "std             0.402932                  28.628149              0.042796   \n",
       "min             0.000000                   1.000000              0.000000   \n",
       "25%             0.000000                   1.000000              1.000000   \n",
       "50%             0.000000                   1.000000              1.000000   \n",
       "75%             0.000000                   3.000000              1.000000   \n",
       "max             1.000000                 502.000000              1.000000   \n",
       "\n",
       "       host_identity_verified     latitude    longitude  is_location_exact  \\\n",
       "count             3816.000000  3818.000000  3818.000000        3818.000000   \n",
       "mean                 0.785377    47.628961  -122.333103           0.893662   \n",
       "std                  0.410614     0.043052     0.031745           0.308311   \n",
       "min                  0.000000    47.505088  -122.417219           0.000000   \n",
       "25%                  1.000000    47.609418  -122.354320           1.000000   \n",
       "50%                  1.000000    47.623601  -122.328874           1.000000   \n",
       "75%                  1.000000    47.662694  -122.310800           1.000000   \n",
       "max                  1.000000    47.733358  -122.240607           1.000000   \n",
       "\n",
       "       accommodates    bathrooms     bedrooms  ...  review_scores_checkin  \\\n",
       "count   3818.000000  3802.000000  3812.000000  ...            3160.000000   \n",
       "mean       3.349398     1.259469     1.307712  ...               9.786709   \n",
       "std        1.977599     0.590369     0.883395  ...               0.595499   \n",
       "min        1.000000     0.000000     0.000000  ...               2.000000   \n",
       "25%        2.000000     1.000000     1.000000  ...              10.000000   \n",
       "50%        3.000000     1.000000     1.000000  ...              10.000000   \n",
       "75%        4.000000     1.000000     2.000000  ...              10.000000   \n",
       "max       16.000000     8.000000     7.000000  ...              10.000000   \n",
       "\n",
       "       review_scores_communication  review_scores_location  \\\n",
       "count                  3167.000000             3163.000000   \n",
       "mean                      9.809599                9.608916   \n",
       "std                       0.568211                0.629053   \n",
       "min                       2.000000                4.000000   \n",
       "25%                      10.000000                9.000000   \n",
       "50%                      10.000000               10.000000   \n",
       "75%                      10.000000               10.000000   \n",
       "max                      10.000000               10.000000   \n",
       "\n",
       "       review_scores_value  requires_license  instant_bookable  \\\n",
       "count          3162.000000            3818.0       3818.000000   \n",
       "mean              9.452245               0.0          0.154793   \n",
       "std               0.750259               0.0          0.361755   \n",
       "min               2.000000               0.0          0.000000   \n",
       "25%               9.000000               0.0          0.000000   \n",
       "50%              10.000000               0.0          0.000000   \n",
       "75%              10.000000               0.0          0.000000   \n",
       "max              10.000000               0.0          1.000000   \n",
       "\n",
       "       require_guest_profile_picture  require_guest_phone_verification  \\\n",
       "count                    3818.000000                       3818.000000   \n",
       "mean                        0.084075                          0.098219   \n",
       "std                         0.277537                          0.297649   \n",
       "min                         0.000000                          0.000000   \n",
       "25%                         0.000000                          0.000000   \n",
       "50%                         0.000000                          0.000000   \n",
       "75%                         0.000000                          0.000000   \n",
       "max                         1.000000                          1.000000   \n",
       "\n",
       "       calculated_host_listings_count  reviews_per_month  \n",
       "count                     3818.000000        3191.000000  \n",
       "mean                         2.946307           2.078919  \n",
       "std                          5.893029           1.822348  \n",
       "min                          1.000000           0.020000  \n",
       "25%                          1.000000           0.695000  \n",
       "50%                          1.000000           1.540000  \n",
       "75%                          2.000000           3.000000  \n",
       "max                         37.000000          12.150000  \n",
       "\n",
       "[8 rows x 40 columns]"
      ],
      "text/html": "<div>\n<style scoped>\n    .dataframe tbody tr th:only-of-type {\n        vertical-align: middle;\n    }\n\n    .dataframe tbody tr th {\n        vertical-align: top;\n    }\n\n    .dataframe thead th {\n        text-align: right;\n    }\n</style>\n<table border=\"1\" class=\"dataframe\">\n  <thead>\n    <tr style=\"text-align: right;\">\n      <th></th>\n      <th>host_is_superhost</th>\n      <th>host_total_listings_count</th>\n      <th>host_has_profile_pic</th>\n      <th>host_identity_verified</th>\n      <th>latitude</th>\n      <th>longitude</th>\n      <th>is_location_exact</th>\n      <th>accommodates</th>\n      <th>bathrooms</th>\n      <th>bedrooms</th>\n      <th>...</th>\n      <th>review_scores_checkin</th>\n      <th>review_scores_communication</th>\n      <th>review_scores_location</th>\n      <th>review_scores_value</th>\n      <th>requires_license</th>\n      <th>instant_bookable</th>\n      <th>require_guest_profile_picture</th>\n      <th>require_guest_phone_verification</th>\n      <th>calculated_host_listings_count</th>\n      <th>reviews_per_month</th>\n    </tr>\n  </thead>\n  <tbody>\n    <tr>\n      <th>count</th>\n      <td>3816.000000</td>\n      <td>3816.000000</td>\n      <td>3816.000000</td>\n      <td>3816.000000</td>\n      <td>3818.000000</td>\n      <td>3818.000000</td>\n      <td>3818.000000</td>\n      <td>3818.000000</td>\n      <td>3802.000000</td>\n      <td>3812.000000</td>\n      <td>...</td>\n      <td>3160.000000</td>\n      <td>3167.000000</td>\n      <td>3163.000000</td>\n      <td>3162.000000</td>\n      <td>3818.0</td>\n      <td>3818.000000</td>\n      <td>3818.000000</td>\n      <td>3818.000000</td>\n      <td>3818.000000</td>\n      <td>3191.000000</td>\n    </tr>\n    <tr>\n      <th>mean</th>\n      <td>0.203878</td>\n      <td>7.157757</td>\n      <td>0.998166</td>\n      <td>0.785377</td>\n      <td>47.628961</td>\n      <td>-122.333103</td>\n      <td>0.893662</td>\n      <td>3.349398</td>\n      <td>1.259469</td>\n      <td>1.307712</td>\n      <td>...</td>\n      <td>9.786709</td>\n      <td>9.809599</td>\n      <td>9.608916</td>\n      <td>9.452245</td>\n      <td>0.0</td>\n      <td>0.154793</td>\n      <td>0.084075</td>\n      <td>0.098219</td>\n      <td>2.946307</td>\n      <td>2.078919</td>\n    </tr>\n    <tr>\n      <th>std</th>\n      <td>0.402932</td>\n      <td>28.628149</td>\n      <td>0.042796</td>\n      <td>0.410614</td>\n      <td>0.043052</td>\n      <td>0.031745</td>\n      <td>0.308311</td>\n      <td>1.977599</td>\n      <td>0.590369</td>\n      <td>0.883395</td>\n      <td>...</td>\n      <td>0.595499</td>\n      <td>0.568211</td>\n      <td>0.629053</td>\n      <td>0.750259</td>\n      <td>0.0</td>\n      <td>0.361755</td>\n      <td>0.277537</td>\n      <td>0.297649</td>\n      <td>5.893029</td>\n      <td>1.822348</td>\n    </tr>\n    <tr>\n      <th>min</th>\n      <td>0.000000</td>\n      <td>1.000000</td>\n      <td>0.000000</td>\n      <td>0.000000</td>\n      <td>47.505088</td>\n      <td>-122.417219</td>\n      <td>0.000000</td>\n      <td>1.000000</td>\n      <td>0.000000</td>\n      <td>0.000000</td>\n      <td>...</td>\n      <td>2.000000</td>\n      <td>2.000000</td>\n      <td>4.000000</td>\n      <td>2.000000</td>\n      <td>0.0</td>\n      <td>0.000000</td>\n      <td>0.000000</td>\n      <td>0.000000</td>\n      <td>1.000000</td>\n      <td>0.020000</td>\n    </tr>\n    <tr>\n      <th>25%</th>\n      <td>0.000000</td>\n      <td>1.000000</td>\n      <td>1.000000</td>\n      <td>1.000000</td>\n      <td>47.609418</td>\n      <td>-122.354320</td>\n      <td>1.000000</td>\n      <td>2.000000</td>\n      <td>1.000000</td>\n      <td>1.000000</td>\n      <td>...</td>\n      <td>10.000000</td>\n      <td>10.000000</td>\n      <td>9.000000</td>\n      <td>9.000000</td>\n      <td>0.0</td>\n      <td>0.000000</td>\n      <td>0.000000</td>\n      <td>0.000000</td>\n      <td>1.000000</td>\n      <td>0.695000</td>\n    </tr>\n    <tr>\n      <th>50%</th>\n      <td>0.000000</td>\n      <td>1.000000</td>\n      <td>1.000000</td>\n      <td>1.000000</td>\n      <td>47.623601</td>\n      <td>-122.328874</td>\n      <td>1.000000</td>\n      <td>3.000000</td>\n      <td>1.000000</td>\n      <td>1.000000</td>\n      <td>...</td>\n      <td>10.000000</td>\n      <td>10.000000</td>\n      <td>10.000000</td>\n      <td>10.000000</td>\n      <td>0.0</td>\n      <td>0.000000</td>\n      <td>0.000000</td>\n      <td>0.000000</td>\n      <td>1.000000</td>\n      <td>1.540000</td>\n    </tr>\n    <tr>\n      <th>75%</th>\n      <td>0.000000</td>\n      <td>3.000000</td>\n      <td>1.000000</td>\n      <td>1.000000</td>\n      <td>47.662694</td>\n      <td>-122.310800</td>\n      <td>1.000000</td>\n      <td>4.000000</td>\n      <td>1.000000</td>\n      <td>2.000000</td>\n      <td>...</td>\n      <td>10.000000</td>\n      <td>10.000000</td>\n      <td>10.000000</td>\n      <td>10.000000</td>\n      <td>0.0</td>\n      <td>0.000000</td>\n      <td>0.000000</td>\n      <td>0.000000</td>\n      <td>2.000000</td>\n      <td>3.000000</td>\n    </tr>\n    <tr>\n      <th>max</th>\n      <td>1.000000</td>\n      <td>502.000000</td>\n      <td>1.000000</td>\n      <td>1.000000</td>\n      <td>47.733358</td>\n      <td>-122.240607</td>\n      <td>1.000000</td>\n      <td>16.000000</td>\n      <td>8.000000</td>\n      <td>7.000000</td>\n      <td>...</td>\n      <td>10.000000</td>\n      <td>10.000000</td>\n      <td>10.000000</td>\n      <td>10.000000</td>\n      <td>0.0</td>\n      <td>1.000000</td>\n      <td>1.000000</td>\n      <td>1.000000</td>\n      <td>37.000000</td>\n      <td>12.150000</td>\n    </tr>\n  </tbody>\n</table>\n<p>8 rows × 40 columns</p>\n</div>"
     },
     "metadata": {},
     "execution_count": 7
    }
   ],
   "source": [
    "df_1['host_is_superhost'] = df_1.host_is_superhost.str.replace(\"t\",\"1\").str.replace(\"f\",\"0\").astype(float)\n",
    "df_1['host_has_profile_pic'] = df_1.host_has_profile_pic.str.replace(\"t\",\"1\").str.replace(\"f\",\"0\").astype(float)\n",
    "df_1['host_identity_verified'] = df_1.host_identity_verified.str.replace(\"t\",\"1\").str.replace(\"f\",\"0\").astype(float)\n",
    "df_1['is_location_exact'] = df_1.is_location_exact.str.replace(\"t\",\"1\").str.replace(\"f\",\"0\").astype(float)\n",
    "df_1['has_availability'] = df_1.has_availability.str.replace(\"t\",\"1\").str.replace(\"f\",\"0\").astype(float)\n",
    "df_1['requires_license'] = df_1.requires_license.str.replace(\"t\",\"1\").str.replace(\"f\",\"0\").astype(float)\n",
    "df_1['instant_bookable'] = df_1.instant_bookable.str.replace(\"t\",\"1\").str.replace(\"f\",\"0\").astype(float)\n",
    "df_1['require_guest_profile_picture'] = df_1.require_guest_profile_picture.str.replace(\"t\",\"1\").str.replace(\"f\",\"0\").astype(float)\n",
    "df_1['require_guest_phone_verification'] = df_1.require_guest_phone_verification.str.replace(\"t\",\"1\").str.replace(\"f\",\"0\").astype(float)\n",
    "df_1.describe()"
   ]
  },
  {
   "source": [
    "Segun la descripción existen columnas que en un gran porcentaje tienen el mismo valor, se eliminan las columnas que tiene un 90% o mas el mismo valor, por otro lado \n",
    "square_feet es información muy importante pero en su mayoria tiene valores NaN (solo tiene 90 valores validos), por lo que la eliminamos de manera temporal para las primeras aproximaciones.  "
   ],
   "cell_type": "markdown",
   "metadata": {}
  },
  {
   "cell_type": "code",
   "execution_count": 8,
   "metadata": {},
   "outputs": [],
   "source": [
    "to_drop = ['host_has_profile_pic','requires_license', 'require_guest_profile_picture', 'require_guest_phone_verification','has_availability','square_feet'] \n",
    "df_1drop = df_1.drop(to_drop,axis = 1)"
   ]
  },
  {
   "source": [
    "Se genera mapa de calor deacuerdo a la correlación que exixte entre las variable que son de tipo numerico."
   ],
   "cell_type": "markdown",
   "metadata": {}
  },
  {
   "cell_type": "code",
   "execution_count": 9,
   "metadata": {},
   "outputs": [
    {
     "output_type": "display_data",
     "data": {
      "text/plain": "<Figure size 432x288 with 2 Axes>",
      "image/svg+xml": "<?xml version=\"1.0\" encoding=\"utf-8\" standalone=\"no\"?>\r\n<!DOCTYPE svg PUBLIC \"-//W3C//DTD SVG 1.1//EN\"\r\n  \"http://www.w3.org/Graphics/SVG/1.1/DTD/svg11.dtd\">\r\n<!-- Created with matplotlib (https://matplotlib.org/) -->\r\n<svg height=\"395.114219pt\" version=\"1.1\" viewBox=\"0 0 500.609812 395.114219\" width=\"500.609812pt\" xmlns=\"http://www.w3.org/2000/svg\" xmlns:xlink=\"http://www.w3.org/1999/xlink\">\r\n <metadata>\r\n  <rdf:RDF xmlns:cc=\"http://creativecommons.org/ns#\" xmlns:dc=\"http://purl.org/dc/elements/1.1/\" xmlns:rdf=\"http://www.w3.org/1999/02/22-rdf-syntax-ns#\">\r\n   <cc:Work>\r\n    <dc:type rdf:resource=\"http://purl.org/dc/dcmitype/StillImage\"/>\r\n    <dc:date>2021-02-16T18:37:22.716462</dc:date>\r\n    <dc:format>image/svg+xml</dc:format>\r\n    <dc:creator>\r\n     <cc:Agent>\r\n      <dc:title>Matplotlib v3.3.4, https://matplotlib.org/</dc:title>\r\n     </cc:Agent>\r\n    </dc:creator>\r\n   </cc:Work>\r\n  </rdf:RDF>\r\n </metadata>\r\n <defs>\r\n  <style type=\"text/css\">*{stroke-linecap:butt;stroke-linejoin:round;}</style>\r\n </defs>\r\n <g id=\"figure_1\">\r\n  <g id=\"patch_1\">\r\n   <path d=\"M 0 395.114219 \r\nL 500.609812 395.114219 \r\nL 500.609812 0 \r\nL 0 0 \r\nz\r\n\" style=\"fill:none;\"/>\r\n  </g>\r\n  <g id=\"axes_1\">\r\n   <g id=\"patch_2\">\r\n    <path d=\"M 166.675 228.439219 \r\nL 434.515 228.439219 \r\nL 434.515 10.999219 \r\nL 166.675 10.999219 \r\nz\r\n\" style=\"fill:#ffffff;\"/>\r\n   </g>\r\n   <g id=\"QuadMesh_1\">\r\n    <path clip-path=\"url(#pb54b6ebb95)\" d=\"M 166.675 10.999219 \r\nL 174.552647 10.999219 \r\nL 174.552647 17.394513 \r\nL 166.675 17.394513 \r\nL 166.675 10.999219 \r\n\" style=\"fill:#faebdd;\"/>\r\n    <path clip-path=\"url(#pb54b6ebb95)\" d=\"M 174.552647 10.999219 \r\nL 182.430294 10.999219 \r\nL 182.430294 17.394513 \r\nL 174.552647 17.394513 \r\nL 174.552647 10.999219 \r\n\" style=\"fill:#4c1d4b;\"/>\r\n    <path clip-path=\"url(#pb54b6ebb95)\" d=\"M 182.430294 10.999219 \r\nL 190.307941 10.999219 \r\nL 190.307941 17.394513 \r\nL 182.430294 17.394513 \r\nL 182.430294 10.999219 \r\n\" style=\"fill:#891e5b;\"/>\r\n    <path clip-path=\"url(#pb54b6ebb95)\" d=\"M 190.307941 10.999219 \r\nL 198.185588 10.999219 \r\nL 198.185588 17.394513 \r\nL 190.307941 17.394513 \r\nL 190.307941 10.999219 \r\n\" style=\"fill:#561e4f;\"/>\r\n    <path clip-path=\"url(#pb54b6ebb95)\" d=\"M 198.185588 10.999219 \r\nL 206.063235 10.999219 \r\nL 206.063235 17.394513 \r\nL 198.185588 17.394513 \r\nL 198.185588 10.999219 \r\n\" style=\"fill:#511e4d;\"/>\r\n    <path clip-path=\"url(#pb54b6ebb95)\" d=\"M 206.063235 10.999219 \r\nL 213.940882 10.999219 \r\nL 213.940882 17.394513 \r\nL 206.063235 17.394513 \r\nL 206.063235 10.999219 \r\n\" style=\"fill:#6d1f56;\"/>\r\n    <path clip-path=\"url(#pb54b6ebb95)\" d=\"M 213.940882 10.999219 \r\nL 221.818529 10.999219 \r\nL 221.818529 17.394513 \r\nL 213.940882 17.394513 \r\nL 213.940882 10.999219 \r\n\" style=\"fill:#581e4f;\"/>\r\n    <path clip-path=\"url(#pb54b6ebb95)\" d=\"M 221.818529 10.999219 \r\nL 229.696176 10.999219 \r\nL 229.696176 17.394513 \r\nL 221.818529 17.394513 \r\nL 221.818529 10.999219 \r\n\" style=\"fill:#581e4f;\"/>\r\n    <path clip-path=\"url(#pb54b6ebb95)\" d=\"M 229.696176 10.999219 \r\nL 237.573824 10.999219 \r\nL 237.573824 17.394513 \r\nL 229.696176 17.394513 \r\nL 229.696176 10.999219 \r\n\" style=\"fill:#501d4c;\"/>\r\n    <path clip-path=\"url(#pb54b6ebb95)\" d=\"M 237.573824 10.999219 \r\nL 245.451471 10.999219 \r\nL 245.451471 17.394513 \r\nL 237.573824 17.394513 \r\nL 237.573824 10.999219 \r\n\" style=\"fill:#511e4d;\"/>\r\n    <path clip-path=\"url(#pb54b6ebb95)\" d=\"M 245.451471 10.999219 \r\nL 253.329118 10.999219 \r\nL 253.329118 17.394513 \r\nL 245.451471 17.394513 \r\nL 245.451471 10.999219 \r\n\" style=\"fill:#5c1e51;\"/>\r\n    <path clip-path=\"url(#pb54b6ebb95)\" d=\"M 253.329118 10.999219 \r\nL 261.206765 10.999219 \r\nL 261.206765 17.394513 \r\nL 253.329118 17.394513 \r\nL 253.329118 10.999219 \r\n\" style=\"fill:#641f54;\"/>\r\n    <path clip-path=\"url(#pb54b6ebb95)\" d=\"M 261.206765 10.999219 \r\nL 269.084412 10.999219 \r\nL 269.084412 17.394513 \r\nL 261.206765 17.394513 \r\nL 261.206765 10.999219 \r\n\" style=\"fill:#811e5a;\"/>\r\n    <path clip-path=\"url(#pb54b6ebb95)\" d=\"M 269.084412 10.999219 \r\nL 276.962059 10.999219 \r\nL 276.962059 17.394513 \r\nL 269.084412 17.394513 \r\nL 269.084412 10.999219 \r\n\" style=\"fill:#541e4e;\"/>\r\n    <path clip-path=\"url(#pb54b6ebb95)\" d=\"M 276.962059 10.999219 \r\nL 284.839706 10.999219 \r\nL 284.839706 17.394513 \r\nL 276.962059 17.394513 \r\nL 276.962059 10.999219 \r\n\" style=\"fill:#4c1d4b;\"/>\r\n    <path clip-path=\"url(#pb54b6ebb95)\" d=\"M 284.839706 10.999219 \r\nL 292.717353 10.999219 \r\nL 292.717353 17.394513 \r\nL 284.839706 17.394513 \r\nL 284.839706 10.999219 \r\n\" style=\"fill:#6d1f56;\"/>\r\n    <path clip-path=\"url(#pb54b6ebb95)\" d=\"M 292.717353 10.999219 \r\nL 300.595 10.999219 \r\nL 300.595 17.394513 \r\nL 292.717353 17.394513 \r\nL 292.717353 10.999219 \r\n\" style=\"fill:#661f54;\"/>\r\n    <path clip-path=\"url(#pb54b6ebb95)\" d=\"M 300.595 10.999219 \r\nL 308.472647 10.999219 \r\nL 308.472647 17.394513 \r\nL 300.595 17.394513 \r\nL 300.595 10.999219 \r\n\" style=\"fill:#581e4f;\"/>\r\n    <path clip-path=\"url(#pb54b6ebb95)\" d=\"M 308.472647 10.999219 \r\nL 316.350294 10.999219 \r\nL 316.350294 17.394513 \r\nL 308.472647 17.394513 \r\nL 308.472647 10.999219 \r\n\" style=\"fill:#4e1d4b;\"/>\r\n    <path clip-path=\"url(#pb54b6ebb95)\" d=\"M 316.350294 10.999219 \r\nL 324.227941 10.999219 \r\nL 324.227941 17.394513 \r\nL 316.350294 17.394513 \r\nL 316.350294 10.999219 \r\n\" style=\"fill:#5e1f52;\"/>\r\n    <path clip-path=\"url(#pb54b6ebb95)\" d=\"M 324.227941 10.999219 \r\nL 332.105588 10.999219 \r\nL 332.105588 17.394513 \r\nL 324.227941 17.394513 \r\nL 324.227941 10.999219 \r\n\" style=\"fill:#631f53;\"/>\r\n    <path clip-path=\"url(#pb54b6ebb95)\" d=\"M 332.105588 10.999219 \r\nL 339.983235 10.999219 \r\nL 339.983235 17.394513 \r\nL 332.105588 17.394513 \r\nL 332.105588 10.999219 \r\n\" style=\"fill:#661f54;\"/>\r\n    <path clip-path=\"url(#pb54b6ebb95)\" d=\"M 339.983235 10.999219 \r\nL 347.860882 10.999219 \r\nL 347.860882 17.394513 \r\nL 339.983235 17.394513 \r\nL 339.983235 10.999219 \r\n\" style=\"fill:#541e4e;\"/>\r\n    <path clip-path=\"url(#pb54b6ebb95)\" d=\"M 347.860882 10.999219 \r\nL 355.738529 10.999219 \r\nL 355.738529 17.394513 \r\nL 347.860882 17.394513 \r\nL 347.860882 10.999219 \r\n\" style=\"fill:#b01759;\"/>\r\n    <path clip-path=\"url(#pb54b6ebb95)\" d=\"M 355.738529 10.999219 \r\nL 363.616176 10.999219 \r\nL 363.616176 17.394513 \r\nL 355.738529 17.394513 \r\nL 355.738529 10.999219 \r\n\" style=\"fill:#a8185a;\"/>\r\n    <path clip-path=\"url(#pb54b6ebb95)\" d=\"M 363.616176 10.999219 \r\nL 371.493824 10.999219 \r\nL 371.493824 17.394513 \r\nL 363.616176 17.394513 \r\nL 363.616176 10.999219 \r\n\" style=\"fill:#9f1a5b;\"/>\r\n    <path clip-path=\"url(#pb54b6ebb95)\" d=\"M 371.493824 10.999219 \r\nL 379.371471 10.999219 \r\nL 379.371471 17.394513 \r\nL 371.493824 17.394513 \r\nL 371.493824 10.999219 \r\n\" style=\"fill:#a4195b;\"/>\r\n    <path clip-path=\"url(#pb54b6ebb95)\" d=\"M 379.371471 10.999219 \r\nL 387.249118 10.999219 \r\nL 387.249118 17.394513 \r\nL 379.371471 17.394513 \r\nL 379.371471 10.999219 \r\n\" style=\"fill:#901d5b;\"/>\r\n    <path clip-path=\"url(#pb54b6ebb95)\" d=\"M 387.249118 10.999219 \r\nL 395.126765 10.999219 \r\nL 395.126765 17.394513 \r\nL 387.249118 17.394513 \r\nL 387.249118 10.999219 \r\n\" style=\"fill:#8e1d5b;\"/>\r\n    <path clip-path=\"url(#pb54b6ebb95)\" d=\"M 395.126765 10.999219 \r\nL 403.004412 10.999219 \r\nL 403.004412 17.394513 \r\nL 395.126765 17.394513 \r\nL 395.126765 10.999219 \r\n\" style=\"fill:#821e5a;\"/>\r\n    <path clip-path=\"url(#pb54b6ebb95)\" d=\"M 403.004412 10.999219 \r\nL 410.882059 10.999219 \r\nL 410.882059 17.394513 \r\nL 403.004412 17.394513 \r\nL 403.004412 10.999219 \r\n\" style=\"fill:#a3195b;\"/>\r\n    <path clip-path=\"url(#pb54b6ebb95)\" d=\"M 410.882059 10.999219 \r\nL 418.759706 10.999219 \r\nL 418.759706 17.394513 \r\nL 410.882059 17.394513 \r\nL 410.882059 10.999219 \r\n\" style=\"fill:#731f58;\"/>\r\n    <path clip-path=\"url(#pb54b6ebb95)\" d=\"M 418.759706 10.999219 \r\nL 426.637353 10.999219 \r\nL 426.637353 17.394513 \r\nL 418.759706 17.394513 \r\nL 418.759706 10.999219 \r\n\" style=\"fill:#3d1a42;\"/>\r\n    <path clip-path=\"url(#pb54b6ebb95)\" d=\"M 426.637353 10.999219 \r\nL 434.515 10.999219 \r\nL 434.515 17.394513 \r\nL 426.637353 17.394513 \r\nL 426.637353 10.999219 \r\n\" style=\"fill:#b21758;\"/>\r\n    <path clip-path=\"url(#pb54b6ebb95)\" d=\"M 166.675 17.394513 \r\nL 174.552647 17.394513 \r\nL 174.552647 23.789807 \r\nL 166.675 23.789807 \r\nL 166.675 17.394513 \r\n\" style=\"fill:#4c1d4b;\"/>\r\n    <path clip-path=\"url(#pb54b6ebb95)\" d=\"M 174.552647 17.394513 \r\nL 182.430294 17.394513 \r\nL 182.430294 23.789807 \r\nL 174.552647 23.789807 \r\nL 174.552647 17.394513 \r\n\" style=\"fill:#faebdd;\"/>\r\n    <path clip-path=\"url(#pb54b6ebb95)\" d=\"M 182.430294 17.394513 \r\nL 190.307941 17.394513 \r\nL 190.307941 23.789807 \r\nL 182.430294 23.789807 \r\nL 182.430294 17.394513 \r\n\" style=\"fill:#751f58;\"/>\r\n    <path clip-path=\"url(#pb54b6ebb95)\" d=\"M 190.307941 17.394513 \r\nL 198.185588 17.394513 \r\nL 198.185588 23.789807 \r\nL 190.307941 23.789807 \r\nL 190.307941 17.394513 \r\n\" style=\"fill:#561e4f;\"/>\r\n    <path clip-path=\"url(#pb54b6ebb95)\" d=\"M 198.185588 17.394513 \r\nL 206.063235 17.394513 \r\nL 206.063235 23.789807 \r\nL 198.185588 23.789807 \r\nL 198.185588 17.394513 \r\n\" style=\"fill:#591e50;\"/>\r\n    <path clip-path=\"url(#pb54b6ebb95)\" d=\"M 206.063235 17.394513 \r\nL 213.940882 17.394513 \r\nL 213.940882 23.789807 \r\nL 206.063235 23.789807 \r\nL 206.063235 17.394513 \r\n\" style=\"fill:#591e50;\"/>\r\n    <path clip-path=\"url(#pb54b6ebb95)\" d=\"M 213.940882 17.394513 \r\nL 221.818529 17.394513 \r\nL 221.818529 23.789807 \r\nL 213.940882 23.789807 \r\nL 213.940882 17.394513 \r\n\" style=\"fill:#7d1f5a;\"/>\r\n    <path clip-path=\"url(#pb54b6ebb95)\" d=\"M 221.818529 17.394513 \r\nL 229.696176 17.394513 \r\nL 229.696176 23.789807 \r\nL 221.818529 23.789807 \r\nL 221.818529 17.394513 \r\n\" style=\"fill:#6e1f57;\"/>\r\n    <path clip-path=\"url(#pb54b6ebb95)\" d=\"M 229.696176 17.394513 \r\nL 237.573824 17.394513 \r\nL 237.573824 23.789807 \r\nL 229.696176 23.789807 \r\nL 229.696176 17.394513 \r\n\" style=\"fill:#6e1f57;\"/>\r\n    <path clip-path=\"url(#pb54b6ebb95)\" d=\"M 237.573824 17.394513 \r\nL 245.451471 17.394513 \r\nL 245.451471 23.789807 \r\nL 237.573824 23.789807 \r\nL 237.573824 17.394513 \r\n\" style=\"fill:#751f58;\"/>\r\n    <path clip-path=\"url(#pb54b6ebb95)\" d=\"M 245.451471 17.394513 \r\nL 253.329118 17.394513 \r\nL 253.329118 23.789807 \r\nL 245.451471 23.789807 \r\nL 245.451471 17.394513 \r\n\" style=\"fill:#781f59;\"/>\r\n    <path clip-path=\"url(#pb54b6ebb95)\" d=\"M 253.329118 17.394513 \r\nL 261.206765 17.394513 \r\nL 261.206765 23.789807 \r\nL 253.329118 23.789807 \r\nL 253.329118 17.394513 \r\n\" style=\"fill:#681f55;\"/>\r\n    <path clip-path=\"url(#pb54b6ebb95)\" d=\"M 261.206765 17.394513 \r\nL 269.084412 17.394513 \r\nL 269.084412 23.789807 \r\nL 261.206765 23.789807 \r\nL 261.206765 17.394513 \r\n\" style=\"fill:#761f58;\"/>\r\n    <path clip-path=\"url(#pb54b6ebb95)\" d=\"M 269.084412 17.394513 \r\nL 276.962059 17.394513 \r\nL 276.962059 23.789807 \r\nL 269.084412 23.789807 \r\nL 269.084412 17.394513 \r\n\" style=\"fill:#631f53;\"/>\r\n    <path clip-path=\"url(#pb54b6ebb95)\" d=\"M 276.962059 17.394513 \r\nL 284.839706 17.394513 \r\nL 284.839706 23.789807 \r\nL 276.962059 23.789807 \r\nL 276.962059 17.394513 \r\n\" style=\"fill:#981b5b;\"/>\r\n    <path clip-path=\"url(#pb54b6ebb95)\" d=\"M 284.839706 17.394513 \r\nL 292.717353 17.394513 \r\nL 292.717353 23.789807 \r\nL 284.839706 23.789807 \r\nL 284.839706 17.394513 \r\n\" style=\"fill:#461c48;\"/>\r\n    <path clip-path=\"url(#pb54b6ebb95)\" d=\"M 292.717353 17.394513 \r\nL 300.595 17.394513 \r\nL 300.595 23.789807 \r\nL 292.717353 23.789807 \r\nL 292.717353 17.394513 \r\n\" style=\"fill:#461c48;\"/>\r\n    <path clip-path=\"url(#pb54b6ebb95)\" d=\"M 300.595 17.394513 \r\nL 308.472647 17.394513 \r\nL 308.472647 23.789807 \r\nL 300.595 23.789807 \r\nL 300.595 17.394513 \r\n\" style=\"fill:#591e50;\"/>\r\n    <path clip-path=\"url(#pb54b6ebb95)\" d=\"M 308.472647 17.394513 \r\nL 316.350294 17.394513 \r\nL 316.350294 23.789807 \r\nL 308.472647 23.789807 \r\nL 308.472647 17.394513 \r\n\" style=\"fill:#611f53;\"/>\r\n    <path clip-path=\"url(#pb54b6ebb95)\" d=\"M 316.350294 17.394513 \r\nL 324.227941 17.394513 \r\nL 324.227941 23.789807 \r\nL 316.350294 23.789807 \r\nL 316.350294 17.394513 \r\n\" style=\"fill:#811e5a;\"/>\r\n    <path clip-path=\"url(#pb54b6ebb95)\" d=\"M 324.227941 17.394513 \r\nL 332.105588 17.394513 \r\nL 332.105588 23.789807 \r\nL 324.227941 23.789807 \r\nL 324.227941 17.394513 \r\n\" style=\"fill:#821e5a;\"/>\r\n    <path clip-path=\"url(#pb54b6ebb95)\" d=\"M 332.105588 17.394513 \r\nL 339.983235 17.394513 \r\nL 339.983235 23.789807 \r\nL 332.105588 23.789807 \r\nL 332.105588 17.394513 \r\n\" style=\"fill:#811e5a;\"/>\r\n    <path clip-path=\"url(#pb54b6ebb95)\" d=\"M 339.983235 17.394513 \r\nL 347.860882 17.394513 \r\nL 347.860882 23.789807 \r\nL 339.983235 23.789807 \r\nL 339.983235 17.394513 \r\n\" style=\"fill:#751f58;\"/>\r\n    <path clip-path=\"url(#pb54b6ebb95)\" d=\"M 347.860882 17.394513 \r\nL 355.738529 17.394513 \r\nL 355.738529 23.789807 \r\nL 347.860882 23.789807 \r\nL 347.860882 17.394513 \r\n\" style=\"fill:#461c48;\"/>\r\n    <path clip-path=\"url(#pb54b6ebb95)\" d=\"M 355.738529 17.394513 \r\nL 363.616176 17.394513 \r\nL 363.616176 23.789807 \r\nL 355.738529 23.789807 \r\nL 355.738529 17.394513 \r\n\" style=\"fill:#381a40;\"/>\r\n    <path clip-path=\"url(#pb54b6ebb95)\" d=\"M 363.616176 17.394513 \r\nL 371.493824 17.394513 \r\nL 371.493824 23.789807 \r\nL 363.616176 23.789807 \r\nL 363.616176 17.394513 \r\n\" style=\"fill:#34193d;\"/>\r\n    <path clip-path=\"url(#pb54b6ebb95)\" d=\"M 371.493824 17.394513 \r\nL 379.371471 17.394513 \r\nL 379.371471 23.789807 \r\nL 371.493824 23.789807 \r\nL 371.493824 17.394513 \r\n\" style=\"fill:#4b1d4a;\"/>\r\n    <path clip-path=\"url(#pb54b6ebb95)\" d=\"M 379.371471 17.394513 \r\nL 387.249118 17.394513 \r\nL 387.249118 23.789807 \r\nL 379.371471 23.789807 \r\nL 379.371471 17.394513 \r\n\" style=\"fill:#211330;\"/>\r\n    <path clip-path=\"url(#pb54b6ebb95)\" d=\"M 387.249118 17.394513 \r\nL 395.126765 17.394513 \r\nL 395.126765 23.789807 \r\nL 387.249118 23.789807 \r\nL 387.249118 17.394513 \r\n\" style=\"fill:#30173a;\"/>\r\n    <path clip-path=\"url(#pb54b6ebb95)\" d=\"M 395.126765 17.394513 \r\nL 403.004412 17.394513 \r\nL 403.004412 23.789807 \r\nL 395.126765 23.789807 \r\nL 395.126765 17.394513 \r\n\" style=\"fill:#611f53;\"/>\r\n    <path clip-path=\"url(#pb54b6ebb95)\" d=\"M 403.004412 17.394513 \r\nL 410.882059 17.394513 \r\nL 410.882059 23.789807 \r\nL 403.004412 23.789807 \r\nL 403.004412 17.394513 \r\n\" style=\"fill:#37193f;\"/>\r\n    <path clip-path=\"url(#pb54b6ebb95)\" d=\"M 410.882059 17.394513 \r\nL 418.759706 17.394513 \r\nL 418.759706 23.789807 \r\nL 410.882059 23.789807 \r\nL 410.882059 17.394513 \r\n\" style=\"fill:#4b1d4a;\"/>\r\n    <path clip-path=\"url(#pb54b6ebb95)\" d=\"M 418.759706 17.394513 \r\nL 426.637353 17.394513 \r\nL 426.637353 23.789807 \r\nL 418.759706 23.789807 \r\nL 418.759706 17.394513 \r\n\" style=\"fill:#a3195b;\"/>\r\n    <path clip-path=\"url(#pb54b6ebb95)\" d=\"M 426.637353 17.394513 \r\nL 434.515 17.394513 \r\nL 434.515 23.789807 \r\nL 426.637353 23.789807 \r\nL 426.637353 17.394513 \r\n\" style=\"fill:#35193e;\"/>\r\n    <path clip-path=\"url(#pb54b6ebb95)\" d=\"M 166.675 23.789807 \r\nL 174.552647 23.789807 \r\nL 174.552647 30.185101 \r\nL 166.675 30.185101 \r\nL 166.675 23.789807 \r\n\" style=\"fill:#891e5b;\"/>\r\n    <path clip-path=\"url(#pb54b6ebb95)\" d=\"M 174.552647 23.789807 \r\nL 182.430294 23.789807 \r\nL 182.430294 30.185101 \r\nL 174.552647 30.185101 \r\nL 174.552647 23.789807 \r\n\" style=\"fill:#751f58;\"/>\r\n    <path clip-path=\"url(#pb54b6ebb95)\" d=\"M 182.430294 23.789807 \r\nL 190.307941 23.789807 \r\nL 190.307941 30.185101 \r\nL 182.430294 30.185101 \r\nL 182.430294 23.789807 \r\n\" style=\"fill:#faebdd;\"/>\r\n    <path clip-path=\"url(#pb54b6ebb95)\" d=\"M 190.307941 23.789807 \r\nL 198.185588 23.789807 \r\nL 198.185588 30.185101 \r\nL 190.307941 30.185101 \r\nL 190.307941 23.789807 \r\n\" style=\"fill:#531e4d;\"/>\r\n    <path clip-path=\"url(#pb54b6ebb95)\" d=\"M 198.185588 23.789807 \r\nL 206.063235 23.789807 \r\nL 206.063235 30.185101 \r\nL 198.185588 30.185101 \r\nL 198.185588 23.789807 \r\n\" style=\"fill:#511e4d;\"/>\r\n    <path clip-path=\"url(#pb54b6ebb95)\" d=\"M 206.063235 23.789807 \r\nL 213.940882 23.789807 \r\nL 213.940882 30.185101 \r\nL 206.063235 30.185101 \r\nL 206.063235 23.789807 \r\n\" style=\"fill:#691f55;\"/>\r\n    <path clip-path=\"url(#pb54b6ebb95)\" d=\"M 213.940882 23.789807 \r\nL 221.818529 23.789807 \r\nL 221.818529 30.185101 \r\nL 213.940882 30.185101 \r\nL 213.940882 23.789807 \r\n\" style=\"fill:#661f54;\"/>\r\n    <path clip-path=\"url(#pb54b6ebb95)\" d=\"M 221.818529 23.789807 \r\nL 229.696176 23.789807 \r\nL 229.696176 30.185101 \r\nL 221.818529 30.185101 \r\nL 221.818529 23.789807 \r\n\" style=\"fill:#561e4f;\"/>\r\n    <path clip-path=\"url(#pb54b6ebb95)\" d=\"M 229.696176 23.789807 \r\nL 237.573824 23.789807 \r\nL 237.573824 30.185101 \r\nL 229.696176 30.185101 \r\nL 229.696176 23.789807 \r\n\" style=\"fill:#561e4f;\"/>\r\n    <path clip-path=\"url(#pb54b6ebb95)\" d=\"M 237.573824 23.789807 \r\nL 245.451471 23.789807 \r\nL 245.451471 30.185101 \r\nL 237.573824 30.185101 \r\nL 237.573824 23.789807 \r\n\" style=\"fill:#5e1f52;\"/>\r\n    <path clip-path=\"url(#pb54b6ebb95)\" d=\"M 245.451471 23.789807 \r\nL 253.329118 23.789807 \r\nL 253.329118 30.185101 \r\nL 245.451471 30.185101 \r\nL 245.451471 23.789807 \r\n\" style=\"fill:#5b1e51;\"/>\r\n    <path clip-path=\"url(#pb54b6ebb95)\" d=\"M 253.329118 23.789807 \r\nL 261.206765 23.789807 \r\nL 261.206765 30.185101 \r\nL 253.329118 30.185101 \r\nL 253.329118 23.789807 \r\n\" style=\"fill:#581e4f;\"/>\r\n    <path clip-path=\"url(#pb54b6ebb95)\" d=\"M 261.206765 23.789807 \r\nL 269.084412 23.789807 \r\nL 269.084412 30.185101 \r\nL 261.206765 30.185101 \r\nL 261.206765 23.789807 \r\n\" style=\"fill:#5c1e51;\"/>\r\n    <path clip-path=\"url(#pb54b6ebb95)\" d=\"M 269.084412 23.789807 \r\nL 276.962059 23.789807 \r\nL 276.962059 30.185101 \r\nL 269.084412 30.185101 \r\nL 269.084412 23.789807 \r\n\" style=\"fill:#591e50;\"/>\r\n    <path clip-path=\"url(#pb54b6ebb95)\" d=\"M 276.962059 23.789807 \r\nL 284.839706 23.789807 \r\nL 284.839706 30.185101 \r\nL 276.962059 30.185101 \r\nL 276.962059 23.789807 \r\n\" style=\"fill:#5e1f52;\"/>\r\n    <path clip-path=\"url(#pb54b6ebb95)\" d=\"M 284.839706 23.789807 \r\nL 292.717353 23.789807 \r\nL 292.717353 30.185101 \r\nL 284.839706 30.185101 \r\nL 284.839706 23.789807 \r\n\" style=\"fill:#631f53;\"/>\r\n    <path clip-path=\"url(#pb54b6ebb95)\" d=\"M 292.717353 23.789807 \r\nL 300.595 23.789807 \r\nL 300.595 30.185101 \r\nL 292.717353 30.185101 \r\nL 292.717353 23.789807 \r\n\" style=\"fill:#681f55;\"/>\r\n    <path clip-path=\"url(#pb54b6ebb95)\" d=\"M 300.595 23.789807 \r\nL 308.472647 23.789807 \r\nL 308.472647 30.185101 \r\nL 300.595 30.185101 \r\nL 300.595 23.789807 \r\n\" style=\"fill:#511e4d;\"/>\r\n    <path clip-path=\"url(#pb54b6ebb95)\" d=\"M 308.472647 23.789807 \r\nL 316.350294 23.789807 \r\nL 316.350294 30.185101 \r\nL 308.472647 30.185101 \r\nL 308.472647 23.789807 \r\n\" style=\"fill:#561e4f;\"/>\r\n    <path clip-path=\"url(#pb54b6ebb95)\" d=\"M 316.350294 23.789807 \r\nL 324.227941 23.789807 \r\nL 324.227941 30.185101 \r\nL 316.350294 30.185101 \r\nL 316.350294 23.789807 \r\n\" style=\"fill:#601f52;\"/>\r\n    <path clip-path=\"url(#pb54b6ebb95)\" d=\"M 324.227941 23.789807 \r\nL 332.105588 23.789807 \r\nL 332.105588 30.185101 \r\nL 324.227941 30.185101 \r\nL 324.227941 23.789807 \r\n\" style=\"fill:#631f53;\"/>\r\n    <path clip-path=\"url(#pb54b6ebb95)\" d=\"M 332.105588 23.789807 \r\nL 339.983235 23.789807 \r\nL 339.983235 30.185101 \r\nL 332.105588 30.185101 \r\nL 332.105588 23.789807 \r\n\" style=\"fill:#681f55;\"/>\r\n    <path clip-path=\"url(#pb54b6ebb95)\" d=\"M 339.983235 23.789807 \r\nL 347.860882 23.789807 \r\nL 347.860882 30.185101 \r\nL 339.983235 30.185101 \r\nL 339.983235 23.789807 \r\n\" style=\"fill:#601f52;\"/>\r\n    <path clip-path=\"url(#pb54b6ebb95)\" d=\"M 347.860882 23.789807 \r\nL 355.738529 23.789807 \r\nL 355.738529 30.185101 \r\nL 347.860882 30.185101 \r\nL 347.860882 23.789807 \r\n\" style=\"fill:#781f59;\"/>\r\n    <path clip-path=\"url(#pb54b6ebb95)\" d=\"M 355.738529 23.789807 \r\nL 363.616176 23.789807 \r\nL 363.616176 30.185101 \r\nL 355.738529 30.185101 \r\nL 355.738529 23.789807 \r\n\" style=\"fill:#751f58;\"/>\r\n    <path clip-path=\"url(#pb54b6ebb95)\" d=\"M 363.616176 23.789807 \r\nL 371.493824 23.789807 \r\nL 371.493824 30.185101 \r\nL 363.616176 30.185101 \r\nL 363.616176 23.789807 \r\n\" style=\"fill:#6d1f56;\"/>\r\n    <path clip-path=\"url(#pb54b6ebb95)\" d=\"M 371.493824 23.789807 \r\nL 379.371471 23.789807 \r\nL 379.371471 30.185101 \r\nL 371.493824 30.185101 \r\nL 371.493824 23.789807 \r\n\" style=\"fill:#6e1f57;\"/>\r\n    <path clip-path=\"url(#pb54b6ebb95)\" d=\"M 379.371471 23.789807 \r\nL 387.249118 23.789807 \r\nL 387.249118 30.185101 \r\nL 379.371471 30.185101 \r\nL 379.371471 23.789807 \r\n\" style=\"fill:#661f54;\"/>\r\n    <path clip-path=\"url(#pb54b6ebb95)\" d=\"M 387.249118 23.789807 \r\nL 395.126765 23.789807 \r\nL 395.126765 30.185101 \r\nL 387.249118 30.185101 \r\nL 387.249118 23.789807 \r\n\" style=\"fill:#681f55;\"/>\r\n    <path clip-path=\"url(#pb54b6ebb95)\" d=\"M 395.126765 23.789807 \r\nL 403.004412 23.789807 \r\nL 403.004412 30.185101 \r\nL 395.126765 30.185101 \r\nL 395.126765 23.789807 \r\n\" style=\"fill:#611f53;\"/>\r\n    <path clip-path=\"url(#pb54b6ebb95)\" d=\"M 403.004412 23.789807 \r\nL 410.882059 23.789807 \r\nL 410.882059 30.185101 \r\nL 403.004412 30.185101 \r\nL 403.004412 23.789807 \r\n\" style=\"fill:#631f53;\"/>\r\n    <path clip-path=\"url(#pb54b6ebb95)\" d=\"M 410.882059 23.789807 \r\nL 418.759706 23.789807 \r\nL 418.759706 30.185101 \r\nL 410.882059 30.185101 \r\nL 410.882059 23.789807 \r\n\" style=\"fill:#591e50;\"/>\r\n    <path clip-path=\"url(#pb54b6ebb95)\" d=\"M 418.759706 23.789807 \r\nL 426.637353 23.789807 \r\nL 426.637353 30.185101 \r\nL 418.759706 30.185101 \r\nL 418.759706 23.789807 \r\n\" style=\"fill:#6d1f56;\"/>\r\n    <path clip-path=\"url(#pb54b6ebb95)\" d=\"M 426.637353 23.789807 \r\nL 434.515 23.789807 \r\nL 434.515 30.185101 \r\nL 426.637353 30.185101 \r\nL 426.637353 23.789807 \r\n\" style=\"fill:#6e1f57;\"/>\r\n    <path clip-path=\"url(#pb54b6ebb95)\" d=\"M 166.675 30.185101 \r\nL 174.552647 30.185101 \r\nL 174.552647 36.580395 \r\nL 166.675 36.580395 \r\nL 166.675 30.185101 \r\n\" style=\"fill:#561e4f;\"/>\r\n    <path clip-path=\"url(#pb54b6ebb95)\" d=\"M 174.552647 30.185101 \r\nL 182.430294 30.185101 \r\nL 182.430294 36.580395 \r\nL 174.552647 36.580395 \r\nL 174.552647 30.185101 \r\n\" style=\"fill:#561e4f;\"/>\r\n    <path clip-path=\"url(#pb54b6ebb95)\" d=\"M 182.430294 30.185101 \r\nL 190.307941 30.185101 \r\nL 190.307941 36.580395 \r\nL 182.430294 36.580395 \r\nL 182.430294 30.185101 \r\n\" style=\"fill:#531e4d;\"/>\r\n    <path clip-path=\"url(#pb54b6ebb95)\" d=\"M 190.307941 30.185101 \r\nL 198.185588 30.185101 \r\nL 198.185588 36.580395 \r\nL 190.307941 36.580395 \r\nL 190.307941 30.185101 \r\n\" style=\"fill:#faebdd;\"/>\r\n    <path clip-path=\"url(#pb54b6ebb95)\" d=\"M 198.185588 30.185101 \r\nL 206.063235 30.185101 \r\nL 206.063235 36.580395 \r\nL 198.185588 36.580395 \r\nL 198.185588 30.185101 \r\n\" style=\"fill:#2b1637;\"/>\r\n    <path clip-path=\"url(#pb54b6ebb95)\" d=\"M 206.063235 30.185101 \r\nL 213.940882 30.185101 \r\nL 213.940882 36.580395 \r\nL 206.063235 36.580395 \r\nL 206.063235 30.185101 \r\n\" style=\"fill:#641f54;\"/>\r\n    <path clip-path=\"url(#pb54b6ebb95)\" d=\"M 213.940882 30.185101 \r\nL 221.818529 30.185101 \r\nL 221.818529 36.580395 \r\nL 213.940882 36.580395 \r\nL 213.940882 30.185101 \r\n\" style=\"fill:#591e50;\"/>\r\n    <path clip-path=\"url(#pb54b6ebb95)\" d=\"M 221.818529 30.185101 \r\nL 229.696176 30.185101 \r\nL 229.696176 36.580395 \r\nL 221.818529 36.580395 \r\nL 221.818529 30.185101 \r\n\" style=\"fill:#541e4e;\"/>\r\n    <path clip-path=\"url(#pb54b6ebb95)\" d=\"M 229.696176 30.185101 \r\nL 237.573824 30.185101 \r\nL 237.573824 36.580395 \r\nL 229.696176 36.580395 \r\nL 229.696176 30.185101 \r\n\" style=\"fill:#661f54;\"/>\r\n    <path clip-path=\"url(#pb54b6ebb95)\" d=\"M 237.573824 30.185101 \r\nL 245.451471 30.185101 \r\nL 245.451471 36.580395 \r\nL 237.573824 36.580395 \r\nL 237.573824 30.185101 \r\n\" style=\"fill:#611f53;\"/>\r\n    <path clip-path=\"url(#pb54b6ebb95)\" d=\"M 245.451471 30.185101 \r\nL 253.329118 30.185101 \r\nL 253.329118 36.580395 \r\nL 245.451471 36.580395 \r\nL 245.451471 30.185101 \r\n\" style=\"fill:#561e4f;\"/>\r\n    <path clip-path=\"url(#pb54b6ebb95)\" d=\"M 253.329118 30.185101 \r\nL 261.206765 30.185101 \r\nL 261.206765 36.580395 \r\nL 253.329118 36.580395 \r\nL 253.329118 30.185101 \r\n\" style=\"fill:#511e4d;\"/>\r\n    <path clip-path=\"url(#pb54b6ebb95)\" d=\"M 261.206765 30.185101 \r\nL 269.084412 30.185101 \r\nL 269.084412 36.580395 \r\nL 261.206765 36.580395 \r\nL 261.206765 30.185101 \r\n\" style=\"fill:#511e4d;\"/>\r\n    <path clip-path=\"url(#pb54b6ebb95)\" d=\"M 269.084412 30.185101 \r\nL 276.962059 30.185101 \r\nL 276.962059 36.580395 \r\nL 269.084412 36.580395 \r\nL 269.084412 30.185101 \r\n\" style=\"fill:#5b1e51;\"/>\r\n    <path clip-path=\"url(#pb54b6ebb95)\" d=\"M 276.962059 30.185101 \r\nL 284.839706 30.185101 \r\nL 284.839706 36.580395 \r\nL 276.962059 36.580395 \r\nL 276.962059 30.185101 \r\n\" style=\"fill:#5e1f52;\"/>\r\n    <path clip-path=\"url(#pb54b6ebb95)\" d=\"M 284.839706 30.185101 \r\nL 292.717353 30.185101 \r\nL 292.717353 36.580395 \r\nL 284.839706 36.580395 \r\nL 284.839706 30.185101 \r\n\" style=\"fill:#641f54;\"/>\r\n    <path clip-path=\"url(#pb54b6ebb95)\" d=\"M 292.717353 30.185101 \r\nL 300.595 30.185101 \r\nL 300.595 36.580395 \r\nL 292.717353 36.580395 \r\nL 292.717353 30.185101 \r\n\" style=\"fill:#591e50;\"/>\r\n    <path clip-path=\"url(#pb54b6ebb95)\" d=\"M 300.595 30.185101 \r\nL 308.472647 30.185101 \r\nL 308.472647 36.580395 \r\nL 300.595 36.580395 \r\nL 300.595 30.185101 \r\n\" style=\"fill:#591e50;\"/>\r\n    <path clip-path=\"url(#pb54b6ebb95)\" d=\"M 308.472647 30.185101 \r\nL 316.350294 30.185101 \r\nL 316.350294 36.580395 \r\nL 308.472647 36.580395 \r\nL 308.472647 30.185101 \r\n\" style=\"fill:#581e4f;\"/>\r\n    <path clip-path=\"url(#pb54b6ebb95)\" d=\"M 316.350294 30.185101 \r\nL 324.227941 30.185101 \r\nL 324.227941 36.580395 \r\nL 316.350294 36.580395 \r\nL 316.350294 30.185101 \r\n\" style=\"fill:#531e4d;\"/>\r\n    <path clip-path=\"url(#pb54b6ebb95)\" d=\"M 324.227941 30.185101 \r\nL 332.105588 30.185101 \r\nL 332.105588 36.580395 \r\nL 324.227941 36.580395 \r\nL 324.227941 30.185101 \r\n\" style=\"fill:#4e1d4b;\"/>\r\n    <path clip-path=\"url(#pb54b6ebb95)\" d=\"M 332.105588 30.185101 \r\nL 339.983235 30.185101 \r\nL 339.983235 36.580395 \r\nL 332.105588 36.580395 \r\nL 332.105588 30.185101 \r\n\" style=\"fill:#4e1d4b;\"/>\r\n    <path clip-path=\"url(#pb54b6ebb95)\" d=\"M 339.983235 30.185101 \r\nL 347.860882 30.185101 \r\nL 347.860882 36.580395 \r\nL 339.983235 36.580395 \r\nL 339.983235 30.185101 \r\n\" style=\"fill:#591e50;\"/>\r\n    <path clip-path=\"url(#pb54b6ebb95)\" d=\"M 347.860882 30.185101 \r\nL 355.738529 30.185101 \r\nL 355.738529 36.580395 \r\nL 347.860882 36.580395 \r\nL 347.860882 30.185101 \r\n\" style=\"fill:#501d4c;\"/>\r\n    <path clip-path=\"url(#pb54b6ebb95)\" d=\"M 355.738529 30.185101 \r\nL 363.616176 30.185101 \r\nL 363.616176 36.580395 \r\nL 355.738529 36.580395 \r\nL 355.738529 30.185101 \r\n\" style=\"fill:#4e1d4b;\"/>\r\n    <path clip-path=\"url(#pb54b6ebb95)\" d=\"M 363.616176 30.185101 \r\nL 371.493824 30.185101 \r\nL 371.493824 36.580395 \r\nL 363.616176 36.580395 \r\nL 363.616176 30.185101 \r\n\" style=\"fill:#541e4e;\"/>\r\n    <path clip-path=\"url(#pb54b6ebb95)\" d=\"M 371.493824 30.185101 \r\nL 379.371471 30.185101 \r\nL 379.371471 36.580395 \r\nL 371.493824 36.580395 \r\nL 371.493824 30.185101 \r\n\" style=\"fill:#4e1d4b;\"/>\r\n    <path clip-path=\"url(#pb54b6ebb95)\" d=\"M 379.371471 30.185101 \r\nL 387.249118 30.185101 \r\nL 387.249118 36.580395 \r\nL 379.371471 36.580395 \r\nL 379.371471 30.185101 \r\n\" style=\"fill:#531e4d;\"/>\r\n    <path clip-path=\"url(#pb54b6ebb95)\" d=\"M 387.249118 30.185101 \r\nL 395.126765 30.185101 \r\nL 395.126765 36.580395 \r\nL 387.249118 36.580395 \r\nL 387.249118 30.185101 \r\n\" style=\"fill:#511e4d;\"/>\r\n    <path clip-path=\"url(#pb54b6ebb95)\" d=\"M 395.126765 30.185101 \r\nL 403.004412 30.185101 \r\nL 403.004412 36.580395 \r\nL 395.126765 36.580395 \r\nL 395.126765 30.185101 \r\n\" style=\"fill:#781f59;\"/>\r\n    <path clip-path=\"url(#pb54b6ebb95)\" d=\"M 403.004412 30.185101 \r\nL 410.882059 30.185101 \r\nL 410.882059 36.580395 \r\nL 403.004412 36.580395 \r\nL 403.004412 30.185101 \r\n\" style=\"fill:#531e4d;\"/>\r\n    <path clip-path=\"url(#pb54b6ebb95)\" d=\"M 410.882059 30.185101 \r\nL 418.759706 30.185101 \r\nL 418.759706 36.580395 \r\nL 410.882059 36.580395 \r\nL 410.882059 30.185101 \r\n\" style=\"fill:#531e4d;\"/>\r\n    <path clip-path=\"url(#pb54b6ebb95)\" d=\"M 418.759706 30.185101 \r\nL 426.637353 30.185101 \r\nL 426.637353 36.580395 \r\nL 418.759706 36.580395 \r\nL 418.759706 30.185101 \r\n\" style=\"fill:#611f53;\"/>\r\n    <path clip-path=\"url(#pb54b6ebb95)\" d=\"M 426.637353 30.185101 \r\nL 434.515 30.185101 \r\nL 434.515 36.580395 \r\nL 426.637353 36.580395 \r\nL 426.637353 30.185101 \r\n\" style=\"fill:#3f1b43;\"/>\r\n    <path clip-path=\"url(#pb54b6ebb95)\" d=\"M 166.675 36.580395 \r\nL 174.552647 36.580395 \r\nL 174.552647 42.975689 \r\nL 166.675 42.975689 \r\nL 166.675 36.580395 \r\n\" style=\"fill:#511e4d;\"/>\r\n    <path clip-path=\"url(#pb54b6ebb95)\" d=\"M 174.552647 36.580395 \r\nL 182.430294 36.580395 \r\nL 182.430294 42.975689 \r\nL 174.552647 42.975689 \r\nL 174.552647 36.580395 \r\n\" style=\"fill:#591e50;\"/>\r\n    <path clip-path=\"url(#pb54b6ebb95)\" d=\"M 182.430294 36.580395 \r\nL 190.307941 36.580395 \r\nL 190.307941 42.975689 \r\nL 182.430294 42.975689 \r\nL 182.430294 36.580395 \r\n\" style=\"fill:#511e4d;\"/>\r\n    <path clip-path=\"url(#pb54b6ebb95)\" d=\"M 190.307941 36.580395 \r\nL 198.185588 36.580395 \r\nL 198.185588 42.975689 \r\nL 190.307941 42.975689 \r\nL 190.307941 36.580395 \r\n\" style=\"fill:#2b1637;\"/>\r\n    <path clip-path=\"url(#pb54b6ebb95)\" d=\"M 198.185588 36.580395 \r\nL 206.063235 36.580395 \r\nL 206.063235 42.975689 \r\nL 198.185588 42.975689 \r\nL 198.185588 36.580395 \r\n\" style=\"fill:#faebdd;\"/>\r\n    <path clip-path=\"url(#pb54b6ebb95)\" d=\"M 206.063235 36.580395 \r\nL 213.940882 36.580395 \r\nL 213.940882 42.975689 \r\nL 206.063235 42.975689 \r\nL 206.063235 36.580395 \r\n\" style=\"fill:#611f53;\"/>\r\n    <path clip-path=\"url(#pb54b6ebb95)\" d=\"M 213.940882 36.580395 \r\nL 221.818529 36.580395 \r\nL 221.818529 42.975689 \r\nL 213.940882 42.975689 \r\nL 213.940882 36.580395 \r\n\" style=\"fill:#431c46;\"/>\r\n    <path clip-path=\"url(#pb54b6ebb95)\" d=\"M 221.818529 36.580395 \r\nL 229.696176 36.580395 \r\nL 229.696176 42.975689 \r\nL 221.818529 42.975689 \r\nL 221.818529 36.580395 \r\n\" style=\"fill:#541e4e;\"/>\r\n    <path clip-path=\"url(#pb54b6ebb95)\" d=\"M 229.696176 36.580395 \r\nL 237.573824 36.580395 \r\nL 237.573824 42.975689 \r\nL 229.696176 42.975689 \r\nL 229.696176 36.580395 \r\n\" style=\"fill:#481c48;\"/>\r\n    <path clip-path=\"url(#pb54b6ebb95)\" d=\"M 237.573824 36.580395 \r\nL 245.451471 36.580395 \r\nL 245.451471 42.975689 \r\nL 237.573824 42.975689 \r\nL 237.573824 36.580395 \r\n\" style=\"fill:#451c47;\"/>\r\n    <path clip-path=\"url(#pb54b6ebb95)\" d=\"M 245.451471 36.580395 \r\nL 253.329118 36.580395 \r\nL 253.329118 42.975689 \r\nL 245.451471 42.975689 \r\nL 245.451471 36.580395 \r\n\" style=\"fill:#3a1a41;\"/>\r\n    <path clip-path=\"url(#pb54b6ebb95)\" d=\"M 253.329118 36.580395 \r\nL 261.206765 36.580395 \r\nL 261.206765 42.975689 \r\nL 253.329118 42.975689 \r\nL 253.329118 36.580395 \r\n\" style=\"fill:#381a40;\"/>\r\n    <path clip-path=\"url(#pb54b6ebb95)\" d=\"M 261.206765 36.580395 \r\nL 269.084412 36.580395 \r\nL 269.084412 42.975689 \r\nL 261.206765 42.975689 \r\nL 261.206765 36.580395 \r\n\" style=\"fill:#3f1b43;\"/>\r\n    <path clip-path=\"url(#pb54b6ebb95)\" d=\"M 269.084412 36.580395 \r\nL 276.962059 36.580395 \r\nL 276.962059 42.975689 \r\nL 269.084412 42.975689 \r\nL 269.084412 36.580395 \r\n\" style=\"fill:#581e4f;\"/>\r\n    <path clip-path=\"url(#pb54b6ebb95)\" d=\"M 276.962059 36.580395 \r\nL 284.839706 36.580395 \r\nL 284.839706 42.975689 \r\nL 276.962059 42.975689 \r\nL 276.962059 36.580395 \r\n\" style=\"fill:#3c1a42;\"/>\r\n    <path clip-path=\"url(#pb54b6ebb95)\" d=\"M 284.839706 36.580395 \r\nL 292.717353 36.580395 \r\nL 292.717353 42.975689 \r\nL 284.839706 42.975689 \r\nL 284.839706 36.580395 \r\n\" style=\"fill:#511e4d;\"/>\r\n    <path clip-path=\"url(#pb54b6ebb95)\" d=\"M 292.717353 36.580395 \r\nL 300.595 36.580395 \r\nL 300.595 42.975689 \r\nL 292.717353 42.975689 \r\nL 292.717353 36.580395 \r\n\" style=\"fill:#5b1e51;\"/>\r\n    <path clip-path=\"url(#pb54b6ebb95)\" d=\"M 300.595 36.580395 \r\nL 308.472647 36.580395 \r\nL 308.472647 42.975689 \r\nL 300.595 42.975689 \r\nL 300.595 36.580395 \r\n\" style=\"fill:#5b1e51;\"/>\r\n    <path clip-path=\"url(#pb54b6ebb95)\" d=\"M 308.472647 36.580395 \r\nL 316.350294 36.580395 \r\nL 316.350294 42.975689 \r\nL 308.472647 42.975689 \r\nL 308.472647 36.580395 \r\n\" style=\"fill:#561e4f;\"/>\r\n    <path clip-path=\"url(#pb54b6ebb95)\" d=\"M 316.350294 36.580395 \r\nL 324.227941 36.580395 \r\nL 324.227941 42.975689 \r\nL 316.350294 42.975689 \r\nL 316.350294 36.580395 \r\n\" style=\"fill:#581e4f;\"/>\r\n    <path clip-path=\"url(#pb54b6ebb95)\" d=\"M 324.227941 36.580395 \r\nL 332.105588 36.580395 \r\nL 332.105588 42.975689 \r\nL 324.227941 42.975689 \r\nL 324.227941 36.580395 \r\n\" style=\"fill:#5b1e51;\"/>\r\n    <path clip-path=\"url(#pb54b6ebb95)\" d=\"M 332.105588 36.580395 \r\nL 339.983235 36.580395 \r\nL 339.983235 42.975689 \r\nL 332.105588 42.975689 \r\nL 332.105588 36.580395 \r\n\" style=\"fill:#5c1e51;\"/>\r\n    <path clip-path=\"url(#pb54b6ebb95)\" d=\"M 339.983235 36.580395 \r\nL 347.860882 36.580395 \r\nL 347.860882 42.975689 \r\nL 339.983235 42.975689 \r\nL 339.983235 36.580395 \r\n\" style=\"fill:#581e4f;\"/>\r\n    <path clip-path=\"url(#pb54b6ebb95)\" d=\"M 347.860882 36.580395 \r\nL 355.738529 36.580395 \r\nL 355.738529 42.975689 \r\nL 347.860882 42.975689 \r\nL 347.860882 36.580395 \r\n\" style=\"fill:#561e4f;\"/>\r\n    <path clip-path=\"url(#pb54b6ebb95)\" d=\"M 355.738529 36.580395 \r\nL 363.616176 36.580395 \r\nL 363.616176 42.975689 \r\nL 355.738529 42.975689 \r\nL 355.738529 36.580395 \r\n\" style=\"fill:#4b1d4a;\"/>\r\n    <path clip-path=\"url(#pb54b6ebb95)\" d=\"M 363.616176 36.580395 \r\nL 371.493824 36.580395 \r\nL 371.493824 42.975689 \r\nL 363.616176 42.975689 \r\nL 363.616176 36.580395 \r\n\" style=\"fill:#4e1d4b;\"/>\r\n    <path clip-path=\"url(#pb54b6ebb95)\" d=\"M 371.493824 36.580395 \r\nL 379.371471 36.580395 \r\nL 379.371471 42.975689 \r\nL 371.493824 42.975689 \r\nL 371.493824 36.580395 \r\n\" style=\"fill:#461c48;\"/>\r\n    <path clip-path=\"url(#pb54b6ebb95)\" d=\"M 379.371471 36.580395 \r\nL 387.249118 36.580395 \r\nL 387.249118 42.975689 \r\nL 379.371471 42.975689 \r\nL 379.371471 36.580395 \r\n\" style=\"fill:#4b1d4a;\"/>\r\n    <path clip-path=\"url(#pb54b6ebb95)\" d=\"M 387.249118 36.580395 \r\nL 395.126765 36.580395 \r\nL 395.126765 42.975689 \r\nL 387.249118 42.975689 \r\nL 387.249118 36.580395 \r\n\" style=\"fill:#461c48;\"/>\r\n    <path clip-path=\"url(#pb54b6ebb95)\" d=\"M 395.126765 36.580395 \r\nL 403.004412 36.580395 \r\nL 403.004412 42.975689 \r\nL 395.126765 42.975689 \r\nL 395.126765 36.580395 \r\n\" style=\"fill:#211330;\"/>\r\n    <path clip-path=\"url(#pb54b6ebb95)\" d=\"M 403.004412 36.580395 \r\nL 410.882059 36.580395 \r\nL 410.882059 42.975689 \r\nL 403.004412 42.975689 \r\nL 403.004412 36.580395 \r\n\" style=\"fill:#4b1d4a;\"/>\r\n    <path clip-path=\"url(#pb54b6ebb95)\" d=\"M 410.882059 36.580395 \r\nL 418.759706 36.580395 \r\nL 418.759706 42.975689 \r\nL 410.882059 42.975689 \r\nL 410.882059 36.580395 \r\n\" style=\"fill:#561e4f;\"/>\r\n    <path clip-path=\"url(#pb54b6ebb95)\" d=\"M 418.759706 36.580395 \r\nL 426.637353 36.580395 \r\nL 426.637353 42.975689 \r\nL 418.759706 42.975689 \r\nL 418.759706 36.580395 \r\n\" style=\"fill:#751f58;\"/>\r\n    <path clip-path=\"url(#pb54b6ebb95)\" d=\"M 426.637353 36.580395 \r\nL 434.515 36.580395 \r\nL 434.515 42.975689 \r\nL 426.637353 42.975689 \r\nL 426.637353 36.580395 \r\n\" style=\"fill:#5b1e51;\"/>\r\n    <path clip-path=\"url(#pb54b6ebb95)\" d=\"M 166.675 42.975689 \r\nL 174.552647 42.975689 \r\nL 174.552647 49.370983 \r\nL 166.675 49.370983 \r\nL 166.675 42.975689 \r\n\" style=\"fill:#6d1f56;\"/>\r\n    <path clip-path=\"url(#pb54b6ebb95)\" d=\"M 174.552647 42.975689 \r\nL 182.430294 42.975689 \r\nL 182.430294 49.370983 \r\nL 174.552647 49.370983 \r\nL 174.552647 42.975689 \r\n\" style=\"fill:#591e50;\"/>\r\n    <path clip-path=\"url(#pb54b6ebb95)\" d=\"M 182.430294 42.975689 \r\nL 190.307941 42.975689 \r\nL 190.307941 49.370983 \r\nL 182.430294 49.370983 \r\nL 182.430294 42.975689 \r\n\" style=\"fill:#691f55;\"/>\r\n    <path clip-path=\"url(#pb54b6ebb95)\" d=\"M 190.307941 42.975689 \r\nL 198.185588 42.975689 \r\nL 198.185588 49.370983 \r\nL 190.307941 49.370983 \r\nL 190.307941 42.975689 \r\n\" style=\"fill:#641f54;\"/>\r\n    <path clip-path=\"url(#pb54b6ebb95)\" d=\"M 198.185588 42.975689 \r\nL 206.063235 42.975689 \r\nL 206.063235 49.370983 \r\nL 198.185588 49.370983 \r\nL 198.185588 42.975689 \r\n\" style=\"fill:#611f53;\"/>\r\n    <path clip-path=\"url(#pb54b6ebb95)\" d=\"M 206.063235 42.975689 \r\nL 213.940882 42.975689 \r\nL 213.940882 49.370983 \r\nL 206.063235 49.370983 \r\nL 206.063235 42.975689 \r\n\" style=\"fill:#faebdd;\"/>\r\n    <path clip-path=\"url(#pb54b6ebb95)\" d=\"M 213.940882 42.975689 \r\nL 221.818529 42.975689 \r\nL 221.818529 49.370983 \r\nL 213.940882 49.370983 \r\nL 213.940882 42.975689 \r\n\" style=\"fill:#591e50;\"/>\r\n    <path clip-path=\"url(#pb54b6ebb95)\" d=\"M 221.818529 42.975689 \r\nL 229.696176 42.975689 \r\nL 229.696176 49.370983 \r\nL 221.818529 49.370983 \r\nL 221.818529 42.975689 \r\n\" style=\"fill:#631f53;\"/>\r\n    <path clip-path=\"url(#pb54b6ebb95)\" d=\"M 229.696176 42.975689 \r\nL 237.573824 42.975689 \r\nL 237.573824 49.370983 \r\nL 229.696176 49.370983 \r\nL 229.696176 42.975689 \r\n\" style=\"fill:#631f53;\"/>\r\n    <path clip-path=\"url(#pb54b6ebb95)\" d=\"M 237.573824 42.975689 \r\nL 245.451471 42.975689 \r\nL 245.451471 49.370983 \r\nL 237.573824 49.370983 \r\nL 237.573824 42.975689 \r\n\" style=\"fill:#5e1f52;\"/>\r\n    <path clip-path=\"url(#pb54b6ebb95)\" d=\"M 245.451471 42.975689 \r\nL 253.329118 42.975689 \r\nL 253.329118 49.370983 \r\nL 245.451471 49.370983 \r\nL 245.451471 42.975689 \r\n\" style=\"fill:#5e1f52;\"/>\r\n    <path clip-path=\"url(#pb54b6ebb95)\" d=\"M 253.329118 42.975689 \r\nL 261.206765 42.975689 \r\nL 261.206765 49.370983 \r\nL 253.329118 49.370983 \r\nL 253.329118 42.975689 \r\n\" style=\"fill:#5e1f52;\"/>\r\n    <path clip-path=\"url(#pb54b6ebb95)\" d=\"M 261.206765 42.975689 \r\nL 269.084412 42.975689 \r\nL 269.084412 49.370983 \r\nL 261.206765 49.370983 \r\nL 261.206765 42.975689 \r\n\" style=\"fill:#5e1f52;\"/>\r\n    <path clip-path=\"url(#pb54b6ebb95)\" d=\"M 269.084412 42.975689 \r\nL 276.962059 42.975689 \r\nL 276.962059 49.370983 \r\nL 269.084412 49.370983 \r\nL 269.084412 42.975689 \r\n\" style=\"fill:#561e4f;\"/>\r\n    <path clip-path=\"url(#pb54b6ebb95)\" d=\"M 276.962059 42.975689 \r\nL 284.839706 42.975689 \r\nL 284.839706 49.370983 \r\nL 276.962059 49.370983 \r\nL 276.962059 42.975689 \r\n\" style=\"fill:#421b45;\"/>\r\n    <path clip-path=\"url(#pb54b6ebb95)\" d=\"M 284.839706 42.975689 \r\nL 292.717353 42.975689 \r\nL 292.717353 49.370983 \r\nL 284.839706 49.370983 \r\nL 284.839706 42.975689 \r\n\" style=\"fill:#751f58;\"/>\r\n    <path clip-path=\"url(#pb54b6ebb95)\" d=\"M 292.717353 42.975689 \r\nL 300.595 42.975689 \r\nL 300.595 49.370983 \r\nL 292.717353 49.370983 \r\nL 292.717353 42.975689 \r\n\" style=\"fill:#6e1f57;\"/>\r\n    <path clip-path=\"url(#pb54b6ebb95)\" d=\"M 300.595 42.975689 \r\nL 308.472647 42.975689 \r\nL 308.472647 49.370983 \r\nL 300.595 49.370983 \r\nL 300.595 42.975689 \r\n\" style=\"fill:#5c1e51;\"/>\r\n    <path clip-path=\"url(#pb54b6ebb95)\" d=\"M 308.472647 42.975689 \r\nL 316.350294 42.975689 \r\nL 316.350294 49.370983 \r\nL 308.472647 49.370983 \r\nL 308.472647 42.975689 \r\n\" style=\"fill:#541e4e;\"/>\r\n    <path clip-path=\"url(#pb54b6ebb95)\" d=\"M 316.350294 42.975689 \r\nL 324.227941 42.975689 \r\nL 324.227941 49.370983 \r\nL 316.350294 49.370983 \r\nL 316.350294 42.975689 \r\n\" style=\"fill:#481c48;\"/>\r\n    <path clip-path=\"url(#pb54b6ebb95)\" d=\"M 324.227941 42.975689 \r\nL 332.105588 42.975689 \r\nL 332.105588 49.370983 \r\nL 324.227941 49.370983 \r\nL 324.227941 42.975689 \r\n\" style=\"fill:#451c47;\"/>\r\n    <path clip-path=\"url(#pb54b6ebb95)\" d=\"M 332.105588 42.975689 \r\nL 339.983235 42.975689 \r\nL 339.983235 49.370983 \r\nL 332.105588 49.370983 \r\nL 332.105588 42.975689 \r\n\" style=\"fill:#451c47;\"/>\r\n    <path clip-path=\"url(#pb54b6ebb95)\" d=\"M 339.983235 42.975689 \r\nL 347.860882 42.975689 \r\nL 347.860882 49.370983 \r\nL 339.983235 49.370983 \r\nL 339.983235 42.975689 \r\n\" style=\"fill:#491d49;\"/>\r\n    <path clip-path=\"url(#pb54b6ebb95)\" d=\"M 347.860882 42.975689 \r\nL 355.738529 42.975689 \r\nL 355.738529 49.370983 \r\nL 347.860882 49.370983 \r\nL 347.860882 42.975689 \r\n\" style=\"fill:#7f1e5a;\"/>\r\n    <path clip-path=\"url(#pb54b6ebb95)\" d=\"M 355.738529 42.975689 \r\nL 363.616176 42.975689 \r\nL 363.616176 49.370983 \r\nL 355.738529 49.370983 \r\nL 355.738529 42.975689 \r\n\" style=\"fill:#691f55;\"/>\r\n    <path clip-path=\"url(#pb54b6ebb95)\" d=\"M 363.616176 42.975689 \r\nL 371.493824 42.975689 \r\nL 371.493824 49.370983 \r\nL 363.616176 49.370983 \r\nL 363.616176 42.975689 \r\n\" style=\"fill:#691f55;\"/>\r\n    <path clip-path=\"url(#pb54b6ebb95)\" d=\"M 371.493824 42.975689 \r\nL 379.371471 42.975689 \r\nL 379.371471 49.370983 \r\nL 371.493824 49.370983 \r\nL 371.493824 42.975689 \r\n\" style=\"fill:#591e50;\"/>\r\n    <path clip-path=\"url(#pb54b6ebb95)\" d=\"M 379.371471 42.975689 \r\nL 387.249118 42.975689 \r\nL 387.249118 49.370983 \r\nL 379.371471 49.370983 \r\nL 379.371471 42.975689 \r\n\" style=\"fill:#611f53;\"/>\r\n    <path clip-path=\"url(#pb54b6ebb95)\" d=\"M 387.249118 42.975689 \r\nL 395.126765 42.975689 \r\nL 395.126765 49.370983 \r\nL 387.249118 49.370983 \r\nL 387.249118 42.975689 \r\n\" style=\"fill:#661f54;\"/>\r\n    <path clip-path=\"url(#pb54b6ebb95)\" d=\"M 395.126765 42.975689 \r\nL 403.004412 42.975689 \r\nL 403.004412 49.370983 \r\nL 395.126765 49.370983 \r\nL 395.126765 42.975689 \r\n\" style=\"fill:#5b1e51;\"/>\r\n    <path clip-path=\"url(#pb54b6ebb95)\" d=\"M 403.004412 42.975689 \r\nL 410.882059 42.975689 \r\nL 410.882059 49.370983 \r\nL 403.004412 49.370983 \r\nL 403.004412 42.975689 \r\n\" style=\"fill:#691f55;\"/>\r\n    <path clip-path=\"url(#pb54b6ebb95)\" d=\"M 410.882059 42.975689 \r\nL 418.759706 42.975689 \r\nL 418.759706 49.370983 \r\nL 410.882059 49.370983 \r\nL 410.882059 42.975689 \r\n\" style=\"fill:#611f53;\"/>\r\n    <path clip-path=\"url(#pb54b6ebb95)\" d=\"M 418.759706 42.975689 \r\nL 426.637353 42.975689 \r\nL 426.637353 49.370983 \r\nL 418.759706 49.370983 \r\nL 418.759706 42.975689 \r\n\" style=\"fill:#3a1a41;\"/>\r\n    <path clip-path=\"url(#pb54b6ebb95)\" d=\"M 426.637353 42.975689 \r\nL 434.515 42.975689 \r\nL 434.515 49.370983 \r\nL 426.637353 49.370983 \r\nL 426.637353 42.975689 \r\n\" style=\"fill:#581e4f;\"/>\r\n    <path clip-path=\"url(#pb54b6ebb95)\" d=\"M 166.675 49.370983 \r\nL 174.552647 49.370983 \r\nL 174.552647 55.766278 \r\nL 166.675 55.766278 \r\nL 166.675 49.370983 \r\n\" style=\"fill:#581e4f;\"/>\r\n    <path clip-path=\"url(#pb54b6ebb95)\" d=\"M 174.552647 49.370983 \r\nL 182.430294 49.370983 \r\nL 182.430294 55.766278 \r\nL 174.552647 55.766278 \r\nL 174.552647 49.370983 \r\n\" style=\"fill:#7d1f5a;\"/>\r\n    <path clip-path=\"url(#pb54b6ebb95)\" d=\"M 182.430294 49.370983 \r\nL 190.307941 49.370983 \r\nL 190.307941 55.766278 \r\nL 182.430294 55.766278 \r\nL 182.430294 49.370983 \r\n\" style=\"fill:#661f54;\"/>\r\n    <path clip-path=\"url(#pb54b6ebb95)\" d=\"M 190.307941 49.370983 \r\nL 198.185588 49.370983 \r\nL 198.185588 55.766278 \r\nL 190.307941 55.766278 \r\nL 190.307941 49.370983 \r\n\" style=\"fill:#591e50;\"/>\r\n    <path clip-path=\"url(#pb54b6ebb95)\" d=\"M 198.185588 49.370983 \r\nL 206.063235 49.370983 \r\nL 206.063235 55.766278 \r\nL 198.185588 55.766278 \r\nL 198.185588 49.370983 \r\n\" style=\"fill:#431c46;\"/>\r\n    <path clip-path=\"url(#pb54b6ebb95)\" d=\"M 206.063235 49.370983 \r\nL 213.940882 49.370983 \r\nL 213.940882 55.766278 \r\nL 206.063235 55.766278 \r\nL 206.063235 49.370983 \r\n\" style=\"fill:#591e50;\"/>\r\n    <path clip-path=\"url(#pb54b6ebb95)\" d=\"M 213.940882 49.370983 \r\nL 221.818529 49.370983 \r\nL 221.818529 55.766278 \r\nL 213.940882 55.766278 \r\nL 213.940882 49.370983 \r\n\" style=\"fill:#faebdd;\"/>\r\n    <path clip-path=\"url(#pb54b6ebb95)\" d=\"M 221.818529 49.370983 \r\nL 229.696176 49.370983 \r\nL 229.696176 55.766278 \r\nL 221.818529 55.766278 \r\nL 221.818529 49.370983 \r\n\" style=\"fill:#ef5640;\"/>\r\n    <path clip-path=\"url(#pb54b6ebb95)\" d=\"M 229.696176 49.370983 \r\nL 237.573824 49.370983 \r\nL 237.573824 55.766278 \r\nL 229.696176 55.766278 \r\nL 229.696176 49.370983 \r\n\" style=\"fill:#f6a880;\"/>\r\n    <path clip-path=\"url(#pb54b6ebb95)\" d=\"M 237.573824 49.370983 \r\nL 245.451471 49.370983 \r\nL 245.451471 55.766278 \r\nL 237.573824 55.766278 \r\nL 237.573824 49.370983 \r\n\" style=\"fill:#f7c2a2;\"/>\r\n    <path clip-path=\"url(#pb54b6ebb95)\" d=\"M 245.451471 49.370983 \r\nL 253.329118 49.370983 \r\nL 253.329118 55.766278 \r\nL 245.451471 55.766278 \r\nL 245.451471 49.370983 \r\n\" style=\"fill:#f47f58;\"/>\r\n    <path clip-path=\"url(#pb54b6ebb95)\" d=\"M 253.329118 49.370983 \r\nL 261.206765 49.370983 \r\nL 261.206765 55.766278 \r\nL 253.329118 55.766278 \r\nL 253.329118 49.370983 \r\n\" style=\"fill:#f4835b;\"/>\r\n    <path clip-path=\"url(#pb54b6ebb95)\" d=\"M 261.206765 49.370983 \r\nL 269.084412 49.370983 \r\nL 269.084412 55.766278 \r\nL 261.206765 55.766278 \r\nL 261.206765 49.370983 \r\n\" style=\"fill:#f37651;\"/>\r\n    <path clip-path=\"url(#pb54b6ebb95)\" d=\"M 269.084412 49.370983 \r\nL 276.962059 49.370983 \r\nL 276.962059 55.766278 \r\nL 269.084412 55.766278 \r\nL 269.084412 49.370983 \r\n\" style=\"fill:#b71657;\"/>\r\n    <path clip-path=\"url(#pb54b6ebb95)\" d=\"M 276.962059 49.370983 \r\nL 284.839706 49.370983 \r\nL 284.839706 55.766278 \r\nL 276.962059 55.766278 \r\nL 276.962059 49.370983 \r\n\" style=\"fill:#f4815a;\"/>\r\n    <path clip-path=\"url(#pb54b6ebb95)\" d=\"M 284.839706 49.370983 \r\nL 292.717353 49.370983 \r\nL 292.717353 55.766278 \r\nL 284.839706 55.766278 \r\nL 284.839706 49.370983 \r\n\" style=\"fill:#ee543f;\"/>\r\n    <path clip-path=\"url(#pb54b6ebb95)\" d=\"M 292.717353 49.370983 \r\nL 300.595 49.370983 \r\nL 300.595 55.766278 \r\nL 292.717353 55.766278 \r\nL 292.717353 49.370983 \r\n\" style=\"fill:#891e5b;\"/>\r\n    <path clip-path=\"url(#pb54b6ebb95)\" d=\"M 300.595 49.370983 \r\nL 308.472647 49.370983 \r\nL 308.472647 55.766278 \r\nL 300.595 55.766278 \r\nL 300.595 49.370983 \r\n\" style=\"fill:#5e1f52;\"/>\r\n    <path clip-path=\"url(#pb54b6ebb95)\" d=\"M 308.472647 49.370983 \r\nL 316.350294 49.370983 \r\nL 316.350294 55.766278 \r\nL 308.472647 55.766278 \r\nL 308.472647 49.370983 \r\n\" style=\"fill:#5b1e51;\"/>\r\n    <path clip-path=\"url(#pb54b6ebb95)\" d=\"M 316.350294 49.370983 \r\nL 324.227941 49.370983 \r\nL 324.227941 55.766278 \r\nL 316.350294 55.766278 \r\nL 316.350294 49.370983 \r\n\" style=\"fill:#4c1d4b;\"/>\r\n    <path clip-path=\"url(#pb54b6ebb95)\" d=\"M 324.227941 49.370983 \r\nL 332.105588 49.370983 \r\nL 332.105588 55.766278 \r\nL 324.227941 55.766278 \r\nL 324.227941 49.370983 \r\n\" style=\"fill:#491d49;\"/>\r\n    <path clip-path=\"url(#pb54b6ebb95)\" d=\"M 332.105588 49.370983 \r\nL 339.983235 49.370983 \r\nL 339.983235 55.766278 \r\nL 332.105588 55.766278 \r\nL 332.105588 49.370983 \r\n\" style=\"fill:#461c48;\"/>\r\n    <path clip-path=\"url(#pb54b6ebb95)\" d=\"M 339.983235 49.370983 \r\nL 347.860882 49.370983 \r\nL 347.860882 55.766278 \r\nL 339.983235 55.766278 \r\nL 339.983235 49.370983 \r\n\" style=\"fill:#501d4c;\"/>\r\n    <path clip-path=\"url(#pb54b6ebb95)\" d=\"M 347.860882 49.370983 \r\nL 355.738529 49.370983 \r\nL 355.738529 55.766278 \r\nL 347.860882 55.766278 \r\nL 347.860882 49.370983 \r\n\" style=\"fill:#431c46;\"/>\r\n    <path clip-path=\"url(#pb54b6ebb95)\" d=\"M 355.738529 49.370983 \r\nL 363.616176 49.370983 \r\nL 363.616176 55.766278 \r\nL 355.738529 55.766278 \r\nL 355.738529 49.370983 \r\n\" style=\"fill:#561e4f;\"/>\r\n    <path clip-path=\"url(#pb54b6ebb95)\" d=\"M 363.616176 49.370983 \r\nL 371.493824 49.370983 \r\nL 371.493824 55.766278 \r\nL 363.616176 55.766278 \r\nL 363.616176 49.370983 \r\n\" style=\"fill:#491d49;\"/>\r\n    <path clip-path=\"url(#pb54b6ebb95)\" d=\"M 371.493824 49.370983 \r\nL 379.371471 49.370983 \r\nL 379.371471 55.766278 \r\nL 371.493824 55.766278 \r\nL 371.493824 49.370983 \r\n\" style=\"fill:#5c1e51;\"/>\r\n    <path clip-path=\"url(#pb54b6ebb95)\" d=\"M 379.371471 49.370983 \r\nL 387.249118 49.370983 \r\nL 387.249118 55.766278 \r\nL 379.371471 55.766278 \r\nL 379.371471 49.370983 \r\n\" style=\"fill:#531e4d;\"/>\r\n    <path clip-path=\"url(#pb54b6ebb95)\" d=\"M 387.249118 49.370983 \r\nL 395.126765 49.370983 \r\nL 395.126765 55.766278 \r\nL 387.249118 55.766278 \r\nL 387.249118 49.370983 \r\n\" style=\"fill:#541e4e;\"/>\r\n    <path clip-path=\"url(#pb54b6ebb95)\" d=\"M 395.126765 49.370983 \r\nL 403.004412 49.370983 \r\nL 403.004412 55.766278 \r\nL 395.126765 55.766278 \r\nL 395.126765 49.370983 \r\n\" style=\"fill:#4e1d4b;\"/>\r\n    <path clip-path=\"url(#pb54b6ebb95)\" d=\"M 403.004412 49.370983 \r\nL 410.882059 49.370983 \r\nL 410.882059 55.766278 \r\nL 403.004412 55.766278 \r\nL 403.004412 49.370983 \r\n\" style=\"fill:#461c48;\"/>\r\n    <path clip-path=\"url(#pb54b6ebb95)\" d=\"M 410.882059 49.370983 \r\nL 418.759706 49.370983 \r\nL 418.759706 55.766278 \r\nL 410.882059 55.766278 \r\nL 410.882059 49.370983 \r\n\" style=\"fill:#611f53;\"/>\r\n    <path clip-path=\"url(#pb54b6ebb95)\" d=\"M 418.759706 49.370983 \r\nL 426.637353 49.370983 \r\nL 426.637353 55.766278 \r\nL 418.759706 55.766278 \r\nL 418.759706 49.370983 \r\n\" style=\"fill:#501d4c;\"/>\r\n    <path clip-path=\"url(#pb54b6ebb95)\" d=\"M 426.637353 49.370983 \r\nL 434.515 49.370983 \r\nL 434.515 55.766278 \r\nL 426.637353 55.766278 \r\nL 426.637353 49.370983 \r\n\" style=\"fill:#2e1739;\"/>\r\n    <path clip-path=\"url(#pb54b6ebb95)\" d=\"M 166.675 55.766278 \r\nL 174.552647 55.766278 \r\nL 174.552647 62.161572 \r\nL 166.675 62.161572 \r\nL 166.675 55.766278 \r\n\" style=\"fill:#581e4f;\"/>\r\n    <path clip-path=\"url(#pb54b6ebb95)\" d=\"M 174.552647 55.766278 \r\nL 182.430294 55.766278 \r\nL 182.430294 62.161572 \r\nL 174.552647 62.161572 \r\nL 174.552647 55.766278 \r\n\" style=\"fill:#6e1f57;\"/>\r\n    <path clip-path=\"url(#pb54b6ebb95)\" d=\"M 182.430294 55.766278 \r\nL 190.307941 55.766278 \r\nL 190.307941 62.161572 \r\nL 182.430294 62.161572 \r\nL 182.430294 55.766278 \r\n\" style=\"fill:#561e4f;\"/>\r\n    <path clip-path=\"url(#pb54b6ebb95)\" d=\"M 190.307941 55.766278 \r\nL 198.185588 55.766278 \r\nL 198.185588 62.161572 \r\nL 190.307941 62.161572 \r\nL 190.307941 55.766278 \r\n\" style=\"fill:#541e4e;\"/>\r\n    <path clip-path=\"url(#pb54b6ebb95)\" d=\"M 198.185588 55.766278 \r\nL 206.063235 55.766278 \r\nL 206.063235 62.161572 \r\nL 198.185588 62.161572 \r\nL 198.185588 55.766278 \r\n\" style=\"fill:#541e4e;\"/>\r\n    <path clip-path=\"url(#pb54b6ebb95)\" d=\"M 206.063235 55.766278 \r\nL 213.940882 55.766278 \r\nL 213.940882 62.161572 \r\nL 206.063235 62.161572 \r\nL 206.063235 55.766278 \r\n\" style=\"fill:#631f53;\"/>\r\n    <path clip-path=\"url(#pb54b6ebb95)\" d=\"M 213.940882 55.766278 \r\nL 221.818529 55.766278 \r\nL 221.818529 62.161572 \r\nL 213.940882 62.161572 \r\nL 213.940882 55.766278 \r\n\" style=\"fill:#ef5640;\"/>\r\n    <path clip-path=\"url(#pb54b6ebb95)\" d=\"M 221.818529 55.766278 \r\nL 229.696176 55.766278 \r\nL 229.696176 62.161572 \r\nL 221.818529 62.161572 \r\nL 221.818529 55.766278 \r\n\" style=\"fill:#faebdd;\"/>\r\n    <path clip-path=\"url(#pb54b6ebb95)\" d=\"M 229.696176 55.766278 \r\nL 237.573824 55.766278 \r\nL 237.573824 62.161572 \r\nL 229.696176 62.161572 \r\nL 229.696176 55.766278 \r\n\" style=\"fill:#f3714d;\"/>\r\n    <path clip-path=\"url(#pb54b6ebb95)\" d=\"M 237.573824 55.766278 \r\nL 245.451471 55.766278 \r\nL 245.451471 62.161572 \r\nL 237.573824 62.161572 \r\nL 237.573824 55.766278 \r\n\" style=\"fill:#ee543f;\"/>\r\n    <path clip-path=\"url(#pb54b6ebb95)\" d=\"M 245.451471 55.766278 \r\nL 253.329118 55.766278 \r\nL 253.329118 62.161572 \r\nL 245.451471 62.161572 \r\nL 245.451471 55.766278 \r\n\" style=\"fill:#ed4e3e;\"/>\r\n    <path clip-path=\"url(#pb54b6ebb95)\" d=\"M 253.329118 55.766278 \r\nL 261.206765 55.766278 \r\nL 261.206765 62.161572 \r\nL 253.329118 62.161572 \r\nL 253.329118 55.766278 \r\n\" style=\"fill:#ed4e3e;\"/>\r\n    <path clip-path=\"url(#pb54b6ebb95)\" d=\"M 261.206765 55.766278 \r\nL 269.084412 55.766278 \r\nL 269.084412 62.161572 \r\nL 261.206765 62.161572 \r\nL 261.206765 55.766278 \r\n\" style=\"fill:#eb463e;\"/>\r\n    <path clip-path=\"url(#pb54b6ebb95)\" d=\"M 269.084412 55.766278 \r\nL 276.962059 55.766278 \r\nL 276.962059 62.161572 \r\nL 269.084412 62.161572 \r\nL 269.084412 55.766278 \r\n\" style=\"fill:#bc1656;\"/>\r\n    <path clip-path=\"url(#pb54b6ebb95)\" d=\"M 276.962059 55.766278 \r\nL 284.839706 55.766278 \r\nL 284.839706 62.161572 \r\nL 276.962059 62.161572 \r\nL 276.962059 55.766278 \r\n\" style=\"fill:#ef5840;\"/>\r\n    <path clip-path=\"url(#pb54b6ebb95)\" d=\"M 284.839706 55.766278 \r\nL 292.717353 55.766278 \r\nL 292.717353 62.161572 \r\nL 284.839706 62.161572 \r\nL 284.839706 55.766278 \r\n\" style=\"fill:#bd1655;\"/>\r\n    <path clip-path=\"url(#pb54b6ebb95)\" d=\"M 292.717353 55.766278 \r\nL 300.595 55.766278 \r\nL 300.595 62.161572 \r\nL 292.717353 62.161572 \r\nL 292.717353 55.766278 \r\n\" style=\"fill:#731f58;\"/>\r\n    <path clip-path=\"url(#pb54b6ebb95)\" d=\"M 300.595 55.766278 \r\nL 308.472647 55.766278 \r\nL 308.472647 62.161572 \r\nL 300.595 62.161572 \r\nL 300.595 55.766278 \r\n\" style=\"fill:#5b1e51;\"/>\r\n    <path clip-path=\"url(#pb54b6ebb95)\" d=\"M 308.472647 55.766278 \r\nL 316.350294 55.766278 \r\nL 316.350294 62.161572 \r\nL 308.472647 62.161572 \r\nL 308.472647 55.766278 \r\n\" style=\"fill:#541e4e;\"/>\r\n    <path clip-path=\"url(#pb54b6ebb95)\" d=\"M 316.350294 55.766278 \r\nL 324.227941 55.766278 \r\nL 324.227941 62.161572 \r\nL 316.350294 62.161572 \r\nL 316.350294 55.766278 \r\n\" style=\"fill:#4c1d4b;\"/>\r\n    <path clip-path=\"url(#pb54b6ebb95)\" d=\"M 324.227941 55.766278 \r\nL 332.105588 55.766278 \r\nL 332.105588 62.161572 \r\nL 324.227941 62.161572 \r\nL 324.227941 55.766278 \r\n\" style=\"fill:#491d49;\"/>\r\n    <path clip-path=\"url(#pb54b6ebb95)\" d=\"M 332.105588 55.766278 \r\nL 339.983235 55.766278 \r\nL 339.983235 62.161572 \r\nL 332.105588 62.161572 \r\nL 332.105588 55.766278 \r\n\" style=\"fill:#481c48;\"/>\r\n    <path clip-path=\"url(#pb54b6ebb95)\" d=\"M 339.983235 55.766278 \r\nL 347.860882 55.766278 \r\nL 347.860882 62.161572 \r\nL 339.983235 62.161572 \r\nL 339.983235 55.766278 \r\n\" style=\"fill:#591e50;\"/>\r\n    <path clip-path=\"url(#pb54b6ebb95)\" d=\"M 347.860882 55.766278 \r\nL 355.738529 55.766278 \r\nL 355.738529 62.161572 \r\nL 347.860882 62.161572 \r\nL 347.860882 55.766278 \r\n\" style=\"fill:#3d1a42;\"/>\r\n    <path clip-path=\"url(#pb54b6ebb95)\" d=\"M 355.738529 55.766278 \r\nL 363.616176 55.766278 \r\nL 363.616176 62.161572 \r\nL 355.738529 62.161572 \r\nL 355.738529 55.766278 \r\n\" style=\"fill:#681f55;\"/>\r\n    <path clip-path=\"url(#pb54b6ebb95)\" d=\"M 363.616176 55.766278 \r\nL 371.493824 55.766278 \r\nL 371.493824 62.161572 \r\nL 363.616176 62.161572 \r\nL 363.616176 55.766278 \r\n\" style=\"fill:#581e4f;\"/>\r\n    <path clip-path=\"url(#pb54b6ebb95)\" d=\"M 371.493824 55.766278 \r\nL 379.371471 55.766278 \r\nL 379.371471 62.161572 \r\nL 371.493824 62.161572 \r\nL 371.493824 55.766278 \r\n\" style=\"fill:#601f52;\"/>\r\n    <path clip-path=\"url(#pb54b6ebb95)\" d=\"M 379.371471 55.766278 \r\nL 387.249118 55.766278 \r\nL 387.249118 62.161572 \r\nL 379.371471 62.161572 \r\nL 379.371471 55.766278 \r\n\" style=\"fill:#591e50;\"/>\r\n    <path clip-path=\"url(#pb54b6ebb95)\" d=\"M 387.249118 55.766278 \r\nL 395.126765 55.766278 \r\nL 395.126765 62.161572 \r\nL 387.249118 62.161572 \r\nL 387.249118 55.766278 \r\n\" style=\"fill:#541e4e;\"/>\r\n    <path clip-path=\"url(#pb54b6ebb95)\" d=\"M 395.126765 55.766278 \r\nL 403.004412 55.766278 \r\nL 403.004412 62.161572 \r\nL 395.126765 62.161572 \r\nL 395.126765 55.766278 \r\n\" style=\"fill:#561e4f;\"/>\r\n    <path clip-path=\"url(#pb54b6ebb95)\" d=\"M 403.004412 55.766278 \r\nL 410.882059 55.766278 \r\nL 410.882059 62.161572 \r\nL 403.004412 62.161572 \r\nL 403.004412 55.766278 \r\n\" style=\"fill:#5e1f52;\"/>\r\n    <path clip-path=\"url(#pb54b6ebb95)\" d=\"M 410.882059 55.766278 \r\nL 418.759706 55.766278 \r\nL 418.759706 62.161572 \r\nL 410.882059 62.161572 \r\nL 410.882059 55.766278 \r\n\" style=\"fill:#491d49;\"/>\r\n    <path clip-path=\"url(#pb54b6ebb95)\" d=\"M 418.759706 55.766278 \r\nL 426.637353 55.766278 \r\nL 426.637353 62.161572 \r\nL 418.759706 62.161572 \r\nL 418.759706 55.766278 \r\n\" style=\"fill:#591e50;\"/>\r\n    <path clip-path=\"url(#pb54b6ebb95)\" d=\"M 426.637353 55.766278 \r\nL 434.515 55.766278 \r\nL 434.515 62.161572 \r\nL 426.637353 62.161572 \r\nL 426.637353 55.766278 \r\n\" style=\"fill:#271534;\"/>\r\n    <path clip-path=\"url(#pb54b6ebb95)\" d=\"M 166.675 62.161572 \r\nL 174.552647 62.161572 \r\nL 174.552647 68.556866 \r\nL 166.675 68.556866 \r\nL 166.675 62.161572 \r\n\" style=\"fill:#501d4c;\"/>\r\n    <path clip-path=\"url(#pb54b6ebb95)\" d=\"M 174.552647 62.161572 \r\nL 182.430294 62.161572 \r\nL 182.430294 68.556866 \r\nL 174.552647 68.556866 \r\nL 174.552647 62.161572 \r\n\" style=\"fill:#6e1f57;\"/>\r\n    <path clip-path=\"url(#pb54b6ebb95)\" d=\"M 182.430294 62.161572 \r\nL 190.307941 62.161572 \r\nL 190.307941 68.556866 \r\nL 182.430294 68.556866 \r\nL 182.430294 62.161572 \r\n\" style=\"fill:#561e4f;\"/>\r\n    <path clip-path=\"url(#pb54b6ebb95)\" d=\"M 190.307941 62.161572 \r\nL 198.185588 62.161572 \r\nL 198.185588 68.556866 \r\nL 190.307941 68.556866 \r\nL 190.307941 62.161572 \r\n\" style=\"fill:#661f54;\"/>\r\n    <path clip-path=\"url(#pb54b6ebb95)\" d=\"M 198.185588 62.161572 \r\nL 206.063235 62.161572 \r\nL 206.063235 68.556866 \r\nL 198.185588 68.556866 \r\nL 198.185588 62.161572 \r\n\" style=\"fill:#481c48;\"/>\r\n    <path clip-path=\"url(#pb54b6ebb95)\" d=\"M 206.063235 62.161572 \r\nL 213.940882 62.161572 \r\nL 213.940882 68.556866 \r\nL 206.063235 68.556866 \r\nL 206.063235 62.161572 \r\n\" style=\"fill:#631f53;\"/>\r\n    <path clip-path=\"url(#pb54b6ebb95)\" d=\"M 213.940882 62.161572 \r\nL 221.818529 62.161572 \r\nL 221.818529 68.556866 \r\nL 213.940882 68.556866 \r\nL 213.940882 62.161572 \r\n\" style=\"fill:#f6a880;\"/>\r\n    <path clip-path=\"url(#pb54b6ebb95)\" d=\"M 221.818529 62.161572 \r\nL 229.696176 62.161572 \r\nL 229.696176 68.556866 \r\nL 221.818529 68.556866 \r\nL 221.818529 62.161572 \r\n\" style=\"fill:#f3714d;\"/>\r\n    <path clip-path=\"url(#pb54b6ebb95)\" d=\"M 229.696176 62.161572 \r\nL 237.573824 62.161572 \r\nL 237.573824 68.556866 \r\nL 229.696176 68.556866 \r\nL 229.696176 62.161572 \r\n\" style=\"fill:#faebdd;\"/>\r\n    <path clip-path=\"url(#pb54b6ebb95)\" d=\"M 237.573824 62.161572 \r\nL 245.451471 62.161572 \r\nL 245.451471 68.556866 \r\nL 237.573824 68.556866 \r\nL 237.573824 62.161572 \r\n\" style=\"fill:#f6a178;\"/>\r\n    <path clip-path=\"url(#pb54b6ebb95)\" d=\"M 245.451471 62.161572 \r\nL 253.329118 62.161572 \r\nL 253.329118 68.556866 \r\nL 245.451471 68.556866 \r\nL 245.451471 62.161572 \r\n\" style=\"fill:#f37651;\"/>\r\n    <path clip-path=\"url(#pb54b6ebb95)\" d=\"M 253.329118 62.161572 \r\nL 261.206765 62.161572 \r\nL 261.206765 68.556866 \r\nL 253.329118 68.556866 \r\nL 253.329118 62.161572 \r\n\" style=\"fill:#f3734e;\"/>\r\n    <path clip-path=\"url(#pb54b6ebb95)\" d=\"M 261.206765 62.161572 \r\nL 269.084412 62.161572 \r\nL 269.084412 68.556866 \r\nL 261.206765 68.556866 \r\nL 261.206765 62.161572 \r\n\" style=\"fill:#f16244;\"/>\r\n    <path clip-path=\"url(#pb54b6ebb95)\" d=\"M 269.084412 62.161572 \r\nL 276.962059 62.161572 \r\nL 276.962059 68.556866 \r\nL 269.084412 68.556866 \r\nL 269.084412 62.161572 \r\n\" style=\"fill:#c51852;\"/>\r\n    <path clip-path=\"url(#pb54b6ebb95)\" d=\"M 276.962059 62.161572 \r\nL 284.839706 62.161572 \r\nL 284.839706 68.556866 \r\nL 276.962059 68.556866 \r\nL 276.962059 62.161572 \r\n\" style=\"fill:#f37450;\"/>\r\n    <path clip-path=\"url(#pb54b6ebb95)\" d=\"M 284.839706 62.161572 \r\nL 292.717353 62.161572 \r\nL 292.717353 68.556866 \r\nL 284.839706 68.556866 \r\nL 284.839706 62.161572 \r\n\" style=\"fill:#e43841;\"/>\r\n    <path clip-path=\"url(#pb54b6ebb95)\" d=\"M 292.717353 62.161572 \r\nL 300.595 62.161572 \r\nL 300.595 68.556866 \r\nL 292.717353 68.556866 \r\nL 292.717353 62.161572 \r\n\" style=\"fill:#7b1f59;\"/>\r\n    <path clip-path=\"url(#pb54b6ebb95)\" d=\"M 300.595 62.161572 \r\nL 308.472647 62.161572 \r\nL 308.472647 68.556866 \r\nL 300.595 68.556866 \r\nL 300.595 62.161572 \r\n\" style=\"fill:#5c1e51;\"/>\r\n    <path clip-path=\"url(#pb54b6ebb95)\" d=\"M 308.472647 62.161572 \r\nL 316.350294 62.161572 \r\nL 316.350294 68.556866 \r\nL 308.472647 68.556866 \r\nL 308.472647 62.161572 \r\n\" style=\"fill:#561e4f;\"/>\r\n    <path clip-path=\"url(#pb54b6ebb95)\" d=\"M 316.350294 62.161572 \r\nL 324.227941 62.161572 \r\nL 324.227941 68.556866 \r\nL 316.350294 68.556866 \r\nL 316.350294 62.161572 \r\n\" style=\"fill:#421b45;\"/>\r\n    <path clip-path=\"url(#pb54b6ebb95)\" d=\"M 324.227941 62.161572 \r\nL 332.105588 62.161572 \r\nL 332.105588 68.556866 \r\nL 324.227941 68.556866 \r\nL 324.227941 62.161572 \r\n\" style=\"fill:#3d1a42;\"/>\r\n    <path clip-path=\"url(#pb54b6ebb95)\" d=\"M 332.105588 62.161572 \r\nL 339.983235 62.161572 \r\nL 339.983235 68.556866 \r\nL 332.105588 68.556866 \r\nL 332.105588 62.161572 \r\n\" style=\"fill:#3a1a41;\"/>\r\n    <path clip-path=\"url(#pb54b6ebb95)\" d=\"M 339.983235 62.161572 \r\nL 347.860882 62.161572 \r\nL 347.860882 68.556866 \r\nL 339.983235 68.556866 \r\nL 339.983235 62.161572 \r\n\" style=\"fill:#491d49;\"/>\r\n    <path clip-path=\"url(#pb54b6ebb95)\" d=\"M 347.860882 62.161572 \r\nL 355.738529 62.161572 \r\nL 355.738529 68.556866 \r\nL 347.860882 68.556866 \r\nL 347.860882 62.161572 \r\n\" style=\"fill:#381a40;\"/>\r\n    <path clip-path=\"url(#pb54b6ebb95)\" d=\"M 355.738529 62.161572 \r\nL 363.616176 62.161572 \r\nL 363.616176 68.556866 \r\nL 355.738529 68.556866 \r\nL 355.738529 62.161572 \r\n\" style=\"fill:#611f53;\"/>\r\n    <path clip-path=\"url(#pb54b6ebb95)\" d=\"M 363.616176 62.161572 \r\nL 371.493824 62.161572 \r\nL 371.493824 68.556866 \r\nL 363.616176 68.556866 \r\nL 363.616176 62.161572 \r\n\" style=\"fill:#561e4f;\"/>\r\n    <path clip-path=\"url(#pb54b6ebb95)\" d=\"M 371.493824 62.161572 \r\nL 379.371471 62.161572 \r\nL 379.371471 68.556866 \r\nL 371.493824 68.556866 \r\nL 371.493824 62.161572 \r\n\" style=\"fill:#561e4f;\"/>\r\n    <path clip-path=\"url(#pb54b6ebb95)\" d=\"M 379.371471 62.161572 \r\nL 387.249118 62.161572 \r\nL 387.249118 68.556866 \r\nL 379.371471 68.556866 \r\nL 379.371471 62.161572 \r\n\" style=\"fill:#5c1e51;\"/>\r\n    <path clip-path=\"url(#pb54b6ebb95)\" d=\"M 387.249118 62.161572 \r\nL 395.126765 62.161572 \r\nL 395.126765 68.556866 \r\nL 387.249118 68.556866 \r\nL 387.249118 62.161572 \r\n\" style=\"fill:#591e50;\"/>\r\n    <path clip-path=\"url(#pb54b6ebb95)\" d=\"M 395.126765 62.161572 \r\nL 403.004412 62.161572 \r\nL 403.004412 68.556866 \r\nL 395.126765 68.556866 \r\nL 395.126765 62.161572 \r\n\" style=\"fill:#501d4c;\"/>\r\n    <path clip-path=\"url(#pb54b6ebb95)\" d=\"M 403.004412 62.161572 \r\nL 410.882059 62.161572 \r\nL 410.882059 68.556866 \r\nL 403.004412 68.556866 \r\nL 403.004412 62.161572 \r\n\" style=\"fill:#591e50;\"/>\r\n    <path clip-path=\"url(#pb54b6ebb95)\" d=\"M 410.882059 62.161572 \r\nL 418.759706 62.161572 \r\nL 418.759706 68.556866 \r\nL 410.882059 68.556866 \r\nL 410.882059 62.161572 \r\n\" style=\"fill:#431c46;\"/>\r\n    <path clip-path=\"url(#pb54b6ebb95)\" d=\"M 418.759706 62.161572 \r\nL 426.637353 62.161572 \r\nL 426.637353 68.556866 \r\nL 418.759706 68.556866 \r\nL 418.759706 62.161572 \r\n\" style=\"fill:#4b1d4a;\"/>\r\n    <path clip-path=\"url(#pb54b6ebb95)\" d=\"M 426.637353 62.161572 \r\nL 434.515 62.161572 \r\nL 434.515 68.556866 \r\nL 426.637353 68.556866 \r\nL 426.637353 62.161572 \r\n\" style=\"fill:#160e27;\"/>\r\n    <path clip-path=\"url(#pb54b6ebb95)\" d=\"M 166.675 68.556866 \r\nL 174.552647 68.556866 \r\nL 174.552647 74.95216 \r\nL 166.675 74.95216 \r\nL 166.675 68.556866 \r\n\" style=\"fill:#511e4d;\"/>\r\n    <path clip-path=\"url(#pb54b6ebb95)\" d=\"M 174.552647 68.556866 \r\nL 182.430294 68.556866 \r\nL 182.430294 74.95216 \r\nL 174.552647 74.95216 \r\nL 174.552647 68.556866 \r\n\" style=\"fill:#751f58;\"/>\r\n    <path clip-path=\"url(#pb54b6ebb95)\" d=\"M 182.430294 68.556866 \r\nL 190.307941 68.556866 \r\nL 190.307941 74.95216 \r\nL 182.430294 74.95216 \r\nL 182.430294 68.556866 \r\n\" style=\"fill:#5e1f52;\"/>\r\n    <path clip-path=\"url(#pb54b6ebb95)\" d=\"M 190.307941 68.556866 \r\nL 198.185588 68.556866 \r\nL 198.185588 74.95216 \r\nL 190.307941 74.95216 \r\nL 190.307941 68.556866 \r\n\" style=\"fill:#611f53;\"/>\r\n    <path clip-path=\"url(#pb54b6ebb95)\" d=\"M 198.185588 68.556866 \r\nL 206.063235 68.556866 \r\nL 206.063235 74.95216 \r\nL 198.185588 74.95216 \r\nL 198.185588 68.556866 \r\n\" style=\"fill:#451c47;\"/>\r\n    <path clip-path=\"url(#pb54b6ebb95)\" d=\"M 206.063235 68.556866 \r\nL 213.940882 68.556866 \r\nL 213.940882 74.95216 \r\nL 206.063235 74.95216 \r\nL 206.063235 68.556866 \r\n\" style=\"fill:#5e1f52;\"/>\r\n    <path clip-path=\"url(#pb54b6ebb95)\" d=\"M 213.940882 68.556866 \r\nL 221.818529 68.556866 \r\nL 221.818529 74.95216 \r\nL 213.940882 74.95216 \r\nL 213.940882 68.556866 \r\n\" style=\"fill:#f7c2a2;\"/>\r\n    <path clip-path=\"url(#pb54b6ebb95)\" d=\"M 221.818529 68.556866 \r\nL 229.696176 68.556866 \r\nL 229.696176 74.95216 \r\nL 221.818529 74.95216 \r\nL 221.818529 68.556866 \r\n\" style=\"fill:#ee543f;\"/>\r\n    <path clip-path=\"url(#pb54b6ebb95)\" d=\"M 229.696176 68.556866 \r\nL 237.573824 68.556866 \r\nL 237.573824 74.95216 \r\nL 229.696176 74.95216 \r\nL 229.696176 68.556866 \r\n\" style=\"fill:#f6a178;\"/>\r\n    <path clip-path=\"url(#pb54b6ebb95)\" d=\"M 237.573824 68.556866 \r\nL 245.451471 68.556866 \r\nL 245.451471 74.95216 \r\nL 237.573824 74.95216 \r\nL 237.573824 68.556866 \r\n\" style=\"fill:#faebdd;\"/>\r\n    <path clip-path=\"url(#pb54b6ebb95)\" d=\"M 245.451471 68.556866 \r\nL 253.329118 68.556866 \r\nL 253.329118 74.95216 \r\nL 245.451471 74.95216 \r\nL 245.451471 68.556866 \r\n\" style=\"fill:#f26948;\"/>\r\n    <path clip-path=\"url(#pb54b6ebb95)\" d=\"M 253.329118 68.556866 \r\nL 261.206765 68.556866 \r\nL 261.206765 74.95216 \r\nL 253.329118 74.95216 \r\nL 253.329118 68.556866 \r\n\" style=\"fill:#f26948;\"/>\r\n    <path clip-path=\"url(#pb54b6ebb95)\" d=\"M 261.206765 68.556866 \r\nL 269.084412 68.556866 \r\nL 269.084412 74.95216 \r\nL 261.206765 74.95216 \r\nL 261.206765 68.556866 \r\n\" style=\"fill:#ef5640;\"/>\r\n    <path clip-path=\"url(#pb54b6ebb95)\" d=\"M 269.084412 68.556866 \r\nL 276.962059 68.556866 \r\nL 276.962059 74.95216 \r\nL 269.084412 74.95216 \r\nL 269.084412 68.556866 \r\n\" style=\"fill:#ba1656;\"/>\r\n    <path clip-path=\"url(#pb54b6ebb95)\" d=\"M 276.962059 68.556866 \r\nL 284.839706 68.556866 \r\nL 284.839706 74.95216 \r\nL 276.962059 74.95216 \r\nL 276.962059 68.556866 \r\n\" style=\"fill:#f37651;\"/>\r\n    <path clip-path=\"url(#pb54b6ebb95)\" d=\"M 284.839706 68.556866 \r\nL 292.717353 68.556866 \r\nL 292.717353 74.95216 \r\nL 284.839706 74.95216 \r\nL 284.839706 68.556866 \r\n\" style=\"fill:#e53940;\"/>\r\n    <path clip-path=\"url(#pb54b6ebb95)\" d=\"M 292.717353 68.556866 \r\nL 300.595 68.556866 \r\nL 300.595 74.95216 \r\nL 292.717353 74.95216 \r\nL 292.717353 68.556866 \r\n\" style=\"fill:#841e5a;\"/>\r\n    <path clip-path=\"url(#pb54b6ebb95)\" d=\"M 300.595 68.556866 \r\nL 308.472647 68.556866 \r\nL 308.472647 74.95216 \r\nL 300.595 74.95216 \r\nL 300.595 68.556866 \r\n\" style=\"fill:#5b1e51;\"/>\r\n    <path clip-path=\"url(#pb54b6ebb95)\" d=\"M 308.472647 68.556866 \r\nL 316.350294 68.556866 \r\nL 316.350294 74.95216 \r\nL 308.472647 74.95216 \r\nL 308.472647 68.556866 \r\n\" style=\"fill:#561e4f;\"/>\r\n    <path clip-path=\"url(#pb54b6ebb95)\" d=\"M 316.350294 68.556866 \r\nL 324.227941 68.556866 \r\nL 324.227941 74.95216 \r\nL 316.350294 74.95216 \r\nL 316.350294 68.556866 \r\n\" style=\"fill:#501d4c;\"/>\r\n    <path clip-path=\"url(#pb54b6ebb95)\" d=\"M 324.227941 68.556866 \r\nL 332.105588 68.556866 \r\nL 332.105588 74.95216 \r\nL 324.227941 74.95216 \r\nL 324.227941 68.556866 \r\n\" style=\"fill:#4e1d4b;\"/>\r\n    <path clip-path=\"url(#pb54b6ebb95)\" d=\"M 332.105588 68.556866 \r\nL 339.983235 68.556866 \r\nL 339.983235 74.95216 \r\nL 332.105588 74.95216 \r\nL 332.105588 68.556866 \r\n\" style=\"fill:#4b1d4a;\"/>\r\n    <path clip-path=\"url(#pb54b6ebb95)\" d=\"M 339.983235 68.556866 \r\nL 347.860882 68.556866 \r\nL 347.860882 74.95216 \r\nL 339.983235 74.95216 \r\nL 339.983235 68.556866 \r\n\" style=\"fill:#561e4f;\"/>\r\n    <path clip-path=\"url(#pb54b6ebb95)\" d=\"M 347.860882 68.556866 \r\nL 355.738529 68.556866 \r\nL 355.738529 74.95216 \r\nL 347.860882 74.95216 \r\nL 347.860882 68.556866 \r\n\" style=\"fill:#3f1b43;\"/>\r\n    <path clip-path=\"url(#pb54b6ebb95)\" d=\"M 355.738529 68.556866 \r\nL 363.616176 68.556866 \r\nL 363.616176 74.95216 \r\nL 355.738529 74.95216 \r\nL 355.738529 68.556866 \r\n\" style=\"fill:#591e50;\"/>\r\n    <path clip-path=\"url(#pb54b6ebb95)\" d=\"M 363.616176 68.556866 \r\nL 371.493824 68.556866 \r\nL 371.493824 74.95216 \r\nL 363.616176 74.95216 \r\nL 363.616176 68.556866 \r\n\" style=\"fill:#491d49;\"/>\r\n    <path clip-path=\"url(#pb54b6ebb95)\" d=\"M 371.493824 68.556866 \r\nL 379.371471 68.556866 \r\nL 379.371471 74.95216 \r\nL 371.493824 74.95216 \r\nL 371.493824 68.556866 \r\n\" style=\"fill:#5b1e51;\"/>\r\n    <path clip-path=\"url(#pb54b6ebb95)\" d=\"M 379.371471 68.556866 \r\nL 387.249118 68.556866 \r\nL 387.249118 74.95216 \r\nL 379.371471 74.95216 \r\nL 379.371471 68.556866 \r\n\" style=\"fill:#531e4d;\"/>\r\n    <path clip-path=\"url(#pb54b6ebb95)\" d=\"M 387.249118 68.556866 \r\nL 395.126765 68.556866 \r\nL 395.126765 74.95216 \r\nL 387.249118 74.95216 \r\nL 387.249118 68.556866 \r\n\" style=\"fill:#541e4e;\"/>\r\n    <path clip-path=\"url(#pb54b6ebb95)\" d=\"M 395.126765 68.556866 \r\nL 403.004412 68.556866 \r\nL 403.004412 74.95216 \r\nL 395.126765 74.95216 \r\nL 395.126765 68.556866 \r\n\" style=\"fill:#511e4d;\"/>\r\n    <path clip-path=\"url(#pb54b6ebb95)\" d=\"M 403.004412 68.556866 \r\nL 410.882059 68.556866 \r\nL 410.882059 74.95216 \r\nL 403.004412 74.95216 \r\nL 403.004412 68.556866 \r\n\" style=\"fill:#501d4c;\"/>\r\n    <path clip-path=\"url(#pb54b6ebb95)\" d=\"M 410.882059 68.556866 \r\nL 418.759706 68.556866 \r\nL 418.759706 74.95216 \r\nL 410.882059 74.95216 \r\nL 410.882059 68.556866 \r\n\" style=\"fill:#611f53;\"/>\r\n    <path clip-path=\"url(#pb54b6ebb95)\" d=\"M 418.759706 68.556866 \r\nL 426.637353 68.556866 \r\nL 426.637353 74.95216 \r\nL 418.759706 74.95216 \r\nL 418.759706 68.556866 \r\n\" style=\"fill:#5c1e51;\"/>\r\n    <path clip-path=\"url(#pb54b6ebb95)\" d=\"M 426.637353 68.556866 \r\nL 434.515 68.556866 \r\nL 434.515 74.95216 \r\nL 426.637353 74.95216 \r\nL 426.637353 68.556866 \r\n\" style=\"fill:#2d1738;\"/>\r\n    <path clip-path=\"url(#pb54b6ebb95)\" d=\"M 166.675 74.95216 \r\nL 174.552647 74.95216 \r\nL 174.552647 81.347454 \r\nL 166.675 81.347454 \r\nL 166.675 74.95216 \r\n\" style=\"fill:#5c1e51;\"/>\r\n    <path clip-path=\"url(#pb54b6ebb95)\" d=\"M 174.552647 74.95216 \r\nL 182.430294 74.95216 \r\nL 182.430294 81.347454 \r\nL 174.552647 81.347454 \r\nL 174.552647 74.95216 \r\n\" style=\"fill:#781f59;\"/>\r\n    <path clip-path=\"url(#pb54b6ebb95)\" d=\"M 182.430294 74.95216 \r\nL 190.307941 74.95216 \r\nL 190.307941 81.347454 \r\nL 182.430294 81.347454 \r\nL 182.430294 74.95216 \r\n\" style=\"fill:#5b1e51;\"/>\r\n    <path clip-path=\"url(#pb54b6ebb95)\" d=\"M 190.307941 74.95216 \r\nL 198.185588 74.95216 \r\nL 198.185588 81.347454 \r\nL 190.307941 81.347454 \r\nL 190.307941 74.95216 \r\n\" style=\"fill:#561e4f;\"/>\r\n    <path clip-path=\"url(#pb54b6ebb95)\" d=\"M 198.185588 74.95216 \r\nL 206.063235 74.95216 \r\nL 206.063235 81.347454 \r\nL 198.185588 81.347454 \r\nL 198.185588 74.95216 \r\n\" style=\"fill:#3a1a41;\"/>\r\n    <path clip-path=\"url(#pb54b6ebb95)\" d=\"M 206.063235 74.95216 \r\nL 213.940882 74.95216 \r\nL 213.940882 81.347454 \r\nL 206.063235 81.347454 \r\nL 206.063235 74.95216 \r\n\" style=\"fill:#5e1f52;\"/>\r\n    <path clip-path=\"url(#pb54b6ebb95)\" d=\"M 213.940882 74.95216 \r\nL 221.818529 74.95216 \r\nL 221.818529 81.347454 \r\nL 213.940882 81.347454 \r\nL 213.940882 74.95216 \r\n\" style=\"fill:#f47f58;\"/>\r\n    <path clip-path=\"url(#pb54b6ebb95)\" d=\"M 221.818529 74.95216 \r\nL 229.696176 74.95216 \r\nL 229.696176 81.347454 \r\nL 221.818529 81.347454 \r\nL 221.818529 74.95216 \r\n\" style=\"fill:#ed4e3e;\"/>\r\n    <path clip-path=\"url(#pb54b6ebb95)\" d=\"M 229.696176 74.95216 \r\nL 237.573824 74.95216 \r\nL 237.573824 81.347454 \r\nL 229.696176 81.347454 \r\nL 229.696176 74.95216 \r\n\" style=\"fill:#f37651;\"/>\r\n    <path clip-path=\"url(#pb54b6ebb95)\" d=\"M 237.573824 74.95216 \r\nL 245.451471 74.95216 \r\nL 245.451471 81.347454 \r\nL 237.573824 81.347454 \r\nL 237.573824 74.95216 \r\n\" style=\"fill:#f26948;\"/>\r\n    <path clip-path=\"url(#pb54b6ebb95)\" d=\"M 245.451471 74.95216 \r\nL 253.329118 74.95216 \r\nL 253.329118 81.347454 \r\nL 245.451471 81.347454 \r\nL 245.451471 74.95216 \r\n\" style=\"fill:#faebdd;\"/>\r\n    <path clip-path=\"url(#pb54b6ebb95)\" d=\"M 253.329118 74.95216 \r\nL 261.206765 74.95216 \r\nL 261.206765 81.347454 \r\nL 253.329118 81.347454 \r\nL 253.329118 74.95216 \r\n\" style=\"fill:#f8d9c3;\"/>\r\n    <path clip-path=\"url(#pb54b6ebb95)\" d=\"M 261.206765 74.95216 \r\nL 269.084412 74.95216 \r\nL 269.084412 81.347454 \r\nL 261.206765 81.347454 \r\nL 261.206765 74.95216 \r\n\" style=\"fill:#f7c7a8;\"/>\r\n    <path clip-path=\"url(#pb54b6ebb95)\" d=\"M 269.084412 74.95216 \r\nL 276.962059 74.95216 \r\nL 276.962059 81.347454 \r\nL 269.084412 81.347454 \r\nL 269.084412 74.95216 \r\n\" style=\"fill:#d11f4c;\"/>\r\n    <path clip-path=\"url(#pb54b6ebb95)\" d=\"M 276.962059 74.95216 \r\nL 284.839706 74.95216 \r\nL 284.839706 81.347454 \r\nL 276.962059 81.347454 \r\nL 276.962059 74.95216 \r\n\" style=\"fill:#f4815a;\"/>\r\n    <path clip-path=\"url(#pb54b6ebb95)\" d=\"M 284.839706 74.95216 \r\nL 292.717353 74.95216 \r\nL 292.717353 81.347454 \r\nL 284.839706 81.347454 \r\nL 284.839706 74.95216 \r\n\" style=\"fill:#d62449;\"/>\r\n    <path clip-path=\"url(#pb54b6ebb95)\" d=\"M 292.717353 74.95216 \r\nL 300.595 74.95216 \r\nL 300.595 81.347454 \r\nL 292.717353 81.347454 \r\nL 292.717353 74.95216 \r\n\" style=\"fill:#821e5a;\"/>\r\n    <path clip-path=\"url(#pb54b6ebb95)\" d=\"M 300.595 74.95216 \r\nL 308.472647 74.95216 \r\nL 308.472647 81.347454 \r\nL 300.595 81.347454 \r\nL 300.595 74.95216 \r\n\" style=\"fill:#5e1f52;\"/>\r\n    <path clip-path=\"url(#pb54b6ebb95)\" d=\"M 308.472647 74.95216 \r\nL 316.350294 74.95216 \r\nL 316.350294 81.347454 \r\nL 308.472647 81.347454 \r\nL 308.472647 74.95216 \r\n\" style=\"fill:#581e4f;\"/>\r\n    <path clip-path=\"url(#pb54b6ebb95)\" d=\"M 316.350294 74.95216 \r\nL 324.227941 74.95216 \r\nL 324.227941 81.347454 \r\nL 316.350294 81.347454 \r\nL 316.350294 74.95216 \r\n\" style=\"fill:#4e1d4b;\"/>\r\n    <path clip-path=\"url(#pb54b6ebb95)\" d=\"M 324.227941 74.95216 \r\nL 332.105588 74.95216 \r\nL 332.105588 81.347454 \r\nL 324.227941 81.347454 \r\nL 324.227941 74.95216 \r\n\" style=\"fill:#491d49;\"/>\r\n    <path clip-path=\"url(#pb54b6ebb95)\" d=\"M 332.105588 74.95216 \r\nL 339.983235 74.95216 \r\nL 339.983235 81.347454 \r\nL 332.105588 81.347454 \r\nL 332.105588 74.95216 \r\n\" style=\"fill:#481c48;\"/>\r\n    <path clip-path=\"url(#pb54b6ebb95)\" d=\"M 339.983235 74.95216 \r\nL 347.860882 74.95216 \r\nL 347.860882 81.347454 \r\nL 339.983235 81.347454 \r\nL 339.983235 74.95216 \r\n\" style=\"fill:#541e4e;\"/>\r\n    <path clip-path=\"url(#pb54b6ebb95)\" d=\"M 347.860882 74.95216 \r\nL 355.738529 74.95216 \r\nL 355.738529 81.347454 \r\nL 347.860882 81.347454 \r\nL 347.860882 74.95216 \r\n\" style=\"fill:#34193d;\"/>\r\n    <path clip-path=\"url(#pb54b6ebb95)\" d=\"M 355.738529 74.95216 \r\nL 363.616176 74.95216 \r\nL 363.616176 81.347454 \r\nL 355.738529 81.347454 \r\nL 355.738529 74.95216 \r\n\" style=\"fill:#6b1f56;\"/>\r\n    <path clip-path=\"url(#pb54b6ebb95)\" d=\"M 363.616176 74.95216 \r\nL 371.493824 74.95216 \r\nL 371.493824 81.347454 \r\nL 363.616176 81.347454 \r\nL 363.616176 74.95216 \r\n\" style=\"fill:#601f52;\"/>\r\n    <path clip-path=\"url(#pb54b6ebb95)\" d=\"M 371.493824 74.95216 \r\nL 379.371471 74.95216 \r\nL 379.371471 81.347454 \r\nL 371.493824 81.347454 \r\nL 371.493824 74.95216 \r\n\" style=\"fill:#6b1f56;\"/>\r\n    <path clip-path=\"url(#pb54b6ebb95)\" d=\"M 379.371471 74.95216 \r\nL 387.249118 74.95216 \r\nL 387.249118 81.347454 \r\nL 379.371471 81.347454 \r\nL 379.371471 74.95216 \r\n\" style=\"fill:#5c1e51;\"/>\r\n    <path clip-path=\"url(#pb54b6ebb95)\" d=\"M 387.249118 74.95216 \r\nL 395.126765 74.95216 \r\nL 395.126765 81.347454 \r\nL 387.249118 81.347454 \r\nL 387.249118 74.95216 \r\n\" style=\"fill:#5e1f52;\"/>\r\n    <path clip-path=\"url(#pb54b6ebb95)\" d=\"M 395.126765 74.95216 \r\nL 403.004412 74.95216 \r\nL 403.004412 81.347454 \r\nL 395.126765 81.347454 \r\nL 395.126765 74.95216 \r\n\" style=\"fill:#711f57;\"/>\r\n    <path clip-path=\"url(#pb54b6ebb95)\" d=\"M 403.004412 74.95216 \r\nL 410.882059 74.95216 \r\nL 410.882059 81.347454 \r\nL 403.004412 81.347454 \r\nL 403.004412 74.95216 \r\n\" style=\"fill:#4c1d4b;\"/>\r\n    <path clip-path=\"url(#pb54b6ebb95)\" d=\"M 410.882059 74.95216 \r\nL 418.759706 74.95216 \r\nL 418.759706 81.347454 \r\nL 410.882059 81.347454 \r\nL 410.882059 74.95216 \r\n\" style=\"fill:#501d4c;\"/>\r\n    <path clip-path=\"url(#pb54b6ebb95)\" d=\"M 418.759706 74.95216 \r\nL 426.637353 74.95216 \r\nL 426.637353 81.347454 \r\nL 418.759706 81.347454 \r\nL 418.759706 74.95216 \r\n\" style=\"fill:#481c48;\"/>\r\n    <path clip-path=\"url(#pb54b6ebb95)\" d=\"M 426.637353 74.95216 \r\nL 434.515 74.95216 \r\nL 434.515 81.347454 \r\nL 426.637353 81.347454 \r\nL 426.637353 74.95216 \r\n\" style=\"fill:#180f29;\"/>\r\n    <path clip-path=\"url(#pb54b6ebb95)\" d=\"M 166.675 81.347454 \r\nL 174.552647 81.347454 \r\nL 174.552647 87.742748 \r\nL 166.675 87.742748 \r\nL 166.675 81.347454 \r\n\" style=\"fill:#641f54;\"/>\r\n    <path clip-path=\"url(#pb54b6ebb95)\" d=\"M 174.552647 81.347454 \r\nL 182.430294 81.347454 \r\nL 182.430294 87.742748 \r\nL 174.552647 87.742748 \r\nL 174.552647 81.347454 \r\n\" style=\"fill:#681f55;\"/>\r\n    <path clip-path=\"url(#pb54b6ebb95)\" d=\"M 182.430294 81.347454 \r\nL 190.307941 81.347454 \r\nL 190.307941 87.742748 \r\nL 182.430294 87.742748 \r\nL 182.430294 81.347454 \r\n\" style=\"fill:#581e4f;\"/>\r\n    <path clip-path=\"url(#pb54b6ebb95)\" d=\"M 190.307941 81.347454 \r\nL 198.185588 81.347454 \r\nL 198.185588 87.742748 \r\nL 190.307941 87.742748 \r\nL 190.307941 81.347454 \r\n\" style=\"fill:#511e4d;\"/>\r\n    <path clip-path=\"url(#pb54b6ebb95)\" d=\"M 198.185588 81.347454 \r\nL 206.063235 81.347454 \r\nL 206.063235 87.742748 \r\nL 198.185588 87.742748 \r\nL 198.185588 81.347454 \r\n\" style=\"fill:#381a40;\"/>\r\n    <path clip-path=\"url(#pb54b6ebb95)\" d=\"M 206.063235 81.347454 \r\nL 213.940882 81.347454 \r\nL 213.940882 87.742748 \r\nL 206.063235 87.742748 \r\nL 206.063235 81.347454 \r\n\" style=\"fill:#5e1f52;\"/>\r\n    <path clip-path=\"url(#pb54b6ebb95)\" d=\"M 213.940882 81.347454 \r\nL 221.818529 81.347454 \r\nL 221.818529 87.742748 \r\nL 213.940882 87.742748 \r\nL 213.940882 81.347454 \r\n\" style=\"fill:#f4835b;\"/>\r\n    <path clip-path=\"url(#pb54b6ebb95)\" d=\"M 221.818529 81.347454 \r\nL 229.696176 81.347454 \r\nL 229.696176 87.742748 \r\nL 221.818529 87.742748 \r\nL 221.818529 81.347454 \r\n\" style=\"fill:#ed4e3e;\"/>\r\n    <path clip-path=\"url(#pb54b6ebb95)\" d=\"M 229.696176 81.347454 \r\nL 237.573824 81.347454 \r\nL 237.573824 87.742748 \r\nL 229.696176 87.742748 \r\nL 229.696176 81.347454 \r\n\" style=\"fill:#f3734e;\"/>\r\n    <path clip-path=\"url(#pb54b6ebb95)\" d=\"M 237.573824 81.347454 \r\nL 245.451471 81.347454 \r\nL 245.451471 87.742748 \r\nL 237.573824 87.742748 \r\nL 237.573824 81.347454 \r\n\" style=\"fill:#f26948;\"/>\r\n    <path clip-path=\"url(#pb54b6ebb95)\" d=\"M 245.451471 81.347454 \r\nL 253.329118 81.347454 \r\nL 253.329118 87.742748 \r\nL 245.451471 87.742748 \r\nL 245.451471 81.347454 \r\n\" style=\"fill:#f8d9c3;\"/>\r\n    <path clip-path=\"url(#pb54b6ebb95)\" d=\"M 253.329118 81.347454 \r\nL 261.206765 81.347454 \r\nL 261.206765 87.742748 \r\nL 253.329118 87.742748 \r\nL 253.329118 81.347454 \r\n\" style=\"fill:#faebdd;\"/>\r\n    <path clip-path=\"url(#pb54b6ebb95)\" d=\"M 261.206765 81.347454 \r\nL 269.084412 81.347454 \r\nL 269.084412 87.742748 \r\nL 261.206765 87.742748 \r\nL 261.206765 81.347454 \r\n\" style=\"fill:#f8dac5;\"/>\r\n    <path clip-path=\"url(#pb54b6ebb95)\" d=\"M 269.084412 81.347454 \r\nL 276.962059 81.347454 \r\nL 276.962059 87.742748 \r\nL 269.084412 87.742748 \r\nL 269.084412 81.347454 \r\n\" style=\"fill:#d5224a;\"/>\r\n    <path clip-path=\"url(#pb54b6ebb95)\" d=\"M 276.962059 81.347454 \r\nL 284.839706 81.347454 \r\nL 284.839706 87.742748 \r\nL 276.962059 87.742748 \r\nL 276.962059 81.347454 \r\n\" style=\"fill:#f47f58;\"/>\r\n    <path clip-path=\"url(#pb54b6ebb95)\" d=\"M 284.839706 81.347454 \r\nL 292.717353 81.347454 \r\nL 292.717353 87.742748 \r\nL 284.839706 87.742748 \r\nL 284.839706 81.347454 \r\n\" style=\"fill:#dd2c45;\"/>\r\n    <path clip-path=\"url(#pb54b6ebb95)\" d=\"M 292.717353 81.347454 \r\nL 300.595 81.347454 \r\nL 300.595 87.742748 \r\nL 292.717353 87.742748 \r\nL 292.717353 81.347454 \r\n\" style=\"fill:#931c5b;\"/>\r\n    <path clip-path=\"url(#pb54b6ebb95)\" d=\"M 300.595 81.347454 \r\nL 308.472647 81.347454 \r\nL 308.472647 87.742748 \r\nL 300.595 87.742748 \r\nL 300.595 81.347454 \r\n\" style=\"fill:#731f58;\"/>\r\n    <path clip-path=\"url(#pb54b6ebb95)\" d=\"M 308.472647 81.347454 \r\nL 316.350294 81.347454 \r\nL 316.350294 87.742748 \r\nL 308.472647 87.742748 \r\nL 308.472647 81.347454 \r\n\" style=\"fill:#611f53;\"/>\r\n    <path clip-path=\"url(#pb54b6ebb95)\" d=\"M 316.350294 81.347454 \r\nL 324.227941 81.347454 \r\nL 324.227941 87.742748 \r\nL 316.350294 87.742748 \r\nL 316.350294 81.347454 \r\n\" style=\"fill:#501d4c;\"/>\r\n    <path clip-path=\"url(#pb54b6ebb95)\" d=\"M 324.227941 81.347454 \r\nL 332.105588 81.347454 \r\nL 332.105588 87.742748 \r\nL 324.227941 87.742748 \r\nL 324.227941 81.347454 \r\n\" style=\"fill:#4b1d4a;\"/>\r\n    <path clip-path=\"url(#pb54b6ebb95)\" d=\"M 332.105588 81.347454 \r\nL 339.983235 81.347454 \r\nL 339.983235 87.742748 \r\nL 332.105588 87.742748 \r\nL 332.105588 81.347454 \r\n\" style=\"fill:#461c48;\"/>\r\n    <path clip-path=\"url(#pb54b6ebb95)\" d=\"M 339.983235 81.347454 \r\nL 347.860882 81.347454 \r\nL 347.860882 87.742748 \r\nL 339.983235 87.742748 \r\nL 339.983235 81.347454 \r\n\" style=\"fill:#4e1d4b;\"/>\r\n    <path clip-path=\"url(#pb54b6ebb95)\" d=\"M 347.860882 81.347454 \r\nL 355.738529 81.347454 \r\nL 355.738529 87.742748 \r\nL 347.860882 87.742748 \r\nL 347.860882 81.347454 \r\n\" style=\"fill:#3d1a42;\"/>\r\n    <path clip-path=\"url(#pb54b6ebb95)\" d=\"M 355.738529 81.347454 \r\nL 363.616176 81.347454 \r\nL 363.616176 87.742748 \r\nL 355.738529 87.742748 \r\nL 355.738529 81.347454 \r\n\" style=\"fill:#681f55;\"/>\r\n    <path clip-path=\"url(#pb54b6ebb95)\" d=\"M 363.616176 81.347454 \r\nL 371.493824 81.347454 \r\nL 371.493824 87.742748 \r\nL 363.616176 87.742748 \r\nL 363.616176 81.347454 \r\n\" style=\"fill:#691f55;\"/>\r\n    <path clip-path=\"url(#pb54b6ebb95)\" d=\"M 371.493824 81.347454 \r\nL 379.371471 81.347454 \r\nL 379.371471 87.742748 \r\nL 371.493824 87.742748 \r\nL 371.493824 81.347454 \r\n\" style=\"fill:#731f58;\"/>\r\n    <path clip-path=\"url(#pb54b6ebb95)\" d=\"M 379.371471 81.347454 \r\nL 387.249118 81.347454 \r\nL 387.249118 87.742748 \r\nL 379.371471 87.742748 \r\nL 379.371471 81.347454 \r\n\" style=\"fill:#681f55;\"/>\r\n    <path clip-path=\"url(#pb54b6ebb95)\" d=\"M 387.249118 81.347454 \r\nL 395.126765 81.347454 \r\nL 395.126765 87.742748 \r\nL 387.249118 87.742748 \r\nL 387.249118 81.347454 \r\n\" style=\"fill:#601f52;\"/>\r\n    <path clip-path=\"url(#pb54b6ebb95)\" d=\"M 395.126765 81.347454 \r\nL 403.004412 81.347454 \r\nL 403.004412 87.742748 \r\nL 395.126765 87.742748 \r\nL 395.126765 81.347454 \r\n\" style=\"fill:#761f58;\"/>\r\n    <path clip-path=\"url(#pb54b6ebb95)\" d=\"M 403.004412 81.347454 \r\nL 410.882059 81.347454 \r\nL 410.882059 87.742748 \r\nL 403.004412 87.742748 \r\nL 403.004412 81.347454 \r\n\" style=\"fill:#421b45;\"/>\r\n    <path clip-path=\"url(#pb54b6ebb95)\" d=\"M 410.882059 81.347454 \r\nL 418.759706 81.347454 \r\nL 418.759706 87.742748 \r\nL 410.882059 87.742748 \r\nL 410.882059 81.347454 \r\n\" style=\"fill:#4c1d4b;\"/>\r\n    <path clip-path=\"url(#pb54b6ebb95)\" d=\"M 418.759706 81.347454 \r\nL 426.637353 81.347454 \r\nL 426.637353 87.742748 \r\nL 418.759706 87.742748 \r\nL 418.759706 81.347454 \r\n\" style=\"fill:#2b1637;\"/>\r\n    <path clip-path=\"url(#pb54b6ebb95)\" d=\"M 426.637353 81.347454 \r\nL 434.515 81.347454 \r\nL 434.515 87.742748 \r\nL 426.637353 87.742748 \r\nL 426.637353 81.347454 \r\n\" style=\"fill:#31183b;\"/>\r\n    <path clip-path=\"url(#pb54b6ebb95)\" d=\"M 166.675 87.742748 \r\nL 174.552647 87.742748 \r\nL 174.552647 94.138042 \r\nL 166.675 94.138042 \r\nL 166.675 87.742748 \r\n\" style=\"fill:#811e5a;\"/>\r\n    <path clip-path=\"url(#pb54b6ebb95)\" d=\"M 174.552647 87.742748 \r\nL 182.430294 87.742748 \r\nL 182.430294 94.138042 \r\nL 174.552647 94.138042 \r\nL 174.552647 87.742748 \r\n\" style=\"fill:#761f58;\"/>\r\n    <path clip-path=\"url(#pb54b6ebb95)\" d=\"M 182.430294 87.742748 \r\nL 190.307941 87.742748 \r\nL 190.307941 94.138042 \r\nL 182.430294 94.138042 \r\nL 182.430294 87.742748 \r\n\" style=\"fill:#5c1e51;\"/>\r\n    <path clip-path=\"url(#pb54b6ebb95)\" d=\"M 190.307941 87.742748 \r\nL 198.185588 87.742748 \r\nL 198.185588 94.138042 \r\nL 190.307941 94.138042 \r\nL 190.307941 87.742748 \r\n\" style=\"fill:#511e4d;\"/>\r\n    <path clip-path=\"url(#pb54b6ebb95)\" d=\"M 198.185588 87.742748 \r\nL 206.063235 87.742748 \r\nL 206.063235 94.138042 \r\nL 198.185588 94.138042 \r\nL 198.185588 87.742748 \r\n\" style=\"fill:#3f1b43;\"/>\r\n    <path clip-path=\"url(#pb54b6ebb95)\" d=\"M 206.063235 87.742748 \r\nL 213.940882 87.742748 \r\nL 213.940882 94.138042 \r\nL 206.063235 94.138042 \r\nL 206.063235 87.742748 \r\n\" style=\"fill:#5e1f52;\"/>\r\n    <path clip-path=\"url(#pb54b6ebb95)\" d=\"M 213.940882 87.742748 \r\nL 221.818529 87.742748 \r\nL 221.818529 94.138042 \r\nL 213.940882 94.138042 \r\nL 213.940882 87.742748 \r\n\" style=\"fill:#f37651;\"/>\r\n    <path clip-path=\"url(#pb54b6ebb95)\" d=\"M 221.818529 87.742748 \r\nL 229.696176 87.742748 \r\nL 229.696176 94.138042 \r\nL 221.818529 94.138042 \r\nL 221.818529 87.742748 \r\n\" style=\"fill:#eb463e;\"/>\r\n    <path clip-path=\"url(#pb54b6ebb95)\" d=\"M 229.696176 87.742748 \r\nL 237.573824 87.742748 \r\nL 237.573824 94.138042 \r\nL 229.696176 94.138042 \r\nL 229.696176 87.742748 \r\n\" style=\"fill:#f16244;\"/>\r\n    <path clip-path=\"url(#pb54b6ebb95)\" d=\"M 237.573824 87.742748 \r\nL 245.451471 87.742748 \r\nL 245.451471 94.138042 \r\nL 237.573824 94.138042 \r\nL 237.573824 87.742748 \r\n\" style=\"fill:#ef5640;\"/>\r\n    <path clip-path=\"url(#pb54b6ebb95)\" d=\"M 245.451471 87.742748 \r\nL 253.329118 87.742748 \r\nL 253.329118 94.138042 \r\nL 245.451471 94.138042 \r\nL 245.451471 87.742748 \r\n\" style=\"fill:#f7c7a8;\"/>\r\n    <path clip-path=\"url(#pb54b6ebb95)\" d=\"M 253.329118 87.742748 \r\nL 261.206765 87.742748 \r\nL 261.206765 94.138042 \r\nL 253.329118 94.138042 \r\nL 253.329118 87.742748 \r\n\" style=\"fill:#f8dac5;\"/>\r\n    <path clip-path=\"url(#pb54b6ebb95)\" d=\"M 261.206765 87.742748 \r\nL 269.084412 87.742748 \r\nL 269.084412 94.138042 \r\nL 261.206765 94.138042 \r\nL 261.206765 87.742748 \r\n\" style=\"fill:#faebdd;\"/>\r\n    <path clip-path=\"url(#pb54b6ebb95)\" d=\"M 269.084412 87.742748 \r\nL 276.962059 87.742748 \r\nL 276.962059 94.138042 \r\nL 269.084412 94.138042 \r\nL 269.084412 87.742748 \r\n\" style=\"fill:#ba1656;\"/>\r\n    <path clip-path=\"url(#pb54b6ebb95)\" d=\"M 276.962059 87.742748 \r\nL 284.839706 87.742748 \r\nL 284.839706 94.138042 \r\nL 276.962059 94.138042 \r\nL 276.962059 87.742748 \r\n\" style=\"fill:#f26948;\"/>\r\n    <path clip-path=\"url(#pb54b6ebb95)\" d=\"M 284.839706 87.742748 \r\nL 292.717353 87.742748 \r\nL 292.717353 94.138042 \r\nL 284.839706 94.138042 \r\nL 284.839706 87.742748 \r\n\" style=\"fill:#dd2c45;\"/>\r\n    <path clip-path=\"url(#pb54b6ebb95)\" d=\"M 292.717353 87.742748 \r\nL 300.595 87.742748 \r\nL 300.595 94.138042 \r\nL 292.717353 94.138042 \r\nL 292.717353 87.742748 \r\n\" style=\"fill:#981b5b;\"/>\r\n    <path clip-path=\"url(#pb54b6ebb95)\" d=\"M 300.595 87.742748 \r\nL 308.472647 87.742748 \r\nL 308.472647 94.138042 \r\nL 300.595 94.138042 \r\nL 300.595 87.742748 \r\n\" style=\"fill:#691f55;\"/>\r\n    <path clip-path=\"url(#pb54b6ebb95)\" d=\"M 308.472647 87.742748 \r\nL 316.350294 87.742748 \r\nL 316.350294 94.138042 \r\nL 308.472647 94.138042 \r\nL 308.472647 87.742748 \r\n\" style=\"fill:#601f52;\"/>\r\n    <path clip-path=\"url(#pb54b6ebb95)\" d=\"M 316.350294 87.742748 \r\nL 324.227941 87.742748 \r\nL 324.227941 94.138042 \r\nL 316.350294 94.138042 \r\nL 316.350294 87.742748 \r\n\" style=\"fill:#631f53;\"/>\r\n    <path clip-path=\"url(#pb54b6ebb95)\" d=\"M 324.227941 87.742748 \r\nL 332.105588 87.742748 \r\nL 332.105588 94.138042 \r\nL 324.227941 94.138042 \r\nL 324.227941 87.742748 \r\n\" style=\"fill:#5e1f52;\"/>\r\n    <path clip-path=\"url(#pb54b6ebb95)\" d=\"M 332.105588 87.742748 \r\nL 339.983235 87.742748 \r\nL 339.983235 94.138042 \r\nL 332.105588 94.138042 \r\nL 332.105588 87.742748 \r\n\" style=\"fill:#581e4f;\"/>\r\n    <path clip-path=\"url(#pb54b6ebb95)\" d=\"M 339.983235 87.742748 \r\nL 347.860882 87.742748 \r\nL 347.860882 94.138042 \r\nL 339.983235 94.138042 \r\nL 339.983235 87.742748 \r\n\" style=\"fill:#4e1d4b;\"/>\r\n    <path clip-path=\"url(#pb54b6ebb95)\" d=\"M 347.860882 87.742748 \r\nL 355.738529 87.742748 \r\nL 355.738529 94.138042 \r\nL 347.860882 94.138042 \r\nL 347.860882 87.742748 \r\n\" style=\"fill:#511e4d;\"/>\r\n    <path clip-path=\"url(#pb54b6ebb95)\" d=\"M 355.738529 87.742748 \r\nL 363.616176 87.742748 \r\nL 363.616176 94.138042 \r\nL 355.738529 94.138042 \r\nL 355.738529 87.742748 \r\n\" style=\"fill:#691f55;\"/>\r\n    <path clip-path=\"url(#pb54b6ebb95)\" d=\"M 363.616176 87.742748 \r\nL 371.493824 87.742748 \r\nL 371.493824 94.138042 \r\nL 363.616176 94.138042 \r\nL 363.616176 87.742748 \r\n\" style=\"fill:#6d1f56;\"/>\r\n    <path clip-path=\"url(#pb54b6ebb95)\" d=\"M 371.493824 87.742748 \r\nL 379.371471 87.742748 \r\nL 379.371471 94.138042 \r\nL 371.493824 94.138042 \r\nL 371.493824 87.742748 \r\n\" style=\"fill:#7d1f5a;\"/>\r\n    <path clip-path=\"url(#pb54b6ebb95)\" d=\"M 379.371471 87.742748 \r\nL 387.249118 87.742748 \r\nL 387.249118 94.138042 \r\nL 379.371471 94.138042 \r\nL 379.371471 87.742748 \r\n\" style=\"fill:#631f53;\"/>\r\n    <path clip-path=\"url(#pb54b6ebb95)\" d=\"M 387.249118 87.742748 \r\nL 395.126765 87.742748 \r\nL 395.126765 94.138042 \r\nL 387.249118 94.138042 \r\nL 387.249118 87.742748 \r\n\" style=\"fill:#5e1f52;\"/>\r\n    <path clip-path=\"url(#pb54b6ebb95)\" d=\"M 395.126765 87.742748 \r\nL 403.004412 87.742748 \r\nL 403.004412 94.138042 \r\nL 395.126765 94.138042 \r\nL 395.126765 87.742748 \r\n\" style=\"fill:#751f58;\"/>\r\n    <path clip-path=\"url(#pb54b6ebb95)\" d=\"M 403.004412 87.742748 \r\nL 410.882059 87.742748 \r\nL 410.882059 94.138042 \r\nL 403.004412 94.138042 \r\nL 403.004412 87.742748 \r\n\" style=\"fill:#481c48;\"/>\r\n    <path clip-path=\"url(#pb54b6ebb95)\" d=\"M 410.882059 87.742748 \r\nL 418.759706 87.742748 \r\nL 418.759706 94.138042 \r\nL 410.882059 94.138042 \r\nL 410.882059 87.742748 \r\n\" style=\"fill:#581e4f;\"/>\r\n    <path clip-path=\"url(#pb54b6ebb95)\" d=\"M 418.759706 87.742748 \r\nL 426.637353 87.742748 \r\nL 426.637353 94.138042 \r\nL 418.759706 94.138042 \r\nL 418.759706 87.742748 \r\n\" style=\"fill:#221331;\"/>\r\n    <path clip-path=\"url(#pb54b6ebb95)\" d=\"M 426.637353 87.742748 \r\nL 434.515 87.742748 \r\nL 434.515 94.138042 \r\nL 426.637353 94.138042 \r\nL 426.637353 87.742748 \r\n\" style=\"fill:#501d4c;\"/>\r\n    <path clip-path=\"url(#pb54b6ebb95)\" d=\"M 166.675 94.138042 \r\nL 174.552647 94.138042 \r\nL 174.552647 100.533336 \r\nL 166.675 100.533336 \r\nL 166.675 94.138042 \r\n\" style=\"fill:#541e4e;\"/>\r\n    <path clip-path=\"url(#pb54b6ebb95)\" d=\"M 174.552647 94.138042 \r\nL 182.430294 94.138042 \r\nL 182.430294 100.533336 \r\nL 174.552647 100.533336 \r\nL 174.552647 94.138042 \r\n\" style=\"fill:#631f53;\"/>\r\n    <path clip-path=\"url(#pb54b6ebb95)\" d=\"M 182.430294 94.138042 \r\nL 190.307941 94.138042 \r\nL 190.307941 100.533336 \r\nL 182.430294 100.533336 \r\nL 182.430294 94.138042 \r\n\" style=\"fill:#591e50;\"/>\r\n    <path clip-path=\"url(#pb54b6ebb95)\" d=\"M 190.307941 94.138042 \r\nL 198.185588 94.138042 \r\nL 198.185588 100.533336 \r\nL 190.307941 100.533336 \r\nL 190.307941 94.138042 \r\n\" style=\"fill:#5b1e51;\"/>\r\n    <path clip-path=\"url(#pb54b6ebb95)\" d=\"M 198.185588 94.138042 \r\nL 206.063235 94.138042 \r\nL 206.063235 100.533336 \r\nL 198.185588 100.533336 \r\nL 198.185588 94.138042 \r\n\" style=\"fill:#581e4f;\"/>\r\n    <path clip-path=\"url(#pb54b6ebb95)\" d=\"M 206.063235 94.138042 \r\nL 213.940882 94.138042 \r\nL 213.940882 100.533336 \r\nL 206.063235 100.533336 \r\nL 206.063235 94.138042 \r\n\" style=\"fill:#561e4f;\"/>\r\n    <path clip-path=\"url(#pb54b6ebb95)\" d=\"M 213.940882 94.138042 \r\nL 221.818529 94.138042 \r\nL 221.818529 100.533336 \r\nL 213.940882 100.533336 \r\nL 213.940882 94.138042 \r\n\" style=\"fill:#b71657;\"/>\r\n    <path clip-path=\"url(#pb54b6ebb95)\" d=\"M 221.818529 94.138042 \r\nL 229.696176 94.138042 \r\nL 229.696176 100.533336 \r\nL 221.818529 100.533336 \r\nL 221.818529 94.138042 \r\n\" style=\"fill:#bc1656;\"/>\r\n    <path clip-path=\"url(#pb54b6ebb95)\" d=\"M 229.696176 94.138042 \r\nL 237.573824 94.138042 \r\nL 237.573824 100.533336 \r\nL 229.696176 100.533336 \r\nL 229.696176 94.138042 \r\n\" style=\"fill:#c51852;\"/>\r\n    <path clip-path=\"url(#pb54b6ebb95)\" d=\"M 237.573824 94.138042 \r\nL 245.451471 94.138042 \r\nL 245.451471 100.533336 \r\nL 237.573824 100.533336 \r\nL 237.573824 94.138042 \r\n\" style=\"fill:#ba1656;\"/>\r\n    <path clip-path=\"url(#pb54b6ebb95)\" d=\"M 245.451471 94.138042 \r\nL 253.329118 94.138042 \r\nL 253.329118 100.533336 \r\nL 245.451471 100.533336 \r\nL 245.451471 94.138042 \r\n\" style=\"fill:#d11f4c;\"/>\r\n    <path clip-path=\"url(#pb54b6ebb95)\" d=\"M 253.329118 94.138042 \r\nL 261.206765 94.138042 \r\nL 261.206765 100.533336 \r\nL 253.329118 100.533336 \r\nL 253.329118 94.138042 \r\n\" style=\"fill:#d5224a;\"/>\r\n    <path clip-path=\"url(#pb54b6ebb95)\" d=\"M 261.206765 94.138042 \r\nL 269.084412 94.138042 \r\nL 269.084412 100.533336 \r\nL 261.206765 100.533336 \r\nL 261.206765 94.138042 \r\n\" style=\"fill:#ba1656;\"/>\r\n    <path clip-path=\"url(#pb54b6ebb95)\" d=\"M 269.084412 94.138042 \r\nL 276.962059 94.138042 \r\nL 276.962059 100.533336 \r\nL 269.084412 100.533336 \r\nL 269.084412 94.138042 \r\n\" style=\"fill:#faebdd;\"/>\r\n    <path clip-path=\"url(#pb54b6ebb95)\" d=\"M 276.962059 94.138042 \r\nL 284.839706 94.138042 \r\nL 284.839706 100.533336 \r\nL 276.962059 100.533336 \r\nL 276.962059 94.138042 \r\n\" style=\"fill:#e03143;\"/>\r\n    <path clip-path=\"url(#pb54b6ebb95)\" d=\"M 284.839706 94.138042 \r\nL 292.717353 94.138042 \r\nL 292.717353 100.533336 \r\nL 284.839706 100.533336 \r\nL 284.839706 94.138042 \r\n\" style=\"fill:#a6195a;\"/>\r\n    <path clip-path=\"url(#pb54b6ebb95)\" d=\"M 292.717353 94.138042 \r\nL 300.595 94.138042 \r\nL 300.595 100.533336 \r\nL 292.717353 100.533336 \r\nL 292.717353 94.138042 \r\n\" style=\"fill:#811e5a;\"/>\r\n    <path clip-path=\"url(#pb54b6ebb95)\" d=\"M 300.595 94.138042 \r\nL 308.472647 94.138042 \r\nL 308.472647 100.533336 \r\nL 300.595 100.533336 \r\nL 300.595 94.138042 \r\n\" style=\"fill:#7a1f59;\"/>\r\n    <path clip-path=\"url(#pb54b6ebb95)\" d=\"M 308.472647 94.138042 \r\nL 316.350294 94.138042 \r\nL 316.350294 100.533336 \r\nL 308.472647 100.533336 \r\nL 308.472647 94.138042 \r\n\" style=\"fill:#711f57;\"/>\r\n    <path clip-path=\"url(#pb54b6ebb95)\" d=\"M 316.350294 94.138042 \r\nL 324.227941 94.138042 \r\nL 324.227941 100.533336 \r\nL 316.350294 100.533336 \r\nL 316.350294 94.138042 \r\n\" style=\"fill:#501d4c;\"/>\r\n    <path clip-path=\"url(#pb54b6ebb95)\" d=\"M 324.227941 94.138042 \r\nL 332.105588 94.138042 \r\nL 332.105588 100.533336 \r\nL 324.227941 100.533336 \r\nL 324.227941 94.138042 \r\n\" style=\"fill:#4e1d4b;\"/>\r\n    <path clip-path=\"url(#pb54b6ebb95)\" d=\"M 332.105588 94.138042 \r\nL 339.983235 94.138042 \r\nL 339.983235 100.533336 \r\nL 332.105588 100.533336 \r\nL 332.105588 94.138042 \r\n\" style=\"fill:#4e1d4b;\"/>\r\n    <path clip-path=\"url(#pb54b6ebb95)\" d=\"M 339.983235 94.138042 \r\nL 347.860882 94.138042 \r\nL 347.860882 100.533336 \r\nL 339.983235 100.533336 \r\nL 339.983235 94.138042 \r\n\" style=\"fill:#561e4f;\"/>\r\n    <path clip-path=\"url(#pb54b6ebb95)\" d=\"M 347.860882 94.138042 \r\nL 355.738529 94.138042 \r\nL 355.738529 100.533336 \r\nL 347.860882 100.533336 \r\nL 347.860882 94.138042 \r\n\" style=\"fill:#31183b;\"/>\r\n    <path clip-path=\"url(#pb54b6ebb95)\" d=\"M 355.738529 94.138042 \r\nL 363.616176 94.138042 \r\nL 363.616176 100.533336 \r\nL 355.738529 100.533336 \r\nL 355.738529 94.138042 \r\n\" style=\"fill:#681f55;\"/>\r\n    <path clip-path=\"url(#pb54b6ebb95)\" d=\"M 363.616176 94.138042 \r\nL 371.493824 94.138042 \r\nL 371.493824 100.533336 \r\nL 363.616176 100.533336 \r\nL 363.616176 94.138042 \r\n\" style=\"fill:#5c1e51;\"/>\r\n    <path clip-path=\"url(#pb54b6ebb95)\" d=\"M 371.493824 94.138042 \r\nL 379.371471 94.138042 \r\nL 379.371471 100.533336 \r\nL 371.493824 100.533336 \r\nL 371.493824 94.138042 \r\n\" style=\"fill:#641f54;\"/>\r\n    <path clip-path=\"url(#pb54b6ebb95)\" d=\"M 379.371471 94.138042 \r\nL 387.249118 94.138042 \r\nL 387.249118 100.533336 \r\nL 379.371471 100.533336 \r\nL 379.371471 94.138042 \r\n\" style=\"fill:#681f55;\"/>\r\n    <path clip-path=\"url(#pb54b6ebb95)\" d=\"M 387.249118 94.138042 \r\nL 395.126765 94.138042 \r\nL 395.126765 100.533336 \r\nL 387.249118 100.533336 \r\nL 387.249118 94.138042 \r\n\" style=\"fill:#611f53;\"/>\r\n    <path clip-path=\"url(#pb54b6ebb95)\" d=\"M 395.126765 94.138042 \r\nL 403.004412 94.138042 \r\nL 403.004412 100.533336 \r\nL 395.126765 100.533336 \r\nL 395.126765 94.138042 \r\n\" style=\"fill:#661f54;\"/>\r\n    <path clip-path=\"url(#pb54b6ebb95)\" d=\"M 403.004412 94.138042 \r\nL 410.882059 94.138042 \r\nL 410.882059 100.533336 \r\nL 403.004412 100.533336 \r\nL 403.004412 94.138042 \r\n\" style=\"fill:#641f54;\"/>\r\n    <path clip-path=\"url(#pb54b6ebb95)\" d=\"M 410.882059 94.138042 \r\nL 418.759706 94.138042 \r\nL 418.759706 100.533336 \r\nL 410.882059 100.533336 \r\nL 410.882059 94.138042 \r\n\" style=\"fill:#4c1d4b;\"/>\r\n    <path clip-path=\"url(#pb54b6ebb95)\" d=\"M 418.759706 94.138042 \r\nL 426.637353 94.138042 \r\nL 426.637353 100.533336 \r\nL 418.759706 100.533336 \r\nL 418.759706 94.138042 \r\n\" style=\"fill:#591e50;\"/>\r\n    <path clip-path=\"url(#pb54b6ebb95)\" d=\"M 426.637353 94.138042 \r\nL 434.515 94.138042 \r\nL 434.515 100.533336 \r\nL 426.637353 100.533336 \r\nL 426.637353 94.138042 \r\n\" style=\"fill:#30173a;\"/>\r\n    <path clip-path=\"url(#pb54b6ebb95)\" d=\"M 166.675 100.533336 \r\nL 174.552647 100.533336 \r\nL 174.552647 106.928631 \r\nL 166.675 106.928631 \r\nL 166.675 100.533336 \r\n\" style=\"fill:#4c1d4b;\"/>\r\n    <path clip-path=\"url(#pb54b6ebb95)\" d=\"M 174.552647 100.533336 \r\nL 182.430294 100.533336 \r\nL 182.430294 106.928631 \r\nL 174.552647 106.928631 \r\nL 174.552647 100.533336 \r\n\" style=\"fill:#981b5b;\"/>\r\n    <path clip-path=\"url(#pb54b6ebb95)\" d=\"M 182.430294 100.533336 \r\nL 190.307941 100.533336 \r\nL 190.307941 106.928631 \r\nL 182.430294 106.928631 \r\nL 182.430294 100.533336 \r\n\" style=\"fill:#5e1f52;\"/>\r\n    <path clip-path=\"url(#pb54b6ebb95)\" d=\"M 190.307941 100.533336 \r\nL 198.185588 100.533336 \r\nL 198.185588 106.928631 \r\nL 190.307941 106.928631 \r\nL 190.307941 100.533336 \r\n\" style=\"fill:#5e1f52;\"/>\r\n    <path clip-path=\"url(#pb54b6ebb95)\" d=\"M 198.185588 100.533336 \r\nL 206.063235 100.533336 \r\nL 206.063235 106.928631 \r\nL 198.185588 106.928631 \r\nL 198.185588 100.533336 \r\n\" style=\"fill:#3c1a42;\"/>\r\n    <path clip-path=\"url(#pb54b6ebb95)\" d=\"M 206.063235 100.533336 \r\nL 213.940882 100.533336 \r\nL 213.940882 106.928631 \r\nL 206.063235 106.928631 \r\nL 206.063235 100.533336 \r\n\" style=\"fill:#421b45;\"/>\r\n    <path clip-path=\"url(#pb54b6ebb95)\" d=\"M 213.940882 100.533336 \r\nL 221.818529 100.533336 \r\nL 221.818529 106.928631 \r\nL 213.940882 106.928631 \r\nL 213.940882 100.533336 \r\n\" style=\"fill:#f4815a;\"/>\r\n    <path clip-path=\"url(#pb54b6ebb95)\" d=\"M 221.818529 100.533336 \r\nL 229.696176 100.533336 \r\nL 229.696176 106.928631 \r\nL 221.818529 106.928631 \r\nL 221.818529 100.533336 \r\n\" style=\"fill:#ef5840;\"/>\r\n    <path clip-path=\"url(#pb54b6ebb95)\" d=\"M 229.696176 100.533336 \r\nL 237.573824 100.533336 \r\nL 237.573824 106.928631 \r\nL 229.696176 106.928631 \r\nL 229.696176 100.533336 \r\n\" style=\"fill:#f37450;\"/>\r\n    <path clip-path=\"url(#pb54b6ebb95)\" d=\"M 237.573824 100.533336 \r\nL 245.451471 100.533336 \r\nL 245.451471 106.928631 \r\nL 237.573824 106.928631 \r\nL 237.573824 100.533336 \r\n\" style=\"fill:#f37651;\"/>\r\n    <path clip-path=\"url(#pb54b6ebb95)\" d=\"M 245.451471 100.533336 \r\nL 253.329118 100.533336 \r\nL 253.329118 106.928631 \r\nL 245.451471 106.928631 \r\nL 245.451471 100.533336 \r\n\" style=\"fill:#f4815a;\"/>\r\n    <path clip-path=\"url(#pb54b6ebb95)\" d=\"M 253.329118 100.533336 \r\nL 261.206765 100.533336 \r\nL 261.206765 106.928631 \r\nL 253.329118 106.928631 \r\nL 253.329118 100.533336 \r\n\" style=\"fill:#f47f58;\"/>\r\n    <path clip-path=\"url(#pb54b6ebb95)\" d=\"M 261.206765 100.533336 \r\nL 269.084412 100.533336 \r\nL 269.084412 106.928631 \r\nL 261.206765 106.928631 \r\nL 261.206765 100.533336 \r\n\" style=\"fill:#f26948;\"/>\r\n    <path clip-path=\"url(#pb54b6ebb95)\" d=\"M 269.084412 100.533336 \r\nL 276.962059 100.533336 \r\nL 276.962059 106.928631 \r\nL 269.084412 106.928631 \r\nL 269.084412 100.533336 \r\n\" style=\"fill:#e03143;\"/>\r\n    <path clip-path=\"url(#pb54b6ebb95)\" d=\"M 276.962059 100.533336 \r\nL 284.839706 100.533336 \r\nL 284.839706 106.928631 \r\nL 276.962059 106.928631 \r\nL 276.962059 100.533336 \r\n\" style=\"fill:#faebdd;\"/>\r\n    <path clip-path=\"url(#pb54b6ebb95)\" d=\"M 284.839706 100.533336 \r\nL 292.717353 100.533336 \r\nL 292.717353 106.928631 \r\nL 284.839706 106.928631 \r\nL 284.839706 100.533336 \r\n\" style=\"fill:#c51852;\"/>\r\n    <path clip-path=\"url(#pb54b6ebb95)\" d=\"M 292.717353 100.533336 \r\nL 300.595 100.533336 \r\nL 300.595 106.928631 \r\nL 292.717353 106.928631 \r\nL 292.717353 100.533336 \r\n\" style=\"fill:#6e1f57;\"/>\r\n    <path clip-path=\"url(#pb54b6ebb95)\" d=\"M 300.595 100.533336 \r\nL 308.472647 100.533336 \r\nL 308.472647 106.928631 \r\nL 300.595 106.928631 \r\nL 300.595 100.533336 \r\n\" style=\"fill:#611f53;\"/>\r\n    <path clip-path=\"url(#pb54b6ebb95)\" d=\"M 308.472647 100.533336 \r\nL 316.350294 100.533336 \r\nL 316.350294 106.928631 \r\nL 308.472647 106.928631 \r\nL 308.472647 100.533336 \r\n\" style=\"fill:#581e4f;\"/>\r\n    <path clip-path=\"url(#pb54b6ebb95)\" d=\"M 316.350294 100.533336 \r\nL 324.227941 100.533336 \r\nL 324.227941 106.928631 \r\nL 316.350294 106.928631 \r\nL 316.350294 100.533336 \r\n\" style=\"fill:#641f54;\"/>\r\n    <path clip-path=\"url(#pb54b6ebb95)\" d=\"M 324.227941 100.533336 \r\nL 332.105588 100.533336 \r\nL 332.105588 106.928631 \r\nL 324.227941 106.928631 \r\nL 324.227941 100.533336 \r\n\" style=\"fill:#601f52;\"/>\r\n    <path clip-path=\"url(#pb54b6ebb95)\" d=\"M 332.105588 100.533336 \r\nL 339.983235 100.533336 \r\nL 339.983235 106.928631 \r\nL 332.105588 106.928631 \r\nL 332.105588 100.533336 \r\n\" style=\"fill:#5c1e51;\"/>\r\n    <path clip-path=\"url(#pb54b6ebb95)\" d=\"M 339.983235 100.533336 \r\nL 347.860882 100.533336 \r\nL 347.860882 106.928631 \r\nL 339.983235 106.928631 \r\nL 339.983235 100.533336 \r\n\" style=\"fill:#6d1f56;\"/>\r\n    <path clip-path=\"url(#pb54b6ebb95)\" d=\"M 347.860882 100.533336 \r\nL 355.738529 100.533336 \r\nL 355.738529 106.928631 \r\nL 347.860882 106.928631 \r\nL 347.860882 100.533336 \r\n\" style=\"fill:#251433;\"/>\r\n    <path clip-path=\"url(#pb54b6ebb95)\" d=\"M 355.738529 100.533336 \r\nL 363.616176 100.533336 \r\nL 363.616176 106.928631 \r\nL 355.738529 106.928631 \r\nL 355.738529 100.533336 \r\n\" style=\"fill:#581e4f;\"/>\r\n    <path clip-path=\"url(#pb54b6ebb95)\" d=\"M 363.616176 100.533336 \r\nL 371.493824 100.533336 \r\nL 371.493824 106.928631 \r\nL 363.616176 106.928631 \r\nL 363.616176 100.533336 \r\n\" style=\"fill:#4e1d4b;\"/>\r\n    <path clip-path=\"url(#pb54b6ebb95)\" d=\"M 371.493824 100.533336 \r\nL 379.371471 100.533336 \r\nL 379.371471 106.928631 \r\nL 371.493824 106.928631 \r\nL 371.493824 100.533336 \r\n\" style=\"fill:#681f55;\"/>\r\n    <path clip-path=\"url(#pb54b6ebb95)\" d=\"M 379.371471 100.533336 \r\nL 387.249118 100.533336 \r\nL 387.249118 106.928631 \r\nL 379.371471 106.928631 \r\nL 379.371471 100.533336 \r\n\" style=\"fill:#451c47;\"/>\r\n    <path clip-path=\"url(#pb54b6ebb95)\" d=\"M 387.249118 100.533336 \r\nL 395.126765 100.533336 \r\nL 395.126765 106.928631 \r\nL 387.249118 106.928631 \r\nL 387.249118 100.533336 \r\n\" style=\"fill:#481c48;\"/>\r\n    <path clip-path=\"url(#pb54b6ebb95)\" d=\"M 395.126765 100.533336 \r\nL 403.004412 100.533336 \r\nL 403.004412 106.928631 \r\nL 395.126765 106.928631 \r\nL 395.126765 100.533336 \r\n\" style=\"fill:#5b1e51;\"/>\r\n    <path clip-path=\"url(#pb54b6ebb95)\" d=\"M 403.004412 100.533336 \r\nL 410.882059 100.533336 \r\nL 410.882059 106.928631 \r\nL 403.004412 106.928631 \r\nL 403.004412 100.533336 \r\n\" style=\"fill:#401b44;\"/>\r\n    <path clip-path=\"url(#pb54b6ebb95)\" d=\"M 410.882059 100.533336 \r\nL 418.759706 100.533336 \r\nL 418.759706 106.928631 \r\nL 410.882059 106.928631 \r\nL 410.882059 100.533336 \r\n\" style=\"fill:#491d49;\"/>\r\n    <path clip-path=\"url(#pb54b6ebb95)\" d=\"M 418.759706 100.533336 \r\nL 426.637353 100.533336 \r\nL 426.637353 106.928631 \r\nL 418.759706 106.928631 \r\nL 418.759706 100.533336 \r\n\" style=\"fill:#7f1e5a;\"/>\r\n    <path clip-path=\"url(#pb54b6ebb95)\" d=\"M 426.637353 100.533336 \r\nL 434.515 100.533336 \r\nL 434.515 106.928631 \r\nL 426.637353 106.928631 \r\nL 426.637353 100.533336 \r\n\" style=\"fill:#03051a;\"/>\r\n    <path clip-path=\"url(#pb54b6ebb95)\" d=\"M 166.675 106.928631 \r\nL 174.552647 106.928631 \r\nL 174.552647 113.323925 \r\nL 166.675 113.323925 \r\nL 166.675 106.928631 \r\n\" style=\"fill:#6d1f56;\"/>\r\n    <path clip-path=\"url(#pb54b6ebb95)\" d=\"M 174.552647 106.928631 \r\nL 182.430294 106.928631 \r\nL 182.430294 113.323925 \r\nL 174.552647 113.323925 \r\nL 174.552647 106.928631 \r\n\" style=\"fill:#461c48;\"/>\r\n    <path clip-path=\"url(#pb54b6ebb95)\" d=\"M 182.430294 106.928631 \r\nL 190.307941 106.928631 \r\nL 190.307941 113.323925 \r\nL 182.430294 113.323925 \r\nL 182.430294 106.928631 \r\n\" style=\"fill:#631f53;\"/>\r\n    <path clip-path=\"url(#pb54b6ebb95)\" d=\"M 190.307941 106.928631 \r\nL 198.185588 106.928631 \r\nL 198.185588 113.323925 \r\nL 190.307941 113.323925 \r\nL 190.307941 106.928631 \r\n\" style=\"fill:#641f54;\"/>\r\n    <path clip-path=\"url(#pb54b6ebb95)\" d=\"M 198.185588 106.928631 \r\nL 206.063235 106.928631 \r\nL 206.063235 113.323925 \r\nL 198.185588 113.323925 \r\nL 198.185588 106.928631 \r\n\" style=\"fill:#511e4d;\"/>\r\n    <path clip-path=\"url(#pb54b6ebb95)\" d=\"M 206.063235 106.928631 \r\nL 213.940882 106.928631 \r\nL 213.940882 113.323925 \r\nL 206.063235 113.323925 \r\nL 206.063235 106.928631 \r\n\" style=\"fill:#751f58;\"/>\r\n    <path clip-path=\"url(#pb54b6ebb95)\" d=\"M 213.940882 106.928631 \r\nL 221.818529 106.928631 \r\nL 221.818529 113.323925 \r\nL 213.940882 113.323925 \r\nL 213.940882 106.928631 \r\n\" style=\"fill:#ee543f;\"/>\r\n    <path clip-path=\"url(#pb54b6ebb95)\" d=\"M 221.818529 106.928631 \r\nL 229.696176 106.928631 \r\nL 229.696176 113.323925 \r\nL 221.818529 113.323925 \r\nL 221.818529 106.928631 \r\n\" style=\"fill:#bd1655;\"/>\r\n    <path clip-path=\"url(#pb54b6ebb95)\" d=\"M 229.696176 106.928631 \r\nL 237.573824 106.928631 \r\nL 237.573824 113.323925 \r\nL 229.696176 113.323925 \r\nL 229.696176 106.928631 \r\n\" style=\"fill:#e43841;\"/>\r\n    <path clip-path=\"url(#pb54b6ebb95)\" d=\"M 237.573824 106.928631 \r\nL 245.451471 106.928631 \r\nL 245.451471 113.323925 \r\nL 237.573824 113.323925 \r\nL 237.573824 106.928631 \r\n\" style=\"fill:#e53940;\"/>\r\n    <path clip-path=\"url(#pb54b6ebb95)\" d=\"M 245.451471 106.928631 \r\nL 253.329118 106.928631 \r\nL 253.329118 113.323925 \r\nL 245.451471 113.323925 \r\nL 245.451471 106.928631 \r\n\" style=\"fill:#d62449;\"/>\r\n    <path clip-path=\"url(#pb54b6ebb95)\" d=\"M 253.329118 106.928631 \r\nL 261.206765 106.928631 \r\nL 261.206765 113.323925 \r\nL 253.329118 113.323925 \r\nL 253.329118 106.928631 \r\n\" style=\"fill:#dd2c45;\"/>\r\n    <path clip-path=\"url(#pb54b6ebb95)\" d=\"M 261.206765 106.928631 \r\nL 269.084412 106.928631 \r\nL 269.084412 113.323925 \r\nL 261.206765 113.323925 \r\nL 261.206765 106.928631 \r\n\" style=\"fill:#dd2c45;\"/>\r\n    <path clip-path=\"url(#pb54b6ebb95)\" d=\"M 269.084412 106.928631 \r\nL 276.962059 106.928631 \r\nL 276.962059 113.323925 \r\nL 269.084412 113.323925 \r\nL 269.084412 106.928631 \r\n\" style=\"fill:#a6195a;\"/>\r\n    <path clip-path=\"url(#pb54b6ebb95)\" d=\"M 276.962059 106.928631 \r\nL 284.839706 106.928631 \r\nL 284.839706 113.323925 \r\nL 276.962059 113.323925 \r\nL 276.962059 106.928631 \r\n\" style=\"fill:#c51852;\"/>\r\n    <path clip-path=\"url(#pb54b6ebb95)\" d=\"M 284.839706 106.928631 \r\nL 292.717353 106.928631 \r\nL 292.717353 113.323925 \r\nL 284.839706 113.323925 \r\nL 284.839706 106.928631 \r\n\" style=\"fill:#faebdd;\"/>\r\n    <path clip-path=\"url(#pb54b6ebb95)\" d=\"M 292.717353 106.928631 \r\nL 300.595 106.928631 \r\nL 300.595 113.323925 \r\nL 292.717353 113.323925 \r\nL 292.717353 106.928631 \r\n\" style=\"fill:#dd2c45;\"/>\r\n    <path clip-path=\"url(#pb54b6ebb95)\" d=\"M 300.595 106.928631 \r\nL 308.472647 106.928631 \r\nL 308.472647 113.323925 \r\nL 300.595 113.323925 \r\nL 300.595 106.928631 \r\n\" style=\"fill:#591e50;\"/>\r\n    <path clip-path=\"url(#pb54b6ebb95)\" d=\"M 308.472647 106.928631 \r\nL 316.350294 106.928631 \r\nL 316.350294 113.323925 \r\nL 308.472647 113.323925 \r\nL 308.472647 106.928631 \r\n\" style=\"fill:#531e4d;\"/>\r\n    <path clip-path=\"url(#pb54b6ebb95)\" d=\"M 316.350294 106.928631 \r\nL 324.227941 106.928631 \r\nL 324.227941 113.323925 \r\nL 316.350294 113.323925 \r\nL 316.350294 106.928631 \r\n\" style=\"fill:#4b1d4a;\"/>\r\n    <path clip-path=\"url(#pb54b6ebb95)\" d=\"M 324.227941 106.928631 \r\nL 332.105588 106.928631 \r\nL 332.105588 113.323925 \r\nL 324.227941 113.323925 \r\nL 324.227941 106.928631 \r\n\" style=\"fill:#4b1d4a;\"/>\r\n    <path clip-path=\"url(#pb54b6ebb95)\" d=\"M 332.105588 106.928631 \r\nL 339.983235 106.928631 \r\nL 339.983235 113.323925 \r\nL 332.105588 113.323925 \r\nL 332.105588 106.928631 \r\n\" style=\"fill:#4b1d4a;\"/>\r\n    <path clip-path=\"url(#pb54b6ebb95)\" d=\"M 339.983235 106.928631 \r\nL 347.860882 106.928631 \r\nL 347.860882 113.323925 \r\nL 339.983235 113.323925 \r\nL 339.983235 106.928631 \r\n\" style=\"fill:#491d49;\"/>\r\n    <path clip-path=\"url(#pb54b6ebb95)\" d=\"M 347.860882 106.928631 \r\nL 355.738529 106.928631 \r\nL 355.738529 113.323925 \r\nL 347.860882 113.323925 \r\nL 347.860882 106.928631 \r\n\" style=\"fill:#631f53;\"/>\r\n    <path clip-path=\"url(#pb54b6ebb95)\" d=\"M 355.738529 106.928631 \r\nL 363.616176 106.928631 \r\nL 363.616176 113.323925 \r\nL 355.738529 113.323925 \r\nL 355.738529 106.928631 \r\n\" style=\"fill:#591e50;\"/>\r\n    <path clip-path=\"url(#pb54b6ebb95)\" d=\"M 363.616176 106.928631 \r\nL 371.493824 106.928631 \r\nL 371.493824 113.323925 \r\nL 363.616176 113.323925 \r\nL 363.616176 106.928631 \r\n\" style=\"fill:#5b1e51;\"/>\r\n    <path clip-path=\"url(#pb54b6ebb95)\" d=\"M 371.493824 106.928631 \r\nL 379.371471 106.928631 \r\nL 379.371471 113.323925 \r\nL 371.493824 113.323925 \r\nL 371.493824 106.928631 \r\n\" style=\"fill:#601f52;\"/>\r\n    <path clip-path=\"url(#pb54b6ebb95)\" d=\"M 379.371471 106.928631 \r\nL 387.249118 106.928631 \r\nL 387.249118 113.323925 \r\nL 379.371471 113.323925 \r\nL 379.371471 106.928631 \r\n\" style=\"fill:#641f54;\"/>\r\n    <path clip-path=\"url(#pb54b6ebb95)\" d=\"M 387.249118 106.928631 \r\nL 395.126765 106.928631 \r\nL 395.126765 113.323925 \r\nL 387.249118 113.323925 \r\nL 387.249118 106.928631 \r\n\" style=\"fill:#5c1e51;\"/>\r\n    <path clip-path=\"url(#pb54b6ebb95)\" d=\"M 395.126765 106.928631 \r\nL 403.004412 106.928631 \r\nL 403.004412 113.323925 \r\nL 395.126765 113.323925 \r\nL 395.126765 106.928631 \r\n\" style=\"fill:#511e4d;\"/>\r\n    <path clip-path=\"url(#pb54b6ebb95)\" d=\"M 403.004412 106.928631 \r\nL 410.882059 106.928631 \r\nL 410.882059 113.323925 \r\nL 403.004412 113.323925 \r\nL 403.004412 106.928631 \r\n\" style=\"fill:#531e4d;\"/>\r\n    <path clip-path=\"url(#pb54b6ebb95)\" d=\"M 410.882059 106.928631 \r\nL 418.759706 106.928631 \r\nL 418.759706 113.323925 \r\nL 410.882059 113.323925 \r\nL 410.882059 106.928631 \r\n\" style=\"fill:#5e1f52;\"/>\r\n    <path clip-path=\"url(#pb54b6ebb95)\" d=\"M 418.759706 106.928631 \r\nL 426.637353 106.928631 \r\nL 426.637353 113.323925 \r\nL 418.759706 113.323925 \r\nL 418.759706 106.928631 \r\n\" style=\"fill:#421b45;\"/>\r\n    <path clip-path=\"url(#pb54b6ebb95)\" d=\"M 426.637353 106.928631 \r\nL 434.515 106.928631 \r\nL 434.515 113.323925 \r\nL 426.637353 113.323925 \r\nL 426.637353 106.928631 \r\n\" style=\"fill:#501d4c;\"/>\r\n    <path clip-path=\"url(#pb54b6ebb95)\" d=\"M 166.675 113.323925 \r\nL 174.552647 113.323925 \r\nL 174.552647 119.719219 \r\nL 166.675 119.719219 \r\nL 166.675 113.323925 \r\n\" style=\"fill:#661f54;\"/>\r\n    <path clip-path=\"url(#pb54b6ebb95)\" d=\"M 174.552647 113.323925 \r\nL 182.430294 113.323925 \r\nL 182.430294 119.719219 \r\nL 174.552647 119.719219 \r\nL 174.552647 113.323925 \r\n\" style=\"fill:#461c48;\"/>\r\n    <path clip-path=\"url(#pb54b6ebb95)\" d=\"M 182.430294 113.323925 \r\nL 190.307941 113.323925 \r\nL 190.307941 119.719219 \r\nL 182.430294 119.719219 \r\nL 182.430294 113.323925 \r\n\" style=\"fill:#681f55;\"/>\r\n    <path clip-path=\"url(#pb54b6ebb95)\" d=\"M 190.307941 113.323925 \r\nL 198.185588 113.323925 \r\nL 198.185588 119.719219 \r\nL 190.307941 119.719219 \r\nL 190.307941 113.323925 \r\n\" style=\"fill:#591e50;\"/>\r\n    <path clip-path=\"url(#pb54b6ebb95)\" d=\"M 198.185588 113.323925 \r\nL 206.063235 113.323925 \r\nL 206.063235 119.719219 \r\nL 198.185588 119.719219 \r\nL 198.185588 113.323925 \r\n\" style=\"fill:#5b1e51;\"/>\r\n    <path clip-path=\"url(#pb54b6ebb95)\" d=\"M 206.063235 113.323925 \r\nL 213.940882 113.323925 \r\nL 213.940882 119.719219 \r\nL 206.063235 119.719219 \r\nL 206.063235 113.323925 \r\n\" style=\"fill:#6e1f57;\"/>\r\n    <path clip-path=\"url(#pb54b6ebb95)\" d=\"M 213.940882 113.323925 \r\nL 221.818529 113.323925 \r\nL 221.818529 119.719219 \r\nL 213.940882 119.719219 \r\nL 213.940882 113.323925 \r\n\" style=\"fill:#891e5b;\"/>\r\n    <path clip-path=\"url(#pb54b6ebb95)\" d=\"M 221.818529 113.323925 \r\nL 229.696176 113.323925 \r\nL 229.696176 119.719219 \r\nL 221.818529 119.719219 \r\nL 221.818529 113.323925 \r\n\" style=\"fill:#731f58;\"/>\r\n    <path clip-path=\"url(#pb54b6ebb95)\" d=\"M 229.696176 113.323925 \r\nL 237.573824 113.323925 \r\nL 237.573824 119.719219 \r\nL 229.696176 119.719219 \r\nL 229.696176 113.323925 \r\n\" style=\"fill:#7b1f59;\"/>\r\n    <path clip-path=\"url(#pb54b6ebb95)\" d=\"M 237.573824 113.323925 \r\nL 245.451471 113.323925 \r\nL 245.451471 119.719219 \r\nL 237.573824 119.719219 \r\nL 237.573824 113.323925 \r\n\" style=\"fill:#841e5a;\"/>\r\n    <path clip-path=\"url(#pb54b6ebb95)\" d=\"M 245.451471 113.323925 \r\nL 253.329118 113.323925 \r\nL 253.329118 119.719219 \r\nL 245.451471 119.719219 \r\nL 245.451471 113.323925 \r\n\" style=\"fill:#821e5a;\"/>\r\n    <path clip-path=\"url(#pb54b6ebb95)\" d=\"M 253.329118 113.323925 \r\nL 261.206765 113.323925 \r\nL 261.206765 119.719219 \r\nL 253.329118 119.719219 \r\nL 253.329118 113.323925 \r\n\" style=\"fill:#931c5b;\"/>\r\n    <path clip-path=\"url(#pb54b6ebb95)\" d=\"M 261.206765 113.323925 \r\nL 269.084412 113.323925 \r\nL 269.084412 119.719219 \r\nL 261.206765 119.719219 \r\nL 261.206765 113.323925 \r\n\" style=\"fill:#981b5b;\"/>\r\n    <path clip-path=\"url(#pb54b6ebb95)\" d=\"M 269.084412 113.323925 \r\nL 276.962059 113.323925 \r\nL 276.962059 119.719219 \r\nL 269.084412 119.719219 \r\nL 269.084412 113.323925 \r\n\" style=\"fill:#811e5a;\"/>\r\n    <path clip-path=\"url(#pb54b6ebb95)\" d=\"M 276.962059 113.323925 \r\nL 284.839706 113.323925 \r\nL 284.839706 119.719219 \r\nL 276.962059 119.719219 \r\nL 276.962059 113.323925 \r\n\" style=\"fill:#6e1f57;\"/>\r\n    <path clip-path=\"url(#pb54b6ebb95)\" d=\"M 284.839706 113.323925 \r\nL 292.717353 113.323925 \r\nL 292.717353 119.719219 \r\nL 284.839706 119.719219 \r\nL 284.839706 113.323925 \r\n\" style=\"fill:#dd2c45;\"/>\r\n    <path clip-path=\"url(#pb54b6ebb95)\" d=\"M 292.717353 113.323925 \r\nL 300.595 113.323925 \r\nL 300.595 119.719219 \r\nL 292.717353 119.719219 \r\nL 292.717353 113.323925 \r\n\" style=\"fill:#faebdd;\"/>\r\n    <path clip-path=\"url(#pb54b6ebb95)\" d=\"M 300.595 113.323925 \r\nL 308.472647 113.323925 \r\nL 308.472647 119.719219 \r\nL 300.595 119.719219 \r\nL 300.595 113.323925 \r\n\" style=\"fill:#561e4f;\"/>\r\n    <path clip-path=\"url(#pb54b6ebb95)\" d=\"M 308.472647 113.323925 \r\nL 316.350294 113.323925 \r\nL 316.350294 119.719219 \r\nL 308.472647 119.719219 \r\nL 308.472647 113.323925 \r\n\" style=\"fill:#531e4d;\"/>\r\n    <path clip-path=\"url(#pb54b6ebb95)\" d=\"M 316.350294 113.323925 \r\nL 324.227941 113.323925 \r\nL 324.227941 119.719219 \r\nL 316.350294 119.719219 \r\nL 316.350294 113.323925 \r\n\" style=\"fill:#611f53;\"/>\r\n    <path clip-path=\"url(#pb54b6ebb95)\" d=\"M 324.227941 113.323925 \r\nL 332.105588 113.323925 \r\nL 332.105588 119.719219 \r\nL 324.227941 119.719219 \r\nL 324.227941 113.323925 \r\n\" style=\"fill:#601f52;\"/>\r\n    <path clip-path=\"url(#pb54b6ebb95)\" d=\"M 332.105588 113.323925 \r\nL 339.983235 113.323925 \r\nL 339.983235 119.719219 \r\nL 332.105588 119.719219 \r\nL 332.105588 113.323925 \r\n\" style=\"fill:#611f53;\"/>\r\n    <path clip-path=\"url(#pb54b6ebb95)\" d=\"M 339.983235 113.323925 \r\nL 347.860882 113.323925 \r\nL 347.860882 119.719219 \r\nL 339.983235 119.719219 \r\nL 339.983235 113.323925 \r\n\" style=\"fill:#5c1e51;\"/>\r\n    <path clip-path=\"url(#pb54b6ebb95)\" d=\"M 347.860882 113.323925 \r\nL 355.738529 113.323925 \r\nL 355.738529 119.719219 \r\nL 347.860882 119.719219 \r\nL 347.860882 113.323925 \r\n\" style=\"fill:#681f55;\"/>\r\n    <path clip-path=\"url(#pb54b6ebb95)\" d=\"M 355.738529 113.323925 \r\nL 363.616176 113.323925 \r\nL 363.616176 119.719219 \r\nL 355.738529 119.719219 \r\nL 355.738529 113.323925 \r\n\" style=\"fill:#4e1d4b;\"/>\r\n    <path clip-path=\"url(#pb54b6ebb95)\" d=\"M 363.616176 113.323925 \r\nL 371.493824 113.323925 \r\nL 371.493824 119.719219 \r\nL 363.616176 119.719219 \r\nL 363.616176 113.323925 \r\n\" style=\"fill:#4e1d4b;\"/>\r\n    <path clip-path=\"url(#pb54b6ebb95)\" d=\"M 371.493824 113.323925 \r\nL 379.371471 113.323925 \r\nL 379.371471 119.719219 \r\nL 371.493824 119.719219 \r\nL 371.493824 113.323925 \r\n\" style=\"fill:#5b1e51;\"/>\r\n    <path clip-path=\"url(#pb54b6ebb95)\" d=\"M 379.371471 113.323925 \r\nL 387.249118 113.323925 \r\nL 387.249118 119.719219 \r\nL 379.371471 119.719219 \r\nL 379.371471 113.323925 \r\n\" style=\"fill:#451c47;\"/>\r\n    <path clip-path=\"url(#pb54b6ebb95)\" d=\"M 387.249118 113.323925 \r\nL 395.126765 113.323925 \r\nL 395.126765 119.719219 \r\nL 387.249118 119.719219 \r\nL 387.249118 113.323925 \r\n\" style=\"fill:#421b45;\"/>\r\n    <path clip-path=\"url(#pb54b6ebb95)\" d=\"M 395.126765 113.323925 \r\nL 403.004412 113.323925 \r\nL 403.004412 119.719219 \r\nL 395.126765 119.719219 \r\nL 395.126765 113.323925 \r\n\" style=\"fill:#561e4f;\"/>\r\n    <path clip-path=\"url(#pb54b6ebb95)\" d=\"M 403.004412 113.323925 \r\nL 410.882059 113.323925 \r\nL 410.882059 119.719219 \r\nL 403.004412 119.719219 \r\nL 403.004412 113.323925 \r\n\" style=\"fill:#491d49;\"/>\r\n    <path clip-path=\"url(#pb54b6ebb95)\" d=\"M 410.882059 113.323925 \r\nL 418.759706 113.323925 \r\nL 418.759706 119.719219 \r\nL 410.882059 119.719219 \r\nL 410.882059 113.323925 \r\n\" style=\"fill:#601f52;\"/>\r\n    <path clip-path=\"url(#pb54b6ebb95)\" d=\"M 418.759706 113.323925 \r\nL 426.637353 113.323925 \r\nL 426.637353 119.719219 \r\nL 418.759706 119.719219 \r\nL 418.759706 113.323925 \r\n\" style=\"fill:#4c1d4b;\"/>\r\n    <path clip-path=\"url(#pb54b6ebb95)\" d=\"M 426.637353 113.323925 \r\nL 434.515 113.323925 \r\nL 434.515 119.719219 \r\nL 426.637353 119.719219 \r\nL 426.637353 113.323925 \r\n\" style=\"fill:#5b1e51;\"/>\r\n    <path clip-path=\"url(#pb54b6ebb95)\" d=\"M 166.675 119.719219 \r\nL 174.552647 119.719219 \r\nL 174.552647 126.114513 \r\nL 166.675 126.114513 \r\nL 166.675 119.719219 \r\n\" style=\"fill:#581e4f;\"/>\r\n    <path clip-path=\"url(#pb54b6ebb95)\" d=\"M 174.552647 119.719219 \r\nL 182.430294 119.719219 \r\nL 182.430294 126.114513 \r\nL 174.552647 126.114513 \r\nL 174.552647 119.719219 \r\n\" style=\"fill:#591e50;\"/>\r\n    <path clip-path=\"url(#pb54b6ebb95)\" d=\"M 182.430294 119.719219 \r\nL 190.307941 119.719219 \r\nL 190.307941 126.114513 \r\nL 182.430294 126.114513 \r\nL 182.430294 119.719219 \r\n\" style=\"fill:#511e4d;\"/>\r\n    <path clip-path=\"url(#pb54b6ebb95)\" d=\"M 190.307941 119.719219 \r\nL 198.185588 119.719219 \r\nL 198.185588 126.114513 \r\nL 190.307941 126.114513 \r\nL 190.307941 119.719219 \r\n\" style=\"fill:#591e50;\"/>\r\n    <path clip-path=\"url(#pb54b6ebb95)\" d=\"M 198.185588 119.719219 \r\nL 206.063235 119.719219 \r\nL 206.063235 126.114513 \r\nL 198.185588 126.114513 \r\nL 198.185588 119.719219 \r\n\" style=\"fill:#5b1e51;\"/>\r\n    <path clip-path=\"url(#pb54b6ebb95)\" d=\"M 206.063235 119.719219 \r\nL 213.940882 119.719219 \r\nL 213.940882 126.114513 \r\nL 206.063235 126.114513 \r\nL 206.063235 119.719219 \r\n\" style=\"fill:#5c1e51;\"/>\r\n    <path clip-path=\"url(#pb54b6ebb95)\" d=\"M 213.940882 119.719219 \r\nL 221.818529 119.719219 \r\nL 221.818529 126.114513 \r\nL 213.940882 126.114513 \r\nL 213.940882 119.719219 \r\n\" style=\"fill:#5e1f52;\"/>\r\n    <path clip-path=\"url(#pb54b6ebb95)\" d=\"M 221.818529 119.719219 \r\nL 229.696176 119.719219 \r\nL 229.696176 126.114513 \r\nL 221.818529 126.114513 \r\nL 221.818529 119.719219 \r\n\" style=\"fill:#5b1e51;\"/>\r\n    <path clip-path=\"url(#pb54b6ebb95)\" d=\"M 229.696176 119.719219 \r\nL 237.573824 119.719219 \r\nL 237.573824 126.114513 \r\nL 229.696176 126.114513 \r\nL 229.696176 119.719219 \r\n\" style=\"fill:#5c1e51;\"/>\r\n    <path clip-path=\"url(#pb54b6ebb95)\" d=\"M 237.573824 119.719219 \r\nL 245.451471 119.719219 \r\nL 245.451471 126.114513 \r\nL 237.573824 126.114513 \r\nL 237.573824 119.719219 \r\n\" style=\"fill:#5b1e51;\"/>\r\n    <path clip-path=\"url(#pb54b6ebb95)\" d=\"M 245.451471 119.719219 \r\nL 253.329118 119.719219 \r\nL 253.329118 126.114513 \r\nL 245.451471 126.114513 \r\nL 245.451471 119.719219 \r\n\" style=\"fill:#5e1f52;\"/>\r\n    <path clip-path=\"url(#pb54b6ebb95)\" d=\"M 253.329118 119.719219 \r\nL 261.206765 119.719219 \r\nL 261.206765 126.114513 \r\nL 253.329118 126.114513 \r\nL 253.329118 119.719219 \r\n\" style=\"fill:#731f58;\"/>\r\n    <path clip-path=\"url(#pb54b6ebb95)\" d=\"M 261.206765 119.719219 \r\nL 269.084412 119.719219 \r\nL 269.084412 126.114513 \r\nL 261.206765 126.114513 \r\nL 261.206765 119.719219 \r\n\" style=\"fill:#691f55;\"/>\r\n    <path clip-path=\"url(#pb54b6ebb95)\" d=\"M 269.084412 119.719219 \r\nL 276.962059 119.719219 \r\nL 276.962059 126.114513 \r\nL 269.084412 126.114513 \r\nL 269.084412 119.719219 \r\n\" style=\"fill:#7a1f59;\"/>\r\n    <path clip-path=\"url(#pb54b6ebb95)\" d=\"M 276.962059 119.719219 \r\nL 284.839706 119.719219 \r\nL 284.839706 126.114513 \r\nL 276.962059 126.114513 \r\nL 276.962059 119.719219 \r\n\" style=\"fill:#611f53;\"/>\r\n    <path clip-path=\"url(#pb54b6ebb95)\" d=\"M 284.839706 119.719219 \r\nL 292.717353 119.719219 \r\nL 292.717353 126.114513 \r\nL 284.839706 126.114513 \r\nL 284.839706 119.719219 \r\n\" style=\"fill:#591e50;\"/>\r\n    <path clip-path=\"url(#pb54b6ebb95)\" d=\"M 292.717353 119.719219 \r\nL 300.595 119.719219 \r\nL 300.595 126.114513 \r\nL 292.717353 126.114513 \r\nL 292.717353 119.719219 \r\n\" style=\"fill:#561e4f;\"/>\r\n    <path clip-path=\"url(#pb54b6ebb95)\" d=\"M 300.595 119.719219 \r\nL 308.472647 119.719219 \r\nL 308.472647 126.114513 \r\nL 300.595 126.114513 \r\nL 300.595 119.719219 \r\n\" style=\"fill:#faebdd;\"/>\r\n    <path clip-path=\"url(#pb54b6ebb95)\" d=\"M 308.472647 119.719219 \r\nL 316.350294 119.719219 \r\nL 316.350294 126.114513 \r\nL 308.472647 126.114513 \r\nL 308.472647 119.719219 \r\n\" style=\"fill:#5b1e51;\"/>\r\n    <path clip-path=\"url(#pb54b6ebb95)\" d=\"M 316.350294 119.719219 \r\nL 324.227941 119.719219 \r\nL 324.227941 126.114513 \r\nL 316.350294 126.114513 \r\nL 316.350294 119.719219 \r\n\" style=\"fill:#5e1f52;\"/>\r\n    <path clip-path=\"url(#pb54b6ebb95)\" d=\"M 324.227941 119.719219 \r\nL 332.105588 119.719219 \r\nL 332.105588 126.114513 \r\nL 324.227941 126.114513 \r\nL 324.227941 119.719219 \r\n\" style=\"fill:#5c1e51;\"/>\r\n    <path clip-path=\"url(#pb54b6ebb95)\" d=\"M 332.105588 119.719219 \r\nL 339.983235 119.719219 \r\nL 339.983235 126.114513 \r\nL 332.105588 126.114513 \r\nL 332.105588 119.719219 \r\n\" style=\"fill:#5c1e51;\"/>\r\n    <path clip-path=\"url(#pb54b6ebb95)\" d=\"M 339.983235 119.719219 \r\nL 347.860882 119.719219 \r\nL 347.860882 126.114513 \r\nL 339.983235 126.114513 \r\nL 339.983235 119.719219 \r\n\" style=\"fill:#5c1e51;\"/>\r\n    <path clip-path=\"url(#pb54b6ebb95)\" d=\"M 347.860882 119.719219 \r\nL 355.738529 119.719219 \r\nL 355.738529 126.114513 \r\nL 347.860882 126.114513 \r\nL 347.860882 119.719219 \r\n\" style=\"fill:#541e4e;\"/>\r\n    <path clip-path=\"url(#pb54b6ebb95)\" d=\"M 355.738529 119.719219 \r\nL 363.616176 119.719219 \r\nL 363.616176 126.114513 \r\nL 355.738529 126.114513 \r\nL 355.738529 119.719219 \r\n\" style=\"fill:#591e50;\"/>\r\n    <path clip-path=\"url(#pb54b6ebb95)\" d=\"M 363.616176 119.719219 \r\nL 371.493824 119.719219 \r\nL 371.493824 126.114513 \r\nL 363.616176 126.114513 \r\nL 363.616176 119.719219 \r\n\" style=\"fill:#541e4e;\"/>\r\n    <path clip-path=\"url(#pb54b6ebb95)\" d=\"M 371.493824 119.719219 \r\nL 379.371471 119.719219 \r\nL 379.371471 126.114513 \r\nL 371.493824 126.114513 \r\nL 371.493824 119.719219 \r\n\" style=\"fill:#501d4c;\"/>\r\n    <path clip-path=\"url(#pb54b6ebb95)\" d=\"M 379.371471 119.719219 \r\nL 387.249118 119.719219 \r\nL 387.249118 126.114513 \r\nL 379.371471 126.114513 \r\nL 379.371471 119.719219 \r\n\" style=\"fill:#531e4d;\"/>\r\n    <path clip-path=\"url(#pb54b6ebb95)\" d=\"M 387.249118 119.719219 \r\nL 395.126765 119.719219 \r\nL 395.126765 126.114513 \r\nL 387.249118 126.114513 \r\nL 387.249118 119.719219 \r\n\" style=\"fill:#5b1e51;\"/>\r\n    <path clip-path=\"url(#pb54b6ebb95)\" d=\"M 395.126765 119.719219 \r\nL 403.004412 119.719219 \r\nL 403.004412 126.114513 \r\nL 395.126765 126.114513 \r\nL 395.126765 119.719219 \r\n\" style=\"fill:#5e1f52;\"/>\r\n    <path clip-path=\"url(#pb54b6ebb95)\" d=\"M 403.004412 119.719219 \r\nL 410.882059 119.719219 \r\nL 410.882059 126.114513 \r\nL 403.004412 126.114513 \r\nL 403.004412 119.719219 \r\n\" style=\"fill:#561e4f;\"/>\r\n    <path clip-path=\"url(#pb54b6ebb95)\" d=\"M 410.882059 119.719219 \r\nL 418.759706 119.719219 \r\nL 418.759706 126.114513 \r\nL 410.882059 126.114513 \r\nL 410.882059 119.719219 \r\n\" style=\"fill:#541e4e;\"/>\r\n    <path clip-path=\"url(#pb54b6ebb95)\" d=\"M 418.759706 119.719219 \r\nL 426.637353 119.719219 \r\nL 426.637353 126.114513 \r\nL 418.759706 126.114513 \r\nL 418.759706 119.719219 \r\n\" style=\"fill:#591e50;\"/>\r\n    <path clip-path=\"url(#pb54b6ebb95)\" d=\"M 426.637353 119.719219 \r\nL 434.515 119.719219 \r\nL 434.515 126.114513 \r\nL 426.637353 126.114513 \r\nL 426.637353 119.719219 \r\n\" style=\"fill:#4e1d4b;\"/>\r\n    <path clip-path=\"url(#pb54b6ebb95)\" d=\"M 166.675 126.114513 \r\nL 174.552647 126.114513 \r\nL 174.552647 132.509807 \r\nL 166.675 132.509807 \r\nL 166.675 126.114513 \r\n\" style=\"fill:#4e1d4b;\"/>\r\n    <path clip-path=\"url(#pb54b6ebb95)\" d=\"M 174.552647 126.114513 \r\nL 182.430294 126.114513 \r\nL 182.430294 132.509807 \r\nL 174.552647 132.509807 \r\nL 174.552647 126.114513 \r\n\" style=\"fill:#611f53;\"/>\r\n    <path clip-path=\"url(#pb54b6ebb95)\" d=\"M 182.430294 126.114513 \r\nL 190.307941 126.114513 \r\nL 190.307941 132.509807 \r\nL 182.430294 132.509807 \r\nL 182.430294 126.114513 \r\n\" style=\"fill:#561e4f;\"/>\r\n    <path clip-path=\"url(#pb54b6ebb95)\" d=\"M 190.307941 126.114513 \r\nL 198.185588 126.114513 \r\nL 198.185588 132.509807 \r\nL 190.307941 132.509807 \r\nL 190.307941 126.114513 \r\n\" style=\"fill:#581e4f;\"/>\r\n    <path clip-path=\"url(#pb54b6ebb95)\" d=\"M 198.185588 126.114513 \r\nL 206.063235 126.114513 \r\nL 206.063235 132.509807 \r\nL 198.185588 132.509807 \r\nL 198.185588 126.114513 \r\n\" style=\"fill:#561e4f;\"/>\r\n    <path clip-path=\"url(#pb54b6ebb95)\" d=\"M 206.063235 126.114513 \r\nL 213.940882 126.114513 \r\nL 213.940882 132.509807 \r\nL 206.063235 132.509807 \r\nL 206.063235 126.114513 \r\n\" style=\"fill:#541e4e;\"/>\r\n    <path clip-path=\"url(#pb54b6ebb95)\" d=\"M 213.940882 126.114513 \r\nL 221.818529 126.114513 \r\nL 221.818529 132.509807 \r\nL 213.940882 132.509807 \r\nL 213.940882 126.114513 \r\n\" style=\"fill:#5b1e51;\"/>\r\n    <path clip-path=\"url(#pb54b6ebb95)\" d=\"M 221.818529 126.114513 \r\nL 229.696176 126.114513 \r\nL 229.696176 132.509807 \r\nL 221.818529 132.509807 \r\nL 221.818529 126.114513 \r\n\" style=\"fill:#541e4e;\"/>\r\n    <path clip-path=\"url(#pb54b6ebb95)\" d=\"M 229.696176 126.114513 \r\nL 237.573824 126.114513 \r\nL 237.573824 132.509807 \r\nL 229.696176 132.509807 \r\nL 229.696176 126.114513 \r\n\" style=\"fill:#561e4f;\"/>\r\n    <path clip-path=\"url(#pb54b6ebb95)\" d=\"M 237.573824 126.114513 \r\nL 245.451471 126.114513 \r\nL 245.451471 132.509807 \r\nL 237.573824 132.509807 \r\nL 237.573824 126.114513 \r\n\" style=\"fill:#561e4f;\"/>\r\n    <path clip-path=\"url(#pb54b6ebb95)\" d=\"M 245.451471 126.114513 \r\nL 253.329118 126.114513 \r\nL 253.329118 132.509807 \r\nL 245.451471 132.509807 \r\nL 245.451471 126.114513 \r\n\" style=\"fill:#581e4f;\"/>\r\n    <path clip-path=\"url(#pb54b6ebb95)\" d=\"M 253.329118 126.114513 \r\nL 261.206765 126.114513 \r\nL 261.206765 132.509807 \r\nL 253.329118 132.509807 \r\nL 253.329118 126.114513 \r\n\" style=\"fill:#611f53;\"/>\r\n    <path clip-path=\"url(#pb54b6ebb95)\" d=\"M 261.206765 126.114513 \r\nL 269.084412 126.114513 \r\nL 269.084412 132.509807 \r\nL 261.206765 132.509807 \r\nL 261.206765 126.114513 \r\n\" style=\"fill:#601f52;\"/>\r\n    <path clip-path=\"url(#pb54b6ebb95)\" d=\"M 269.084412 126.114513 \r\nL 276.962059 126.114513 \r\nL 276.962059 132.509807 \r\nL 269.084412 132.509807 \r\nL 269.084412 126.114513 \r\n\" style=\"fill:#711f57;\"/>\r\n    <path clip-path=\"url(#pb54b6ebb95)\" d=\"M 276.962059 126.114513 \r\nL 284.839706 126.114513 \r\nL 284.839706 132.509807 \r\nL 276.962059 132.509807 \r\nL 276.962059 126.114513 \r\n\" style=\"fill:#581e4f;\"/>\r\n    <path clip-path=\"url(#pb54b6ebb95)\" d=\"M 284.839706 126.114513 \r\nL 292.717353 126.114513 \r\nL 292.717353 132.509807 \r\nL 284.839706 132.509807 \r\nL 284.839706 126.114513 \r\n\" style=\"fill:#531e4d;\"/>\r\n    <path clip-path=\"url(#pb54b6ebb95)\" d=\"M 292.717353 126.114513 \r\nL 300.595 126.114513 \r\nL 300.595 132.509807 \r\nL 292.717353 132.509807 \r\nL 292.717353 126.114513 \r\n\" style=\"fill:#531e4d;\"/>\r\n    <path clip-path=\"url(#pb54b6ebb95)\" d=\"M 300.595 126.114513 \r\nL 308.472647 126.114513 \r\nL 308.472647 132.509807 \r\nL 300.595 132.509807 \r\nL 300.595 126.114513 \r\n\" style=\"fill:#5b1e51;\"/>\r\n    <path clip-path=\"url(#pb54b6ebb95)\" d=\"M 308.472647 126.114513 \r\nL 316.350294 126.114513 \r\nL 316.350294 132.509807 \r\nL 308.472647 132.509807 \r\nL 308.472647 126.114513 \r\n\" style=\"fill:#faebdd;\"/>\r\n    <path clip-path=\"url(#pb54b6ebb95)\" d=\"M 316.350294 126.114513 \r\nL 324.227941 126.114513 \r\nL 324.227941 132.509807 \r\nL 316.350294 132.509807 \r\nL 316.350294 126.114513 \r\n\" style=\"fill:#5c1e51;\"/>\r\n    <path clip-path=\"url(#pb54b6ebb95)\" d=\"M 324.227941 126.114513 \r\nL 332.105588 126.114513 \r\nL 332.105588 132.509807 \r\nL 324.227941 132.509807 \r\nL 324.227941 126.114513 \r\n\" style=\"fill:#561e4f;\"/>\r\n    <path clip-path=\"url(#pb54b6ebb95)\" d=\"M 332.105588 126.114513 \r\nL 339.983235 126.114513 \r\nL 339.983235 132.509807 \r\nL 332.105588 132.509807 \r\nL 332.105588 126.114513 \r\n\" style=\"fill:#581e4f;\"/>\r\n    <path clip-path=\"url(#pb54b6ebb95)\" d=\"M 339.983235 126.114513 \r\nL 347.860882 126.114513 \r\nL 347.860882 132.509807 \r\nL 339.983235 132.509807 \r\nL 339.983235 126.114513 \r\n\" style=\"fill:#5c1e51;\"/>\r\n    <path clip-path=\"url(#pb54b6ebb95)\" d=\"M 347.860882 126.114513 \r\nL 355.738529 126.114513 \r\nL 355.738529 132.509807 \r\nL 347.860882 132.509807 \r\nL 347.860882 126.114513 \r\n\" style=\"fill:#401b44;\"/>\r\n    <path clip-path=\"url(#pb54b6ebb95)\" d=\"M 355.738529 126.114513 \r\nL 363.616176 126.114513 \r\nL 363.616176 132.509807 \r\nL 355.738529 132.509807 \r\nL 355.738529 126.114513 \r\n\" style=\"fill:#501d4c;\"/>\r\n    <path clip-path=\"url(#pb54b6ebb95)\" d=\"M 363.616176 126.114513 \r\nL 371.493824 126.114513 \r\nL 371.493824 132.509807 \r\nL 363.616176 132.509807 \r\nL 363.616176 126.114513 \r\n\" style=\"fill:#581e4f;\"/>\r\n    <path clip-path=\"url(#pb54b6ebb95)\" d=\"M 371.493824 126.114513 \r\nL 379.371471 126.114513 \r\nL 379.371471 132.509807 \r\nL 371.493824 132.509807 \r\nL 371.493824 126.114513 \r\n\" style=\"fill:#581e4f;\"/>\r\n    <path clip-path=\"url(#pb54b6ebb95)\" d=\"M 379.371471 126.114513 \r\nL 387.249118 126.114513 \r\nL 387.249118 132.509807 \r\nL 379.371471 132.509807 \r\nL 379.371471 126.114513 \r\n\" style=\"fill:#461c48;\"/>\r\n    <path clip-path=\"url(#pb54b6ebb95)\" d=\"M 387.249118 126.114513 \r\nL 395.126765 126.114513 \r\nL 395.126765 132.509807 \r\nL 387.249118 132.509807 \r\nL 387.249118 126.114513 \r\n\" style=\"fill:#4e1d4b;\"/>\r\n    <path clip-path=\"url(#pb54b6ebb95)\" d=\"M 395.126765 126.114513 \r\nL 403.004412 126.114513 \r\nL 403.004412 132.509807 \r\nL 395.126765 132.509807 \r\nL 395.126765 126.114513 \r\n\" style=\"fill:#531e4d;\"/>\r\n    <path clip-path=\"url(#pb54b6ebb95)\" d=\"M 403.004412 126.114513 \r\nL 410.882059 126.114513 \r\nL 410.882059 132.509807 \r\nL 403.004412 132.509807 \r\nL 403.004412 126.114513 \r\n\" style=\"fill:#511e4d;\"/>\r\n    <path clip-path=\"url(#pb54b6ebb95)\" d=\"M 410.882059 126.114513 \r\nL 418.759706 126.114513 \r\nL 418.759706 132.509807 \r\nL 410.882059 132.509807 \r\nL 410.882059 126.114513 \r\n\" style=\"fill:#541e4e;\"/>\r\n    <path clip-path=\"url(#pb54b6ebb95)\" d=\"M 418.759706 126.114513 \r\nL 426.637353 126.114513 \r\nL 426.637353 132.509807 \r\nL 418.759706 132.509807 \r\nL 418.759706 126.114513 \r\n\" style=\"fill:#631f53;\"/>\r\n    <path clip-path=\"url(#pb54b6ebb95)\" d=\"M 426.637353 126.114513 \r\nL 434.515 126.114513 \r\nL 434.515 132.509807 \r\nL 426.637353 132.509807 \r\nL 426.637353 126.114513 \r\n\" style=\"fill:#501d4c;\"/>\r\n    <path clip-path=\"url(#pb54b6ebb95)\" d=\"M 166.675 132.509807 \r\nL 174.552647 132.509807 \r\nL 174.552647 138.905101 \r\nL 166.675 138.905101 \r\nL 166.675 132.509807 \r\n\" style=\"fill:#5e1f52;\"/>\r\n    <path clip-path=\"url(#pb54b6ebb95)\" d=\"M 174.552647 132.509807 \r\nL 182.430294 132.509807 \r\nL 182.430294 138.905101 \r\nL 174.552647 138.905101 \r\nL 174.552647 132.509807 \r\n\" style=\"fill:#811e5a;\"/>\r\n    <path clip-path=\"url(#pb54b6ebb95)\" d=\"M 182.430294 132.509807 \r\nL 190.307941 132.509807 \r\nL 190.307941 138.905101 \r\nL 182.430294 138.905101 \r\nL 182.430294 132.509807 \r\n\" style=\"fill:#601f52;\"/>\r\n    <path clip-path=\"url(#pb54b6ebb95)\" d=\"M 190.307941 132.509807 \r\nL 198.185588 132.509807 \r\nL 198.185588 138.905101 \r\nL 190.307941 138.905101 \r\nL 190.307941 132.509807 \r\n\" style=\"fill:#531e4d;\"/>\r\n    <path clip-path=\"url(#pb54b6ebb95)\" d=\"M 198.185588 132.509807 \r\nL 206.063235 132.509807 \r\nL 206.063235 138.905101 \r\nL 198.185588 138.905101 \r\nL 198.185588 132.509807 \r\n\" style=\"fill:#581e4f;\"/>\r\n    <path clip-path=\"url(#pb54b6ebb95)\" d=\"M 206.063235 132.509807 \r\nL 213.940882 132.509807 \r\nL 213.940882 138.905101 \r\nL 206.063235 138.905101 \r\nL 206.063235 132.509807 \r\n\" style=\"fill:#481c48;\"/>\r\n    <path clip-path=\"url(#pb54b6ebb95)\" d=\"M 213.940882 132.509807 \r\nL 221.818529 132.509807 \r\nL 221.818529 138.905101 \r\nL 213.940882 138.905101 \r\nL 213.940882 132.509807 \r\n\" style=\"fill:#4c1d4b;\"/>\r\n    <path clip-path=\"url(#pb54b6ebb95)\" d=\"M 221.818529 132.509807 \r\nL 229.696176 132.509807 \r\nL 229.696176 138.905101 \r\nL 221.818529 138.905101 \r\nL 221.818529 132.509807 \r\n\" style=\"fill:#4c1d4b;\"/>\r\n    <path clip-path=\"url(#pb54b6ebb95)\" d=\"M 229.696176 132.509807 \r\nL 237.573824 132.509807 \r\nL 237.573824 138.905101 \r\nL 229.696176 138.905101 \r\nL 229.696176 132.509807 \r\n\" style=\"fill:#421b45;\"/>\r\n    <path clip-path=\"url(#pb54b6ebb95)\" d=\"M 237.573824 132.509807 \r\nL 245.451471 132.509807 \r\nL 245.451471 138.905101 \r\nL 237.573824 138.905101 \r\nL 237.573824 132.509807 \r\n\" style=\"fill:#501d4c;\"/>\r\n    <path clip-path=\"url(#pb54b6ebb95)\" d=\"M 245.451471 132.509807 \r\nL 253.329118 132.509807 \r\nL 253.329118 138.905101 \r\nL 245.451471 138.905101 \r\nL 245.451471 132.509807 \r\n\" style=\"fill:#4e1d4b;\"/>\r\n    <path clip-path=\"url(#pb54b6ebb95)\" d=\"M 253.329118 132.509807 \r\nL 261.206765 132.509807 \r\nL 261.206765 138.905101 \r\nL 253.329118 138.905101 \r\nL 253.329118 132.509807 \r\n\" style=\"fill:#501d4c;\"/>\r\n    <path clip-path=\"url(#pb54b6ebb95)\" d=\"M 261.206765 132.509807 \r\nL 269.084412 132.509807 \r\nL 269.084412 138.905101 \r\nL 261.206765 138.905101 \r\nL 261.206765 132.509807 \r\n\" style=\"fill:#631f53;\"/>\r\n    <path clip-path=\"url(#pb54b6ebb95)\" d=\"M 269.084412 132.509807 \r\nL 276.962059 132.509807 \r\nL 276.962059 138.905101 \r\nL 269.084412 138.905101 \r\nL 269.084412 132.509807 \r\n\" style=\"fill:#501d4c;\"/>\r\n    <path clip-path=\"url(#pb54b6ebb95)\" d=\"M 276.962059 132.509807 \r\nL 284.839706 132.509807 \r\nL 284.839706 138.905101 \r\nL 276.962059 138.905101 \r\nL 276.962059 132.509807 \r\n\" style=\"fill:#641f54;\"/>\r\n    <path clip-path=\"url(#pb54b6ebb95)\" d=\"M 284.839706 132.509807 \r\nL 292.717353 132.509807 \r\nL 292.717353 138.905101 \r\nL 284.839706 138.905101 \r\nL 284.839706 132.509807 \r\n\" style=\"fill:#4b1d4a;\"/>\r\n    <path clip-path=\"url(#pb54b6ebb95)\" d=\"M 292.717353 132.509807 \r\nL 300.595 132.509807 \r\nL 300.595 138.905101 \r\nL 292.717353 138.905101 \r\nL 292.717353 132.509807 \r\n\" style=\"fill:#611f53;\"/>\r\n    <path clip-path=\"url(#pb54b6ebb95)\" d=\"M 300.595 132.509807 \r\nL 308.472647 132.509807 \r\nL 308.472647 138.905101 \r\nL 300.595 138.905101 \r\nL 300.595 132.509807 \r\n\" style=\"fill:#5e1f52;\"/>\r\n    <path clip-path=\"url(#pb54b6ebb95)\" d=\"M 308.472647 132.509807 \r\nL 316.350294 132.509807 \r\nL 316.350294 138.905101 \r\nL 308.472647 138.905101 \r\nL 308.472647 132.509807 \r\n\" style=\"fill:#5c1e51;\"/>\r\n    <path clip-path=\"url(#pb54b6ebb95)\" d=\"M 316.350294 132.509807 \r\nL 324.227941 132.509807 \r\nL 324.227941 138.905101 \r\nL 316.350294 138.905101 \r\nL 316.350294 132.509807 \r\n\" style=\"fill:#faebdd;\"/>\r\n    <path clip-path=\"url(#pb54b6ebb95)\" d=\"M 324.227941 132.509807 \r\nL 332.105588 132.509807 \r\nL 332.105588 138.905101 \r\nL 324.227941 138.905101 \r\nL 324.227941 132.509807 \r\n\" style=\"fill:#f8d9c3;\"/>\r\n    <path clip-path=\"url(#pb54b6ebb95)\" d=\"M 332.105588 132.509807 \r\nL 339.983235 132.509807 \r\nL 339.983235 138.905101 \r\nL 332.105588 138.905101 \r\nL 332.105588 132.509807 \r\n\" style=\"fill:#f7c7a8;\"/>\r\n    <path clip-path=\"url(#pb54b6ebb95)\" d=\"M 339.983235 132.509807 \r\nL 347.860882 132.509807 \r\nL 347.860882 138.905101 \r\nL 339.983235 138.905101 \r\nL 339.983235 132.509807 \r\n\" style=\"fill:#eb483e;\"/>\r\n    <path clip-path=\"url(#pb54b6ebb95)\" d=\"M 347.860882 132.509807 \r\nL 355.738529 132.509807 \r\nL 355.738529 138.905101 \r\nL 347.860882 138.905101 \r\nL 347.860882 132.509807 \r\n\" style=\"fill:#711f57;\"/>\r\n    <path clip-path=\"url(#pb54b6ebb95)\" d=\"M 355.738529 132.509807 \r\nL 363.616176 132.509807 \r\nL 363.616176 138.905101 \r\nL 355.738529 138.905101 \r\nL 355.738529 132.509807 \r\n\" style=\"fill:#491d49;\"/>\r\n    <path clip-path=\"url(#pb54b6ebb95)\" d=\"M 363.616176 132.509807 \r\nL 371.493824 132.509807 \r\nL 371.493824 138.905101 \r\nL 363.616176 138.905101 \r\nL 363.616176 132.509807 \r\n\" style=\"fill:#481c48;\"/>\r\n    <path clip-path=\"url(#pb54b6ebb95)\" d=\"M 371.493824 132.509807 \r\nL 379.371471 132.509807 \r\nL 379.371471 138.905101 \r\nL 371.493824 138.905101 \r\nL 371.493824 132.509807 \r\n\" style=\"fill:#5c1e51;\"/>\r\n    <path clip-path=\"url(#pb54b6ebb95)\" d=\"M 379.371471 132.509807 \r\nL 387.249118 132.509807 \r\nL 387.249118 138.905101 \r\nL 379.371471 138.905101 \r\nL 379.371471 132.509807 \r\n\" style=\"fill:#4c1d4b;\"/>\r\n    <path clip-path=\"url(#pb54b6ebb95)\" d=\"M 387.249118 132.509807 \r\nL 395.126765 132.509807 \r\nL 395.126765 138.905101 \r\nL 387.249118 138.905101 \r\nL 387.249118 132.509807 \r\n\" style=\"fill:#501d4c;\"/>\r\n    <path clip-path=\"url(#pb54b6ebb95)\" d=\"M 395.126765 132.509807 \r\nL 403.004412 132.509807 \r\nL 403.004412 138.905101 \r\nL 395.126765 138.905101 \r\nL 395.126765 132.509807 \r\n\" style=\"fill:#4c1d4b;\"/>\r\n    <path clip-path=\"url(#pb54b6ebb95)\" d=\"M 403.004412 132.509807 \r\nL 410.882059 132.509807 \r\nL 410.882059 138.905101 \r\nL 403.004412 138.905101 \r\nL 403.004412 132.509807 \r\n\" style=\"fill:#3d1a42;\"/>\r\n    <path clip-path=\"url(#pb54b6ebb95)\" d=\"M 410.882059 132.509807 \r\nL 418.759706 132.509807 \r\nL 418.759706 138.905101 \r\nL 410.882059 138.905101 \r\nL 410.882059 132.509807 \r\n\" style=\"fill:#661f54;\"/>\r\n    <path clip-path=\"url(#pb54b6ebb95)\" d=\"M 418.759706 132.509807 \r\nL 426.637353 132.509807 \r\nL 426.637353 138.905101 \r\nL 418.759706 138.905101 \r\nL 418.759706 132.509807 \r\n\" style=\"fill:#821e5a;\"/>\r\n    <path clip-path=\"url(#pb54b6ebb95)\" d=\"M 426.637353 132.509807 \r\nL 434.515 132.509807 \r\nL 434.515 138.905101 \r\nL 426.637353 138.905101 \r\nL 426.637353 132.509807 \r\n\" style=\"fill:#6b1f56;\"/>\r\n    <path clip-path=\"url(#pb54b6ebb95)\" d=\"M 166.675 138.905101 \r\nL 174.552647 138.905101 \r\nL 174.552647 145.300395 \r\nL 166.675 145.300395 \r\nL 166.675 138.905101 \r\n\" style=\"fill:#631f53;\"/>\r\n    <path clip-path=\"url(#pb54b6ebb95)\" d=\"M 174.552647 138.905101 \r\nL 182.430294 138.905101 \r\nL 182.430294 145.300395 \r\nL 174.552647 145.300395 \r\nL 174.552647 138.905101 \r\n\" style=\"fill:#821e5a;\"/>\r\n    <path clip-path=\"url(#pb54b6ebb95)\" d=\"M 182.430294 138.905101 \r\nL 190.307941 138.905101 \r\nL 190.307941 145.300395 \r\nL 182.430294 145.300395 \r\nL 182.430294 138.905101 \r\n\" style=\"fill:#631f53;\"/>\r\n    <path clip-path=\"url(#pb54b6ebb95)\" d=\"M 190.307941 138.905101 \r\nL 198.185588 138.905101 \r\nL 198.185588 145.300395 \r\nL 190.307941 145.300395 \r\nL 190.307941 138.905101 \r\n\" style=\"fill:#4e1d4b;\"/>\r\n    <path clip-path=\"url(#pb54b6ebb95)\" d=\"M 198.185588 138.905101 \r\nL 206.063235 138.905101 \r\nL 206.063235 145.300395 \r\nL 198.185588 145.300395 \r\nL 198.185588 138.905101 \r\n\" style=\"fill:#5b1e51;\"/>\r\n    <path clip-path=\"url(#pb54b6ebb95)\" d=\"M 206.063235 138.905101 \r\nL 213.940882 138.905101 \r\nL 213.940882 145.300395 \r\nL 206.063235 145.300395 \r\nL 206.063235 138.905101 \r\n\" style=\"fill:#451c47;\"/>\r\n    <path clip-path=\"url(#pb54b6ebb95)\" d=\"M 213.940882 138.905101 \r\nL 221.818529 138.905101 \r\nL 221.818529 145.300395 \r\nL 213.940882 145.300395 \r\nL 213.940882 138.905101 \r\n\" style=\"fill:#491d49;\"/>\r\n    <path clip-path=\"url(#pb54b6ebb95)\" d=\"M 221.818529 138.905101 \r\nL 229.696176 138.905101 \r\nL 229.696176 145.300395 \r\nL 221.818529 145.300395 \r\nL 221.818529 138.905101 \r\n\" style=\"fill:#491d49;\"/>\r\n    <path clip-path=\"url(#pb54b6ebb95)\" d=\"M 229.696176 138.905101 \r\nL 237.573824 138.905101 \r\nL 237.573824 145.300395 \r\nL 229.696176 145.300395 \r\nL 229.696176 138.905101 \r\n\" style=\"fill:#3d1a42;\"/>\r\n    <path clip-path=\"url(#pb54b6ebb95)\" d=\"M 237.573824 138.905101 \r\nL 245.451471 138.905101 \r\nL 245.451471 145.300395 \r\nL 237.573824 145.300395 \r\nL 237.573824 138.905101 \r\n\" style=\"fill:#4e1d4b;\"/>\r\n    <path clip-path=\"url(#pb54b6ebb95)\" d=\"M 245.451471 138.905101 \r\nL 253.329118 138.905101 \r\nL 253.329118 145.300395 \r\nL 245.451471 145.300395 \r\nL 245.451471 138.905101 \r\n\" style=\"fill:#491d49;\"/>\r\n    <path clip-path=\"url(#pb54b6ebb95)\" d=\"M 253.329118 138.905101 \r\nL 261.206765 138.905101 \r\nL 261.206765 145.300395 \r\nL 253.329118 145.300395 \r\nL 253.329118 138.905101 \r\n\" style=\"fill:#4b1d4a;\"/>\r\n    <path clip-path=\"url(#pb54b6ebb95)\" d=\"M 261.206765 138.905101 \r\nL 269.084412 138.905101 \r\nL 269.084412 145.300395 \r\nL 261.206765 145.300395 \r\nL 261.206765 138.905101 \r\n\" style=\"fill:#5e1f52;\"/>\r\n    <path clip-path=\"url(#pb54b6ebb95)\" d=\"M 269.084412 138.905101 \r\nL 276.962059 138.905101 \r\nL 276.962059 145.300395 \r\nL 269.084412 145.300395 \r\nL 269.084412 138.905101 \r\n\" style=\"fill:#4e1d4b;\"/>\r\n    <path clip-path=\"url(#pb54b6ebb95)\" d=\"M 276.962059 138.905101 \r\nL 284.839706 138.905101 \r\nL 284.839706 145.300395 \r\nL 276.962059 145.300395 \r\nL 276.962059 138.905101 \r\n\" style=\"fill:#601f52;\"/>\r\n    <path clip-path=\"url(#pb54b6ebb95)\" d=\"M 284.839706 138.905101 \r\nL 292.717353 138.905101 \r\nL 292.717353 145.300395 \r\nL 284.839706 145.300395 \r\nL 284.839706 138.905101 \r\n\" style=\"fill:#4b1d4a;\"/>\r\n    <path clip-path=\"url(#pb54b6ebb95)\" d=\"M 292.717353 138.905101 \r\nL 300.595 138.905101 \r\nL 300.595 145.300395 \r\nL 292.717353 145.300395 \r\nL 292.717353 138.905101 \r\n\" style=\"fill:#601f52;\"/>\r\n    <path clip-path=\"url(#pb54b6ebb95)\" d=\"M 300.595 138.905101 \r\nL 308.472647 138.905101 \r\nL 308.472647 145.300395 \r\nL 300.595 145.300395 \r\nL 300.595 138.905101 \r\n\" style=\"fill:#5c1e51;\"/>\r\n    <path clip-path=\"url(#pb54b6ebb95)\" d=\"M 308.472647 138.905101 \r\nL 316.350294 138.905101 \r\nL 316.350294 145.300395 \r\nL 308.472647 145.300395 \r\nL 308.472647 138.905101 \r\n\" style=\"fill:#561e4f;\"/>\r\n    <path clip-path=\"url(#pb54b6ebb95)\" d=\"M 316.350294 138.905101 \r\nL 324.227941 138.905101 \r\nL 324.227941 145.300395 \r\nL 316.350294 145.300395 \r\nL 316.350294 138.905101 \r\n\" style=\"fill:#f8d9c3;\"/>\r\n    <path clip-path=\"url(#pb54b6ebb95)\" d=\"M 324.227941 138.905101 \r\nL 332.105588 138.905101 \r\nL 332.105588 145.300395 \r\nL 324.227941 145.300395 \r\nL 324.227941 138.905101 \r\n\" style=\"fill:#faebdd;\"/>\r\n    <path clip-path=\"url(#pb54b6ebb95)\" d=\"M 332.105588 138.905101 \r\nL 339.983235 138.905101 \r\nL 339.983235 145.300395 \r\nL 332.105588 145.300395 \r\nL 332.105588 138.905101 \r\n\" style=\"fill:#f9e3d2;\"/>\r\n    <path clip-path=\"url(#pb54b6ebb95)\" d=\"M 339.983235 138.905101 \r\nL 347.860882 138.905101 \r\nL 347.860882 145.300395 \r\nL 339.983235 145.300395 \r\nL 339.983235 138.905101 \r\n\" style=\"fill:#f16445;\"/>\r\n    <path clip-path=\"url(#pb54b6ebb95)\" d=\"M 347.860882 138.905101 \r\nL 355.738529 138.905101 \r\nL 355.738529 145.300395 \r\nL 347.860882 145.300395 \r\nL 347.860882 138.905101 \r\n\" style=\"fill:#7a1f59;\"/>\r\n    <path clip-path=\"url(#pb54b6ebb95)\" d=\"M 355.738529 138.905101 \r\nL 363.616176 138.905101 \r\nL 363.616176 145.300395 \r\nL 355.738529 145.300395 \r\nL 355.738529 138.905101 \r\n\" style=\"fill:#4b1d4a;\"/>\r\n    <path clip-path=\"url(#pb54b6ebb95)\" d=\"M 363.616176 138.905101 \r\nL 371.493824 138.905101 \r\nL 371.493824 145.300395 \r\nL 363.616176 145.300395 \r\nL 363.616176 138.905101 \r\n\" style=\"fill:#4b1d4a;\"/>\r\n    <path clip-path=\"url(#pb54b6ebb95)\" d=\"M 371.493824 138.905101 \r\nL 379.371471 138.905101 \r\nL 379.371471 145.300395 \r\nL 371.493824 145.300395 \r\nL 371.493824 138.905101 \r\n\" style=\"fill:#5e1f52;\"/>\r\n    <path clip-path=\"url(#pb54b6ebb95)\" d=\"M 379.371471 138.905101 \r\nL 387.249118 138.905101 \r\nL 387.249118 145.300395 \r\nL 379.371471 145.300395 \r\nL 379.371471 138.905101 \r\n\" style=\"fill:#501d4c;\"/>\r\n    <path clip-path=\"url(#pb54b6ebb95)\" d=\"M 387.249118 138.905101 \r\nL 395.126765 138.905101 \r\nL 395.126765 145.300395 \r\nL 387.249118 145.300395 \r\nL 387.249118 138.905101 \r\n\" style=\"fill:#4e1d4b;\"/>\r\n    <path clip-path=\"url(#pb54b6ebb95)\" d=\"M 395.126765 138.905101 \r\nL 403.004412 138.905101 \r\nL 403.004412 145.300395 \r\nL 395.126765 145.300395 \r\nL 395.126765 138.905101 \r\n\" style=\"fill:#491d49;\"/>\r\n    <path clip-path=\"url(#pb54b6ebb95)\" d=\"M 403.004412 138.905101 \r\nL 410.882059 138.905101 \r\nL 410.882059 145.300395 \r\nL 403.004412 145.300395 \r\nL 403.004412 138.905101 \r\n\" style=\"fill:#401b44;\"/>\r\n    <path clip-path=\"url(#pb54b6ebb95)\" d=\"M 410.882059 138.905101 \r\nL 418.759706 138.905101 \r\nL 418.759706 145.300395 \r\nL 410.882059 145.300395 \r\nL 410.882059 138.905101 \r\n\" style=\"fill:#6e1f57;\"/>\r\n    <path clip-path=\"url(#pb54b6ebb95)\" d=\"M 418.759706 138.905101 \r\nL 426.637353 138.905101 \r\nL 426.637353 145.300395 \r\nL 418.759706 145.300395 \r\nL 418.759706 138.905101 \r\n\" style=\"fill:#841e5a;\"/>\r\n    <path clip-path=\"url(#pb54b6ebb95)\" d=\"M 426.637353 138.905101 \r\nL 434.515 138.905101 \r\nL 434.515 145.300395 \r\nL 426.637353 145.300395 \r\nL 426.637353 138.905101 \r\n\" style=\"fill:#7b1f59;\"/>\r\n    <path clip-path=\"url(#pb54b6ebb95)\" d=\"M 166.675 145.300395 \r\nL 174.552647 145.300395 \r\nL 174.552647 151.695689 \r\nL 166.675 151.695689 \r\nL 166.675 145.300395 \r\n\" style=\"fill:#661f54;\"/>\r\n    <path clip-path=\"url(#pb54b6ebb95)\" d=\"M 174.552647 145.300395 \r\nL 182.430294 145.300395 \r\nL 182.430294 151.695689 \r\nL 174.552647 151.695689 \r\nL 174.552647 145.300395 \r\n\" style=\"fill:#811e5a;\"/>\r\n    <path clip-path=\"url(#pb54b6ebb95)\" d=\"M 182.430294 145.300395 \r\nL 190.307941 145.300395 \r\nL 190.307941 151.695689 \r\nL 182.430294 151.695689 \r\nL 182.430294 145.300395 \r\n\" style=\"fill:#681f55;\"/>\r\n    <path clip-path=\"url(#pb54b6ebb95)\" d=\"M 190.307941 145.300395 \r\nL 198.185588 145.300395 \r\nL 198.185588 151.695689 \r\nL 190.307941 151.695689 \r\nL 190.307941 145.300395 \r\n\" style=\"fill:#4e1d4b;\"/>\r\n    <path clip-path=\"url(#pb54b6ebb95)\" d=\"M 198.185588 145.300395 \r\nL 206.063235 145.300395 \r\nL 206.063235 151.695689 \r\nL 198.185588 151.695689 \r\nL 198.185588 145.300395 \r\n\" style=\"fill:#5c1e51;\"/>\r\n    <path clip-path=\"url(#pb54b6ebb95)\" d=\"M 206.063235 145.300395 \r\nL 213.940882 145.300395 \r\nL 213.940882 151.695689 \r\nL 206.063235 151.695689 \r\nL 206.063235 145.300395 \r\n\" style=\"fill:#451c47;\"/>\r\n    <path clip-path=\"url(#pb54b6ebb95)\" d=\"M 213.940882 145.300395 \r\nL 221.818529 145.300395 \r\nL 221.818529 151.695689 \r\nL 213.940882 151.695689 \r\nL 213.940882 145.300395 \r\n\" style=\"fill:#461c48;\"/>\r\n    <path clip-path=\"url(#pb54b6ebb95)\" d=\"M 221.818529 145.300395 \r\nL 229.696176 145.300395 \r\nL 229.696176 151.695689 \r\nL 221.818529 151.695689 \r\nL 221.818529 145.300395 \r\n\" style=\"fill:#481c48;\"/>\r\n    <path clip-path=\"url(#pb54b6ebb95)\" d=\"M 229.696176 145.300395 \r\nL 237.573824 145.300395 \r\nL 237.573824 151.695689 \r\nL 229.696176 151.695689 \r\nL 229.696176 145.300395 \r\n\" style=\"fill:#3a1a41;\"/>\r\n    <path clip-path=\"url(#pb54b6ebb95)\" d=\"M 237.573824 145.300395 \r\nL 245.451471 145.300395 \r\nL 245.451471 151.695689 \r\nL 237.573824 151.695689 \r\nL 237.573824 145.300395 \r\n\" style=\"fill:#4b1d4a;\"/>\r\n    <path clip-path=\"url(#pb54b6ebb95)\" d=\"M 245.451471 145.300395 \r\nL 253.329118 145.300395 \r\nL 253.329118 151.695689 \r\nL 245.451471 151.695689 \r\nL 245.451471 145.300395 \r\n\" style=\"fill:#481c48;\"/>\r\n    <path clip-path=\"url(#pb54b6ebb95)\" d=\"M 253.329118 145.300395 \r\nL 261.206765 145.300395 \r\nL 261.206765 151.695689 \r\nL 253.329118 151.695689 \r\nL 253.329118 145.300395 \r\n\" style=\"fill:#461c48;\"/>\r\n    <path clip-path=\"url(#pb54b6ebb95)\" d=\"M 261.206765 145.300395 \r\nL 269.084412 145.300395 \r\nL 269.084412 151.695689 \r\nL 261.206765 151.695689 \r\nL 261.206765 145.300395 \r\n\" style=\"fill:#581e4f;\"/>\r\n    <path clip-path=\"url(#pb54b6ebb95)\" d=\"M 269.084412 145.300395 \r\nL 276.962059 145.300395 \r\nL 276.962059 151.695689 \r\nL 269.084412 151.695689 \r\nL 269.084412 145.300395 \r\n\" style=\"fill:#4e1d4b;\"/>\r\n    <path clip-path=\"url(#pb54b6ebb95)\" d=\"M 276.962059 145.300395 \r\nL 284.839706 145.300395 \r\nL 284.839706 151.695689 \r\nL 276.962059 151.695689 \r\nL 276.962059 145.300395 \r\n\" style=\"fill:#5c1e51;\"/>\r\n    <path clip-path=\"url(#pb54b6ebb95)\" d=\"M 284.839706 145.300395 \r\nL 292.717353 145.300395 \r\nL 292.717353 151.695689 \r\nL 284.839706 151.695689 \r\nL 284.839706 145.300395 \r\n\" style=\"fill:#4b1d4a;\"/>\r\n    <path clip-path=\"url(#pb54b6ebb95)\" d=\"M 292.717353 145.300395 \r\nL 300.595 145.300395 \r\nL 300.595 151.695689 \r\nL 292.717353 151.695689 \r\nL 292.717353 145.300395 \r\n\" style=\"fill:#611f53;\"/>\r\n    <path clip-path=\"url(#pb54b6ebb95)\" d=\"M 300.595 145.300395 \r\nL 308.472647 145.300395 \r\nL 308.472647 151.695689 \r\nL 300.595 151.695689 \r\nL 300.595 145.300395 \r\n\" style=\"fill:#5c1e51;\"/>\r\n    <path clip-path=\"url(#pb54b6ebb95)\" d=\"M 308.472647 145.300395 \r\nL 316.350294 145.300395 \r\nL 316.350294 151.695689 \r\nL 308.472647 151.695689 \r\nL 308.472647 145.300395 \r\n\" style=\"fill:#581e4f;\"/>\r\n    <path clip-path=\"url(#pb54b6ebb95)\" d=\"M 316.350294 145.300395 \r\nL 324.227941 145.300395 \r\nL 324.227941 151.695689 \r\nL 316.350294 151.695689 \r\nL 316.350294 145.300395 \r\n\" style=\"fill:#f7c7a8;\"/>\r\n    <path clip-path=\"url(#pb54b6ebb95)\" d=\"M 324.227941 145.300395 \r\nL 332.105588 145.300395 \r\nL 332.105588 151.695689 \r\nL 324.227941 151.695689 \r\nL 324.227941 145.300395 \r\n\" style=\"fill:#f9e3d2;\"/>\r\n    <path clip-path=\"url(#pb54b6ebb95)\" d=\"M 332.105588 145.300395 \r\nL 339.983235 145.300395 \r\nL 339.983235 151.695689 \r\nL 332.105588 151.695689 \r\nL 332.105588 145.300395 \r\n\" style=\"fill:#faebdd;\"/>\r\n    <path clip-path=\"url(#pb54b6ebb95)\" d=\"M 339.983235 145.300395 \r\nL 347.860882 145.300395 \r\nL 347.860882 151.695689 \r\nL 339.983235 151.695689 \r\nL 339.983235 145.300395 \r\n\" style=\"fill:#f37450;\"/>\r\n    <path clip-path=\"url(#pb54b6ebb95)\" d=\"M 347.860882 145.300395 \r\nL 355.738529 145.300395 \r\nL 355.738529 151.695689 \r\nL 347.860882 151.695689 \r\nL 347.860882 145.300395 \r\n\" style=\"fill:#7b1f59;\"/>\r\n    <path clip-path=\"url(#pb54b6ebb95)\" d=\"M 355.738529 145.300395 \r\nL 363.616176 145.300395 \r\nL 363.616176 151.695689 \r\nL 355.738529 151.695689 \r\nL 355.738529 145.300395 \r\n\" style=\"fill:#4e1d4b;\"/>\r\n    <path clip-path=\"url(#pb54b6ebb95)\" d=\"M 363.616176 145.300395 \r\nL 371.493824 145.300395 \r\nL 371.493824 151.695689 \r\nL 363.616176 151.695689 \r\nL 363.616176 145.300395 \r\n\" style=\"fill:#501d4c;\"/>\r\n    <path clip-path=\"url(#pb54b6ebb95)\" d=\"M 371.493824 145.300395 \r\nL 379.371471 145.300395 \r\nL 379.371471 151.695689 \r\nL 371.493824 151.695689 \r\nL 371.493824 145.300395 \r\n\" style=\"fill:#601f52;\"/>\r\n    <path clip-path=\"url(#pb54b6ebb95)\" d=\"M 379.371471 145.300395 \r\nL 387.249118 145.300395 \r\nL 387.249118 151.695689 \r\nL 379.371471 151.695689 \r\nL 379.371471 145.300395 \r\n\" style=\"fill:#531e4d;\"/>\r\n    <path clip-path=\"url(#pb54b6ebb95)\" d=\"M 387.249118 145.300395 \r\nL 395.126765 145.300395 \r\nL 395.126765 151.695689 \r\nL 387.249118 151.695689 \r\nL 387.249118 145.300395 \r\n\" style=\"fill:#501d4c;\"/>\r\n    <path clip-path=\"url(#pb54b6ebb95)\" d=\"M 395.126765 145.300395 \r\nL 403.004412 145.300395 \r\nL 403.004412 151.695689 \r\nL 395.126765 151.695689 \r\nL 395.126765 145.300395 \r\n\" style=\"fill:#491d49;\"/>\r\n    <path clip-path=\"url(#pb54b6ebb95)\" d=\"M 403.004412 145.300395 \r\nL 410.882059 145.300395 \r\nL 410.882059 151.695689 \r\nL 403.004412 151.695689 \r\nL 403.004412 145.300395 \r\n\" style=\"fill:#421b45;\"/>\r\n    <path clip-path=\"url(#pb54b6ebb95)\" d=\"M 410.882059 145.300395 \r\nL 418.759706 145.300395 \r\nL 418.759706 151.695689 \r\nL 410.882059 151.695689 \r\nL 410.882059 145.300395 \r\n\" style=\"fill:#711f57;\"/>\r\n    <path clip-path=\"url(#pb54b6ebb95)\" d=\"M 418.759706 145.300395 \r\nL 426.637353 145.300395 \r\nL 426.637353 151.695689 \r\nL 418.759706 151.695689 \r\nL 418.759706 145.300395 \r\n\" style=\"fill:#841e5a;\"/>\r\n    <path clip-path=\"url(#pb54b6ebb95)\" d=\"M 426.637353 145.300395 \r\nL 434.515 145.300395 \r\nL 434.515 151.695689 \r\nL 426.637353 151.695689 \r\nL 426.637353 145.300395 \r\n\" style=\"fill:#811e5a;\"/>\r\n    <path clip-path=\"url(#pb54b6ebb95)\" d=\"M 166.675 151.695689 \r\nL 174.552647 151.695689 \r\nL 174.552647 158.090983 \r\nL 166.675 158.090983 \r\nL 166.675 151.695689 \r\n\" style=\"fill:#541e4e;\"/>\r\n    <path clip-path=\"url(#pb54b6ebb95)\" d=\"M 174.552647 151.695689 \r\nL 182.430294 151.695689 \r\nL 182.430294 158.090983 \r\nL 174.552647 158.090983 \r\nL 174.552647 151.695689 \r\n\" style=\"fill:#751f58;\"/>\r\n    <path clip-path=\"url(#pb54b6ebb95)\" d=\"M 182.430294 151.695689 \r\nL 190.307941 151.695689 \r\nL 190.307941 158.090983 \r\nL 182.430294 158.090983 \r\nL 182.430294 151.695689 \r\n\" style=\"fill:#601f52;\"/>\r\n    <path clip-path=\"url(#pb54b6ebb95)\" d=\"M 190.307941 151.695689 \r\nL 198.185588 151.695689 \r\nL 198.185588 158.090983 \r\nL 190.307941 158.090983 \r\nL 190.307941 151.695689 \r\n\" style=\"fill:#591e50;\"/>\r\n    <path clip-path=\"url(#pb54b6ebb95)\" d=\"M 198.185588 151.695689 \r\nL 206.063235 151.695689 \r\nL 206.063235 158.090983 \r\nL 198.185588 158.090983 \r\nL 198.185588 151.695689 \r\n\" style=\"fill:#581e4f;\"/>\r\n    <path clip-path=\"url(#pb54b6ebb95)\" d=\"M 206.063235 151.695689 \r\nL 213.940882 151.695689 \r\nL 213.940882 158.090983 \r\nL 206.063235 158.090983 \r\nL 206.063235 151.695689 \r\n\" style=\"fill:#491d49;\"/>\r\n    <path clip-path=\"url(#pb54b6ebb95)\" d=\"M 213.940882 151.695689 \r\nL 221.818529 151.695689 \r\nL 221.818529 158.090983 \r\nL 213.940882 158.090983 \r\nL 213.940882 151.695689 \r\n\" style=\"fill:#501d4c;\"/>\r\n    <path clip-path=\"url(#pb54b6ebb95)\" d=\"M 221.818529 151.695689 \r\nL 229.696176 151.695689 \r\nL 229.696176 158.090983 \r\nL 221.818529 158.090983 \r\nL 221.818529 151.695689 \r\n\" style=\"fill:#591e50;\"/>\r\n    <path clip-path=\"url(#pb54b6ebb95)\" d=\"M 229.696176 151.695689 \r\nL 237.573824 151.695689 \r\nL 237.573824 158.090983 \r\nL 229.696176 158.090983 \r\nL 229.696176 151.695689 \r\n\" style=\"fill:#491d49;\"/>\r\n    <path clip-path=\"url(#pb54b6ebb95)\" d=\"M 237.573824 151.695689 \r\nL 245.451471 151.695689 \r\nL 245.451471 158.090983 \r\nL 237.573824 158.090983 \r\nL 237.573824 151.695689 \r\n\" style=\"fill:#561e4f;\"/>\r\n    <path clip-path=\"url(#pb54b6ebb95)\" d=\"M 245.451471 151.695689 \r\nL 253.329118 151.695689 \r\nL 253.329118 158.090983 \r\nL 245.451471 158.090983 \r\nL 245.451471 151.695689 \r\n\" style=\"fill:#541e4e;\"/>\r\n    <path clip-path=\"url(#pb54b6ebb95)\" d=\"M 253.329118 151.695689 \r\nL 261.206765 151.695689 \r\nL 261.206765 158.090983 \r\nL 253.329118 158.090983 \r\nL 253.329118 151.695689 \r\n\" style=\"fill:#4e1d4b;\"/>\r\n    <path clip-path=\"url(#pb54b6ebb95)\" d=\"M 261.206765 151.695689 \r\nL 269.084412 151.695689 \r\nL 269.084412 158.090983 \r\nL 261.206765 158.090983 \r\nL 261.206765 151.695689 \r\n\" style=\"fill:#4e1d4b;\"/>\r\n    <path clip-path=\"url(#pb54b6ebb95)\" d=\"M 269.084412 151.695689 \r\nL 276.962059 151.695689 \r\nL 276.962059 158.090983 \r\nL 269.084412 158.090983 \r\nL 269.084412 151.695689 \r\n\" style=\"fill:#561e4f;\"/>\r\n    <path clip-path=\"url(#pb54b6ebb95)\" d=\"M 276.962059 151.695689 \r\nL 284.839706 151.695689 \r\nL 284.839706 158.090983 \r\nL 276.962059 158.090983 \r\nL 276.962059 151.695689 \r\n\" style=\"fill:#6d1f56;\"/>\r\n    <path clip-path=\"url(#pb54b6ebb95)\" d=\"M 284.839706 151.695689 \r\nL 292.717353 151.695689 \r\nL 292.717353 158.090983 \r\nL 284.839706 158.090983 \r\nL 284.839706 151.695689 \r\n\" style=\"fill:#491d49;\"/>\r\n    <path clip-path=\"url(#pb54b6ebb95)\" d=\"M 292.717353 151.695689 \r\nL 300.595 151.695689 \r\nL 300.595 158.090983 \r\nL 292.717353 158.090983 \r\nL 292.717353 151.695689 \r\n\" style=\"fill:#5c1e51;\"/>\r\n    <path clip-path=\"url(#pb54b6ebb95)\" d=\"M 300.595 151.695689 \r\nL 308.472647 151.695689 \r\nL 308.472647 158.090983 \r\nL 300.595 158.090983 \r\nL 300.595 151.695689 \r\n\" style=\"fill:#5c1e51;\"/>\r\n    <path clip-path=\"url(#pb54b6ebb95)\" d=\"M 308.472647 151.695689 \r\nL 316.350294 151.695689 \r\nL 316.350294 158.090983 \r\nL 308.472647 158.090983 \r\nL 308.472647 151.695689 \r\n\" style=\"fill:#5c1e51;\"/>\r\n    <path clip-path=\"url(#pb54b6ebb95)\" d=\"M 316.350294 151.695689 \r\nL 324.227941 151.695689 \r\nL 324.227941 158.090983 \r\nL 316.350294 158.090983 \r\nL 316.350294 151.695689 \r\n\" style=\"fill:#eb483e;\"/>\r\n    <path clip-path=\"url(#pb54b6ebb95)\" d=\"M 324.227941 151.695689 \r\nL 332.105588 151.695689 \r\nL 332.105588 158.090983 \r\nL 324.227941 158.090983 \r\nL 324.227941 151.695689 \r\n\" style=\"fill:#f16445;\"/>\r\n    <path clip-path=\"url(#pb54b6ebb95)\" d=\"M 332.105588 151.695689 \r\nL 339.983235 151.695689 \r\nL 339.983235 158.090983 \r\nL 332.105588 158.090983 \r\nL 332.105588 151.695689 \r\n\" style=\"fill:#f37450;\"/>\r\n    <path clip-path=\"url(#pb54b6ebb95)\" d=\"M 339.983235 151.695689 \r\nL 347.860882 151.695689 \r\nL 347.860882 158.090983 \r\nL 339.983235 158.090983 \r\nL 339.983235 151.695689 \r\n\" style=\"fill:#faebdd;\"/>\r\n    <path clip-path=\"url(#pb54b6ebb95)\" d=\"M 347.860882 151.695689 \r\nL 355.738529 151.695689 \r\nL 355.738529 158.090983 \r\nL 347.860882 158.090983 \r\nL 347.860882 151.695689 \r\n\" style=\"fill:#781f59;\"/>\r\n    <path clip-path=\"url(#pb54b6ebb95)\" d=\"M 355.738529 151.695689 \r\nL 363.616176 151.695689 \r\nL 363.616176 158.090983 \r\nL 355.738529 158.090983 \r\nL 355.738529 151.695689 \r\n\" style=\"fill:#4c1d4b;\"/>\r\n    <path clip-path=\"url(#pb54b6ebb95)\" d=\"M 363.616176 151.695689 \r\nL 371.493824 151.695689 \r\nL 371.493824 158.090983 \r\nL 363.616176 158.090983 \r\nL 363.616176 151.695689 \r\n\" style=\"fill:#4c1d4b;\"/>\r\n    <path clip-path=\"url(#pb54b6ebb95)\" d=\"M 371.493824 151.695689 \r\nL 379.371471 151.695689 \r\nL 379.371471 158.090983 \r\nL 371.493824 158.090983 \r\nL 371.493824 151.695689 \r\n\" style=\"fill:#531e4d;\"/>\r\n    <path clip-path=\"url(#pb54b6ebb95)\" d=\"M 379.371471 151.695689 \r\nL 387.249118 151.695689 \r\nL 387.249118 158.090983 \r\nL 379.371471 158.090983 \r\nL 379.371471 151.695689 \r\n\" style=\"fill:#541e4e;\"/>\r\n    <path clip-path=\"url(#pb54b6ebb95)\" d=\"M 387.249118 151.695689 \r\nL 395.126765 151.695689 \r\nL 395.126765 158.090983 \r\nL 387.249118 158.090983 \r\nL 387.249118 151.695689 \r\n\" style=\"fill:#531e4d;\"/>\r\n    <path clip-path=\"url(#pb54b6ebb95)\" d=\"M 395.126765 151.695689 \r\nL 403.004412 151.695689 \r\nL 403.004412 158.090983 \r\nL 395.126765 158.090983 \r\nL 395.126765 151.695689 \r\n\" style=\"fill:#4e1d4b;\"/>\r\n    <path clip-path=\"url(#pb54b6ebb95)\" d=\"M 403.004412 151.695689 \r\nL 410.882059 151.695689 \r\nL 410.882059 158.090983 \r\nL 403.004412 158.090983 \r\nL 403.004412 151.695689 \r\n\" style=\"fill:#451c47;\"/>\r\n    <path clip-path=\"url(#pb54b6ebb95)\" d=\"M 410.882059 151.695689 \r\nL 418.759706 151.695689 \r\nL 418.759706 158.090983 \r\nL 410.882059 158.090983 \r\nL 410.882059 151.695689 \r\n\" style=\"fill:#5b1e51;\"/>\r\n    <path clip-path=\"url(#pb54b6ebb95)\" d=\"M 418.759706 151.695689 \r\nL 426.637353 151.695689 \r\nL 426.637353 158.090983 \r\nL 418.759706 158.090983 \r\nL 418.759706 151.695689 \r\n\" style=\"fill:#861e5b;\"/>\r\n    <path clip-path=\"url(#pb54b6ebb95)\" d=\"M 426.637353 151.695689 \r\nL 434.515 151.695689 \r\nL 434.515 158.090983 \r\nL 426.637353 158.090983 \r\nL 426.637353 151.695689 \r\n\" style=\"fill:#5b1e51;\"/>\r\n    <path clip-path=\"url(#pb54b6ebb95)\" d=\"M 166.675 158.090983 \r\nL 174.552647 158.090983 \r\nL 174.552647 164.486278 \r\nL 166.675 164.486278 \r\nL 166.675 158.090983 \r\n\" style=\"fill:#b01759;\"/>\r\n    <path clip-path=\"url(#pb54b6ebb95)\" d=\"M 174.552647 158.090983 \r\nL 182.430294 158.090983 \r\nL 182.430294 164.486278 \r\nL 174.552647 164.486278 \r\nL 174.552647 158.090983 \r\n\" style=\"fill:#461c48;\"/>\r\n    <path clip-path=\"url(#pb54b6ebb95)\" d=\"M 182.430294 158.090983 \r\nL 190.307941 158.090983 \r\nL 190.307941 164.486278 \r\nL 182.430294 164.486278 \r\nL 182.430294 158.090983 \r\n\" style=\"fill:#781f59;\"/>\r\n    <path clip-path=\"url(#pb54b6ebb95)\" d=\"M 190.307941 158.090983 \r\nL 198.185588 158.090983 \r\nL 198.185588 164.486278 \r\nL 190.307941 164.486278 \r\nL 190.307941 158.090983 \r\n\" style=\"fill:#501d4c;\"/>\r\n    <path clip-path=\"url(#pb54b6ebb95)\" d=\"M 198.185588 158.090983 \r\nL 206.063235 158.090983 \r\nL 206.063235 164.486278 \r\nL 198.185588 164.486278 \r\nL 198.185588 158.090983 \r\n\" style=\"fill:#561e4f;\"/>\r\n    <path clip-path=\"url(#pb54b6ebb95)\" d=\"M 206.063235 158.090983 \r\nL 213.940882 158.090983 \r\nL 213.940882 164.486278 \r\nL 206.063235 164.486278 \r\nL 206.063235 158.090983 \r\n\" style=\"fill:#7f1e5a;\"/>\r\n    <path clip-path=\"url(#pb54b6ebb95)\" d=\"M 213.940882 158.090983 \r\nL 221.818529 158.090983 \r\nL 221.818529 164.486278 \r\nL 213.940882 164.486278 \r\nL 213.940882 158.090983 \r\n\" style=\"fill:#431c46;\"/>\r\n    <path clip-path=\"url(#pb54b6ebb95)\" d=\"M 221.818529 158.090983 \r\nL 229.696176 158.090983 \r\nL 229.696176 164.486278 \r\nL 221.818529 164.486278 \r\nL 221.818529 158.090983 \r\n\" style=\"fill:#3d1a42;\"/>\r\n    <path clip-path=\"url(#pb54b6ebb95)\" d=\"M 229.696176 158.090983 \r\nL 237.573824 158.090983 \r\nL 237.573824 164.486278 \r\nL 229.696176 164.486278 \r\nL 229.696176 158.090983 \r\n\" style=\"fill:#381a40;\"/>\r\n    <path clip-path=\"url(#pb54b6ebb95)\" d=\"M 237.573824 158.090983 \r\nL 245.451471 158.090983 \r\nL 245.451471 164.486278 \r\nL 237.573824 164.486278 \r\nL 237.573824 158.090983 \r\n\" style=\"fill:#3f1b43;\"/>\r\n    <path clip-path=\"url(#pb54b6ebb95)\" d=\"M 245.451471 158.090983 \r\nL 253.329118 158.090983 \r\nL 253.329118 164.486278 \r\nL 245.451471 164.486278 \r\nL 245.451471 158.090983 \r\n\" style=\"fill:#34193d;\"/>\r\n    <path clip-path=\"url(#pb54b6ebb95)\" d=\"M 253.329118 158.090983 \r\nL 261.206765 158.090983 \r\nL 261.206765 164.486278 \r\nL 253.329118 164.486278 \r\nL 253.329118 158.090983 \r\n\" style=\"fill:#3d1a42;\"/>\r\n    <path clip-path=\"url(#pb54b6ebb95)\" d=\"M 261.206765 158.090983 \r\nL 269.084412 158.090983 \r\nL 269.084412 164.486278 \r\nL 261.206765 164.486278 \r\nL 261.206765 158.090983 \r\n\" style=\"fill:#511e4d;\"/>\r\n    <path clip-path=\"url(#pb54b6ebb95)\" d=\"M 269.084412 158.090983 \r\nL 276.962059 158.090983 \r\nL 276.962059 164.486278 \r\nL 269.084412 164.486278 \r\nL 269.084412 158.090983 \r\n\" style=\"fill:#31183b;\"/>\r\n    <path clip-path=\"url(#pb54b6ebb95)\" d=\"M 276.962059 158.090983 \r\nL 284.839706 158.090983 \r\nL 284.839706 164.486278 \r\nL 276.962059 164.486278 \r\nL 276.962059 158.090983 \r\n\" style=\"fill:#251433;\"/>\r\n    <path clip-path=\"url(#pb54b6ebb95)\" d=\"M 284.839706 158.090983 \r\nL 292.717353 158.090983 \r\nL 292.717353 164.486278 \r\nL 284.839706 164.486278 \r\nL 284.839706 158.090983 \r\n\" style=\"fill:#631f53;\"/>\r\n    <path clip-path=\"url(#pb54b6ebb95)\" d=\"M 292.717353 158.090983 \r\nL 300.595 158.090983 \r\nL 300.595 164.486278 \r\nL 292.717353 164.486278 \r\nL 292.717353 158.090983 \r\n\" style=\"fill:#681f55;\"/>\r\n    <path clip-path=\"url(#pb54b6ebb95)\" d=\"M 300.595 158.090983 \r\nL 308.472647 158.090983 \r\nL 308.472647 164.486278 \r\nL 300.595 164.486278 \r\nL 300.595 158.090983 \r\n\" style=\"fill:#541e4e;\"/>\r\n    <path clip-path=\"url(#pb54b6ebb95)\" d=\"M 308.472647 158.090983 \r\nL 316.350294 158.090983 \r\nL 316.350294 164.486278 \r\nL 308.472647 164.486278 \r\nL 308.472647 158.090983 \r\n\" style=\"fill:#401b44;\"/>\r\n    <path clip-path=\"url(#pb54b6ebb95)\" d=\"M 316.350294 158.090983 \r\nL 324.227941 158.090983 \r\nL 324.227941 164.486278 \r\nL 316.350294 164.486278 \r\nL 316.350294 158.090983 \r\n\" style=\"fill:#711f57;\"/>\r\n    <path clip-path=\"url(#pb54b6ebb95)\" d=\"M 324.227941 158.090983 \r\nL 332.105588 158.090983 \r\nL 332.105588 164.486278 \r\nL 324.227941 164.486278 \r\nL 324.227941 158.090983 \r\n\" style=\"fill:#7a1f59;\"/>\r\n    <path clip-path=\"url(#pb54b6ebb95)\" d=\"M 332.105588 158.090983 \r\nL 339.983235 158.090983 \r\nL 339.983235 164.486278 \r\nL 332.105588 164.486278 \r\nL 332.105588 158.090983 \r\n\" style=\"fill:#7b1f59;\"/>\r\n    <path clip-path=\"url(#pb54b6ebb95)\" d=\"M 339.983235 158.090983 \r\nL 347.860882 158.090983 \r\nL 347.860882 164.486278 \r\nL 339.983235 164.486278 \r\nL 339.983235 158.090983 \r\n\" style=\"fill:#781f59;\"/>\r\n    <path clip-path=\"url(#pb54b6ebb95)\" d=\"M 347.860882 158.090983 \r\nL 355.738529 158.090983 \r\nL 355.738529 164.486278 \r\nL 347.860882 164.486278 \r\nL 347.860882 158.090983 \r\n\" style=\"fill:#faebdd;\"/>\r\n    <path clip-path=\"url(#pb54b6ebb95)\" d=\"M 355.738529 158.090983 \r\nL 363.616176 158.090983 \r\nL 363.616176 164.486278 \r\nL 355.738529 164.486278 \r\nL 355.738529 158.090983 \r\n\" style=\"fill:#641f54;\"/>\r\n    <path clip-path=\"url(#pb54b6ebb95)\" d=\"M 363.616176 158.090983 \r\nL 371.493824 158.090983 \r\nL 371.493824 164.486278 \r\nL 363.616176 164.486278 \r\nL 363.616176 158.090983 \r\n\" style=\"fill:#6e1f57;\"/>\r\n    <path clip-path=\"url(#pb54b6ebb95)\" d=\"M 371.493824 158.090983 \r\nL 379.371471 158.090983 \r\nL 379.371471 164.486278 \r\nL 371.493824 164.486278 \r\nL 371.493824 158.090983 \r\n\" style=\"fill:#6b1f56;\"/>\r\n    <path clip-path=\"url(#pb54b6ebb95)\" d=\"M 379.371471 158.090983 \r\nL 387.249118 158.090983 \r\nL 387.249118 164.486278 \r\nL 379.371471 164.486278 \r\nL 379.371471 158.090983 \r\n\" style=\"fill:#761f58;\"/>\r\n    <path clip-path=\"url(#pb54b6ebb95)\" d=\"M 387.249118 158.090983 \r\nL 395.126765 158.090983 \r\nL 395.126765 164.486278 \r\nL 387.249118 164.486278 \r\nL 387.249118 158.090983 \r\n\" style=\"fill:#701f57;\"/>\r\n    <path clip-path=\"url(#pb54b6ebb95)\" d=\"M 395.126765 158.090983 \r\nL 403.004412 158.090983 \r\nL 403.004412 164.486278 \r\nL 395.126765 164.486278 \r\nL 395.126765 158.090983 \r\n\" style=\"fill:#561e4f;\"/>\r\n    <path clip-path=\"url(#pb54b6ebb95)\" d=\"M 403.004412 158.090983 \r\nL 410.882059 158.090983 \r\nL 410.882059 164.486278 \r\nL 403.004412 164.486278 \r\nL 403.004412 158.090983 \r\n\" style=\"fill:#681f55;\"/>\r\n    <path clip-path=\"url(#pb54b6ebb95)\" d=\"M 410.882059 158.090983 \r\nL 418.759706 158.090983 \r\nL 418.759706 164.486278 \r\nL 410.882059 164.486278 \r\nL 410.882059 158.090983 \r\n\" style=\"fill:#811e5a;\"/>\r\n    <path clip-path=\"url(#pb54b6ebb95)\" d=\"M 418.759706 158.090983 \r\nL 426.637353 158.090983 \r\nL 426.637353 164.486278 \r\nL 418.759706 164.486278 \r\nL 418.759706 158.090983 \r\n\" style=\"fill:#451c47;\"/>\r\n    <path clip-path=\"url(#pb54b6ebb95)\" d=\"M 426.637353 158.090983 \r\nL 434.515 158.090983 \r\nL 434.515 164.486278 \r\nL 426.637353 164.486278 \r\nL 426.637353 158.090983 \r\n\" style=\"fill:#f05e42;\"/>\r\n    <path clip-path=\"url(#pb54b6ebb95)\" d=\"M 166.675 164.486278 \r\nL 174.552647 164.486278 \r\nL 174.552647 170.881572 \r\nL 166.675 170.881572 \r\nL 166.675 164.486278 \r\n\" style=\"fill:#a8185a;\"/>\r\n    <path clip-path=\"url(#pb54b6ebb95)\" d=\"M 174.552647 164.486278 \r\nL 182.430294 164.486278 \r\nL 182.430294 170.881572 \r\nL 174.552647 170.881572 \r\nL 174.552647 164.486278 \r\n\" style=\"fill:#381a40;\"/>\r\n    <path clip-path=\"url(#pb54b6ebb95)\" d=\"M 182.430294 164.486278 \r\nL 190.307941 164.486278 \r\nL 190.307941 170.881572 \r\nL 182.430294 170.881572 \r\nL 182.430294 164.486278 \r\n\" style=\"fill:#751f58;\"/>\r\n    <path clip-path=\"url(#pb54b6ebb95)\" d=\"M 190.307941 164.486278 \r\nL 198.185588 164.486278 \r\nL 198.185588 170.881572 \r\nL 190.307941 170.881572 \r\nL 190.307941 164.486278 \r\n\" style=\"fill:#4e1d4b;\"/>\r\n    <path clip-path=\"url(#pb54b6ebb95)\" d=\"M 198.185588 164.486278 \r\nL 206.063235 164.486278 \r\nL 206.063235 170.881572 \r\nL 198.185588 170.881572 \r\nL 198.185588 164.486278 \r\n\" style=\"fill:#4b1d4a;\"/>\r\n    <path clip-path=\"url(#pb54b6ebb95)\" d=\"M 206.063235 164.486278 \r\nL 213.940882 164.486278 \r\nL 213.940882 170.881572 \r\nL 206.063235 170.881572 \r\nL 206.063235 164.486278 \r\n\" style=\"fill:#691f55;\"/>\r\n    <path clip-path=\"url(#pb54b6ebb95)\" d=\"M 213.940882 164.486278 \r\nL 221.818529 164.486278 \r\nL 221.818529 170.881572 \r\nL 213.940882 170.881572 \r\nL 213.940882 164.486278 \r\n\" style=\"fill:#561e4f;\"/>\r\n    <path clip-path=\"url(#pb54b6ebb95)\" d=\"M 221.818529 164.486278 \r\nL 229.696176 164.486278 \r\nL 229.696176 170.881572 \r\nL 221.818529 170.881572 \r\nL 221.818529 164.486278 \r\n\" style=\"fill:#681f55;\"/>\r\n    <path clip-path=\"url(#pb54b6ebb95)\" d=\"M 229.696176 164.486278 \r\nL 237.573824 164.486278 \r\nL 237.573824 170.881572 \r\nL 229.696176 170.881572 \r\nL 229.696176 164.486278 \r\n\" style=\"fill:#611f53;\"/>\r\n    <path clip-path=\"url(#pb54b6ebb95)\" d=\"M 237.573824 164.486278 \r\nL 245.451471 164.486278 \r\nL 245.451471 170.881572 \r\nL 237.573824 170.881572 \r\nL 237.573824 164.486278 \r\n\" style=\"fill:#591e50;\"/>\r\n    <path clip-path=\"url(#pb54b6ebb95)\" d=\"M 245.451471 164.486278 \r\nL 253.329118 164.486278 \r\nL 253.329118 170.881572 \r\nL 245.451471 170.881572 \r\nL 245.451471 164.486278 \r\n\" style=\"fill:#6b1f56;\"/>\r\n    <path clip-path=\"url(#pb54b6ebb95)\" d=\"M 253.329118 164.486278 \r\nL 261.206765 164.486278 \r\nL 261.206765 170.881572 \r\nL 253.329118 170.881572 \r\nL 253.329118 164.486278 \r\n\" style=\"fill:#681f55;\"/>\r\n    <path clip-path=\"url(#pb54b6ebb95)\" d=\"M 261.206765 164.486278 \r\nL 269.084412 164.486278 \r\nL 269.084412 170.881572 \r\nL 261.206765 170.881572 \r\nL 261.206765 164.486278 \r\n\" style=\"fill:#691f55;\"/>\r\n    <path clip-path=\"url(#pb54b6ebb95)\" d=\"M 269.084412 164.486278 \r\nL 276.962059 164.486278 \r\nL 276.962059 170.881572 \r\nL 269.084412 170.881572 \r\nL 269.084412 164.486278 \r\n\" style=\"fill:#681f55;\"/>\r\n    <path clip-path=\"url(#pb54b6ebb95)\" d=\"M 276.962059 164.486278 \r\nL 284.839706 164.486278 \r\nL 284.839706 170.881572 \r\nL 276.962059 170.881572 \r\nL 276.962059 164.486278 \r\n\" style=\"fill:#581e4f;\"/>\r\n    <path clip-path=\"url(#pb54b6ebb95)\" d=\"M 284.839706 164.486278 \r\nL 292.717353 164.486278 \r\nL 292.717353 170.881572 \r\nL 284.839706 170.881572 \r\nL 284.839706 164.486278 \r\n\" style=\"fill:#591e50;\"/>\r\n    <path clip-path=\"url(#pb54b6ebb95)\" d=\"M 292.717353 164.486278 \r\nL 300.595 164.486278 \r\nL 300.595 170.881572 \r\nL 292.717353 170.881572 \r\nL 292.717353 164.486278 \r\n\" style=\"fill:#4e1d4b;\"/>\r\n    <path clip-path=\"url(#pb54b6ebb95)\" d=\"M 300.595 164.486278 \r\nL 308.472647 164.486278 \r\nL 308.472647 170.881572 \r\nL 300.595 170.881572 \r\nL 300.595 164.486278 \r\n\" style=\"fill:#591e50;\"/>\r\n    <path clip-path=\"url(#pb54b6ebb95)\" d=\"M 308.472647 164.486278 \r\nL 316.350294 164.486278 \r\nL 316.350294 170.881572 \r\nL 308.472647 170.881572 \r\nL 308.472647 164.486278 \r\n\" style=\"fill:#501d4c;\"/>\r\n    <path clip-path=\"url(#pb54b6ebb95)\" d=\"M 316.350294 164.486278 \r\nL 324.227941 164.486278 \r\nL 324.227941 170.881572 \r\nL 316.350294 170.881572 \r\nL 316.350294 164.486278 \r\n\" style=\"fill:#491d49;\"/>\r\n    <path clip-path=\"url(#pb54b6ebb95)\" d=\"M 324.227941 164.486278 \r\nL 332.105588 164.486278 \r\nL 332.105588 170.881572 \r\nL 324.227941 170.881572 \r\nL 324.227941 164.486278 \r\n\" style=\"fill:#4b1d4a;\"/>\r\n    <path clip-path=\"url(#pb54b6ebb95)\" d=\"M 332.105588 164.486278 \r\nL 339.983235 164.486278 \r\nL 339.983235 170.881572 \r\nL 332.105588 170.881572 \r\nL 332.105588 164.486278 \r\n\" style=\"fill:#4e1d4b;\"/>\r\n    <path clip-path=\"url(#pb54b6ebb95)\" d=\"M 339.983235 164.486278 \r\nL 347.860882 164.486278 \r\nL 347.860882 170.881572 \r\nL 339.983235 170.881572 \r\nL 339.983235 164.486278 \r\n\" style=\"fill:#4c1d4b;\"/>\r\n    <path clip-path=\"url(#pb54b6ebb95)\" d=\"M 347.860882 164.486278 \r\nL 355.738529 164.486278 \r\nL 355.738529 170.881572 \r\nL 347.860882 170.881572 \r\nL 347.860882 164.486278 \r\n\" style=\"fill:#641f54;\"/>\r\n    <path clip-path=\"url(#pb54b6ebb95)\" d=\"M 355.738529 164.486278 \r\nL 363.616176 164.486278 \r\nL 363.616176 170.881572 \r\nL 355.738529 170.881572 \r\nL 355.738529 164.486278 \r\n\" style=\"fill:#faebdd;\"/>\r\n    <path clip-path=\"url(#pb54b6ebb95)\" d=\"M 363.616176 164.486278 \r\nL 371.493824 164.486278 \r\nL 371.493824 170.881572 \r\nL 363.616176 170.881572 \r\nL 363.616176 164.486278 \r\n\" style=\"fill:#f37450;\"/>\r\n    <path clip-path=\"url(#pb54b6ebb95)\" d=\"M 371.493824 164.486278 \r\nL 379.371471 164.486278 \r\nL 379.371471 170.881572 \r\nL 371.493824 170.881572 \r\nL 371.493824 164.486278 \r\n\" style=\"fill:#f47c55;\"/>\r\n    <path clip-path=\"url(#pb54b6ebb95)\" d=\"M 379.371471 164.486278 \r\nL 387.249118 164.486278 \r\nL 387.249118 170.881572 \r\nL 379.371471 170.881572 \r\nL 379.371471 164.486278 \r\n\" style=\"fill:#ed503e;\"/>\r\n    <path clip-path=\"url(#pb54b6ebb95)\" d=\"M 387.249118 164.486278 \r\nL 395.126765 164.486278 \r\nL 395.126765 170.881572 \r\nL 387.249118 170.881572 \r\nL 387.249118 164.486278 \r\n\" style=\"fill:#ef5640;\"/>\r\n    <path clip-path=\"url(#pb54b6ebb95)\" d=\"M 395.126765 164.486278 \r\nL 403.004412 164.486278 \r\nL 403.004412 170.881572 \r\nL 395.126765 170.881572 \r\nL 395.126765 164.486278 \r\n\" style=\"fill:#cf1e4d;\"/>\r\n    <path clip-path=\"url(#pb54b6ebb95)\" d=\"M 403.004412 164.486278 \r\nL 410.882059 164.486278 \r\nL 410.882059 170.881572 \r\nL 403.004412 170.881572 \r\nL 403.004412 164.486278 \r\n\" style=\"fill:#f58f66;\"/>\r\n    <path clip-path=\"url(#pb54b6ebb95)\" d=\"M 410.882059 164.486278 \r\nL 418.759706 164.486278 \r\nL 418.759706 170.881572 \r\nL 410.882059 170.881572 \r\nL 410.882059 164.486278 \r\n\" style=\"fill:#5b1e51;\"/>\r\n    <path clip-path=\"url(#pb54b6ebb95)\" d=\"M 418.759706 164.486278 \r\nL 426.637353 164.486278 \r\nL 426.637353 170.881572 \r\nL 418.759706 170.881572 \r\nL 418.759706 164.486278 \r\n\" style=\"fill:#180f29;\"/>\r\n    <path clip-path=\"url(#pb54b6ebb95)\" d=\"M 426.637353 164.486278 \r\nL 434.515 164.486278 \r\nL 434.515 170.881572 \r\nL 426.637353 170.881572 \r\nL 426.637353 164.486278 \r\n\" style=\"fill:#751f58;\"/>\r\n    <path clip-path=\"url(#pb54b6ebb95)\" d=\"M 166.675 170.881572 \r\nL 174.552647 170.881572 \r\nL 174.552647 177.276866 \r\nL 166.675 177.276866 \r\nL 166.675 170.881572 \r\n\" style=\"fill:#9f1a5b;\"/>\r\n    <path clip-path=\"url(#pb54b6ebb95)\" d=\"M 174.552647 170.881572 \r\nL 182.430294 170.881572 \r\nL 182.430294 177.276866 \r\nL 174.552647 177.276866 \r\nL 174.552647 170.881572 \r\n\" style=\"fill:#34193d;\"/>\r\n    <path clip-path=\"url(#pb54b6ebb95)\" d=\"M 182.430294 170.881572 \r\nL 190.307941 170.881572 \r\nL 190.307941 177.276866 \r\nL 182.430294 177.276866 \r\nL 182.430294 170.881572 \r\n\" style=\"fill:#6d1f56;\"/>\r\n    <path clip-path=\"url(#pb54b6ebb95)\" d=\"M 190.307941 170.881572 \r\nL 198.185588 170.881572 \r\nL 198.185588 177.276866 \r\nL 190.307941 177.276866 \r\nL 190.307941 170.881572 \r\n\" style=\"fill:#541e4e;\"/>\r\n    <path clip-path=\"url(#pb54b6ebb95)\" d=\"M 198.185588 170.881572 \r\nL 206.063235 170.881572 \r\nL 206.063235 177.276866 \r\nL 198.185588 177.276866 \r\nL 198.185588 170.881572 \r\n\" style=\"fill:#4e1d4b;\"/>\r\n    <path clip-path=\"url(#pb54b6ebb95)\" d=\"M 206.063235 170.881572 \r\nL 213.940882 170.881572 \r\nL 213.940882 177.276866 \r\nL 206.063235 177.276866 \r\nL 206.063235 170.881572 \r\n\" style=\"fill:#691f55;\"/>\r\n    <path clip-path=\"url(#pb54b6ebb95)\" d=\"M 213.940882 170.881572 \r\nL 221.818529 170.881572 \r\nL 221.818529 177.276866 \r\nL 213.940882 177.276866 \r\nL 213.940882 170.881572 \r\n\" style=\"fill:#491d49;\"/>\r\n    <path clip-path=\"url(#pb54b6ebb95)\" d=\"M 221.818529 170.881572 \r\nL 229.696176 170.881572 \r\nL 229.696176 177.276866 \r\nL 221.818529 177.276866 \r\nL 221.818529 170.881572 \r\n\" style=\"fill:#581e4f;\"/>\r\n    <path clip-path=\"url(#pb54b6ebb95)\" d=\"M 229.696176 170.881572 \r\nL 237.573824 170.881572 \r\nL 237.573824 177.276866 \r\nL 229.696176 177.276866 \r\nL 229.696176 170.881572 \r\n\" style=\"fill:#561e4f;\"/>\r\n    <path clip-path=\"url(#pb54b6ebb95)\" d=\"M 237.573824 170.881572 \r\nL 245.451471 170.881572 \r\nL 245.451471 177.276866 \r\nL 237.573824 177.276866 \r\nL 237.573824 170.881572 \r\n\" style=\"fill:#491d49;\"/>\r\n    <path clip-path=\"url(#pb54b6ebb95)\" d=\"M 245.451471 170.881572 \r\nL 253.329118 170.881572 \r\nL 253.329118 177.276866 \r\nL 245.451471 177.276866 \r\nL 245.451471 170.881572 \r\n\" style=\"fill:#601f52;\"/>\r\n    <path clip-path=\"url(#pb54b6ebb95)\" d=\"M 253.329118 170.881572 \r\nL 261.206765 170.881572 \r\nL 261.206765 177.276866 \r\nL 253.329118 177.276866 \r\nL 253.329118 170.881572 \r\n\" style=\"fill:#691f55;\"/>\r\n    <path clip-path=\"url(#pb54b6ebb95)\" d=\"M 261.206765 170.881572 \r\nL 269.084412 170.881572 \r\nL 269.084412 177.276866 \r\nL 261.206765 177.276866 \r\nL 261.206765 170.881572 \r\n\" style=\"fill:#6d1f56;\"/>\r\n    <path clip-path=\"url(#pb54b6ebb95)\" d=\"M 269.084412 170.881572 \r\nL 276.962059 170.881572 \r\nL 276.962059 177.276866 \r\nL 269.084412 177.276866 \r\nL 269.084412 170.881572 \r\n\" style=\"fill:#5c1e51;\"/>\r\n    <path clip-path=\"url(#pb54b6ebb95)\" d=\"M 276.962059 170.881572 \r\nL 284.839706 170.881572 \r\nL 284.839706 177.276866 \r\nL 276.962059 177.276866 \r\nL 276.962059 170.881572 \r\n\" style=\"fill:#4e1d4b;\"/>\r\n    <path clip-path=\"url(#pb54b6ebb95)\" d=\"M 284.839706 170.881572 \r\nL 292.717353 170.881572 \r\nL 292.717353 177.276866 \r\nL 284.839706 177.276866 \r\nL 284.839706 170.881572 \r\n\" style=\"fill:#5b1e51;\"/>\r\n    <path clip-path=\"url(#pb54b6ebb95)\" d=\"M 292.717353 170.881572 \r\nL 300.595 170.881572 \r\nL 300.595 177.276866 \r\nL 292.717353 177.276866 \r\nL 292.717353 170.881572 \r\n\" style=\"fill:#4e1d4b;\"/>\r\n    <path clip-path=\"url(#pb54b6ebb95)\" d=\"M 300.595 170.881572 \r\nL 308.472647 170.881572 \r\nL 308.472647 177.276866 \r\nL 300.595 177.276866 \r\nL 300.595 170.881572 \r\n\" style=\"fill:#541e4e;\"/>\r\n    <path clip-path=\"url(#pb54b6ebb95)\" d=\"M 308.472647 170.881572 \r\nL 316.350294 170.881572 \r\nL 316.350294 177.276866 \r\nL 308.472647 177.276866 \r\nL 308.472647 170.881572 \r\n\" style=\"fill:#581e4f;\"/>\r\n    <path clip-path=\"url(#pb54b6ebb95)\" d=\"M 316.350294 170.881572 \r\nL 324.227941 170.881572 \r\nL 324.227941 177.276866 \r\nL 316.350294 177.276866 \r\nL 316.350294 170.881572 \r\n\" style=\"fill:#481c48;\"/>\r\n    <path clip-path=\"url(#pb54b6ebb95)\" d=\"M 324.227941 170.881572 \r\nL 332.105588 170.881572 \r\nL 332.105588 177.276866 \r\nL 324.227941 177.276866 \r\nL 324.227941 170.881572 \r\n\" style=\"fill:#4b1d4a;\"/>\r\n    <path clip-path=\"url(#pb54b6ebb95)\" d=\"M 332.105588 170.881572 \r\nL 339.983235 170.881572 \r\nL 339.983235 177.276866 \r\nL 332.105588 177.276866 \r\nL 332.105588 170.881572 \r\n\" style=\"fill:#501d4c;\"/>\r\n    <path clip-path=\"url(#pb54b6ebb95)\" d=\"M 339.983235 170.881572 \r\nL 347.860882 170.881572 \r\nL 347.860882 177.276866 \r\nL 339.983235 177.276866 \r\nL 339.983235 170.881572 \r\n\" style=\"fill:#4c1d4b;\"/>\r\n    <path clip-path=\"url(#pb54b6ebb95)\" d=\"M 347.860882 170.881572 \r\nL 355.738529 170.881572 \r\nL 355.738529 177.276866 \r\nL 347.860882 177.276866 \r\nL 347.860882 170.881572 \r\n\" style=\"fill:#6e1f57;\"/>\r\n    <path clip-path=\"url(#pb54b6ebb95)\" d=\"M 355.738529 170.881572 \r\nL 363.616176 170.881572 \r\nL 363.616176 177.276866 \r\nL 355.738529 177.276866 \r\nL 355.738529 170.881572 \r\n\" style=\"fill:#f37450;\"/>\r\n    <path clip-path=\"url(#pb54b6ebb95)\" d=\"M 363.616176 170.881572 \r\nL 371.493824 170.881572 \r\nL 371.493824 177.276866 \r\nL 363.616176 177.276866 \r\nL 363.616176 170.881572 \r\n\" style=\"fill:#faebdd;\"/>\r\n    <path clip-path=\"url(#pb54b6ebb95)\" d=\"M 371.493824 170.881572 \r\nL 379.371471 170.881572 \r\nL 379.371471 177.276866 \r\nL 371.493824 177.276866 \r\nL 371.493824 170.881572 \r\n\" style=\"fill:#ef5840;\"/>\r\n    <path clip-path=\"url(#pb54b6ebb95)\" d=\"M 379.371471 170.881572 \r\nL 387.249118 170.881572 \r\nL 387.249118 177.276866 \r\nL 379.371471 177.276866 \r\nL 379.371471 170.881572 \r\n\" style=\"fill:#d92847;\"/>\r\n    <path clip-path=\"url(#pb54b6ebb95)\" d=\"M 387.249118 170.881572 \r\nL 395.126765 170.881572 \r\nL 395.126765 177.276866 \r\nL 387.249118 177.276866 \r\nL 387.249118 170.881572 \r\n\" style=\"fill:#dd2c45;\"/>\r\n    <path clip-path=\"url(#pb54b6ebb95)\" d=\"M 395.126765 170.881572 \r\nL 403.004412 170.881572 \r\nL 403.004412 177.276866 \r\nL 395.126765 177.276866 \r\nL 395.126765 170.881572 \r\n\" style=\"fill:#b21758;\"/>\r\n    <path clip-path=\"url(#pb54b6ebb95)\" d=\"M 403.004412 170.881572 \r\nL 410.882059 170.881572 \r\nL 410.882059 177.276866 \r\nL 403.004412 177.276866 \r\nL 403.004412 170.881572 \r\n\" style=\"fill:#f06043;\"/>\r\n    <path clip-path=\"url(#pb54b6ebb95)\" d=\"M 410.882059 170.881572 \r\nL 418.759706 170.881572 \r\nL 418.759706 177.276866 \r\nL 410.882059 177.276866 \r\nL 410.882059 170.881572 \r\n\" style=\"fill:#5c1e51;\"/>\r\n    <path clip-path=\"url(#pb54b6ebb95)\" d=\"M 418.759706 170.881572 \r\nL 426.637353 170.881572 \r\nL 426.637353 177.276866 \r\nL 418.759706 177.276866 \r\nL 418.759706 170.881572 \r\n\" style=\"fill:#251433;\"/>\r\n    <path clip-path=\"url(#pb54b6ebb95)\" d=\"M 426.637353 170.881572 \r\nL 434.515 170.881572 \r\nL 434.515 177.276866 \r\nL 426.637353 177.276866 \r\nL 426.637353 170.881572 \r\n\" style=\"fill:#871e5b;\"/>\r\n    <path clip-path=\"url(#pb54b6ebb95)\" d=\"M 166.675 177.276866 \r\nL 174.552647 177.276866 \r\nL 174.552647 183.67216 \r\nL 166.675 183.67216 \r\nL 166.675 177.276866 \r\n\" style=\"fill:#a4195b;\"/>\r\n    <path clip-path=\"url(#pb54b6ebb95)\" d=\"M 174.552647 177.276866 \r\nL 182.430294 177.276866 \r\nL 182.430294 183.67216 \r\nL 174.552647 183.67216 \r\nL 174.552647 177.276866 \r\n\" style=\"fill:#4b1d4a;\"/>\r\n    <path clip-path=\"url(#pb54b6ebb95)\" d=\"M 182.430294 177.276866 \r\nL 190.307941 177.276866 \r\nL 190.307941 183.67216 \r\nL 182.430294 183.67216 \r\nL 182.430294 177.276866 \r\n\" style=\"fill:#6e1f57;\"/>\r\n    <path clip-path=\"url(#pb54b6ebb95)\" d=\"M 190.307941 177.276866 \r\nL 198.185588 177.276866 \r\nL 198.185588 183.67216 \r\nL 190.307941 183.67216 \r\nL 190.307941 177.276866 \r\n\" style=\"fill:#4e1d4b;\"/>\r\n    <path clip-path=\"url(#pb54b6ebb95)\" d=\"M 198.185588 177.276866 \r\nL 206.063235 177.276866 \r\nL 206.063235 183.67216 \r\nL 198.185588 183.67216 \r\nL 198.185588 177.276866 \r\n\" style=\"fill:#461c48;\"/>\r\n    <path clip-path=\"url(#pb54b6ebb95)\" d=\"M 206.063235 177.276866 \r\nL 213.940882 177.276866 \r\nL 213.940882 183.67216 \r\nL 206.063235 183.67216 \r\nL 206.063235 177.276866 \r\n\" style=\"fill:#591e50;\"/>\r\n    <path clip-path=\"url(#pb54b6ebb95)\" d=\"M 213.940882 177.276866 \r\nL 221.818529 177.276866 \r\nL 221.818529 183.67216 \r\nL 213.940882 183.67216 \r\nL 213.940882 177.276866 \r\n\" style=\"fill:#5c1e51;\"/>\r\n    <path clip-path=\"url(#pb54b6ebb95)\" d=\"M 221.818529 177.276866 \r\nL 229.696176 177.276866 \r\nL 229.696176 183.67216 \r\nL 221.818529 183.67216 \r\nL 221.818529 177.276866 \r\n\" style=\"fill:#601f52;\"/>\r\n    <path clip-path=\"url(#pb54b6ebb95)\" d=\"M 229.696176 177.276866 \r\nL 237.573824 177.276866 \r\nL 237.573824 183.67216 \r\nL 229.696176 183.67216 \r\nL 229.696176 177.276866 \r\n\" style=\"fill:#561e4f;\"/>\r\n    <path clip-path=\"url(#pb54b6ebb95)\" d=\"M 237.573824 177.276866 \r\nL 245.451471 177.276866 \r\nL 245.451471 183.67216 \r\nL 237.573824 183.67216 \r\nL 237.573824 177.276866 \r\n\" style=\"fill:#5b1e51;\"/>\r\n    <path clip-path=\"url(#pb54b6ebb95)\" d=\"M 245.451471 177.276866 \r\nL 253.329118 177.276866 \r\nL 253.329118 183.67216 \r\nL 245.451471 183.67216 \r\nL 245.451471 177.276866 \r\n\" style=\"fill:#6b1f56;\"/>\r\n    <path clip-path=\"url(#pb54b6ebb95)\" d=\"M 253.329118 177.276866 \r\nL 261.206765 177.276866 \r\nL 261.206765 183.67216 \r\nL 253.329118 183.67216 \r\nL 253.329118 177.276866 \r\n\" style=\"fill:#731f58;\"/>\r\n    <path clip-path=\"url(#pb54b6ebb95)\" d=\"M 261.206765 177.276866 \r\nL 269.084412 177.276866 \r\nL 269.084412 183.67216 \r\nL 261.206765 183.67216 \r\nL 261.206765 177.276866 \r\n\" style=\"fill:#7d1f5a;\"/>\r\n    <path clip-path=\"url(#pb54b6ebb95)\" d=\"M 269.084412 177.276866 \r\nL 276.962059 177.276866 \r\nL 276.962059 183.67216 \r\nL 269.084412 183.67216 \r\nL 269.084412 177.276866 \r\n\" style=\"fill:#641f54;\"/>\r\n    <path clip-path=\"url(#pb54b6ebb95)\" d=\"M 276.962059 177.276866 \r\nL 284.839706 177.276866 \r\nL 284.839706 183.67216 \r\nL 276.962059 183.67216 \r\nL 276.962059 177.276866 \r\n\" style=\"fill:#681f55;\"/>\r\n    <path clip-path=\"url(#pb54b6ebb95)\" d=\"M 284.839706 177.276866 \r\nL 292.717353 177.276866 \r\nL 292.717353 183.67216 \r\nL 284.839706 183.67216 \r\nL 284.839706 177.276866 \r\n\" style=\"fill:#601f52;\"/>\r\n    <path clip-path=\"url(#pb54b6ebb95)\" d=\"M 292.717353 177.276866 \r\nL 300.595 177.276866 \r\nL 300.595 183.67216 \r\nL 292.717353 183.67216 \r\nL 292.717353 177.276866 \r\n\" style=\"fill:#5b1e51;\"/>\r\n    <path clip-path=\"url(#pb54b6ebb95)\" d=\"M 300.595 177.276866 \r\nL 308.472647 177.276866 \r\nL 308.472647 183.67216 \r\nL 300.595 183.67216 \r\nL 300.595 177.276866 \r\n\" style=\"fill:#501d4c;\"/>\r\n    <path clip-path=\"url(#pb54b6ebb95)\" d=\"M 308.472647 177.276866 \r\nL 316.350294 177.276866 \r\nL 316.350294 183.67216 \r\nL 308.472647 183.67216 \r\nL 308.472647 177.276866 \r\n\" style=\"fill:#581e4f;\"/>\r\n    <path clip-path=\"url(#pb54b6ebb95)\" d=\"M 316.350294 177.276866 \r\nL 324.227941 177.276866 \r\nL 324.227941 183.67216 \r\nL 316.350294 183.67216 \r\nL 316.350294 177.276866 \r\n\" style=\"fill:#5c1e51;\"/>\r\n    <path clip-path=\"url(#pb54b6ebb95)\" d=\"M 324.227941 177.276866 \r\nL 332.105588 177.276866 \r\nL 332.105588 183.67216 \r\nL 324.227941 183.67216 \r\nL 324.227941 177.276866 \r\n\" style=\"fill:#5e1f52;\"/>\r\n    <path clip-path=\"url(#pb54b6ebb95)\" d=\"M 332.105588 177.276866 \r\nL 339.983235 177.276866 \r\nL 339.983235 183.67216 \r\nL 332.105588 183.67216 \r\nL 332.105588 177.276866 \r\n\" style=\"fill:#601f52;\"/>\r\n    <path clip-path=\"url(#pb54b6ebb95)\" d=\"M 339.983235 177.276866 \r\nL 347.860882 177.276866 \r\nL 347.860882 183.67216 \r\nL 339.983235 183.67216 \r\nL 339.983235 177.276866 \r\n\" style=\"fill:#531e4d;\"/>\r\n    <path clip-path=\"url(#pb54b6ebb95)\" d=\"M 347.860882 177.276866 \r\nL 355.738529 177.276866 \r\nL 355.738529 183.67216 \r\nL 347.860882 183.67216 \r\nL 347.860882 177.276866 \r\n\" style=\"fill:#6b1f56;\"/>\r\n    <path clip-path=\"url(#pb54b6ebb95)\" d=\"M 355.738529 177.276866 \r\nL 363.616176 177.276866 \r\nL 363.616176 183.67216 \r\nL 355.738529 183.67216 \r\nL 355.738529 177.276866 \r\n\" style=\"fill:#f47c55;\"/>\r\n    <path clip-path=\"url(#pb54b6ebb95)\" d=\"M 363.616176 177.276866 \r\nL 371.493824 177.276866 \r\nL 371.493824 183.67216 \r\nL 363.616176 183.67216 \r\nL 363.616176 177.276866 \r\n\" style=\"fill:#ef5840;\"/>\r\n    <path clip-path=\"url(#pb54b6ebb95)\" d=\"M 371.493824 177.276866 \r\nL 379.371471 177.276866 \r\nL 379.371471 183.67216 \r\nL 371.493824 183.67216 \r\nL 371.493824 177.276866 \r\n\" style=\"fill:#faebdd;\"/>\r\n    <path clip-path=\"url(#pb54b6ebb95)\" d=\"M 379.371471 177.276866 \r\nL 387.249118 177.276866 \r\nL 387.249118 183.67216 \r\nL 379.371471 183.67216 \r\nL 379.371471 177.276866 \r\n\" style=\"fill:#d72549;\"/>\r\n    <path clip-path=\"url(#pb54b6ebb95)\" d=\"M 387.249118 177.276866 \r\nL 395.126765 177.276866 \r\nL 395.126765 183.67216 \r\nL 387.249118 183.67216 \r\nL 387.249118 177.276866 \r\n\" style=\"fill:#d5224a;\"/>\r\n    <path clip-path=\"url(#pb54b6ebb95)\" d=\"M 395.126765 177.276866 \r\nL 403.004412 177.276866 \r\nL 403.004412 183.67216 \r\nL 395.126765 183.67216 \r\nL 395.126765 177.276866 \r\n\" style=\"fill:#b51657;\"/>\r\n    <path clip-path=\"url(#pb54b6ebb95)\" d=\"M 403.004412 177.276866 \r\nL 410.882059 177.276866 \r\nL 410.882059 183.67216 \r\nL 403.004412 183.67216 \r\nL 403.004412 177.276866 \r\n\" style=\"fill:#ed503e;\"/>\r\n    <path clip-path=\"url(#pb54b6ebb95)\" d=\"M 410.882059 177.276866 \r\nL 418.759706 177.276866 \r\nL 418.759706 183.67216 \r\nL 410.882059 183.67216 \r\nL 410.882059 177.276866 \r\n\" style=\"fill:#691f55;\"/>\r\n    <path clip-path=\"url(#pb54b6ebb95)\" d=\"M 418.759706 177.276866 \r\nL 426.637353 177.276866 \r\nL 426.637353 183.67216 \r\nL 418.759706 183.67216 \r\nL 418.759706 177.276866 \r\n\" style=\"fill:#271534;\"/>\r\n    <path clip-path=\"url(#pb54b6ebb95)\" d=\"M 426.637353 177.276866 \r\nL 434.515 177.276866 \r\nL 434.515 183.67216 \r\nL 426.637353 183.67216 \r\nL 426.637353 177.276866 \r\n\" style=\"fill:#841e5a;\"/>\r\n    <path clip-path=\"url(#pb54b6ebb95)\" d=\"M 166.675 183.67216 \r\nL 174.552647 183.67216 \r\nL 174.552647 190.067454 \r\nL 166.675 190.067454 \r\nL 166.675 183.67216 \r\n\" style=\"fill:#901d5b;\"/>\r\n    <path clip-path=\"url(#pb54b6ebb95)\" d=\"M 174.552647 183.67216 \r\nL 182.430294 183.67216 \r\nL 182.430294 190.067454 \r\nL 174.552647 190.067454 \r\nL 174.552647 183.67216 \r\n\" style=\"fill:#211330;\"/>\r\n    <path clip-path=\"url(#pb54b6ebb95)\" d=\"M 182.430294 183.67216 \r\nL 190.307941 183.67216 \r\nL 190.307941 190.067454 \r\nL 182.430294 190.067454 \r\nL 182.430294 183.67216 \r\n\" style=\"fill:#661f54;\"/>\r\n    <path clip-path=\"url(#pb54b6ebb95)\" d=\"M 190.307941 183.67216 \r\nL 198.185588 183.67216 \r\nL 198.185588 190.067454 \r\nL 190.307941 190.067454 \r\nL 190.307941 183.67216 \r\n\" style=\"fill:#531e4d;\"/>\r\n    <path clip-path=\"url(#pb54b6ebb95)\" d=\"M 198.185588 183.67216 \r\nL 206.063235 183.67216 \r\nL 206.063235 190.067454 \r\nL 198.185588 190.067454 \r\nL 198.185588 183.67216 \r\n\" style=\"fill:#4b1d4a;\"/>\r\n    <path clip-path=\"url(#pb54b6ebb95)\" d=\"M 206.063235 183.67216 \r\nL 213.940882 183.67216 \r\nL 213.940882 190.067454 \r\nL 206.063235 190.067454 \r\nL 206.063235 183.67216 \r\n\" style=\"fill:#611f53;\"/>\r\n    <path clip-path=\"url(#pb54b6ebb95)\" d=\"M 213.940882 183.67216 \r\nL 221.818529 183.67216 \r\nL 221.818529 190.067454 \r\nL 213.940882 190.067454 \r\nL 213.940882 183.67216 \r\n\" style=\"fill:#531e4d;\"/>\r\n    <path clip-path=\"url(#pb54b6ebb95)\" d=\"M 221.818529 183.67216 \r\nL 229.696176 183.67216 \r\nL 229.696176 190.067454 \r\nL 221.818529 190.067454 \r\nL 221.818529 183.67216 \r\n\" style=\"fill:#591e50;\"/>\r\n    <path clip-path=\"url(#pb54b6ebb95)\" d=\"M 229.696176 183.67216 \r\nL 237.573824 183.67216 \r\nL 237.573824 190.067454 \r\nL 229.696176 190.067454 \r\nL 229.696176 183.67216 \r\n\" style=\"fill:#5c1e51;\"/>\r\n    <path clip-path=\"url(#pb54b6ebb95)\" d=\"M 237.573824 183.67216 \r\nL 245.451471 183.67216 \r\nL 245.451471 190.067454 \r\nL 237.573824 190.067454 \r\nL 237.573824 183.67216 \r\n\" style=\"fill:#531e4d;\"/>\r\n    <path clip-path=\"url(#pb54b6ebb95)\" d=\"M 245.451471 183.67216 \r\nL 253.329118 183.67216 \r\nL 253.329118 190.067454 \r\nL 245.451471 190.067454 \r\nL 245.451471 183.67216 \r\n\" style=\"fill:#5c1e51;\"/>\r\n    <path clip-path=\"url(#pb54b6ebb95)\" d=\"M 253.329118 183.67216 \r\nL 261.206765 183.67216 \r\nL 261.206765 190.067454 \r\nL 253.329118 190.067454 \r\nL 253.329118 183.67216 \r\n\" style=\"fill:#681f55;\"/>\r\n    <path clip-path=\"url(#pb54b6ebb95)\" d=\"M 261.206765 183.67216 \r\nL 269.084412 183.67216 \r\nL 269.084412 190.067454 \r\nL 261.206765 190.067454 \r\nL 261.206765 183.67216 \r\n\" style=\"fill:#631f53;\"/>\r\n    <path clip-path=\"url(#pb54b6ebb95)\" d=\"M 269.084412 183.67216 \r\nL 276.962059 183.67216 \r\nL 276.962059 190.067454 \r\nL 269.084412 190.067454 \r\nL 269.084412 183.67216 \r\n\" style=\"fill:#681f55;\"/>\r\n    <path clip-path=\"url(#pb54b6ebb95)\" d=\"M 276.962059 183.67216 \r\nL 284.839706 183.67216 \r\nL 284.839706 190.067454 \r\nL 276.962059 190.067454 \r\nL 276.962059 183.67216 \r\n\" style=\"fill:#451c47;\"/>\r\n    <path clip-path=\"url(#pb54b6ebb95)\" d=\"M 284.839706 183.67216 \r\nL 292.717353 183.67216 \r\nL 292.717353 190.067454 \r\nL 284.839706 190.067454 \r\nL 284.839706 183.67216 \r\n\" style=\"fill:#641f54;\"/>\r\n    <path clip-path=\"url(#pb54b6ebb95)\" d=\"M 292.717353 183.67216 \r\nL 300.595 183.67216 \r\nL 300.595 190.067454 \r\nL 292.717353 190.067454 \r\nL 292.717353 183.67216 \r\n\" style=\"fill:#451c47;\"/>\r\n    <path clip-path=\"url(#pb54b6ebb95)\" d=\"M 300.595 183.67216 \r\nL 308.472647 183.67216 \r\nL 308.472647 190.067454 \r\nL 300.595 190.067454 \r\nL 300.595 183.67216 \r\n\" style=\"fill:#531e4d;\"/>\r\n    <path clip-path=\"url(#pb54b6ebb95)\" d=\"M 308.472647 183.67216 \r\nL 316.350294 183.67216 \r\nL 316.350294 190.067454 \r\nL 308.472647 190.067454 \r\nL 308.472647 183.67216 \r\n\" style=\"fill:#461c48;\"/>\r\n    <path clip-path=\"url(#pb54b6ebb95)\" d=\"M 316.350294 183.67216 \r\nL 324.227941 183.67216 \r\nL 324.227941 190.067454 \r\nL 316.350294 190.067454 \r\nL 316.350294 183.67216 \r\n\" style=\"fill:#4c1d4b;\"/>\r\n    <path clip-path=\"url(#pb54b6ebb95)\" d=\"M 324.227941 183.67216 \r\nL 332.105588 183.67216 \r\nL 332.105588 190.067454 \r\nL 324.227941 190.067454 \r\nL 324.227941 183.67216 \r\n\" style=\"fill:#501d4c;\"/>\r\n    <path clip-path=\"url(#pb54b6ebb95)\" d=\"M 332.105588 183.67216 \r\nL 339.983235 183.67216 \r\nL 339.983235 190.067454 \r\nL 332.105588 190.067454 \r\nL 332.105588 183.67216 \r\n\" style=\"fill:#531e4d;\"/>\r\n    <path clip-path=\"url(#pb54b6ebb95)\" d=\"M 339.983235 183.67216 \r\nL 347.860882 183.67216 \r\nL 347.860882 190.067454 \r\nL 339.983235 190.067454 \r\nL 339.983235 183.67216 \r\n\" style=\"fill:#541e4e;\"/>\r\n    <path clip-path=\"url(#pb54b6ebb95)\" d=\"M 347.860882 183.67216 \r\nL 355.738529 183.67216 \r\nL 355.738529 190.067454 \r\nL 347.860882 190.067454 \r\nL 347.860882 183.67216 \r\n\" style=\"fill:#761f58;\"/>\r\n    <path clip-path=\"url(#pb54b6ebb95)\" d=\"M 355.738529 183.67216 \r\nL 363.616176 183.67216 \r\nL 363.616176 190.067454 \r\nL 355.738529 190.067454 \r\nL 355.738529 183.67216 \r\n\" style=\"fill:#ed503e;\"/>\r\n    <path clip-path=\"url(#pb54b6ebb95)\" d=\"M 363.616176 183.67216 \r\nL 371.493824 183.67216 \r\nL 371.493824 190.067454 \r\nL 363.616176 190.067454 \r\nL 363.616176 183.67216 \r\n\" style=\"fill:#d92847;\"/>\r\n    <path clip-path=\"url(#pb54b6ebb95)\" d=\"M 371.493824 183.67216 \r\nL 379.371471 183.67216 \r\nL 379.371471 190.067454 \r\nL 371.493824 190.067454 \r\nL 371.493824 183.67216 \r\n\" style=\"fill:#d72549;\"/>\r\n    <path clip-path=\"url(#pb54b6ebb95)\" d=\"M 379.371471 183.67216 \r\nL 387.249118 183.67216 \r\nL 387.249118 190.067454 \r\nL 379.371471 190.067454 \r\nL 379.371471 183.67216 \r\n\" style=\"fill:#faebdd;\"/>\r\n    <path clip-path=\"url(#pb54b6ebb95)\" d=\"M 387.249118 183.67216 \r\nL 395.126765 183.67216 \r\nL 395.126765 190.067454 \r\nL 387.249118 190.067454 \r\nL 387.249118 183.67216 \r\n\" style=\"fill:#f58f66;\"/>\r\n    <path clip-path=\"url(#pb54b6ebb95)\" d=\"M 395.126765 183.67216 \r\nL 403.004412 183.67216 \r\nL 403.004412 190.067454 \r\nL 395.126765 190.067454 \r\nL 395.126765 183.67216 \r\n\" style=\"fill:#a8185a;\"/>\r\n    <path clip-path=\"url(#pb54b6ebb95)\" d=\"M 403.004412 183.67216 \r\nL 410.882059 183.67216 \r\nL 410.882059 190.067454 \r\nL 403.004412 190.067454 \r\nL 403.004412 183.67216 \r\n\" style=\"fill:#d82748;\"/>\r\n    <path clip-path=\"url(#pb54b6ebb95)\" d=\"M 410.882059 183.67216 \r\nL 418.759706 183.67216 \r\nL 418.759706 190.067454 \r\nL 410.882059 190.067454 \r\nL 410.882059 183.67216 \r\n\" style=\"fill:#5b1e51;\"/>\r\n    <path clip-path=\"url(#pb54b6ebb95)\" d=\"M 418.759706 183.67216 \r\nL 426.637353 183.67216 \r\nL 426.637353 190.067454 \r\nL 418.759706 190.067454 \r\nL 418.759706 183.67216 \r\n\" style=\"fill:#1d112c;\"/>\r\n    <path clip-path=\"url(#pb54b6ebb95)\" d=\"M 426.637353 183.67216 \r\nL 434.515 183.67216 \r\nL 434.515 190.067454 \r\nL 426.637353 190.067454 \r\nL 426.637353 183.67216 \r\n\" style=\"fill:#811e5a;\"/>\r\n    <path clip-path=\"url(#pb54b6ebb95)\" d=\"M 166.675 190.067454 \r\nL 174.552647 190.067454 \r\nL 174.552647 196.462748 \r\nL 166.675 196.462748 \r\nL 166.675 190.067454 \r\n\" style=\"fill:#8e1d5b;\"/>\r\n    <path clip-path=\"url(#pb54b6ebb95)\" d=\"M 174.552647 190.067454 \r\nL 182.430294 190.067454 \r\nL 182.430294 196.462748 \r\nL 174.552647 196.462748 \r\nL 174.552647 190.067454 \r\n\" style=\"fill:#30173a;\"/>\r\n    <path clip-path=\"url(#pb54b6ebb95)\" d=\"M 182.430294 190.067454 \r\nL 190.307941 190.067454 \r\nL 190.307941 196.462748 \r\nL 182.430294 196.462748 \r\nL 182.430294 190.067454 \r\n\" style=\"fill:#681f55;\"/>\r\n    <path clip-path=\"url(#pb54b6ebb95)\" d=\"M 190.307941 190.067454 \r\nL 198.185588 190.067454 \r\nL 198.185588 196.462748 \r\nL 190.307941 196.462748 \r\nL 190.307941 190.067454 \r\n\" style=\"fill:#511e4d;\"/>\r\n    <path clip-path=\"url(#pb54b6ebb95)\" d=\"M 198.185588 190.067454 \r\nL 206.063235 190.067454 \r\nL 206.063235 196.462748 \r\nL 198.185588 196.462748 \r\nL 198.185588 190.067454 \r\n\" style=\"fill:#461c48;\"/>\r\n    <path clip-path=\"url(#pb54b6ebb95)\" d=\"M 206.063235 190.067454 \r\nL 213.940882 190.067454 \r\nL 213.940882 196.462748 \r\nL 206.063235 196.462748 \r\nL 206.063235 190.067454 \r\n\" style=\"fill:#661f54;\"/>\r\n    <path clip-path=\"url(#pb54b6ebb95)\" d=\"M 213.940882 190.067454 \r\nL 221.818529 190.067454 \r\nL 221.818529 196.462748 \r\nL 213.940882 196.462748 \r\nL 213.940882 190.067454 \r\n\" style=\"fill:#541e4e;\"/>\r\n    <path clip-path=\"url(#pb54b6ebb95)\" d=\"M 221.818529 190.067454 \r\nL 229.696176 190.067454 \r\nL 229.696176 196.462748 \r\nL 221.818529 196.462748 \r\nL 221.818529 190.067454 \r\n\" style=\"fill:#541e4e;\"/>\r\n    <path clip-path=\"url(#pb54b6ebb95)\" d=\"M 229.696176 190.067454 \r\nL 237.573824 190.067454 \r\nL 237.573824 196.462748 \r\nL 229.696176 196.462748 \r\nL 229.696176 190.067454 \r\n\" style=\"fill:#591e50;\"/>\r\n    <path clip-path=\"url(#pb54b6ebb95)\" d=\"M 237.573824 190.067454 \r\nL 245.451471 190.067454 \r\nL 245.451471 196.462748 \r\nL 237.573824 196.462748 \r\nL 237.573824 190.067454 \r\n\" style=\"fill:#541e4e;\"/>\r\n    <path clip-path=\"url(#pb54b6ebb95)\" d=\"M 245.451471 190.067454 \r\nL 253.329118 190.067454 \r\nL 253.329118 196.462748 \r\nL 245.451471 196.462748 \r\nL 245.451471 190.067454 \r\n\" style=\"fill:#5e1f52;\"/>\r\n    <path clip-path=\"url(#pb54b6ebb95)\" d=\"M 253.329118 190.067454 \r\nL 261.206765 190.067454 \r\nL 261.206765 196.462748 \r\nL 253.329118 196.462748 \r\nL 253.329118 190.067454 \r\n\" style=\"fill:#601f52;\"/>\r\n    <path clip-path=\"url(#pb54b6ebb95)\" d=\"M 261.206765 190.067454 \r\nL 269.084412 190.067454 \r\nL 269.084412 196.462748 \r\nL 261.206765 196.462748 \r\nL 261.206765 190.067454 \r\n\" style=\"fill:#5e1f52;\"/>\r\n    <path clip-path=\"url(#pb54b6ebb95)\" d=\"M 269.084412 190.067454 \r\nL 276.962059 190.067454 \r\nL 276.962059 196.462748 \r\nL 269.084412 196.462748 \r\nL 269.084412 190.067454 \r\n\" style=\"fill:#611f53;\"/>\r\n    <path clip-path=\"url(#pb54b6ebb95)\" d=\"M 276.962059 190.067454 \r\nL 284.839706 190.067454 \r\nL 284.839706 196.462748 \r\nL 276.962059 196.462748 \r\nL 276.962059 190.067454 \r\n\" style=\"fill:#481c48;\"/>\r\n    <path clip-path=\"url(#pb54b6ebb95)\" d=\"M 284.839706 190.067454 \r\nL 292.717353 190.067454 \r\nL 292.717353 196.462748 \r\nL 284.839706 196.462748 \r\nL 284.839706 190.067454 \r\n\" style=\"fill:#5c1e51;\"/>\r\n    <path clip-path=\"url(#pb54b6ebb95)\" d=\"M 292.717353 190.067454 \r\nL 300.595 190.067454 \r\nL 300.595 196.462748 \r\nL 292.717353 196.462748 \r\nL 292.717353 190.067454 \r\n\" style=\"fill:#421b45;\"/>\r\n    <path clip-path=\"url(#pb54b6ebb95)\" d=\"M 300.595 190.067454 \r\nL 308.472647 190.067454 \r\nL 308.472647 196.462748 \r\nL 300.595 196.462748 \r\nL 300.595 190.067454 \r\n\" style=\"fill:#5b1e51;\"/>\r\n    <path clip-path=\"url(#pb54b6ebb95)\" d=\"M 308.472647 190.067454 \r\nL 316.350294 190.067454 \r\nL 316.350294 196.462748 \r\nL 308.472647 196.462748 \r\nL 308.472647 190.067454 \r\n\" style=\"fill:#4e1d4b;\"/>\r\n    <path clip-path=\"url(#pb54b6ebb95)\" d=\"M 316.350294 190.067454 \r\nL 324.227941 190.067454 \r\nL 324.227941 196.462748 \r\nL 316.350294 196.462748 \r\nL 316.350294 190.067454 \r\n\" style=\"fill:#501d4c;\"/>\r\n    <path clip-path=\"url(#pb54b6ebb95)\" d=\"M 324.227941 190.067454 \r\nL 332.105588 190.067454 \r\nL 332.105588 196.462748 \r\nL 324.227941 196.462748 \r\nL 324.227941 190.067454 \r\n\" style=\"fill:#4e1d4b;\"/>\r\n    <path clip-path=\"url(#pb54b6ebb95)\" d=\"M 332.105588 190.067454 \r\nL 339.983235 190.067454 \r\nL 339.983235 196.462748 \r\nL 332.105588 196.462748 \r\nL 332.105588 190.067454 \r\n\" style=\"fill:#501d4c;\"/>\r\n    <path clip-path=\"url(#pb54b6ebb95)\" d=\"M 339.983235 190.067454 \r\nL 347.860882 190.067454 \r\nL 347.860882 196.462748 \r\nL 339.983235 196.462748 \r\nL 339.983235 190.067454 \r\n\" style=\"fill:#531e4d;\"/>\r\n    <path clip-path=\"url(#pb54b6ebb95)\" d=\"M 347.860882 190.067454 \r\nL 355.738529 190.067454 \r\nL 355.738529 196.462748 \r\nL 347.860882 196.462748 \r\nL 347.860882 190.067454 \r\n\" style=\"fill:#701f57;\"/>\r\n    <path clip-path=\"url(#pb54b6ebb95)\" d=\"M 355.738529 190.067454 \r\nL 363.616176 190.067454 \r\nL 363.616176 196.462748 \r\nL 355.738529 196.462748 \r\nL 355.738529 190.067454 \r\n\" style=\"fill:#ef5640;\"/>\r\n    <path clip-path=\"url(#pb54b6ebb95)\" d=\"M 363.616176 190.067454 \r\nL 371.493824 190.067454 \r\nL 371.493824 196.462748 \r\nL 363.616176 196.462748 \r\nL 363.616176 190.067454 \r\n\" style=\"fill:#dd2c45;\"/>\r\n    <path clip-path=\"url(#pb54b6ebb95)\" d=\"M 371.493824 190.067454 \r\nL 379.371471 190.067454 \r\nL 379.371471 196.462748 \r\nL 371.493824 196.462748 \r\nL 371.493824 190.067454 \r\n\" style=\"fill:#d5224a;\"/>\r\n    <path clip-path=\"url(#pb54b6ebb95)\" d=\"M 379.371471 190.067454 \r\nL 387.249118 190.067454 \r\nL 387.249118 196.462748 \r\nL 379.371471 196.462748 \r\nL 379.371471 190.067454 \r\n\" style=\"fill:#f58f66;\"/>\r\n    <path clip-path=\"url(#pb54b6ebb95)\" d=\"M 387.249118 190.067454 \r\nL 395.126765 190.067454 \r\nL 395.126765 196.462748 \r\nL 387.249118 196.462748 \r\nL 387.249118 190.067454 \r\n\" style=\"fill:#faebdd;\"/>\r\n    <path clip-path=\"url(#pb54b6ebb95)\" d=\"M 395.126765 190.067454 \r\nL 403.004412 190.067454 \r\nL 403.004412 196.462748 \r\nL 395.126765 196.462748 \r\nL 395.126765 190.067454 \r\n\" style=\"fill:#b71657;\"/>\r\n    <path clip-path=\"url(#pb54b6ebb95)\" d=\"M 403.004412 190.067454 \r\nL 410.882059 190.067454 \r\nL 410.882059 196.462748 \r\nL 403.004412 196.462748 \r\nL 403.004412 190.067454 \r\n\" style=\"fill:#e53940;\"/>\r\n    <path clip-path=\"url(#pb54b6ebb95)\" d=\"M 410.882059 190.067454 \r\nL 418.759706 190.067454 \r\nL 418.759706 196.462748 \r\nL 410.882059 196.462748 \r\nL 410.882059 190.067454 \r\n\" style=\"fill:#5e1f52;\"/>\r\n    <path clip-path=\"url(#pb54b6ebb95)\" d=\"M 418.759706 190.067454 \r\nL 426.637353 190.067454 \r\nL 426.637353 196.462748 \r\nL 418.759706 196.462748 \r\nL 418.759706 190.067454 \r\n\" style=\"fill:#20122e;\"/>\r\n    <path clip-path=\"url(#pb54b6ebb95)\" d=\"M 426.637353 190.067454 \r\nL 434.515 190.067454 \r\nL 434.515 196.462748 \r\nL 426.637353 196.462748 \r\nL 426.637353 190.067454 \r\n\" style=\"fill:#7b1f59;\"/>\r\n    <path clip-path=\"url(#pb54b6ebb95)\" d=\"M 166.675 196.462748 \r\nL 174.552647 196.462748 \r\nL 174.552647 202.858042 \r\nL 166.675 202.858042 \r\nL 166.675 196.462748 \r\n\" style=\"fill:#821e5a;\"/>\r\n    <path clip-path=\"url(#pb54b6ebb95)\" d=\"M 174.552647 196.462748 \r\nL 182.430294 196.462748 \r\nL 182.430294 202.858042 \r\nL 174.552647 202.858042 \r\nL 174.552647 196.462748 \r\n\" style=\"fill:#611f53;\"/>\r\n    <path clip-path=\"url(#pb54b6ebb95)\" d=\"M 182.430294 196.462748 \r\nL 190.307941 196.462748 \r\nL 190.307941 202.858042 \r\nL 182.430294 202.858042 \r\nL 182.430294 196.462748 \r\n\" style=\"fill:#611f53;\"/>\r\n    <path clip-path=\"url(#pb54b6ebb95)\" d=\"M 190.307941 196.462748 \r\nL 198.185588 196.462748 \r\nL 198.185588 202.858042 \r\nL 190.307941 202.858042 \r\nL 190.307941 196.462748 \r\n\" style=\"fill:#781f59;\"/>\r\n    <path clip-path=\"url(#pb54b6ebb95)\" d=\"M 198.185588 196.462748 \r\nL 206.063235 196.462748 \r\nL 206.063235 202.858042 \r\nL 198.185588 202.858042 \r\nL 198.185588 196.462748 \r\n\" style=\"fill:#211330;\"/>\r\n    <path clip-path=\"url(#pb54b6ebb95)\" d=\"M 206.063235 196.462748 \r\nL 213.940882 196.462748 \r\nL 213.940882 202.858042 \r\nL 206.063235 202.858042 \r\nL 206.063235 196.462748 \r\n\" style=\"fill:#5b1e51;\"/>\r\n    <path clip-path=\"url(#pb54b6ebb95)\" d=\"M 213.940882 196.462748 \r\nL 221.818529 196.462748 \r\nL 221.818529 202.858042 \r\nL 213.940882 202.858042 \r\nL 213.940882 196.462748 \r\n\" style=\"fill:#4e1d4b;\"/>\r\n    <path clip-path=\"url(#pb54b6ebb95)\" d=\"M 221.818529 196.462748 \r\nL 229.696176 196.462748 \r\nL 229.696176 202.858042 \r\nL 221.818529 202.858042 \r\nL 221.818529 196.462748 \r\n\" style=\"fill:#561e4f;\"/>\r\n    <path clip-path=\"url(#pb54b6ebb95)\" d=\"M 229.696176 196.462748 \r\nL 237.573824 196.462748 \r\nL 237.573824 202.858042 \r\nL 229.696176 202.858042 \r\nL 229.696176 196.462748 \r\n\" style=\"fill:#501d4c;\"/>\r\n    <path clip-path=\"url(#pb54b6ebb95)\" d=\"M 237.573824 196.462748 \r\nL 245.451471 196.462748 \r\nL 245.451471 202.858042 \r\nL 237.573824 202.858042 \r\nL 237.573824 196.462748 \r\n\" style=\"fill:#511e4d;\"/>\r\n    <path clip-path=\"url(#pb54b6ebb95)\" d=\"M 245.451471 196.462748 \r\nL 253.329118 196.462748 \r\nL 253.329118 202.858042 \r\nL 245.451471 202.858042 \r\nL 245.451471 196.462748 \r\n\" style=\"fill:#711f57;\"/>\r\n    <path clip-path=\"url(#pb54b6ebb95)\" d=\"M 253.329118 196.462748 \r\nL 261.206765 196.462748 \r\nL 261.206765 202.858042 \r\nL 253.329118 202.858042 \r\nL 253.329118 196.462748 \r\n\" style=\"fill:#761f58;\"/>\r\n    <path clip-path=\"url(#pb54b6ebb95)\" d=\"M 261.206765 196.462748 \r\nL 269.084412 196.462748 \r\nL 269.084412 202.858042 \r\nL 261.206765 202.858042 \r\nL 261.206765 196.462748 \r\n\" style=\"fill:#751f58;\"/>\r\n    <path clip-path=\"url(#pb54b6ebb95)\" d=\"M 269.084412 196.462748 \r\nL 276.962059 196.462748 \r\nL 276.962059 202.858042 \r\nL 269.084412 202.858042 \r\nL 269.084412 196.462748 \r\n\" style=\"fill:#661f54;\"/>\r\n    <path clip-path=\"url(#pb54b6ebb95)\" d=\"M 276.962059 196.462748 \r\nL 284.839706 196.462748 \r\nL 284.839706 202.858042 \r\nL 276.962059 202.858042 \r\nL 276.962059 196.462748 \r\n\" style=\"fill:#5b1e51;\"/>\r\n    <path clip-path=\"url(#pb54b6ebb95)\" d=\"M 284.839706 196.462748 \r\nL 292.717353 196.462748 \r\nL 292.717353 202.858042 \r\nL 284.839706 202.858042 \r\nL 284.839706 196.462748 \r\n\" style=\"fill:#511e4d;\"/>\r\n    <path clip-path=\"url(#pb54b6ebb95)\" d=\"M 292.717353 196.462748 \r\nL 300.595 196.462748 \r\nL 300.595 202.858042 \r\nL 292.717353 202.858042 \r\nL 292.717353 196.462748 \r\n\" style=\"fill:#561e4f;\"/>\r\n    <path clip-path=\"url(#pb54b6ebb95)\" d=\"M 300.595 196.462748 \r\nL 308.472647 196.462748 \r\nL 308.472647 202.858042 \r\nL 300.595 202.858042 \r\nL 300.595 196.462748 \r\n\" style=\"fill:#5e1f52;\"/>\r\n    <path clip-path=\"url(#pb54b6ebb95)\" d=\"M 308.472647 196.462748 \r\nL 316.350294 196.462748 \r\nL 316.350294 202.858042 \r\nL 308.472647 202.858042 \r\nL 308.472647 196.462748 \r\n\" style=\"fill:#531e4d;\"/>\r\n    <path clip-path=\"url(#pb54b6ebb95)\" d=\"M 316.350294 196.462748 \r\nL 324.227941 196.462748 \r\nL 324.227941 202.858042 \r\nL 316.350294 202.858042 \r\nL 316.350294 196.462748 \r\n\" style=\"fill:#4c1d4b;\"/>\r\n    <path clip-path=\"url(#pb54b6ebb95)\" d=\"M 324.227941 196.462748 \r\nL 332.105588 196.462748 \r\nL 332.105588 202.858042 \r\nL 324.227941 202.858042 \r\nL 324.227941 196.462748 \r\n\" style=\"fill:#491d49;\"/>\r\n    <path clip-path=\"url(#pb54b6ebb95)\" d=\"M 332.105588 196.462748 \r\nL 339.983235 196.462748 \r\nL 339.983235 202.858042 \r\nL 332.105588 202.858042 \r\nL 332.105588 196.462748 \r\n\" style=\"fill:#491d49;\"/>\r\n    <path clip-path=\"url(#pb54b6ebb95)\" d=\"M 339.983235 196.462748 \r\nL 347.860882 196.462748 \r\nL 347.860882 202.858042 \r\nL 339.983235 202.858042 \r\nL 339.983235 196.462748 \r\n\" style=\"fill:#4e1d4b;\"/>\r\n    <path clip-path=\"url(#pb54b6ebb95)\" d=\"M 347.860882 196.462748 \r\nL 355.738529 196.462748 \r\nL 355.738529 202.858042 \r\nL 347.860882 202.858042 \r\nL 347.860882 196.462748 \r\n\" style=\"fill:#561e4f;\"/>\r\n    <path clip-path=\"url(#pb54b6ebb95)\" d=\"M 355.738529 196.462748 \r\nL 363.616176 196.462748 \r\nL 363.616176 202.858042 \r\nL 355.738529 202.858042 \r\nL 355.738529 196.462748 \r\n\" style=\"fill:#cf1e4d;\"/>\r\n    <path clip-path=\"url(#pb54b6ebb95)\" d=\"M 363.616176 196.462748 \r\nL 371.493824 196.462748 \r\nL 371.493824 202.858042 \r\nL 363.616176 202.858042 \r\nL 363.616176 196.462748 \r\n\" style=\"fill:#b21758;\"/>\r\n    <path clip-path=\"url(#pb54b6ebb95)\" d=\"M 371.493824 196.462748 \r\nL 379.371471 196.462748 \r\nL 379.371471 202.858042 \r\nL 371.493824 202.858042 \r\nL 371.493824 196.462748 \r\n\" style=\"fill:#b51657;\"/>\r\n    <path clip-path=\"url(#pb54b6ebb95)\" d=\"M 379.371471 196.462748 \r\nL 387.249118 196.462748 \r\nL 387.249118 202.858042 \r\nL 379.371471 202.858042 \r\nL 379.371471 196.462748 \r\n\" style=\"fill:#a8185a;\"/>\r\n    <path clip-path=\"url(#pb54b6ebb95)\" d=\"M 387.249118 196.462748 \r\nL 395.126765 196.462748 \r\nL 395.126765 202.858042 \r\nL 387.249118 202.858042 \r\nL 387.249118 196.462748 \r\n\" style=\"fill:#b71657;\"/>\r\n    <path clip-path=\"url(#pb54b6ebb95)\" d=\"M 395.126765 196.462748 \r\nL 403.004412 196.462748 \r\nL 403.004412 202.858042 \r\nL 395.126765 202.858042 \r\nL 395.126765 196.462748 \r\n\" style=\"fill:#faebdd;\"/>\r\n    <path clip-path=\"url(#pb54b6ebb95)\" d=\"M 403.004412 196.462748 \r\nL 410.882059 196.462748 \r\nL 410.882059 202.858042 \r\nL 403.004412 202.858042 \r\nL 403.004412 196.462748 \r\n\" style=\"fill:#cf1e4d;\"/>\r\n    <path clip-path=\"url(#pb54b6ebb95)\" d=\"M 410.882059 196.462748 \r\nL 418.759706 196.462748 \r\nL 418.759706 202.858042 \r\nL 410.882059 202.858042 \r\nL 410.882059 196.462748 \r\n\" style=\"fill:#591e50;\"/>\r\n    <path clip-path=\"url(#pb54b6ebb95)\" d=\"M 418.759706 196.462748 \r\nL 426.637353 196.462748 \r\nL 426.637353 202.858042 \r\nL 418.759706 202.858042 \r\nL 418.759706 196.462748 \r\n\" style=\"fill:#30173a;\"/>\r\n    <path clip-path=\"url(#pb54b6ebb95)\" d=\"M 426.637353 196.462748 \r\nL 434.515 196.462748 \r\nL 434.515 202.858042 \r\nL 426.637353 202.858042 \r\nL 426.637353 196.462748 \r\n\" style=\"fill:#6d1f56;\"/>\r\n    <path clip-path=\"url(#pb54b6ebb95)\" d=\"M 166.675 202.858042 \r\nL 174.552647 202.858042 \r\nL 174.552647 209.253336 \r\nL 166.675 209.253336 \r\nL 166.675 202.858042 \r\n\" style=\"fill:#a3195b;\"/>\r\n    <path clip-path=\"url(#pb54b6ebb95)\" d=\"M 174.552647 202.858042 \r\nL 182.430294 202.858042 \r\nL 182.430294 209.253336 \r\nL 174.552647 209.253336 \r\nL 174.552647 202.858042 \r\n\" style=\"fill:#37193f;\"/>\r\n    <path clip-path=\"url(#pb54b6ebb95)\" d=\"M 182.430294 202.858042 \r\nL 190.307941 202.858042 \r\nL 190.307941 209.253336 \r\nL 182.430294 209.253336 \r\nL 182.430294 202.858042 \r\n\" style=\"fill:#631f53;\"/>\r\n    <path clip-path=\"url(#pb54b6ebb95)\" d=\"M 190.307941 202.858042 \r\nL 198.185588 202.858042 \r\nL 198.185588 209.253336 \r\nL 190.307941 209.253336 \r\nL 190.307941 202.858042 \r\n\" style=\"fill:#531e4d;\"/>\r\n    <path clip-path=\"url(#pb54b6ebb95)\" d=\"M 198.185588 202.858042 \r\nL 206.063235 202.858042 \r\nL 206.063235 209.253336 \r\nL 198.185588 209.253336 \r\nL 198.185588 202.858042 \r\n\" style=\"fill:#4b1d4a;\"/>\r\n    <path clip-path=\"url(#pb54b6ebb95)\" d=\"M 206.063235 202.858042 \r\nL 213.940882 202.858042 \r\nL 213.940882 209.253336 \r\nL 206.063235 209.253336 \r\nL 206.063235 202.858042 \r\n\" style=\"fill:#691f55;\"/>\r\n    <path clip-path=\"url(#pb54b6ebb95)\" d=\"M 213.940882 202.858042 \r\nL 221.818529 202.858042 \r\nL 221.818529 209.253336 \r\nL 213.940882 209.253336 \r\nL 213.940882 202.858042 \r\n\" style=\"fill:#461c48;\"/>\r\n    <path clip-path=\"url(#pb54b6ebb95)\" d=\"M 221.818529 202.858042 \r\nL 229.696176 202.858042 \r\nL 229.696176 209.253336 \r\nL 221.818529 209.253336 \r\nL 221.818529 202.858042 \r\n\" style=\"fill:#5e1f52;\"/>\r\n    <path clip-path=\"url(#pb54b6ebb95)\" d=\"M 229.696176 202.858042 \r\nL 237.573824 202.858042 \r\nL 237.573824 209.253336 \r\nL 229.696176 209.253336 \r\nL 229.696176 202.858042 \r\n\" style=\"fill:#591e50;\"/>\r\n    <path clip-path=\"url(#pb54b6ebb95)\" d=\"M 237.573824 202.858042 \r\nL 245.451471 202.858042 \r\nL 245.451471 209.253336 \r\nL 237.573824 209.253336 \r\nL 237.573824 202.858042 \r\n\" style=\"fill:#501d4c;\"/>\r\n    <path clip-path=\"url(#pb54b6ebb95)\" d=\"M 245.451471 202.858042 \r\nL 253.329118 202.858042 \r\nL 253.329118 209.253336 \r\nL 245.451471 209.253336 \r\nL 245.451471 202.858042 \r\n\" style=\"fill:#4c1d4b;\"/>\r\n    <path clip-path=\"url(#pb54b6ebb95)\" d=\"M 253.329118 202.858042 \r\nL 261.206765 202.858042 \r\nL 261.206765 209.253336 \r\nL 253.329118 209.253336 \r\nL 253.329118 202.858042 \r\n\" style=\"fill:#421b45;\"/>\r\n    <path clip-path=\"url(#pb54b6ebb95)\" d=\"M 261.206765 202.858042 \r\nL 269.084412 202.858042 \r\nL 269.084412 209.253336 \r\nL 261.206765 209.253336 \r\nL 261.206765 202.858042 \r\n\" style=\"fill:#481c48;\"/>\r\n    <path clip-path=\"url(#pb54b6ebb95)\" d=\"M 269.084412 202.858042 \r\nL 276.962059 202.858042 \r\nL 276.962059 209.253336 \r\nL 269.084412 209.253336 \r\nL 269.084412 202.858042 \r\n\" style=\"fill:#641f54;\"/>\r\n    <path clip-path=\"url(#pb54b6ebb95)\" d=\"M 276.962059 202.858042 \r\nL 284.839706 202.858042 \r\nL 284.839706 209.253336 \r\nL 276.962059 209.253336 \r\nL 276.962059 202.858042 \r\n\" style=\"fill:#401b44;\"/>\r\n    <path clip-path=\"url(#pb54b6ebb95)\" d=\"M 284.839706 202.858042 \r\nL 292.717353 202.858042 \r\nL 292.717353 209.253336 \r\nL 284.839706 209.253336 \r\nL 284.839706 202.858042 \r\n\" style=\"fill:#531e4d;\"/>\r\n    <path clip-path=\"url(#pb54b6ebb95)\" d=\"M 292.717353 202.858042 \r\nL 300.595 202.858042 \r\nL 300.595 209.253336 \r\nL 292.717353 209.253336 \r\nL 292.717353 202.858042 \r\n\" style=\"fill:#491d49;\"/>\r\n    <path clip-path=\"url(#pb54b6ebb95)\" d=\"M 300.595 202.858042 \r\nL 308.472647 202.858042 \r\nL 308.472647 209.253336 \r\nL 300.595 209.253336 \r\nL 300.595 202.858042 \r\n\" style=\"fill:#561e4f;\"/>\r\n    <path clip-path=\"url(#pb54b6ebb95)\" d=\"M 308.472647 202.858042 \r\nL 316.350294 202.858042 \r\nL 316.350294 209.253336 \r\nL 308.472647 209.253336 \r\nL 308.472647 202.858042 \r\n\" style=\"fill:#511e4d;\"/>\r\n    <path clip-path=\"url(#pb54b6ebb95)\" d=\"M 316.350294 202.858042 \r\nL 324.227941 202.858042 \r\nL 324.227941 209.253336 \r\nL 316.350294 209.253336 \r\nL 316.350294 202.858042 \r\n\" style=\"fill:#3d1a42;\"/>\r\n    <path clip-path=\"url(#pb54b6ebb95)\" d=\"M 324.227941 202.858042 \r\nL 332.105588 202.858042 \r\nL 332.105588 209.253336 \r\nL 324.227941 209.253336 \r\nL 324.227941 202.858042 \r\n\" style=\"fill:#401b44;\"/>\r\n    <path clip-path=\"url(#pb54b6ebb95)\" d=\"M 332.105588 202.858042 \r\nL 339.983235 202.858042 \r\nL 339.983235 209.253336 \r\nL 332.105588 209.253336 \r\nL 332.105588 202.858042 \r\n\" style=\"fill:#421b45;\"/>\r\n    <path clip-path=\"url(#pb54b6ebb95)\" d=\"M 339.983235 202.858042 \r\nL 347.860882 202.858042 \r\nL 347.860882 209.253336 \r\nL 339.983235 209.253336 \r\nL 339.983235 202.858042 \r\n\" style=\"fill:#451c47;\"/>\r\n    <path clip-path=\"url(#pb54b6ebb95)\" d=\"M 347.860882 202.858042 \r\nL 355.738529 202.858042 \r\nL 355.738529 209.253336 \r\nL 347.860882 209.253336 \r\nL 347.860882 202.858042 \r\n\" style=\"fill:#681f55;\"/>\r\n    <path clip-path=\"url(#pb54b6ebb95)\" d=\"M 355.738529 202.858042 \r\nL 363.616176 202.858042 \r\nL 363.616176 209.253336 \r\nL 355.738529 209.253336 \r\nL 355.738529 202.858042 \r\n\" style=\"fill:#f58f66;\"/>\r\n    <path clip-path=\"url(#pb54b6ebb95)\" d=\"M 363.616176 202.858042 \r\nL 371.493824 202.858042 \r\nL 371.493824 209.253336 \r\nL 363.616176 209.253336 \r\nL 363.616176 202.858042 \r\n\" style=\"fill:#f06043;\"/>\r\n    <path clip-path=\"url(#pb54b6ebb95)\" d=\"M 371.493824 202.858042 \r\nL 379.371471 202.858042 \r\nL 379.371471 209.253336 \r\nL 371.493824 209.253336 \r\nL 371.493824 202.858042 \r\n\" style=\"fill:#ed503e;\"/>\r\n    <path clip-path=\"url(#pb54b6ebb95)\" d=\"M 379.371471 202.858042 \r\nL 387.249118 202.858042 \r\nL 387.249118 209.253336 \r\nL 379.371471 209.253336 \r\nL 379.371471 202.858042 \r\n\" style=\"fill:#d82748;\"/>\r\n    <path clip-path=\"url(#pb54b6ebb95)\" d=\"M 387.249118 202.858042 \r\nL 395.126765 202.858042 \r\nL 395.126765 209.253336 \r\nL 387.249118 209.253336 \r\nL 387.249118 202.858042 \r\n\" style=\"fill:#e53940;\"/>\r\n    <path clip-path=\"url(#pb54b6ebb95)\" d=\"M 395.126765 202.858042 \r\nL 403.004412 202.858042 \r\nL 403.004412 209.253336 \r\nL 395.126765 209.253336 \r\nL 395.126765 202.858042 \r\n\" style=\"fill:#cf1e4d;\"/>\r\n    <path clip-path=\"url(#pb54b6ebb95)\" d=\"M 403.004412 202.858042 \r\nL 410.882059 202.858042 \r\nL 410.882059 209.253336 \r\nL 403.004412 209.253336 \r\nL 403.004412 202.858042 \r\n\" style=\"fill:#faebdd;\"/>\r\n    <path clip-path=\"url(#pb54b6ebb95)\" d=\"M 410.882059 202.858042 \r\nL 418.759706 202.858042 \r\nL 418.759706 209.253336 \r\nL 410.882059 209.253336 \r\nL 410.882059 202.858042 \r\n\" style=\"fill:#631f53;\"/>\r\n    <path clip-path=\"url(#pb54b6ebb95)\" d=\"M 418.759706 202.858042 \r\nL 426.637353 202.858042 \r\nL 426.637353 209.253336 \r\nL 418.759706 209.253336 \r\nL 418.759706 202.858042 \r\n\" style=\"fill:#1e122d;\"/>\r\n    <path clip-path=\"url(#pb54b6ebb95)\" d=\"M 426.637353 202.858042 \r\nL 434.515 202.858042 \r\nL 434.515 209.253336 \r\nL 426.637353 209.253336 \r\nL 426.637353 202.858042 \r\n\" style=\"fill:#821e5a;\"/>\r\n    <path clip-path=\"url(#pb54b6ebb95)\" d=\"M 166.675 209.253336 \r\nL 174.552647 209.253336 \r\nL 174.552647 215.648631 \r\nL 166.675 215.648631 \r\nL 166.675 209.253336 \r\n\" style=\"fill:#731f58;\"/>\r\n    <path clip-path=\"url(#pb54b6ebb95)\" d=\"M 174.552647 209.253336 \r\nL 182.430294 209.253336 \r\nL 182.430294 215.648631 \r\nL 174.552647 215.648631 \r\nL 174.552647 209.253336 \r\n\" style=\"fill:#4b1d4a;\"/>\r\n    <path clip-path=\"url(#pb54b6ebb95)\" d=\"M 182.430294 209.253336 \r\nL 190.307941 209.253336 \r\nL 190.307941 215.648631 \r\nL 182.430294 215.648631 \r\nL 182.430294 209.253336 \r\n\" style=\"fill:#591e50;\"/>\r\n    <path clip-path=\"url(#pb54b6ebb95)\" d=\"M 190.307941 209.253336 \r\nL 198.185588 209.253336 \r\nL 198.185588 215.648631 \r\nL 190.307941 215.648631 \r\nL 190.307941 209.253336 \r\n\" style=\"fill:#531e4d;\"/>\r\n    <path clip-path=\"url(#pb54b6ebb95)\" d=\"M 198.185588 209.253336 \r\nL 206.063235 209.253336 \r\nL 206.063235 215.648631 \r\nL 198.185588 215.648631 \r\nL 198.185588 209.253336 \r\n\" style=\"fill:#561e4f;\"/>\r\n    <path clip-path=\"url(#pb54b6ebb95)\" d=\"M 206.063235 209.253336 \r\nL 213.940882 209.253336 \r\nL 213.940882 215.648631 \r\nL 206.063235 215.648631 \r\nL 206.063235 209.253336 \r\n\" style=\"fill:#611f53;\"/>\r\n    <path clip-path=\"url(#pb54b6ebb95)\" d=\"M 213.940882 209.253336 \r\nL 221.818529 209.253336 \r\nL 221.818529 215.648631 \r\nL 213.940882 215.648631 \r\nL 213.940882 209.253336 \r\n\" style=\"fill:#611f53;\"/>\r\n    <path clip-path=\"url(#pb54b6ebb95)\" d=\"M 221.818529 209.253336 \r\nL 229.696176 209.253336 \r\nL 229.696176 215.648631 \r\nL 221.818529 215.648631 \r\nL 221.818529 209.253336 \r\n\" style=\"fill:#491d49;\"/>\r\n    <path clip-path=\"url(#pb54b6ebb95)\" d=\"M 229.696176 209.253336 \r\nL 237.573824 209.253336 \r\nL 237.573824 215.648631 \r\nL 229.696176 215.648631 \r\nL 229.696176 209.253336 \r\n\" style=\"fill:#431c46;\"/>\r\n    <path clip-path=\"url(#pb54b6ebb95)\" d=\"M 237.573824 209.253336 \r\nL 245.451471 209.253336 \r\nL 245.451471 215.648631 \r\nL 237.573824 215.648631 \r\nL 237.573824 209.253336 \r\n\" style=\"fill:#611f53;\"/>\r\n    <path clip-path=\"url(#pb54b6ebb95)\" d=\"M 245.451471 209.253336 \r\nL 253.329118 209.253336 \r\nL 253.329118 215.648631 \r\nL 245.451471 215.648631 \r\nL 245.451471 209.253336 \r\n\" style=\"fill:#501d4c;\"/>\r\n    <path clip-path=\"url(#pb54b6ebb95)\" d=\"M 253.329118 209.253336 \r\nL 261.206765 209.253336 \r\nL 261.206765 215.648631 \r\nL 253.329118 215.648631 \r\nL 253.329118 209.253336 \r\n\" style=\"fill:#4c1d4b;\"/>\r\n    <path clip-path=\"url(#pb54b6ebb95)\" d=\"M 261.206765 209.253336 \r\nL 269.084412 209.253336 \r\nL 269.084412 215.648631 \r\nL 261.206765 215.648631 \r\nL 261.206765 209.253336 \r\n\" style=\"fill:#581e4f;\"/>\r\n    <path clip-path=\"url(#pb54b6ebb95)\" d=\"M 269.084412 209.253336 \r\nL 276.962059 209.253336 \r\nL 276.962059 215.648631 \r\nL 269.084412 215.648631 \r\nL 269.084412 209.253336 \r\n\" style=\"fill:#4c1d4b;\"/>\r\n    <path clip-path=\"url(#pb54b6ebb95)\" d=\"M 276.962059 209.253336 \r\nL 284.839706 209.253336 \r\nL 284.839706 215.648631 \r\nL 276.962059 215.648631 \r\nL 276.962059 209.253336 \r\n\" style=\"fill:#491d49;\"/>\r\n    <path clip-path=\"url(#pb54b6ebb95)\" d=\"M 284.839706 209.253336 \r\nL 292.717353 209.253336 \r\nL 292.717353 215.648631 \r\nL 284.839706 215.648631 \r\nL 284.839706 209.253336 \r\n\" style=\"fill:#5e1f52;\"/>\r\n    <path clip-path=\"url(#pb54b6ebb95)\" d=\"M 292.717353 209.253336 \r\nL 300.595 209.253336 \r\nL 300.595 215.648631 \r\nL 292.717353 215.648631 \r\nL 292.717353 209.253336 \r\n\" style=\"fill:#601f52;\"/>\r\n    <path clip-path=\"url(#pb54b6ebb95)\" d=\"M 300.595 209.253336 \r\nL 308.472647 209.253336 \r\nL 308.472647 215.648631 \r\nL 300.595 215.648631 \r\nL 300.595 209.253336 \r\n\" style=\"fill:#541e4e;\"/>\r\n    <path clip-path=\"url(#pb54b6ebb95)\" d=\"M 308.472647 209.253336 \r\nL 316.350294 209.253336 \r\nL 316.350294 215.648631 \r\nL 308.472647 215.648631 \r\nL 308.472647 209.253336 \r\n\" style=\"fill:#541e4e;\"/>\r\n    <path clip-path=\"url(#pb54b6ebb95)\" d=\"M 316.350294 209.253336 \r\nL 324.227941 209.253336 \r\nL 324.227941 215.648631 \r\nL 316.350294 215.648631 \r\nL 316.350294 209.253336 \r\n\" style=\"fill:#661f54;\"/>\r\n    <path clip-path=\"url(#pb54b6ebb95)\" d=\"M 324.227941 209.253336 \r\nL 332.105588 209.253336 \r\nL 332.105588 215.648631 \r\nL 324.227941 215.648631 \r\nL 324.227941 209.253336 \r\n\" style=\"fill:#6e1f57;\"/>\r\n    <path clip-path=\"url(#pb54b6ebb95)\" d=\"M 332.105588 209.253336 \r\nL 339.983235 209.253336 \r\nL 339.983235 215.648631 \r\nL 332.105588 215.648631 \r\nL 332.105588 209.253336 \r\n\" style=\"fill:#711f57;\"/>\r\n    <path clip-path=\"url(#pb54b6ebb95)\" d=\"M 339.983235 209.253336 \r\nL 347.860882 209.253336 \r\nL 347.860882 215.648631 \r\nL 339.983235 215.648631 \r\nL 339.983235 209.253336 \r\n\" style=\"fill:#5b1e51;\"/>\r\n    <path clip-path=\"url(#pb54b6ebb95)\" d=\"M 347.860882 209.253336 \r\nL 355.738529 209.253336 \r\nL 355.738529 215.648631 \r\nL 347.860882 215.648631 \r\nL 347.860882 209.253336 \r\n\" style=\"fill:#811e5a;\"/>\r\n    <path clip-path=\"url(#pb54b6ebb95)\" d=\"M 355.738529 209.253336 \r\nL 363.616176 209.253336 \r\nL 363.616176 215.648631 \r\nL 355.738529 215.648631 \r\nL 355.738529 209.253336 \r\n\" style=\"fill:#5b1e51;\"/>\r\n    <path clip-path=\"url(#pb54b6ebb95)\" d=\"M 363.616176 209.253336 \r\nL 371.493824 209.253336 \r\nL 371.493824 215.648631 \r\nL 363.616176 215.648631 \r\nL 363.616176 209.253336 \r\n\" style=\"fill:#5c1e51;\"/>\r\n    <path clip-path=\"url(#pb54b6ebb95)\" d=\"M 371.493824 209.253336 \r\nL 379.371471 209.253336 \r\nL 379.371471 215.648631 \r\nL 371.493824 215.648631 \r\nL 371.493824 209.253336 \r\n\" style=\"fill:#691f55;\"/>\r\n    <path clip-path=\"url(#pb54b6ebb95)\" d=\"M 379.371471 209.253336 \r\nL 387.249118 209.253336 \r\nL 387.249118 215.648631 \r\nL 379.371471 215.648631 \r\nL 379.371471 209.253336 \r\n\" style=\"fill:#5b1e51;\"/>\r\n    <path clip-path=\"url(#pb54b6ebb95)\" d=\"M 387.249118 209.253336 \r\nL 395.126765 209.253336 \r\nL 395.126765 215.648631 \r\nL 387.249118 215.648631 \r\nL 387.249118 209.253336 \r\n\" style=\"fill:#5e1f52;\"/>\r\n    <path clip-path=\"url(#pb54b6ebb95)\" d=\"M 395.126765 209.253336 \r\nL 403.004412 209.253336 \r\nL 403.004412 215.648631 \r\nL 395.126765 215.648631 \r\nL 395.126765 209.253336 \r\n\" style=\"fill:#591e50;\"/>\r\n    <path clip-path=\"url(#pb54b6ebb95)\" d=\"M 403.004412 209.253336 \r\nL 410.882059 209.253336 \r\nL 410.882059 215.648631 \r\nL 403.004412 215.648631 \r\nL 403.004412 209.253336 \r\n\" style=\"fill:#631f53;\"/>\r\n    <path clip-path=\"url(#pb54b6ebb95)\" d=\"M 410.882059 209.253336 \r\nL 418.759706 209.253336 \r\nL 418.759706 215.648631 \r\nL 410.882059 215.648631 \r\nL 410.882059 209.253336 \r\n\" style=\"fill:#faebdd;\"/>\r\n    <path clip-path=\"url(#pb54b6ebb95)\" d=\"M 418.759706 209.253336 \r\nL 426.637353 209.253336 \r\nL 426.637353 215.648631 \r\nL 418.759706 215.648631 \r\nL 418.759706 209.253336 \r\n\" style=\"fill:#5b1e51;\"/>\r\n    <path clip-path=\"url(#pb54b6ebb95)\" d=\"M 426.637353 209.253336 \r\nL 434.515 209.253336 \r\nL 434.515 215.648631 \r\nL 426.637353 215.648631 \r\nL 426.637353 209.253336 \r\n\" style=\"fill:#b21758;\"/>\r\n    <path clip-path=\"url(#pb54b6ebb95)\" d=\"M 166.675 215.648631 \r\nL 174.552647 215.648631 \r\nL 174.552647 222.043925 \r\nL 166.675 222.043925 \r\nL 166.675 215.648631 \r\n\" style=\"fill:#3d1a42;\"/>\r\n    <path clip-path=\"url(#pb54b6ebb95)\" d=\"M 174.552647 215.648631 \r\nL 182.430294 215.648631 \r\nL 182.430294 222.043925 \r\nL 174.552647 222.043925 \r\nL 174.552647 215.648631 \r\n\" style=\"fill:#a3195b;\"/>\r\n    <path clip-path=\"url(#pb54b6ebb95)\" d=\"M 182.430294 215.648631 \r\nL 190.307941 215.648631 \r\nL 190.307941 222.043925 \r\nL 182.430294 222.043925 \r\nL 182.430294 215.648631 \r\n\" style=\"fill:#6d1f56;\"/>\r\n    <path clip-path=\"url(#pb54b6ebb95)\" d=\"M 190.307941 215.648631 \r\nL 198.185588 215.648631 \r\nL 198.185588 222.043925 \r\nL 190.307941 222.043925 \r\nL 190.307941 215.648631 \r\n\" style=\"fill:#611f53;\"/>\r\n    <path clip-path=\"url(#pb54b6ebb95)\" d=\"M 198.185588 215.648631 \r\nL 206.063235 215.648631 \r\nL 206.063235 222.043925 \r\nL 198.185588 222.043925 \r\nL 198.185588 215.648631 \r\n\" style=\"fill:#751f58;\"/>\r\n    <path clip-path=\"url(#pb54b6ebb95)\" d=\"M 206.063235 215.648631 \r\nL 213.940882 215.648631 \r\nL 213.940882 222.043925 \r\nL 206.063235 222.043925 \r\nL 206.063235 215.648631 \r\n\" style=\"fill:#3a1a41;\"/>\r\n    <path clip-path=\"url(#pb54b6ebb95)\" d=\"M 213.940882 215.648631 \r\nL 221.818529 215.648631 \r\nL 221.818529 222.043925 \r\nL 213.940882 222.043925 \r\nL 213.940882 215.648631 \r\n\" style=\"fill:#501d4c;\"/>\r\n    <path clip-path=\"url(#pb54b6ebb95)\" d=\"M 221.818529 215.648631 \r\nL 229.696176 215.648631 \r\nL 229.696176 222.043925 \r\nL 221.818529 222.043925 \r\nL 221.818529 215.648631 \r\n\" style=\"fill:#591e50;\"/>\r\n    <path clip-path=\"url(#pb54b6ebb95)\" d=\"M 229.696176 215.648631 \r\nL 237.573824 215.648631 \r\nL 237.573824 222.043925 \r\nL 229.696176 222.043925 \r\nL 229.696176 215.648631 \r\n\" style=\"fill:#4b1d4a;\"/>\r\n    <path clip-path=\"url(#pb54b6ebb95)\" d=\"M 237.573824 215.648631 \r\nL 245.451471 215.648631 \r\nL 245.451471 222.043925 \r\nL 237.573824 222.043925 \r\nL 237.573824 215.648631 \r\n\" style=\"fill:#5c1e51;\"/>\r\n    <path clip-path=\"url(#pb54b6ebb95)\" d=\"M 245.451471 215.648631 \r\nL 253.329118 215.648631 \r\nL 253.329118 222.043925 \r\nL 245.451471 222.043925 \r\nL 245.451471 215.648631 \r\n\" style=\"fill:#481c48;\"/>\r\n    <path clip-path=\"url(#pb54b6ebb95)\" d=\"M 253.329118 215.648631 \r\nL 261.206765 215.648631 \r\nL 261.206765 222.043925 \r\nL 253.329118 222.043925 \r\nL 253.329118 215.648631 \r\n\" style=\"fill:#2b1637;\"/>\r\n    <path clip-path=\"url(#pb54b6ebb95)\" d=\"M 261.206765 215.648631 \r\nL 269.084412 215.648631 \r\nL 269.084412 222.043925 \r\nL 261.206765 222.043925 \r\nL 261.206765 215.648631 \r\n\" style=\"fill:#221331;\"/>\r\n    <path clip-path=\"url(#pb54b6ebb95)\" d=\"M 269.084412 215.648631 \r\nL 276.962059 215.648631 \r\nL 276.962059 222.043925 \r\nL 269.084412 222.043925 \r\nL 269.084412 215.648631 \r\n\" style=\"fill:#591e50;\"/>\r\n    <path clip-path=\"url(#pb54b6ebb95)\" d=\"M 276.962059 215.648631 \r\nL 284.839706 215.648631 \r\nL 284.839706 222.043925 \r\nL 276.962059 222.043925 \r\nL 276.962059 215.648631 \r\n\" style=\"fill:#7f1e5a;\"/>\r\n    <path clip-path=\"url(#pb54b6ebb95)\" d=\"M 284.839706 215.648631 \r\nL 292.717353 215.648631 \r\nL 292.717353 222.043925 \r\nL 284.839706 222.043925 \r\nL 284.839706 215.648631 \r\n\" style=\"fill:#421b45;\"/>\r\n    <path clip-path=\"url(#pb54b6ebb95)\" d=\"M 292.717353 215.648631 \r\nL 300.595 215.648631 \r\nL 300.595 222.043925 \r\nL 292.717353 222.043925 \r\nL 292.717353 215.648631 \r\n\" style=\"fill:#4c1d4b;\"/>\r\n    <path clip-path=\"url(#pb54b6ebb95)\" d=\"M 300.595 215.648631 \r\nL 308.472647 215.648631 \r\nL 308.472647 222.043925 \r\nL 300.595 222.043925 \r\nL 300.595 215.648631 \r\n\" style=\"fill:#591e50;\"/>\r\n    <path clip-path=\"url(#pb54b6ebb95)\" d=\"M 308.472647 215.648631 \r\nL 316.350294 215.648631 \r\nL 316.350294 222.043925 \r\nL 308.472647 222.043925 \r\nL 308.472647 215.648631 \r\n\" style=\"fill:#631f53;\"/>\r\n    <path clip-path=\"url(#pb54b6ebb95)\" d=\"M 316.350294 215.648631 \r\nL 324.227941 215.648631 \r\nL 324.227941 222.043925 \r\nL 316.350294 222.043925 \r\nL 316.350294 215.648631 \r\n\" style=\"fill:#821e5a;\"/>\r\n    <path clip-path=\"url(#pb54b6ebb95)\" d=\"M 324.227941 215.648631 \r\nL 332.105588 215.648631 \r\nL 332.105588 222.043925 \r\nL 324.227941 222.043925 \r\nL 324.227941 215.648631 \r\n\" style=\"fill:#841e5a;\"/>\r\n    <path clip-path=\"url(#pb54b6ebb95)\" d=\"M 332.105588 215.648631 \r\nL 339.983235 215.648631 \r\nL 339.983235 222.043925 \r\nL 332.105588 222.043925 \r\nL 332.105588 215.648631 \r\n\" style=\"fill:#841e5a;\"/>\r\n    <path clip-path=\"url(#pb54b6ebb95)\" d=\"M 339.983235 215.648631 \r\nL 347.860882 215.648631 \r\nL 347.860882 222.043925 \r\nL 339.983235 222.043925 \r\nL 339.983235 215.648631 \r\n\" style=\"fill:#861e5b;\"/>\r\n    <path clip-path=\"url(#pb54b6ebb95)\" d=\"M 347.860882 215.648631 \r\nL 355.738529 215.648631 \r\nL 355.738529 222.043925 \r\nL 347.860882 222.043925 \r\nL 347.860882 215.648631 \r\n\" style=\"fill:#451c47;\"/>\r\n    <path clip-path=\"url(#pb54b6ebb95)\" d=\"M 355.738529 215.648631 \r\nL 363.616176 215.648631 \r\nL 363.616176 222.043925 \r\nL 355.738529 222.043925 \r\nL 355.738529 215.648631 \r\n\" style=\"fill:#180f29;\"/>\r\n    <path clip-path=\"url(#pb54b6ebb95)\" d=\"M 363.616176 215.648631 \r\nL 371.493824 215.648631 \r\nL 371.493824 222.043925 \r\nL 363.616176 222.043925 \r\nL 363.616176 215.648631 \r\n\" style=\"fill:#251433;\"/>\r\n    <path clip-path=\"url(#pb54b6ebb95)\" d=\"M 371.493824 215.648631 \r\nL 379.371471 215.648631 \r\nL 379.371471 222.043925 \r\nL 371.493824 222.043925 \r\nL 371.493824 215.648631 \r\n\" style=\"fill:#271534;\"/>\r\n    <path clip-path=\"url(#pb54b6ebb95)\" d=\"M 379.371471 215.648631 \r\nL 387.249118 215.648631 \r\nL 387.249118 222.043925 \r\nL 379.371471 222.043925 \r\nL 379.371471 215.648631 \r\n\" style=\"fill:#1d112c;\"/>\r\n    <path clip-path=\"url(#pb54b6ebb95)\" d=\"M 387.249118 215.648631 \r\nL 395.126765 215.648631 \r\nL 395.126765 222.043925 \r\nL 387.249118 222.043925 \r\nL 387.249118 215.648631 \r\n\" style=\"fill:#20122e;\"/>\r\n    <path clip-path=\"url(#pb54b6ebb95)\" d=\"M 395.126765 215.648631 \r\nL 403.004412 215.648631 \r\nL 403.004412 222.043925 \r\nL 395.126765 222.043925 \r\nL 395.126765 215.648631 \r\n\" style=\"fill:#30173a;\"/>\r\n    <path clip-path=\"url(#pb54b6ebb95)\" d=\"M 403.004412 215.648631 \r\nL 410.882059 215.648631 \r\nL 410.882059 222.043925 \r\nL 403.004412 222.043925 \r\nL 403.004412 215.648631 \r\n\" style=\"fill:#1e122d;\"/>\r\n    <path clip-path=\"url(#pb54b6ebb95)\" d=\"M 410.882059 215.648631 \r\nL 418.759706 215.648631 \r\nL 418.759706 222.043925 \r\nL 410.882059 222.043925 \r\nL 410.882059 215.648631 \r\n\" style=\"fill:#5b1e51;\"/>\r\n    <path clip-path=\"url(#pb54b6ebb95)\" d=\"M 418.759706 215.648631 \r\nL 426.637353 215.648631 \r\nL 426.637353 222.043925 \r\nL 418.759706 222.043925 \r\nL 418.759706 215.648631 \r\n\" style=\"fill:#faebdd;\"/>\r\n    <path clip-path=\"url(#pb54b6ebb95)\" d=\"M 426.637353 215.648631 \r\nL 434.515 215.648631 \r\nL 434.515 222.043925 \r\nL 426.637353 222.043925 \r\nL 426.637353 215.648631 \r\n\" style=\"fill:#3a1a41;\"/>\r\n    <path clip-path=\"url(#pb54b6ebb95)\" d=\"M 166.675 222.043925 \r\nL 174.552647 222.043925 \r\nL 174.552647 228.439219 \r\nL 166.675 228.439219 \r\nL 166.675 222.043925 \r\n\" style=\"fill:#b21758;\"/>\r\n    <path clip-path=\"url(#pb54b6ebb95)\" d=\"M 174.552647 222.043925 \r\nL 182.430294 222.043925 \r\nL 182.430294 228.439219 \r\nL 174.552647 228.439219 \r\nL 174.552647 222.043925 \r\n\" style=\"fill:#35193e;\"/>\r\n    <path clip-path=\"url(#pb54b6ebb95)\" d=\"M 182.430294 222.043925 \r\nL 190.307941 222.043925 \r\nL 190.307941 228.439219 \r\nL 182.430294 228.439219 \r\nL 182.430294 222.043925 \r\n\" style=\"fill:#6e1f57;\"/>\r\n    <path clip-path=\"url(#pb54b6ebb95)\" d=\"M 190.307941 222.043925 \r\nL 198.185588 222.043925 \r\nL 198.185588 228.439219 \r\nL 190.307941 228.439219 \r\nL 190.307941 222.043925 \r\n\" style=\"fill:#3f1b43;\"/>\r\n    <path clip-path=\"url(#pb54b6ebb95)\" d=\"M 198.185588 222.043925 \r\nL 206.063235 222.043925 \r\nL 206.063235 228.439219 \r\nL 198.185588 228.439219 \r\nL 198.185588 222.043925 \r\n\" style=\"fill:#5b1e51;\"/>\r\n    <path clip-path=\"url(#pb54b6ebb95)\" d=\"M 206.063235 222.043925 \r\nL 213.940882 222.043925 \r\nL 213.940882 228.439219 \r\nL 206.063235 228.439219 \r\nL 206.063235 222.043925 \r\n\" style=\"fill:#581e4f;\"/>\r\n    <path clip-path=\"url(#pb54b6ebb95)\" d=\"M 213.940882 222.043925 \r\nL 221.818529 222.043925 \r\nL 221.818529 228.439219 \r\nL 213.940882 228.439219 \r\nL 213.940882 222.043925 \r\n\" style=\"fill:#2e1739;\"/>\r\n    <path clip-path=\"url(#pb54b6ebb95)\" d=\"M 221.818529 222.043925 \r\nL 229.696176 222.043925 \r\nL 229.696176 228.439219 \r\nL 221.818529 228.439219 \r\nL 221.818529 222.043925 \r\n\" style=\"fill:#271534;\"/>\r\n    <path clip-path=\"url(#pb54b6ebb95)\" d=\"M 229.696176 222.043925 \r\nL 237.573824 222.043925 \r\nL 237.573824 228.439219 \r\nL 229.696176 228.439219 \r\nL 229.696176 222.043925 \r\n\" style=\"fill:#160e27;\"/>\r\n    <path clip-path=\"url(#pb54b6ebb95)\" d=\"M 237.573824 222.043925 \r\nL 245.451471 222.043925 \r\nL 245.451471 228.439219 \r\nL 237.573824 228.439219 \r\nL 237.573824 222.043925 \r\n\" style=\"fill:#2d1738;\"/>\r\n    <path clip-path=\"url(#pb54b6ebb95)\" d=\"M 245.451471 222.043925 \r\nL 253.329118 222.043925 \r\nL 253.329118 228.439219 \r\nL 245.451471 228.439219 \r\nL 245.451471 222.043925 \r\n\" style=\"fill:#180f29;\"/>\r\n    <path clip-path=\"url(#pb54b6ebb95)\" d=\"M 253.329118 222.043925 \r\nL 261.206765 222.043925 \r\nL 261.206765 228.439219 \r\nL 253.329118 228.439219 \r\nL 253.329118 222.043925 \r\n\" style=\"fill:#31183b;\"/>\r\n    <path clip-path=\"url(#pb54b6ebb95)\" d=\"M 261.206765 222.043925 \r\nL 269.084412 222.043925 \r\nL 269.084412 228.439219 \r\nL 261.206765 228.439219 \r\nL 261.206765 222.043925 \r\n\" style=\"fill:#501d4c;\"/>\r\n    <path clip-path=\"url(#pb54b6ebb95)\" d=\"M 269.084412 222.043925 \r\nL 276.962059 222.043925 \r\nL 276.962059 228.439219 \r\nL 269.084412 228.439219 \r\nL 269.084412 222.043925 \r\n\" style=\"fill:#30173a;\"/>\r\n    <path clip-path=\"url(#pb54b6ebb95)\" d=\"M 276.962059 222.043925 \r\nL 284.839706 222.043925 \r\nL 284.839706 228.439219 \r\nL 276.962059 228.439219 \r\nL 276.962059 222.043925 \r\n\" style=\"fill:#03051a;\"/>\r\n    <path clip-path=\"url(#pb54b6ebb95)\" d=\"M 284.839706 222.043925 \r\nL 292.717353 222.043925 \r\nL 292.717353 228.439219 \r\nL 284.839706 228.439219 \r\nL 284.839706 222.043925 \r\n\" style=\"fill:#501d4c;\"/>\r\n    <path clip-path=\"url(#pb54b6ebb95)\" d=\"M 292.717353 222.043925 \r\nL 300.595 222.043925 \r\nL 300.595 228.439219 \r\nL 292.717353 228.439219 \r\nL 292.717353 222.043925 \r\n\" style=\"fill:#5b1e51;\"/>\r\n    <path clip-path=\"url(#pb54b6ebb95)\" d=\"M 300.595 222.043925 \r\nL 308.472647 222.043925 \r\nL 308.472647 228.439219 \r\nL 300.595 228.439219 \r\nL 300.595 222.043925 \r\n\" style=\"fill:#4e1d4b;\"/>\r\n    <path clip-path=\"url(#pb54b6ebb95)\" d=\"M 308.472647 222.043925 \r\nL 316.350294 222.043925 \r\nL 316.350294 228.439219 \r\nL 308.472647 228.439219 \r\nL 308.472647 222.043925 \r\n\" style=\"fill:#501d4c;\"/>\r\n    <path clip-path=\"url(#pb54b6ebb95)\" d=\"M 316.350294 222.043925 \r\nL 324.227941 222.043925 \r\nL 324.227941 228.439219 \r\nL 316.350294 228.439219 \r\nL 316.350294 222.043925 \r\n\" style=\"fill:#6b1f56;\"/>\r\n    <path clip-path=\"url(#pb54b6ebb95)\" d=\"M 324.227941 222.043925 \r\nL 332.105588 222.043925 \r\nL 332.105588 228.439219 \r\nL 324.227941 228.439219 \r\nL 324.227941 222.043925 \r\n\" style=\"fill:#7b1f59;\"/>\r\n    <path clip-path=\"url(#pb54b6ebb95)\" d=\"M 332.105588 222.043925 \r\nL 339.983235 222.043925 \r\nL 339.983235 228.439219 \r\nL 332.105588 228.439219 \r\nL 332.105588 222.043925 \r\n\" style=\"fill:#811e5a;\"/>\r\n    <path clip-path=\"url(#pb54b6ebb95)\" d=\"M 339.983235 222.043925 \r\nL 347.860882 222.043925 \r\nL 347.860882 228.439219 \r\nL 339.983235 228.439219 \r\nL 339.983235 222.043925 \r\n\" style=\"fill:#5b1e51;\"/>\r\n    <path clip-path=\"url(#pb54b6ebb95)\" d=\"M 347.860882 222.043925 \r\nL 355.738529 222.043925 \r\nL 355.738529 228.439219 \r\nL 347.860882 228.439219 \r\nL 347.860882 222.043925 \r\n\" style=\"fill:#f05e42;\"/>\r\n    <path clip-path=\"url(#pb54b6ebb95)\" d=\"M 355.738529 222.043925 \r\nL 363.616176 222.043925 \r\nL 363.616176 228.439219 \r\nL 355.738529 228.439219 \r\nL 355.738529 222.043925 \r\n\" style=\"fill:#751f58;\"/>\r\n    <path clip-path=\"url(#pb54b6ebb95)\" d=\"M 363.616176 222.043925 \r\nL 371.493824 222.043925 \r\nL 371.493824 228.439219 \r\nL 363.616176 228.439219 \r\nL 363.616176 222.043925 \r\n\" style=\"fill:#871e5b;\"/>\r\n    <path clip-path=\"url(#pb54b6ebb95)\" d=\"M 371.493824 222.043925 \r\nL 379.371471 222.043925 \r\nL 379.371471 228.439219 \r\nL 371.493824 228.439219 \r\nL 371.493824 222.043925 \r\n\" style=\"fill:#841e5a;\"/>\r\n    <path clip-path=\"url(#pb54b6ebb95)\" d=\"M 379.371471 222.043925 \r\nL 387.249118 222.043925 \r\nL 387.249118 228.439219 \r\nL 379.371471 228.439219 \r\nL 379.371471 222.043925 \r\n\" style=\"fill:#811e5a;\"/>\r\n    <path clip-path=\"url(#pb54b6ebb95)\" d=\"M 387.249118 222.043925 \r\nL 395.126765 222.043925 \r\nL 395.126765 228.439219 \r\nL 387.249118 228.439219 \r\nL 387.249118 222.043925 \r\n\" style=\"fill:#7b1f59;\"/>\r\n    <path clip-path=\"url(#pb54b6ebb95)\" d=\"M 395.126765 222.043925 \r\nL 403.004412 222.043925 \r\nL 403.004412 228.439219 \r\nL 395.126765 228.439219 \r\nL 395.126765 222.043925 \r\n\" style=\"fill:#6d1f56;\"/>\r\n    <path clip-path=\"url(#pb54b6ebb95)\" d=\"M 403.004412 222.043925 \r\nL 410.882059 222.043925 \r\nL 410.882059 228.439219 \r\nL 403.004412 228.439219 \r\nL 403.004412 222.043925 \r\n\" style=\"fill:#821e5a;\"/>\r\n    <path clip-path=\"url(#pb54b6ebb95)\" d=\"M 410.882059 222.043925 \r\nL 418.759706 222.043925 \r\nL 418.759706 228.439219 \r\nL 410.882059 228.439219 \r\nL 410.882059 222.043925 \r\n\" style=\"fill:#b21758;\"/>\r\n    <path clip-path=\"url(#pb54b6ebb95)\" d=\"M 418.759706 222.043925 \r\nL 426.637353 222.043925 \r\nL 426.637353 228.439219 \r\nL 418.759706 228.439219 \r\nL 418.759706 222.043925 \r\n\" style=\"fill:#3a1a41;\"/>\r\n    <path clip-path=\"url(#pb54b6ebb95)\" d=\"M 426.637353 222.043925 \r\nL 434.515 222.043925 \r\nL 434.515 228.439219 \r\nL 426.637353 228.439219 \r\nL 426.637353 222.043925 \r\n\" style=\"fill:#faebdd;\"/>\r\n   </g>\r\n   <g id=\"matplotlib.axis_1\">\r\n    <g id=\"xtick_1\">\r\n     <g id=\"line2d_1\">\r\n      <defs>\r\n       <path d=\"M 0 0 \r\nL 0 3.5 \r\n\" id=\"m3c82629910\" style=\"stroke:#000000;stroke-width:0.8;\"/>\r\n      </defs>\r\n      <g>\r\n       <use style=\"stroke:#000000;stroke-width:0.8;\" x=\"170.613824\" xlink:href=\"#m3c82629910\" y=\"228.439219\"/>\r\n      </g>\r\n     </g>\r\n     <g id=\"text_1\">\r\n      <!-- host_is_superhost -->\r\n      <g transform=\"translate(173.234136 324.582969)rotate(-90)scale(0.1 -0.1)\">\r\n       <defs>\r\n        <path d=\"M 54.890625 33.015625 \r\nL 54.890625 0 \r\nL 45.90625 0 \r\nL 45.90625 32.71875 \r\nQ 45.90625 40.484375 42.875 44.328125 \r\nQ 39.84375 48.1875 33.796875 48.1875 \r\nQ 26.515625 48.1875 22.3125 43.546875 \r\nQ 18.109375 38.921875 18.109375 30.90625 \r\nL 18.109375 0 \r\nL 9.078125 0 \r\nL 9.078125 75.984375 \r\nL 18.109375 75.984375 \r\nL 18.109375 46.1875 \r\nQ 21.34375 51.125 25.703125 53.5625 \r\nQ 30.078125 56 35.796875 56 \r\nQ 45.21875 56 50.046875 50.171875 \r\nQ 54.890625 44.34375 54.890625 33.015625 \r\nz\r\n\" id=\"DejaVuSans-104\"/>\r\n        <path d=\"M 30.609375 48.390625 \r\nQ 23.390625 48.390625 19.1875 42.75 \r\nQ 14.984375 37.109375 14.984375 27.296875 \r\nQ 14.984375 17.484375 19.15625 11.84375 \r\nQ 23.34375 6.203125 30.609375 6.203125 \r\nQ 37.796875 6.203125 41.984375 11.859375 \r\nQ 46.1875 17.53125 46.1875 27.296875 \r\nQ 46.1875 37.015625 41.984375 42.703125 \r\nQ 37.796875 48.390625 30.609375 48.390625 \r\nz\r\nM 30.609375 56 \r\nQ 42.328125 56 49.015625 48.375 \r\nQ 55.71875 40.765625 55.71875 27.296875 \r\nQ 55.71875 13.875 49.015625 6.21875 \r\nQ 42.328125 -1.421875 30.609375 -1.421875 \r\nQ 18.84375 -1.421875 12.171875 6.21875 \r\nQ 5.515625 13.875 5.515625 27.296875 \r\nQ 5.515625 40.765625 12.171875 48.375 \r\nQ 18.84375 56 30.609375 56 \r\nz\r\n\" id=\"DejaVuSans-111\"/>\r\n        <path d=\"M 44.28125 53.078125 \r\nL 44.28125 44.578125 \r\nQ 40.484375 46.53125 36.375 47.5 \r\nQ 32.28125 48.484375 27.875 48.484375 \r\nQ 21.1875 48.484375 17.84375 46.4375 \r\nQ 14.5 44.390625 14.5 40.28125 \r\nQ 14.5 37.15625 16.890625 35.375 \r\nQ 19.28125 33.59375 26.515625 31.984375 \r\nL 29.59375 31.296875 \r\nQ 39.15625 29.25 43.1875 25.515625 \r\nQ 47.21875 21.78125 47.21875 15.09375 \r\nQ 47.21875 7.46875 41.1875 3.015625 \r\nQ 35.15625 -1.421875 24.609375 -1.421875 \r\nQ 20.21875 -1.421875 15.453125 -0.5625 \r\nQ 10.6875 0.296875 5.421875 2 \r\nL 5.421875 11.28125 \r\nQ 10.40625 8.6875 15.234375 7.390625 \r\nQ 20.0625 6.109375 24.8125 6.109375 \r\nQ 31.15625 6.109375 34.5625 8.28125 \r\nQ 37.984375 10.453125 37.984375 14.40625 \r\nQ 37.984375 18.0625 35.515625 20.015625 \r\nQ 33.0625 21.96875 24.703125 23.78125 \r\nL 21.578125 24.515625 \r\nQ 13.234375 26.265625 9.515625 29.90625 \r\nQ 5.8125 33.546875 5.8125 39.890625 \r\nQ 5.8125 47.609375 11.28125 51.796875 \r\nQ 16.75 56 26.8125 56 \r\nQ 31.78125 56 36.171875 55.265625 \r\nQ 40.578125 54.546875 44.28125 53.078125 \r\nz\r\n\" id=\"DejaVuSans-115\"/>\r\n        <path d=\"M 18.3125 70.21875 \r\nL 18.3125 54.6875 \r\nL 36.8125 54.6875 \r\nL 36.8125 47.703125 \r\nL 18.3125 47.703125 \r\nL 18.3125 18.015625 \r\nQ 18.3125 11.328125 20.140625 9.421875 \r\nQ 21.96875 7.515625 27.59375 7.515625 \r\nL 36.8125 7.515625 \r\nL 36.8125 0 \r\nL 27.59375 0 \r\nQ 17.1875 0 13.234375 3.875 \r\nQ 9.28125 7.765625 9.28125 18.015625 \r\nL 9.28125 47.703125 \r\nL 2.6875 47.703125 \r\nL 2.6875 54.6875 \r\nL 9.28125 54.6875 \r\nL 9.28125 70.21875 \r\nz\r\n\" id=\"DejaVuSans-116\"/>\r\n        <path d=\"M 50.984375 -16.609375 \r\nL 50.984375 -23.578125 \r\nL -0.984375 -23.578125 \r\nL -0.984375 -16.609375 \r\nz\r\n\" id=\"DejaVuSans-95\"/>\r\n        <path d=\"M 9.421875 54.6875 \r\nL 18.40625 54.6875 \r\nL 18.40625 0 \r\nL 9.421875 0 \r\nz\r\nM 9.421875 75.984375 \r\nL 18.40625 75.984375 \r\nL 18.40625 64.59375 \r\nL 9.421875 64.59375 \r\nz\r\n\" id=\"DejaVuSans-105\"/>\r\n        <path d=\"M 8.5 21.578125 \r\nL 8.5 54.6875 \r\nL 17.484375 54.6875 \r\nL 17.484375 21.921875 \r\nQ 17.484375 14.15625 20.5 10.265625 \r\nQ 23.53125 6.390625 29.59375 6.390625 \r\nQ 36.859375 6.390625 41.078125 11.03125 \r\nQ 45.3125 15.671875 45.3125 23.6875 \r\nL 45.3125 54.6875 \r\nL 54.296875 54.6875 \r\nL 54.296875 0 \r\nL 45.3125 0 \r\nL 45.3125 8.40625 \r\nQ 42.046875 3.421875 37.71875 1 \r\nQ 33.40625 -1.421875 27.6875 -1.421875 \r\nQ 18.265625 -1.421875 13.375 4.4375 \r\nQ 8.5 10.296875 8.5 21.578125 \r\nz\r\nM 31.109375 56 \r\nz\r\n\" id=\"DejaVuSans-117\"/>\r\n        <path d=\"M 18.109375 8.203125 \r\nL 18.109375 -20.796875 \r\nL 9.078125 -20.796875 \r\nL 9.078125 54.6875 \r\nL 18.109375 54.6875 \r\nL 18.109375 46.390625 \r\nQ 20.953125 51.265625 25.265625 53.625 \r\nQ 29.59375 56 35.59375 56 \r\nQ 45.5625 56 51.78125 48.09375 \r\nQ 58.015625 40.1875 58.015625 27.296875 \r\nQ 58.015625 14.40625 51.78125 6.484375 \r\nQ 45.5625 -1.421875 35.59375 -1.421875 \r\nQ 29.59375 -1.421875 25.265625 0.953125 \r\nQ 20.953125 3.328125 18.109375 8.203125 \r\nz\r\nM 48.6875 27.296875 \r\nQ 48.6875 37.203125 44.609375 42.84375 \r\nQ 40.53125 48.484375 33.40625 48.484375 \r\nQ 26.265625 48.484375 22.1875 42.84375 \r\nQ 18.109375 37.203125 18.109375 27.296875 \r\nQ 18.109375 17.390625 22.1875 11.75 \r\nQ 26.265625 6.109375 33.40625 6.109375 \r\nQ 40.53125 6.109375 44.609375 11.75 \r\nQ 48.6875 17.390625 48.6875 27.296875 \r\nz\r\n\" id=\"DejaVuSans-112\"/>\r\n        <path d=\"M 56.203125 29.59375 \r\nL 56.203125 25.203125 \r\nL 14.890625 25.203125 \r\nQ 15.484375 15.921875 20.484375 11.0625 \r\nQ 25.484375 6.203125 34.421875 6.203125 \r\nQ 39.59375 6.203125 44.453125 7.46875 \r\nQ 49.3125 8.734375 54.109375 11.28125 \r\nL 54.109375 2.78125 \r\nQ 49.265625 0.734375 44.1875 -0.34375 \r\nQ 39.109375 -1.421875 33.890625 -1.421875 \r\nQ 20.796875 -1.421875 13.15625 6.1875 \r\nQ 5.515625 13.8125 5.515625 26.8125 \r\nQ 5.515625 40.234375 12.765625 48.109375 \r\nQ 20.015625 56 32.328125 56 \r\nQ 43.359375 56 49.78125 48.890625 \r\nQ 56.203125 41.796875 56.203125 29.59375 \r\nz\r\nM 47.21875 32.234375 \r\nQ 47.125 39.59375 43.09375 43.984375 \r\nQ 39.0625 48.390625 32.421875 48.390625 \r\nQ 24.90625 48.390625 20.390625 44.140625 \r\nQ 15.875 39.890625 15.1875 32.171875 \r\nz\r\n\" id=\"DejaVuSans-101\"/>\r\n        <path d=\"M 41.109375 46.296875 \r\nQ 39.59375 47.171875 37.8125 47.578125 \r\nQ 36.03125 48 33.890625 48 \r\nQ 26.265625 48 22.1875 43.046875 \r\nQ 18.109375 38.09375 18.109375 28.8125 \r\nL 18.109375 0 \r\nL 9.078125 0 \r\nL 9.078125 54.6875 \r\nL 18.109375 54.6875 \r\nL 18.109375 46.1875 \r\nQ 20.953125 51.171875 25.484375 53.578125 \r\nQ 30.03125 56 36.53125 56 \r\nQ 37.453125 56 38.578125 55.875 \r\nQ 39.703125 55.765625 41.0625 55.515625 \r\nz\r\n\" id=\"DejaVuSans-114\"/>\r\n       </defs>\r\n       <use xlink:href=\"#DejaVuSans-104\"/>\r\n       <use x=\"63.378906\" xlink:href=\"#DejaVuSans-111\"/>\r\n       <use x=\"124.560547\" xlink:href=\"#DejaVuSans-115\"/>\r\n       <use x=\"176.660156\" xlink:href=\"#DejaVuSans-116\"/>\r\n       <use x=\"215.869141\" xlink:href=\"#DejaVuSans-95\"/>\r\n       <use x=\"265.869141\" xlink:href=\"#DejaVuSans-105\"/>\r\n       <use x=\"293.652344\" xlink:href=\"#DejaVuSans-115\"/>\r\n       <use x=\"345.751953\" xlink:href=\"#DejaVuSans-95\"/>\r\n       <use x=\"395.751953\" xlink:href=\"#DejaVuSans-115\"/>\r\n       <use x=\"447.851562\" xlink:href=\"#DejaVuSans-117\"/>\r\n       <use x=\"511.230469\" xlink:href=\"#DejaVuSans-112\"/>\r\n       <use x=\"574.707031\" xlink:href=\"#DejaVuSans-101\"/>\r\n       <use x=\"636.230469\" xlink:href=\"#DejaVuSans-114\"/>\r\n       <use x=\"675.59375\" xlink:href=\"#DejaVuSans-104\"/>\r\n       <use x=\"738.972656\" xlink:href=\"#DejaVuSans-111\"/>\r\n       <use x=\"800.154297\" xlink:href=\"#DejaVuSans-115\"/>\r\n       <use x=\"852.253906\" xlink:href=\"#DejaVuSans-116\"/>\r\n      </g>\r\n     </g>\r\n    </g>\r\n    <g id=\"xtick_2\">\r\n     <g id=\"line2d_2\">\r\n      <g>\r\n       <use style=\"stroke:#000000;stroke-width:0.8;\" x=\"186.369118\" xlink:href=\"#m3c82629910\" y=\"228.439219\"/>\r\n      </g>\r\n     </g>\r\n     <g id=\"text_2\">\r\n      <!-- host_identity_verified -->\r\n      <g transform=\"translate(188.98943 342.940781)rotate(-90)scale(0.1 -0.1)\">\r\n       <defs>\r\n        <path d=\"M 45.40625 46.390625 \r\nL 45.40625 75.984375 \r\nL 54.390625 75.984375 \r\nL 54.390625 0 \r\nL 45.40625 0 \r\nL 45.40625 8.203125 \r\nQ 42.578125 3.328125 38.25 0.953125 \r\nQ 33.9375 -1.421875 27.875 -1.421875 \r\nQ 17.96875 -1.421875 11.734375 6.484375 \r\nQ 5.515625 14.40625 5.515625 27.296875 \r\nQ 5.515625 40.1875 11.734375 48.09375 \r\nQ 17.96875 56 27.875 56 \r\nQ 33.9375 56 38.25 53.625 \r\nQ 42.578125 51.265625 45.40625 46.390625 \r\nz\r\nM 14.796875 27.296875 \r\nQ 14.796875 17.390625 18.875 11.75 \r\nQ 22.953125 6.109375 30.078125 6.109375 \r\nQ 37.203125 6.109375 41.296875 11.75 \r\nQ 45.40625 17.390625 45.40625 27.296875 \r\nQ 45.40625 37.203125 41.296875 42.84375 \r\nQ 37.203125 48.484375 30.078125 48.484375 \r\nQ 22.953125 48.484375 18.875 42.84375 \r\nQ 14.796875 37.203125 14.796875 27.296875 \r\nz\r\n\" id=\"DejaVuSans-100\"/>\r\n        <path d=\"M 54.890625 33.015625 \r\nL 54.890625 0 \r\nL 45.90625 0 \r\nL 45.90625 32.71875 \r\nQ 45.90625 40.484375 42.875 44.328125 \r\nQ 39.84375 48.1875 33.796875 48.1875 \r\nQ 26.515625 48.1875 22.3125 43.546875 \r\nQ 18.109375 38.921875 18.109375 30.90625 \r\nL 18.109375 0 \r\nL 9.078125 0 \r\nL 9.078125 54.6875 \r\nL 18.109375 54.6875 \r\nL 18.109375 46.1875 \r\nQ 21.34375 51.125 25.703125 53.5625 \r\nQ 30.078125 56 35.796875 56 \r\nQ 45.21875 56 50.046875 50.171875 \r\nQ 54.890625 44.34375 54.890625 33.015625 \r\nz\r\n\" id=\"DejaVuSans-110\"/>\r\n        <path d=\"M 32.171875 -5.078125 \r\nQ 28.375 -14.84375 24.75 -17.8125 \r\nQ 21.140625 -20.796875 15.09375 -20.796875 \r\nL 7.90625 -20.796875 \r\nL 7.90625 -13.28125 \r\nL 13.1875 -13.28125 \r\nQ 16.890625 -13.28125 18.9375 -11.515625 \r\nQ 21 -9.765625 23.484375 -3.21875 \r\nL 25.09375 0.875 \r\nL 2.984375 54.6875 \r\nL 12.5 54.6875 \r\nL 29.59375 11.921875 \r\nL 46.6875 54.6875 \r\nL 56.203125 54.6875 \r\nz\r\n\" id=\"DejaVuSans-121\"/>\r\n        <path d=\"M 2.984375 54.6875 \r\nL 12.5 54.6875 \r\nL 29.59375 8.796875 \r\nL 46.6875 54.6875 \r\nL 56.203125 54.6875 \r\nL 35.6875 0 \r\nL 23.484375 0 \r\nz\r\n\" id=\"DejaVuSans-118\"/>\r\n        <path d=\"M 37.109375 75.984375 \r\nL 37.109375 68.5 \r\nL 28.515625 68.5 \r\nQ 23.6875 68.5 21.796875 66.546875 \r\nQ 19.921875 64.59375 19.921875 59.515625 \r\nL 19.921875 54.6875 \r\nL 34.71875 54.6875 \r\nL 34.71875 47.703125 \r\nL 19.921875 47.703125 \r\nL 19.921875 0 \r\nL 10.890625 0 \r\nL 10.890625 47.703125 \r\nL 2.296875 47.703125 \r\nL 2.296875 54.6875 \r\nL 10.890625 54.6875 \r\nL 10.890625 58.5 \r\nQ 10.890625 67.625 15.140625 71.796875 \r\nQ 19.390625 75.984375 28.609375 75.984375 \r\nz\r\n\" id=\"DejaVuSans-102\"/>\r\n       </defs>\r\n       <use xlink:href=\"#DejaVuSans-104\"/>\r\n       <use x=\"63.378906\" xlink:href=\"#DejaVuSans-111\"/>\r\n       <use x=\"124.560547\" xlink:href=\"#DejaVuSans-115\"/>\r\n       <use x=\"176.660156\" xlink:href=\"#DejaVuSans-116\"/>\r\n       <use x=\"215.869141\" xlink:href=\"#DejaVuSans-95\"/>\r\n       <use x=\"265.869141\" xlink:href=\"#DejaVuSans-105\"/>\r\n       <use x=\"293.652344\" xlink:href=\"#DejaVuSans-100\"/>\r\n       <use x=\"357.128906\" xlink:href=\"#DejaVuSans-101\"/>\r\n       <use x=\"418.652344\" xlink:href=\"#DejaVuSans-110\"/>\r\n       <use x=\"482.03125\" xlink:href=\"#DejaVuSans-116\"/>\r\n       <use x=\"521.240234\" xlink:href=\"#DejaVuSans-105\"/>\r\n       <use x=\"549.023438\" xlink:href=\"#DejaVuSans-116\"/>\r\n       <use x=\"588.232422\" xlink:href=\"#DejaVuSans-121\"/>\r\n       <use x=\"647.412109\" xlink:href=\"#DejaVuSans-95\"/>\r\n       <use x=\"697.412109\" xlink:href=\"#DejaVuSans-118\"/>\r\n       <use x=\"756.591797\" xlink:href=\"#DejaVuSans-101\"/>\r\n       <use x=\"818.115234\" xlink:href=\"#DejaVuSans-114\"/>\r\n       <use x=\"859.228516\" xlink:href=\"#DejaVuSans-105\"/>\r\n       <use x=\"887.011719\" xlink:href=\"#DejaVuSans-102\"/>\r\n       <use x=\"922.216797\" xlink:href=\"#DejaVuSans-105\"/>\r\n       <use x=\"950\" xlink:href=\"#DejaVuSans-101\"/>\r\n       <use x=\"1011.523438\" xlink:href=\"#DejaVuSans-100\"/>\r\n      </g>\r\n     </g>\r\n    </g>\r\n    <g id=\"xtick_3\">\r\n     <g id=\"line2d_3\">\r\n      <g>\r\n       <use style=\"stroke:#000000;stroke-width:0.8;\" x=\"202.124412\" xlink:href=\"#m3c82629910\" y=\"228.439219\"/>\r\n      </g>\r\n     </g>\r\n     <g id=\"text_3\">\r\n      <!-- longitude -->\r\n      <g transform=\"translate(204.883787 282.559531)rotate(-90)scale(0.1 -0.1)\">\r\n       <defs>\r\n        <path d=\"M 9.421875 75.984375 \r\nL 18.40625 75.984375 \r\nL 18.40625 0 \r\nL 9.421875 0 \r\nz\r\n\" id=\"DejaVuSans-108\"/>\r\n        <path d=\"M 45.40625 27.984375 \r\nQ 45.40625 37.75 41.375 43.109375 \r\nQ 37.359375 48.484375 30.078125 48.484375 \r\nQ 22.859375 48.484375 18.828125 43.109375 \r\nQ 14.796875 37.75 14.796875 27.984375 \r\nQ 14.796875 18.265625 18.828125 12.890625 \r\nQ 22.859375 7.515625 30.078125 7.515625 \r\nQ 37.359375 7.515625 41.375 12.890625 \r\nQ 45.40625 18.265625 45.40625 27.984375 \r\nz\r\nM 54.390625 6.78125 \r\nQ 54.390625 -7.171875 48.1875 -13.984375 \r\nQ 42 -20.796875 29.203125 -20.796875 \r\nQ 24.46875 -20.796875 20.265625 -20.09375 \r\nQ 16.0625 -19.390625 12.109375 -17.921875 \r\nL 12.109375 -9.1875 \r\nQ 16.0625 -11.328125 19.921875 -12.34375 \r\nQ 23.78125 -13.375 27.78125 -13.375 \r\nQ 36.625 -13.375 41.015625 -8.765625 \r\nQ 45.40625 -4.15625 45.40625 5.171875 \r\nL 45.40625 9.625 \r\nQ 42.625 4.78125 38.28125 2.390625 \r\nQ 33.9375 0 27.875 0 \r\nQ 17.828125 0 11.671875 7.65625 \r\nQ 5.515625 15.328125 5.515625 27.984375 \r\nQ 5.515625 40.671875 11.671875 48.328125 \r\nQ 17.828125 56 27.875 56 \r\nQ 33.9375 56 38.28125 53.609375 \r\nQ 42.625 51.21875 45.40625 46.390625 \r\nL 45.40625 54.6875 \r\nL 54.390625 54.6875 \r\nz\r\n\" id=\"DejaVuSans-103\"/>\r\n       </defs>\r\n       <use xlink:href=\"#DejaVuSans-108\"/>\r\n       <use x=\"27.783203\" xlink:href=\"#DejaVuSans-111\"/>\r\n       <use x=\"88.964844\" xlink:href=\"#DejaVuSans-110\"/>\r\n       <use x=\"152.34375\" xlink:href=\"#DejaVuSans-103\"/>\r\n       <use x=\"215.820312\" xlink:href=\"#DejaVuSans-105\"/>\r\n       <use x=\"243.603516\" xlink:href=\"#DejaVuSans-116\"/>\r\n       <use x=\"282.8125\" xlink:href=\"#DejaVuSans-117\"/>\r\n       <use x=\"346.191406\" xlink:href=\"#DejaVuSans-100\"/>\r\n       <use x=\"409.667969\" xlink:href=\"#DejaVuSans-101\"/>\r\n      </g>\r\n     </g>\r\n    </g>\r\n    <g id=\"xtick_4\">\r\n     <g id=\"line2d_4\">\r\n      <g>\r\n       <use style=\"stroke:#000000;stroke-width:0.8;\" x=\"217.879706\" xlink:href=\"#m3c82629910\" y=\"228.439219\"/>\r\n      </g>\r\n     </g>\r\n     <g id=\"text_4\">\r\n      <!-- accommodates -->\r\n      <g transform=\"translate(220.639081 312.042344)rotate(-90)scale(0.1 -0.1)\">\r\n       <defs>\r\n        <path d=\"M 34.28125 27.484375 \r\nQ 23.390625 27.484375 19.1875 25 \r\nQ 14.984375 22.515625 14.984375 16.5 \r\nQ 14.984375 11.71875 18.140625 8.90625 \r\nQ 21.296875 6.109375 26.703125 6.109375 \r\nQ 34.1875 6.109375 38.703125 11.40625 \r\nQ 43.21875 16.703125 43.21875 25.484375 \r\nL 43.21875 27.484375 \r\nz\r\nM 52.203125 31.203125 \r\nL 52.203125 0 \r\nL 43.21875 0 \r\nL 43.21875 8.296875 \r\nQ 40.140625 3.328125 35.546875 0.953125 \r\nQ 30.953125 -1.421875 24.3125 -1.421875 \r\nQ 15.921875 -1.421875 10.953125 3.296875 \r\nQ 6 8.015625 6 15.921875 \r\nQ 6 25.140625 12.171875 29.828125 \r\nQ 18.359375 34.515625 30.609375 34.515625 \r\nL 43.21875 34.515625 \r\nL 43.21875 35.40625 \r\nQ 43.21875 41.609375 39.140625 45 \r\nQ 35.0625 48.390625 27.6875 48.390625 \r\nQ 23 48.390625 18.546875 47.265625 \r\nQ 14.109375 46.140625 10.015625 43.890625 \r\nL 10.015625 52.203125 \r\nQ 14.9375 54.109375 19.578125 55.046875 \r\nQ 24.21875 56 28.609375 56 \r\nQ 40.484375 56 46.34375 49.84375 \r\nQ 52.203125 43.703125 52.203125 31.203125 \r\nz\r\n\" id=\"DejaVuSans-97\"/>\r\n        <path d=\"M 48.78125 52.59375 \r\nL 48.78125 44.1875 \r\nQ 44.96875 46.296875 41.140625 47.34375 \r\nQ 37.3125 48.390625 33.40625 48.390625 \r\nQ 24.65625 48.390625 19.8125 42.84375 \r\nQ 14.984375 37.3125 14.984375 27.296875 \r\nQ 14.984375 17.28125 19.8125 11.734375 \r\nQ 24.65625 6.203125 33.40625 6.203125 \r\nQ 37.3125 6.203125 41.140625 7.25 \r\nQ 44.96875 8.296875 48.78125 10.40625 \r\nL 48.78125 2.09375 \r\nQ 45.015625 0.34375 40.984375 -0.53125 \r\nQ 36.96875 -1.421875 32.421875 -1.421875 \r\nQ 20.0625 -1.421875 12.78125 6.34375 \r\nQ 5.515625 14.109375 5.515625 27.296875 \r\nQ 5.515625 40.671875 12.859375 48.328125 \r\nQ 20.21875 56 33.015625 56 \r\nQ 37.15625 56 41.109375 55.140625 \r\nQ 45.0625 54.296875 48.78125 52.59375 \r\nz\r\n\" id=\"DejaVuSans-99\"/>\r\n        <path d=\"M 52 44.1875 \r\nQ 55.375 50.25 60.0625 53.125 \r\nQ 64.75 56 71.09375 56 \r\nQ 79.640625 56 84.28125 50.015625 \r\nQ 88.921875 44.046875 88.921875 33.015625 \r\nL 88.921875 0 \r\nL 79.890625 0 \r\nL 79.890625 32.71875 \r\nQ 79.890625 40.578125 77.09375 44.375 \r\nQ 74.3125 48.1875 68.609375 48.1875 \r\nQ 61.625 48.1875 57.5625 43.546875 \r\nQ 53.515625 38.921875 53.515625 30.90625 \r\nL 53.515625 0 \r\nL 44.484375 0 \r\nL 44.484375 32.71875 \r\nQ 44.484375 40.625 41.703125 44.40625 \r\nQ 38.921875 48.1875 33.109375 48.1875 \r\nQ 26.21875 48.1875 22.15625 43.53125 \r\nQ 18.109375 38.875 18.109375 30.90625 \r\nL 18.109375 0 \r\nL 9.078125 0 \r\nL 9.078125 54.6875 \r\nL 18.109375 54.6875 \r\nL 18.109375 46.1875 \r\nQ 21.1875 51.21875 25.484375 53.609375 \r\nQ 29.78125 56 35.6875 56 \r\nQ 41.65625 56 45.828125 52.96875 \r\nQ 50 49.953125 52 44.1875 \r\nz\r\n\" id=\"DejaVuSans-109\"/>\r\n       </defs>\r\n       <use xlink:href=\"#DejaVuSans-97\"/>\r\n       <use x=\"61.279297\" xlink:href=\"#DejaVuSans-99\"/>\r\n       <use x=\"116.259766\" xlink:href=\"#DejaVuSans-99\"/>\r\n       <use x=\"171.240234\" xlink:href=\"#DejaVuSans-111\"/>\r\n       <use x=\"232.421875\" xlink:href=\"#DejaVuSans-109\"/>\r\n       <use x=\"329.833984\" xlink:href=\"#DejaVuSans-109\"/>\r\n       <use x=\"427.246094\" xlink:href=\"#DejaVuSans-111\"/>\r\n       <use x=\"488.427734\" xlink:href=\"#DejaVuSans-100\"/>\r\n       <use x=\"551.904297\" xlink:href=\"#DejaVuSans-97\"/>\r\n       <use x=\"613.183594\" xlink:href=\"#DejaVuSans-116\"/>\r\n       <use x=\"652.392578\" xlink:href=\"#DejaVuSans-101\"/>\r\n       <use x=\"713.916016\" xlink:href=\"#DejaVuSans-115\"/>\r\n      </g>\r\n     </g>\r\n    </g>\r\n    <g id=\"xtick_5\">\r\n     <g id=\"line2d_5\">\r\n      <g>\r\n       <use style=\"stroke:#000000;stroke-width:0.8;\" x=\"233.635\" xlink:href=\"#m3c82629910\" y=\"228.439219\"/>\r\n      </g>\r\n     </g>\r\n     <g id=\"text_5\">\r\n      <!-- bedrooms -->\r\n      <g transform=\"translate(236.394375 285.362656)rotate(-90)scale(0.1 -0.1)\">\r\n       <defs>\r\n        <path d=\"M 48.6875 27.296875 \r\nQ 48.6875 37.203125 44.609375 42.84375 \r\nQ 40.53125 48.484375 33.40625 48.484375 \r\nQ 26.265625 48.484375 22.1875 42.84375 \r\nQ 18.109375 37.203125 18.109375 27.296875 \r\nQ 18.109375 17.390625 22.1875 11.75 \r\nQ 26.265625 6.109375 33.40625 6.109375 \r\nQ 40.53125 6.109375 44.609375 11.75 \r\nQ 48.6875 17.390625 48.6875 27.296875 \r\nz\r\nM 18.109375 46.390625 \r\nQ 20.953125 51.265625 25.265625 53.625 \r\nQ 29.59375 56 35.59375 56 \r\nQ 45.5625 56 51.78125 48.09375 \r\nQ 58.015625 40.1875 58.015625 27.296875 \r\nQ 58.015625 14.40625 51.78125 6.484375 \r\nQ 45.5625 -1.421875 35.59375 -1.421875 \r\nQ 29.59375 -1.421875 25.265625 0.953125 \r\nQ 20.953125 3.328125 18.109375 8.203125 \r\nL 18.109375 0 \r\nL 9.078125 0 \r\nL 9.078125 75.984375 \r\nL 18.109375 75.984375 \r\nz\r\n\" id=\"DejaVuSans-98\"/>\r\n       </defs>\r\n       <use xlink:href=\"#DejaVuSans-98\"/>\r\n       <use x=\"63.476562\" xlink:href=\"#DejaVuSans-101\"/>\r\n       <use x=\"125\" xlink:href=\"#DejaVuSans-100\"/>\r\n       <use x=\"188.476562\" xlink:href=\"#DejaVuSans-114\"/>\r\n       <use x=\"227.339844\" xlink:href=\"#DejaVuSans-111\"/>\r\n       <use x=\"288.521484\" xlink:href=\"#DejaVuSans-111\"/>\r\n       <use x=\"349.703125\" xlink:href=\"#DejaVuSans-109\"/>\r\n       <use x=\"447.115234\" xlink:href=\"#DejaVuSans-115\"/>\r\n      </g>\r\n     </g>\r\n    </g>\r\n    <g id=\"xtick_6\">\r\n     <g id=\"line2d_6\">\r\n      <g>\r\n       <use style=\"stroke:#000000;stroke-width:0.8;\" x=\"249.390294\" xlink:href=\"#m3c82629910\" y=\"228.439219\"/>\r\n      </g>\r\n     </g>\r\n     <g id=\"text_6\">\r\n      <!-- price -->\r\n      <g transform=\"translate(252.149669 260.328281)rotate(-90)scale(0.1 -0.1)\">\r\n       <use xlink:href=\"#DejaVuSans-112\"/>\r\n       <use x=\"63.476562\" xlink:href=\"#DejaVuSans-114\"/>\r\n       <use x=\"104.589844\" xlink:href=\"#DejaVuSans-105\"/>\r\n       <use x=\"132.373047\" xlink:href=\"#DejaVuSans-99\"/>\r\n       <use x=\"187.353516\" xlink:href=\"#DejaVuSans-101\"/>\r\n      </g>\r\n     </g>\r\n    </g>\r\n    <g id=\"xtick_7\">\r\n     <g id=\"line2d_7\">\r\n      <g>\r\n       <use style=\"stroke:#000000;stroke-width:0.8;\" x=\"265.145588\" xlink:href=\"#m3c82629910\" y=\"228.439219\"/>\r\n      </g>\r\n     </g>\r\n     <g id=\"text_7\">\r\n      <!-- monthly_price -->\r\n      <g transform=\"translate(267.765901 306.479844)rotate(-90)scale(0.1 -0.1)\">\r\n       <use xlink:href=\"#DejaVuSans-109\"/>\r\n       <use x=\"97.412109\" xlink:href=\"#DejaVuSans-111\"/>\r\n       <use x=\"158.59375\" xlink:href=\"#DejaVuSans-110\"/>\r\n       <use x=\"221.972656\" xlink:href=\"#DejaVuSans-116\"/>\r\n       <use x=\"261.181641\" xlink:href=\"#DejaVuSans-104\"/>\r\n       <use x=\"324.560547\" xlink:href=\"#DejaVuSans-108\"/>\r\n       <use x=\"352.34375\" xlink:href=\"#DejaVuSans-121\"/>\r\n       <use x=\"411.523438\" xlink:href=\"#DejaVuSans-95\"/>\r\n       <use x=\"461.523438\" xlink:href=\"#DejaVuSans-112\"/>\r\n       <use x=\"525\" xlink:href=\"#DejaVuSans-114\"/>\r\n       <use x=\"566.113281\" xlink:href=\"#DejaVuSans-105\"/>\r\n       <use x=\"593.896484\" xlink:href=\"#DejaVuSans-99\"/>\r\n       <use x=\"648.876953\" xlink:href=\"#DejaVuSans-101\"/>\r\n      </g>\r\n     </g>\r\n    </g>\r\n    <g id=\"xtick_8\">\r\n     <g id=\"line2d_8\">\r\n      <g>\r\n       <use style=\"stroke:#000000;stroke-width:0.8;\" x=\"280.900882\" xlink:href=\"#m3c82629910\" y=\"228.439219\"/>\r\n      </g>\r\n     </g>\r\n     <g id=\"text_8\">\r\n      <!-- cleaning_fee -->\r\n      <g transform=\"translate(283.521195 298.625156)rotate(-90)scale(0.1 -0.1)\">\r\n       <use xlink:href=\"#DejaVuSans-99\"/>\r\n       <use x=\"54.980469\" xlink:href=\"#DejaVuSans-108\"/>\r\n       <use x=\"82.763672\" xlink:href=\"#DejaVuSans-101\"/>\r\n       <use x=\"144.287109\" xlink:href=\"#DejaVuSans-97\"/>\r\n       <use x=\"205.566406\" xlink:href=\"#DejaVuSans-110\"/>\r\n       <use x=\"268.945312\" xlink:href=\"#DejaVuSans-105\"/>\r\n       <use x=\"296.728516\" xlink:href=\"#DejaVuSans-110\"/>\r\n       <use x=\"360.107422\" xlink:href=\"#DejaVuSans-103\"/>\r\n       <use x=\"423.583984\" xlink:href=\"#DejaVuSans-95\"/>\r\n       <use x=\"473.583984\" xlink:href=\"#DejaVuSans-102\"/>\r\n       <use x=\"508.789062\" xlink:href=\"#DejaVuSans-101\"/>\r\n       <use x=\"570.3125\" xlink:href=\"#DejaVuSans-101\"/>\r\n      </g>\r\n     </g>\r\n    </g>\r\n    <g id=\"xtick_9\">\r\n     <g id=\"line2d_9\">\r\n      <g>\r\n       <use style=\"stroke:#000000;stroke-width:0.8;\" x=\"296.656176\" xlink:href=\"#m3c82629910\" y=\"228.439219\"/>\r\n      </g>\r\n     </g>\r\n     <g id=\"text_9\">\r\n      <!-- extra_people -->\r\n      <g transform=\"translate(299.276489 300.395469)rotate(-90)scale(0.1 -0.1)\">\r\n       <defs>\r\n        <path d=\"M 54.890625 54.6875 \r\nL 35.109375 28.078125 \r\nL 55.90625 0 \r\nL 45.3125 0 \r\nL 29.390625 21.484375 \r\nL 13.484375 0 \r\nL 2.875 0 \r\nL 24.125 28.609375 \r\nL 4.6875 54.6875 \r\nL 15.28125 54.6875 \r\nL 29.78125 35.203125 \r\nL 44.28125 54.6875 \r\nz\r\n\" id=\"DejaVuSans-120\"/>\r\n       </defs>\r\n       <use xlink:href=\"#DejaVuSans-101\"/>\r\n       <use x=\"59.773438\" xlink:href=\"#DejaVuSans-120\"/>\r\n       <use x=\"118.953125\" xlink:href=\"#DejaVuSans-116\"/>\r\n       <use x=\"158.162109\" xlink:href=\"#DejaVuSans-114\"/>\r\n       <use x=\"199.275391\" xlink:href=\"#DejaVuSans-97\"/>\r\n       <use x=\"260.554688\" xlink:href=\"#DejaVuSans-95\"/>\r\n       <use x=\"310.554688\" xlink:href=\"#DejaVuSans-112\"/>\r\n       <use x=\"374.03125\" xlink:href=\"#DejaVuSans-101\"/>\r\n       <use x=\"435.554688\" xlink:href=\"#DejaVuSans-111\"/>\r\n       <use x=\"496.736328\" xlink:href=\"#DejaVuSans-112\"/>\r\n       <use x=\"560.212891\" xlink:href=\"#DejaVuSans-108\"/>\r\n       <use x=\"587.996094\" xlink:href=\"#DejaVuSans-101\"/>\r\n      </g>\r\n     </g>\r\n    </g>\r\n    <g id=\"xtick_10\">\r\n     <g id=\"line2d_10\">\r\n      <g>\r\n       <use style=\"stroke:#000000;stroke-width:0.8;\" x=\"312.411471\" xlink:href=\"#m3c82629910\" y=\"228.439219\"/>\r\n      </g>\r\n     </g>\r\n     <g id=\"text_10\">\r\n      <!-- maximum_nights -->\r\n      <g transform=\"translate(315.031783 321.754844)rotate(-90)scale(0.1 -0.1)\">\r\n       <use xlink:href=\"#DejaVuSans-109\"/>\r\n       <use x=\"97.412109\" xlink:href=\"#DejaVuSans-97\"/>\r\n       <use x=\"158.691406\" xlink:href=\"#DejaVuSans-120\"/>\r\n       <use x=\"217.871094\" xlink:href=\"#DejaVuSans-105\"/>\r\n       <use x=\"245.654297\" xlink:href=\"#DejaVuSans-109\"/>\r\n       <use x=\"343.066406\" xlink:href=\"#DejaVuSans-117\"/>\r\n       <use x=\"406.445312\" xlink:href=\"#DejaVuSans-109\"/>\r\n       <use x=\"503.857422\" xlink:href=\"#DejaVuSans-95\"/>\r\n       <use x=\"553.857422\" xlink:href=\"#DejaVuSans-110\"/>\r\n       <use x=\"617.236328\" xlink:href=\"#DejaVuSans-105\"/>\r\n       <use x=\"645.019531\" xlink:href=\"#DejaVuSans-103\"/>\r\n       <use x=\"708.496094\" xlink:href=\"#DejaVuSans-104\"/>\r\n       <use x=\"771.875\" xlink:href=\"#DejaVuSans-116\"/>\r\n       <use x=\"811.083984\" xlink:href=\"#DejaVuSans-115\"/>\r\n      </g>\r\n     </g>\r\n    </g>\r\n    <g id=\"xtick_11\">\r\n     <g id=\"line2d_11\">\r\n      <g>\r\n       <use style=\"stroke:#000000;stroke-width:0.8;\" x=\"328.166765\" xlink:href=\"#m3c82629910\" y=\"228.439219\"/>\r\n      </g>\r\n     </g>\r\n     <g id=\"text_11\">\r\n      <!-- availability_60 -->\r\n      <g transform=\"translate(330.787077 307.545469)rotate(-90)scale(0.1 -0.1)\">\r\n       <defs>\r\n        <path d=\"M 33.015625 40.375 \r\nQ 26.375 40.375 22.484375 35.828125 \r\nQ 18.609375 31.296875 18.609375 23.390625 \r\nQ 18.609375 15.53125 22.484375 10.953125 \r\nQ 26.375 6.390625 33.015625 6.390625 \r\nQ 39.65625 6.390625 43.53125 10.953125 \r\nQ 47.40625 15.53125 47.40625 23.390625 \r\nQ 47.40625 31.296875 43.53125 35.828125 \r\nQ 39.65625 40.375 33.015625 40.375 \r\nz\r\nM 52.59375 71.296875 \r\nL 52.59375 62.3125 \r\nQ 48.875 64.0625 45.09375 64.984375 \r\nQ 41.3125 65.921875 37.59375 65.921875 \r\nQ 27.828125 65.921875 22.671875 59.328125 \r\nQ 17.53125 52.734375 16.796875 39.40625 \r\nQ 19.671875 43.65625 24.015625 45.921875 \r\nQ 28.375 48.1875 33.59375 48.1875 \r\nQ 44.578125 48.1875 50.953125 41.515625 \r\nQ 57.328125 34.859375 57.328125 23.390625 \r\nQ 57.328125 12.15625 50.6875 5.359375 \r\nQ 44.046875 -1.421875 33.015625 -1.421875 \r\nQ 20.359375 -1.421875 13.671875 8.265625 \r\nQ 6.984375 17.96875 6.984375 36.375 \r\nQ 6.984375 53.65625 15.1875 63.9375 \r\nQ 23.390625 74.21875 37.203125 74.21875 \r\nQ 40.921875 74.21875 44.703125 73.484375 \r\nQ 48.484375 72.75 52.59375 71.296875 \r\nz\r\n\" id=\"DejaVuSans-54\"/>\r\n        <path d=\"M 31.78125 66.40625 \r\nQ 24.171875 66.40625 20.328125 58.90625 \r\nQ 16.5 51.421875 16.5 36.375 \r\nQ 16.5 21.390625 20.328125 13.890625 \r\nQ 24.171875 6.390625 31.78125 6.390625 \r\nQ 39.453125 6.390625 43.28125 13.890625 \r\nQ 47.125 21.390625 47.125 36.375 \r\nQ 47.125 51.421875 43.28125 58.90625 \r\nQ 39.453125 66.40625 31.78125 66.40625 \r\nz\r\nM 31.78125 74.21875 \r\nQ 44.046875 74.21875 50.515625 64.515625 \r\nQ 56.984375 54.828125 56.984375 36.375 \r\nQ 56.984375 17.96875 50.515625 8.265625 \r\nQ 44.046875 -1.421875 31.78125 -1.421875 \r\nQ 19.53125 -1.421875 13.0625 8.265625 \r\nQ 6.59375 17.96875 6.59375 36.375 \r\nQ 6.59375 54.828125 13.0625 64.515625 \r\nQ 19.53125 74.21875 31.78125 74.21875 \r\nz\r\n\" id=\"DejaVuSans-48\"/>\r\n       </defs>\r\n       <use xlink:href=\"#DejaVuSans-97\"/>\r\n       <use x=\"61.279297\" xlink:href=\"#DejaVuSans-118\"/>\r\n       <use x=\"120.458984\" xlink:href=\"#DejaVuSans-97\"/>\r\n       <use x=\"181.738281\" xlink:href=\"#DejaVuSans-105\"/>\r\n       <use x=\"209.521484\" xlink:href=\"#DejaVuSans-108\"/>\r\n       <use x=\"237.304688\" xlink:href=\"#DejaVuSans-97\"/>\r\n       <use x=\"298.583984\" xlink:href=\"#DejaVuSans-98\"/>\r\n       <use x=\"362.060547\" xlink:href=\"#DejaVuSans-105\"/>\r\n       <use x=\"389.84375\" xlink:href=\"#DejaVuSans-108\"/>\r\n       <use x=\"417.626953\" xlink:href=\"#DejaVuSans-105\"/>\r\n       <use x=\"445.410156\" xlink:href=\"#DejaVuSans-116\"/>\r\n       <use x=\"484.619141\" xlink:href=\"#DejaVuSans-121\"/>\r\n       <use x=\"543.798828\" xlink:href=\"#DejaVuSans-95\"/>\r\n       <use x=\"593.798828\" xlink:href=\"#DejaVuSans-54\"/>\r\n       <use x=\"657.421875\" xlink:href=\"#DejaVuSans-48\"/>\r\n      </g>\r\n     </g>\r\n    </g>\r\n    <g id=\"xtick_12\">\r\n     <g id=\"line2d_12\">\r\n      <g>\r\n       <use style=\"stroke:#000000;stroke-width:0.8;\" x=\"343.922059\" xlink:href=\"#m3c82629910\" y=\"228.439219\"/>\r\n      </g>\r\n     </g>\r\n     <g id=\"text_12\">\r\n      <!-- availability_365 -->\r\n      <g transform=\"translate(346.542371 313.907969)rotate(-90)scale(0.1 -0.1)\">\r\n       <defs>\r\n        <path d=\"M 40.578125 39.3125 \r\nQ 47.65625 37.796875 51.625 33 \r\nQ 55.609375 28.21875 55.609375 21.1875 \r\nQ 55.609375 10.40625 48.1875 4.484375 \r\nQ 40.765625 -1.421875 27.09375 -1.421875 \r\nQ 22.515625 -1.421875 17.65625 -0.515625 \r\nQ 12.796875 0.390625 7.625 2.203125 \r\nL 7.625 11.71875 \r\nQ 11.71875 9.328125 16.59375 8.109375 \r\nQ 21.484375 6.890625 26.8125 6.890625 \r\nQ 36.078125 6.890625 40.9375 10.546875 \r\nQ 45.796875 14.203125 45.796875 21.1875 \r\nQ 45.796875 27.640625 41.28125 31.265625 \r\nQ 36.765625 34.90625 28.71875 34.90625 \r\nL 20.21875 34.90625 \r\nL 20.21875 43.015625 \r\nL 29.109375 43.015625 \r\nQ 36.375 43.015625 40.234375 45.921875 \r\nQ 44.09375 48.828125 44.09375 54.296875 \r\nQ 44.09375 59.90625 40.109375 62.90625 \r\nQ 36.140625 65.921875 28.71875 65.921875 \r\nQ 24.65625 65.921875 20.015625 65.03125 \r\nQ 15.375 64.15625 9.8125 62.3125 \r\nL 9.8125 71.09375 \r\nQ 15.4375 72.65625 20.34375 73.4375 \r\nQ 25.25 74.21875 29.59375 74.21875 \r\nQ 40.828125 74.21875 47.359375 69.109375 \r\nQ 53.90625 64.015625 53.90625 55.328125 \r\nQ 53.90625 49.265625 50.4375 45.09375 \r\nQ 46.96875 40.921875 40.578125 39.3125 \r\nz\r\n\" id=\"DejaVuSans-51\"/>\r\n        <path d=\"M 10.796875 72.90625 \r\nL 49.515625 72.90625 \r\nL 49.515625 64.59375 \r\nL 19.828125 64.59375 \r\nL 19.828125 46.734375 \r\nQ 21.96875 47.46875 24.109375 47.828125 \r\nQ 26.265625 48.1875 28.421875 48.1875 \r\nQ 40.625 48.1875 47.75 41.5 \r\nQ 54.890625 34.8125 54.890625 23.390625 \r\nQ 54.890625 11.625 47.5625 5.09375 \r\nQ 40.234375 -1.421875 26.90625 -1.421875 \r\nQ 22.3125 -1.421875 17.546875 -0.640625 \r\nQ 12.796875 0.140625 7.71875 1.703125 \r\nL 7.71875 11.625 \r\nQ 12.109375 9.234375 16.796875 8.0625 \r\nQ 21.484375 6.890625 26.703125 6.890625 \r\nQ 35.15625 6.890625 40.078125 11.328125 \r\nQ 45.015625 15.765625 45.015625 23.390625 \r\nQ 45.015625 31 40.078125 35.4375 \r\nQ 35.15625 39.890625 26.703125 39.890625 \r\nQ 22.75 39.890625 18.8125 39.015625 \r\nQ 14.890625 38.140625 10.796875 36.28125 \r\nz\r\n\" id=\"DejaVuSans-53\"/>\r\n       </defs>\r\n       <use xlink:href=\"#DejaVuSans-97\"/>\r\n       <use x=\"61.279297\" xlink:href=\"#DejaVuSans-118\"/>\r\n       <use x=\"120.458984\" xlink:href=\"#DejaVuSans-97\"/>\r\n       <use x=\"181.738281\" xlink:href=\"#DejaVuSans-105\"/>\r\n       <use x=\"209.521484\" xlink:href=\"#DejaVuSans-108\"/>\r\n       <use x=\"237.304688\" xlink:href=\"#DejaVuSans-97\"/>\r\n       <use x=\"298.583984\" xlink:href=\"#DejaVuSans-98\"/>\r\n       <use x=\"362.060547\" xlink:href=\"#DejaVuSans-105\"/>\r\n       <use x=\"389.84375\" xlink:href=\"#DejaVuSans-108\"/>\r\n       <use x=\"417.626953\" xlink:href=\"#DejaVuSans-105\"/>\r\n       <use x=\"445.410156\" xlink:href=\"#DejaVuSans-116\"/>\r\n       <use x=\"484.619141\" xlink:href=\"#DejaVuSans-121\"/>\r\n       <use x=\"543.798828\" xlink:href=\"#DejaVuSans-95\"/>\r\n       <use x=\"593.798828\" xlink:href=\"#DejaVuSans-51\"/>\r\n       <use x=\"657.421875\" xlink:href=\"#DejaVuSans-54\"/>\r\n       <use x=\"721.044922\" xlink:href=\"#DejaVuSans-53\"/>\r\n      </g>\r\n     </g>\r\n    </g>\r\n    <g id=\"xtick_13\">\r\n     <g id=\"line2d_13\">\r\n      <g>\r\n       <use style=\"stroke:#000000;stroke-width:0.8;\" x=\"359.677353\" xlink:href=\"#m3c82629910\" y=\"228.439219\"/>\r\n      </g>\r\n     </g>\r\n     <g id=\"text_13\">\r\n      <!-- review_scores_rating -->\r\n      <g transform=\"translate(362.297665 340.204844)rotate(-90)scale(0.1 -0.1)\">\r\n       <defs>\r\n        <path d=\"M 4.203125 54.6875 \r\nL 13.1875 54.6875 \r\nL 24.421875 12.015625 \r\nL 35.59375 54.6875 \r\nL 46.1875 54.6875 \r\nL 57.421875 12.015625 \r\nL 68.609375 54.6875 \r\nL 77.59375 54.6875 \r\nL 63.28125 0 \r\nL 52.6875 0 \r\nL 40.921875 44.828125 \r\nL 29.109375 0 \r\nL 18.5 0 \r\nz\r\n\" id=\"DejaVuSans-119\"/>\r\n       </defs>\r\n       <use xlink:href=\"#DejaVuSans-114\"/>\r\n       <use x=\"38.863281\" xlink:href=\"#DejaVuSans-101\"/>\r\n       <use x=\"100.386719\" xlink:href=\"#DejaVuSans-118\"/>\r\n       <use x=\"159.566406\" xlink:href=\"#DejaVuSans-105\"/>\r\n       <use x=\"187.349609\" xlink:href=\"#DejaVuSans-101\"/>\r\n       <use x=\"248.873047\" xlink:href=\"#DejaVuSans-119\"/>\r\n       <use x=\"330.660156\" xlink:href=\"#DejaVuSans-95\"/>\r\n       <use x=\"380.660156\" xlink:href=\"#DejaVuSans-115\"/>\r\n       <use x=\"432.759766\" xlink:href=\"#DejaVuSans-99\"/>\r\n       <use x=\"487.740234\" xlink:href=\"#DejaVuSans-111\"/>\r\n       <use x=\"548.921875\" xlink:href=\"#DejaVuSans-114\"/>\r\n       <use x=\"587.785156\" xlink:href=\"#DejaVuSans-101\"/>\r\n       <use x=\"649.308594\" xlink:href=\"#DejaVuSans-115\"/>\r\n       <use x=\"701.408203\" xlink:href=\"#DejaVuSans-95\"/>\r\n       <use x=\"751.408203\" xlink:href=\"#DejaVuSans-114\"/>\r\n       <use x=\"792.521484\" xlink:href=\"#DejaVuSans-97\"/>\r\n       <use x=\"853.800781\" xlink:href=\"#DejaVuSans-116\"/>\r\n       <use x=\"893.009766\" xlink:href=\"#DejaVuSans-105\"/>\r\n       <use x=\"920.792969\" xlink:href=\"#DejaVuSans-110\"/>\r\n       <use x=\"984.171875\" xlink:href=\"#DejaVuSans-103\"/>\r\n      </g>\r\n     </g>\r\n    </g>\r\n    <g id=\"xtick_14\">\r\n     <g id=\"line2d_14\">\r\n      <g>\r\n       <use style=\"stroke:#000000;stroke-width:0.8;\" x=\"375.432647\" xlink:href=\"#m3c82629910\" y=\"228.439219\"/>\r\n      </g>\r\n     </g>\r\n     <g id=\"text_14\">\r\n      <!-- review_scores_cleanliness -->\r\n      <g transform=\"translate(378.05296 365.942344)rotate(-90)scale(0.1 -0.1)\">\r\n       <use xlink:href=\"#DejaVuSans-114\"/>\r\n       <use x=\"38.863281\" xlink:href=\"#DejaVuSans-101\"/>\r\n       <use x=\"100.386719\" xlink:href=\"#DejaVuSans-118\"/>\r\n       <use x=\"159.566406\" xlink:href=\"#DejaVuSans-105\"/>\r\n       <use x=\"187.349609\" xlink:href=\"#DejaVuSans-101\"/>\r\n       <use x=\"248.873047\" xlink:href=\"#DejaVuSans-119\"/>\r\n       <use x=\"330.660156\" xlink:href=\"#DejaVuSans-95\"/>\r\n       <use x=\"380.660156\" xlink:href=\"#DejaVuSans-115\"/>\r\n       <use x=\"432.759766\" xlink:href=\"#DejaVuSans-99\"/>\r\n       <use x=\"487.740234\" xlink:href=\"#DejaVuSans-111\"/>\r\n       <use x=\"548.921875\" xlink:href=\"#DejaVuSans-114\"/>\r\n       <use x=\"587.785156\" xlink:href=\"#DejaVuSans-101\"/>\r\n       <use x=\"649.308594\" xlink:href=\"#DejaVuSans-115\"/>\r\n       <use x=\"701.408203\" xlink:href=\"#DejaVuSans-95\"/>\r\n       <use x=\"751.408203\" xlink:href=\"#DejaVuSans-99\"/>\r\n       <use x=\"806.388672\" xlink:href=\"#DejaVuSans-108\"/>\r\n       <use x=\"834.171875\" xlink:href=\"#DejaVuSans-101\"/>\r\n       <use x=\"895.695312\" xlink:href=\"#DejaVuSans-97\"/>\r\n       <use x=\"956.974609\" xlink:href=\"#DejaVuSans-110\"/>\r\n       <use x=\"1020.353516\" xlink:href=\"#DejaVuSans-108\"/>\r\n       <use x=\"1048.136719\" xlink:href=\"#DejaVuSans-105\"/>\r\n       <use x=\"1075.919922\" xlink:href=\"#DejaVuSans-110\"/>\r\n       <use x=\"1139.298828\" xlink:href=\"#DejaVuSans-101\"/>\r\n       <use x=\"1200.822266\" xlink:href=\"#DejaVuSans-115\"/>\r\n       <use x=\"1252.921875\" xlink:href=\"#DejaVuSans-115\"/>\r\n      </g>\r\n     </g>\r\n    </g>\r\n    <g id=\"xtick_15\">\r\n     <g id=\"line2d_15\">\r\n      <g>\r\n       <use style=\"stroke:#000000;stroke-width:0.8;\" x=\"391.187941\" xlink:href=\"#m3c82629910\" y=\"228.439219\"/>\r\n      </g>\r\n     </g>\r\n     <g id=\"text_15\">\r\n      <!-- review_scores_communication -->\r\n      <g transform=\"translate(393.808254 387.914219)rotate(-90)scale(0.1 -0.1)\">\r\n       <use xlink:href=\"#DejaVuSans-114\"/>\r\n       <use x=\"38.863281\" xlink:href=\"#DejaVuSans-101\"/>\r\n       <use x=\"100.386719\" xlink:href=\"#DejaVuSans-118\"/>\r\n       <use x=\"159.566406\" xlink:href=\"#DejaVuSans-105\"/>\r\n       <use x=\"187.349609\" xlink:href=\"#DejaVuSans-101\"/>\r\n       <use x=\"248.873047\" xlink:href=\"#DejaVuSans-119\"/>\r\n       <use x=\"330.660156\" xlink:href=\"#DejaVuSans-95\"/>\r\n       <use x=\"380.660156\" xlink:href=\"#DejaVuSans-115\"/>\r\n       <use x=\"432.759766\" xlink:href=\"#DejaVuSans-99\"/>\r\n       <use x=\"487.740234\" xlink:href=\"#DejaVuSans-111\"/>\r\n       <use x=\"548.921875\" xlink:href=\"#DejaVuSans-114\"/>\r\n       <use x=\"587.785156\" xlink:href=\"#DejaVuSans-101\"/>\r\n       <use x=\"649.308594\" xlink:href=\"#DejaVuSans-115\"/>\r\n       <use x=\"701.408203\" xlink:href=\"#DejaVuSans-95\"/>\r\n       <use x=\"751.408203\" xlink:href=\"#DejaVuSans-99\"/>\r\n       <use x=\"806.388672\" xlink:href=\"#DejaVuSans-111\"/>\r\n       <use x=\"867.570312\" xlink:href=\"#DejaVuSans-109\"/>\r\n       <use x=\"964.982422\" xlink:href=\"#DejaVuSans-109\"/>\r\n       <use x=\"1062.394531\" xlink:href=\"#DejaVuSans-117\"/>\r\n       <use x=\"1125.773438\" xlink:href=\"#DejaVuSans-110\"/>\r\n       <use x=\"1189.152344\" xlink:href=\"#DejaVuSans-105\"/>\r\n       <use x=\"1216.935547\" xlink:href=\"#DejaVuSans-99\"/>\r\n       <use x=\"1271.916016\" xlink:href=\"#DejaVuSans-97\"/>\r\n       <use x=\"1333.195312\" xlink:href=\"#DejaVuSans-116\"/>\r\n       <use x=\"1372.404297\" xlink:href=\"#DejaVuSans-105\"/>\r\n       <use x=\"1400.1875\" xlink:href=\"#DejaVuSans-111\"/>\r\n       <use x=\"1461.369141\" xlink:href=\"#DejaVuSans-110\"/>\r\n      </g>\r\n     </g>\r\n    </g>\r\n    <g id=\"xtick_16\">\r\n     <g id=\"line2d_16\">\r\n      <g>\r\n       <use style=\"stroke:#000000;stroke-width:0.8;\" x=\"406.943235\" xlink:href=\"#m3c82629910\" y=\"228.439219\"/>\r\n      </g>\r\n     </g>\r\n     <g id=\"text_16\">\r\n      <!-- review_scores_value -->\r\n      <g transform=\"translate(409.563548 337.897031)rotate(-90)scale(0.1 -0.1)\">\r\n       <use xlink:href=\"#DejaVuSans-114\"/>\r\n       <use x=\"38.863281\" xlink:href=\"#DejaVuSans-101\"/>\r\n       <use x=\"100.386719\" xlink:href=\"#DejaVuSans-118\"/>\r\n       <use x=\"159.566406\" xlink:href=\"#DejaVuSans-105\"/>\r\n       <use x=\"187.349609\" xlink:href=\"#DejaVuSans-101\"/>\r\n       <use x=\"248.873047\" xlink:href=\"#DejaVuSans-119\"/>\r\n       <use x=\"330.660156\" xlink:href=\"#DejaVuSans-95\"/>\r\n       <use x=\"380.660156\" xlink:href=\"#DejaVuSans-115\"/>\r\n       <use x=\"432.759766\" xlink:href=\"#DejaVuSans-99\"/>\r\n       <use x=\"487.740234\" xlink:href=\"#DejaVuSans-111\"/>\r\n       <use x=\"548.921875\" xlink:href=\"#DejaVuSans-114\"/>\r\n       <use x=\"587.785156\" xlink:href=\"#DejaVuSans-101\"/>\r\n       <use x=\"649.308594\" xlink:href=\"#DejaVuSans-115\"/>\r\n       <use x=\"701.408203\" xlink:href=\"#DejaVuSans-95\"/>\r\n       <use x=\"751.408203\" xlink:href=\"#DejaVuSans-118\"/>\r\n       <use x=\"810.587891\" xlink:href=\"#DejaVuSans-97\"/>\r\n       <use x=\"871.867188\" xlink:href=\"#DejaVuSans-108\"/>\r\n       <use x=\"899.650391\" xlink:href=\"#DejaVuSans-117\"/>\r\n       <use x=\"963.029297\" xlink:href=\"#DejaVuSans-101\"/>\r\n      </g>\r\n     </g>\r\n    </g>\r\n    <g id=\"xtick_17\">\r\n     <g id=\"line2d_17\">\r\n      <g>\r\n       <use style=\"stroke:#000000;stroke-width:0.8;\" x=\"422.698529\" xlink:href=\"#m3c82629910\" y=\"228.439219\"/>\r\n      </g>\r\n     </g>\r\n     <g id=\"text_17\">\r\n      <!-- calculated_host_listings_count -->\r\n      <g transform=\"translate(425.318842 387.165781)rotate(-90)scale(0.1 -0.1)\">\r\n       <use xlink:href=\"#DejaVuSans-99\"/>\r\n       <use x=\"54.980469\" xlink:href=\"#DejaVuSans-97\"/>\r\n       <use x=\"116.259766\" xlink:href=\"#DejaVuSans-108\"/>\r\n       <use x=\"144.042969\" xlink:href=\"#DejaVuSans-99\"/>\r\n       <use x=\"199.023438\" xlink:href=\"#DejaVuSans-117\"/>\r\n       <use x=\"262.402344\" xlink:href=\"#DejaVuSans-108\"/>\r\n       <use x=\"290.185547\" xlink:href=\"#DejaVuSans-97\"/>\r\n       <use x=\"351.464844\" xlink:href=\"#DejaVuSans-116\"/>\r\n       <use x=\"390.673828\" xlink:href=\"#DejaVuSans-101\"/>\r\n       <use x=\"452.197266\" xlink:href=\"#DejaVuSans-100\"/>\r\n       <use x=\"515.673828\" xlink:href=\"#DejaVuSans-95\"/>\r\n       <use x=\"565.673828\" xlink:href=\"#DejaVuSans-104\"/>\r\n       <use x=\"629.052734\" xlink:href=\"#DejaVuSans-111\"/>\r\n       <use x=\"690.234375\" xlink:href=\"#DejaVuSans-115\"/>\r\n       <use x=\"742.333984\" xlink:href=\"#DejaVuSans-116\"/>\r\n       <use x=\"781.542969\" xlink:href=\"#DejaVuSans-95\"/>\r\n       <use x=\"831.542969\" xlink:href=\"#DejaVuSans-108\"/>\r\n       <use x=\"859.326172\" xlink:href=\"#DejaVuSans-105\"/>\r\n       <use x=\"887.109375\" xlink:href=\"#DejaVuSans-115\"/>\r\n       <use x=\"939.208984\" xlink:href=\"#DejaVuSans-116\"/>\r\n       <use x=\"978.417969\" xlink:href=\"#DejaVuSans-105\"/>\r\n       <use x=\"1006.201172\" xlink:href=\"#DejaVuSans-110\"/>\r\n       <use x=\"1069.580078\" xlink:href=\"#DejaVuSans-103\"/>\r\n       <use x=\"1133.056641\" xlink:href=\"#DejaVuSans-115\"/>\r\n       <use x=\"1185.15625\" xlink:href=\"#DejaVuSans-95\"/>\r\n       <use x=\"1235.15625\" xlink:href=\"#DejaVuSans-99\"/>\r\n       <use x=\"1290.136719\" xlink:href=\"#DejaVuSans-111\"/>\r\n       <use x=\"1351.318359\" xlink:href=\"#DejaVuSans-117\"/>\r\n       <use x=\"1414.697266\" xlink:href=\"#DejaVuSans-110\"/>\r\n       <use x=\"1478.076172\" xlink:href=\"#DejaVuSans-116\"/>\r\n      </g>\r\n     </g>\r\n    </g>\r\n   </g>\r\n   <g id=\"matplotlib.axis_2\">\r\n    <g id=\"ytick_1\">\r\n     <g id=\"line2d_18\">\r\n      <defs>\r\n       <path d=\"M 0 0 \r\nL -3.5 0 \r\n\" id=\"ma65560270d\" style=\"stroke:#000000;stroke-width:0.8;\"/>\r\n      </defs>\r\n      <g>\r\n       <use style=\"stroke:#000000;stroke-width:0.8;\" x=\"166.675\" xlink:href=\"#ma65560270d\" y=\"14.196866\"/>\r\n      </g>\r\n     </g>\r\n     <g id=\"text_18\">\r\n      <!-- host_is_superhost -->\r\n      <g transform=\"translate(70.53125 17.996085)scale(0.1 -0.1)\">\r\n       <use xlink:href=\"#DejaVuSans-104\"/>\r\n       <use x=\"63.378906\" xlink:href=\"#DejaVuSans-111\"/>\r\n       <use x=\"124.560547\" xlink:href=\"#DejaVuSans-115\"/>\r\n       <use x=\"176.660156\" xlink:href=\"#DejaVuSans-116\"/>\r\n       <use x=\"215.869141\" xlink:href=\"#DejaVuSans-95\"/>\r\n       <use x=\"265.869141\" xlink:href=\"#DejaVuSans-105\"/>\r\n       <use x=\"293.652344\" xlink:href=\"#DejaVuSans-115\"/>\r\n       <use x=\"345.751953\" xlink:href=\"#DejaVuSans-95\"/>\r\n       <use x=\"395.751953\" xlink:href=\"#DejaVuSans-115\"/>\r\n       <use x=\"447.851562\" xlink:href=\"#DejaVuSans-117\"/>\r\n       <use x=\"511.230469\" xlink:href=\"#DejaVuSans-112\"/>\r\n       <use x=\"574.707031\" xlink:href=\"#DejaVuSans-101\"/>\r\n       <use x=\"636.230469\" xlink:href=\"#DejaVuSans-114\"/>\r\n       <use x=\"675.59375\" xlink:href=\"#DejaVuSans-104\"/>\r\n       <use x=\"738.972656\" xlink:href=\"#DejaVuSans-111\"/>\r\n       <use x=\"800.154297\" xlink:href=\"#DejaVuSans-115\"/>\r\n       <use x=\"852.253906\" xlink:href=\"#DejaVuSans-116\"/>\r\n      </g>\r\n     </g>\r\n    </g>\r\n    <g id=\"ytick_2\">\r\n     <g id=\"line2d_19\">\r\n      <g>\r\n       <use style=\"stroke:#000000;stroke-width:0.8;\" x=\"166.675\" xlink:href=\"#ma65560270d\" y=\"26.987454\"/>\r\n      </g>\r\n     </g>\r\n     <g id=\"text_19\">\r\n      <!-- host_identity_verified -->\r\n      <g transform=\"translate(52.173437 30.786673)scale(0.1 -0.1)\">\r\n       <use xlink:href=\"#DejaVuSans-104\"/>\r\n       <use x=\"63.378906\" xlink:href=\"#DejaVuSans-111\"/>\r\n       <use x=\"124.560547\" xlink:href=\"#DejaVuSans-115\"/>\r\n       <use x=\"176.660156\" xlink:href=\"#DejaVuSans-116\"/>\r\n       <use x=\"215.869141\" xlink:href=\"#DejaVuSans-95\"/>\r\n       <use x=\"265.869141\" xlink:href=\"#DejaVuSans-105\"/>\r\n       <use x=\"293.652344\" xlink:href=\"#DejaVuSans-100\"/>\r\n       <use x=\"357.128906\" xlink:href=\"#DejaVuSans-101\"/>\r\n       <use x=\"418.652344\" xlink:href=\"#DejaVuSans-110\"/>\r\n       <use x=\"482.03125\" xlink:href=\"#DejaVuSans-116\"/>\r\n       <use x=\"521.240234\" xlink:href=\"#DejaVuSans-105\"/>\r\n       <use x=\"549.023438\" xlink:href=\"#DejaVuSans-116\"/>\r\n       <use x=\"588.232422\" xlink:href=\"#DejaVuSans-121\"/>\r\n       <use x=\"647.412109\" xlink:href=\"#DejaVuSans-95\"/>\r\n       <use x=\"697.412109\" xlink:href=\"#DejaVuSans-118\"/>\r\n       <use x=\"756.591797\" xlink:href=\"#DejaVuSans-101\"/>\r\n       <use x=\"818.115234\" xlink:href=\"#DejaVuSans-114\"/>\r\n       <use x=\"859.228516\" xlink:href=\"#DejaVuSans-105\"/>\r\n       <use x=\"887.011719\" xlink:href=\"#DejaVuSans-102\"/>\r\n       <use x=\"922.216797\" xlink:href=\"#DejaVuSans-105\"/>\r\n       <use x=\"950\" xlink:href=\"#DejaVuSans-101\"/>\r\n       <use x=\"1011.523438\" xlink:href=\"#DejaVuSans-100\"/>\r\n      </g>\r\n     </g>\r\n    </g>\r\n    <g id=\"ytick_3\">\r\n     <g id=\"line2d_20\">\r\n      <g>\r\n       <use style=\"stroke:#000000;stroke-width:0.8;\" x=\"166.675\" xlink:href=\"#ma65560270d\" y=\"39.778042\"/>\r\n      </g>\r\n     </g>\r\n     <g id=\"text_20\">\r\n      <!-- longitude -->\r\n      <g transform=\"translate(112.554687 43.577261)scale(0.1 -0.1)\">\r\n       <use xlink:href=\"#DejaVuSans-108\"/>\r\n       <use x=\"27.783203\" xlink:href=\"#DejaVuSans-111\"/>\r\n       <use x=\"88.964844\" xlink:href=\"#DejaVuSans-110\"/>\r\n       <use x=\"152.34375\" xlink:href=\"#DejaVuSans-103\"/>\r\n       <use x=\"215.820312\" xlink:href=\"#DejaVuSans-105\"/>\r\n       <use x=\"243.603516\" xlink:href=\"#DejaVuSans-116\"/>\r\n       <use x=\"282.8125\" xlink:href=\"#DejaVuSans-117\"/>\r\n       <use x=\"346.191406\" xlink:href=\"#DejaVuSans-100\"/>\r\n       <use x=\"409.667969\" xlink:href=\"#DejaVuSans-101\"/>\r\n      </g>\r\n     </g>\r\n    </g>\r\n    <g id=\"ytick_4\">\r\n     <g id=\"line2d_21\">\r\n      <g>\r\n       <use style=\"stroke:#000000;stroke-width:0.8;\" x=\"166.675\" xlink:href=\"#ma65560270d\" y=\"52.568631\"/>\r\n      </g>\r\n     </g>\r\n     <g id=\"text_21\">\r\n      <!-- accommodates -->\r\n      <g transform=\"translate(83.071875 56.367849)scale(0.1 -0.1)\">\r\n       <use xlink:href=\"#DejaVuSans-97\"/>\r\n       <use x=\"61.279297\" xlink:href=\"#DejaVuSans-99\"/>\r\n       <use x=\"116.259766\" xlink:href=\"#DejaVuSans-99\"/>\r\n       <use x=\"171.240234\" xlink:href=\"#DejaVuSans-111\"/>\r\n       <use x=\"232.421875\" xlink:href=\"#DejaVuSans-109\"/>\r\n       <use x=\"329.833984\" xlink:href=\"#DejaVuSans-109\"/>\r\n       <use x=\"427.246094\" xlink:href=\"#DejaVuSans-111\"/>\r\n       <use x=\"488.427734\" xlink:href=\"#DejaVuSans-100\"/>\r\n       <use x=\"551.904297\" xlink:href=\"#DejaVuSans-97\"/>\r\n       <use x=\"613.183594\" xlink:href=\"#DejaVuSans-116\"/>\r\n       <use x=\"652.392578\" xlink:href=\"#DejaVuSans-101\"/>\r\n       <use x=\"713.916016\" xlink:href=\"#DejaVuSans-115\"/>\r\n      </g>\r\n     </g>\r\n    </g>\r\n    <g id=\"ytick_5\">\r\n     <g id=\"line2d_22\">\r\n      <g>\r\n       <use style=\"stroke:#000000;stroke-width:0.8;\" x=\"166.675\" xlink:href=\"#ma65560270d\" y=\"65.359219\"/>\r\n      </g>\r\n     </g>\r\n     <g id=\"text_22\">\r\n      <!-- bedrooms -->\r\n      <g transform=\"translate(109.751562 69.158437)scale(0.1 -0.1)\">\r\n       <use xlink:href=\"#DejaVuSans-98\"/>\r\n       <use x=\"63.476562\" xlink:href=\"#DejaVuSans-101\"/>\r\n       <use x=\"125\" xlink:href=\"#DejaVuSans-100\"/>\r\n       <use x=\"188.476562\" xlink:href=\"#DejaVuSans-114\"/>\r\n       <use x=\"227.339844\" xlink:href=\"#DejaVuSans-111\"/>\r\n       <use x=\"288.521484\" xlink:href=\"#DejaVuSans-111\"/>\r\n       <use x=\"349.703125\" xlink:href=\"#DejaVuSans-109\"/>\r\n       <use x=\"447.115234\" xlink:href=\"#DejaVuSans-115\"/>\r\n      </g>\r\n     </g>\r\n    </g>\r\n    <g id=\"ytick_6\">\r\n     <g id=\"line2d_23\">\r\n      <g>\r\n       <use style=\"stroke:#000000;stroke-width:0.8;\" x=\"166.675\" xlink:href=\"#ma65560270d\" y=\"78.149807\"/>\r\n      </g>\r\n     </g>\r\n     <g id=\"text_23\">\r\n      <!-- price -->\r\n      <g transform=\"translate(134.785937 81.949026)scale(0.1 -0.1)\">\r\n       <use xlink:href=\"#DejaVuSans-112\"/>\r\n       <use x=\"63.476562\" xlink:href=\"#DejaVuSans-114\"/>\r\n       <use x=\"104.589844\" xlink:href=\"#DejaVuSans-105\"/>\r\n       <use x=\"132.373047\" xlink:href=\"#DejaVuSans-99\"/>\r\n       <use x=\"187.353516\" xlink:href=\"#DejaVuSans-101\"/>\r\n      </g>\r\n     </g>\r\n    </g>\r\n    <g id=\"ytick_7\">\r\n     <g id=\"line2d_24\">\r\n      <g>\r\n       <use style=\"stroke:#000000;stroke-width:0.8;\" x=\"166.675\" xlink:href=\"#ma65560270d\" y=\"90.940395\"/>\r\n      </g>\r\n     </g>\r\n     <g id=\"text_24\">\r\n      <!-- monthly_price -->\r\n      <g transform=\"translate(88.634375 94.739614)scale(0.1 -0.1)\">\r\n       <use xlink:href=\"#DejaVuSans-109\"/>\r\n       <use x=\"97.412109\" xlink:href=\"#DejaVuSans-111\"/>\r\n       <use x=\"158.59375\" xlink:href=\"#DejaVuSans-110\"/>\r\n       <use x=\"221.972656\" xlink:href=\"#DejaVuSans-116\"/>\r\n       <use x=\"261.181641\" xlink:href=\"#DejaVuSans-104\"/>\r\n       <use x=\"324.560547\" xlink:href=\"#DejaVuSans-108\"/>\r\n       <use x=\"352.34375\" xlink:href=\"#DejaVuSans-121\"/>\r\n       <use x=\"411.523438\" xlink:href=\"#DejaVuSans-95\"/>\r\n       <use x=\"461.523438\" xlink:href=\"#DejaVuSans-112\"/>\r\n       <use x=\"525\" xlink:href=\"#DejaVuSans-114\"/>\r\n       <use x=\"566.113281\" xlink:href=\"#DejaVuSans-105\"/>\r\n       <use x=\"593.896484\" xlink:href=\"#DejaVuSans-99\"/>\r\n       <use x=\"648.876953\" xlink:href=\"#DejaVuSans-101\"/>\r\n      </g>\r\n     </g>\r\n    </g>\r\n    <g id=\"ytick_8\">\r\n     <g id=\"line2d_25\">\r\n      <g>\r\n       <use style=\"stroke:#000000;stroke-width:0.8;\" x=\"166.675\" xlink:href=\"#ma65560270d\" y=\"103.730983\"/>\r\n      </g>\r\n     </g>\r\n     <g id=\"text_25\">\r\n      <!-- cleaning_fee -->\r\n      <g transform=\"translate(96.489062 107.530202)scale(0.1 -0.1)\">\r\n       <use xlink:href=\"#DejaVuSans-99\"/>\r\n       <use x=\"54.980469\" xlink:href=\"#DejaVuSans-108\"/>\r\n       <use x=\"82.763672\" xlink:href=\"#DejaVuSans-101\"/>\r\n       <use x=\"144.287109\" xlink:href=\"#DejaVuSans-97\"/>\r\n       <use x=\"205.566406\" xlink:href=\"#DejaVuSans-110\"/>\r\n       <use x=\"268.945312\" xlink:href=\"#DejaVuSans-105\"/>\r\n       <use x=\"296.728516\" xlink:href=\"#DejaVuSans-110\"/>\r\n       <use x=\"360.107422\" xlink:href=\"#DejaVuSans-103\"/>\r\n       <use x=\"423.583984\" xlink:href=\"#DejaVuSans-95\"/>\r\n       <use x=\"473.583984\" xlink:href=\"#DejaVuSans-102\"/>\r\n       <use x=\"508.789062\" xlink:href=\"#DejaVuSans-101\"/>\r\n       <use x=\"570.3125\" xlink:href=\"#DejaVuSans-101\"/>\r\n      </g>\r\n     </g>\r\n    </g>\r\n    <g id=\"ytick_9\">\r\n     <g id=\"line2d_26\">\r\n      <g>\r\n       <use style=\"stroke:#000000;stroke-width:0.8;\" x=\"166.675\" xlink:href=\"#ma65560270d\" y=\"116.521572\"/>\r\n      </g>\r\n     </g>\r\n     <g id=\"text_26\">\r\n      <!-- extra_people -->\r\n      <g transform=\"translate(94.71875 120.32079)scale(0.1 -0.1)\">\r\n       <use xlink:href=\"#DejaVuSans-101\"/>\r\n       <use x=\"59.773438\" xlink:href=\"#DejaVuSans-120\"/>\r\n       <use x=\"118.953125\" xlink:href=\"#DejaVuSans-116\"/>\r\n       <use x=\"158.162109\" xlink:href=\"#DejaVuSans-114\"/>\r\n       <use x=\"199.275391\" xlink:href=\"#DejaVuSans-97\"/>\r\n       <use x=\"260.554688\" xlink:href=\"#DejaVuSans-95\"/>\r\n       <use x=\"310.554688\" xlink:href=\"#DejaVuSans-112\"/>\r\n       <use x=\"374.03125\" xlink:href=\"#DejaVuSans-101\"/>\r\n       <use x=\"435.554688\" xlink:href=\"#DejaVuSans-111\"/>\r\n       <use x=\"496.736328\" xlink:href=\"#DejaVuSans-112\"/>\r\n       <use x=\"560.212891\" xlink:href=\"#DejaVuSans-108\"/>\r\n       <use x=\"587.996094\" xlink:href=\"#DejaVuSans-101\"/>\r\n      </g>\r\n     </g>\r\n    </g>\r\n    <g id=\"ytick_10\">\r\n     <g id=\"line2d_27\">\r\n      <g>\r\n       <use style=\"stroke:#000000;stroke-width:0.8;\" x=\"166.675\" xlink:href=\"#ma65560270d\" y=\"129.31216\"/>\r\n      </g>\r\n     </g>\r\n     <g id=\"text_27\">\r\n      <!-- maximum_nights -->\r\n      <g transform=\"translate(73.359375 133.111379)scale(0.1 -0.1)\">\r\n       <use xlink:href=\"#DejaVuSans-109\"/>\r\n       <use x=\"97.412109\" xlink:href=\"#DejaVuSans-97\"/>\r\n       <use x=\"158.691406\" xlink:href=\"#DejaVuSans-120\"/>\r\n       <use x=\"217.871094\" xlink:href=\"#DejaVuSans-105\"/>\r\n       <use x=\"245.654297\" xlink:href=\"#DejaVuSans-109\"/>\r\n       <use x=\"343.066406\" xlink:href=\"#DejaVuSans-117\"/>\r\n       <use x=\"406.445312\" xlink:href=\"#DejaVuSans-109\"/>\r\n       <use x=\"503.857422\" xlink:href=\"#DejaVuSans-95\"/>\r\n       <use x=\"553.857422\" xlink:href=\"#DejaVuSans-110\"/>\r\n       <use x=\"617.236328\" xlink:href=\"#DejaVuSans-105\"/>\r\n       <use x=\"645.019531\" xlink:href=\"#DejaVuSans-103\"/>\r\n       <use x=\"708.496094\" xlink:href=\"#DejaVuSans-104\"/>\r\n       <use x=\"771.875\" xlink:href=\"#DejaVuSans-116\"/>\r\n       <use x=\"811.083984\" xlink:href=\"#DejaVuSans-115\"/>\r\n      </g>\r\n     </g>\r\n    </g>\r\n    <g id=\"ytick_11\">\r\n     <g id=\"line2d_28\">\r\n      <g>\r\n       <use style=\"stroke:#000000;stroke-width:0.8;\" x=\"166.675\" xlink:href=\"#ma65560270d\" y=\"142.102748\"/>\r\n      </g>\r\n     </g>\r\n     <g id=\"text_28\">\r\n      <!-- availability_60 -->\r\n      <g transform=\"translate(87.56875 145.901967)scale(0.1 -0.1)\">\r\n       <use xlink:href=\"#DejaVuSans-97\"/>\r\n       <use x=\"61.279297\" xlink:href=\"#DejaVuSans-118\"/>\r\n       <use x=\"120.458984\" xlink:href=\"#DejaVuSans-97\"/>\r\n       <use x=\"181.738281\" xlink:href=\"#DejaVuSans-105\"/>\r\n       <use x=\"209.521484\" xlink:href=\"#DejaVuSans-108\"/>\r\n       <use x=\"237.304688\" xlink:href=\"#DejaVuSans-97\"/>\r\n       <use x=\"298.583984\" xlink:href=\"#DejaVuSans-98\"/>\r\n       <use x=\"362.060547\" xlink:href=\"#DejaVuSans-105\"/>\r\n       <use x=\"389.84375\" xlink:href=\"#DejaVuSans-108\"/>\r\n       <use x=\"417.626953\" xlink:href=\"#DejaVuSans-105\"/>\r\n       <use x=\"445.410156\" xlink:href=\"#DejaVuSans-116\"/>\r\n       <use x=\"484.619141\" xlink:href=\"#DejaVuSans-121\"/>\r\n       <use x=\"543.798828\" xlink:href=\"#DejaVuSans-95\"/>\r\n       <use x=\"593.798828\" xlink:href=\"#DejaVuSans-54\"/>\r\n       <use x=\"657.421875\" xlink:href=\"#DejaVuSans-48\"/>\r\n      </g>\r\n     </g>\r\n    </g>\r\n    <g id=\"ytick_12\">\r\n     <g id=\"line2d_29\">\r\n      <g>\r\n       <use style=\"stroke:#000000;stroke-width:0.8;\" x=\"166.675\" xlink:href=\"#ma65560270d\" y=\"154.893336\"/>\r\n      </g>\r\n     </g>\r\n     <g id=\"text_29\">\r\n      <!-- availability_365 -->\r\n      <g transform=\"translate(81.20625 158.692555)scale(0.1 -0.1)\">\r\n       <use xlink:href=\"#DejaVuSans-97\"/>\r\n       <use x=\"61.279297\" xlink:href=\"#DejaVuSans-118\"/>\r\n       <use x=\"120.458984\" xlink:href=\"#DejaVuSans-97\"/>\r\n       <use x=\"181.738281\" xlink:href=\"#DejaVuSans-105\"/>\r\n       <use x=\"209.521484\" xlink:href=\"#DejaVuSans-108\"/>\r\n       <use x=\"237.304688\" xlink:href=\"#DejaVuSans-97\"/>\r\n       <use x=\"298.583984\" xlink:href=\"#DejaVuSans-98\"/>\r\n       <use x=\"362.060547\" xlink:href=\"#DejaVuSans-105\"/>\r\n       <use x=\"389.84375\" xlink:href=\"#DejaVuSans-108\"/>\r\n       <use x=\"417.626953\" xlink:href=\"#DejaVuSans-105\"/>\r\n       <use x=\"445.410156\" xlink:href=\"#DejaVuSans-116\"/>\r\n       <use x=\"484.619141\" xlink:href=\"#DejaVuSans-121\"/>\r\n       <use x=\"543.798828\" xlink:href=\"#DejaVuSans-95\"/>\r\n       <use x=\"593.798828\" xlink:href=\"#DejaVuSans-51\"/>\r\n       <use x=\"657.421875\" xlink:href=\"#DejaVuSans-54\"/>\r\n       <use x=\"721.044922\" xlink:href=\"#DejaVuSans-53\"/>\r\n      </g>\r\n     </g>\r\n    </g>\r\n    <g id=\"ytick_13\">\r\n     <g id=\"line2d_30\">\r\n      <g>\r\n       <use style=\"stroke:#000000;stroke-width:0.8;\" x=\"166.675\" xlink:href=\"#ma65560270d\" y=\"167.683925\"/>\r\n      </g>\r\n     </g>\r\n     <g id=\"text_30\">\r\n      <!-- review_scores_rating -->\r\n      <g transform=\"translate(54.909375 171.483143)scale(0.1 -0.1)\">\r\n       <use xlink:href=\"#DejaVuSans-114\"/>\r\n       <use x=\"38.863281\" xlink:href=\"#DejaVuSans-101\"/>\r\n       <use x=\"100.386719\" xlink:href=\"#DejaVuSans-118\"/>\r\n       <use x=\"159.566406\" xlink:href=\"#DejaVuSans-105\"/>\r\n       <use x=\"187.349609\" xlink:href=\"#DejaVuSans-101\"/>\r\n       <use x=\"248.873047\" xlink:href=\"#DejaVuSans-119\"/>\r\n       <use x=\"330.660156\" xlink:href=\"#DejaVuSans-95\"/>\r\n       <use x=\"380.660156\" xlink:href=\"#DejaVuSans-115\"/>\r\n       <use x=\"432.759766\" xlink:href=\"#DejaVuSans-99\"/>\r\n       <use x=\"487.740234\" xlink:href=\"#DejaVuSans-111\"/>\r\n       <use x=\"548.921875\" xlink:href=\"#DejaVuSans-114\"/>\r\n       <use x=\"587.785156\" xlink:href=\"#DejaVuSans-101\"/>\r\n       <use x=\"649.308594\" xlink:href=\"#DejaVuSans-115\"/>\r\n       <use x=\"701.408203\" xlink:href=\"#DejaVuSans-95\"/>\r\n       <use x=\"751.408203\" xlink:href=\"#DejaVuSans-114\"/>\r\n       <use x=\"792.521484\" xlink:href=\"#DejaVuSans-97\"/>\r\n       <use x=\"853.800781\" xlink:href=\"#DejaVuSans-116\"/>\r\n       <use x=\"893.009766\" xlink:href=\"#DejaVuSans-105\"/>\r\n       <use x=\"920.792969\" xlink:href=\"#DejaVuSans-110\"/>\r\n       <use x=\"984.171875\" xlink:href=\"#DejaVuSans-103\"/>\r\n      </g>\r\n     </g>\r\n    </g>\r\n    <g id=\"ytick_14\">\r\n     <g id=\"line2d_31\">\r\n      <g>\r\n       <use style=\"stroke:#000000;stroke-width:0.8;\" x=\"166.675\" xlink:href=\"#ma65560270d\" y=\"180.474513\"/>\r\n      </g>\r\n     </g>\r\n     <g id=\"text_31\">\r\n      <!-- review_scores_cleanliness -->\r\n      <g transform=\"translate(29.171875 184.273732)scale(0.1 -0.1)\">\r\n       <use xlink:href=\"#DejaVuSans-114\"/>\r\n       <use x=\"38.863281\" xlink:href=\"#DejaVuSans-101\"/>\r\n       <use x=\"100.386719\" xlink:href=\"#DejaVuSans-118\"/>\r\n       <use x=\"159.566406\" xlink:href=\"#DejaVuSans-105\"/>\r\n       <use x=\"187.349609\" xlink:href=\"#DejaVuSans-101\"/>\r\n       <use x=\"248.873047\" xlink:href=\"#DejaVuSans-119\"/>\r\n       <use x=\"330.660156\" xlink:href=\"#DejaVuSans-95\"/>\r\n       <use x=\"380.660156\" xlink:href=\"#DejaVuSans-115\"/>\r\n       <use x=\"432.759766\" xlink:href=\"#DejaVuSans-99\"/>\r\n       <use x=\"487.740234\" xlink:href=\"#DejaVuSans-111\"/>\r\n       <use x=\"548.921875\" xlink:href=\"#DejaVuSans-114\"/>\r\n       <use x=\"587.785156\" xlink:href=\"#DejaVuSans-101\"/>\r\n       <use x=\"649.308594\" xlink:href=\"#DejaVuSans-115\"/>\r\n       <use x=\"701.408203\" xlink:href=\"#DejaVuSans-95\"/>\r\n       <use x=\"751.408203\" xlink:href=\"#DejaVuSans-99\"/>\r\n       <use x=\"806.388672\" xlink:href=\"#DejaVuSans-108\"/>\r\n       <use x=\"834.171875\" xlink:href=\"#DejaVuSans-101\"/>\r\n       <use x=\"895.695312\" xlink:href=\"#DejaVuSans-97\"/>\r\n       <use x=\"956.974609\" xlink:href=\"#DejaVuSans-110\"/>\r\n       <use x=\"1020.353516\" xlink:href=\"#DejaVuSans-108\"/>\r\n       <use x=\"1048.136719\" xlink:href=\"#DejaVuSans-105\"/>\r\n       <use x=\"1075.919922\" xlink:href=\"#DejaVuSans-110\"/>\r\n       <use x=\"1139.298828\" xlink:href=\"#DejaVuSans-101\"/>\r\n       <use x=\"1200.822266\" xlink:href=\"#DejaVuSans-115\"/>\r\n       <use x=\"1252.921875\" xlink:href=\"#DejaVuSans-115\"/>\r\n      </g>\r\n     </g>\r\n    </g>\r\n    <g id=\"ytick_15\">\r\n     <g id=\"line2d_32\">\r\n      <g>\r\n       <use style=\"stroke:#000000;stroke-width:0.8;\" x=\"166.675\" xlink:href=\"#ma65560270d\" y=\"193.265101\"/>\r\n      </g>\r\n     </g>\r\n     <g id=\"text_32\">\r\n      <!-- review_scores_communication -->\r\n      <g transform=\"translate(7.2 197.06432)scale(0.1 -0.1)\">\r\n       <use xlink:href=\"#DejaVuSans-114\"/>\r\n       <use x=\"38.863281\" xlink:href=\"#DejaVuSans-101\"/>\r\n       <use x=\"100.386719\" xlink:href=\"#DejaVuSans-118\"/>\r\n       <use x=\"159.566406\" xlink:href=\"#DejaVuSans-105\"/>\r\n       <use x=\"187.349609\" xlink:href=\"#DejaVuSans-101\"/>\r\n       <use x=\"248.873047\" xlink:href=\"#DejaVuSans-119\"/>\r\n       <use x=\"330.660156\" xlink:href=\"#DejaVuSans-95\"/>\r\n       <use x=\"380.660156\" xlink:href=\"#DejaVuSans-115\"/>\r\n       <use x=\"432.759766\" xlink:href=\"#DejaVuSans-99\"/>\r\n       <use x=\"487.740234\" xlink:href=\"#DejaVuSans-111\"/>\r\n       <use x=\"548.921875\" xlink:href=\"#DejaVuSans-114\"/>\r\n       <use x=\"587.785156\" xlink:href=\"#DejaVuSans-101\"/>\r\n       <use x=\"649.308594\" xlink:href=\"#DejaVuSans-115\"/>\r\n       <use x=\"701.408203\" xlink:href=\"#DejaVuSans-95\"/>\r\n       <use x=\"751.408203\" xlink:href=\"#DejaVuSans-99\"/>\r\n       <use x=\"806.388672\" xlink:href=\"#DejaVuSans-111\"/>\r\n       <use x=\"867.570312\" xlink:href=\"#DejaVuSans-109\"/>\r\n       <use x=\"964.982422\" xlink:href=\"#DejaVuSans-109\"/>\r\n       <use x=\"1062.394531\" xlink:href=\"#DejaVuSans-117\"/>\r\n       <use x=\"1125.773438\" xlink:href=\"#DejaVuSans-110\"/>\r\n       <use x=\"1189.152344\" xlink:href=\"#DejaVuSans-105\"/>\r\n       <use x=\"1216.935547\" xlink:href=\"#DejaVuSans-99\"/>\r\n       <use x=\"1271.916016\" xlink:href=\"#DejaVuSans-97\"/>\r\n       <use x=\"1333.195312\" xlink:href=\"#DejaVuSans-116\"/>\r\n       <use x=\"1372.404297\" xlink:href=\"#DejaVuSans-105\"/>\r\n       <use x=\"1400.1875\" xlink:href=\"#DejaVuSans-111\"/>\r\n       <use x=\"1461.369141\" xlink:href=\"#DejaVuSans-110\"/>\r\n      </g>\r\n     </g>\r\n    </g>\r\n    <g id=\"ytick_16\">\r\n     <g id=\"line2d_33\">\r\n      <g>\r\n       <use style=\"stroke:#000000;stroke-width:0.8;\" x=\"166.675\" xlink:href=\"#ma65560270d\" y=\"206.055689\"/>\r\n      </g>\r\n     </g>\r\n     <g id=\"text_33\">\r\n      <!-- review_scores_value -->\r\n      <g transform=\"translate(57.217187 209.854908)scale(0.1 -0.1)\">\r\n       <use xlink:href=\"#DejaVuSans-114\"/>\r\n       <use x=\"38.863281\" xlink:href=\"#DejaVuSans-101\"/>\r\n       <use x=\"100.386719\" xlink:href=\"#DejaVuSans-118\"/>\r\n       <use x=\"159.566406\" xlink:href=\"#DejaVuSans-105\"/>\r\n       <use x=\"187.349609\" xlink:href=\"#DejaVuSans-101\"/>\r\n       <use x=\"248.873047\" xlink:href=\"#DejaVuSans-119\"/>\r\n       <use x=\"330.660156\" xlink:href=\"#DejaVuSans-95\"/>\r\n       <use x=\"380.660156\" xlink:href=\"#DejaVuSans-115\"/>\r\n       <use x=\"432.759766\" xlink:href=\"#DejaVuSans-99\"/>\r\n       <use x=\"487.740234\" xlink:href=\"#DejaVuSans-111\"/>\r\n       <use x=\"548.921875\" xlink:href=\"#DejaVuSans-114\"/>\r\n       <use x=\"587.785156\" xlink:href=\"#DejaVuSans-101\"/>\r\n       <use x=\"649.308594\" xlink:href=\"#DejaVuSans-115\"/>\r\n       <use x=\"701.408203\" xlink:href=\"#DejaVuSans-95\"/>\r\n       <use x=\"751.408203\" xlink:href=\"#DejaVuSans-118\"/>\r\n       <use x=\"810.587891\" xlink:href=\"#DejaVuSans-97\"/>\r\n       <use x=\"871.867188\" xlink:href=\"#DejaVuSans-108\"/>\r\n       <use x=\"899.650391\" xlink:href=\"#DejaVuSans-117\"/>\r\n       <use x=\"963.029297\" xlink:href=\"#DejaVuSans-101\"/>\r\n      </g>\r\n     </g>\r\n    </g>\r\n    <g id=\"ytick_17\">\r\n     <g id=\"line2d_34\">\r\n      <g>\r\n       <use style=\"stroke:#000000;stroke-width:0.8;\" x=\"166.675\" xlink:href=\"#ma65560270d\" y=\"218.846278\"/>\r\n      </g>\r\n     </g>\r\n     <g id=\"text_34\">\r\n      <!-- calculated_host_listings_count -->\r\n      <g transform=\"translate(7.948437 222.645496)scale(0.1 -0.1)\">\r\n       <use xlink:href=\"#DejaVuSans-99\"/>\r\n       <use x=\"54.980469\" xlink:href=\"#DejaVuSans-97\"/>\r\n       <use x=\"116.259766\" xlink:href=\"#DejaVuSans-108\"/>\r\n       <use x=\"144.042969\" xlink:href=\"#DejaVuSans-99\"/>\r\n       <use x=\"199.023438\" xlink:href=\"#DejaVuSans-117\"/>\r\n       <use x=\"262.402344\" xlink:href=\"#DejaVuSans-108\"/>\r\n       <use x=\"290.185547\" xlink:href=\"#DejaVuSans-97\"/>\r\n       <use x=\"351.464844\" xlink:href=\"#DejaVuSans-116\"/>\r\n       <use x=\"390.673828\" xlink:href=\"#DejaVuSans-101\"/>\r\n       <use x=\"452.197266\" xlink:href=\"#DejaVuSans-100\"/>\r\n       <use x=\"515.673828\" xlink:href=\"#DejaVuSans-95\"/>\r\n       <use x=\"565.673828\" xlink:href=\"#DejaVuSans-104\"/>\r\n       <use x=\"629.052734\" xlink:href=\"#DejaVuSans-111\"/>\r\n       <use x=\"690.234375\" xlink:href=\"#DejaVuSans-115\"/>\r\n       <use x=\"742.333984\" xlink:href=\"#DejaVuSans-116\"/>\r\n       <use x=\"781.542969\" xlink:href=\"#DejaVuSans-95\"/>\r\n       <use x=\"831.542969\" xlink:href=\"#DejaVuSans-108\"/>\r\n       <use x=\"859.326172\" xlink:href=\"#DejaVuSans-105\"/>\r\n       <use x=\"887.109375\" xlink:href=\"#DejaVuSans-115\"/>\r\n       <use x=\"939.208984\" xlink:href=\"#DejaVuSans-116\"/>\r\n       <use x=\"978.417969\" xlink:href=\"#DejaVuSans-105\"/>\r\n       <use x=\"1006.201172\" xlink:href=\"#DejaVuSans-110\"/>\r\n       <use x=\"1069.580078\" xlink:href=\"#DejaVuSans-103\"/>\r\n       <use x=\"1133.056641\" xlink:href=\"#DejaVuSans-115\"/>\r\n       <use x=\"1185.15625\" xlink:href=\"#DejaVuSans-95\"/>\r\n       <use x=\"1235.15625\" xlink:href=\"#DejaVuSans-99\"/>\r\n       <use x=\"1290.136719\" xlink:href=\"#DejaVuSans-111\"/>\r\n       <use x=\"1351.318359\" xlink:href=\"#DejaVuSans-117\"/>\r\n       <use x=\"1414.697266\" xlink:href=\"#DejaVuSans-110\"/>\r\n       <use x=\"1478.076172\" xlink:href=\"#DejaVuSans-116\"/>\r\n      </g>\r\n     </g>\r\n    </g>\r\n   </g>\r\n  </g>\r\n  <g id=\"axes_2\">\r\n   <g id=\"patch_3\">\r\n    <path clip-path=\"url(#pbe6879ce32)\" d=\"M 451.255 228.439219 \r\nL 451.255 227.589844 \r\nL 451.255 11.848594 \r\nL 451.255 10.999219 \r\nL 462.127 10.999219 \r\nL 462.127 11.848594 \r\nL 462.127 227.589844 \r\nL 462.127 228.439219 \r\nz\r\n\" style=\"fill:#ffffff;stroke:#ffffff;stroke-linejoin:miter;stroke-width:0.01;\"/>\r\n   </g>\r\n   <image height=\"217\" id=\"image6652ec763b\" transform=\"scale(1 -1)translate(0 -217)\" width=\"11\" x=\"451\" xlink:href=\"data:image/png;base64,\r\niVBORw0KGgoAAAANSUhEUgAAAAsAAADZCAYAAAD2WsoCAAABXElEQVR4nO3a0Q3CQAyD4UvvugT77wkr5EOylCL6bEW/HfeAljr3672a16mqrhbFV10iFoxFGDGDgrEvSCOHYeuOGcwx42RZCqXxxPLHJu/16+WndVPOZLAtjXYjl4ZVtC3VblCfCSN5MAIG5XyCGxxRfopuz+hzLrrkugHD1h3DoHVPMdj+eeBp0OTY3U1iSQMNpjCCaYh4x4o0JQ3rRl8dvActjTcwY/lTaRRN7g/msw4wkFnEsG/D2EUYlEb/wskx5gs6qsxtbdJgkUE4+qPMba1ikEGJzsTUDcOAyck0AGPlukHik5oMzxWik+GEPgWfQIaxZHIOo+B7gTGbQXlkkcOQr4G6FBHLM0bLWQwOYV7y8sUmb1p3DGNIdJJGcCmWhrx8CRoUsZ11NFnEp/9Jn2TOGdxiMIfxT+PbyVWxG3ZKGmIwtu5gzrk7xdK4Qxj0L4spRbJuPM7gB223LSOGXFc3AAAAAElFTkSuQmCC\" y=\"-11\"/>\r\n   <g id=\"matplotlib.axis_3\"/>\r\n   <g id=\"matplotlib.axis_4\">\r\n    <g id=\"ytick_18\">\r\n     <g id=\"line2d_35\">\r\n      <defs>\r\n       <path d=\"M 0 0 \r\nL 3.5 0 \r\n\" id=\"m3cf8b1fbc8\" style=\"stroke:#000000;stroke-width:0.8;\"/>\r\n      </defs>\r\n      <g>\r\n       <use style=\"stroke:#000000;stroke-width:0.8;\" x=\"462.127\" xlink:href=\"#m3cf8b1fbc8\" y=\"211.202858\"/>\r\n      </g>\r\n     </g>\r\n     <g id=\"text_35\">\r\n      <!-- −0.2 -->\r\n      <g transform=\"translate(469.127 215.002077)scale(0.1 -0.1)\">\r\n       <defs>\r\n        <path d=\"M 10.59375 35.5 \r\nL 73.1875 35.5 \r\nL 73.1875 27.203125 \r\nL 10.59375 27.203125 \r\nz\r\n\" id=\"DejaVuSans-8722\"/>\r\n        <path d=\"M 10.6875 12.40625 \r\nL 21 12.40625 \r\nL 21 0 \r\nL 10.6875 0 \r\nz\r\n\" id=\"DejaVuSans-46\"/>\r\n        <path d=\"M 19.1875 8.296875 \r\nL 53.609375 8.296875 \r\nL 53.609375 0 \r\nL 7.328125 0 \r\nL 7.328125 8.296875 \r\nQ 12.9375 14.109375 22.625 23.890625 \r\nQ 32.328125 33.6875 34.8125 36.53125 \r\nQ 39.546875 41.84375 41.421875 45.53125 \r\nQ 43.3125 49.21875 43.3125 52.78125 \r\nQ 43.3125 58.59375 39.234375 62.25 \r\nQ 35.15625 65.921875 28.609375 65.921875 \r\nQ 23.96875 65.921875 18.8125 64.3125 \r\nQ 13.671875 62.703125 7.8125 59.421875 \r\nL 7.8125 69.390625 \r\nQ 13.765625 71.78125 18.9375 73 \r\nQ 24.125 74.21875 28.421875 74.21875 \r\nQ 39.75 74.21875 46.484375 68.546875 \r\nQ 53.21875 62.890625 53.21875 53.421875 \r\nQ 53.21875 48.921875 51.53125 44.890625 \r\nQ 49.859375 40.875 45.40625 35.40625 \r\nQ 44.1875 33.984375 37.640625 27.21875 \r\nQ 31.109375 20.453125 19.1875 8.296875 \r\nz\r\n\" id=\"DejaVuSans-50\"/>\r\n       </defs>\r\n       <use xlink:href=\"#DejaVuSans-8722\"/>\r\n       <use x=\"83.789062\" xlink:href=\"#DejaVuSans-48\"/>\r\n       <use x=\"147.412109\" xlink:href=\"#DejaVuSans-46\"/>\r\n       <use x=\"179.199219\" xlink:href=\"#DejaVuSans-50\"/>\r\n      </g>\r\n     </g>\r\n    </g>\r\n    <g id=\"ytick_19\">\r\n     <g id=\"line2d_36\">\r\n      <g>\r\n       <use style=\"stroke:#000000;stroke-width:0.8;\" x=\"462.127\" xlink:href=\"#m3cf8b1fbc8\" y=\"177.835585\"/>\r\n      </g>\r\n     </g>\r\n     <g id=\"text_36\">\r\n      <!-- 0.0 -->\r\n      <g transform=\"translate(469.127 181.634804)scale(0.1 -0.1)\">\r\n       <use xlink:href=\"#DejaVuSans-48\"/>\r\n       <use x=\"63.623047\" xlink:href=\"#DejaVuSans-46\"/>\r\n       <use x=\"95.410156\" xlink:href=\"#DejaVuSans-48\"/>\r\n      </g>\r\n     </g>\r\n    </g>\r\n    <g id=\"ytick_20\">\r\n     <g id=\"line2d_37\">\r\n      <g>\r\n       <use style=\"stroke:#000000;stroke-width:0.8;\" x=\"462.127\" xlink:href=\"#m3cf8b1fbc8\" y=\"144.468312\"/>\r\n      </g>\r\n     </g>\r\n     <g id=\"text_37\">\r\n      <!-- 0.2 -->\r\n      <g transform=\"translate(469.127 148.26753)scale(0.1 -0.1)\">\r\n       <use xlink:href=\"#DejaVuSans-48\"/>\r\n       <use x=\"63.623047\" xlink:href=\"#DejaVuSans-46\"/>\r\n       <use x=\"95.410156\" xlink:href=\"#DejaVuSans-50\"/>\r\n      </g>\r\n     </g>\r\n    </g>\r\n    <g id=\"ytick_21\">\r\n     <g id=\"line2d_38\">\r\n      <g>\r\n       <use style=\"stroke:#000000;stroke-width:0.8;\" x=\"462.127\" xlink:href=\"#m3cf8b1fbc8\" y=\"111.101038\"/>\r\n      </g>\r\n     </g>\r\n     <g id=\"text_38\">\r\n      <!-- 0.4 -->\r\n      <g transform=\"translate(469.127 114.900257)scale(0.1 -0.1)\">\r\n       <defs>\r\n        <path d=\"M 37.796875 64.3125 \r\nL 12.890625 25.390625 \r\nL 37.796875 25.390625 \r\nz\r\nM 35.203125 72.90625 \r\nL 47.609375 72.90625 \r\nL 47.609375 25.390625 \r\nL 58.015625 25.390625 \r\nL 58.015625 17.1875 \r\nL 47.609375 17.1875 \r\nL 47.609375 0 \r\nL 37.796875 0 \r\nL 37.796875 17.1875 \r\nL 4.890625 17.1875 \r\nL 4.890625 26.703125 \r\nz\r\n\" id=\"DejaVuSans-52\"/>\r\n       </defs>\r\n       <use xlink:href=\"#DejaVuSans-48\"/>\r\n       <use x=\"63.623047\" xlink:href=\"#DejaVuSans-46\"/>\r\n       <use x=\"95.410156\" xlink:href=\"#DejaVuSans-52\"/>\r\n      </g>\r\n     </g>\r\n    </g>\r\n    <g id=\"ytick_22\">\r\n     <g id=\"line2d_39\">\r\n      <g>\r\n       <use style=\"stroke:#000000;stroke-width:0.8;\" x=\"462.127\" xlink:href=\"#m3cf8b1fbc8\" y=\"77.733765\"/>\r\n      </g>\r\n     </g>\r\n     <g id=\"text_39\">\r\n      <!-- 0.6 -->\r\n      <g transform=\"translate(469.127 81.532984)scale(0.1 -0.1)\">\r\n       <use xlink:href=\"#DejaVuSans-48\"/>\r\n       <use x=\"63.623047\" xlink:href=\"#DejaVuSans-46\"/>\r\n       <use x=\"95.410156\" xlink:href=\"#DejaVuSans-54\"/>\r\n      </g>\r\n     </g>\r\n    </g>\r\n    <g id=\"ytick_23\">\r\n     <g id=\"line2d_40\">\r\n      <g>\r\n       <use style=\"stroke:#000000;stroke-width:0.8;\" x=\"462.127\" xlink:href=\"#m3cf8b1fbc8\" y=\"44.366492\"/>\r\n      </g>\r\n     </g>\r\n     <g id=\"text_40\">\r\n      <!-- 0.8 -->\r\n      <g transform=\"translate(469.127 48.165711)scale(0.1 -0.1)\">\r\n       <defs>\r\n        <path d=\"M 31.78125 34.625 \r\nQ 24.75 34.625 20.71875 30.859375 \r\nQ 16.703125 27.09375 16.703125 20.515625 \r\nQ 16.703125 13.921875 20.71875 10.15625 \r\nQ 24.75 6.390625 31.78125 6.390625 \r\nQ 38.8125 6.390625 42.859375 10.171875 \r\nQ 46.921875 13.96875 46.921875 20.515625 \r\nQ 46.921875 27.09375 42.890625 30.859375 \r\nQ 38.875 34.625 31.78125 34.625 \r\nz\r\nM 21.921875 38.8125 \r\nQ 15.578125 40.375 12.03125 44.71875 \r\nQ 8.5 49.078125 8.5 55.328125 \r\nQ 8.5 64.0625 14.71875 69.140625 \r\nQ 20.953125 74.21875 31.78125 74.21875 \r\nQ 42.671875 74.21875 48.875 69.140625 \r\nQ 55.078125 64.0625 55.078125 55.328125 \r\nQ 55.078125 49.078125 51.53125 44.71875 \r\nQ 48 40.375 41.703125 38.8125 \r\nQ 48.828125 37.15625 52.796875 32.3125 \r\nQ 56.78125 27.484375 56.78125 20.515625 \r\nQ 56.78125 9.90625 50.3125 4.234375 \r\nQ 43.84375 -1.421875 31.78125 -1.421875 \r\nQ 19.734375 -1.421875 13.25 4.234375 \r\nQ 6.78125 9.90625 6.78125 20.515625 \r\nQ 6.78125 27.484375 10.78125 32.3125 \r\nQ 14.796875 37.15625 21.921875 38.8125 \r\nz\r\nM 18.3125 54.390625 \r\nQ 18.3125 48.734375 21.84375 45.5625 \r\nQ 25.390625 42.390625 31.78125 42.390625 \r\nQ 38.140625 42.390625 41.71875 45.5625 \r\nQ 45.3125 48.734375 45.3125 54.390625 \r\nQ 45.3125 60.0625 41.71875 63.234375 \r\nQ 38.140625 66.40625 31.78125 66.40625 \r\nQ 25.390625 66.40625 21.84375 63.234375 \r\nQ 18.3125 60.0625 18.3125 54.390625 \r\nz\r\n\" id=\"DejaVuSans-56\"/>\r\n       </defs>\r\n       <use xlink:href=\"#DejaVuSans-48\"/>\r\n       <use x=\"63.623047\" xlink:href=\"#DejaVuSans-46\"/>\r\n       <use x=\"95.410156\" xlink:href=\"#DejaVuSans-56\"/>\r\n      </g>\r\n     </g>\r\n    </g>\r\n    <g id=\"ytick_24\">\r\n     <g id=\"line2d_41\">\r\n      <g>\r\n       <use style=\"stroke:#000000;stroke-width:0.8;\" x=\"462.127\" xlink:href=\"#m3cf8b1fbc8\" y=\"10.999219\"/>\r\n      </g>\r\n     </g>\r\n     <g id=\"text_41\">\r\n      <!-- 1.0 -->\r\n      <g transform=\"translate(469.127 14.798437)scale(0.1 -0.1)\">\r\n       <defs>\r\n        <path d=\"M 12.40625 8.296875 \r\nL 28.515625 8.296875 \r\nL 28.515625 63.921875 \r\nL 10.984375 60.40625 \r\nL 10.984375 69.390625 \r\nL 28.421875 72.90625 \r\nL 38.28125 72.90625 \r\nL 38.28125 8.296875 \r\nL 54.390625 8.296875 \r\nL 54.390625 0 \r\nL 12.40625 0 \r\nz\r\n\" id=\"DejaVuSans-49\"/>\r\n       </defs>\r\n       <use xlink:href=\"#DejaVuSans-49\"/>\r\n       <use x=\"63.623047\" xlink:href=\"#DejaVuSans-46\"/>\r\n       <use x=\"95.410156\" xlink:href=\"#DejaVuSans-48\"/>\r\n      </g>\r\n     </g>\r\n    </g>\r\n   </g>\r\n   <g id=\"patch_4\">\r\n    <path d=\"M 451.255 228.439219 \r\nL 451.255 227.589844 \r\nL 451.255 11.848594 \r\nL 451.255 10.999219 \r\nL 462.127 10.999219 \r\nL 462.127 11.848594 \r\nL 462.127 227.589844 \r\nL 462.127 228.439219 \r\nz\r\n\" style=\"fill:none;\"/>\r\n   </g>\r\n  </g>\r\n </g>\r\n <defs>\r\n  <clipPath id=\"pb54b6ebb95\">\r\n   <rect height=\"217.44\" width=\"267.84\" x=\"166.675\" y=\"10.999219\"/>\r\n  </clipPath>\r\n  <clipPath id=\"pbe6879ce32\">\r\n   <rect height=\"217.44\" width=\"10.872\" x=\"451.255\" y=\"10.999219\"/>\r\n  </clipPath>\r\n </defs>\r\n</svg>\r\n",
      "image/png": "[encoded data removed]"
     },
     "metadata": {
      "needs_background": "light"
     }
    }
   ],
   "source": [
    "sns.heatmap(df_1drop[df_1drop.columns[0:]].corr(), annot=False, fmt=\".1f\");"
   ]
  },
  {
   "source": [
    "Para una primera aproximación, se van a tener en cuenta las variables que tiene una alta correlación con la variable \"price\""
   ],
   "cell_type": "markdown",
   "metadata": {}
  },
  {
   "cell_type": "code",
   "execution_count": 10,
   "metadata": {},
   "outputs": [],
   "source": [
    "to_sel = ['accommodates','bathrooms', 'bedrooms', 'beds','price', 'security_deposit', 'cleaning_fee', 'guests_included', 'extra_people'] \n",
    "df_aprox1 = df_1drop.loc[:, to_sel]"
   ]
  },
  {
   "source": [
    "Se genera dataset eliminando las filas que tengan al menos un NaN "
   ],
   "cell_type": "markdown",
   "metadata": {}
  },
  {
   "cell_type": "code",
   "execution_count": 11,
   "metadata": {},
   "outputs": [
    {
     "output_type": "execute_result",
     "data": {
      "text/plain": [
       "       accommodates    bathrooms     bedrooms         beds        price  \\\n",
       "count   1689.000000  1689.000000  1689.000000  1689.000000  1689.000000   \n",
       "mean       3.848431     1.333629     1.465364     1.971581   145.480166   \n",
       "std        2.253381     0.655025     1.026954     1.310872   102.624302   \n",
       "min        1.000000     0.000000     0.000000     1.000000    28.000000   \n",
       "25%        2.000000     1.000000     1.000000     1.000000    85.000000   \n",
       "50%        4.000000     1.000000     1.000000     2.000000   115.000000   \n",
       "75%        5.000000     1.500000     2.000000     3.000000   170.000000   \n",
       "max       16.000000     4.500000     7.000000    15.000000   999.000000   \n",
       "\n",
       "       security_deposit  cleaning_fee  guests_included  extra_people  \n",
       "count       1689.000000   1689.000000      1689.000000   1689.000000  \n",
       "mean         292.399645     67.898165         2.074600     14.761397  \n",
       "std          273.171920     48.966308         1.609473     19.127702  \n",
       "min           95.000000      5.000000         0.000000      0.000000  \n",
       "25%          150.000000     35.000000         1.000000      0.000000  \n",
       "50%          250.000000     55.000000         2.000000     10.000000  \n",
       "75%          350.000000     90.000000         2.000000     25.000000  \n",
       "max         5000.000000    300.000000        13.000000    300.000000  "
      ],
      "text/html": "<div>\n<style scoped>\n    .dataframe tbody tr th:only-of-type {\n        vertical-align: middle;\n    }\n\n    .dataframe tbody tr th {\n        vertical-align: top;\n    }\n\n    .dataframe thead th {\n        text-align: right;\n    }\n</style>\n<table border=\"1\" class=\"dataframe\">\n  <thead>\n    <tr style=\"text-align: right;\">\n      <th></th>\n      <th>accommodates</th>\n      <th>bathrooms</th>\n      <th>bedrooms</th>\n      <th>beds</th>\n      <th>price</th>\n      <th>security_deposit</th>\n      <th>cleaning_fee</th>\n      <th>guests_included</th>\n      <th>extra_people</th>\n    </tr>\n  </thead>\n  <tbody>\n    <tr>\n      <th>count</th>\n      <td>1689.000000</td>\n      <td>1689.000000</td>\n      <td>1689.000000</td>\n      <td>1689.000000</td>\n      <td>1689.000000</td>\n      <td>1689.000000</td>\n      <td>1689.000000</td>\n      <td>1689.000000</td>\n      <td>1689.000000</td>\n    </tr>\n    <tr>\n      <th>mean</th>\n      <td>3.848431</td>\n      <td>1.333629</td>\n      <td>1.465364</td>\n      <td>1.971581</td>\n      <td>145.480166</td>\n      <td>292.399645</td>\n      <td>67.898165</td>\n      <td>2.074600</td>\n      <td>14.761397</td>\n    </tr>\n    <tr>\n      <th>std</th>\n      <td>2.253381</td>\n      <td>0.655025</td>\n      <td>1.026954</td>\n      <td>1.310872</td>\n      <td>102.624302</td>\n      <td>273.171920</td>\n      <td>48.966308</td>\n      <td>1.609473</td>\n      <td>19.127702</td>\n    </tr>\n    <tr>\n      <th>min</th>\n      <td>1.000000</td>\n      <td>0.000000</td>\n      <td>0.000000</td>\n      <td>1.000000</td>\n      <td>28.000000</td>\n      <td>95.000000</td>\n      <td>5.000000</td>\n      <td>0.000000</td>\n      <td>0.000000</td>\n    </tr>\n    <tr>\n      <th>25%</th>\n      <td>2.000000</td>\n      <td>1.000000</td>\n      <td>1.000000</td>\n      <td>1.000000</td>\n      <td>85.000000</td>\n      <td>150.000000</td>\n      <td>35.000000</td>\n      <td>1.000000</td>\n      <td>0.000000</td>\n    </tr>\n    <tr>\n      <th>50%</th>\n      <td>4.000000</td>\n      <td>1.000000</td>\n      <td>1.000000</td>\n      <td>2.000000</td>\n      <td>115.000000</td>\n      <td>250.000000</td>\n      <td>55.000000</td>\n      <td>2.000000</td>\n      <td>10.000000</td>\n    </tr>\n    <tr>\n      <th>75%</th>\n      <td>5.000000</td>\n      <td>1.500000</td>\n      <td>2.000000</td>\n      <td>3.000000</td>\n      <td>170.000000</td>\n      <td>350.000000</td>\n      <td>90.000000</td>\n      <td>2.000000</td>\n      <td>25.000000</td>\n    </tr>\n    <tr>\n      <th>max</th>\n      <td>16.000000</td>\n      <td>4.500000</td>\n      <td>7.000000</td>\n      <td>15.000000</td>\n      <td>999.000000</td>\n      <td>5000.000000</td>\n      <td>300.000000</td>\n      <td>13.000000</td>\n      <td>300.000000</td>\n    </tr>\n  </tbody>\n</table>\n</div>"
     },
     "metadata": {},
     "execution_count": 11
    }
   ],
   "source": [
    "df_totrain1 = df_aprox1.dropna(axis = 0, how = 'any')\n",
    "df_totrain1.describe()"
   ]
  },
  {
   "source": [
    "Se crea el dataframe X de caracteristicas el dataframe Y que es la columna del precio nuestro target "
   ],
   "cell_type": "markdown",
   "metadata": {}
  },
  {
   "cell_type": "code",
   "execution_count": 12,
   "metadata": {},
   "outputs": [],
   "source": [
    "X = df_totrain1.drop(['price'],axis = 1)\n",
    "y = df_totrain1['price']"
   ]
  },
  {
   "source": [
    "Se divide el dataset en los conjuntos de entrenamiento y test, se crea un scaler a partir delos datos de entrenamiento y se normalizan los datos tanto de entrenamiento como de test."
   ],
   "cell_type": "markdown",
   "metadata": {}
  },
  {
   "cell_type": "code",
   "execution_count": 13,
   "metadata": {},
   "outputs": [
    {
     "output_type": "stream",
     "name": "stdout",
     "text": [
      "Shape X_train = (1351, 8), Shape y_train = (1351,), Shape X_test = (338, 8), Shape y_test = (338,)\n"
     ]
    }
   ],
   "source": [
    "X_train, X_test, y_train, y_test = train_test_split(X, y, test_size = .20, random_state=42)\n",
    "scaler = StandardScaler()\n",
    "scaler.fit(X_train)\n",
    "X_train = scaler.transform(X_train)\n",
    "X_test = scaler.transform(X_test)\n",
    "print(\"Shape X_train = {}, Shape y_train = {}, Shape X_test = {}, Shape y_test = {}\".format(X_train.shape, y_train.shape, X_test.shape, y_test.shape))"
   ]
  },
  {
   "source": [
    "Se crean y entrenan los modelos de regresión lineal, random forest, y SVR. Se comparan con respecto al R2 score"
   ],
   "cell_type": "markdown",
   "metadata": {}
  },
  {
   "cell_type": "code",
   "execution_count": 22,
   "metadata": {},
   "outputs": [
    {
     "output_type": "execute_result",
     "data": {
      "text/plain": [
       "                      Train r2 score Test r2 score     Test MSE\n",
       "LinearRegression            0.609324      0.488408  5329.310089\n",
       "RandomForestRegressor       0.939896      0.458012  5645.949309\n",
       "SVR                          0.65609      0.481661  5399.589944"
      ],
      "text/html": "<div>\n<style scoped>\n    .dataframe tbody tr th:only-of-type {\n        vertical-align: middle;\n    }\n\n    .dataframe tbody tr th {\n        vertical-align: top;\n    }\n\n    .dataframe thead th {\n        text-align: right;\n    }\n</style>\n<table border=\"1\" class=\"dataframe\">\n  <thead>\n    <tr style=\"text-align: right;\">\n      <th></th>\n      <th>Train r2 score</th>\n      <th>Test r2 score</th>\n      <th>Test MSE</th>\n    </tr>\n  </thead>\n  <tbody>\n    <tr>\n      <th>LinearRegression</th>\n      <td>0.609324</td>\n      <td>0.488408</td>\n      <td>5329.310089</td>\n    </tr>\n    <tr>\n      <th>RandomForestRegressor</th>\n      <td>0.939896</td>\n      <td>0.458012</td>\n      <td>5645.949309</td>\n    </tr>\n    <tr>\n      <th>SVR</th>\n      <td>0.65609</td>\n      <td>0.481661</td>\n      <td>5399.589944</td>\n    </tr>\n  </tbody>\n</table>\n</div>"
     },
     "metadata": {},
     "execution_count": 22
    }
   ],
   "source": [
    "lr_model = LinearRegression()\n",
    "rf_model = RandomForestRegressor(n_estimators=100, criterion = 'mse')\n",
    "sv_model = SVR(kernel= 'rbf', C= 1000, gamma= 0.01, epsilon=1, cache_size = 500)\n",
    "models = [lr_model, rf_model, sv_model]\n",
    "index=['LinearRegression','RandomForestRegressor','SVR']\n",
    "columns=['Train r2 score','Test r2 score','Test MSE']\n",
    "columns_plot=['Y test','error_LR','error_RF','error_SV']\n",
    "df_summary=pd.DataFrame(data=None,index=index,columns=columns)\n",
    "df_plot=pd.DataFrame(data=None,columns=columns_plot)\n",
    "df_plot['Y test'] = y_test.values\n",
    "for n,model in enumerate(models):\n",
    "    model.fit(X_train, y_train)\n",
    "    y_train_preds = model.predict(X_train)\n",
    "    y_test_preds = model.predict(X_test)\n",
    "    score = []\n",
    "    score.append(r2_score(y_train, y_train_preds))\n",
    "    score.append(r2_score(y_test, y_test_preds))\n",
    "    score.append(mean_squared_error(y_test, y_test_preds))\n",
    "    df_summary.loc[df_summary.index[n]] = score\n",
    "    error = (np.abs(y_test-y_test_preds)/y_test)*100\n",
    "    df_plot.loc[:,df_plot.columns[n+1]] = np.array(error)\n",
    "df_summary\n"
   ]
  },
  {
   "cell_type": "code",
   "execution_count": 36,
   "metadata": {},
   "outputs": [],
   "source": [
    "from plotly.subplots import make_subplots\n",
    "import plotly.graph_objects as go"
   ]
  },
  {
   "cell_type": "code",
   "execution_count": 52,
   "metadata": {},
   "outputs": [
    {
     "output_type": "display_data",
     "data": {
      "application/vnd.plotly.v1+json": {
       "config": {
        "plotlyServerURL": "https://plot.ly"
       },
       "data": [
        {
         "mode": "markers",
         "name": "error_LR",
         "type": "scatter",
         "x": [
          79,
          149,
          225,
          125,
          75,
          120,
          115,
          42,
          108,
          35,
          150,
          245,
          350,
          41,
          45,
          165,
          285,
          94,
          87,
          75,
          287,
          98,
          144,
          175,
          200,
          195,
          150,
          100,
          95,
          79,
          125,
          117,
          300,
          225,
          49,
          325,
          100,
          225,
          190,
          125,
          97,
          150,
          183,
          85,
          125,
          75,
          115,
          150,
          90,
          160,
          150,
          89,
          149,
          249,
          99,
          89,
          110,
          115,
          69,
          120,
          300,
          115,
          249,
          35,
          250,
          100,
          115,
          79,
          100,
          65,
          129,
          115,
          110,
          400,
          129,
          500,
          139,
          400,
          103,
          168,
          87,
          209,
          95,
          90,
          225,
          40,
          100,
          165,
          99,
          72,
          61,
          115,
          69,
          50,
          93,
          69,
          300,
          74,
          99,
          219,
          85,
          119,
          115,
          145,
          99,
          125,
          150,
          175,
          175,
          80,
          220,
          85,
          150,
          225,
          91,
          115,
          110,
          199,
          98,
          150,
          145,
          189,
          80,
          169,
          50,
          95,
          40,
          225,
          97,
          80,
          68,
          250,
          70,
          250,
          300,
          149,
          40,
          127,
          175,
          60,
          100,
          55,
          180,
          139,
          299,
          65,
          63,
          100,
          155,
          210,
          75,
          115,
          119,
          295,
          135,
          348,
          155,
          125,
          550,
          150,
          200,
          252,
          105,
          150,
          105,
          145,
          119,
          94,
          250,
          175,
          135,
          190,
          85,
          40,
          245,
          350,
          70,
          130,
          125,
          109,
          90,
          95,
          180,
          90,
          39,
          79,
          129,
          45,
          199,
          99,
          65,
          95,
          145,
          115,
          175,
          425,
          95,
          108,
          125,
          94,
          180,
          180,
          125,
          95,
          90,
          100,
          89,
          115,
          95,
          250,
          95,
          90,
          99,
          115,
          80,
          122,
          295,
          100,
          60,
          74,
          90,
          180,
          51,
          70,
          129,
          119,
          129,
          100,
          139,
          49,
          45,
          70,
          34,
          109,
          295,
          127,
          85,
          130,
          79,
          275,
          120,
          39,
          240,
          87,
          65,
          165,
          259,
          119,
          80,
          117,
          169,
          100,
          250,
          115,
          150,
          99,
          225,
          35,
          111,
          140,
          53,
          196,
          124,
          170,
          150,
          300,
          95,
          165,
          129,
          50,
          999,
          95,
          65,
          100,
          239,
          275,
          110,
          129,
          65,
          45,
          250,
          40,
          175,
          100,
          400,
          45,
          99,
          270,
          175,
          750,
          42,
          200,
          75,
          125,
          115,
          100,
          300,
          400,
          128,
          350,
          110,
          375,
          59,
          70,
          50,
          224,
          115,
          119,
          218,
          68,
          450,
          160,
          149,
          115,
          195,
          105,
          99,
          156,
          99,
          160,
          115,
          68,
          69,
          125,
          350,
          69,
          50,
          109,
          218,
          220,
          47,
          65,
          280,
          215,
          99,
          155,
          60,
          129
         ],
         "xaxis": "x",
         "y": [
          14.567589065589459,
          11.086065626865405,
          3.9951176730876594,
          20.306702507089916,
          16.24957258823099,
          10.501501490871105,
          31.285642204431248,
          96.77222917159328,
          37.22813089986224,
          158.31849974467846,
          33.02146164986588,
          13.140579716418834,
          44.48430279053525,
          101.45578256224172,
          102.17008340040574,
          32.43974832875639,
          14.46025675968617,
          23.38164986018991,
          0.9671437804132109,
          140.0830135079047,
          13.336854385507504,
          0.4640859523148293,
          18.549479470968645,
          42.395984254676186,
          17.07810794268734,
          28.021825758605235,
          28.78579952769515,
          8.961270427489637,
          100.58193801041648,
          28.215464547246132,
          30.23110647580287,
          14.264019087476697,
          17.87953202345585,
          30.44724081504037,
          161.19483519558986,
          16.788336774220415,
          19.451443671204657,
          19.793824798803055,
          19.128584038141188,
          15.811174324713193,
          1.2391853695505137,
          10.737248867073049,
          36.01618709992383,
          17.502434774138933,
          18.593863111152938,
          2.785244360271993,
          26.6735913387035,
          13.729454378520927,
          4.090197985938175,
          26.52537115056603,
          34.3183062480202,
          1.2369264018645916,
          21.282718414895875,
          1.8287043381499106,
          26.04744752186615,
          14.814009286339896,
          46.43151703912317,
          52.48181527498901,
          5.927984736943561,
          16.063453809178263,
          18.685487849885323,
          3.0958683376624787,
          28.206924870617105,
          106.84461672963599,
          4.337417600012998,
          5.4373109887942235,
          37.90096252406944,
          74.95448178517415,
          6.537278219873315,
          34.40920957247528,
          25.528801052460604,
          2.0205638912026957,
          2.5234581384087047,
          2.211746474047999,
          20.711433545862214,
          52.11515113518268,
          11.680609239815858,
          34.64381557516009,
          18.583020105641506,
          21.428835596765104,
          0.09935750201405286,
          9.60511816638463,
          21.827768239496454,
          27.06874038160848,
          44.55437628560232,
          106.61084063017294,
          32.67502438837599,
          17.727879517544686,
          93.92892599305857,
          1.2308048082674126,
          117.43534663053998,
          37.37476732690062,
          32.05262721956411,
          74.21496553576884,
          4.887307276055341,
          12.766930984808416,
          32.20070879156,
          25.6598376518268,
          4.281756600129762,
          46.443493350773906,
          6.321249053691531,
          25.66954355528716,
          28.83016678857637,
          37.16496961766256,
          26.53747601993465,
          47.9113417749094,
          43.544425506987054,
          25.894838354872295,
          12.517216036065829,
          33.30091696065249,
          50.807699688765695,
          6.45012098165015,
          3.6277777230584243,
          13.445655204603629,
          32.88959888179189,
          7.481777763449847,
          10.645813823265371,
          2.905787273274453,
          13.145135297313178,
          30.100986901319658,
          15.620947466659599,
          32.57551522414808,
          105.24183842474422,
          12.52654593482965,
          42.876614149505514,
          18.5946126871165,
          106.61084063017294,
          19.943481910411556,
          3.965992286677358,
          10.702116156559054,
          0.8663018234233988,
          36.95026810016716,
          39.87125609082779,
          26.440799911291275,
          7.009631709148001,
          76.29729197778194,
          106.61084063017294,
          23.025673044140433,
          68.58271439446455,
          30.882385814719367,
          22.674007058489963,
          40.16169685491636,
          52.37887342261227,
          24.615785162891314,
          26.194458333470514,
          52.8181605889163,
          103.15153848545877,
          28.561692925247247,
          8.772290231630054,
          0.9752700631014747,
          2.520748420717647,
          2.818058486179162,
          18.73540904223887,
          15.348221388774007,
          11.55057914870019,
          44.598915529995544,
          17.48201577447569,
          2.8861460858210193,
          13.984163792373797,
          0.7461564148633405,
          31.913396828570527,
          19.911302626376447,
          5.494072841812189,
          47.04505582647441,
          73.28819612866559,
          42.54939083121142,
          6.525507577631832,
          63.31092160331746,
          8.327480614162686,
          40.05554929279803,
          24.995559014762083,
          104.13460484567747,
          11.76990144283451,
          106.61084063017294,
          14.602557333799046,
          51.51168026138868,
          37.90548867055893,
          15.27813528142017,
          38.44849116203611,
          26.717831196180953,
          42.8922609020557,
          14.171073422420836,
          24.501411691715212,
          9.913621019753123,
          111.78684833466438,
          62.25374238948085,
          8.22265927634967,
          88.05482724178938,
          13.22292509085107,
          21.23015926773502,
          34.27254677878151,
          52.07945270451426,
          21.81414146927471,
          37.332083734197916,
          1.5559403076908407,
          40.09471984712365,
          0.25151477276680406,
          8.940485182150292,
          27.474005492037623,
          84.37129456340124,
          17.556897107176106,
          34.83958357677492,
          25.293103795723436,
          3.540224821252997,
          4.047211634115623,
          11.286309138911221,
          31.265599992760468,
          13.06539920697068,
          8.012493758231502,
          23.15816469202778,
          2.8377736460020895,
          31.306730086351784,
          14.071775074023776,
          16.8153566449768,
          13.924494386341202,
          21.686899757325858,
          0.7794647701823539,
          19.58396092997424,
          22.175991153533303,
          3.7298174052878412,
          14.082230064988849,
          33.75157657148111,
          28.453366258071856,
          9.438718803661093,
          53.65690233235196,
          11.071215390363038,
          34.044153135085544,
          57.66144657363759,
          39.56218641090904,
          30.04369566683166,
          53.98815160634564,
          11.155974827882583,
          142.9319730897621,
          10.164633541093755,
          9.513067998136032,
          1.6084476742343206,
          22.748029931674125,
          12.611297184005732,
          30.57081835716513,
          21.93612719336943,
          23.33631659248082,
          91.49886105849127,
          12.744052358897589,
          82.93277020259276,
          36.37781326453316,
          3.99284316940671,
          28.892305749296156,
          15.711983342852909,
          41.23201232397271,
          128.9048224020927,
          33.88324890906108,
          5.50317552957128,
          13.79625244302815,
          9.602391853598064,
          23.00863986837199,
          1.481332045522241,
          41.925306971818095,
          121.74517264243443,
          47.67623914220319,
          32.31352788152033,
          20.2290771259387,
          21.747857734902883,
          9.889266658317117,
          4.46097041807872,
          14.777169695198552,
          38.19627978583255,
          8.065627719052022,
          4.41268478140125,
          1.468216204436623,
          74.32887440802378,
          87.13360381979349,
          16.661355863476352,
          121.70203619022774,
          2.377541653142842,
          51.98527292718488,
          28.85257002911463,
          32.84829430623014,
          39.54114880491414,
          21.325714421113407,
          63.41901364889241,
          27.72662303298979,
          110.71654457546978,
          30.352639428969336,
          51.19183571736832,
          14.007853088397354,
          75.24825416383048,
          46.73792461057951,
          11.01026057866395,
          6.522480234668916,
          29.959009449018627,
          96.77222917159328,
          18.330397784481164,
          31.580265661962358,
          63.329280179289825,
          19.463111205239713,
          38.5028601399417,
          32.20070879156,
          63.69779679808668,
          17.9069648341158,
          38.755118949847564,
          18.835040053850207,
          11.090051632309649,
          93.22892587651714,
          19.68269483976749,
          84.90439527135973,
          16.326925702432455,
          0.11475217183525056,
          21.19145130701209,
          104.9914484010706,
          39.354501420399316,
          31.47278476572413,
          3.11593932339596,
          19.088479395171248,
          34.44401314471777,
          50.28729798601368,
          4.446244201583503,
          10.30134353413705,
          39.158279007979566,
          11.650563895183208,
          46.82309846516272,
          0.0684861418518593,
          65.1001132888228,
          7.698442836694657,
          10.66562512692086,
          16.527236785371606,
          10.445539777308081,
          65.28867250413836,
          0.783491128913021,
          32.69727792607064,
          5.214373055358149,
          75.5269890918856,
          1.9670601896192117,
          7.002991758743958,
          3.7456930206448713,
          24.4965091160805,
          24.631418897769503,
          41.13893623253238,
          25.528801052460604
         ],
         "yaxis": "y"
        },
        {
         "mode": "markers",
         "name": "error_RF",
         "type": "scatter",
         "x": [
          79,
          149,
          225,
          125,
          75,
          120,
          115,
          42,
          108,
          35,
          150,
          245,
          350,
          41,
          45,
          165,
          285,
          94,
          87,
          75,
          287,
          98,
          144,
          175,
          200,
          195,
          150,
          100,
          95,
          79,
          125,
          117,
          300,
          225,
          49,
          325,
          100,
          225,
          190,
          125,
          97,
          150,
          183,
          85,
          125,
          75,
          115,
          150,
          90,
          160,
          150,
          89,
          149,
          249,
          99,
          89,
          110,
          115,
          69,
          120,
          300,
          115,
          249,
          35,
          250,
          100,
          115,
          79,
          100,
          65,
          129,
          115,
          110,
          400,
          129,
          500,
          139,
          400,
          103,
          168,
          87,
          209,
          95,
          90,
          225,
          40,
          100,
          165,
          99,
          72,
          61,
          115,
          69,
          50,
          93,
          69,
          300,
          74,
          99,
          219,
          85,
          119,
          115,
          145,
          99,
          125,
          150,
          175,
          175,
          80,
          220,
          85,
          150,
          225,
          91,
          115,
          110,
          199,
          98,
          150,
          145,
          189,
          80,
          169,
          50,
          95,
          40,
          225,
          97,
          80,
          68,
          250,
          70,
          250,
          300,
          149,
          40,
          127,
          175,
          60,
          100,
          55,
          180,
          139,
          299,
          65,
          63,
          100,
          155,
          210,
          75,
          115,
          119,
          295,
          135,
          348,
          155,
          125,
          550,
          150,
          200,
          252,
          105,
          150,
          105,
          145,
          119,
          94,
          250,
          175,
          135,
          190,
          85,
          40,
          245,
          350,
          70,
          130,
          125,
          109,
          90,
          95,
          180,
          90,
          39,
          79,
          129,
          45,
          199,
          99,
          65,
          95,
          145,
          115,
          175,
          425,
          95,
          108,
          125,
          94,
          180,
          180,
          125,
          95,
          90,
          100,
          89,
          115,
          95,
          250,
          95,
          90,
          99,
          115,
          80,
          122,
          295,
          100,
          60,
          74,
          90,
          180,
          51,
          70,
          129,
          119,
          129,
          100,
          139,
          49,
          45,
          70,
          34,
          109,
          295,
          127,
          85,
          130,
          79,
          275,
          120,
          39,
          240,
          87,
          65,
          165,
          259,
          119,
          80,
          117,
          169,
          100,
          250,
          115,
          150,
          99,
          225,
          35,
          111,
          140,
          53,
          196,
          124,
          170,
          150,
          300,
          95,
          165,
          129,
          50,
          999,
          95,
          65,
          100,
          239,
          275,
          110,
          129,
          65,
          45,
          250,
          40,
          175,
          100,
          400,
          45,
          99,
          270,
          175,
          750,
          42,
          200,
          75,
          125,
          115,
          100,
          300,
          400,
          128,
          350,
          110,
          375,
          59,
          70,
          50,
          224,
          115,
          119,
          218,
          68,
          450,
          160,
          149,
          115,
          195,
          105,
          99,
          156,
          99,
          160,
          115,
          68,
          69,
          125,
          350,
          69,
          50,
          109,
          218,
          220,
          47,
          65,
          280,
          215,
          99,
          155,
          60,
          129
         ],
         "xaxis": "x2",
         "y": [
          3.684599156118156,
          3.859060402684564,
          0.022222222222227275,
          9.936476190476208,
          18.335111111111114,
          8.575000000000005,
          37.996376811594196,
          4.581995003293114,
          15.638888888888888,
          129.97571428571428,
          39.26666666666667,
          1.6408163265306166,
          48.754285714285714,
          13.482975222609378,
          73.24777777777778,
          27.727272727272727,
          10.821052631578947,
          20.441489361702132,
          45.815517241379325,
          87.66666666666667,
          3.8397212543553945,
          14.318027210884354,
          9.037828769804987,
          20.4672380952381,
          23.125,
          35.14871794871795,
          22.919999999999995,
          2.0652380952380867,
          57.52631578947369,
          39.28881856540083,
          4.060000000000002,
          12.47321937321936,
          1.7999999999999925,
          33.39555555555555,
          13.869387755102053,
          22.49538461538462,
          13.36,
          27.35555555555556,
          52.81842105263159,
          26.448,
          3.847938144329899,
          18.360000000000003,
          0.7286214023562556,
          15.28627450980393,
          18.754666666666676,
          10.666793650793654,
          73.13913043478261,
          14.983333333333329,
          18.656613756613734,
          35.0875,
          2.640000000000005,
          35.31460674157304,
          5.378841227194082,
          4.702811244979923,
          14.353535353535346,
          17.378277153558038,
          21.690909090909102,
          21.878260869565214,
          16.46739130434782,
          11.163888888888897,
          12.923333333333328,
          23.295652173913037,
          29.220883534136544,
          31.29514211352557,
          12.727999999999998,
          1.8901666666666583,
          16.632463768115947,
          59.12658227848101,
          21.560000000000002,
          1.2417032967032837,
          20.087855297157628,
          4.252173913043479,
          10.802272727272722,
          8.417500000000004,
          0.8475452196382433,
          39.415,
          1.0287769784172711,
          27.9225,
          13.961165048543686,
          25.93650793650793,
          4.26264367816092,
          8.617224880382771,
          10.419711779448598,
          8.004153439153454,
          13.12918518518518,
          9.81109475345777,
          53.75,
          20.18686868686869,
          106.1919191919192,
          34.07407407407409,
          26.655737704918042,
          11.178260869565221,
          19.47053140096619,
          39.69999999999999,
          9.71146953405018,
          15.625396825396818,
          43.07666666666666,
          48.18761261261261,
          38.14225589225591,
          28.303893411635077,
          4.391372549019599,
          19.40196078431373,
          20.588405797101444,
          13.448275862068964,
          51.39393939393939,
          61.407999999999994,
          4.233333333333329,
          50.57714285714285,
          17.794285714285706,
          23.79223214285716,
          41.05462121212121,
          8.552941176470584,
          17.626666666666665,
          19.040000000000003,
          27.18681318681318,
          9.513043478260867,
          37.218939393939394,
          4.386934673366829,
          14.822108843537398,
          20.417111111111108,
          11.155172413793093,
          29.96825396825396,
          129.375,
          5.585798816568046,
          62.396000000000015,
          40.4,
          9.81109475345777,
          28.20888888888889,
          17.39518900343643,
          1.4975000000000094,
          55.41740196078428,
          12.024000000000001,
          30.785714285714285,
          15.575999999999999,
          50.85666666666666,
          166.3221476510067,
          9.81109475345777,
          10.631036745406828,
          81.22285714285712,
          56.78333333333332,
          53.31351119842489,
          50.90926406926407,
          67.53888888888888,
          1.122302158273383,
          61.943143812709025,
          47.75615384615384,
          11.434920634920624,
          18.801999999999992,
          1.116129032258058,
          13.019047619047623,
          21.933333333333337,
          6.243478260869571,
          11.646878751500617,
          14.571186440677971,
          13.022222222222233,
          27.695402298850574,
          33.245161290322585,
          8.792000000000007,
          9.399999999999997,
          22.17333333333333,
          38.48915705128204,
          11.071428571428562,
          21.56870748299318,
          35.61780952380953,
          60.56190476190476,
          16.34482758620689,
          15.210084033613441,
          126.24468085106382,
          5.9919999999999956,
          10.634285714285722,
          12.212345679012323,
          111.29473684210525,
          20.364705882352943,
          9.81109475345777,
          69.96734693877552,
          48.754285714285714,
          78.15170068027209,
          18.370512820512825,
          4.165999999999997,
          20.634556574923554,
          42.77407407407408,
          5.5929824561403505,
          27.151851851851855,
          14.360317460317445,
          9.046204721204731,
          66.05169719336111,
          24.198966408268735,
          59.50777777777776,
          27.46733668341708,
          14.858585858585851,
          6.605128205128211,
          22.12631578947368,
          15.193103448275863,
          8.421739130434784,
          12.49142857142858,
          28.966274509803924,
          43.95877192982458,
          43.898148148148145,
          11.433142857142865,
          88.35106382978725,
          5.861111111111118,
          12.76973698415601,
          19.213333333333342,
          22.740350877192988,
          56.91111111111111,
          22.249999999999986,
          26.820224719101127,
          11.521739130434783,
          12.478947368421071,
          19.531999999999993,
          4.321102756892237,
          44.71666666666667,
          26.41077441077441,
          12.844202898550709,
          35.158630952380946,
          9.98251366120219,
          9.098305084745755,
          8.540000000000006,
          8.298796550671549,
          10.23648648648649,
          48.126123553805435,
          25.34444444444445,
          0.06666666666666456,
          35.280782312925176,
          20.01550387596899,
          17.949579831932773,
          27.619121447028427,
          71.66999999999999,
          5.532374100719423,
          9.423877256530314,
          74.69703703703702,
          16.83074829931972,
          4.329353408029866,
          59.629969418960215,
          13.888135593220339,
          4.692913385826767,
          43.066666666666684,
          19.124999999999996,
          11.88607594936709,
          24.203636363636363,
          20.697222222222216,
          86.91923076923077,
          3.674999999999997,
          22.89942528735632,
          54.12564102564104,
          6.059595959595961,
          32.583011583011576,
          19,
          44.925,
          83.46153846153847,
          33.25739644970414,
          4.290000000000006,
          7.540000000000009,
          5.478260869565215,
          30.906666666666666,
          8.86868686868687,
          39.78684303350969,
          65.35714285714286,
          31.092342342342345,
          2.313690476190463,
          1.1654714258487813,
          17.908163265306122,
          9.036290322580644,
          11.713725490196076,
          16.646666666666665,
          52.6,
          13.947581453634077,
          10.709090909090902,
          44.98002735978111,
          70.48833333333334,
          87.77794461127795,
          3.0258145363408655,
          15.12564102564102,
          1.5799999999999985,
          26.037308228730833,
          42.36363636363637,
          38.63181818181818,
          0.15568475452195443,
          14.930409035408992,
          0.21407407407407517,
          23.103999999999996,
          206.17916666666667,
          2.3689795918367214,
          59.87166666666665,
          27.19750000000001,
          66.0105908289241,
          52.87878787878787,
          19.785185185185192,
          6.674285714285719,
          32.97142857142857,
          4.581995003293114,
          9.954999999999998,
          34.279999999999994,
          112.71999999999997,
          14.887370600414071,
          34.49000000000001,
          43.07666666666666,
          57.885,
          5.718749999999995,
          36.34571428571429,
          11.490909090909092,
          3.786666666666664,
          69.72881355932203,
          19.992857142857147,
          104.74000000000001,
          49.89285714285714,
          7.485217391304339,
          5.386554621848736,
          99.25688073394495,
          101.11887254901963,
          48.27111111111111,
          12.858333333333343,
          31.49664429530202,
          18.820434782608697,
          56.57606837606836,
          1.9428571428571488,
          15.383838383838388,
          34.65438034188034,
          82.57575757575758,
          41.64291666666667,
          0.47826086956521496,
          67.6813725490196,
          0,
          33.57999999999999,
          32.39142857142857,
          5.997032436162897,
          12.151124197233784,
          23.99847094801223,
          30.8394495412844,
          5.795454545454545,
          10.306934672892163,
          17.511230991230995,
          6.410714285714282,
          11.093023255813952,
          42.17987214406203,
          18.954838709677414,
          160.58333333333331,
          20.087855297157628
         ],
         "yaxis": "y2"
        },
        {
         "mode": "markers",
         "name": "error_SV",
         "type": "scatter",
         "x": [
          79,
          149,
          225,
          125,
          75,
          120,
          115,
          42,
          108,
          35,
          150,
          245,
          350,
          41,
          45,
          165,
          285,
          94,
          87,
          75,
          287,
          98,
          144,
          175,
          200,
          195,
          150,
          100,
          95,
          79,
          125,
          117,
          300,
          225,
          49,
          325,
          100,
          225,
          190,
          125,
          97,
          150,
          183,
          85,
          125,
          75,
          115,
          150,
          90,
          160,
          150,
          89,
          149,
          249,
          99,
          89,
          110,
          115,
          69,
          120,
          300,
          115,
          249,
          35,
          250,
          100,
          115,
          79,
          100,
          65,
          129,
          115,
          110,
          400,
          129,
          500,
          139,
          400,
          103,
          168,
          87,
          209,
          95,
          90,
          225,
          40,
          100,
          165,
          99,
          72,
          61,
          115,
          69,
          50,
          93,
          69,
          300,
          74,
          99,
          219,
          85,
          119,
          115,
          145,
          99,
          125,
          150,
          175,
          175,
          80,
          220,
          85,
          150,
          225,
          91,
          115,
          110,
          199,
          98,
          150,
          145,
          189,
          80,
          169,
          50,
          95,
          40,
          225,
          97,
          80,
          68,
          250,
          70,
          250,
          300,
          149,
          40,
          127,
          175,
          60,
          100,
          55,
          180,
          139,
          299,
          65,
          63,
          100,
          155,
          210,
          75,
          115,
          119,
          295,
          135,
          348,
          155,
          125,
          550,
          150,
          200,
          252,
          105,
          150,
          105,
          145,
          119,
          94,
          250,
          175,
          135,
          190,
          85,
          40,
          245,
          350,
          70,
          130,
          125,
          109,
          90,
          95,
          180,
          90,
          39,
          79,
          129,
          45,
          199,
          99,
          65,
          95,
          145,
          115,
          175,
          425,
          95,
          108,
          125,
          94,
          180,
          180,
          125,
          95,
          90,
          100,
          89,
          115,
          95,
          250,
          95,
          90,
          99,
          115,
          80,
          122,
          295,
          100,
          60,
          74,
          90,
          180,
          51,
          70,
          129,
          119,
          129,
          100,
          139,
          49,
          45,
          70,
          34,
          109,
          295,
          127,
          85,
          130,
          79,
          275,
          120,
          39,
          240,
          87,
          65,
          165,
          259,
          119,
          80,
          117,
          169,
          100,
          250,
          115,
          150,
          99,
          225,
          35,
          111,
          140,
          53,
          196,
          124,
          170,
          150,
          300,
          95,
          165,
          129,
          50,
          999,
          95,
          65,
          100,
          239,
          275,
          110,
          129,
          65,
          45,
          250,
          40,
          175,
          100,
          400,
          45,
          99,
          270,
          175,
          750,
          42,
          200,
          75,
          125,
          115,
          100,
          300,
          400,
          128,
          350,
          110,
          375,
          59,
          70,
          50,
          224,
          115,
          119,
          218,
          68,
          450,
          160,
          149,
          115,
          195,
          105,
          99,
          156,
          99,
          160,
          115,
          68,
          69,
          125,
          350,
          69,
          50,
          109,
          218,
          220,
          47,
          65,
          280,
          215,
          99,
          155,
          60,
          129
         ],
         "xaxis": "x3",
         "y": [
          7.889744427144385,
          8.76524179998023,
          13.070780121149697,
          21.15697121037581,
          2.191435072349691,
          12.81913835399306,
          32.10319664813317,
          58.62421286675398,
          27.61897986378525,
          92.4776374555762,
          15.147672942239618,
          17.27253672142671,
          49.00119011299576,
          51.88431649590696,
          51.20815759487041,
          33.16849806094784,
          12.594218665302895,
          12.268370881878747,
          2.656735178103006,
          78.11695627268685,
          19.76137776407853,
          3.5319397388735227,
          20.922729932170586,
          43.4128596510527,
          22.352618628374657,
          49.38145814199549,
          13.358960380869748,
          10.926666517493146,
          47.46788446085059,
          26.9987908836811,
          30.860150348875482,
          8.896034776928305,
          8.604100286492402,
          30.430530573954446,
          69.43704388800009,
          21.741197736585306,
          38.16736734572535,
          28.106883728224336,
          23.33870781774218,
          8.912149326417353,
          0.6194357677564197,
          2.794426032984935,
          36.9324928271204,
          10.697498245567825,
          24.50732955702986,
          2.1310326788402185,
          34.15110967012832,
          18.917621060056018,
          0.8507293123887254,
          29.6825330436892,
          11.90234312454991,
          1.3485335266913738,
          23.57632959887627,
          1.8043519642065071,
          16.511184529169604,
          7.392943453239625,
          38.575965623105795,
          33.86064682874163,
          9.8058124130739,
          19.847801751863088,
          16.96351009718281,
          3.8859149972363562,
          33.71693246532353,
          60.360315997348756,
          11.363534430247807,
          13.385201242574993,
          34.75704910039526,
          55.580998427577974,
          1.3074568159068747,
          17.165925147472194,
          22.48594388805359,
          18.672309681241373,
          4.224197241835477,
          14.16385553184972,
          18.627462887333003,
          54.925293034119385,
          13.038342077264705,
          32.64898926487038,
          18.052504436122387,
          16.551814048833368,
          0.9929851957082946,
          27.585567302951247,
          26.079239965803524,
          15.398749880574611,
          49.71421120619489,
          66.55542351009167,
          50.34693779453986,
          18.448208978684633,
          76.04553544163245,
          1.8789047789326614,
          48.145723891858175,
          21.052015797319047,
          25.3668460891267,
          76.36015111741068,
          9.098173058167799,
          2.09274634230451,
          39.536484898811665,
          20.00531002731148,
          9.791097516612131,
          48.003986804714906,
          3.0158720281194547,
          27.49491956858079,
          28.081126880578854,
          17.660635915125557,
          36.30852680880107,
          36.38298147846083,
          43.552726516345636,
          23.033135513420234,
          5.694318284101541,
          30.314481514572726,
          56.99905485386636,
          1.996416149427907,
          12.173108789764058,
          29.29270626997498,
          27.998474968241016,
          1.964848520163005,
          4.2093508721942445,
          8.592825919664039,
          8.285071883901225,
          34.63499309670296,
          24.732016664588684,
          34.09065621279021,
          94.03931883758719,
          3.5034873887178852,
          33.97131899754055,
          21.985672078756274,
          66.55542351009167,
          22.669162964554733,
          26.322469624217852,
          16.267925626537156,
          11.955243788965513,
          40.14908571044033,
          24.414279563837137,
          32.24856521210612,
          12.87491040144918,
          90.52063032741363,
          66.55542351009167,
          24.815600471826034,
          48.69694960161399,
          11.876165385819727,
          33.59776423711739,
          33.45768271067243,
          23.078179340039874,
          26.838482999701714,
          53.05580864533588,
          47.61676511784663,
          31.78436746844452,
          33.014340501229725,
          10.73945955941163,
          0.3878542050418061,
          6.513601050938292,
          4.369574692972882,
          21.303547138080916,
          11.845326371216117,
          14.994220912329423,
          48.19457143607559,
          1.030259945661229,
          7.079531679452771,
          27.29895413897787,
          29.827135012871185,
          37.80492322523928,
          0.6802816162255066,
          0.5025126370708493,
          43.64101276113704,
          31.727213987673235,
          21.97139921554961,
          9.970951220709962,
          69.87689355762036,
          13.75867807425592,
          14.919467059827232,
          4.637848216258467,
          97.38037722168458,
          0.924259861482309,
          66.55542351009167,
          11.458616993061426,
          58.31088600457889,
          28.244813433311432,
          29.952848581533086,
          30.719540861486962,
          15.603680774102829,
          37.7316566034664,
          5.9609726792852396,
          30.23235574562204,
          8.371357672327836,
          59.67325580338937,
          53.40250256458131,
          12.597003210313368,
          73.0460904675602,
          5.991601075730136,
          13.727518665925805,
          14.533920573043964,
          37.29516556822225,
          15.503206853924468,
          24.06093730737525,
          15.490859315733799,
          38.48382244652189,
          5.992827938364222,
          25.830802141436628,
          28.877898628748312,
          55.015128678596014,
          11.858813041941861,
          36.738183945736466,
          26.075311090379977,
          7.968169016877452,
          6.623642224360064,
          20.97074294872843,
          27.15657346640078,
          14.086295540020169,
          17.297821423178,
          10.391328800425754,
          4.177547604048635,
          34.061111848715484,
          22.7388849588623,
          5.662160332695753,
          31.775909615878568,
          27.843619531667652,
          9.361306579248506,
          11.047623680103442,
          5.282110817918095,
          13.934971344710986,
          26.21973804124154,
          34.304274718227354,
          14.749264104007715,
          16.83240281698744,
          34.49511816553497,
          11.648284972489554,
          30.367088944628108,
          41.387589457710106,
          22.307996617338514,
          28.84089865617051,
          36.515422160393186,
          0.6342785374144455,
          83.15461695094663,
          3.3169497462697803,
          11.022716284770253,
          6.996189455739319,
          22.68601625726744,
          14.470172053227678,
          18.798083727162552,
          17.326192321628874,
          29.884176455056373,
          57.2051790453007,
          26.80221167646284,
          11.105391241771672,
          44.574573271363406,
          15.4595848513067,
          35.1257330532402,
          11.060541075202517,
          50.75158824511096,
          2.5688716278631416,
          35.74479141176834,
          7.470591708427747,
          9.781553855099718,
          16.423993827700556,
          17.73411837137896,
          1.9902598688023867,
          44.934414684010775,
          93.37331617105366,
          25.088700608961524,
          36.20941895817572,
          19.11705724815764,
          21.823614873930445,
          12.426368940232658,
          9.24237176772801,
          17.813616255066506,
          40.72716432100032,
          12.702054151335131,
          8.709216314760683,
          4.430224326464709,
          60.089433211063636,
          87.93035442992216,
          11.715369597652057,
          32.23114604451085,
          2.047277530661887,
          57.847981726410026,
          40.776891085064726,
          41.070401383064066,
          31.242950661526898,
          13.21137896557017,
          7.268118333294764,
          35.2885586698594,
          110.08591103920004,
          33.682438793252246,
          46.63718119211049,
          23.88400010027337,
          63.52754739471247,
          42.32812950444209,
          16.47662478722202,
          9.416794989688096,
          20.893366269678808,
          58.62421286675398,
          28.964089999880272,
          33.022334190430875,
          62.93590955194416,
          26.64042389118754,
          37.76319843313402,
          39.536484898811665,
          65.09641859615354,
          17.097959984705625,
          45.22922474353016,
          20.15327650779793,
          17.747086980431263,
          78.34469545362282,
          18.15673967240745,
          83.54202587307856,
          13.251416356745708,
          4.992709616359459,
          20.421335882139743,
          92.50950530522668,
          31.33354920375587,
          55.87185747586204,
          4.421565075170744,
          31.290650333788,
          22.61656228508773,
          47.958012064551276,
          0.0007012124450511692,
          7.909879310355737,
          33.12646451870913,
          12.629522985282948,
          43.858465461606414,
          3.196234001067439,
          54.30046485004129,
          10.34407085355135,
          19.20447330179338,
          22.708394997104865,
          10.705973240502964,
          33.24433880807334,
          0.42947202649127575,
          33.49802800283572,
          5.192039085757226,
          32.34206536792432,
          2.8737840899637708,
          11.537388006949566,
          9.443427764303278,
          14.965564310313976,
          9.702219723422335,
          41.11818370913591,
          22.48594388805359
         ],
         "yaxis": "y3"
        }
       ],
       "layout": {
        "template": {
         "data": {
          "bar": [
           {
            "error_x": {
             "color": "#2a3f5f"
            },
            "error_y": {
             "color": "#2a3f5f"
            },
            "marker": {
             "line": {
              "color": "#E5ECF6",
              "width": 0.5
             }
            },
            "type": "bar"
           }
          ],
          "barpolar": [
           {
            "marker": {
             "line": {
              "color": "#E5ECF6",
              "width": 0.5
             }
            },
            "type": "barpolar"
           }
          ],
          "carpet": [
           {
            "aaxis": {
             "endlinecolor": "#2a3f5f",
             "gridcolor": "white",
             "linecolor": "white",
             "minorgridcolor": "white",
             "startlinecolor": "#2a3f5f"
            },
            "baxis": {
             "endlinecolor": "#2a3f5f",
             "gridcolor": "white",
             "linecolor": "white",
             "minorgridcolor": "white",
             "startlinecolor": "#2a3f5f"
            },
            "type": "carpet"
           }
          ],
          "choropleth": [
           {
            "colorbar": {
             "outlinewidth": 0,
             "ticks": ""
            },
            "type": "choropleth"
           }
          ],
          "contour": [
           {
            "colorbar": {
             "outlinewidth": 0,
             "ticks": ""
            },
            "colorscale": [
             [
              0,
              "#0d0887"
             ],
             [
              0.1111111111111111,
              "#46039f"
             ],
             [
              0.2222222222222222,
              "#7201a8"
             ],
             [
              0.3333333333333333,
              "#9c179e"
             ],
             [
              0.4444444444444444,
              "#bd3786"
             ],
             [
              0.5555555555555556,
              "#d8576b"
             ],
             [
              0.6666666666666666,
              "#ed7953"
             ],
             [
              0.7777777777777778,
              "#fb9f3a"
             ],
             [
              0.8888888888888888,
              "#fdca26"
             ],
             [
              1,
              "#f0f921"
             ]
            ],
            "type": "contour"
           }
          ],
          "contourcarpet": [
           {
            "colorbar": {
             "outlinewidth": 0,
             "ticks": ""
            },
            "type": "contourcarpet"
           }
          ],
          "heatmap": [
           {
            "colorbar": {
             "outlinewidth": 0,
             "ticks": ""
            },
            "colorscale": [
             [
              0,
              "#0d0887"
             ],
             [
              0.1111111111111111,
              "#46039f"
             ],
             [
              0.2222222222222222,
              "#7201a8"
             ],
             [
              0.3333333333333333,
              "#9c179e"
             ],
             [
              0.4444444444444444,
              "#bd3786"
             ],
             [
              0.5555555555555556,
              "#d8576b"
             ],
             [
              0.6666666666666666,
              "#ed7953"
             ],
             [
              0.7777777777777778,
              "#fb9f3a"
             ],
             [
              0.8888888888888888,
              "#fdca26"
             ],
             [
              1,
              "#f0f921"
             ]
            ],
            "type": "heatmap"
           }
          ],
          "heatmapgl": [
           {
            "colorbar": {
             "outlinewidth": 0,
             "ticks": ""
            },
            "colorscale": [
             [
              0,
              "#0d0887"
             ],
             [
              0.1111111111111111,
              "#46039f"
             ],
             [
              0.2222222222222222,
              "#7201a8"
             ],
             [
              0.3333333333333333,
              "#9c179e"
             ],
             [
              0.4444444444444444,
              "#bd3786"
             ],
             [
              0.5555555555555556,
              "#d8576b"
             ],
             [
              0.6666666666666666,
              "#ed7953"
             ],
             [
              0.7777777777777778,
              "#fb9f3a"
             ],
             [
              0.8888888888888888,
              "#fdca26"
             ],
             [
              1,
              "#f0f921"
             ]
            ],
            "type": "heatmapgl"
           }
          ],
          "histogram": [
           {
            "marker": {
             "colorbar": {
              "outlinewidth": 0,
              "ticks": ""
             }
            },
            "type": "histogram"
           }
          ],
          "histogram2d": [
           {
            "colorbar": {
             "outlinewidth": 0,
             "ticks": ""
            },
            "colorscale": [
             [
              0,
              "#0d0887"
             ],
             [
              0.1111111111111111,
              "#46039f"
             ],
             [
              0.2222222222222222,
              "#7201a8"
             ],
             [
              0.3333333333333333,
              "#9c179e"
             ],
             [
              0.4444444444444444,
              "#bd3786"
             ],
             [
              0.5555555555555556,
              "#d8576b"
             ],
             [
              0.6666666666666666,
              "#ed7953"
             ],
             [
              0.7777777777777778,
              "#fb9f3a"
             ],
             [
              0.8888888888888888,
              "#fdca26"
             ],
             [
              1,
              "#f0f921"
             ]
            ],
            "type": "histogram2d"
           }
          ],
          "histogram2dcontour": [
           {
            "colorbar": {
             "outlinewidth": 0,
             "ticks": ""
            },
            "colorscale": [
             [
              0,
              "#0d0887"
             ],
             [
              0.1111111111111111,
              "#46039f"
             ],
             [
              0.2222222222222222,
              "#7201a8"
             ],
             [
              0.3333333333333333,
              "#9c179e"
             ],
             [
              0.4444444444444444,
              "#bd3786"
             ],
             [
              0.5555555555555556,
              "#d8576b"
             ],
             [
              0.6666666666666666,
              "#ed7953"
             ],
             [
              0.7777777777777778,
              "#fb9f3a"
             ],
             [
              0.8888888888888888,
              "#fdca26"
             ],
             [
              1,
              "#f0f921"
             ]
            ],
            "type": "histogram2dcontour"
           }
          ],
          "mesh3d": [
           {
            "colorbar": {
             "outlinewidth": 0,
             "ticks": ""
            },
            "type": "mesh3d"
           }
          ],
          "parcoords": [
           {
            "line": {
             "colorbar": {
              "outlinewidth": 0,
              "ticks": ""
             }
            },
            "type": "parcoords"
           }
          ],
          "pie": [
           {
            "automargin": true,
            "type": "pie"
           }
          ],
          "scatter": [
           {
            "marker": {
             "colorbar": {
              "outlinewidth": 0,
              "ticks": ""
             }
            },
            "type": "scatter"
           }
          ],
          "scatter3d": [
           {
            "line": {
             "colorbar": {
              "outlinewidth": 0,
              "ticks": ""
             }
            },
            "marker": {
             "colorbar": {
              "outlinewidth": 0,
              "ticks": ""
             }
            },
            "type": "scatter3d"
           }
          ],
          "scattercarpet": [
           {
            "marker": {
             "colorbar": {
              "outlinewidth": 0,
              "ticks": ""
             }
            },
            "type": "scattercarpet"
           }
          ],
          "scattergeo": [
           {
            "marker": {
             "colorbar": {
              "outlinewidth": 0,
              "ticks": ""
             }
            },
            "type": "scattergeo"
           }
          ],
          "scattergl": [
           {
            "marker": {
             "colorbar": {
              "outlinewidth": 0,
              "ticks": ""
             }
            },
            "type": "scattergl"
           }
          ],
          "scattermapbox": [
           {
            "marker": {
             "colorbar": {
              "outlinewidth": 0,
              "ticks": ""
             }
            },
            "type": "scattermapbox"
           }
          ],
          "scatterpolar": [
           {
            "marker": {
             "colorbar": {
              "outlinewidth": 0,
              "ticks": ""
             }
            },
            "type": "scatterpolar"
           }
          ],
          "scatterpolargl": [
           {
            "marker": {
             "colorbar": {
              "outlinewidth": 0,
              "ticks": ""
             }
            },
            "type": "scatterpolargl"
           }
          ],
          "scatterternary": [
           {
            "marker": {
             "colorbar": {
              "outlinewidth": 0,
              "ticks": ""
             }
            },
            "type": "scatterternary"
           }
          ],
          "surface": [
           {
            "colorbar": {
             "outlinewidth": 0,
             "ticks": ""
            },
            "colorscale": [
             [
              0,
              "#0d0887"
             ],
             [
              0.1111111111111111,
              "#46039f"
             ],
             [
              0.2222222222222222,
              "#7201a8"
             ],
             [
              0.3333333333333333,
              "#9c179e"
             ],
             [
              0.4444444444444444,
              "#bd3786"
             ],
             [
              0.5555555555555556,
              "#d8576b"
             ],
             [
              0.6666666666666666,
              "#ed7953"
             ],
             [
              0.7777777777777778,
              "#fb9f3a"
             ],
             [
              0.8888888888888888,
              "#fdca26"
             ],
             [
              1,
              "#f0f921"
             ]
            ],
            "type": "surface"
           }
          ],
          "table": [
           {
            "cells": {
             "fill": {
              "color": "#EBF0F8"
             },
             "line": {
              "color": "white"
             }
            },
            "header": {
             "fill": {
              "color": "#C8D4E3"
             },
             "line": {
              "color": "white"
             }
            },
            "type": "table"
           }
          ]
         },
         "layout": {
          "annotationdefaults": {
           "arrowcolor": "#2a3f5f",
           "arrowhead": 0,
           "arrowwidth": 1
          },
          "autotypenumbers": "strict",
          "coloraxis": {
           "colorbar": {
            "outlinewidth": 0,
            "ticks": ""
           }
          },
          "colorscale": {
           "diverging": [
            [
             0,
             "#8e0152"
            ],
            [
             0.1,
             "#c51b7d"
            ],
            [
             0.2,
             "#de77ae"
            ],
            [
             0.3,
             "#f1b6da"
            ],
            [
             0.4,
             "#fde0ef"
            ],
            [
             0.5,
             "#f7f7f7"
            ],
            [
             0.6,
             "#e6f5d0"
            ],
            [
             0.7,
             "#b8e186"
            ],
            [
             0.8,
             "#7fbc41"
            ],
            [
             0.9,
             "#4d9221"
            ],
            [
             1,
             "#276419"
            ]
           ],
           "sequential": [
            [
             0,
             "#0d0887"
            ],
            [
             0.1111111111111111,
             "#46039f"
            ],
            [
             0.2222222222222222,
             "#7201a8"
            ],
            [
             0.3333333333333333,
             "#9c179e"
            ],
            [
             0.4444444444444444,
             "#bd3786"
            ],
            [
             0.5555555555555556,
             "#d8576b"
            ],
            [
             0.6666666666666666,
             "#ed7953"
            ],
            [
             0.7777777777777778,
             "#fb9f3a"
            ],
            [
             0.8888888888888888,
             "#fdca26"
            ],
            [
             1,
             "#f0f921"
            ]
           ],
           "sequentialminus": [
            [
             0,
             "#0d0887"
            ],
            [
             0.1111111111111111,
             "#46039f"
            ],
            [
             0.2222222222222222,
             "#7201a8"
            ],
            [
             0.3333333333333333,
             "#9c179e"
            ],
            [
             0.4444444444444444,
             "#bd3786"
            ],
            [
             0.5555555555555556,
             "#d8576b"
            ],
            [
             0.6666666666666666,
             "#ed7953"
            ],
            [
             0.7777777777777778,
             "#fb9f3a"
            ],
            [
             0.8888888888888888,
             "#fdca26"
            ],
            [
             1,
             "#f0f921"
            ]
           ]
          },
          "colorway": [
           "#636efa",
           "#EF553B",
           "#00cc96",
           "#ab63fa",
           "#FFA15A",
           "#19d3f3",
           "#FF6692",
           "#B6E880",
           "#FF97FF",
           "#FECB52"
          ],
          "font": {
           "color": "#2a3f5f"
          },
          "geo": {
           "bgcolor": "white",
           "lakecolor": "white",
           "landcolor": "#E5ECF6",
           "showlakes": true,
           "showland": true,
           "subunitcolor": "white"
          },
          "hoverlabel": {
           "align": "left"
          },
          "hovermode": "closest",
          "mapbox": {
           "style": "light"
          },
          "paper_bgcolor": "white",
          "plot_bgcolor": "#E5ECF6",
          "polar": {
           "angularaxis": {
            "gridcolor": "white",
            "linecolor": "white",
            "ticks": ""
           },
           "bgcolor": "#E5ECF6",
           "radialaxis": {
            "gridcolor": "white",
            "linecolor": "white",
            "ticks": ""
           }
          },
          "scene": {
           "xaxis": {
            "backgroundcolor": "#E5ECF6",
            "gridcolor": "white",
            "gridwidth": 2,
            "linecolor": "white",
            "showbackground": true,
            "ticks": "",
            "zerolinecolor": "white"
           },
           "yaxis": {
            "backgroundcolor": "#E5ECF6",
            "gridcolor": "white",
            "gridwidth": 2,
            "linecolor": "white",
            "showbackground": true,
            "ticks": "",
            "zerolinecolor": "white"
           },
           "zaxis": {
            "backgroundcolor": "#E5ECF6",
            "gridcolor": "white",
            "gridwidth": 2,
            "linecolor": "white",
            "showbackground": true,
            "ticks": "",
            "zerolinecolor": "white"
           }
          },
          "shapedefaults": {
           "line": {
            "color": "#2a3f5f"
           }
          },
          "ternary": {
           "aaxis": {
            "gridcolor": "white",
            "linecolor": "white",
            "ticks": ""
           },
           "baxis": {
            "gridcolor": "white",
            "linecolor": "white",
            "ticks": ""
           },
           "bgcolor": "#E5ECF6",
           "caxis": {
            "gridcolor": "white",
            "linecolor": "white",
            "ticks": ""
           }
          },
          "title": {
           "x": 0.05
          },
          "xaxis": {
           "automargin": true,
           "gridcolor": "white",
           "linecolor": "white",
           "ticks": "",
           "title": {
            "standoff": 15
           },
           "zerolinecolor": "white",
           "zerolinewidth": 2
          },
          "yaxis": {
           "automargin": true,
           "gridcolor": "white",
           "linecolor": "white",
           "ticks": "",
           "title": {
            "standoff": 15
           },
           "zerolinecolor": "white",
           "zerolinewidth": 2
          }
         }
        },
        "xaxis": {
         "anchor": "y",
         "domain": [
          0,
          1
         ]
        },
        "xaxis2": {
         "anchor": "y2",
         "domain": [
          0,
          1
         ]
        },
        "xaxis3": {
         "anchor": "y3",
         "domain": [
          0,
          1
         ]
        },
        "yaxis": {
         "anchor": "x",
         "domain": [
          0.7333333333333333,
          1
         ]
        },
        "yaxis2": {
         "anchor": "x2",
         "domain": [
          0.36666666666666664,
          0.6333333333333333
         ]
        },
        "yaxis3": {
         "anchor": "x3",
         "domain": [
          0,
          0.26666666666666666
         ]
        }
       }
      }
     },
     "metadata": {}
    }
   ],
   "source": [
    "fig = make_subplots(rows=3, cols=1)\n",
    "for ng,col in enumerate(df_plot.columns):\n",
    "    if col != \"Y test\":\n",
    "        fig.add_trace(\n",
    "            go.Scatter(x=df_plot['Y test'], y=df_plot[col],mode=\"markers\",name = col),\n",
    "            row=ng, col=1\n",
    "        )\n",
    "#fig = px.scatter(df_plot, x='Y test', y=\"error_LR\")\n",
    "#fig.append_trace(px.scatter(df_plot, x='Y test', y=\"error_LR\"), row=1, col=1)\n",
    "#fig.update_layout(yaxis_range=[0,200],title_text=\"Error Aprox 1\")\n",
    "fig.show()"
   ]
  },
  {
   "source": [
    "Graficando el error relativo"
   ],
   "cell_type": "markdown",
   "metadata": {}
  },
  {
   "cell_type": "code",
   "execution_count": 50,
   "metadata": {},
   "outputs": [
    {
     "output_type": "stream",
     "name": "stdout",
     "text": [
      "1 error_LR\n2 error_RF\n3 error_SV\n"
     ]
    }
   ],
   "source": [
    "for ng,col in enumerate(df_plot.columns):\n",
    "    if col != \"Y test\":\n",
    "        print(ng,col)\n"
   ]
  },
  {
   "source": [
    "Ahora, para una segunda aproximación, se genera dataset con todas la variable numéricas preseleccionadas con valores numericos y se eliminan las filas que tengan al menos un NaN "
   ],
   "cell_type": "markdown",
   "metadata": {}
  },
  {
   "cell_type": "code",
   "execution_count": 58,
   "metadata": {},
   "outputs": [
    {
     "output_type": "execute_result",
     "data": {
      "text/plain": [
       "       host_is_superhost  host_total_listings_count  host_identity_verified  \\\n",
       "count         710.000000                 710.000000              710.000000   \n",
       "mean            0.270423                   7.519718                0.864789   \n",
       "std             0.444491                  12.838325                0.342190   \n",
       "min             0.000000                   1.000000                0.000000   \n",
       "25%             0.000000                   1.000000                1.000000   \n",
       "50%             0.000000                   2.000000                1.000000   \n",
       "75%             1.000000                   5.000000                1.000000   \n",
       "max             1.000000                  48.000000                1.000000   \n",
       "\n",
       "         latitude   longitude  is_location_exact  accommodates   bathrooms  \\\n",
       "count  710.000000  710.000000         710.000000    710.000000  710.000000   \n",
       "mean    47.629065 -122.331309           0.940845      3.621127    1.250704   \n",
       "std      0.043787    0.032234           0.236081      2.013734    0.587691   \n",
       "min     47.510164 -122.415848           0.000000      1.000000    0.500000   \n",
       "25%     47.607906 -122.352248           1.000000      2.000000    1.000000   \n",
       "50%     47.625265 -122.328858           1.000000      3.000000    1.000000   \n",
       "75%     47.662278 -122.309819           1.000000      4.000000    1.000000   \n",
       "max     47.732647 -122.256081           1.000000     15.000000    4.500000   \n",
       "\n",
       "         bedrooms        beds  ...  review_scores_rating  \\\n",
       "count  710.000000  710.000000  ...            710.000000   \n",
       "mean     1.333803    1.843662  ...             93.849296   \n",
       "std      0.896545    1.110056  ...              7.803373   \n",
       "min      0.000000    1.000000  ...             20.000000   \n",
       "25%      1.000000    1.000000  ...             92.000000   \n",
       "50%      1.000000    1.000000  ...             96.000000   \n",
       "75%      2.000000    2.000000  ...             99.000000   \n",
       "max      6.000000    7.000000  ...            100.000000   \n",
       "\n",
       "       review_scores_accuracy  review_scores_cleanliness  \\\n",
       "count              710.000000                 710.000000   \n",
       "mean                 9.561972                   9.523944   \n",
       "std                  0.837059                   0.842366   \n",
       "min                  2.000000                   4.000000   \n",
       "25%                  9.000000                   9.000000   \n",
       "50%                 10.000000                  10.000000   \n",
       "75%                 10.000000                  10.000000   \n",
       "max                 10.000000                  10.000000   \n",
       "\n",
       "       review_scores_checkin  review_scores_communication  \\\n",
       "count             710.000000                   710.000000   \n",
       "mean                9.718310                     9.733803   \n",
       "std                 0.724021                     0.674635   \n",
       "min                 2.000000                     2.000000   \n",
       "25%                10.000000                    10.000000   \n",
       "50%                10.000000                    10.000000   \n",
       "75%                10.000000                    10.000000   \n",
       "max                10.000000                    10.000000   \n",
       "\n",
       "       review_scores_location  review_scores_value  instant_bookable  \\\n",
       "count              710.000000           710.000000        710.000000   \n",
       "mean                 9.526761             9.366197          0.207042   \n",
       "std                  0.713552             0.857053          0.405472   \n",
       "min                  4.000000             2.000000          0.000000   \n",
       "25%                  9.000000             9.000000          0.000000   \n",
       "50%                 10.000000            10.000000          0.000000   \n",
       "75%                 10.000000            10.000000          0.000000   \n",
       "max                 10.000000            10.000000          1.000000   \n",
       "\n",
       "       calculated_host_listings_count  reviews_per_month  \n",
       "count                      710.000000         710.000000  \n",
       "mean                         5.259155           1.882324  \n",
       "std                          9.654710           1.613269  \n",
       "min                          1.000000           0.020000  \n",
       "25%                          1.000000           0.690000  \n",
       "50%                          1.000000           1.370000  \n",
       "75%                          3.000000           2.770000  \n",
       "max                         37.000000          10.950000  \n",
       "\n",
       "[8 rows x 34 columns]"
      ],
      "text/html": "<div>\n<style scoped>\n    .dataframe tbody tr th:only-of-type {\n        vertical-align: middle;\n    }\n\n    .dataframe tbody tr th {\n        vertical-align: top;\n    }\n\n    .dataframe thead th {\n        text-align: right;\n    }\n</style>\n<table border=\"1\" class=\"dataframe\">\n  <thead>\n    <tr style=\"text-align: right;\">\n      <th></th>\n      <th>host_is_superhost</th>\n      <th>host_total_listings_count</th>\n      <th>host_identity_verified</th>\n      <th>latitude</th>\n      <th>longitude</th>\n      <th>is_location_exact</th>\n      <th>accommodates</th>\n      <th>bathrooms</th>\n      <th>bedrooms</th>\n      <th>beds</th>\n      <th>...</th>\n      <th>review_scores_rating</th>\n      <th>review_scores_accuracy</th>\n      <th>review_scores_cleanliness</th>\n      <th>review_scores_checkin</th>\n      <th>review_scores_communication</th>\n      <th>review_scores_location</th>\n      <th>review_scores_value</th>\n      <th>instant_bookable</th>\n      <th>calculated_host_listings_count</th>\n      <th>reviews_per_month</th>\n    </tr>\n  </thead>\n  <tbody>\n    <tr>\n      <th>count</th>\n      <td>710.000000</td>\n      <td>710.000000</td>\n      <td>710.000000</td>\n      <td>710.000000</td>\n      <td>710.000000</td>\n      <td>710.000000</td>\n      <td>710.000000</td>\n      <td>710.000000</td>\n      <td>710.000000</td>\n      <td>710.000000</td>\n      <td>...</td>\n      <td>710.000000</td>\n      <td>710.000000</td>\n      <td>710.000000</td>\n      <td>710.000000</td>\n      <td>710.000000</td>\n      <td>710.000000</td>\n      <td>710.000000</td>\n      <td>710.000000</td>\n      <td>710.000000</td>\n      <td>710.000000</td>\n    </tr>\n    <tr>\n      <th>mean</th>\n      <td>0.270423</td>\n      <td>7.519718</td>\n      <td>0.864789</td>\n      <td>47.629065</td>\n      <td>-122.331309</td>\n      <td>0.940845</td>\n      <td>3.621127</td>\n      <td>1.250704</td>\n      <td>1.333803</td>\n      <td>1.843662</td>\n      <td>...</td>\n      <td>93.849296</td>\n      <td>9.561972</td>\n      <td>9.523944</td>\n      <td>9.718310</td>\n      <td>9.733803</td>\n      <td>9.526761</td>\n      <td>9.366197</td>\n      <td>0.207042</td>\n      <td>5.259155</td>\n      <td>1.882324</td>\n    </tr>\n    <tr>\n      <th>std</th>\n      <td>0.444491</td>\n      <td>12.838325</td>\n      <td>0.342190</td>\n      <td>0.043787</td>\n      <td>0.032234</td>\n      <td>0.236081</td>\n      <td>2.013734</td>\n      <td>0.587691</td>\n      <td>0.896545</td>\n      <td>1.110056</td>\n      <td>...</td>\n      <td>7.803373</td>\n      <td>0.837059</td>\n      <td>0.842366</td>\n      <td>0.724021</td>\n      <td>0.674635</td>\n      <td>0.713552</td>\n      <td>0.857053</td>\n      <td>0.405472</td>\n      <td>9.654710</td>\n      <td>1.613269</td>\n    </tr>\n    <tr>\n      <th>min</th>\n      <td>0.000000</td>\n      <td>1.000000</td>\n      <td>0.000000</td>\n      <td>47.510164</td>\n      <td>-122.415848</td>\n      <td>0.000000</td>\n      <td>1.000000</td>\n      <td>0.500000</td>\n      <td>0.000000</td>\n      <td>1.000000</td>\n      <td>...</td>\n      <td>20.000000</td>\n      <td>2.000000</td>\n      <td>4.000000</td>\n      <td>2.000000</td>\n      <td>2.000000</td>\n      <td>4.000000</td>\n      <td>2.000000</td>\n      <td>0.000000</td>\n      <td>1.000000</td>\n      <td>0.020000</td>\n    </tr>\n    <tr>\n      <th>25%</th>\n      <td>0.000000</td>\n      <td>1.000000</td>\n      <td>1.000000</td>\n      <td>47.607906</td>\n      <td>-122.352248</td>\n      <td>1.000000</td>\n      <td>2.000000</td>\n      <td>1.000000</td>\n      <td>1.000000</td>\n      <td>1.000000</td>\n      <td>...</td>\n      <td>92.000000</td>\n      <td>9.000000</td>\n      <td>9.000000</td>\n      <td>10.000000</td>\n      <td>10.000000</td>\n      <td>9.000000</td>\n      <td>9.000000</td>\n      <td>0.000000</td>\n      <td>1.000000</td>\n      <td>0.690000</td>\n    </tr>\n    <tr>\n      <th>50%</th>\n      <td>0.000000</td>\n      <td>2.000000</td>\n      <td>1.000000</td>\n      <td>47.625265</td>\n      <td>-122.328858</td>\n      <td>1.000000</td>\n      <td>3.000000</td>\n      <td>1.000000</td>\n      <td>1.000000</td>\n      <td>1.000000</td>\n      <td>...</td>\n      <td>96.000000</td>\n      <td>10.000000</td>\n      <td>10.000000</td>\n      <td>10.000000</td>\n      <td>10.000000</td>\n      <td>10.000000</td>\n      <td>10.000000</td>\n      <td>0.000000</td>\n      <td>1.000000</td>\n      <td>1.370000</td>\n    </tr>\n    <tr>\n      <th>75%</th>\n      <td>1.000000</td>\n      <td>5.000000</td>\n      <td>1.000000</td>\n      <td>47.662278</td>\n      <td>-122.309819</td>\n      <td>1.000000</td>\n      <td>4.000000</td>\n      <td>1.000000</td>\n      <td>2.000000</td>\n      <td>2.000000</td>\n      <td>...</td>\n      <td>99.000000</td>\n      <td>10.000000</td>\n      <td>10.000000</td>\n      <td>10.000000</td>\n      <td>10.000000</td>\n      <td>10.000000</td>\n      <td>10.000000</td>\n      <td>0.000000</td>\n      <td>3.000000</td>\n      <td>2.770000</td>\n    </tr>\n    <tr>\n      <th>max</th>\n      <td>1.000000</td>\n      <td>48.000000</td>\n      <td>1.000000</td>\n      <td>47.732647</td>\n      <td>-122.256081</td>\n      <td>1.000000</td>\n      <td>15.000000</td>\n      <td>4.500000</td>\n      <td>6.000000</td>\n      <td>7.000000</td>\n      <td>...</td>\n      <td>100.000000</td>\n      <td>10.000000</td>\n      <td>10.000000</td>\n      <td>10.000000</td>\n      <td>10.000000</td>\n      <td>10.000000</td>\n      <td>10.000000</td>\n      <td>1.000000</td>\n      <td>37.000000</td>\n      <td>10.950000</td>\n    </tr>\n  </tbody>\n</table>\n<p>8 rows × 34 columns</p>\n</div>"
     },
     "metadata": {},
     "execution_count": 58
    }
   ],
   "source": [
    "numeric_cols = df_1drop[df_1drop.columns].describe()\n",
    "df_aprox2 = df_1drop[numeric_cols.columns]\n",
    "df_totrain2 = df_aprox2.dropna(axis = 0, how = 'any')\n",
    "df_totrain2.describe()"
   ]
  },
  {
   "cell_type": "code",
   "execution_count": 59,
   "metadata": {},
   "outputs": [],
   "source": [
    "X2 = df_totrain2.drop(['price','weekly_price','monthly_price'],axis = 1)\n",
    "y2 = df_totrain2['price']"
   ]
  },
  {
   "source": [
    "X2_train, X2_test, y2_train, y2_test = train_test_split(X2, y2, test_size = .20, random_state=42)\n",
    "print(\"Shape X_train = {}, Shape y_train = {}, Shape X_test = {}, Shape y_test = {}\".format(X2_train.shape, y2_train.shape, X2_test.shape, y2_test.shape))\n",
    "scaler2 = StandardScaler()\n",
    "scaler2.fit(X2_train)\n",
    "X2_train = scaler2.transform(X2_train)\n",
    "X2_test = scaler2.transform(X2_test)\n",
    "\n",
    "lr2_model = LinearRegression()\n",
    "rf2_model = RandomForestRegressor(n_estimators=100, criterion = 'mse')\n",
    "sv2_model = SVR(kernel= 'rbf', C= 1000, gamma= 0.01, epsilon=1, cache_size = 500)\n",
    "models2 = [lr2_model, rf2_model, sv2_model]\n",
    "index=['LinearRegression','RandomForestRegressor','SVR']\n",
    "columns=['Train r2 score','Test r2 score','Test MSE']\n",
    "df2_summary=pd.DataFrame(data=None,index=index,columns=columns)\n",
    "for n,model in enumerate(models2):\n",
    "    model.fit(X2_train, y2_train)\n",
    "    y2_train_preds = model.predict(X2_train)\n",
    "    y2_test_preds = model.predict(X2_test)\n",
    "    score = []\n",
    "    score.append(r2_score(y2_train, y2_train_preds))\n",
    "    score.append(r2_score(y2_test, y2_test_preds))\n",
    "    score.append(mean_squared_error(y2_test, y2_test_preds))\n",
    "    df2_summary.loc[df2_summary.index[n]] = score\n",
    "df2_summary\n",
    "\n"
   ],
   "cell_type": "code",
   "metadata": {},
   "execution_count": 60,
   "outputs": [
    {
     "output_type": "stream",
     "name": "stdout",
     "text": [
      "Shape X_train = (568, 31), Shape y_train = (568,), Shape X_test = (142, 31), Shape y_test = (142,)\n"
     ]
    },
    {
     "output_type": "execute_result",
     "data": {
      "text/plain": [
       "                      Train r2 score Test r2 score     Test MSE\n",
       "LinearRegression            0.640288      0.539263  3902.846345\n",
       "RandomForestRegressor       0.944792       0.52275  4042.729137\n",
       "SVR                         0.883981      0.485325  4359.744655"
      ],
      "text/html": "<div>\n<style scoped>\n    .dataframe tbody tr th:only-of-type {\n        vertical-align: middle;\n    }\n\n    .dataframe tbody tr th {\n        vertical-align: top;\n    }\n\n    .dataframe thead th {\n        text-align: right;\n    }\n</style>\n<table border=\"1\" class=\"dataframe\">\n  <thead>\n    <tr style=\"text-align: right;\">\n      <th></th>\n      <th>Train r2 score</th>\n      <th>Test r2 score</th>\n      <th>Test MSE</th>\n    </tr>\n  </thead>\n  <tbody>\n    <tr>\n      <th>LinearRegression</th>\n      <td>0.640288</td>\n      <td>0.539263</td>\n      <td>3902.846345</td>\n    </tr>\n    <tr>\n      <th>RandomForestRegressor</th>\n      <td>0.944792</td>\n      <td>0.52275</td>\n      <td>4042.729137</td>\n    </tr>\n    <tr>\n      <th>SVR</th>\n      <td>0.883981</td>\n      <td>0.485325</td>\n      <td>4359.744655</td>\n    </tr>\n  </tbody>\n</table>\n</div>"
     },
     "metadata": {},
     "execution_count": 60
    }
   ]
  },
  {
   "cell_type": "code",
   "execution_count": 61,
   "metadata": {},
   "outputs": [
    {
     "output_type": "display_data",
     "data": {
      "text/plain": "<Figure size 432x288 with 1 Axes>",
      "image/svg+xml": "<?xml version=\"1.0\" encoding=\"utf-8\" standalone=\"no\"?>\r\n<!DOCTYPE svg PUBLIC \"-//W3C//DTD SVG 1.1//EN\"\r\n  \"http://www.w3.org/Graphics/SVG/1.1/DTD/svg11.dtd\">\r\n<!-- Created with matplotlib (https://matplotlib.org/) -->\r\n<svg height=\"262.19625pt\" version=\"1.1\" viewBox=\"0 0 397.345312 262.19625\" width=\"397.345312pt\" xmlns=\"http://www.w3.org/2000/svg\" xmlns:xlink=\"http://www.w3.org/1999/xlink\">\r\n <metadata>\r\n  <rdf:RDF xmlns:cc=\"http://creativecommons.org/ns#\" xmlns:dc=\"http://purl.org/dc/elements/1.1/\" xmlns:rdf=\"http://www.w3.org/1999/02/22-rdf-syntax-ns#\">\r\n   <cc:Work>\r\n    <dc:type rdf:resource=\"http://purl.org/dc/dcmitype/StillImage\"/>\r\n    <dc:date>2021-02-12T17:09:48.239830</dc:date>\r\n    <dc:format>image/svg+xml</dc:format>\r\n    <dc:creator>\r\n     <cc:Agent>\r\n      <dc:title>Matplotlib v3.3.4, https://matplotlib.org/</dc:title>\r\n     </cc:Agent>\r\n    </dc:creator>\r\n   </cc:Work>\r\n  </rdf:RDF>\r\n </metadata>\r\n <defs>\r\n  <style type=\"text/css\">*{stroke-linecap:butt;stroke-linejoin:round;}</style>\r\n </defs>\r\n <g id=\"figure_1\">\r\n  <g id=\"patch_1\">\r\n   <path d=\"M 0 262.19625 \r\nL 397.345312 262.19625 \r\nL 397.345312 0 \r\nL 0 0 \r\nz\r\n\" style=\"fill:none;\"/>\r\n  </g>\r\n  <g id=\"axes_1\">\r\n   <g id=\"patch_2\">\r\n    <path d=\"M 55.345313 224.64 \r\nL 390.145312 224.64 \r\nL 390.145312 7.2 \r\nL 55.345313 7.2 \r\nz\r\n\" style=\"fill:#ffffff;\"/>\r\n   </g>\r\n   <g id=\"matplotlib.axis_1\">\r\n    <g id=\"xtick_1\">\r\n     <g id=\"line2d_1\">\r\n      <defs>\r\n       <path d=\"M 0 0 \r\nL 0 3.5 \r\n\" id=\"m54b99ce2e9\" style=\"stroke:#000000;stroke-width:0.8;\"/>\r\n      </defs>\r\n      <g>\r\n       <use style=\"stroke:#000000;stroke-width:0.8;\" x=\"78.462989\" xlink:href=\"#m54b99ce2e9\" y=\"224.64\"/>\r\n      </g>\r\n     </g>\r\n     <g id=\"text_1\">\r\n      <!-- 50 -->\r\n      <g transform=\"translate(72.100489 239.238438)scale(0.1 -0.1)\">\r\n       <defs>\r\n        <path d=\"M 10.796875 72.90625 \r\nL 49.515625 72.90625 \r\nL 49.515625 64.59375 \r\nL 19.828125 64.59375 \r\nL 19.828125 46.734375 \r\nQ 21.96875 47.46875 24.109375 47.828125 \r\nQ 26.265625 48.1875 28.421875 48.1875 \r\nQ 40.625 48.1875 47.75 41.5 \r\nQ 54.890625 34.8125 54.890625 23.390625 \r\nQ 54.890625 11.625 47.5625 5.09375 \r\nQ 40.234375 -1.421875 26.90625 -1.421875 \r\nQ 22.3125 -1.421875 17.546875 -0.640625 \r\nQ 12.796875 0.140625 7.71875 1.703125 \r\nL 7.71875 11.625 \r\nQ 12.109375 9.234375 16.796875 8.0625 \r\nQ 21.484375 6.890625 26.703125 6.890625 \r\nQ 35.15625 6.890625 40.078125 11.328125 \r\nQ 45.015625 15.765625 45.015625 23.390625 \r\nQ 45.015625 31 40.078125 35.4375 \r\nQ 35.15625 39.890625 26.703125 39.890625 \r\nQ 22.75 39.890625 18.8125 39.015625 \r\nQ 14.890625 38.140625 10.796875 36.28125 \r\nz\r\n\" id=\"DejaVuSans-53\"/>\r\n        <path d=\"M 31.78125 66.40625 \r\nQ 24.171875 66.40625 20.328125 58.90625 \r\nQ 16.5 51.421875 16.5 36.375 \r\nQ 16.5 21.390625 20.328125 13.890625 \r\nQ 24.171875 6.390625 31.78125 6.390625 \r\nQ 39.453125 6.390625 43.28125 13.890625 \r\nQ 47.125 21.390625 47.125 36.375 \r\nQ 47.125 51.421875 43.28125 58.90625 \r\nQ 39.453125 66.40625 31.78125 66.40625 \r\nz\r\nM 31.78125 74.21875 \r\nQ 44.046875 74.21875 50.515625 64.515625 \r\nQ 56.984375 54.828125 56.984375 36.375 \r\nQ 56.984375 17.96875 50.515625 8.265625 \r\nQ 44.046875 -1.421875 31.78125 -1.421875 \r\nQ 19.53125 -1.421875 13.0625 8.265625 \r\nQ 6.59375 17.96875 6.59375 36.375 \r\nQ 6.59375 54.828125 13.0625 64.515625 \r\nQ 19.53125 74.21875 31.78125 74.21875 \r\nz\r\n\" id=\"DejaVuSans-48\"/>\r\n       </defs>\r\n       <use xlink:href=\"#DejaVuSans-53\"/>\r\n       <use x=\"63.623047\" xlink:href=\"#DejaVuSans-48\"/>\r\n      </g>\r\n     </g>\r\n    </g>\r\n    <g id=\"xtick_2\">\r\n     <g id=\"line2d_2\">\r\n      <g>\r\n       <use style=\"stroke:#000000;stroke-width:0.8;\" x=\"115.926256\" xlink:href=\"#m54b99ce2e9\" y=\"224.64\"/>\r\n      </g>\r\n     </g>\r\n     <g id=\"text_2\">\r\n      <!-- 100 -->\r\n      <g transform=\"translate(106.382506 239.238438)scale(0.1 -0.1)\">\r\n       <defs>\r\n        <path d=\"M 12.40625 8.296875 \r\nL 28.515625 8.296875 \r\nL 28.515625 63.921875 \r\nL 10.984375 60.40625 \r\nL 10.984375 69.390625 \r\nL 28.421875 72.90625 \r\nL 38.28125 72.90625 \r\nL 38.28125 8.296875 \r\nL 54.390625 8.296875 \r\nL 54.390625 0 \r\nL 12.40625 0 \r\nz\r\n\" id=\"DejaVuSans-49\"/>\r\n       </defs>\r\n       <use xlink:href=\"#DejaVuSans-49\"/>\r\n       <use x=\"63.623047\" xlink:href=\"#DejaVuSans-48\"/>\r\n       <use x=\"127.246094\" xlink:href=\"#DejaVuSans-48\"/>\r\n      </g>\r\n     </g>\r\n    </g>\r\n    <g id=\"xtick_3\">\r\n     <g id=\"line2d_3\">\r\n      <g>\r\n       <use style=\"stroke:#000000;stroke-width:0.8;\" x=\"153.389523\" xlink:href=\"#m54b99ce2e9\" y=\"224.64\"/>\r\n      </g>\r\n     </g>\r\n     <g id=\"text_3\">\r\n      <!-- 150 -->\r\n      <g transform=\"translate(143.845773 239.238438)scale(0.1 -0.1)\">\r\n       <use xlink:href=\"#DejaVuSans-49\"/>\r\n       <use x=\"63.623047\" xlink:href=\"#DejaVuSans-53\"/>\r\n       <use x=\"127.246094\" xlink:href=\"#DejaVuSans-48\"/>\r\n      </g>\r\n     </g>\r\n    </g>\r\n    <g id=\"xtick_4\">\r\n     <g id=\"line2d_4\">\r\n      <g>\r\n       <use style=\"stroke:#000000;stroke-width:0.8;\" x=\"190.85279\" xlink:href=\"#m54b99ce2e9\" y=\"224.64\"/>\r\n      </g>\r\n     </g>\r\n     <g id=\"text_4\">\r\n      <!-- 200 -->\r\n      <g transform=\"translate(181.30904 239.238438)scale(0.1 -0.1)\">\r\n       <defs>\r\n        <path d=\"M 19.1875 8.296875 \r\nL 53.609375 8.296875 \r\nL 53.609375 0 \r\nL 7.328125 0 \r\nL 7.328125 8.296875 \r\nQ 12.9375 14.109375 22.625 23.890625 \r\nQ 32.328125 33.6875 34.8125 36.53125 \r\nQ 39.546875 41.84375 41.421875 45.53125 \r\nQ 43.3125 49.21875 43.3125 52.78125 \r\nQ 43.3125 58.59375 39.234375 62.25 \r\nQ 35.15625 65.921875 28.609375 65.921875 \r\nQ 23.96875 65.921875 18.8125 64.3125 \r\nQ 13.671875 62.703125 7.8125 59.421875 \r\nL 7.8125 69.390625 \r\nQ 13.765625 71.78125 18.9375 73 \r\nQ 24.125 74.21875 28.421875 74.21875 \r\nQ 39.75 74.21875 46.484375 68.546875 \r\nQ 53.21875 62.890625 53.21875 53.421875 \r\nQ 53.21875 48.921875 51.53125 44.890625 \r\nQ 49.859375 40.875 45.40625 35.40625 \r\nQ 44.1875 33.984375 37.640625 27.21875 \r\nQ 31.109375 20.453125 19.1875 8.296875 \r\nz\r\n\" id=\"DejaVuSans-50\"/>\r\n       </defs>\r\n       <use xlink:href=\"#DejaVuSans-50\"/>\r\n       <use x=\"63.623047\" xlink:href=\"#DejaVuSans-48\"/>\r\n       <use x=\"127.246094\" xlink:href=\"#DejaVuSans-48\"/>\r\n      </g>\r\n     </g>\r\n    </g>\r\n    <g id=\"xtick_5\">\r\n     <g id=\"line2d_5\">\r\n      <g>\r\n       <use style=\"stroke:#000000;stroke-width:0.8;\" x=\"228.316057\" xlink:href=\"#m54b99ce2e9\" y=\"224.64\"/>\r\n      </g>\r\n     </g>\r\n     <g id=\"text_5\">\r\n      <!-- 250 -->\r\n      <g transform=\"translate(218.772307 239.238438)scale(0.1 -0.1)\">\r\n       <use xlink:href=\"#DejaVuSans-50\"/>\r\n       <use x=\"63.623047\" xlink:href=\"#DejaVuSans-53\"/>\r\n       <use x=\"127.246094\" xlink:href=\"#DejaVuSans-48\"/>\r\n      </g>\r\n     </g>\r\n    </g>\r\n    <g id=\"xtick_6\">\r\n     <g id=\"line2d_6\">\r\n      <g>\r\n       <use style=\"stroke:#000000;stroke-width:0.8;\" x=\"265.779323\" xlink:href=\"#m54b99ce2e9\" y=\"224.64\"/>\r\n      </g>\r\n     </g>\r\n     <g id=\"text_6\">\r\n      <!-- 300 -->\r\n      <g transform=\"translate(256.235573 239.238438)scale(0.1 -0.1)\">\r\n       <defs>\r\n        <path d=\"M 40.578125 39.3125 \r\nQ 47.65625 37.796875 51.625 33 \r\nQ 55.609375 28.21875 55.609375 21.1875 \r\nQ 55.609375 10.40625 48.1875 4.484375 \r\nQ 40.765625 -1.421875 27.09375 -1.421875 \r\nQ 22.515625 -1.421875 17.65625 -0.515625 \r\nQ 12.796875 0.390625 7.625 2.203125 \r\nL 7.625 11.71875 \r\nQ 11.71875 9.328125 16.59375 8.109375 \r\nQ 21.484375 6.890625 26.8125 6.890625 \r\nQ 36.078125 6.890625 40.9375 10.546875 \r\nQ 45.796875 14.203125 45.796875 21.1875 \r\nQ 45.796875 27.640625 41.28125 31.265625 \r\nQ 36.765625 34.90625 28.71875 34.90625 \r\nL 20.21875 34.90625 \r\nL 20.21875 43.015625 \r\nL 29.109375 43.015625 \r\nQ 36.375 43.015625 40.234375 45.921875 \r\nQ 44.09375 48.828125 44.09375 54.296875 \r\nQ 44.09375 59.90625 40.109375 62.90625 \r\nQ 36.140625 65.921875 28.71875 65.921875 \r\nQ 24.65625 65.921875 20.015625 65.03125 \r\nQ 15.375 64.15625 9.8125 62.3125 \r\nL 9.8125 71.09375 \r\nQ 15.4375 72.65625 20.34375 73.4375 \r\nQ 25.25 74.21875 29.59375 74.21875 \r\nQ 40.828125 74.21875 47.359375 69.109375 \r\nQ 53.90625 64.015625 53.90625 55.328125 \r\nQ 53.90625 49.265625 50.4375 45.09375 \r\nQ 46.96875 40.921875 40.578125 39.3125 \r\nz\r\n\" id=\"DejaVuSans-51\"/>\r\n       </defs>\r\n       <use xlink:href=\"#DejaVuSans-51\"/>\r\n       <use x=\"63.623047\" xlink:href=\"#DejaVuSans-48\"/>\r\n       <use x=\"127.246094\" xlink:href=\"#DejaVuSans-48\"/>\r\n      </g>\r\n     </g>\r\n    </g>\r\n    <g id=\"xtick_7\">\r\n     <g id=\"line2d_7\">\r\n      <g>\r\n       <use style=\"stroke:#000000;stroke-width:0.8;\" x=\"303.24259\" xlink:href=\"#m54b99ce2e9\" y=\"224.64\"/>\r\n      </g>\r\n     </g>\r\n     <g id=\"text_7\">\r\n      <!-- 350 -->\r\n      <g transform=\"translate(293.69884 239.238438)scale(0.1 -0.1)\">\r\n       <use xlink:href=\"#DejaVuSans-51\"/>\r\n       <use x=\"63.623047\" xlink:href=\"#DejaVuSans-53\"/>\r\n       <use x=\"127.246094\" xlink:href=\"#DejaVuSans-48\"/>\r\n      </g>\r\n     </g>\r\n    </g>\r\n    <g id=\"xtick_8\">\r\n     <g id=\"line2d_8\">\r\n      <g>\r\n       <use style=\"stroke:#000000;stroke-width:0.8;\" x=\"340.705857\" xlink:href=\"#m54b99ce2e9\" y=\"224.64\"/>\r\n      </g>\r\n     </g>\r\n     <g id=\"text_8\">\r\n      <!-- 400 -->\r\n      <g transform=\"translate(331.162107 239.238438)scale(0.1 -0.1)\">\r\n       <defs>\r\n        <path d=\"M 37.796875 64.3125 \r\nL 12.890625 25.390625 \r\nL 37.796875 25.390625 \r\nz\r\nM 35.203125 72.90625 \r\nL 47.609375 72.90625 \r\nL 47.609375 25.390625 \r\nL 58.015625 25.390625 \r\nL 58.015625 17.1875 \r\nL 47.609375 17.1875 \r\nL 47.609375 0 \r\nL 37.796875 0 \r\nL 37.796875 17.1875 \r\nL 4.890625 17.1875 \r\nL 4.890625 26.703125 \r\nz\r\n\" id=\"DejaVuSans-52\"/>\r\n       </defs>\r\n       <use xlink:href=\"#DejaVuSans-52\"/>\r\n       <use x=\"63.623047\" xlink:href=\"#DejaVuSans-48\"/>\r\n       <use x=\"127.246094\" xlink:href=\"#DejaVuSans-48\"/>\r\n      </g>\r\n     </g>\r\n    </g>\r\n    <g id=\"xtick_9\">\r\n     <g id=\"line2d_9\">\r\n      <g>\r\n       <use style=\"stroke:#000000;stroke-width:0.8;\" x=\"378.169124\" xlink:href=\"#m54b99ce2e9\" y=\"224.64\"/>\r\n      </g>\r\n     </g>\r\n     <g id=\"text_9\">\r\n      <!-- 450 -->\r\n      <g transform=\"translate(368.625374 239.238438)scale(0.1 -0.1)\">\r\n       <use xlink:href=\"#DejaVuSans-52\"/>\r\n       <use x=\"63.623047\" xlink:href=\"#DejaVuSans-53\"/>\r\n       <use x=\"127.246094\" xlink:href=\"#DejaVuSans-48\"/>\r\n      </g>\r\n     </g>\r\n    </g>\r\n    <g id=\"text_10\">\r\n     <!-- predicted -->\r\n     <g transform=\"translate(199.028125 252.916563)scale(0.1 -0.1)\">\r\n      <defs>\r\n       <path d=\"M 18.109375 8.203125 \r\nL 18.109375 -20.796875 \r\nL 9.078125 -20.796875 \r\nL 9.078125 54.6875 \r\nL 18.109375 54.6875 \r\nL 18.109375 46.390625 \r\nQ 20.953125 51.265625 25.265625 53.625 \r\nQ 29.59375 56 35.59375 56 \r\nQ 45.5625 56 51.78125 48.09375 \r\nQ 58.015625 40.1875 58.015625 27.296875 \r\nQ 58.015625 14.40625 51.78125 6.484375 \r\nQ 45.5625 -1.421875 35.59375 -1.421875 \r\nQ 29.59375 -1.421875 25.265625 0.953125 \r\nQ 20.953125 3.328125 18.109375 8.203125 \r\nz\r\nM 48.6875 27.296875 \r\nQ 48.6875 37.203125 44.609375 42.84375 \r\nQ 40.53125 48.484375 33.40625 48.484375 \r\nQ 26.265625 48.484375 22.1875 42.84375 \r\nQ 18.109375 37.203125 18.109375 27.296875 \r\nQ 18.109375 17.390625 22.1875 11.75 \r\nQ 26.265625 6.109375 33.40625 6.109375 \r\nQ 40.53125 6.109375 44.609375 11.75 \r\nQ 48.6875 17.390625 48.6875 27.296875 \r\nz\r\n\" id=\"DejaVuSans-112\"/>\r\n       <path d=\"M 41.109375 46.296875 \r\nQ 39.59375 47.171875 37.8125 47.578125 \r\nQ 36.03125 48 33.890625 48 \r\nQ 26.265625 48 22.1875 43.046875 \r\nQ 18.109375 38.09375 18.109375 28.8125 \r\nL 18.109375 0 \r\nL 9.078125 0 \r\nL 9.078125 54.6875 \r\nL 18.109375 54.6875 \r\nL 18.109375 46.1875 \r\nQ 20.953125 51.171875 25.484375 53.578125 \r\nQ 30.03125 56 36.53125 56 \r\nQ 37.453125 56 38.578125 55.875 \r\nQ 39.703125 55.765625 41.0625 55.515625 \r\nz\r\n\" id=\"DejaVuSans-114\"/>\r\n       <path d=\"M 56.203125 29.59375 \r\nL 56.203125 25.203125 \r\nL 14.890625 25.203125 \r\nQ 15.484375 15.921875 20.484375 11.0625 \r\nQ 25.484375 6.203125 34.421875 6.203125 \r\nQ 39.59375 6.203125 44.453125 7.46875 \r\nQ 49.3125 8.734375 54.109375 11.28125 \r\nL 54.109375 2.78125 \r\nQ 49.265625 0.734375 44.1875 -0.34375 \r\nQ 39.109375 -1.421875 33.890625 -1.421875 \r\nQ 20.796875 -1.421875 13.15625 6.1875 \r\nQ 5.515625 13.8125 5.515625 26.8125 \r\nQ 5.515625 40.234375 12.765625 48.109375 \r\nQ 20.015625 56 32.328125 56 \r\nQ 43.359375 56 49.78125 48.890625 \r\nQ 56.203125 41.796875 56.203125 29.59375 \r\nz\r\nM 47.21875 32.234375 \r\nQ 47.125 39.59375 43.09375 43.984375 \r\nQ 39.0625 48.390625 32.421875 48.390625 \r\nQ 24.90625 48.390625 20.390625 44.140625 \r\nQ 15.875 39.890625 15.1875 32.171875 \r\nz\r\n\" id=\"DejaVuSans-101\"/>\r\n       <path d=\"M 45.40625 46.390625 \r\nL 45.40625 75.984375 \r\nL 54.390625 75.984375 \r\nL 54.390625 0 \r\nL 45.40625 0 \r\nL 45.40625 8.203125 \r\nQ 42.578125 3.328125 38.25 0.953125 \r\nQ 33.9375 -1.421875 27.875 -1.421875 \r\nQ 17.96875 -1.421875 11.734375 6.484375 \r\nQ 5.515625 14.40625 5.515625 27.296875 \r\nQ 5.515625 40.1875 11.734375 48.09375 \r\nQ 17.96875 56 27.875 56 \r\nQ 33.9375 56 38.25 53.625 \r\nQ 42.578125 51.265625 45.40625 46.390625 \r\nz\r\nM 14.796875 27.296875 \r\nQ 14.796875 17.390625 18.875 11.75 \r\nQ 22.953125 6.109375 30.078125 6.109375 \r\nQ 37.203125 6.109375 41.296875 11.75 \r\nQ 45.40625 17.390625 45.40625 27.296875 \r\nQ 45.40625 37.203125 41.296875 42.84375 \r\nQ 37.203125 48.484375 30.078125 48.484375 \r\nQ 22.953125 48.484375 18.875 42.84375 \r\nQ 14.796875 37.203125 14.796875 27.296875 \r\nz\r\n\" id=\"DejaVuSans-100\"/>\r\n       <path d=\"M 9.421875 54.6875 \r\nL 18.40625 54.6875 \r\nL 18.40625 0 \r\nL 9.421875 0 \r\nz\r\nM 9.421875 75.984375 \r\nL 18.40625 75.984375 \r\nL 18.40625 64.59375 \r\nL 9.421875 64.59375 \r\nz\r\n\" id=\"DejaVuSans-105\"/>\r\n       <path d=\"M 48.78125 52.59375 \r\nL 48.78125 44.1875 \r\nQ 44.96875 46.296875 41.140625 47.34375 \r\nQ 37.3125 48.390625 33.40625 48.390625 \r\nQ 24.65625 48.390625 19.8125 42.84375 \r\nQ 14.984375 37.3125 14.984375 27.296875 \r\nQ 14.984375 17.28125 19.8125 11.734375 \r\nQ 24.65625 6.203125 33.40625 6.203125 \r\nQ 37.3125 6.203125 41.140625 7.25 \r\nQ 44.96875 8.296875 48.78125 10.40625 \r\nL 48.78125 2.09375 \r\nQ 45.015625 0.34375 40.984375 -0.53125 \r\nQ 36.96875 -1.421875 32.421875 -1.421875 \r\nQ 20.0625 -1.421875 12.78125 6.34375 \r\nQ 5.515625 14.109375 5.515625 27.296875 \r\nQ 5.515625 40.671875 12.859375 48.328125 \r\nQ 20.21875 56 33.015625 56 \r\nQ 37.15625 56 41.109375 55.140625 \r\nQ 45.0625 54.296875 48.78125 52.59375 \r\nz\r\n\" id=\"DejaVuSans-99\"/>\r\n       <path d=\"M 18.3125 70.21875 \r\nL 18.3125 54.6875 \r\nL 36.8125 54.6875 \r\nL 36.8125 47.703125 \r\nL 18.3125 47.703125 \r\nL 18.3125 18.015625 \r\nQ 18.3125 11.328125 20.140625 9.421875 \r\nQ 21.96875 7.515625 27.59375 7.515625 \r\nL 36.8125 7.515625 \r\nL 36.8125 0 \r\nL 27.59375 0 \r\nQ 17.1875 0 13.234375 3.875 \r\nQ 9.28125 7.765625 9.28125 18.015625 \r\nL 9.28125 47.703125 \r\nL 2.6875 47.703125 \r\nL 2.6875 54.6875 \r\nL 9.28125 54.6875 \r\nL 9.28125 70.21875 \r\nz\r\n\" id=\"DejaVuSans-116\"/>\r\n      </defs>\r\n      <use xlink:href=\"#DejaVuSans-112\"/>\r\n      <use x=\"63.476562\" xlink:href=\"#DejaVuSans-114\"/>\r\n      <use x=\"102.339844\" xlink:href=\"#DejaVuSans-101\"/>\r\n      <use x=\"163.863281\" xlink:href=\"#DejaVuSans-100\"/>\r\n      <use x=\"227.339844\" xlink:href=\"#DejaVuSans-105\"/>\r\n      <use x=\"255.123047\" xlink:href=\"#DejaVuSans-99\"/>\r\n      <use x=\"310.103516\" xlink:href=\"#DejaVuSans-116\"/>\r\n      <use x=\"349.3125\" xlink:href=\"#DejaVuSans-101\"/>\r\n      <use x=\"410.835938\" xlink:href=\"#DejaVuSans-100\"/>\r\n     </g>\r\n    </g>\r\n   </g>\r\n   <g id=\"matplotlib.axis_2\">\r\n    <g id=\"ytick_1\">\r\n     <g id=\"line2d_10\">\r\n      <defs>\r\n       <path d=\"M 0 0 \r\nL -3.5 0 \r\n\" id=\"mb4acf12518\" style=\"stroke:#000000;stroke-width:0.8;\"/>\r\n      </defs>\r\n      <g>\r\n       <use style=\"stroke:#000000;stroke-width:0.8;\" x=\"55.345313\" xlink:href=\"#mb4acf12518\" y=\"223.334666\"/>\r\n      </g>\r\n     </g>\r\n     <g id=\"text_11\">\r\n      <!-- −300 -->\r\n      <g transform=\"translate(20.878125 227.133885)scale(0.1 -0.1)\">\r\n       <defs>\r\n        <path d=\"M 10.59375 35.5 \r\nL 73.1875 35.5 \r\nL 73.1875 27.203125 \r\nL 10.59375 27.203125 \r\nz\r\n\" id=\"DejaVuSans-8722\"/>\r\n       </defs>\r\n       <use xlink:href=\"#DejaVuSans-8722\"/>\r\n       <use x=\"83.789062\" xlink:href=\"#DejaVuSans-51\"/>\r\n       <use x=\"147.412109\" xlink:href=\"#DejaVuSans-48\"/>\r\n       <use x=\"211.035156\" xlink:href=\"#DejaVuSans-48\"/>\r\n      </g>\r\n     </g>\r\n    </g>\r\n    <g id=\"ytick_2\">\r\n     <g id=\"line2d_11\">\r\n      <g>\r\n       <use style=\"stroke:#000000;stroke-width:0.8;\" x=\"55.345313\" xlink:href=\"#mb4acf12518\" y=\"190.750869\"/>\r\n      </g>\r\n     </g>\r\n     <g id=\"text_12\">\r\n      <!-- −200 -->\r\n      <g transform=\"translate(20.878125 194.550088)scale(0.1 -0.1)\">\r\n       <use xlink:href=\"#DejaVuSans-8722\"/>\r\n       <use x=\"83.789062\" xlink:href=\"#DejaVuSans-50\"/>\r\n       <use x=\"147.412109\" xlink:href=\"#DejaVuSans-48\"/>\r\n       <use x=\"211.035156\" xlink:href=\"#DejaVuSans-48\"/>\r\n      </g>\r\n     </g>\r\n    </g>\r\n    <g id=\"ytick_3\">\r\n     <g id=\"line2d_12\">\r\n      <g>\r\n       <use style=\"stroke:#000000;stroke-width:0.8;\" x=\"55.345313\" xlink:href=\"#mb4acf12518\" y=\"158.167073\"/>\r\n      </g>\r\n     </g>\r\n     <g id=\"text_13\">\r\n      <!-- −100 -->\r\n      <g transform=\"translate(20.878125 161.966292)scale(0.1 -0.1)\">\r\n       <use xlink:href=\"#DejaVuSans-8722\"/>\r\n       <use x=\"83.789062\" xlink:href=\"#DejaVuSans-49\"/>\r\n       <use x=\"147.412109\" xlink:href=\"#DejaVuSans-48\"/>\r\n       <use x=\"211.035156\" xlink:href=\"#DejaVuSans-48\"/>\r\n      </g>\r\n     </g>\r\n    </g>\r\n    <g id=\"ytick_4\">\r\n     <g id=\"line2d_13\">\r\n      <g>\r\n       <use style=\"stroke:#000000;stroke-width:0.8;\" x=\"55.345313\" xlink:href=\"#mb4acf12518\" y=\"125.583276\"/>\r\n      </g>\r\n     </g>\r\n     <g id=\"text_14\">\r\n      <!-- 0 -->\r\n      <g transform=\"translate(41.982813 129.382495)scale(0.1 -0.1)\">\r\n       <use xlink:href=\"#DejaVuSans-48\"/>\r\n      </g>\r\n     </g>\r\n    </g>\r\n    <g id=\"ytick_5\">\r\n     <g id=\"line2d_14\">\r\n      <g>\r\n       <use style=\"stroke:#000000;stroke-width:0.8;\" x=\"55.345313\" xlink:href=\"#mb4acf12518\" y=\"92.99948\"/>\r\n      </g>\r\n     </g>\r\n     <g id=\"text_15\">\r\n      <!-- 100 -->\r\n      <g transform=\"translate(29.257813 96.798698)scale(0.1 -0.1)\">\r\n       <use xlink:href=\"#DejaVuSans-49\"/>\r\n       <use x=\"63.623047\" xlink:href=\"#DejaVuSans-48\"/>\r\n       <use x=\"127.246094\" xlink:href=\"#DejaVuSans-48\"/>\r\n      </g>\r\n     </g>\r\n    </g>\r\n    <g id=\"ytick_6\">\r\n     <g id=\"line2d_15\">\r\n      <g>\r\n       <use style=\"stroke:#000000;stroke-width:0.8;\" x=\"55.345313\" xlink:href=\"#mb4acf12518\" y=\"60.415683\"/>\r\n      </g>\r\n     </g>\r\n     <g id=\"text_16\">\r\n      <!-- 200 -->\r\n      <g transform=\"translate(29.257813 64.214902)scale(0.1 -0.1)\">\r\n       <use xlink:href=\"#DejaVuSans-50\"/>\r\n       <use x=\"63.623047\" xlink:href=\"#DejaVuSans-48\"/>\r\n       <use x=\"127.246094\" xlink:href=\"#DejaVuSans-48\"/>\r\n      </g>\r\n     </g>\r\n    </g>\r\n    <g id=\"ytick_7\">\r\n     <g id=\"line2d_16\">\r\n      <g>\r\n       <use style=\"stroke:#000000;stroke-width:0.8;\" x=\"55.345313\" xlink:href=\"#mb4acf12518\" y=\"27.831887\"/>\r\n      </g>\r\n     </g>\r\n     <g id=\"text_17\">\r\n      <!-- 300 -->\r\n      <g transform=\"translate(29.257813 31.631105)scale(0.1 -0.1)\">\r\n       <use xlink:href=\"#DejaVuSans-51\"/>\r\n       <use x=\"63.623047\" xlink:href=\"#DejaVuSans-48\"/>\r\n       <use x=\"127.246094\" xlink:href=\"#DejaVuSans-48\"/>\r\n      </g>\r\n     </g>\r\n    </g>\r\n    <g id=\"text_18\">\r\n     <!-- difference -->\r\n     <g transform=\"translate(14.798438 141.094219)rotate(-90)scale(0.1 -0.1)\">\r\n      <defs>\r\n       <path d=\"M 37.109375 75.984375 \r\nL 37.109375 68.5 \r\nL 28.515625 68.5 \r\nQ 23.6875 68.5 21.796875 66.546875 \r\nQ 19.921875 64.59375 19.921875 59.515625 \r\nL 19.921875 54.6875 \r\nL 34.71875 54.6875 \r\nL 34.71875 47.703125 \r\nL 19.921875 47.703125 \r\nL 19.921875 0 \r\nL 10.890625 0 \r\nL 10.890625 47.703125 \r\nL 2.296875 47.703125 \r\nL 2.296875 54.6875 \r\nL 10.890625 54.6875 \r\nL 10.890625 58.5 \r\nQ 10.890625 67.625 15.140625 71.796875 \r\nQ 19.390625 75.984375 28.609375 75.984375 \r\nz\r\n\" id=\"DejaVuSans-102\"/>\r\n       <path d=\"M 54.890625 33.015625 \r\nL 54.890625 0 \r\nL 45.90625 0 \r\nL 45.90625 32.71875 \r\nQ 45.90625 40.484375 42.875 44.328125 \r\nQ 39.84375 48.1875 33.796875 48.1875 \r\nQ 26.515625 48.1875 22.3125 43.546875 \r\nQ 18.109375 38.921875 18.109375 30.90625 \r\nL 18.109375 0 \r\nL 9.078125 0 \r\nL 9.078125 54.6875 \r\nL 18.109375 54.6875 \r\nL 18.109375 46.1875 \r\nQ 21.34375 51.125 25.703125 53.5625 \r\nQ 30.078125 56 35.796875 56 \r\nQ 45.21875 56 50.046875 50.171875 \r\nQ 54.890625 44.34375 54.890625 33.015625 \r\nz\r\n\" id=\"DejaVuSans-110\"/>\r\n      </defs>\r\n      <use xlink:href=\"#DejaVuSans-100\"/>\r\n      <use x=\"63.476562\" xlink:href=\"#DejaVuSans-105\"/>\r\n      <use x=\"91.259766\" xlink:href=\"#DejaVuSans-102\"/>\r\n      <use x=\"126.464844\" xlink:href=\"#DejaVuSans-102\"/>\r\n      <use x=\"161.669922\" xlink:href=\"#DejaVuSans-101\"/>\r\n      <use x=\"223.193359\" xlink:href=\"#DejaVuSans-114\"/>\r\n      <use x=\"262.056641\" xlink:href=\"#DejaVuSans-101\"/>\r\n      <use x=\"323.580078\" xlink:href=\"#DejaVuSans-110\"/>\r\n      <use x=\"386.958984\" xlink:href=\"#DejaVuSans-99\"/>\r\n      <use x=\"441.939453\" xlink:href=\"#DejaVuSans-101\"/>\r\n     </g>\r\n    </g>\r\n   </g>\r\n   <g id=\"line2d_17\">\r\n    <defs>\r\n     <path d=\"M 0 3 \r\nC 0.795609 3 1.55874 2.683901 2.12132 2.12132 \r\nC 2.683901 1.55874 3 0.795609 3 0 \r\nC 3 -0.795609 2.683901 -1.55874 2.12132 -2.12132 \r\nC 1.55874 -2.683901 0.795609 -3 0 -3 \r\nC -0.795609 -3 -1.55874 -2.683901 -2.12132 -2.12132 \r\nC -2.683901 -1.55874 -3 -0.795609 -3 0 \r\nC -3 0.795609 -2.683901 1.55874 -2.12132 2.12132 \r\nC -1.55874 2.683901 -0.795609 3 0 3 \r\nz\r\n\" id=\"m420821e137\" style=\"stroke:#0000ff;\"/>\r\n    </defs>\r\n    <g clip-path=\"url(#pf72b2b5f23)\">\r\n     <use style=\"fill:#0000ff;stroke:#0000ff;\" x=\"185.357068\" xlink:href=\"#m420821e137\" y=\"133.294292\"/>\r\n     <use style=\"fill:#0000ff;stroke:#0000ff;\" x=\"233.264138\" xlink:href=\"#m420821e137\" y=\"134.577678\"/>\r\n     <use style=\"fill:#0000ff;stroke:#0000ff;\" x=\"92.648278\" xlink:href=\"#m420821e137\" y=\"118.718608\"/>\r\n     <use style=\"fill:#0000ff;stroke:#0000ff;\" x=\"118.351504\" xlink:href=\"#m420821e137\" y=\"61.470367\"/>\r\n     <use style=\"fill:#0000ff;stroke:#0000ff;\" x=\"152.107826\" xlink:href=\"#m420821e137\" y=\"130.239303\"/>\r\n     <use style=\"fill:#0000ff;stroke:#0000ff;\" x=\"121.31631\" xlink:href=\"#m420821e137\" y=\"132.814854\"/>\r\n     <use style=\"fill:#0000ff;stroke:#0000ff;\" x=\"102.279946\" xlink:href=\"#m420821e137\" y=\"122.907195\"/>\r\n     <use style=\"fill:#0000ff;stroke:#0000ff;\" x=\"89.931159\" xlink:href=\"#m420821e137\" y=\"122.750404\"/>\r\n     <use style=\"fill:#0000ff;stroke:#0000ff;\" x=\"128.832747\" xlink:href=\"#m420821e137\" y=\"131.196007\"/>\r\n     <use style=\"fill:#0000ff;stroke:#0000ff;\" x=\"104.964706\" xlink:href=\"#m420821e137\" y=\"121.793869\"/>\r\n     <use style=\"fill:#0000ff;stroke:#0000ff;\" x=\"79.40835\" xlink:href=\"#m420821e137\" y=\"126.320229\"/>\r\n     <use style=\"fill:#0000ff;stroke:#0000ff;\" x=\"144.925321\" xlink:href=\"#m420821e137\" y=\"89.318596\"/>\r\n     <use style=\"fill:#0000ff;stroke:#0000ff;\" x=\"119.787084\" xlink:href=\"#m420821e137\" y=\"132.149829\"/>\r\n     <use style=\"fill:#0000ff;stroke:#0000ff;\" x=\"102.78375\" xlink:href=\"#m420821e137\" y=\"122.148774\"/>\r\n     <use style=\"fill:#0000ff;stroke:#0000ff;\" x=\"133.534366\" xlink:href=\"#m420821e137\" y=\"126.723872\"/>\r\n     <use style=\"fill:#0000ff;stroke:#0000ff;\" x=\"99.971412\" xlink:href=\"#m420821e137\" y=\"115.386508\"/>\r\n     <use style=\"fill:#0000ff;stroke:#0000ff;\" x=\"79.353247\" xlink:href=\"#m420821e137\" y=\"129.228808\"/>\r\n     <use style=\"fill:#0000ff;stroke:#0000ff;\" x=\"108.738596\" xlink:href=\"#m420821e137\" y=\"129.300128\"/>\r\n     <use style=\"fill:#0000ff;stroke:#0000ff;\" x=\"87.336018\" xlink:href=\"#m420821e137\" y=\"126.183569\"/>\r\n     <use style=\"fill:#0000ff;stroke:#0000ff;\" x=\"74.635354\" xlink:href=\"#m420821e137\" y=\"127.177107\"/>\r\n     <use style=\"fill:#0000ff;stroke:#0000ff;\" x=\"146.5441\" xlink:href=\"#m420821e137\" y=\"142.15664\"/>\r\n     <use style=\"fill:#0000ff;stroke:#0000ff;\" x=\"126.894679\" xlink:href=\"#m420821e137\" y=\"137.521622\"/>\r\n     <use style=\"fill:#0000ff;stroke:#0000ff;\" x=\"82.995643\" xlink:href=\"#m420821e137\" y=\"115.498417\"/>\r\n     <use style=\"fill:#0000ff;stroke:#0000ff;\" x=\"185.228011\" xlink:href=\"#m420821e137\" y=\"92.182585\"/>\r\n     <use style=\"fill:#0000ff;stroke:#0000ff;\" x=\"110.720242\" xlink:href=\"#m420821e137\" y=\"118.431733\"/>\r\n     <use style=\"fill:#0000ff;stroke:#0000ff;\" x=\"364.352743\" xlink:href=\"#m420821e137\" y=\"176.596499\"/>\r\n     <use style=\"fill:#0000ff;stroke:#0000ff;\" x=\"119.158741\" xlink:href=\"#m420821e137\" y=\"130.247388\"/>\r\n     <use style=\"fill:#0000ff;stroke:#0000ff;\" x=\"161.822725\" xlink:href=\"#m420821e137\" y=\"128.924841\"/>\r\n     <use style=\"fill:#0000ff;stroke:#0000ff;\" x=\"93.699718\" xlink:href=\"#m420821e137\" y=\"114.288285\"/>\r\n     <use style=\"fill:#0000ff;stroke:#0000ff;\" x=\"96.488528\" xlink:href=\"#m420821e137\" y=\"132.444648\"/>\r\n     <use style=\"fill:#0000ff;stroke:#0000ff;\" x=\"153.17368\" xlink:href=\"#m420821e137\" y=\"132.332009\"/>\r\n     <use style=\"fill:#0000ff;stroke:#0000ff;\" x=\"81.063649\" xlink:href=\"#m420821e137\" y=\"129.972622\"/>\r\n     <use style=\"fill:#0000ff;stroke:#0000ff;\" x=\"116.714882\" xlink:href=\"#m420821e137\" y=\"121.038662\"/>\r\n     <use style=\"fill:#0000ff;stroke:#0000ff;\" x=\"217.005215\" xlink:href=\"#m420821e137\" y=\"145.102303\"/>\r\n     <use style=\"fill:#0000ff;stroke:#0000ff;\" x=\"114.277757\" xlink:href=\"#m420821e137\" y=\"124.866383\"/>\r\n     <use style=\"fill:#0000ff;stroke:#0000ff;\" x=\"124.967419\" xlink:href=\"#m420821e137\" y=\"134.728474\"/>\r\n     <use style=\"fill:#0000ff;stroke:#0000ff;\" x=\"150.430966\" xlink:href=\"#m420821e137\" y=\"124.296669\"/>\r\n     <use style=\"fill:#0000ff;stroke:#0000ff;\" x=\"153.785014\" xlink:href=\"#m420821e137\" y=\"132.597863\"/>\r\n     <use style=\"fill:#0000ff;stroke:#0000ff;\" x=\"117.248967\" xlink:href=\"#m420821e137\" y=\"107.911566\"/>\r\n     <use style=\"fill:#0000ff;stroke:#0000ff;\" x=\"85.216412\" xlink:href=\"#m420821e137\" y=\"126.890992\"/>\r\n     <use style=\"fill:#0000ff;stroke:#0000ff;\" x=\"126.41512\" xlink:href=\"#m420821e137\" y=\"127.537934\"/>\r\n     <use style=\"fill:#0000ff;stroke:#0000ff;\" x=\"226.878676\" xlink:href=\"#m420821e137\" y=\"144.508471\"/>\r\n     <use style=\"fill:#0000ff;stroke:#0000ff;\" x=\"92.180792\" xlink:href=\"#m420821e137\" y=\"125.357907\"/>\r\n     <use style=\"fill:#0000ff;stroke:#0000ff;\" x=\"96.852083\" xlink:href=\"#m420821e137\" y=\"129.670207\"/>\r\n     <use style=\"fill:#0000ff;stroke:#0000ff;\" x=\"123.33903\" xlink:href=\"#m420821e137\" y=\"117.402589\"/>\r\n     <use style=\"fill:#0000ff;stroke:#0000ff;\" x=\"95.87282\" xlink:href=\"#m420821e137\" y=\"131.525215\"/>\r\n     <use style=\"fill:#0000ff;stroke:#0000ff;\" x=\"141.235131\" xlink:href=\"#m420821e137\" y=\"71.747759\"/>\r\n     <use style=\"fill:#0000ff;stroke:#0000ff;\" x=\"160.660971\" xlink:href=\"#m420821e137\" y=\"136.891408\"/>\r\n     <use style=\"fill:#0000ff;stroke:#0000ff;\" x=\"76.704054\" xlink:href=\"#m420821e137\" y=\"128.076736\"/>\r\n     <use style=\"fill:#0000ff;stroke:#0000ff;\" x=\"88.085679\" xlink:href=\"#m420821e137\" y=\"123.577038\"/>\r\n     <use style=\"fill:#0000ff;stroke:#0000ff;\" x=\"169.843015\" xlink:href=\"#m420821e137\" y=\"144.142844\"/>\r\n     <use style=\"fill:#0000ff;stroke:#0000ff;\" x=\"160.582449\" xlink:href=\"#m420821e137\" y=\"104.273464\"/>\r\n     <use style=\"fill:#0000ff;stroke:#0000ff;\" x=\"104.936114\" xlink:href=\"#m420821e137\" y=\"132.20825\"/>\r\n     <use style=\"fill:#0000ff;stroke:#0000ff;\" x=\"78.701933\" xlink:href=\"#m420821e137\" y=\"125.687187\"/>\r\n     <use style=\"fill:#0000ff;stroke:#0000ff;\" x=\"145.639218\" xlink:href=\"#m420821e137\" y=\"130.032961\"/>\r\n     <use style=\"fill:#0000ff;stroke:#0000ff;\" x=\"120.767513\" xlink:href=\"#m420821e137\" y=\"113.025917\"/>\r\n     <use style=\"fill:#0000ff;stroke:#0000ff;\" x=\"149.113618\" xlink:href=\"#m420821e137\" y=\"131.543896\"/>\r\n     <use style=\"fill:#0000ff;stroke:#0000ff;\" x=\"135.664756\" xlink:href=\"#m420821e137\" y=\"120.807732\"/>\r\n     <use style=\"fill:#0000ff;stroke:#0000ff;\" x=\"172.693545\" xlink:href=\"#m420821e137\" y=\"134.303982\"/>\r\n     <use style=\"fill:#0000ff;stroke:#0000ff;\" x=\"145.086171\" xlink:href=\"#m420821e137\" y=\"135.331699\"/>\r\n     <use style=\"fill:#0000ff;stroke:#0000ff;\" x=\"125.438198\" xlink:href=\"#m420821e137\" y=\"133.955691\"/>\r\n     <use style=\"fill:#0000ff;stroke:#0000ff;\" x=\"152.946558\" xlink:href=\"#m420821e137\" y=\"102.907821\"/>\r\n     <use style=\"fill:#0000ff;stroke:#0000ff;\" x=\"138.361751\" xlink:href=\"#m420821e137\" y=\"132.081568\"/>\r\n     <use style=\"fill:#0000ff;stroke:#0000ff;\" x=\"115.021042\" xlink:href=\"#m420821e137\" y=\"121.93124\"/>\r\n     <use style=\"fill:#0000ff;stroke:#0000ff;\" x=\"119.540023\" xlink:href=\"#m420821e137\" y=\"132.042388\"/>\r\n     <use style=\"fill:#0000ff;stroke:#0000ff;\" x=\"114.878775\" xlink:href=\"#m420821e137\" y=\"113.723422\"/>\r\n     <use style=\"fill:#0000ff;stroke:#0000ff;\" x=\"142.06516\" xlink:href=\"#m420821e137\" y=\"101.434136\"/>\r\n     <use style=\"fill:#0000ff;stroke:#0000ff;\" x=\"107.04627\" xlink:href=\"#m420821e137\" y=\"131.822555\"/>\r\n     <use style=\"fill:#0000ff;stroke:#0000ff;\" x=\"117.753615\" xlink:href=\"#m420821e137\" y=\"126.377952\"/>\r\n     <use style=\"fill:#0000ff;stroke:#0000ff;\" x=\"91.853839\" xlink:href=\"#m420821e137\" y=\"126.519074\"/>\r\n     <use style=\"fill:#0000ff;stroke:#0000ff;\" x=\"126.088763\" xlink:href=\"#m420821e137\" y=\"135.21612\"/>\r\n     <use style=\"fill:#0000ff;stroke:#0000ff;\" x=\"144.87129\" xlink:href=\"#m420821e137\" y=\"147.945933\"/>\r\n     <use style=\"fill:#0000ff;stroke:#0000ff;\" x=\"108.16185\" xlink:href=\"#m420821e137\" y=\"131.981857\"/>\r\n     <use style=\"fill:#0000ff;stroke:#0000ff;\" x=\"374.927131\" xlink:href=\"#m420821e137\" y=\"214.756364\"/>\r\n     <use style=\"fill:#0000ff;stroke:#0000ff;\" x=\"252.40746\" xlink:href=\"#m420821e137\" y=\"103.476267\"/>\r\n     <use style=\"fill:#0000ff;stroke:#0000ff;\" x=\"73.257075\" xlink:href=\"#m420821e137\" y=\"126.577725\"/>\r\n     <use style=\"fill:#0000ff;stroke:#0000ff;\" x=\"120.202459\" xlink:href=\"#m420821e137\" y=\"117.667758\"/>\r\n     <use style=\"fill:#0000ff;stroke:#0000ff;\" x=\"180.500552\" xlink:href=\"#m420821e137\" y=\"145.519178\"/>\r\n     <use style=\"fill:#0000ff;stroke:#0000ff;\" x=\"132.19804\" xlink:href=\"#m420821e137\" y=\"135.917874\"/>\r\n     <use style=\"fill:#0000ff;stroke:#0000ff;\" x=\"159.932725\" xlink:href=\"#m420821e137\" y=\"133.316331\"/>\r\n     <use style=\"fill:#0000ff;stroke:#0000ff;\" x=\"75.160228\" xlink:href=\"#m420821e137\" y=\"120.888603\"/>\r\n     <use style=\"fill:#0000ff;stroke:#0000ff;\" x=\"328.925553\" xlink:href=\"#m420821e137\" y=\"22.708908\"/>\r\n     <use style=\"fill:#0000ff;stroke:#0000ff;\" x=\"110.643925\" xlink:href=\"#m420821e137\" y=\"130.128711\"/>\r\n     <use style=\"fill:#0000ff;stroke:#0000ff;\" x=\"138.960904\" xlink:href=\"#m420821e137\" y=\"127.128719\"/>\r\n     <use style=\"fill:#0000ff;stroke:#0000ff;\" x=\"179.937265\" xlink:href=\"#m420821e137\" y=\"137.454106\"/>\r\n     <use style=\"fill:#0000ff;stroke:#0000ff;\" x=\"179.001063\" xlink:href=\"#m420821e137\" y=\"108.373233\"/>\r\n     <use style=\"fill:#0000ff;stroke:#0000ff;\" x=\"103.98232\" xlink:href=\"#m420821e137\" y=\"125.276707\"/>\r\n     <use style=\"fill:#0000ff;stroke:#0000ff;\" x=\"147.95702\" xlink:href=\"#m420821e137\" y=\"139.512706\"/>\r\n     <use style=\"fill:#0000ff;stroke:#0000ff;\" x=\"167.034588\" xlink:href=\"#m420821e137\" y=\"148.134932\"/>\r\n     <use style=\"fill:#0000ff;stroke:#0000ff;\" x=\"110.266356\" xlink:href=\"#m420821e137\" y=\"119.863538\"/>\r\n     <use style=\"fill:#0000ff;stroke:#0000ff;\" x=\"200.662701\" xlink:href=\"#m420821e137\" y=\"113.557479\"/>\r\n     <use style=\"fill:#0000ff;stroke:#0000ff;\" x=\"98.409587\" xlink:href=\"#m420821e137\" y=\"119.594876\"/>\r\n     <use style=\"fill:#0000ff;stroke:#0000ff;\" x=\"111.111593\" xlink:href=\"#m420821e137\" y=\"128.377061\"/>\r\n     <use style=\"fill:#0000ff;stroke:#0000ff;\" x=\"117.988192\" xlink:href=\"#m420821e137\" y=\"144.401052\"/>\r\n     <use style=\"fill:#0000ff;stroke:#0000ff;\" x=\"183.514696\" xlink:href=\"#m420821e137\" y=\"124.021301\"/>\r\n     <use style=\"fill:#0000ff;stroke:#0000ff;\" x=\"112.196496\" xlink:href=\"#m420821e137\" y=\"130.803888\"/>\r\n     <use style=\"fill:#0000ff;stroke:#0000ff;\" x=\"120.137685\" xlink:href=\"#m420821e137\" y=\"130.673108\"/>\r\n     <use style=\"fill:#0000ff;stroke:#0000ff;\" x=\"123.646729\" xlink:href=\"#m420821e137\" y=\"128.940729\"/>\r\n     <use style=\"fill:#0000ff;stroke:#0000ff;\" x=\"105.240096\" xlink:href=\"#m420821e137\" y=\"72.386258\"/>\r\n     <use style=\"fill:#0000ff;stroke:#0000ff;\" x=\"94.876055\" xlink:href=\"#m420821e137\" y=\"124.574985\"/>\r\n     <use style=\"fill:#0000ff;stroke:#0000ff;\" x=\"121.712234\" xlink:href=\"#m420821e137\" y=\"123.211893\"/>\r\n     <use style=\"fill:#0000ff;stroke:#0000ff;\" x=\"107.067425\" xlink:href=\"#m420821e137\" y=\"136.393486\"/>\r\n     <use style=\"fill:#0000ff;stroke:#0000ff;\" x=\"70.563494\" xlink:href=\"#m420821e137\" y=\"115.631211\"/>\r\n     <use style=\"fill:#0000ff;stroke:#0000ff;\" x=\"127.95119\" xlink:href=\"#m420821e137\" y=\"112.891551\"/>\r\n     <use style=\"fill:#0000ff;stroke:#0000ff;\" x=\"123.376839\" xlink:href=\"#m420821e137\" y=\"130.45255\"/>\r\n     <use style=\"fill:#0000ff;stroke:#0000ff;\" x=\"129.291637\" xlink:href=\"#m420821e137\" y=\"137.912327\"/>\r\n     <use style=\"fill:#0000ff;stroke:#0000ff;\" x=\"243.25931\" xlink:href=\"#m420821e137\" y=\"115.789849\"/>\r\n     <use style=\"fill:#0000ff;stroke:#0000ff;\" x=\"107.272289\" xlink:href=\"#m420821e137\" y=\"122.145706\"/>\r\n     <use style=\"fill:#0000ff;stroke:#0000ff;\" x=\"76.954085\" xlink:href=\"#m420821e137\" y=\"128.185469\"/>\r\n     <use style=\"fill:#0000ff;stroke:#0000ff;\" x=\"200.505138\" xlink:href=\"#m420821e137\" y=\"137.926806\"/>\r\n     <use style=\"fill:#0000ff;stroke:#0000ff;\" x=\"87.977945\" xlink:href=\"#m420821e137\" y=\"56.407566\"/>\r\n     <use style=\"fill:#0000ff;stroke:#0000ff;\" x=\"80.121527\" xlink:href=\"#m420821e137\" y=\"129.562915\"/>\r\n     <use style=\"fill:#0000ff;stroke:#0000ff;\" x=\"241.063691\" xlink:href=\"#m420821e137\" y=\"17.083636\"/>\r\n     <use style=\"fill:#0000ff;stroke:#0000ff;\" x=\"138.358192\" xlink:href=\"#m420821e137\" y=\"125.889099\"/>\r\n     <use style=\"fill:#0000ff;stroke:#0000ff;\" x=\"130.40009\" xlink:href=\"#m420821e137\" y=\"118.844089\"/>\r\n     <use style=\"fill:#0000ff;stroke:#0000ff;\" x=\"153.522419\" xlink:href=\"#m420821e137\" y=\"125.966908\"/>\r\n     <use style=\"fill:#0000ff;stroke:#0000ff;\" x=\"146.042474\" xlink:href=\"#m420821e137\" y=\"101.208749\"/>\r\n     <use style=\"fill:#0000ff;stroke:#0000ff;\" x=\"101.77515\" xlink:href=\"#m420821e137\" y=\"111.283342\"/>\r\n     <use style=\"fill:#0000ff;stroke:#0000ff;\" x=\"160.105658\" xlink:href=\"#m420821e137\" y=\"145.121703\"/>\r\n     <use style=\"fill:#0000ff;stroke:#0000ff;\" x=\"210.750978\" xlink:href=\"#m420821e137\" y=\"101.652736\"/>\r\n     <use style=\"fill:#0000ff;stroke:#0000ff;\" x=\"165.148018\" xlink:href=\"#m420821e137\" y=\"95.832108\"/>\r\n     <use style=\"fill:#0000ff;stroke:#0000ff;\" x=\"121.648735\" xlink:href=\"#m420821e137\" y=\"136.217798\"/>\r\n     <use style=\"fill:#0000ff;stroke:#0000ff;\" x=\"126.980163\" xlink:href=\"#m420821e137\" y=\"123.873602\"/>\r\n     <use style=\"fill:#0000ff;stroke:#0000ff;\" x=\"189.863354\" xlink:href=\"#m420821e137\" y=\"133.298943\"/>\r\n     <use style=\"fill:#0000ff;stroke:#0000ff;\" x=\"126.778337\" xlink:href=\"#m420821e137\" y=\"150.178708\"/>\r\n     <use style=\"fill:#0000ff;stroke:#0000ff;\" x=\"82.250547\" xlink:href=\"#m420821e137\" y=\"127.556235\"/>\r\n     <use style=\"fill:#0000ff;stroke:#0000ff;\" x=\"147.508788\" xlink:href=\"#m420821e137\" y=\"129.86848\"/>\r\n     <use style=\"fill:#0000ff;stroke:#0000ff;\" x=\"139.532816\" xlink:href=\"#m420821e137\" y=\"127.703268\"/>\r\n     <use style=\"fill:#0000ff;stroke:#0000ff;\" x=\"100.704837\" xlink:href=\"#m420821e137\" y=\"109.514536\"/>\r\n     <use style=\"fill:#0000ff;stroke:#0000ff;\" x=\"133.238176\" xlink:href=\"#m420821e137\" y=\"115.190737\"/>\r\n     <use style=\"fill:#0000ff;stroke:#0000ff;\" x=\"124.334545\" xlink:href=\"#m420821e137\" y=\"112.947946\"/>\r\n     <use style=\"fill:#0000ff;stroke:#0000ff;\" x=\"124.82021\" xlink:href=\"#m420821e137\" y=\"119.67591\"/>\r\n     <use style=\"fill:#0000ff;stroke:#0000ff;\" x=\"216.467843\" xlink:href=\"#m420821e137\" y=\"110.981464\"/>\r\n     <use style=\"fill:#0000ff;stroke:#0000ff;\" x=\"127.059986\" xlink:href=\"#m420821e137\" y=\"132.054265\"/>\r\n     <use style=\"fill:#0000ff;stroke:#0000ff;\" x=\"132.897232\" xlink:href=\"#m420821e137\" y=\"139.480316\"/>\r\n     <use style=\"fill:#0000ff;stroke:#0000ff;\" x=\"124.592043\" xlink:href=\"#m420821e137\" y=\"129.351824\"/>\r\n     <use style=\"fill:#0000ff;stroke:#0000ff;\" x=\"195.962786\" xlink:href=\"#m420821e137\" y=\"144.097392\"/>\r\n     <use style=\"fill:#0000ff;stroke:#0000ff;\" x=\"117.179212\" xlink:href=\"#m420821e137\" y=\"114.723829\"/>\r\n     <use style=\"fill:#0000ff;stroke:#0000ff;\" x=\"200.369154\" xlink:href=\"#m420821e137\" y=\"97.137924\"/>\r\n     <use style=\"fill:#0000ff;stroke:#0000ff;\" x=\"119.19485\" xlink:href=\"#m420821e137\" y=\"129.611415\"/>\r\n     <use style=\"fill:#0000ff;stroke:#0000ff;\" x=\"74.267644\" xlink:href=\"#m420821e137\" y=\"125.062171\"/>\r\n     <use style=\"fill:#0000ff;stroke:#0000ff;\" x=\"119.668699\" xlink:href=\"#m420821e137\" y=\"130.469157\"/>\r\n    </g>\r\n   </g>\r\n   <g id=\"patch_3\">\r\n    <path d=\"M 55.345313 224.64 \r\nL 55.345313 7.2 \r\n\" style=\"fill:none;stroke:#000000;stroke-linecap:square;stroke-linejoin:miter;stroke-width:0.8;\"/>\r\n   </g>\r\n   <g id=\"patch_4\">\r\n    <path d=\"M 390.145312 224.64 \r\nL 390.145312 7.2 \r\n\" style=\"fill:none;stroke:#000000;stroke-linecap:square;stroke-linejoin:miter;stroke-width:0.8;\"/>\r\n   </g>\r\n   <g id=\"patch_5\">\r\n    <path d=\"M 55.345313 224.64 \r\nL 390.145312 224.64 \r\n\" style=\"fill:none;stroke:#000000;stroke-linecap:square;stroke-linejoin:miter;stroke-width:0.8;\"/>\r\n   </g>\r\n   <g id=\"patch_6\">\r\n    <path d=\"M 55.345313 7.2 \r\nL 390.145312 7.2 \r\n\" style=\"fill:none;stroke:#000000;stroke-linecap:square;stroke-linejoin:miter;stroke-width:0.8;\"/>\r\n   </g>\r\n  </g>\r\n </g>\r\n <defs>\r\n  <clipPath id=\"pf72b2b5f23\">\r\n   <rect height=\"217.44\" width=\"334.8\" x=\"55.345313\" y=\"7.2\"/>\r\n  </clipPath>\r\n </defs>\r\n</svg>\r\n",
      "image/png": "[encoded data removed]"
     },
     "metadata": {
      "needs_background": "light"
     }
    }
   ],
   "source": [
    "preds_vs_act = pd.DataFrame(np.hstack([y2_test.values.reshape(y2_test.size,1), y2_test_preds.reshape(y2_test.size,1)]))\n",
    "preds_vs_act.columns = ['actual', 'preds']\n",
    "preds_vs_act['diff'] = preds_vs_act['actual'] - preds_vs_act['preds']\n",
    "\n",
    "plt.plot(preds_vs_act['preds'], preds_vs_act['diff'], 'bo');\n",
    "plt.xlabel('predicted');\n",
    "plt.ylabel('difference');"
   ]
  },
  {
   "source": [
    "Tercera aproximación: se genera dataset con todas la variable numéricas preseleccionadas con valores numericos y se rellenan los valores NaN por la media de su respectiva variable"
   ],
   "cell_type": "markdown",
   "metadata": {}
  },
  {
   "cell_type": "code",
   "execution_count": 62,
   "metadata": {},
   "outputs": [
    {
     "output_type": "execute_result",
     "data": {
      "text/plain": [
       "       host_is_superhost  host_total_listings_count  host_identity_verified  \\\n",
       "count        3818.000000                3818.000000             3818.000000   \n",
       "mean            0.203878                   7.157757                0.785377   \n",
       "std             0.402827                  28.620648                0.410507   \n",
       "min             0.000000                   1.000000                0.000000   \n",
       "25%             0.000000                   1.000000                1.000000   \n",
       "50%             0.000000                   1.000000                1.000000   \n",
       "75%             0.000000                   3.000000                1.000000   \n",
       "max             1.000000                 502.000000                1.000000   \n",
       "\n",
       "          latitude    longitude  is_location_exact  accommodates    bathrooms  \\\n",
       "count  3818.000000  3818.000000        3818.000000   3818.000000  3818.000000   \n",
       "mean     47.628961  -122.333103           0.893662      3.349398     1.259469   \n",
       "std       0.043052     0.031745           0.308311      1.977599     0.589130   \n",
       "min      47.505088  -122.417219           0.000000      1.000000     0.000000   \n",
       "25%      47.609418  -122.354320           1.000000      2.000000     1.000000   \n",
       "50%      47.623601  -122.328874           1.000000      3.000000     1.000000   \n",
       "75%      47.662694  -122.310800           1.000000      4.000000     1.000000   \n",
       "max      47.733358  -122.240607           1.000000     16.000000     8.000000   \n",
       "\n",
       "          bedrooms         beds  ...  review_scores_rating  \\\n",
       "count  3818.000000  3818.000000  ...           3818.000000   \n",
       "mean      1.307712     1.735394  ...             94.539262   \n",
       "std       0.882700     1.139330  ...              6.020223   \n",
       "min       0.000000     1.000000  ...             20.000000   \n",
       "25%       1.000000     1.000000  ...             94.000000   \n",
       "50%       1.000000     1.000000  ...             95.000000   \n",
       "75%       2.000000     2.000000  ...             98.000000   \n",
       "max       7.000000    15.000000  ...            100.000000   \n",
       "\n",
       "       review_scores_accuracy  review_scores_cleanliness  \\\n",
       "count             3818.000000                3818.000000   \n",
       "mean                 9.636392                   9.556398   \n",
       "std                  0.635022                   0.725880   \n",
       "min                  2.000000                   3.000000   \n",
       "25%                  9.636392                   9.000000   \n",
       "50%                 10.000000                  10.000000   \n",
       "75%                 10.000000                  10.000000   \n",
       "max                 10.000000                  10.000000   \n",
       "\n",
       "       review_scores_checkin  review_scores_communication  \\\n",
       "count            3818.000000                  3818.000000   \n",
       "mean                9.786709                     9.809599   \n",
       "std                 0.541745                     0.517493   \n",
       "min                 2.000000                     2.000000   \n",
       "25%                 9.786709                     9.809599   \n",
       "50%                10.000000                    10.000000   \n",
       "75%                10.000000                    10.000000   \n",
       "max                10.000000                    10.000000   \n",
       "\n",
       "       review_scores_location  review_scores_value  instant_bookable  \\\n",
       "count             3818.000000          3818.000000       3818.000000   \n",
       "mean                 9.608916             9.452245          0.154793   \n",
       "std                  0.572542             0.682751          0.361755   \n",
       "min                  4.000000             2.000000          0.000000   \n",
       "25%                  9.000000             9.000000          0.000000   \n",
       "50%                 10.000000             9.452245          0.000000   \n",
       "75%                 10.000000            10.000000          0.000000   \n",
       "max                 10.000000            10.000000          1.000000   \n",
       "\n",
       "       calculated_host_listings_count  reviews_per_month  \n",
       "count                     3818.000000        3818.000000  \n",
       "mean                         2.946307           2.078919  \n",
       "std                          5.893029           1.665964  \n",
       "min                          1.000000           0.020000  \n",
       "25%                          1.000000           0.830000  \n",
       "50%                          1.000000           2.000000  \n",
       "75%                          2.000000           2.660000  \n",
       "max                         37.000000          12.150000  \n",
       "\n",
       "[8 rows x 34 columns]"
      ],
      "text/html": "<div>\n<style scoped>\n    .dataframe tbody tr th:only-of-type {\n        vertical-align: middle;\n    }\n\n    .dataframe tbody tr th {\n        vertical-align: top;\n    }\n\n    .dataframe thead th {\n        text-align: right;\n    }\n</style>\n<table border=\"1\" class=\"dataframe\">\n  <thead>\n    <tr style=\"text-align: right;\">\n      <th></th>\n      <th>host_is_superhost</th>\n      <th>host_total_listings_count</th>\n      <th>host_identity_verified</th>\n      <th>latitude</th>\n      <th>longitude</th>\n      <th>is_location_exact</th>\n      <th>accommodates</th>\n      <th>bathrooms</th>\n      <th>bedrooms</th>\n      <th>beds</th>\n      <th>...</th>\n      <th>review_scores_rating</th>\n      <th>review_scores_accuracy</th>\n      <th>review_scores_cleanliness</th>\n      <th>review_scores_checkin</th>\n      <th>review_scores_communication</th>\n      <th>review_scores_location</th>\n      <th>review_scores_value</th>\n      <th>instant_bookable</th>\n      <th>calculated_host_listings_count</th>\n      <th>reviews_per_month</th>\n    </tr>\n  </thead>\n  <tbody>\n    <tr>\n      <th>count</th>\n      <td>3818.000000</td>\n      <td>3818.000000</td>\n      <td>3818.000000</td>\n      <td>3818.000000</td>\n      <td>3818.000000</td>\n      <td>3818.000000</td>\n      <td>3818.000000</td>\n      <td>3818.000000</td>\n      <td>3818.000000</td>\n      <td>3818.000000</td>\n      <td>...</td>\n      <td>3818.000000</td>\n      <td>3818.000000</td>\n      <td>3818.000000</td>\n      <td>3818.000000</td>\n      <td>3818.000000</td>\n      <td>3818.000000</td>\n      <td>3818.000000</td>\n      <td>3818.000000</td>\n      <td>3818.000000</td>\n      <td>3818.000000</td>\n    </tr>\n    <tr>\n      <th>mean</th>\n      <td>0.203878</td>\n      <td>7.157757</td>\n      <td>0.785377</td>\n      <td>47.628961</td>\n      <td>-122.333103</td>\n      <td>0.893662</td>\n      <td>3.349398</td>\n      <td>1.259469</td>\n      <td>1.307712</td>\n      <td>1.735394</td>\n      <td>...</td>\n      <td>94.539262</td>\n      <td>9.636392</td>\n      <td>9.556398</td>\n      <td>9.786709</td>\n      <td>9.809599</td>\n      <td>9.608916</td>\n      <td>9.452245</td>\n      <td>0.154793</td>\n      <td>2.946307</td>\n      <td>2.078919</td>\n    </tr>\n    <tr>\n      <th>std</th>\n      <td>0.402827</td>\n      <td>28.620648</td>\n      <td>0.410507</td>\n      <td>0.043052</td>\n      <td>0.031745</td>\n      <td>0.308311</td>\n      <td>1.977599</td>\n      <td>0.589130</td>\n      <td>0.882700</td>\n      <td>1.139330</td>\n      <td>...</td>\n      <td>6.020223</td>\n      <td>0.635022</td>\n      <td>0.725880</td>\n      <td>0.541745</td>\n      <td>0.517493</td>\n      <td>0.572542</td>\n      <td>0.682751</td>\n      <td>0.361755</td>\n      <td>5.893029</td>\n      <td>1.665964</td>\n    </tr>\n    <tr>\n      <th>min</th>\n      <td>0.000000</td>\n      <td>1.000000</td>\n      <td>0.000000</td>\n      <td>47.505088</td>\n      <td>-122.417219</td>\n      <td>0.000000</td>\n      <td>1.000000</td>\n      <td>0.000000</td>\n      <td>0.000000</td>\n      <td>1.000000</td>\n      <td>...</td>\n      <td>20.000000</td>\n      <td>2.000000</td>\n      <td>3.000000</td>\n      <td>2.000000</td>\n      <td>2.000000</td>\n      <td>4.000000</td>\n      <td>2.000000</td>\n      <td>0.000000</td>\n      <td>1.000000</td>\n      <td>0.020000</td>\n    </tr>\n    <tr>\n      <th>25%</th>\n      <td>0.000000</td>\n      <td>1.000000</td>\n      <td>1.000000</td>\n      <td>47.609418</td>\n      <td>-122.354320</td>\n      <td>1.000000</td>\n      <td>2.000000</td>\n      <td>1.000000</td>\n      <td>1.000000</td>\n      <td>1.000000</td>\n      <td>...</td>\n      <td>94.000000</td>\n      <td>9.636392</td>\n      <td>9.000000</td>\n      <td>9.786709</td>\n      <td>9.809599</td>\n      <td>9.000000</td>\n      <td>9.000000</td>\n      <td>0.000000</td>\n      <td>1.000000</td>\n      <td>0.830000</td>\n    </tr>\n    <tr>\n      <th>50%</th>\n      <td>0.000000</td>\n      <td>1.000000</td>\n      <td>1.000000</td>\n      <td>47.623601</td>\n      <td>-122.328874</td>\n      <td>1.000000</td>\n      <td>3.000000</td>\n      <td>1.000000</td>\n      <td>1.000000</td>\n      <td>1.000000</td>\n      <td>...</td>\n      <td>95.000000</td>\n      <td>10.000000</td>\n      <td>10.000000</td>\n      <td>10.000000</td>\n      <td>10.000000</td>\n      <td>10.000000</td>\n      <td>9.452245</td>\n      <td>0.000000</td>\n      <td>1.000000</td>\n      <td>2.000000</td>\n    </tr>\n    <tr>\n      <th>75%</th>\n      <td>0.000000</td>\n      <td>3.000000</td>\n      <td>1.000000</td>\n      <td>47.662694</td>\n      <td>-122.310800</td>\n      <td>1.000000</td>\n      <td>4.000000</td>\n      <td>1.000000</td>\n      <td>2.000000</td>\n      <td>2.000000</td>\n      <td>...</td>\n      <td>98.000000</td>\n      <td>10.000000</td>\n      <td>10.000000</td>\n      <td>10.000000</td>\n      <td>10.000000</td>\n      <td>10.000000</td>\n      <td>10.000000</td>\n      <td>0.000000</td>\n      <td>2.000000</td>\n      <td>2.660000</td>\n    </tr>\n    <tr>\n      <th>max</th>\n      <td>1.000000</td>\n      <td>502.000000</td>\n      <td>1.000000</td>\n      <td>47.733358</td>\n      <td>-122.240607</td>\n      <td>1.000000</td>\n      <td>16.000000</td>\n      <td>8.000000</td>\n      <td>7.000000</td>\n      <td>15.000000</td>\n      <td>...</td>\n      <td>100.000000</td>\n      <td>10.000000</td>\n      <td>10.000000</td>\n      <td>10.000000</td>\n      <td>10.000000</td>\n      <td>10.000000</td>\n      <td>10.000000</td>\n      <td>1.000000</td>\n      <td>37.000000</td>\n      <td>12.150000</td>\n    </tr>\n  </tbody>\n</table>\n<p>8 rows × 34 columns</p>\n</div>"
     },
     "metadata": {},
     "execution_count": 62
    }
   ],
   "source": [
    "numeric_cols = df_1drop[df_1drop.columns].describe()\n",
    "df_aprox3 = df_1drop[numeric_cols.columns]\n"
   ]
  },
  {
   "source": [
    "X3 = df_totrain3.drop(['price','weekly_price','monthly_price'],axis = 1)\n",
    "y3 = df_totrain3['price']\n",
    "X3_train, X3_test, y3_train, y3_test = train_test_split(X3, y3, test_size = .20, random_state=42)\n",
    "scaler3 = StandardScaler()\n",
    "scaler3.fit(X3_train)\n",
    "X3_train = scaler3.transform(X3_train)\n",
    "X3_test = scaler3.transform(X3_test)\n",
    "\n",
    "lr3_model = LinearRegression()\n",
    "rf3_model = RandomForestRegressor(n_estimators=100, criterion = 'mse')\n",
    "sv3_model = SVR(kernel= 'rbf', C= 1000, gamma= 0.01, epsilon=1, cache_size = 500)\n",
    "models3 = [lr3_model, rf3_model, sv3_model]\n",
    "index=['LinearRegression','RandomForestRegressor','SVR']\n",
    "columns=['Train r2 score','Test r2 score','Test MSE']\n",
    "df3_summary=pd.DataFrame(data=None,index=index,columns=columns)\n",
    "for n,model in enumerate(models3):\n",
    "    model.fit(X3_train, y3_train)\n",
    "    y3_train_preds = model.predict(X3_train)\n",
    "    y3_test_preds = model.predict(X3_test)\n",
    "    score = []\n",
    "    score.append(r2_score(y3_train, y3_train_preds))\n",
    "    score.append(r2_score(y3_test, y3_test_preds))\n",
    "    score.append(mean_squared_error(y3_test, y3_test_preds))\n",
    "    df3_summary.loc[df3_summary.index[n]] = score\n",
    "df3_summary"
   ],
   "cell_type": "code",
   "metadata": {},
   "execution_count": 63,
   "outputs": [
    {
     "output_type": "execute_result",
     "data": {
      "text/plain": [
       "                      Train r2 score Test r2 score     Test MSE\n",
       "LinearRegression            0.538072      0.574392  3454.360483\n",
       "RandomForestRegressor       0.936798      0.639259  2927.884616\n",
       "SVR                         0.705888      0.653731  2810.422753"
      ],
      "text/html": "<div>\n<style scoped>\n    .dataframe tbody tr th:only-of-type {\n        vertical-align: middle;\n    }\n\n    .dataframe tbody tr th {\n        vertical-align: top;\n    }\n\n    .dataframe thead th {\n        text-align: right;\n    }\n</style>\n<table border=\"1\" class=\"dataframe\">\n  <thead>\n    <tr style=\"text-align: right;\">\n      <th></th>\n      <th>Train r2 score</th>\n      <th>Test r2 score</th>\n      <th>Test MSE</th>\n    </tr>\n  </thead>\n  <tbody>\n    <tr>\n      <th>LinearRegression</th>\n      <td>0.538072</td>\n      <td>0.574392</td>\n      <td>3454.360483</td>\n    </tr>\n    <tr>\n      <th>RandomForestRegressor</th>\n      <td>0.936798</td>\n      <td>0.639259</td>\n      <td>2927.884616</td>\n    </tr>\n    <tr>\n      <th>SVR</th>\n      <td>0.705888</td>\n      <td>0.653731</td>\n      <td>2810.422753</td>\n    </tr>\n  </tbody>\n</table>\n</div>"
     },
     "metadata": {},
     "execution_count": 63
    }
   ]
  },
  {
   "source": [
    "preds_vs_act = pd.DataFrame(np.hstack([y3_test.values.reshape(y3_test.size,1), y3_test_preds.reshape(y3_test.size,1)]))\n",
    "preds_vs_act.columns = ['actual', 'preds']\n",
    "preds_vs_act['diff'] = preds_vs_act['actual'] - preds_vs_act['preds']\n",
    "\n",
    "plt.plot(preds_vs_act['preds'], preds_vs_act['diff'], 'bo');\n",
    "plt.xlabel('predicted');\n",
    "plt.ylabel('difference');"
   ],
   "cell_type": "code",
   "metadata": {},
   "execution_count": 33,
   "outputs": [
    {
     "output_type": "display_data",
     "data": {
      "text/plain": "<Figure size 432x288 with 1 Axes>",
      "image/svg+xml": "<?xml version=\"1.0\" encoding=\"utf-8\" standalone=\"no\"?>\r\n<!DOCTYPE svg PUBLIC \"-//W3C//DTD SVG 1.1//EN\"\r\n  \"http://www.w3.org/Graphics/SVG/1.1/DTD/svg11.dtd\">\r\n<!-- Created with matplotlib (https://matplotlib.org/) -->\r\n<svg height=\"262.19625pt\" version=\"1.1\" viewBox=\"0 0 397.345312 262.19625\" width=\"397.345312pt\" xmlns=\"http://www.w3.org/2000/svg\" xmlns:xlink=\"http://www.w3.org/1999/xlink\">\r\n <metadata>\r\n  <rdf:RDF xmlns:cc=\"http://creativecommons.org/ns#\" xmlns:dc=\"http://purl.org/dc/elements/1.1/\" xmlns:rdf=\"http://www.w3.org/1999/02/22-rdf-syntax-ns#\">\r\n   <cc:Work>\r\n    <dc:type rdf:resource=\"http://purl.org/dc/dcmitype/StillImage\"/>\r\n    <dc:date>2021-02-12T11:38:52.816311</dc:date>\r\n    <dc:format>image/svg+xml</dc:format>\r\n    <dc:creator>\r\n     <cc:Agent>\r\n      <dc:title>Matplotlib v3.3.4, https://matplotlib.org/</dc:title>\r\n     </cc:Agent>\r\n    </dc:creator>\r\n   </cc:Work>\r\n  </rdf:RDF>\r\n </metadata>\r\n <defs>\r\n  <style type=\"text/css\">*{stroke-linecap:butt;stroke-linejoin:round;}</style>\r\n </defs>\r\n <g id=\"figure_1\">\r\n  <g id=\"patch_1\">\r\n   <path d=\"M 0 262.19625 \r\nL 397.345312 262.19625 \r\nL 397.345312 0 \r\nL 0 0 \r\nz\r\n\" style=\"fill:none;\"/>\r\n  </g>\r\n  <g id=\"axes_1\">\r\n   <g id=\"patch_2\">\r\n    <path d=\"M 55.345313 224.64 \r\nL 390.145312 224.64 \r\nL 390.145312 7.2 \r\nL 55.345313 7.2 \r\nz\r\n\" style=\"fill:#ffffff;\"/>\r\n   </g>\r\n   <g id=\"matplotlib.axis_1\">\r\n    <g id=\"xtick_1\">\r\n     <g id=\"line2d_1\">\r\n      <defs>\r\n       <path d=\"M 0 0 \r\nL 0 3.5 \r\n\" id=\"mea86966bf0\" style=\"stroke:#000000;stroke-width:0.8;\"/>\r\n      </defs>\r\n      <g>\r\n       <use style=\"stroke:#000000;stroke-width:0.8;\" x=\"70.126387\" xlink:href=\"#mea86966bf0\" y=\"224.64\"/>\r\n      </g>\r\n     </g>\r\n     <g id=\"text_1\">\r\n      <!-- 0 -->\r\n      <g transform=\"translate(66.945137 239.238437)scale(0.1 -0.1)\">\r\n       <defs>\r\n        <path d=\"M 31.78125 66.40625 \r\nQ 24.171875 66.40625 20.328125 58.90625 \r\nQ 16.5 51.421875 16.5 36.375 \r\nQ 16.5 21.390625 20.328125 13.890625 \r\nQ 24.171875 6.390625 31.78125 6.390625 \r\nQ 39.453125 6.390625 43.28125 13.890625 \r\nQ 47.125 21.390625 47.125 36.375 \r\nQ 47.125 51.421875 43.28125 58.90625 \r\nQ 39.453125 66.40625 31.78125 66.40625 \r\nz\r\nM 31.78125 74.21875 \r\nQ 44.046875 74.21875 50.515625 64.515625 \r\nQ 56.984375 54.828125 56.984375 36.375 \r\nQ 56.984375 17.96875 50.515625 8.265625 \r\nQ 44.046875 -1.421875 31.78125 -1.421875 \r\nQ 19.53125 -1.421875 13.0625 8.265625 \r\nQ 6.59375 17.96875 6.59375 36.375 \r\nQ 6.59375 54.828125 13.0625 64.515625 \r\nQ 19.53125 74.21875 31.78125 74.21875 \r\nz\r\n\" id=\"DejaVuSans-48\"/>\r\n       </defs>\r\n       <use xlink:href=\"#DejaVuSans-48\"/>\r\n      </g>\r\n     </g>\r\n    </g>\r\n    <g id=\"xtick_2\">\r\n     <g id=\"line2d_2\">\r\n      <g>\r\n       <use style=\"stroke:#000000;stroke-width:0.8;\" x=\"120.52831\" xlink:href=\"#mea86966bf0\" y=\"224.64\"/>\r\n      </g>\r\n     </g>\r\n     <g id=\"text_2\">\r\n      <!-- 100 -->\r\n      <g transform=\"translate(110.98456 239.238437)scale(0.1 -0.1)\">\r\n       <defs>\r\n        <path d=\"M 12.40625 8.296875 \r\nL 28.515625 8.296875 \r\nL 28.515625 63.921875 \r\nL 10.984375 60.40625 \r\nL 10.984375 69.390625 \r\nL 28.421875 72.90625 \r\nL 38.28125 72.90625 \r\nL 38.28125 8.296875 \r\nL 54.390625 8.296875 \r\nL 54.390625 0 \r\nL 12.40625 0 \r\nz\r\n\" id=\"DejaVuSans-49\"/>\r\n       </defs>\r\n       <use xlink:href=\"#DejaVuSans-49\"/>\r\n       <use x=\"63.623047\" xlink:href=\"#DejaVuSans-48\"/>\r\n       <use x=\"127.246094\" xlink:href=\"#DejaVuSans-48\"/>\r\n      </g>\r\n     </g>\r\n    </g>\r\n    <g id=\"xtick_3\">\r\n     <g id=\"line2d_3\">\r\n      <g>\r\n       <use style=\"stroke:#000000;stroke-width:0.8;\" x=\"170.930233\" xlink:href=\"#mea86966bf0\" y=\"224.64\"/>\r\n      </g>\r\n     </g>\r\n     <g id=\"text_3\">\r\n      <!-- 200 -->\r\n      <g transform=\"translate(161.386483 239.238437)scale(0.1 -0.1)\">\r\n       <defs>\r\n        <path d=\"M 19.1875 8.296875 \r\nL 53.609375 8.296875 \r\nL 53.609375 0 \r\nL 7.328125 0 \r\nL 7.328125 8.296875 \r\nQ 12.9375 14.109375 22.625 23.890625 \r\nQ 32.328125 33.6875 34.8125 36.53125 \r\nQ 39.546875 41.84375 41.421875 45.53125 \r\nQ 43.3125 49.21875 43.3125 52.78125 \r\nQ 43.3125 58.59375 39.234375 62.25 \r\nQ 35.15625 65.921875 28.609375 65.921875 \r\nQ 23.96875 65.921875 18.8125 64.3125 \r\nQ 13.671875 62.703125 7.8125 59.421875 \r\nL 7.8125 69.390625 \r\nQ 13.765625 71.78125 18.9375 73 \r\nQ 24.125 74.21875 28.421875 74.21875 \r\nQ 39.75 74.21875 46.484375 68.546875 \r\nQ 53.21875 62.890625 53.21875 53.421875 \r\nQ 53.21875 48.921875 51.53125 44.890625 \r\nQ 49.859375 40.875 45.40625 35.40625 \r\nQ 44.1875 33.984375 37.640625 27.21875 \r\nQ 31.109375 20.453125 19.1875 8.296875 \r\nz\r\n\" id=\"DejaVuSans-50\"/>\r\n       </defs>\r\n       <use xlink:href=\"#DejaVuSans-50\"/>\r\n       <use x=\"63.623047\" xlink:href=\"#DejaVuSans-48\"/>\r\n       <use x=\"127.246094\" xlink:href=\"#DejaVuSans-48\"/>\r\n      </g>\r\n     </g>\r\n    </g>\r\n    <g id=\"xtick_4\">\r\n     <g id=\"line2d_4\">\r\n      <g>\r\n       <use style=\"stroke:#000000;stroke-width:0.8;\" x=\"221.332157\" xlink:href=\"#mea86966bf0\" y=\"224.64\"/>\r\n      </g>\r\n     </g>\r\n     <g id=\"text_4\">\r\n      <!-- 300 -->\r\n      <g transform=\"translate(211.788407 239.238437)scale(0.1 -0.1)\">\r\n       <defs>\r\n        <path d=\"M 40.578125 39.3125 \r\nQ 47.65625 37.796875 51.625 33 \r\nQ 55.609375 28.21875 55.609375 21.1875 \r\nQ 55.609375 10.40625 48.1875 4.484375 \r\nQ 40.765625 -1.421875 27.09375 -1.421875 \r\nQ 22.515625 -1.421875 17.65625 -0.515625 \r\nQ 12.796875 0.390625 7.625 2.203125 \r\nL 7.625 11.71875 \r\nQ 11.71875 9.328125 16.59375 8.109375 \r\nQ 21.484375 6.890625 26.8125 6.890625 \r\nQ 36.078125 6.890625 40.9375 10.546875 \r\nQ 45.796875 14.203125 45.796875 21.1875 \r\nQ 45.796875 27.640625 41.28125 31.265625 \r\nQ 36.765625 34.90625 28.71875 34.90625 \r\nL 20.21875 34.90625 \r\nL 20.21875 43.015625 \r\nL 29.109375 43.015625 \r\nQ 36.375 43.015625 40.234375 45.921875 \r\nQ 44.09375 48.828125 44.09375 54.296875 \r\nQ 44.09375 59.90625 40.109375 62.90625 \r\nQ 36.140625 65.921875 28.71875 65.921875 \r\nQ 24.65625 65.921875 20.015625 65.03125 \r\nQ 15.375 64.15625 9.8125 62.3125 \r\nL 9.8125 71.09375 \r\nQ 15.4375 72.65625 20.34375 73.4375 \r\nQ 25.25 74.21875 29.59375 74.21875 \r\nQ 40.828125 74.21875 47.359375 69.109375 \r\nQ 53.90625 64.015625 53.90625 55.328125 \r\nQ 53.90625 49.265625 50.4375 45.09375 \r\nQ 46.96875 40.921875 40.578125 39.3125 \r\nz\r\n\" id=\"DejaVuSans-51\"/>\r\n       </defs>\r\n       <use xlink:href=\"#DejaVuSans-51\"/>\r\n       <use x=\"63.623047\" xlink:href=\"#DejaVuSans-48\"/>\r\n       <use x=\"127.246094\" xlink:href=\"#DejaVuSans-48\"/>\r\n      </g>\r\n     </g>\r\n    </g>\r\n    <g id=\"xtick_5\">\r\n     <g id=\"line2d_5\">\r\n      <g>\r\n       <use style=\"stroke:#000000;stroke-width:0.8;\" x=\"271.73408\" xlink:href=\"#mea86966bf0\" y=\"224.64\"/>\r\n      </g>\r\n     </g>\r\n     <g id=\"text_5\">\r\n      <!-- 400 -->\r\n      <g transform=\"translate(262.19033 239.238437)scale(0.1 -0.1)\">\r\n       <defs>\r\n        <path d=\"M 37.796875 64.3125 \r\nL 12.890625 25.390625 \r\nL 37.796875 25.390625 \r\nz\r\nM 35.203125 72.90625 \r\nL 47.609375 72.90625 \r\nL 47.609375 25.390625 \r\nL 58.015625 25.390625 \r\nL 58.015625 17.1875 \r\nL 47.609375 17.1875 \r\nL 47.609375 0 \r\nL 37.796875 0 \r\nL 37.796875 17.1875 \r\nL 4.890625 17.1875 \r\nL 4.890625 26.703125 \r\nz\r\n\" id=\"DejaVuSans-52\"/>\r\n       </defs>\r\n       <use xlink:href=\"#DejaVuSans-52\"/>\r\n       <use x=\"63.623047\" xlink:href=\"#DejaVuSans-48\"/>\r\n       <use x=\"127.246094\" xlink:href=\"#DejaVuSans-48\"/>\r\n      </g>\r\n     </g>\r\n    </g>\r\n    <g id=\"xtick_6\">\r\n     <g id=\"line2d_6\">\r\n      <g>\r\n       <use style=\"stroke:#000000;stroke-width:0.8;\" x=\"322.136004\" xlink:href=\"#mea86966bf0\" y=\"224.64\"/>\r\n      </g>\r\n     </g>\r\n     <g id=\"text_6\">\r\n      <!-- 500 -->\r\n      <g transform=\"translate(312.592254 239.238437)scale(0.1 -0.1)\">\r\n       <defs>\r\n        <path d=\"M 10.796875 72.90625 \r\nL 49.515625 72.90625 \r\nL 49.515625 64.59375 \r\nL 19.828125 64.59375 \r\nL 19.828125 46.734375 \r\nQ 21.96875 47.46875 24.109375 47.828125 \r\nQ 26.265625 48.1875 28.421875 48.1875 \r\nQ 40.625 48.1875 47.75 41.5 \r\nQ 54.890625 34.8125 54.890625 23.390625 \r\nQ 54.890625 11.625 47.5625 5.09375 \r\nQ 40.234375 -1.421875 26.90625 -1.421875 \r\nQ 22.3125 -1.421875 17.546875 -0.640625 \r\nQ 12.796875 0.140625 7.71875 1.703125 \r\nL 7.71875 11.625 \r\nQ 12.109375 9.234375 16.796875 8.0625 \r\nQ 21.484375 6.890625 26.703125 6.890625 \r\nQ 35.15625 6.890625 40.078125 11.328125 \r\nQ 45.015625 15.765625 45.015625 23.390625 \r\nQ 45.015625 31 40.078125 35.4375 \r\nQ 35.15625 39.890625 26.703125 39.890625 \r\nQ 22.75 39.890625 18.8125 39.015625 \r\nQ 14.890625 38.140625 10.796875 36.28125 \r\nz\r\n\" id=\"DejaVuSans-53\"/>\r\n       </defs>\r\n       <use xlink:href=\"#DejaVuSans-53\"/>\r\n       <use x=\"63.623047\" xlink:href=\"#DejaVuSans-48\"/>\r\n       <use x=\"127.246094\" xlink:href=\"#DejaVuSans-48\"/>\r\n      </g>\r\n     </g>\r\n    </g>\r\n    <g id=\"xtick_7\">\r\n     <g id=\"line2d_7\">\r\n      <g>\r\n       <use style=\"stroke:#000000;stroke-width:0.8;\" x=\"372.537927\" xlink:href=\"#mea86966bf0\" y=\"224.64\"/>\r\n      </g>\r\n     </g>\r\n     <g id=\"text_7\">\r\n      <!-- 600 -->\r\n      <g transform=\"translate(362.994177 239.238437)scale(0.1 -0.1)\">\r\n       <defs>\r\n        <path d=\"M 33.015625 40.375 \r\nQ 26.375 40.375 22.484375 35.828125 \r\nQ 18.609375 31.296875 18.609375 23.390625 \r\nQ 18.609375 15.53125 22.484375 10.953125 \r\nQ 26.375 6.390625 33.015625 6.390625 \r\nQ 39.65625 6.390625 43.53125 10.953125 \r\nQ 47.40625 15.53125 47.40625 23.390625 \r\nQ 47.40625 31.296875 43.53125 35.828125 \r\nQ 39.65625 40.375 33.015625 40.375 \r\nz\r\nM 52.59375 71.296875 \r\nL 52.59375 62.3125 \r\nQ 48.875 64.0625 45.09375 64.984375 \r\nQ 41.3125 65.921875 37.59375 65.921875 \r\nQ 27.828125 65.921875 22.671875 59.328125 \r\nQ 17.53125 52.734375 16.796875 39.40625 \r\nQ 19.671875 43.65625 24.015625 45.921875 \r\nQ 28.375 48.1875 33.59375 48.1875 \r\nQ 44.578125 48.1875 50.953125 41.515625 \r\nQ 57.328125 34.859375 57.328125 23.390625 \r\nQ 57.328125 12.15625 50.6875 5.359375 \r\nQ 44.046875 -1.421875 33.015625 -1.421875 \r\nQ 20.359375 -1.421875 13.671875 8.265625 \r\nQ 6.984375 17.96875 6.984375 36.375 \r\nQ 6.984375 53.65625 15.1875 63.9375 \r\nQ 23.390625 74.21875 37.203125 74.21875 \r\nQ 40.921875 74.21875 44.703125 73.484375 \r\nQ 48.484375 72.75 52.59375 71.296875 \r\nz\r\n\" id=\"DejaVuSans-54\"/>\r\n       </defs>\r\n       <use xlink:href=\"#DejaVuSans-54\"/>\r\n       <use x=\"63.623047\" xlink:href=\"#DejaVuSans-48\"/>\r\n       <use x=\"127.246094\" xlink:href=\"#DejaVuSans-48\"/>\r\n      </g>\r\n     </g>\r\n    </g>\r\n    <g id=\"text_8\">\r\n     <!-- predicted -->\r\n     <g transform=\"translate(199.028125 252.916562)scale(0.1 -0.1)\">\r\n      <defs>\r\n       <path d=\"M 18.109375 8.203125 \r\nL 18.109375 -20.796875 \r\nL 9.078125 -20.796875 \r\nL 9.078125 54.6875 \r\nL 18.109375 54.6875 \r\nL 18.109375 46.390625 \r\nQ 20.953125 51.265625 25.265625 53.625 \r\nQ 29.59375 56 35.59375 56 \r\nQ 45.5625 56 51.78125 48.09375 \r\nQ 58.015625 40.1875 58.015625 27.296875 \r\nQ 58.015625 14.40625 51.78125 6.484375 \r\nQ 45.5625 -1.421875 35.59375 -1.421875 \r\nQ 29.59375 -1.421875 25.265625 0.953125 \r\nQ 20.953125 3.328125 18.109375 8.203125 \r\nz\r\nM 48.6875 27.296875 \r\nQ 48.6875 37.203125 44.609375 42.84375 \r\nQ 40.53125 48.484375 33.40625 48.484375 \r\nQ 26.265625 48.484375 22.1875 42.84375 \r\nQ 18.109375 37.203125 18.109375 27.296875 \r\nQ 18.109375 17.390625 22.1875 11.75 \r\nQ 26.265625 6.109375 33.40625 6.109375 \r\nQ 40.53125 6.109375 44.609375 11.75 \r\nQ 48.6875 17.390625 48.6875 27.296875 \r\nz\r\n\" id=\"DejaVuSans-112\"/>\r\n       <path d=\"M 41.109375 46.296875 \r\nQ 39.59375 47.171875 37.8125 47.578125 \r\nQ 36.03125 48 33.890625 48 \r\nQ 26.265625 48 22.1875 43.046875 \r\nQ 18.109375 38.09375 18.109375 28.8125 \r\nL 18.109375 0 \r\nL 9.078125 0 \r\nL 9.078125 54.6875 \r\nL 18.109375 54.6875 \r\nL 18.109375 46.1875 \r\nQ 20.953125 51.171875 25.484375 53.578125 \r\nQ 30.03125 56 36.53125 56 \r\nQ 37.453125 56 38.578125 55.875 \r\nQ 39.703125 55.765625 41.0625 55.515625 \r\nz\r\n\" id=\"DejaVuSans-114\"/>\r\n       <path d=\"M 56.203125 29.59375 \r\nL 56.203125 25.203125 \r\nL 14.890625 25.203125 \r\nQ 15.484375 15.921875 20.484375 11.0625 \r\nQ 25.484375 6.203125 34.421875 6.203125 \r\nQ 39.59375 6.203125 44.453125 7.46875 \r\nQ 49.3125 8.734375 54.109375 11.28125 \r\nL 54.109375 2.78125 \r\nQ 49.265625 0.734375 44.1875 -0.34375 \r\nQ 39.109375 -1.421875 33.890625 -1.421875 \r\nQ 20.796875 -1.421875 13.15625 6.1875 \r\nQ 5.515625 13.8125 5.515625 26.8125 \r\nQ 5.515625 40.234375 12.765625 48.109375 \r\nQ 20.015625 56 32.328125 56 \r\nQ 43.359375 56 49.78125 48.890625 \r\nQ 56.203125 41.796875 56.203125 29.59375 \r\nz\r\nM 47.21875 32.234375 \r\nQ 47.125 39.59375 43.09375 43.984375 \r\nQ 39.0625 48.390625 32.421875 48.390625 \r\nQ 24.90625 48.390625 20.390625 44.140625 \r\nQ 15.875 39.890625 15.1875 32.171875 \r\nz\r\n\" id=\"DejaVuSans-101\"/>\r\n       <path d=\"M 45.40625 46.390625 \r\nL 45.40625 75.984375 \r\nL 54.390625 75.984375 \r\nL 54.390625 0 \r\nL 45.40625 0 \r\nL 45.40625 8.203125 \r\nQ 42.578125 3.328125 38.25 0.953125 \r\nQ 33.9375 -1.421875 27.875 -1.421875 \r\nQ 17.96875 -1.421875 11.734375 6.484375 \r\nQ 5.515625 14.40625 5.515625 27.296875 \r\nQ 5.515625 40.1875 11.734375 48.09375 \r\nQ 17.96875 56 27.875 56 \r\nQ 33.9375 56 38.25 53.625 \r\nQ 42.578125 51.265625 45.40625 46.390625 \r\nz\r\nM 14.796875 27.296875 \r\nQ 14.796875 17.390625 18.875 11.75 \r\nQ 22.953125 6.109375 30.078125 6.109375 \r\nQ 37.203125 6.109375 41.296875 11.75 \r\nQ 45.40625 17.390625 45.40625 27.296875 \r\nQ 45.40625 37.203125 41.296875 42.84375 \r\nQ 37.203125 48.484375 30.078125 48.484375 \r\nQ 22.953125 48.484375 18.875 42.84375 \r\nQ 14.796875 37.203125 14.796875 27.296875 \r\nz\r\n\" id=\"DejaVuSans-100\"/>\r\n       <path d=\"M 9.421875 54.6875 \r\nL 18.40625 54.6875 \r\nL 18.40625 0 \r\nL 9.421875 0 \r\nz\r\nM 9.421875 75.984375 \r\nL 18.40625 75.984375 \r\nL 18.40625 64.59375 \r\nL 9.421875 64.59375 \r\nz\r\n\" id=\"DejaVuSans-105\"/>\r\n       <path d=\"M 48.78125 52.59375 \r\nL 48.78125 44.1875 \r\nQ 44.96875 46.296875 41.140625 47.34375 \r\nQ 37.3125 48.390625 33.40625 48.390625 \r\nQ 24.65625 48.390625 19.8125 42.84375 \r\nQ 14.984375 37.3125 14.984375 27.296875 \r\nQ 14.984375 17.28125 19.8125 11.734375 \r\nQ 24.65625 6.203125 33.40625 6.203125 \r\nQ 37.3125 6.203125 41.140625 7.25 \r\nQ 44.96875 8.296875 48.78125 10.40625 \r\nL 48.78125 2.09375 \r\nQ 45.015625 0.34375 40.984375 -0.53125 \r\nQ 36.96875 -1.421875 32.421875 -1.421875 \r\nQ 20.0625 -1.421875 12.78125 6.34375 \r\nQ 5.515625 14.109375 5.515625 27.296875 \r\nQ 5.515625 40.671875 12.859375 48.328125 \r\nQ 20.21875 56 33.015625 56 \r\nQ 37.15625 56 41.109375 55.140625 \r\nQ 45.0625 54.296875 48.78125 52.59375 \r\nz\r\n\" id=\"DejaVuSans-99\"/>\r\n       <path d=\"M 18.3125 70.21875 \r\nL 18.3125 54.6875 \r\nL 36.8125 54.6875 \r\nL 36.8125 47.703125 \r\nL 18.3125 47.703125 \r\nL 18.3125 18.015625 \r\nQ 18.3125 11.328125 20.140625 9.421875 \r\nQ 21.96875 7.515625 27.59375 7.515625 \r\nL 36.8125 7.515625 \r\nL 36.8125 0 \r\nL 27.59375 0 \r\nQ 17.1875 0 13.234375 3.875 \r\nQ 9.28125 7.765625 9.28125 18.015625 \r\nL 9.28125 47.703125 \r\nL 2.6875 47.703125 \r\nL 2.6875 54.6875 \r\nL 9.28125 54.6875 \r\nL 9.28125 70.21875 \r\nz\r\n\" id=\"DejaVuSans-116\"/>\r\n      </defs>\r\n      <use xlink:href=\"#DejaVuSans-112\"/>\r\n      <use x=\"63.476562\" xlink:href=\"#DejaVuSans-114\"/>\r\n      <use x=\"102.339844\" xlink:href=\"#DejaVuSans-101\"/>\r\n      <use x=\"163.863281\" xlink:href=\"#DejaVuSans-100\"/>\r\n      <use x=\"227.339844\" xlink:href=\"#DejaVuSans-105\"/>\r\n      <use x=\"255.123047\" xlink:href=\"#DejaVuSans-99\"/>\r\n      <use x=\"310.103516\" xlink:href=\"#DejaVuSans-116\"/>\r\n      <use x=\"349.3125\" xlink:href=\"#DejaVuSans-101\"/>\r\n      <use x=\"410.835938\" xlink:href=\"#DejaVuSans-100\"/>\r\n     </g>\r\n    </g>\r\n   </g>\r\n   <g id=\"matplotlib.axis_2\">\r\n    <g id=\"ytick_1\">\r\n     <g id=\"line2d_8\">\r\n      <defs>\r\n       <path d=\"M 0 0 \r\nL -3.5 0 \r\n\" id=\"mc033935869\" style=\"stroke:#000000;stroke-width:0.8;\"/>\r\n      </defs>\r\n      <g>\r\n       <use style=\"stroke:#000000;stroke-width:0.8;\" x=\"55.345313\" xlink:href=\"#mc033935869\" y=\"213.498168\"/>\r\n      </g>\r\n     </g>\r\n     <g id=\"text_9\">\r\n      <!-- −300 -->\r\n      <g transform=\"translate(20.878125 217.297387)scale(0.1 -0.1)\">\r\n       <defs>\r\n        <path d=\"M 10.59375 35.5 \r\nL 73.1875 35.5 \r\nL 73.1875 27.203125 \r\nL 10.59375 27.203125 \r\nz\r\n\" id=\"DejaVuSans-8722\"/>\r\n       </defs>\r\n       <use xlink:href=\"#DejaVuSans-8722\"/>\r\n       <use x=\"83.789062\" xlink:href=\"#DejaVuSans-51\"/>\r\n       <use x=\"147.412109\" xlink:href=\"#DejaVuSans-48\"/>\r\n       <use x=\"211.035156\" xlink:href=\"#DejaVuSans-48\"/>\r\n      </g>\r\n     </g>\r\n    </g>\r\n    <g id=\"ytick_2\">\r\n     <g id=\"line2d_9\">\r\n      <g>\r\n       <use style=\"stroke:#000000;stroke-width:0.8;\" x=\"55.345313\" xlink:href=\"#mc033935869\" y=\"186.955647\"/>\r\n      </g>\r\n     </g>\r\n     <g id=\"text_10\">\r\n      <!-- −200 -->\r\n      <g transform=\"translate(20.878125 190.754866)scale(0.1 -0.1)\">\r\n       <use xlink:href=\"#DejaVuSans-8722\"/>\r\n       <use x=\"83.789062\" xlink:href=\"#DejaVuSans-50\"/>\r\n       <use x=\"147.412109\" xlink:href=\"#DejaVuSans-48\"/>\r\n       <use x=\"211.035156\" xlink:href=\"#DejaVuSans-48\"/>\r\n      </g>\r\n     </g>\r\n    </g>\r\n    <g id=\"ytick_3\">\r\n     <g id=\"line2d_10\">\r\n      <g>\r\n       <use style=\"stroke:#000000;stroke-width:0.8;\" x=\"55.345313\" xlink:href=\"#mc033935869\" y=\"160.413126\"/>\r\n      </g>\r\n     </g>\r\n     <g id=\"text_11\">\r\n      <!-- −100 -->\r\n      <g transform=\"translate(20.878125 164.212345)scale(0.1 -0.1)\">\r\n       <use xlink:href=\"#DejaVuSans-8722\"/>\r\n       <use x=\"83.789062\" xlink:href=\"#DejaVuSans-49\"/>\r\n       <use x=\"147.412109\" xlink:href=\"#DejaVuSans-48\"/>\r\n       <use x=\"211.035156\" xlink:href=\"#DejaVuSans-48\"/>\r\n      </g>\r\n     </g>\r\n    </g>\r\n    <g id=\"ytick_4\">\r\n     <g id=\"line2d_11\">\r\n      <g>\r\n       <use style=\"stroke:#000000;stroke-width:0.8;\" x=\"55.345313\" xlink:href=\"#mc033935869\" y=\"133.870606\"/>\r\n      </g>\r\n     </g>\r\n     <g id=\"text_12\">\r\n      <!-- 0 -->\r\n      <g transform=\"translate(41.982813 137.669824)scale(0.1 -0.1)\">\r\n       <use xlink:href=\"#DejaVuSans-48\"/>\r\n      </g>\r\n     </g>\r\n    </g>\r\n    <g id=\"ytick_5\">\r\n     <g id=\"line2d_12\">\r\n      <g>\r\n       <use style=\"stroke:#000000;stroke-width:0.8;\" x=\"55.345313\" xlink:href=\"#mc033935869\" y=\"107.328085\"/>\r\n      </g>\r\n     </g>\r\n     <g id=\"text_13\">\r\n      <!-- 100 -->\r\n      <g transform=\"translate(29.257813 111.127304)scale(0.1 -0.1)\">\r\n       <use xlink:href=\"#DejaVuSans-49\"/>\r\n       <use x=\"63.623047\" xlink:href=\"#DejaVuSans-48\"/>\r\n       <use x=\"127.246094\" xlink:href=\"#DejaVuSans-48\"/>\r\n      </g>\r\n     </g>\r\n    </g>\r\n    <g id=\"ytick_6\">\r\n     <g id=\"line2d_13\">\r\n      <g>\r\n       <use style=\"stroke:#000000;stroke-width:0.8;\" x=\"55.345313\" xlink:href=\"#mc033935869\" y=\"80.785564\"/>\r\n      </g>\r\n     </g>\r\n     <g id=\"text_14\">\r\n      <!-- 200 -->\r\n      <g transform=\"translate(29.257813 84.584783)scale(0.1 -0.1)\">\r\n       <use xlink:href=\"#DejaVuSans-50\"/>\r\n       <use x=\"63.623047\" xlink:href=\"#DejaVuSans-48\"/>\r\n       <use x=\"127.246094\" xlink:href=\"#DejaVuSans-48\"/>\r\n      </g>\r\n     </g>\r\n    </g>\r\n    <g id=\"ytick_7\">\r\n     <g id=\"line2d_14\">\r\n      <g>\r\n       <use style=\"stroke:#000000;stroke-width:0.8;\" x=\"55.345313\" xlink:href=\"#mc033935869\" y=\"54.243044\"/>\r\n      </g>\r\n     </g>\r\n     <g id=\"text_15\">\r\n      <!-- 300 -->\r\n      <g transform=\"translate(29.257813 58.042262)scale(0.1 -0.1)\">\r\n       <use xlink:href=\"#DejaVuSans-51\"/>\r\n       <use x=\"63.623047\" xlink:href=\"#DejaVuSans-48\"/>\r\n       <use x=\"127.246094\" xlink:href=\"#DejaVuSans-48\"/>\r\n      </g>\r\n     </g>\r\n    </g>\r\n    <g id=\"ytick_8\">\r\n     <g id=\"line2d_15\">\r\n      <g>\r\n       <use style=\"stroke:#000000;stroke-width:0.8;\" x=\"55.345313\" xlink:href=\"#mc033935869\" y=\"27.700523\"/>\r\n      </g>\r\n     </g>\r\n     <g id=\"text_16\">\r\n      <!-- 400 -->\r\n      <g transform=\"translate(29.257813 31.499742)scale(0.1 -0.1)\">\r\n       <use xlink:href=\"#DejaVuSans-52\"/>\r\n       <use x=\"63.623047\" xlink:href=\"#DejaVuSans-48\"/>\r\n       <use x=\"127.246094\" xlink:href=\"#DejaVuSans-48\"/>\r\n      </g>\r\n     </g>\r\n    </g>\r\n    <g id=\"text_17\">\r\n     <!-- difference -->\r\n     <g transform=\"translate(14.798438 141.094219)rotate(-90)scale(0.1 -0.1)\">\r\n      <defs>\r\n       <path d=\"M 37.109375 75.984375 \r\nL 37.109375 68.5 \r\nL 28.515625 68.5 \r\nQ 23.6875 68.5 21.796875 66.546875 \r\nQ 19.921875 64.59375 19.921875 59.515625 \r\nL 19.921875 54.6875 \r\nL 34.71875 54.6875 \r\nL 34.71875 47.703125 \r\nL 19.921875 47.703125 \r\nL 19.921875 0 \r\nL 10.890625 0 \r\nL 10.890625 47.703125 \r\nL 2.296875 47.703125 \r\nL 2.296875 54.6875 \r\nL 10.890625 54.6875 \r\nL 10.890625 58.5 \r\nQ 10.890625 67.625 15.140625 71.796875 \r\nQ 19.390625 75.984375 28.609375 75.984375 \r\nz\r\n\" id=\"DejaVuSans-102\"/>\r\n       <path d=\"M 54.890625 33.015625 \r\nL 54.890625 0 \r\nL 45.90625 0 \r\nL 45.90625 32.71875 \r\nQ 45.90625 40.484375 42.875 44.328125 \r\nQ 39.84375 48.1875 33.796875 48.1875 \r\nQ 26.515625 48.1875 22.3125 43.546875 \r\nQ 18.109375 38.921875 18.109375 30.90625 \r\nL 18.109375 0 \r\nL 9.078125 0 \r\nL 9.078125 54.6875 \r\nL 18.109375 54.6875 \r\nL 18.109375 46.1875 \r\nQ 21.34375 51.125 25.703125 53.5625 \r\nQ 30.078125 56 35.796875 56 \r\nQ 45.21875 56 50.046875 50.171875 \r\nQ 54.890625 44.34375 54.890625 33.015625 \r\nz\r\n\" id=\"DejaVuSans-110\"/>\r\n      </defs>\r\n      <use xlink:href=\"#DejaVuSans-100\"/>\r\n      <use x=\"63.476562\" xlink:href=\"#DejaVuSans-105\"/>\r\n      <use x=\"91.259766\" xlink:href=\"#DejaVuSans-102\"/>\r\n      <use x=\"126.464844\" xlink:href=\"#DejaVuSans-102\"/>\r\n      <use x=\"161.669922\" xlink:href=\"#DejaVuSans-101\"/>\r\n      <use x=\"223.193359\" xlink:href=\"#DejaVuSans-114\"/>\r\n      <use x=\"262.056641\" xlink:href=\"#DejaVuSans-101\"/>\r\n      <use x=\"323.580078\" xlink:href=\"#DejaVuSans-110\"/>\r\n      <use x=\"386.958984\" xlink:href=\"#DejaVuSans-99\"/>\r\n      <use x=\"441.939453\" xlink:href=\"#DejaVuSans-101\"/>\r\n     </g>\r\n    </g>\r\n   </g>\r\n   <g id=\"line2d_16\">\r\n    <defs>\r\n     <path d=\"M 0 3 \r\nC 0.795609 3 1.55874 2.683901 2.12132 2.12132 \r\nC 2.683901 1.55874 3 0.795609 3 0 \r\nC 3 -0.795609 2.683901 -1.55874 2.12132 -2.12132 \r\nC 1.55874 -2.683901 0.795609 -3 0 -3 \r\nC -0.795609 -3 -1.55874 -2.683901 -2.12132 -2.12132 \r\nC -2.683901 -1.55874 -3 -0.795609 -3 0 \r\nC -3 0.795609 -2.683901 1.55874 -2.12132 2.12132 \r\nC -1.55874 2.683901 -0.795609 3 0 3 \r\nz\r\n\" id=\"mb7b55d956c\" style=\"stroke:#0000ff;\"/>\r\n    </defs>\r\n    <g clip-path=\"url(#p5c90098a4f)\">\r\n     <use style=\"fill:#0000ff;stroke:#0000ff;\" x=\"110.859857\" xlink:href=\"#mb7b55d956c\" y=\"140.723166\"/>\r\n     <use style=\"fill:#0000ff;stroke:#0000ff;\" x=\"146.491152\" xlink:href=\"#mb7b55d956c\" y=\"152.320739\"/>\r\n     <use style=\"fill:#0000ff;stroke:#0000ff;\" x=\"91.177775\" xlink:href=\"#mb7b55d956c\" y=\"126.907715\"/>\r\n     <use style=\"fill:#0000ff;stroke:#0000ff;\" x=\"91.924379\" xlink:href=\"#mb7b55d956c\" y=\"129.955142\"/>\r\n     <use style=\"fill:#0000ff;stroke:#0000ff;\" x=\"112.017475\" xlink:href=\"#mb7b55d956c\" y=\"121.425897\"/>\r\n     <use style=\"fill:#0000ff;stroke:#0000ff;\" x=\"125.814212\" xlink:href=\"#mb7b55d956c\" y=\"132.672874\"/>\r\n     <use style=\"fill:#0000ff;stroke:#0000ff;\" x=\"104.573816\" xlink:href=\"#mb7b55d956c\" y=\"141.394207\"/>\r\n     <use style=\"fill:#0000ff;stroke:#0000ff;\" x=\"117.083855\" xlink:href=\"#mb7b55d956c\" y=\"98.878546\"/>\r\n     <use style=\"fill:#0000ff;stroke:#0000ff;\" x=\"102.443358\" xlink:href=\"#mb7b55d956c\" y=\"133.636641\"/>\r\n     <use style=\"fill:#0000ff;stroke:#0000ff;\" x=\"169.356333\" xlink:href=\"#mb7b55d956c\" y=\"146.313023\"/>\r\n     <use style=\"fill:#0000ff;stroke:#0000ff;\" x=\"129.074852\" xlink:href=\"#mb7b55d956c\" y=\"134.389984\"/>\r\n     <use style=\"fill:#0000ff;stroke:#0000ff;\" x=\"130.206493\" xlink:href=\"#mb7b55d956c\" y=\"129.677421\"/>\r\n     <use style=\"fill:#0000ff;stroke:#0000ff;\" x=\"140.796168\" xlink:href=\"#mb7b55d956c\" y=\"127.29137\"/>\r\n     <use style=\"fill:#0000ff;stroke:#0000ff;\" x=\"151.432497\" xlink:href=\"#mb7b55d956c\" y=\"142.447952\"/>\r\n     <use style=\"fill:#0000ff;stroke:#0000ff;\" x=\"124.618948\" xlink:href=\"#mb7b55d956c\" y=\"136.290231\"/>\r\n     <use style=\"fill:#0000ff;stroke:#0000ff;\" x=\"130.889593\" xlink:href=\"#mb7b55d956c\" y=\"137.99991\"/>\r\n     <use style=\"fill:#0000ff;stroke:#0000ff;\" x=\"84.240152\" xlink:href=\"#mb7b55d956c\" y=\"130.420724\"/>\r\n     <use style=\"fill:#0000ff;stroke:#0000ff;\" x=\"245.565101\" xlink:href=\"#mb7b55d956c\" y=\"110.799688\"/>\r\n     <use style=\"fill:#0000ff;stroke:#0000ff;\" x=\"138.433939\" xlink:href=\"#mb7b55d956c\" y=\"141.972892\"/>\r\n     <use style=\"fill:#0000ff;stroke:#0000ff;\" x=\"116.967444\" xlink:href=\"#mb7b55d956c\" y=\"126.156038\"/>\r\n     <use style=\"fill:#0000ff;stroke:#0000ff;\" x=\"118.84221\" xlink:href=\"#mb7b55d956c\" y=\"136.433204\"/>\r\n     <use style=\"fill:#0000ff;stroke:#0000ff;\" x=\"157.92817\" xlink:href=\"#mb7b55d956c\" y=\"146.930386\"/>\r\n     <use style=\"fill:#0000ff;stroke:#0000ff;\" x=\"114.298289\" xlink:href=\"#mb7b55d956c\" y=\"134.571148\"/>\r\n     <use style=\"fill:#0000ff;stroke:#0000ff;\" x=\"124.229291\" xlink:href=\"#mb7b55d956c\" y=\"126.529724\"/>\r\n     <use style=\"fill:#0000ff;stroke:#0000ff;\" x=\"103.397794\" xlink:href=\"#mb7b55d956c\" y=\"139.447768\"/>\r\n     <use style=\"fill:#0000ff;stroke:#0000ff;\" x=\"109.596529\" xlink:href=\"#mb7b55d956c\" y=\"142.712128\"/>\r\n     <use style=\"fill:#0000ff;stroke:#0000ff;\" x=\"216.045487\" xlink:href=\"#mb7b55d956c\" y=\"104.544033\"/>\r\n     <use style=\"fill:#0000ff;stroke:#0000ff;\" x=\"98.212111\" xlink:href=\"#mb7b55d956c\" y=\"134.062645\"/>\r\n     <use style=\"fill:#0000ff;stroke:#0000ff;\" x=\"127.908236\" xlink:href=\"#mb7b55d956c\" y=\"135.368175\"/>\r\n     <use style=\"fill:#0000ff;stroke:#0000ff;\" x=\"111.204322\" xlink:href=\"#mb7b55d956c\" y=\"128.960433\"/>\r\n     <use style=\"fill:#0000ff;stroke:#0000ff;\" x=\"129.555324\" xlink:href=\"#mb7b55d956c\" y=\"133.315882\"/>\r\n     <use style=\"fill:#0000ff;stroke:#0000ff;\" x=\"159.327161\" xlink:href=\"#mb7b55d956c\" y=\"154.568174\"/>\r\n     <use style=\"fill:#0000ff;stroke:#0000ff;\" x=\"152.116991\" xlink:href=\"#mb7b55d956c\" y=\"145.197245\"/>\r\n     <use style=\"fill:#0000ff;stroke:#0000ff;\" x=\"116.464798\" xlink:href=\"#mb7b55d956c\" y=\"124.829635\"/>\r\n     <use style=\"fill:#0000ff;stroke:#0000ff;\" x=\"112.971148\" xlink:href=\"#mb7b55d956c\" y=\"147.143513\"/>\r\n     <use style=\"fill:#0000ff;stroke:#0000ff;\" x=\"113.641794\" xlink:href=\"#mb7b55d956c\" y=\"115.114811\"/>\r\n     <use style=\"fill:#0000ff;stroke:#0000ff;\" x=\"89.560718\" xlink:href=\"#mb7b55d956c\" y=\"136.142303\"/>\r\n     <use style=\"fill:#0000ff;stroke:#0000ff;\" x=\"132.468437\" xlink:href=\"#mb7b55d956c\" y=\"155.818569\"/>\r\n     <use style=\"fill:#0000ff;stroke:#0000ff;\" x=\"147.752915\" xlink:href=\"#mb7b55d956c\" y=\"121.665031\"/>\r\n     <use style=\"fill:#0000ff;stroke:#0000ff;\" x=\"136.71702\" xlink:href=\"#mb7b55d956c\" y=\"134.698528\"/>\r\n     <use style=\"fill:#0000ff;stroke:#0000ff;\" x=\"129.986886\" xlink:href=\"#mb7b55d956c\" y=\"140.975056\"/>\r\n     <use style=\"fill:#0000ff;stroke:#0000ff;\" x=\"169.927505\" xlink:href=\"#mb7b55d956c\" y=\"120.071291\"/>\r\n     <use style=\"fill:#0000ff;stroke:#0000ff;\" x=\"116.775566\" xlink:href=\"#mb7b55d956c\" y=\"105.351825\"/>\r\n     <use style=\"fill:#0000ff;stroke:#0000ff;\" x=\"117.653124\" xlink:href=\"#mb7b55d956c\" y=\"122.0049\"/>\r\n     <use style=\"fill:#0000ff;stroke:#0000ff;\" x=\"112.937928\" xlink:href=\"#mb7b55d956c\" y=\"133.058482\"/>\r\n     <use style=\"fill:#0000ff;stroke:#0000ff;\" x=\"140.712205\" xlink:href=\"#mb7b55d956c\" y=\"129.901406\"/>\r\n     <use style=\"fill:#0000ff;stroke:#0000ff;\" x=\"87.247241\" xlink:href=\"#mb7b55d956c\" y=\"135.189411\"/>\r\n     <use style=\"fill:#0000ff;stroke:#0000ff;\" x=\"114.33461\" xlink:href=\"#mb7b55d956c\" y=\"126.627518\"/>\r\n     <use style=\"fill:#0000ff;stroke:#0000ff;\" x=\"119.006481\" xlink:href=\"#mb7b55d956c\" y=\"133.33461\"/>\r\n     <use style=\"fill:#0000ff;stroke:#0000ff;\" x=\"108.963093\" xlink:href=\"#mb7b55d956c\" y=\"135.74292\"/>\r\n     <use style=\"fill:#0000ff;stroke:#0000ff;\" x=\"184.7418\" xlink:href=\"#mb7b55d956c\" y=\"48.245192\"/>\r\n     <use style=\"fill:#0000ff;stroke:#0000ff;\" x=\"120.580489\" xlink:href=\"#mb7b55d956c\" y=\"108.68269\"/>\r\n     <use style=\"fill:#0000ff;stroke:#0000ff;\" x=\"104.227252\" xlink:href=\"#mb7b55d956c\" y=\"133.514369\"/>\r\n     <use style=\"fill:#0000ff;stroke:#0000ff;\" x=\"107.92365\" xlink:href=\"#mb7b55d956c\" y=\"141.30031\"/>\r\n     <use style=\"fill:#0000ff;stroke:#0000ff;\" x=\"245.5571\" xlink:href=\"#mb7b55d956c\" y=\"137.337996\"/>\r\n     <use style=\"fill:#0000ff;stroke:#0000ff;\" x=\"166.467389\" xlink:href=\"#mb7b55d956c\" y=\"157.532065\"/>\r\n     <use style=\"fill:#0000ff;stroke:#0000ff;\" x=\"142.026179\" xlink:href=\"#mb7b55d956c\" y=\"118.649233\"/>\r\n     <use style=\"fill:#0000ff;stroke:#0000ff;\" x=\"235.748361\" xlink:href=\"#mb7b55d956c\" y=\"89.704512\"/>\r\n     <use style=\"fill:#0000ff;stroke:#0000ff;\" x=\"116.323929\" xlink:href=\"#mb7b55d956c\" y=\"117.05812\"/>\r\n     <use style=\"fill:#0000ff;stroke:#0000ff;\" x=\"120.083745\" xlink:href=\"#mb7b55d956c\" y=\"124.346608\"/>\r\n     <use style=\"fill:#0000ff;stroke:#0000ff;\" x=\"141.137337\" xlink:href=\"#mb7b55d956c\" y=\"132.77954\"/>\r\n     <use style=\"fill:#0000ff;stroke:#0000ff;\" x=\"119.446816\" xlink:href=\"#mb7b55d956c\" y=\"106.758552\"/>\r\n     <use style=\"fill:#0000ff;stroke:#0000ff;\" x=\"104.542481\" xlink:href=\"#mb7b55d956c\" y=\"112.180932\"/>\r\n     <use style=\"fill:#0000ff;stroke:#0000ff;\" x=\"120.306407\" xlink:href=\"#mb7b55d956c\" y=\"123.13674\"/>\r\n     <use style=\"fill:#0000ff;stroke:#0000ff;\" x=\"143.846178\" xlink:href=\"#mb7b55d956c\" y=\"132.878936\"/>\r\n     <use style=\"fill:#0000ff;stroke:#0000ff;\" x=\"111.144997\" xlink:href=\"#mb7b55d956c\" y=\"128.929192\"/>\r\n     <use style=\"fill:#0000ff;stroke:#0000ff;\" x=\"127.233806\" xlink:href=\"#mb7b55d956c\" y=\"150.142245\"/>\r\n     <use style=\"fill:#0000ff;stroke:#0000ff;\" x=\"124.448816\" xlink:href=\"#mb7b55d956c\" y=\"137.262337\"/>\r\n     <use style=\"fill:#0000ff;stroke:#0000ff;\" x=\"138.757951\" xlink:href=\"#mb7b55d956c\" y=\"120.909506\"/>\r\n     <use style=\"fill:#0000ff;stroke:#0000ff;\" x=\"116.872335\" xlink:href=\"#mb7b55d956c\" y=\"129.556479\"/>\r\n     <use style=\"fill:#0000ff;stroke:#0000ff;\" x=\"122.324297\" xlink:href=\"#mb7b55d956c\" y=\"133.754703\"/>\r\n     <use style=\"fill:#0000ff;stroke:#0000ff;\" x=\"117.601417\" xlink:href=\"#mb7b55d956c\" y=\"137.637757\"/>\r\n     <use style=\"fill:#0000ff;stroke:#0000ff;\" x=\"114.938384\" xlink:href=\"#mb7b55d956c\" y=\"143.93269\"/>\r\n     <use style=\"fill:#0000ff;stroke:#0000ff;\" x=\"105.884889\" xlink:href=\"#mb7b55d956c\" y=\"134.38731\"/>\r\n     <use style=\"fill:#0000ff;stroke:#0000ff;\" x=\"111.073147\" xlink:href=\"#mb7b55d956c\" y=\"135.792409\"/>\r\n     <use style=\"fill:#0000ff;stroke:#0000ff;\" x=\"121.626495\" xlink:href=\"#mb7b55d956c\" y=\"137.103181\"/>\r\n     <use style=\"fill:#0000ff;stroke:#0000ff;\" x=\"151.414914\" xlink:href=\"#mb7b55d956c\" y=\"150.136023\"/>\r\n     <use style=\"fill:#0000ff;stroke:#0000ff;\" x=\"111.592365\" xlink:href=\"#mb7b55d956c\" y=\"139.781792\"/>\r\n     <use style=\"fill:#0000ff;stroke:#0000ff;\" x=\"146.053404\" xlink:href=\"#mb7b55d956c\" y=\"129.263646\"/>\r\n     <use style=\"fill:#0000ff;stroke:#0000ff;\" x=\"131.052107\" xlink:href=\"#mb7b55d956c\" y=\"135.431241\"/>\r\n     <use style=\"fill:#0000ff;stroke:#0000ff;\" x=\"126.981967\" xlink:href=\"#mb7b55d956c\" y=\"122.670826\"/>\r\n     <use style=\"fill:#0000ff;stroke:#0000ff;\" x=\"137.448063\" xlink:href=\"#mb7b55d956c\" y=\"111.72609\"/>\r\n     <use style=\"fill:#0000ff;stroke:#0000ff;\" x=\"117.925405\" xlink:href=\"#mb7b55d956c\" y=\"140.462627\"/>\r\n     <use style=\"fill:#0000ff;stroke:#0000ff;\" x=\"138.172268\" xlink:href=\"#mb7b55d956c\" y=\"122.459052\"/>\r\n     <use style=\"fill:#0000ff;stroke:#0000ff;\" x=\"115.129331\" xlink:href=\"#mb7b55d956c\" y=\"125.984331\"/>\r\n     <use style=\"fill:#0000ff;stroke:#0000ff;\" x=\"112.288267\" xlink:href=\"#mb7b55d956c\" y=\"133.512635\"/>\r\n     <use style=\"fill:#0000ff;stroke:#0000ff;\" x=\"115.345887\" xlink:href=\"#mb7b55d956c\" y=\"140.431335\"/>\r\n     <use style=\"fill:#0000ff;stroke:#0000ff;\" x=\"123.232096\" xlink:href=\"#mb7b55d956c\" y=\"135.294466\"/>\r\n     <use style=\"fill:#0000ff;stroke:#0000ff;\" x=\"128.297195\" xlink:href=\"#mb7b55d956c\" y=\"118.054944\"/>\r\n     <use style=\"fill:#0000ff;stroke:#0000ff;\" x=\"131.9358\" xlink:href=\"#mb7b55d956c\" y=\"143.328514\"/>\r\n     <use style=\"fill:#0000ff;stroke:#0000ff;\" x=\"143.711106\" xlink:href=\"#mb7b55d956c\" y=\"144.751939\"/>\r\n     <use style=\"fill:#0000ff;stroke:#0000ff;\" x=\"122.426915\" xlink:href=\"#mb7b55d956c\" y=\"137.524696\"/>\r\n     <use style=\"fill:#0000ff;stroke:#0000ff;\" x=\"119.786032\" xlink:href=\"#mb7b55d956c\" y=\"129.498331\"/>\r\n     <use style=\"fill:#0000ff;stroke:#0000ff;\" x=\"105.702747\" xlink:href=\"#mb7b55d956c\" y=\"132.698839\"/>\r\n     <use style=\"fill:#0000ff;stroke:#0000ff;\" x=\"143.485593\" xlink:href=\"#mb7b55d956c\" y=\"112.782155\"/>\r\n     <use style=\"fill:#0000ff;stroke:#0000ff;\" x=\"137.737904\" xlink:href=\"#mb7b55d956c\" y=\"136.032419\"/>\r\n     <use style=\"fill:#0000ff;stroke:#0000ff;\" x=\"123.551797\" xlink:href=\"#mb7b55d956c\" y=\"138.382503\"/>\r\n     <use style=\"fill:#0000ff;stroke:#0000ff;\" x=\"138.303363\" xlink:href=\"#mb7b55d956c\" y=\"140.577003\"/>\r\n     <use style=\"fill:#0000ff;stroke:#0000ff;\" x=\"130.473737\" xlink:href=\"#mb7b55d956c\" y=\"99.294258\"/>\r\n     <use style=\"fill:#0000ff;stroke:#0000ff;\" x=\"135.735902\" xlink:href=\"#mb7b55d956c\" y=\"145.860563\"/>\r\n     <use style=\"fill:#0000ff;stroke:#0000ff;\" x=\"146.052376\" xlink:href=\"#mb7b55d956c\" y=\"120.769498\"/>\r\n     <use style=\"fill:#0000ff;stroke:#0000ff;\" x=\"97.310792\" xlink:href=\"#mb7b55d956c\" y=\"137.569373\"/>\r\n     <use style=\"fill:#0000ff;stroke:#0000ff;\" x=\"125.990971\" xlink:href=\"#mb7b55d956c\" y=\"99.587808\"/>\r\n     <use style=\"fill:#0000ff;stroke:#0000ff;\" x=\"184.069572\" xlink:href=\"#mb7b55d956c\" y=\"127.518747\"/>\r\n     <use style=\"fill:#0000ff;stroke:#0000ff;\" x=\"101.775563\" xlink:href=\"#mb7b55d956c\" y=\"135.939221\"/>\r\n     <use style=\"fill:#0000ff;stroke:#0000ff;\" x=\"103.72268\" xlink:href=\"#mb7b55d956c\" y=\"125.285897\"/>\r\n     <use style=\"fill:#0000ff;stroke:#0000ff;\" x=\"107.42009\" xlink:href=\"#mb7b55d956c\" y=\"121.924512\"/>\r\n     <use style=\"fill:#0000ff;stroke:#0000ff;\" x=\"135.345733\" xlink:href=\"#mb7b55d956c\" y=\"140.612015\"/>\r\n     <use style=\"fill:#0000ff;stroke:#0000ff;\" x=\"208.110375\" xlink:href=\"#mb7b55d956c\" y=\"146.814678\"/>\r\n     <use style=\"fill:#0000ff;stroke:#0000ff;\" x=\"105.848756\" xlink:href=\"#mb7b55d956c\" y=\"143.392738\"/>\r\n     <use style=\"fill:#0000ff;stroke:#0000ff;\" x=\"176.172559\" xlink:href=\"#mb7b55d956c\" y=\"143.266935\"/>\r\n     <use style=\"fill:#0000ff;stroke:#0000ff;\" x=\"117.857593\" xlink:href=\"#mb7b55d956c\" y=\"121.847152\"/>\r\n     <use style=\"fill:#0000ff;stroke:#0000ff;\" x=\"106.129566\" xlink:href=\"#mb7b55d956c\" y=\"128.942231\"/>\r\n     <use style=\"fill:#0000ff;stroke:#0000ff;\" x=\"113.266685\" xlink:href=\"#mb7b55d956c\" y=\"136.682139\"/>\r\n     <use style=\"fill:#0000ff;stroke:#0000ff;\" x=\"112.377838\" xlink:href=\"#mb7b55d956c\" y=\"137.010333\"/>\r\n     <use style=\"fill:#0000ff;stroke:#0000ff;\" x=\"115.678528\" xlink:href=\"#mb7b55d956c\" y=\"131.582052\"/>\r\n     <use style=\"fill:#0000ff;stroke:#0000ff;\" x=\"138.629218\" xlink:href=\"#mb7b55d956c\" y=\"130.39702\"/>\r\n     <use style=\"fill:#0000ff;stroke:#0000ff;\" x=\"115.028239\" xlink:href=\"#mb7b55d956c\" y=\"140.264056\"/>\r\n     <use style=\"fill:#0000ff;stroke:#0000ff;\" x=\"108.395395\" xlink:href=\"#mb7b55d956c\" y=\"131.462582\"/>\r\n     <use style=\"fill:#0000ff;stroke:#0000ff;\" x=\"122.053297\" xlink:href=\"#mb7b55d956c\" y=\"132.284863\"/>\r\n     <use style=\"fill:#0000ff;stroke:#0000ff;\" x=\"120.737451\" xlink:href=\"#mb7b55d956c\" y=\"134.246168\"/>\r\n     <use style=\"fill:#0000ff;stroke:#0000ff;\" x=\"105.012557\" xlink:href=\"#mb7b55d956c\" y=\"123.045491\"/>\r\n     <use style=\"fill:#0000ff;stroke:#0000ff;\" x=\"112.18285\" xlink:href=\"#mb7b55d956c\" y=\"137.96935\"/>\r\n     <use style=\"fill:#0000ff;stroke:#0000ff;\" x=\"124.251296\" xlink:href=\"#mb7b55d956c\" y=\"122.294509\"/>\r\n     <use style=\"fill:#0000ff;stroke:#0000ff;\" x=\"150.583145\" xlink:href=\"#mb7b55d956c\" y=\"118.377825\"/>\r\n     <use style=\"fill:#0000ff;stroke:#0000ff;\" x=\"147.993477\" xlink:href=\"#mb7b55d956c\" y=\"128.427345\"/>\r\n     <use style=\"fill:#0000ff;stroke:#0000ff;\" x=\"240.376646\" xlink:href=\"#mb7b55d956c\" y=\"101.166303\"/>\r\n     <use style=\"fill:#0000ff;stroke:#0000ff;\" x=\"131.287545\" xlink:href=\"#mb7b55d956c\" y=\"126.530769\"/>\r\n     <use style=\"fill:#0000ff;stroke:#0000ff;\" x=\"110.743381\" xlink:href=\"#mb7b55d956c\" y=\"138.007576\"/>\r\n     <use style=\"fill:#0000ff;stroke:#0000ff;\" x=\"90.600927\" xlink:href=\"#mb7b55d956c\" y=\"134.035843\"/>\r\n     <use style=\"fill:#0000ff;stroke:#0000ff;\" x=\"114.289115\" xlink:href=\"#mb7b55d956c\" y=\"141.732797\"/>\r\n     <use style=\"fill:#0000ff;stroke:#0000ff;\" x=\"121.887679\" xlink:href=\"#mb7b55d956c\" y=\"121.315212\"/>\r\n     <use style=\"fill:#0000ff;stroke:#0000ff;\" x=\"114.971103\" xlink:href=\"#mb7b55d956c\" y=\"133.598337\"/>\r\n     <use style=\"fill:#0000ff;stroke:#0000ff;\" x=\"147.077102\" xlink:href=\"#mb7b55d956c\" y=\"122.636262\"/>\r\n     <use style=\"fill:#0000ff;stroke:#0000ff;\" x=\"108.625964\" xlink:href=\"#mb7b55d956c\" y=\"138.219634\"/>\r\n     <use style=\"fill:#0000ff;stroke:#0000ff;\" x=\"119.287414\" xlink:href=\"#mb7b55d956c\" y=\"137.994782\"/>\r\n     <use style=\"fill:#0000ff;stroke:#0000ff;\" x=\"103.521448\" xlink:href=\"#mb7b55d956c\" y=\"133.142681\"/>\r\n     <use style=\"fill:#0000ff;stroke:#0000ff;\" x=\"123.403965\" xlink:href=\"#mb7b55d956c\" y=\"122.113715\"/>\r\n     <use style=\"fill:#0000ff;stroke:#0000ff;\" x=\"107.397953\" xlink:href=\"#mb7b55d956c\" y=\"132.264438\"/>\r\n     <use style=\"fill:#0000ff;stroke:#0000ff;\" x=\"118.855384\" xlink:href=\"#mb7b55d956c\" y=\"138.563543\"/>\r\n     <use style=\"fill:#0000ff;stroke:#0000ff;\" x=\"125.995794\" xlink:href=\"#mb7b55d956c\" y=\"146.039759\"/>\r\n     <use style=\"fill:#0000ff;stroke:#0000ff;\" x=\"130.877363\" xlink:href=\"#mb7b55d956c\" y=\"130.030713\"/>\r\n     <use style=\"fill:#0000ff;stroke:#0000ff;\" x=\"121.030288\" xlink:href=\"#mb7b55d956c\" y=\"134.400381\"/>\r\n     <use style=\"fill:#0000ff;stroke:#0000ff;\" x=\"123.901205\" xlink:href=\"#mb7b55d956c\" y=\"132.992578\"/>\r\n     <use style=\"fill:#0000ff;stroke:#0000ff;\" x=\"88.865223\" xlink:href=\"#mb7b55d956c\" y=\"127.813287\"/>\r\n     <use style=\"fill:#0000ff;stroke:#0000ff;\" x=\"124.547671\" xlink:href=\"#mb7b55d956c\" y=\"145.808003\"/>\r\n     <use style=\"fill:#0000ff;stroke:#0000ff;\" x=\"114.365105\" xlink:href=\"#mb7b55d956c\" y=\"130.624956\"/>\r\n     <use style=\"fill:#0000ff;stroke:#0000ff;\" x=\"111.440968\" xlink:href=\"#mb7b55d956c\" y=\"142.356315\"/>\r\n     <use style=\"fill:#0000ff;stroke:#0000ff;\" x=\"99.357826\" xlink:href=\"#mb7b55d956c\" y=\"122.721864\"/>\r\n     <use style=\"fill:#0000ff;stroke:#0000ff;\" x=\"218.540511\" xlink:href=\"#mb7b55d956c\" y=\"135.851005\"/>\r\n     <use style=\"fill:#0000ff;stroke:#0000ff;\" x=\"112.159779\" xlink:href=\"#mb7b55d956c\" y=\"126.809341\"/>\r\n     <use style=\"fill:#0000ff;stroke:#0000ff;\" x=\"126.964379\" xlink:href=\"#mb7b55d956c\" y=\"137.525376\"/>\r\n     <use style=\"fill:#0000ff;stroke:#0000ff;\" x=\"175.495316\" xlink:href=\"#mb7b55d956c\" y=\"142.910287\"/>\r\n     <use style=\"fill:#0000ff;stroke:#0000ff;\" x=\"146.841023\" xlink:href=\"#mb7b55d956c\" y=\"121.184813\"/>\r\n     <use style=\"fill:#0000ff;stroke:#0000ff;\" x=\"176.371008\" xlink:href=\"#mb7b55d956c\" y=\"137.532087\"/>\r\n     <use style=\"fill:#0000ff;stroke:#0000ff;\" x=\"76.153311\" xlink:href=\"#mb7b55d956c\" y=\"126.692905\"/>\r\n     <use style=\"fill:#0000ff;stroke:#0000ff;\" x=\"106.87006\" xlink:href=\"#mb7b55d956c\" y=\"137.560369\"/>\r\n     <use style=\"fill:#0000ff;stroke:#0000ff;\" x=\"89.109128\" xlink:href=\"#mb7b55d956c\" y=\"134.577362\"/>\r\n     <use style=\"fill:#0000ff;stroke:#0000ff;\" x=\"122.563311\" xlink:href=\"#mb7b55d956c\" y=\"138.92365\"/>\r\n     <use style=\"fill:#0000ff;stroke:#0000ff;\" x=\"118.310148\" xlink:href=\"#mb7b55d956c\" y=\"135.356735\"/>\r\n     <use style=\"fill:#0000ff;stroke:#0000ff;\" x=\"105.036768\" xlink:href=\"#mb7b55d956c\" y=\"140.310879\"/>\r\n     <use style=\"fill:#0000ff;stroke:#0000ff;\" x=\"121.80533\" xlink:href=\"#mb7b55d956c\" y=\"139.851611\"/>\r\n     <use style=\"fill:#0000ff;stroke:#0000ff;\" x=\"143.340141\" xlink:href=\"#mb7b55d956c\" y=\"136.593826\"/>\r\n     <use style=\"fill:#0000ff;stroke:#0000ff;\" x=\"117.154722\" xlink:href=\"#mb7b55d956c\" y=\"116.168504\"/>\r\n     <use style=\"fill:#0000ff;stroke:#0000ff;\" x=\"111.588486\" xlink:href=\"#mb7b55d956c\" y=\"141.106875\"/>\r\n     <use style=\"fill:#0000ff;stroke:#0000ff;\" x=\"114.284047\" xlink:href=\"#mb7b55d956c\" y=\"134.032797\"/>\r\n     <use style=\"fill:#0000ff;stroke:#0000ff;\" x=\"128.987832\" xlink:href=\"#mb7b55d956c\" y=\"140.448937\"/>\r\n     <use style=\"fill:#0000ff;stroke:#0000ff;\" x=\"127.060872\" xlink:href=\"#mb7b55d956c\" y=\"132.002261\"/>\r\n     <use style=\"fill:#0000ff;stroke:#0000ff;\" x=\"113.696659\" xlink:href=\"#mb7b55d956c\" y=\"130.272941\"/>\r\n     <use style=\"fill:#0000ff;stroke:#0000ff;\" x=\"226.353659\" xlink:href=\"#mb7b55d956c\" y=\"159.076158\"/>\r\n     <use style=\"fill:#0000ff;stroke:#0000ff;\" x=\"125.735751\" xlink:href=\"#mb7b55d956c\" y=\"133.958682\"/>\r\n     <use style=\"fill:#0000ff;stroke:#0000ff;\" x=\"140.104138\" xlink:href=\"#mb7b55d956c\" y=\"132.235439\"/>\r\n     <use style=\"fill:#0000ff;stroke:#0000ff;\" x=\"134.775629\" xlink:href=\"#mb7b55d956c\" y=\"132.083607\"/>\r\n     <use style=\"fill:#0000ff;stroke:#0000ff;\" x=\"117.372255\" xlink:href=\"#mb7b55d956c\" y=\"137.517077\"/>\r\n     <use style=\"fill:#0000ff;stroke:#0000ff;\" x=\"209.9788\" xlink:href=\"#mb7b55d956c\" y=\"146.736922\"/>\r\n     <use style=\"fill:#0000ff;stroke:#0000ff;\" x=\"105.564746\" xlink:href=\"#mb7b55d956c\" y=\"137.934669\"/>\r\n     <use style=\"fill:#0000ff;stroke:#0000ff;\" x=\"113.28191\" xlink:href=\"#mb7b55d956c\" y=\"124.746023\"/>\r\n     <use style=\"fill:#0000ff;stroke:#0000ff;\" x=\"139.284971\" xlink:href=\"#mb7b55d956c\" y=\"138.439682\"/>\r\n     <use style=\"fill:#0000ff;stroke:#0000ff;\" x=\"118.571061\" xlink:href=\"#mb7b55d956c\" y=\"143.722318\"/>\r\n     <use style=\"fill:#0000ff;stroke:#0000ff;\" x=\"140.858029\" xlink:href=\"#mb7b55d956c\" y=\"139.268082\"/>\r\n     <use style=\"fill:#0000ff;stroke:#0000ff;\" x=\"115.334276\" xlink:href=\"#mb7b55d956c\" y=\"141.486921\"/>\r\n     <use style=\"fill:#0000ff;stroke:#0000ff;\" x=\"115.641351\" xlink:href=\"#mb7b55d956c\" y=\"141.914057\"/>\r\n     <use style=\"fill:#0000ff;stroke:#0000ff;\" x=\"103.417057\" xlink:href=\"#mb7b55d956c\" y=\"132.026006\"/>\r\n     <use style=\"fill:#0000ff;stroke:#0000ff;\" x=\"132.533802\" xlink:href=\"#mb7b55d956c\" y=\"120.286014\"/>\r\n     <use style=\"fill:#0000ff;stroke:#0000ff;\" x=\"97.171644\" xlink:href=\"#mb7b55d956c\" y=\"130.860466\"/>\r\n     <use style=\"fill:#0000ff;stroke:#0000ff;\" x=\"111.968214\" xlink:href=\"#mb7b55d956c\" y=\"130.689838\"/>\r\n     <use style=\"fill:#0000ff;stroke:#0000ff;\" x=\"144.380738\" xlink:href=\"#mb7b55d956c\" y=\"137.141823\"/>\r\n     <use style=\"fill:#0000ff;stroke:#0000ff;\" x=\"174.137798\" xlink:href=\"#mb7b55d956c\" y=\"140.868269\"/>\r\n     <use style=\"fill:#0000ff;stroke:#0000ff;\" x=\"127.904591\" xlink:href=\"#mb7b55d956c\" y=\"127.934349\"/>\r\n     <use style=\"fill:#0000ff;stroke:#0000ff;\" x=\"97.433594\" xlink:href=\"#mb7b55d956c\" y=\"130.732987\"/>\r\n     <use style=\"fill:#0000ff;stroke:#0000ff;\" x=\"144.991271\" xlink:href=\"#mb7b55d956c\" y=\"133.481962\"/>\r\n     <use style=\"fill:#0000ff;stroke:#0000ff;\" x=\"113.170591\" xlink:href=\"#mb7b55d956c\" y=\"138.224086\"/>\r\n     <use style=\"fill:#0000ff;stroke:#0000ff;\" x=\"150.110525\" xlink:href=\"#mb7b55d956c\" y=\"131.665621\"/>\r\n     <use style=\"fill:#0000ff;stroke:#0000ff;\" x=\"109.328274\" xlink:href=\"#mb7b55d956c\" y=\"133.015553\"/>\r\n     <use style=\"fill:#0000ff;stroke:#0000ff;\" x=\"112.606658\" xlink:href=\"#mb7b55d956c\" y=\"136.334558\"/>\r\n     <use style=\"fill:#0000ff;stroke:#0000ff;\" x=\"120.895524\" xlink:href=\"#mb7b55d956c\" y=\"120.792726\"/>\r\n     <use style=\"fill:#0000ff;stroke:#0000ff;\" x=\"121.406496\" xlink:href=\"#mb7b55d956c\" y=\"138.314451\"/>\r\n     <use style=\"fill:#0000ff;stroke:#0000ff;\" x=\"111.912066\" xlink:href=\"#mb7b55d956c\" y=\"140.746427\"/>\r\n     <use style=\"fill:#0000ff;stroke:#0000ff;\" x=\"208.102969\" xlink:href=\"#mb7b55d956c\" y=\"58.689609\"/>\r\n     <use style=\"fill:#0000ff;stroke:#0000ff;\" x=\"108.065048\" xlink:href=\"#mb7b55d956c\" y=\"132.615742\"/>\r\n     <use style=\"fill:#0000ff;stroke:#0000ff;\" x=\"129.68523\" xlink:href=\"#mb7b55d956c\" y=\"130.995467\"/>\r\n     <use style=\"fill:#0000ff;stroke:#0000ff;\" x=\"117.006973\" xlink:href=\"#mb7b55d956c\" y=\"134.670461\"/>\r\n     <use style=\"fill:#0000ff;stroke:#0000ff;\" x=\"151.259712\" xlink:href=\"#mb7b55d956c\" y=\"146.072913\"/>\r\n     <use style=\"fill:#0000ff;stroke:#0000ff;\" x=\"133.708505\" xlink:href=\"#mb7b55d956c\" y=\"127.540263\"/>\r\n     <use style=\"fill:#0000ff;stroke:#0000ff;\" x=\"126.464034\" xlink:href=\"#mb7b55d956c\" y=\"136.99646\"/>\r\n     <use style=\"fill:#0000ff;stroke:#0000ff;\" x=\"140.841265\" xlink:href=\"#mb7b55d956c\" y=\"131.296497\"/>\r\n     <use style=\"fill:#0000ff;stroke:#0000ff;\" x=\"149.783833\" xlink:href=\"#mb7b55d956c\" y=\"135.740382\"/>\r\n     <use style=\"fill:#0000ff;stroke:#0000ff;\" x=\"120.288641\" xlink:href=\"#mb7b55d956c\" y=\"123.392809\"/>\r\n     <use style=\"fill:#0000ff;stroke:#0000ff;\" x=\"101.831262\" xlink:href=\"#mb7b55d956c\" y=\"132.78345\"/>\r\n     <use style=\"fill:#0000ff;stroke:#0000ff;\" x=\"98.382229\" xlink:href=\"#mb7b55d956c\" y=\"135.744784\"/>\r\n     <use style=\"fill:#0000ff;stroke:#0000ff;\" x=\"117.504188\" xlink:href=\"#mb7b55d956c\" y=\"144.222185\"/>\r\n     <use style=\"fill:#0000ff;stroke:#0000ff;\" x=\"107.140997\" xlink:href=\"#mb7b55d956c\" y=\"121.777537\"/>\r\n     <use style=\"fill:#0000ff;stroke:#0000ff;\" x=\"122.588641\" xlink:href=\"#mb7b55d956c\" y=\"140.264116\"/>\r\n     <use style=\"fill:#0000ff;stroke:#0000ff;\" x=\"100.983614\" xlink:href=\"#mb7b55d956c\" y=\"132.337064\"/>\r\n     <use style=\"fill:#0000ff;stroke:#0000ff;\" x=\"91.719685\" xlink:href=\"#mb7b55d956c\" y=\"137.544678\"/>\r\n     <use style=\"fill:#0000ff;stroke:#0000ff;\" x=\"123.675929\" xlink:href=\"#mb7b55d956c\" y=\"138.182448\"/>\r\n     <use style=\"fill:#0000ff;stroke:#0000ff;\" x=\"107.736264\" xlink:href=\"#mb7b55d956c\" y=\"120.763889\"/>\r\n     <use style=\"fill:#0000ff;stroke:#0000ff;\" x=\"100.957443\" xlink:href=\"#mb7b55d956c\" y=\"135.508385\"/>\r\n     <use style=\"fill:#0000ff;stroke:#0000ff;\" x=\"160.237151\" xlink:href=\"#mb7b55d956c\" y=\"140.183579\"/>\r\n     <use style=\"fill:#0000ff;stroke:#0000ff;\" x=\"99.059659\" xlink:href=\"#mb7b55d956c\" y=\"127.873348\"/>\r\n     <use style=\"fill:#0000ff;stroke:#0000ff;\" x=\"112.369125\" xlink:href=\"#mb7b55d956c\" y=\"132.228091\"/>\r\n     <use style=\"fill:#0000ff;stroke:#0000ff;\" x=\"111.879051\" xlink:href=\"#mb7b55d956c\" y=\"140.994466\"/>\r\n     <use style=\"fill:#0000ff;stroke:#0000ff;\" x=\"122.407377\" xlink:href=\"#mb7b55d956c\" y=\"81.775114\"/>\r\n     <use style=\"fill:#0000ff;stroke:#0000ff;\" x=\"144.002432\" xlink:href=\"#mb7b55d956c\" y=\"144.374506\"/>\r\n     <use style=\"fill:#0000ff;stroke:#0000ff;\" x=\"177.940497\" xlink:href=\"#mb7b55d956c\" y=\"138.889457\"/>\r\n     <use style=\"fill:#0000ff;stroke:#0000ff;\" x=\"142.964363\" xlink:href=\"#mb7b55d956c\" y=\"135.334234\"/>\r\n     <use style=\"fill:#0000ff;stroke:#0000ff;\" x=\"121.738919\" xlink:href=\"#mb7b55d956c\" y=\"139.285787\"/>\r\n     <use style=\"fill:#0000ff;stroke:#0000ff;\" x=\"152.550475\" xlink:href=\"#mb7b55d956c\" y=\"112.247374\"/>\r\n     <use style=\"fill:#0000ff;stroke:#0000ff;\" x=\"111.054397\" xlink:href=\"#mb7b55d956c\" y=\"135.51711\"/>\r\n     <use style=\"fill:#0000ff;stroke:#0000ff;\" x=\"111.883135\" xlink:href=\"#mb7b55d956c\" y=\"133.299286\"/>\r\n     <use style=\"fill:#0000ff;stroke:#0000ff;\" x=\"101.221982\" xlink:href=\"#mb7b55d956c\" y=\"136.974822\"/>\r\n     <use style=\"fill:#0000ff;stroke:#0000ff;\" x=\"244.513106\" xlink:href=\"#mb7b55d956c\" y=\"143.423841\"/>\r\n     <use style=\"fill:#0000ff;stroke:#0000ff;\" x=\"111.829013\" xlink:href=\"#mb7b55d956c\" y=\"137.517587\"/>\r\n     <use style=\"fill:#0000ff;stroke:#0000ff;\" x=\"198.900718\" xlink:href=\"#mb7b55d956c\" y=\"135.329084\"/>\r\n     <use style=\"fill:#0000ff;stroke:#0000ff;\" x=\"125.114768\" xlink:href=\"#mb7b55d956c\" y=\"140.267291\"/>\r\n     <use style=\"fill:#0000ff;stroke:#0000ff;\" x=\"254.753283\" xlink:href=\"#mb7b55d956c\" y=\"172.173912\"/>\r\n     <use style=\"fill:#0000ff;stroke:#0000ff;\" x=\"120.324556\" xlink:href=\"#mb7b55d956c\" y=\"143.053187\"/>\r\n     <use style=\"fill:#0000ff;stroke:#0000ff;\" x=\"84.621753\" xlink:href=\"#mb7b55d956c\" y=\"131.948808\"/>\r\n     <use style=\"fill:#0000ff;stroke:#0000ff;\" x=\"122.851404\" xlink:href=\"#mb7b55d956c\" y=\"129.785483\"/>\r\n     <use style=\"fill:#0000ff;stroke:#0000ff;\" x=\"118.736472\" xlink:href=\"#mb7b55d956c\" y=\"133.457843\"/>\r\n     <use style=\"fill:#0000ff;stroke:#0000ff;\" x=\"163.271252\" xlink:href=\"#mb7b55d956c\" y=\"135.145759\"/>\r\n     <use style=\"fill:#0000ff;stroke:#0000ff;\" x=\"121.687135\" xlink:href=\"#mb7b55d956c\" y=\"109.265468\"/>\r\n     <use style=\"fill:#0000ff;stroke:#0000ff;\" x=\"114.136886\" xlink:href=\"#mb7b55d956c\" y=\"138.467528\"/>\r\n     <use style=\"fill:#0000ff;stroke:#0000ff;\" x=\"120.671642\" xlink:href=\"#mb7b55d956c\" y=\"139.254591\"/>\r\n     <use style=\"fill:#0000ff;stroke:#0000ff;\" x=\"116.17605\" xlink:href=\"#mb7b55d956c\" y=\"129.189804\"/>\r\n     <use style=\"fill:#0000ff;stroke:#0000ff;\" x=\"127.211955\" xlink:href=\"#mb7b55d956c\" y=\"134.736076\"/>\r\n     <use style=\"fill:#0000ff;stroke:#0000ff;\" x=\"100.52588\" xlink:href=\"#mb7b55d956c\" y=\"133.95399\"/>\r\n     <use style=\"fill:#0000ff;stroke:#0000ff;\" x=\"113.59633\" xlink:href=\"#mb7b55d956c\" y=\"142.16424\"/>\r\n     <use style=\"fill:#0000ff;stroke:#0000ff;\" x=\"256.739038\" xlink:href=\"#mb7b55d956c\" y=\"172.42337\"/>\r\n     <use style=\"fill:#0000ff;stroke:#0000ff;\" x=\"117.752628\" xlink:href=\"#mb7b55d956c\" y=\"136.390262\"/>\r\n     <use style=\"fill:#0000ff;stroke:#0000ff;\" x=\"112.090556\" xlink:href=\"#mb7b55d956c\" y=\"137.920746\"/>\r\n     <use style=\"fill:#0000ff;stroke:#0000ff;\" x=\"185.928506\" xlink:href=\"#mb7b55d956c\" y=\"148.404585\"/>\r\n     <use style=\"fill:#0000ff;stroke:#0000ff;\" x=\"105.797856\" xlink:href=\"#mb7b55d956c\" y=\"143.365933\"/>\r\n     <use style=\"fill:#0000ff;stroke:#0000ff;\" x=\"114.059069\" xlink:href=\"#mb7b55d956c\" y=\"134.44517\"/>\r\n     <use style=\"fill:#0000ff;stroke:#0000ff;\" x=\"105.685886\" xlink:href=\"#mb7b55d956c\" y=\"132.68996\"/>\r\n     <use style=\"fill:#0000ff;stroke:#0000ff;\" x=\"124.59412\" xlink:href=\"#mb7b55d956c\" y=\"136.011731\"/>\r\n     <use style=\"fill:#0000ff;stroke:#0000ff;\" x=\"125.551622\" xlink:href=\"#mb7b55d956c\" y=\"131.472889\"/>\r\n     <use style=\"fill:#0000ff;stroke:#0000ff;\" x=\"175.798207\" xlink:href=\"#mb7b55d956c\" y=\"147.051173\"/>\r\n     <use style=\"fill:#0000ff;stroke:#0000ff;\" x=\"251.922116\" xlink:href=\"#mb7b55d956c\" y=\"136.708545\"/>\r\n     <use style=\"fill:#0000ff;stroke:#0000ff;\" x=\"102.611597\" xlink:href=\"#mb7b55d956c\" y=\"135.84864\"/>\r\n     <use style=\"fill:#0000ff;stroke:#0000ff;\" x=\"135.968273\" xlink:href=\"#mb7b55d956c\" y=\"128.730296\"/>\r\n     <use style=\"fill:#0000ff;stroke:#0000ff;\" x=\"103.810563\" xlink:href=\"#mb7b55d956c\" y=\"138.338012\"/>\r\n     <use style=\"fill:#0000ff;stroke:#0000ff;\" x=\"105.75466\" xlink:href=\"#mb7b55d956c\" y=\"131.399051\"/>\r\n     <use style=\"fill:#0000ff;stroke:#0000ff;\" x=\"154.570728\" xlink:href=\"#mb7b55d956c\" y=\"141.446346\"/>\r\n     <use style=\"fill:#0000ff;stroke:#0000ff;\" x=\"111.38847\" xlink:href=\"#mb7b55d956c\" y=\"142.328669\"/>\r\n     <use style=\"fill:#0000ff;stroke:#0000ff;\" x=\"249.261066\" xlink:href=\"#mb7b55d956c\" y=\"96.820535\"/>\r\n     <use style=\"fill:#0000ff;stroke:#0000ff;\" x=\"92.372613\" xlink:href=\"#mb7b55d956c\" y=\"134.968843\"/>\r\n     <use style=\"fill:#0000ff;stroke:#0000ff;\" x=\"158.598622\" xlink:href=\"#mb7b55d956c\" y=\"151.530261\"/>\r\n     <use style=\"fill:#0000ff;stroke:#0000ff;\" x=\"120.184858\" xlink:href=\"#mb7b55d956c\" y=\"140.325368\"/>\r\n     <use style=\"fill:#0000ff;stroke:#0000ff;\" x=\"122.500498\" xlink:href=\"#mb7b55d956c\" y=\"121.637933\"/>\r\n     <use style=\"fill:#0000ff;stroke:#0000ff;\" x=\"119.998176\" xlink:href=\"#mb7b55d956c\" y=\"138.899932\"/>\r\n     <use style=\"fill:#0000ff;stroke:#0000ff;\" x=\"229.831192\" xlink:href=\"#mb7b55d956c\" y=\"32.176261\"/>\r\n     <use style=\"fill:#0000ff;stroke:#0000ff;\" x=\"122.709455\" xlink:href=\"#mb7b55d956c\" y=\"142.98199\"/>\r\n     <use style=\"fill:#0000ff;stroke:#0000ff;\" x=\"105.645227\" xlink:href=\"#mb7b55d956c\" y=\"133.995674\"/>\r\n     <use style=\"fill:#0000ff;stroke:#0000ff;\" x=\"116.362329\" xlink:href=\"#mb7b55d956c\" y=\"118.405468\"/>\r\n     <use style=\"fill:#0000ff;stroke:#0000ff;\" x=\"111.942815\" xlink:href=\"#mb7b55d956c\" y=\"137.577518\"/>\r\n     <use style=\"fill:#0000ff;stroke:#0000ff;\" x=\"89.282443\" xlink:href=\"#mb7b55d956c\" y=\"133.341507\"/>\r\n     <use style=\"fill:#0000ff;stroke:#0000ff;\" x=\"119.240999\" xlink:href=\"#mb7b55d956c\" y=\"93.378905\"/>\r\n     <use style=\"fill:#0000ff;stroke:#0000ff;\" x=\"176.75433\" xlink:href=\"#mb7b55d956c\" y=\"123.666415\"/>\r\n     <use style=\"fill:#0000ff;stroke:#0000ff;\" x=\"118.758208\" xlink:href=\"#mb7b55d956c\" y=\"130.284188\"/>\r\n     <use style=\"fill:#0000ff;stroke:#0000ff;\" x=\"165.062935\" xlink:href=\"#mb7b55d956c\" y=\"118.836651\"/>\r\n     <use style=\"fill:#0000ff;stroke:#0000ff;\" x=\"120.178206\" xlink:href=\"#mb7b55d956c\" y=\"142.976117\"/>\r\n     <use style=\"fill:#0000ff;stroke:#0000ff;\" x=\"96.924569\" xlink:href=\"#mb7b55d956c\" y=\"132.322903\"/>\r\n     <use style=\"fill:#0000ff;stroke:#0000ff;\" x=\"132.50028\" xlink:href=\"#mb7b55d956c\" y=\"146.810881\"/>\r\n     <use style=\"fill:#0000ff;stroke:#0000ff;\" x=\"111.398853\" xlink:href=\"#mb7b55d956c\" y=\"143.661263\"/>\r\n     <use style=\"fill:#0000ff;stroke:#0000ff;\" x=\"125.804249\" xlink:href=\"#mb7b55d956c\" y=\"131.340502\"/>\r\n     <use style=\"fill:#0000ff;stroke:#0000ff;\" x=\"135.194445\" xlink:href=\"#mb7b55d956c\" y=\"137.612667\"/>\r\n     <use style=\"fill:#0000ff;stroke:#0000ff;\" x=\"116.809555\" xlink:href=\"#mb7b55d956c\" y=\"130.850544\"/>\r\n     <use style=\"fill:#0000ff;stroke:#0000ff;\" x=\"130.212319\" xlink:href=\"#mb7b55d956c\" y=\"119.063481\"/>\r\n     <use style=\"fill:#0000ff;stroke:#0000ff;\" x=\"132.72755\" xlink:href=\"#mb7b55d956c\" y=\"144.276313\"/>\r\n     <use style=\"fill:#0000ff;stroke:#0000ff;\" x=\"135.02227\" xlink:href=\"#mb7b55d956c\" y=\"136.19487\"/>\r\n     <use style=\"fill:#0000ff;stroke:#0000ff;\" x=\"114.972187\" xlink:href=\"#mb7b55d956c\" y=\"132.271782\"/>\r\n     <use style=\"fill:#0000ff;stroke:#0000ff;\" x=\"111.028574\" xlink:href=\"#mb7b55d956c\" y=\"131.522133\"/>\r\n     <use style=\"fill:#0000ff;stroke:#0000ff;\" x=\"150.975824\" xlink:href=\"#mb7b55d956c\" y=\"136.63353\"/>\r\n     <use style=\"fill:#0000ff;stroke:#0000ff;\" x=\"132.908836\" xlink:href=\"#mb7b55d956c\" y=\"148.35316\"/>\r\n     <use style=\"fill:#0000ff;stroke:#0000ff;\" x=\"116.808643\" xlink:href=\"#mb7b55d956c\" y=\"138.81282\"/>\r\n     <use style=\"fill:#0000ff;stroke:#0000ff;\" x=\"133.152152\" xlink:href=\"#mb7b55d956c\" y=\"122.204199\"/>\r\n     <use style=\"fill:#0000ff;stroke:#0000ff;\" x=\"98.949035\" xlink:href=\"#mb7b55d956c\" y=\"134.981573\"/>\r\n     <use style=\"fill:#0000ff;stroke:#0000ff;\" x=\"123.157356\" xlink:href=\"#mb7b55d956c\" y=\"149.853493\"/>\r\n     <use style=\"fill:#0000ff;stroke:#0000ff;\" x=\"134.676199\" xlink:href=\"#mb7b55d956c\" y=\"133.623797\"/>\r\n     <use style=\"fill:#0000ff;stroke:#0000ff;\" x=\"126.177134\" xlink:href=\"#mb7b55d956c\" y=\"137.110799\"/>\r\n     <use style=\"fill:#0000ff;stroke:#0000ff;\" x=\"125.494573\" xlink:href=\"#mb7b55d956c\" y=\"129.850295\"/>\r\n     <use style=\"fill:#0000ff;stroke:#0000ff;\" x=\"98.385106\" xlink:href=\"#mb7b55d956c\" y=\"127.783543\"/>\r\n     <use style=\"fill:#0000ff;stroke:#0000ff;\" x=\"116.969204\" xlink:href=\"#mb7b55d956c\" y=\"145.267579\"/>\r\n     <use style=\"fill:#0000ff;stroke:#0000ff;\" x=\"122.79011\" xlink:href=\"#mb7b55d956c\" y=\"139.043087\"/>\r\n     <use style=\"fill:#0000ff;stroke:#0000ff;\" x=\"108.610068\" xlink:href=\"#mb7b55d956c\" y=\"138.211262\"/>\r\n     <use style=\"fill:#0000ff;stroke:#0000ff;\" x=\"107.814865\" xlink:href=\"#mb7b55d956c\" y=\"131.95314\"/>\r\n     <use style=\"fill:#0000ff;stroke:#0000ff;\" x=\"107.302179\" xlink:href=\"#mb7b55d956c\" y=\"133.541127\"/>\r\n     <use style=\"fill:#0000ff;stroke:#0000ff;\" x=\"116.556393\" xlink:href=\"#mb7b55d956c\" y=\"134.433178\"/>\r\n     <use style=\"fill:#0000ff;stroke:#0000ff;\" x=\"176.168563\" xlink:href=\"#mb7b55d956c\" y=\"96.815419\"/>\r\n     <use style=\"fill:#0000ff;stroke:#0000ff;\" x=\"130.392604\" xlink:href=\"#mb7b55d956c\" y=\"132.164257\"/>\r\n     <use style=\"fill:#0000ff;stroke:#0000ff;\" x=\"104.162234\" xlink:href=\"#mb7b55d956c\" y=\"137.196083\"/>\r\n     <use style=\"fill:#0000ff;stroke:#0000ff;\" x=\"117.12421\" xlink:href=\"#mb7b55d956c\" y=\"128.361995\"/>\r\n     <use style=\"fill:#0000ff;stroke:#0000ff;\" x=\"121.258591\" xlink:href=\"#mb7b55d956c\" y=\"134.255184\"/>\r\n     <use style=\"fill:#0000ff;stroke:#0000ff;\" x=\"153.78384\" xlink:href=\"#mb7b55d956c\" y=\"127.760697\"/>\r\n     <use style=\"fill:#0000ff;stroke:#0000ff;\" x=\"120.612694\" xlink:href=\"#mb7b55d956c\" y=\"136.569296\"/>\r\n     <use style=\"fill:#0000ff;stroke:#0000ff;\" x=\"113.504165\" xlink:href=\"#mb7b55d956c\" y=\"139.461452\"/>\r\n     <use style=\"fill:#0000ff;stroke:#0000ff;\" x=\"114.971429\" xlink:href=\"#mb7b55d956c\" y=\"139.172438\"/>\r\n     <use style=\"fill:#0000ff;stroke:#0000ff;\" x=\"118.544655\" xlink:href=\"#mb7b55d956c\" y=\"127.7829\"/>\r\n     <use style=\"fill:#0000ff;stroke:#0000ff;\" x=\"129.373909\" xlink:href=\"#mb7b55d956c\" y=\"131.89322\"/>\r\n     <use style=\"fill:#0000ff;stroke:#0000ff;\" x=\"122.276427\" xlink:href=\"#mb7b55d956c\" y=\"140.365123\"/>\r\n     <use style=\"fill:#0000ff;stroke:#0000ff;\" x=\"104.246846\" xlink:href=\"#mb7b55d956c\" y=\"131.932136\"/>\r\n     <use style=\"fill:#0000ff;stroke:#0000ff;\" x=\"131.75127\" xlink:href=\"#mb7b55d956c\" y=\"134.472305\"/>\r\n     <use style=\"fill:#0000ff;stroke:#0000ff;\" x=\"107.026505\" xlink:href=\"#mb7b55d956c\" y=\"136.050205\"/>\r\n     <use style=\"fill:#0000ff;stroke:#0000ff;\" x=\"303.381588\" xlink:href=\"#mb7b55d956c\" y=\"124.259633\"/>\r\n     <use style=\"fill:#0000ff;stroke:#0000ff;\" x=\"122.244462\" xlink:href=\"#mb7b55d956c\" y=\"125.484478\"/>\r\n     <use style=\"fill:#0000ff;stroke:#0000ff;\" x=\"122.871115\" xlink:href=\"#mb7b55d956c\" y=\"139.085745\"/>\r\n     <use style=\"fill:#0000ff;stroke:#0000ff;\" x=\"150.794755\" xlink:href=\"#mb7b55d956c\" y=\"145.562633\"/>\r\n     <use style=\"fill:#0000ff;stroke:#0000ff;\" x=\"102.474059\" xlink:href=\"#mb7b55d956c\" y=\"140.553864\"/>\r\n     <use style=\"fill:#0000ff;stroke:#0000ff;\" x=\"99.630689\" xlink:href=\"#mb7b55d956c\" y=\"132.420866\"/>\r\n     <use style=\"fill:#0000ff;stroke:#0000ff;\" x=\"149.737737\" xlink:href=\"#mb7b55d956c\" y=\"109.704437\"/>\r\n     <use style=\"fill:#0000ff;stroke:#0000ff;\" x=\"115.716549\" xlink:href=\"#mb7b55d956c\" y=\"143.811634\"/>\r\n     <use style=\"fill:#0000ff;stroke:#0000ff;\" x=\"265.181051\" xlink:href=\"#mb7b55d956c\" y=\"110.512777\"/>\r\n     <use style=\"fill:#0000ff;stroke:#0000ff;\" x=\"108.369597\" xlink:href=\"#mb7b55d956c\" y=\"139.942603\"/>\r\n     <use style=\"fill:#0000ff;stroke:#0000ff;\" x=\"110.733568\" xlink:href=\"#mb7b55d956c\" y=\"131.632203\"/>\r\n     <use style=\"fill:#0000ff;stroke:#0000ff;\" x=\"108.095657\" xlink:href=\"#mb7b55d956c\" y=\"136.613239\"/>\r\n     <use style=\"fill:#0000ff;stroke:#0000ff;\" x=\"142.47141\" xlink:href=\"#mb7b55d956c\" y=\"141.444842\"/>\r\n     <use style=\"fill:#0000ff;stroke:#0000ff;\" x=\"115.747318\" xlink:href=\"#mb7b55d956c\" y=\"141.969861\"/>\r\n     <use style=\"fill:#0000ff;stroke:#0000ff;\" x=\"181.767442\" xlink:href=\"#mb7b55d956c\" y=\"132.942036\"/>\r\n     <use style=\"fill:#0000ff;stroke:#0000ff;\" x=\"122.4988\" xlink:href=\"#mb7b55d956c\" y=\"129.599795\"/>\r\n     <use style=\"fill:#0000ff;stroke:#0000ff;\" x=\"222.898074\" xlink:href=\"#mb7b55d956c\" y=\"128.059615\"/>\r\n     <use style=\"fill:#0000ff;stroke:#0000ff;\" x=\"127.281793\" xlink:href=\"#mb7b55d956c\" y=\"123.89042\"/>\r\n     <use style=\"fill:#0000ff;stroke:#0000ff;\" x=\"122.51723\" xlink:href=\"#mb7b55d956c\" y=\"138.899383\"/>\r\n     <use style=\"fill:#0000ff;stroke:#0000ff;\" x=\"251.178806\" xlink:href=\"#mb7b55d956c\" y=\"69.960803\"/>\r\n     <use style=\"fill:#0000ff;stroke:#0000ff;\" x=\"110.577635\" xlink:href=\"#mb7b55d956c\" y=\"135.266039\"/>\r\n     <use style=\"fill:#0000ff;stroke:#0000ff;\" x=\"102.853191\" xlink:href=\"#mb7b55d956c\" y=\"139.957246\"/>\r\n     <use style=\"fill:#0000ff;stroke:#0000ff;\" x=\"128.799954\" xlink:href=\"#mb7b55d956c\" y=\"138.226596\"/>\r\n     <use style=\"fill:#0000ff;stroke:#0000ff;\" x=\"96.985154\" xlink:href=\"#mb7b55d956c\" y=\"133.416509\"/>\r\n     <use style=\"fill:#0000ff;stroke:#0000ff;\" x=\"81.004529\" xlink:href=\"#mb7b55d956c\" y=\"131.636466\"/>\r\n     <use style=\"fill:#0000ff;stroke:#0000ff;\" x=\"129.754749\" xlink:href=\"#mb7b55d956c\" y=\"138.994832\"/>\r\n     <use style=\"fill:#0000ff;stroke:#0000ff;\" x=\"104.246783\" xlink:href=\"#mb7b55d956c\" y=\"123.969347\"/>\r\n     <use style=\"fill:#0000ff;stroke:#0000ff;\" x=\"196.045768\" xlink:href=\"#mb7b55d956c\" y=\"80.740577\"/>\r\n     <use style=\"fill:#0000ff;stroke:#0000ff;\" x=\"115.928203\" xlink:href=\"#mb7b55d956c\" y=\"131.44811\"/>\r\n     <use style=\"fill:#0000ff;stroke:#0000ff;\" x=\"116.474445\" xlink:href=\"#mb7b55d956c\" y=\"134.390023\"/>\r\n     <use style=\"fill:#0000ff;stroke:#0000ff;\" x=\"200.537354\" xlink:href=\"#mb7b55d956c\" y=\"144.153721\"/>\r\n     <use style=\"fill:#0000ff;stroke:#0000ff;\" x=\"112.085779\" xlink:href=\"#mb7b55d956c\" y=\"144.819285\"/>\r\n     <use style=\"fill:#0000ff;stroke:#0000ff;\" x=\"159.521026\" xlink:href=\"#mb7b55d956c\" y=\"159.978771\"/>\r\n     <use style=\"fill:#0000ff;stroke:#0000ff;\" x=\"117.509109\" xlink:href=\"#mb7b55d956c\" y=\"134.934895\"/>\r\n     <use style=\"fill:#0000ff;stroke:#0000ff;\" x=\"122.755442\" xlink:href=\"#mb7b55d956c\" y=\"139.02483\"/>\r\n     <use style=\"fill:#0000ff;stroke:#0000ff;\" x=\"277.557253\" xlink:href=\"#mb7b55d956c\" y=\"138.264315\"/>\r\n     <use style=\"fill:#0000ff;stroke:#0000ff;\" x=\"136.345585\" xlink:href=\"#mb7b55d956c\" y=\"128.928995\"/>\r\n     <use style=\"fill:#0000ff;stroke:#0000ff;\" x=\"231.025856\" xlink:href=\"#mb7b55d956c\" y=\"145.611105\"/>\r\n     <use style=\"fill:#0000ff;stroke:#0000ff;\" x=\"155.933936\" xlink:href=\"#mb7b55d956c\" y=\"149.861566\"/>\r\n     <use style=\"fill:#0000ff;stroke:#0000ff;\" x=\"105.774284\" xlink:href=\"#mb7b55d956c\" y=\"138.045016\"/>\r\n     <use style=\"fill:#0000ff;stroke:#0000ff;\" x=\"194.034043\" xlink:href=\"#mb7b55d956c\" y=\"132.766209\"/>\r\n     <use style=\"fill:#0000ff;stroke:#0000ff;\" x=\"119.306794\" xlink:href=\"#mb7b55d956c\" y=\"130.573082\"/>\r\n     <use style=\"fill:#0000ff;stroke:#0000ff;\" x=\"129.409082\" xlink:href=\"#mb7b55d956c\" y=\"147.837255\"/>\r\n     <use style=\"fill:#0000ff;stroke:#0000ff;\" x=\"117.081452\" xlink:href=\"#mb7b55d956c\" y=\"122.765548\"/>\r\n     <use style=\"fill:#0000ff;stroke:#0000ff;\" x=\"117.078581\" xlink:href=\"#mb7b55d956c\" y=\"136.035297\"/>\r\n     <use style=\"fill:#0000ff;stroke:#0000ff;\" x=\"122.326923\" xlink:href=\"#mb7b55d956c\" y=\"140.391716\"/>\r\n     <use style=\"fill:#0000ff;stroke:#0000ff;\" x=\"106.363724\" xlink:href=\"#mb7b55d956c\" y=\"126.411291\"/>\r\n     <use style=\"fill:#0000ff;stroke:#0000ff;\" x=\"124.056499\" xlink:href=\"#mb7b55d956c\" y=\"112.105768\"/>\r\n     <use style=\"fill:#0000ff;stroke:#0000ff;\" x=\"99.696024\" xlink:href=\"#mb7b55d956c\" y=\"129.535595\"/>\r\n     <use style=\"fill:#0000ff;stroke:#0000ff;\" x=\"110.872297\" xlink:href=\"#mb7b55d956c\" y=\"132.766961\"/>\r\n     <use style=\"fill:#0000ff;stroke:#0000ff;\" x=\"200.991831\" xlink:href=\"#mb7b55d956c\" y=\"96.616519\"/>\r\n     <use style=\"fill:#0000ff;stroke:#0000ff;\" x=\"111.008511\" xlink:href=\"#mb7b55d956c\" y=\"130.184441\"/>\r\n     <use style=\"fill:#0000ff;stroke:#0000ff;\" x=\"136.707097\" xlink:href=\"#mb7b55d956c\" y=\"150.35339\"/>\r\n     <use style=\"fill:#0000ff;stroke:#0000ff;\" x=\"107.106659\" xlink:href=\"#mb7b55d956c\" y=\"129.456785\"/>\r\n     <use style=\"fill:#0000ff;stroke:#0000ff;\" x=\"108.820809\" xlink:href=\"#mb7b55d956c\" y=\"132.748313\"/>\r\n     <use style=\"fill:#0000ff;stroke:#0000ff;\" x=\"106.058172\" xlink:href=\"#mb7b55d956c\" y=\"141.910469\"/>\r\n     <use style=\"fill:#0000ff;stroke:#0000ff;\" x=\"189.57452\" xlink:href=\"#mb7b55d956c\" y=\"109.183731\"/>\r\n     <use style=\"fill:#0000ff;stroke:#0000ff;\" x=\"196.047603\" xlink:href=\"#mb7b55d956c\" y=\"136.746262\"/>\r\n     <use style=\"fill:#0000ff;stroke:#0000ff;\" x=\"109.702359\" xlink:href=\"#mb7b55d956c\" y=\"141.440734\"/>\r\n     <use style=\"fill:#0000ff;stroke:#0000ff;\" x=\"124.593914\" xlink:href=\"#mb7b55d956c\" y=\"141.585552\"/>\r\n     <use style=\"fill:#0000ff;stroke:#0000ff;\" x=\"150.674673\" xlink:href=\"#mb7b55d956c\" y=\"139.129191\"/>\r\n     <use style=\"fill:#0000ff;stroke:#0000ff;\" x=\"374.927131\" xlink:href=\"#mb7b55d956c\" y=\"214.756364\"/>\r\n     <use style=\"fill:#0000ff;stroke:#0000ff;\" x=\"134.945165\" xlink:href=\"#mb7b55d956c\" y=\"133.500014\"/>\r\n     <use style=\"fill:#0000ff;stroke:#0000ff;\" x=\"123.718976\" xlink:href=\"#mb7b55d956c\" y=\"142.186495\"/>\r\n     <use style=\"fill:#0000ff;stroke:#0000ff;\" x=\"122.870036\" xlink:href=\"#mb7b55d956c\" y=\"146.251658\"/>\r\n     <use style=\"fill:#0000ff;stroke:#0000ff;\" x=\"221.044848\" xlink:href=\"#mb7b55d956c\" y=\"100.541153\"/>\r\n     <use style=\"fill:#0000ff;stroke:#0000ff;\" x=\"103.380105\" xlink:href=\"#mb7b55d956c\" y=\"128.821444\"/>\r\n     <use style=\"fill:#0000ff;stroke:#0000ff;\" x=\"124.051438\" xlink:href=\"#mb7b55d956c\" y=\"141.03445\"/>\r\n     <use style=\"fill:#0000ff;stroke:#0000ff;\" x=\"112.388551\" xlink:href=\"#mb7b55d956c\" y=\"141.528203\"/>\r\n     <use style=\"fill:#0000ff;stroke:#0000ff;\" x=\"113.955225\" xlink:href=\"#mb7b55d956c\" y=\"138.371862\"/>\r\n     <use style=\"fill:#0000ff;stroke:#0000ff;\" x=\"133.324627\" xlink:href=\"#mb7b55d956c\" y=\"133.973736\"/>\r\n     <use style=\"fill:#0000ff;stroke:#0000ff;\" x=\"123.341574\" xlink:href=\"#mb7b55d956c\" y=\"135.352119\"/>\r\n     <use style=\"fill:#0000ff;stroke:#0000ff;\" x=\"162.662712\" xlink:href=\"#mb7b55d956c\" y=\"130.843912\"/>\r\n     <use style=\"fill:#0000ff;stroke:#0000ff;\" x=\"121.749997\" xlink:href=\"#mb7b55d956c\" y=\"118.85388\"/>\r\n     <use style=\"fill:#0000ff;stroke:#0000ff;\" x=\"110.161322\" xlink:href=\"#mb7b55d956c\" y=\"133.719676\"/>\r\n     <use style=\"fill:#0000ff;stroke:#0000ff;\" x=\"106.963548\" xlink:href=\"#mb7b55d956c\" y=\"135.220775\"/>\r\n     <use style=\"fill:#0000ff;stroke:#0000ff;\" x=\"149.373863\" xlink:href=\"#mb7b55d956c\" y=\"138.709588\"/>\r\n     <use style=\"fill:#0000ff;stroke:#0000ff;\" x=\"197.081653\" xlink:href=\"#mb7b55d956c\" y=\"147.642393\"/>\r\n     <use style=\"fill:#0000ff;stroke:#0000ff;\" x=\"147.426575\" xlink:href=\"#mb7b55d956c\" y=\"134.764435\"/>\r\n     <use style=\"fill:#0000ff;stroke:#0000ff;\" x=\"160.003865\" xlink:href=\"#mb7b55d956c\" y=\"156.251664\"/>\r\n     <use style=\"fill:#0000ff;stroke:#0000ff;\" x=\"125.068525\" xlink:href=\"#mb7b55d956c\" y=\"149.798247\"/>\r\n     <use style=\"fill:#0000ff;stroke:#0000ff;\" x=\"173.310756\" xlink:href=\"#mb7b55d956c\" y=\"152.376868\"/>\r\n     <use style=\"fill:#0000ff;stroke:#0000ff;\" x=\"227.810354\" xlink:href=\"#mb7b55d956c\" y=\"124.010875\"/>\r\n     <use style=\"fill:#0000ff;stroke:#0000ff;\" x=\"115.673934\" xlink:href=\"#mb7b55d956c\" y=\"140.869515\"/>\r\n     <use style=\"fill:#0000ff;stroke:#0000ff;\" x=\"114.312495\" xlink:href=\"#mb7b55d956c\" y=\"134.578629\"/>\r\n     <use style=\"fill:#0000ff;stroke:#0000ff;\" x=\"115.636293\" xlink:href=\"#mb7b55d956c\" y=\"124.658755\"/>\r\n     <use style=\"fill:#0000ff;stroke:#0000ff;\" x=\"115.731684\" xlink:href=\"#mb7b55d956c\" y=\"132.671746\"/>\r\n     <use style=\"fill:#0000ff;stroke:#0000ff;\" x=\"132.510794\" xlink:href=\"#mb7b55d956c\" y=\"120.273897\"/>\r\n     <use style=\"fill:#0000ff;stroke:#0000ff;\" x=\"300.90799\" xlink:href=\"#mb7b55d956c\" y=\"125.345821\"/>\r\n     <use style=\"fill:#0000ff;stroke:#0000ff;\" x=\"127.259248\" xlink:href=\"#mb7b55d956c\" y=\"124.143973\"/>\r\n     <use style=\"fill:#0000ff;stroke:#0000ff;\" x=\"149.336855\" xlink:href=\"#mb7b55d956c\" y=\"117.190656\"/>\r\n     <use style=\"fill:#0000ff;stroke:#0000ff;\" x=\"114.232034\" xlink:href=\"#mb7b55d956c\" y=\"133.20913\"/>\r\n     <use style=\"fill:#0000ff;stroke:#0000ff;\" x=\"107.064307\" xlink:href=\"#mb7b55d956c\" y=\"138.724364\"/>\r\n     <use style=\"fill:#0000ff;stroke:#0000ff;\" x=\"121.250398\" xlink:href=\"#mb7b55d956c\" y=\"136.905122\"/>\r\n     <use style=\"fill:#0000ff;stroke:#0000ff;\" x=\"104.266206\" xlink:href=\"#mb7b55d956c\" y=\"135.92371\"/>\r\n     <use style=\"fill:#0000ff;stroke:#0000ff;\" x=\"112.01066\" xlink:href=\"#mb7b55d956c\" y=\"126.996237\"/>\r\n     <use style=\"fill:#0000ff;stroke:#0000ff;\" x=\"202.53885\" xlink:href=\"#mb7b55d956c\" y=\"137.244987\"/>\r\n     <use style=\"fill:#0000ff;stroke:#0000ff;\" x=\"106.976415\" xlink:href=\"#mb7b55d956c\" y=\"140.005205\"/>\r\n     <use style=\"fill:#0000ff;stroke:#0000ff;\" x=\"145.928589\" xlink:href=\"#mb7b55d956c\" y=\"145.919704\"/>\r\n     <use style=\"fill:#0000ff;stroke:#0000ff;\" x=\"126.702918\" xlink:href=\"#mb7b55d956c\" y=\"149.33182\"/>\r\n     <use style=\"fill:#0000ff;stroke:#0000ff;\" x=\"141.600123\" xlink:href=\"#mb7b55d956c\" y=\"146.825362\"/>\r\n     <use style=\"fill:#0000ff;stroke:#0000ff;\" x=\"131.257826\" xlink:href=\"#mb7b55d956c\" y=\"144.564033\"/>\r\n     <use style=\"fill:#0000ff;stroke:#0000ff;\" x=\"123.396499\" xlink:href=\"#mb7b55d956c\" y=\"132.726791\"/>\r\n     <use style=\"fill:#0000ff;stroke:#0000ff;\" x=\"105.10259\" xlink:href=\"#mb7b55d956c\" y=\"138.487566\"/>\r\n     <use style=\"fill:#0000ff;stroke:#0000ff;\" x=\"101.157733\" xlink:href=\"#mb7b55d956c\" y=\"135.613861\"/>\r\n     <use style=\"fill:#0000ff;stroke:#0000ff;\" x=\"140.756203\" xlink:href=\"#mb7b55d956c\" y=\"131.251702\"/>\r\n     <use style=\"fill:#0000ff;stroke:#0000ff;\" x=\"162.710579\" xlink:href=\"#mb7b55d956c\" y=\"159.800468\"/>\r\n     <use style=\"fill:#0000ff;stroke:#0000ff;\" x=\"113.741623\" xlink:href=\"#mb7b55d956c\" y=\"133.216297\"/>\r\n     <use style=\"fill:#0000ff;stroke:#0000ff;\" x=\"113.532595\" xlink:href=\"#mb7b55d956c\" y=\"125.143463\"/>\r\n     <use style=\"fill:#0000ff;stroke:#0000ff;\" x=\"118.03251\" xlink:href=\"#mb7b55d956c\" y=\"132.556274\"/>\r\n     <use style=\"fill:#0000ff;stroke:#0000ff;\" x=\"113.08247\" xlink:href=\"#mb7b55d956c\" y=\"101.549001\"/>\r\n     <use style=\"fill:#0000ff;stroke:#0000ff;\" x=\"115.521121\" xlink:href=\"#mb7b55d956c\" y=\"131.233734\"/>\r\n     <use style=\"fill:#0000ff;stroke:#0000ff;\" x=\"102.938164\" xlink:href=\"#mb7b55d956c\" y=\"137.878592\"/>\r\n     <use style=\"fill:#0000ff;stroke:#0000ff;\" x=\"109.726137\" xlink:href=\"#mb7b55d956c\" y=\"133.4905\"/>\r\n     <use style=\"fill:#0000ff;stroke:#0000ff;\" x=\"140.707009\" xlink:href=\"#mb7b55d956c\" y=\"144.497056\"/>\r\n     <use style=\"fill:#0000ff;stroke:#0000ff;\" x=\"94.869939\" xlink:href=\"#mb7b55d956c\" y=\"132.3026\"/>\r\n     <use style=\"fill:#0000ff;stroke:#0000ff;\" x=\"115.553274\" xlink:href=\"#mb7b55d956c\" y=\"120.633658\"/>\r\n     <use style=\"fill:#0000ff;stroke:#0000ff;\" x=\"109.360301\" xlink:href=\"#mb7b55d956c\" y=\"130.909017\"/>\r\n     <use style=\"fill:#0000ff;stroke:#0000ff;\" x=\"116.272521\" xlink:href=\"#mb7b55d956c\" y=\"134.549111\"/>\r\n     <use style=\"fill:#0000ff;stroke:#0000ff;\" x=\"104.462572\" xlink:href=\"#mb7b55d956c\" y=\"140.804773\"/>\r\n     <use style=\"fill:#0000ff;stroke:#0000ff;\" x=\"110.109022\" xlink:href=\"#mb7b55d956c\" y=\"133.161283\"/>\r\n     <use style=\"fill:#0000ff;stroke:#0000ff;\" x=\"127.595975\" xlink:href=\"#mb7b55d956c\" y=\"144.22819\"/>\r\n     <use style=\"fill:#0000ff;stroke:#0000ff;\" x=\"143.7897\" xlink:href=\"#mb7b55d956c\" y=\"130.194942\"/>\r\n     <use style=\"fill:#0000ff;stroke:#0000ff;\" x=\"102.408403\" xlink:href=\"#mb7b55d956c\" y=\"135.210784\"/>\r\n     <use style=\"fill:#0000ff;stroke:#0000ff;\" x=\"157.283445\" xlink:href=\"#mb7b55d956c\" y=\"140.751508\"/>\r\n     <use style=\"fill:#0000ff;stroke:#0000ff;\" x=\"115.873703\" xlink:href=\"#mb7b55d956c\" y=\"131.684834\"/>\r\n     <use style=\"fill:#0000ff;stroke:#0000ff;\" x=\"110.477205\" xlink:href=\"#mb7b55d956c\" y=\"135.213151\"/>\r\n     <use style=\"fill:#0000ff;stroke:#0000ff;\" x=\"243.646093\" xlink:href=\"#mb7b55d956c\" y=\"132.350248\"/>\r\n     <use style=\"fill:#0000ff;stroke:#0000ff;\" x=\"197.374117\" xlink:href=\"#mb7b55d956c\" y=\"121.253889\"/>\r\n     <use style=\"fill:#0000ff;stroke:#0000ff;\" x=\"130.220336\" xlink:href=\"#mb7b55d956c\" y=\"131.011838\"/>\r\n     <use style=\"fill:#0000ff;stroke:#0000ff;\" x=\"88.504785\" xlink:href=\"#mb7b55d956c\" y=\"123.642096\"/>\r\n     <use style=\"fill:#0000ff;stroke:#0000ff;\" x=\"164.187478\" xlink:href=\"#mb7b55d956c\" y=\"143.591015\"/>\r\n     <use style=\"fill:#0000ff;stroke:#0000ff;\" x=\"87.842318\" xlink:href=\"#mb7b55d956c\" y=\"133.910238\"/>\r\n     <use style=\"fill:#0000ff;stroke:#0000ff;\" x=\"111.075901\" xlink:href=\"#mb7b55d956c\" y=\"130.21993\"/>\r\n     <use style=\"fill:#0000ff;stroke:#0000ff;\" x=\"121.495117\" xlink:href=\"#mb7b55d956c\" y=\"121.108483\"/>\r\n     <use style=\"fill:#0000ff;stroke:#0000ff;\" x=\"104.247597\" xlink:href=\"#mb7b55d956c\" y=\"139.629863\"/>\r\n     <use style=\"fill:#0000ff;stroke:#0000ff;\" x=\"135.892205\" xlink:href=\"#mb7b55d956c\" y=\"71.623817\"/>\r\n     <use style=\"fill:#0000ff;stroke:#0000ff;\" x=\"124.216924\" xlink:href=\"#mb7b55d956c\" y=\"141.121597\"/>\r\n     <use style=\"fill:#0000ff;stroke:#0000ff;\" x=\"104.271663\" xlink:href=\"#mb7b55d956c\" y=\"128.494678\"/>\r\n     <use style=\"fill:#0000ff;stroke:#0000ff;\" x=\"136.158533\" xlink:href=\"#mb7b55d956c\" y=\"126.441663\"/>\r\n     <use style=\"fill:#0000ff;stroke:#0000ff;\" x=\"155.470325\" xlink:href=\"#mb7b55d956c\" y=\"157.580177\"/>\r\n     <use style=\"fill:#0000ff;stroke:#0000ff;\" x=\"119.592446\" xlink:href=\"#mb7b55d956c\" y=\"138.686268\"/>\r\n     <use style=\"fill:#0000ff;stroke:#0000ff;\" x=\"194.652697\" xlink:href=\"#mb7b55d956c\" y=\"134.419129\"/>\r\n     <use style=\"fill:#0000ff;stroke:#0000ff;\" x=\"157.448097\" xlink:href=\"#mb7b55d956c\" y=\"131.282909\"/>\r\n     <use style=\"fill:#0000ff;stroke:#0000ff;\" x=\"131.147483\" xlink:href=\"#mb7b55d956c\" y=\"126.191585\"/>\r\n     <use style=\"fill:#0000ff;stroke:#0000ff;\" x=\"128.137681\" xlink:href=\"#mb7b55d956c\" y=\"130.180501\"/>\r\n     <use style=\"fill:#0000ff;stroke:#0000ff;\" x=\"242.715156\" xlink:href=\"#mb7b55d956c\" y=\"137.168505\"/>\r\n     <use style=\"fill:#0000ff;stroke:#0000ff;\" x=\"92.682487\" xlink:href=\"#mb7b55d956c\" y=\"134.601178\"/>\r\n     <use style=\"fill:#0000ff;stroke:#0000ff;\" x=\"117.977286\" xlink:href=\"#mb7b55d956c\" y=\"132.792618\"/>\r\n     <use style=\"fill:#0000ff;stroke:#0000ff;\" x=\"109.349545\" xlink:href=\"#mb7b55d956c\" y=\"129.045376\"/>\r\n     <use style=\"fill:#0000ff;stroke:#0000ff;\" x=\"118.194592\" xlink:href=\"#mb7b55d956c\" y=\"125.740574\"/>\r\n     <use style=\"fill:#0000ff;stroke:#0000ff;\" x=\"84.207357\" xlink:href=\"#mb7b55d956c\" y=\"116.601343\"/>\r\n     <use style=\"fill:#0000ff;stroke:#0000ff;\" x=\"120.7916\" xlink:href=\"#mb7b55d956c\" y=\"134.274684\"/>\r\n     <use style=\"fill:#0000ff;stroke:#0000ff;\" x=\"110.382264\" xlink:href=\"#mb7b55d956c\" y=\"135.163154\"/>\r\n     <use style=\"fill:#0000ff;stroke:#0000ff;\" x=\"138.398169\" xlink:href=\"#mb7b55d956c\" y=\"144.608307\"/>\r\n     <use style=\"fill:#0000ff;stroke:#0000ff;\" x=\"105.590614\" xlink:href=\"#mb7b55d956c\" y=\"132.639788\"/>\r\n     <use style=\"fill:#0000ff;stroke:#0000ff;\" x=\"125.898383\" xlink:href=\"#mb7b55d956c\" y=\"136.964004\"/>\r\n     <use style=\"fill:#0000ff;stroke:#0000ff;\" x=\"152.969891\" xlink:href=\"#mb7b55d956c\" y=\"156.263405\"/>\r\n     <use style=\"fill:#0000ff;stroke:#0000ff;\" x=\"113.204678\" xlink:href=\"#mb7b55d956c\" y=\"137.976611\"/>\r\n     <use style=\"fill:#0000ff;stroke:#0000ff;\" x=\"162.257431\" xlink:href=\"#mb7b55d956c\" y=\"116.297523\"/>\r\n     <use style=\"fill:#0000ff;stroke:#0000ff;\" x=\"130.581711\" xlink:href=\"#mb7b55d956c\" y=\"124.566513\"/>\r\n     <use style=\"fill:#0000ff;stroke:#0000ff;\" x=\"122.672791\" xlink:href=\"#mb7b55d956c\" y=\"134.999927\"/>\r\n     <use style=\"fill:#0000ff;stroke:#0000ff;\" x=\"115.716893\" xlink:href=\"#mb7b55d956c\" y=\"137.972461\"/>\r\n     <use style=\"fill:#0000ff;stroke:#0000ff;\" x=\"114.497076\" xlink:href=\"#mb7b55d956c\" y=\"120.077446\"/>\r\n     <use style=\"fill:#0000ff;stroke:#0000ff;\" x=\"125.865811\" xlink:href=\"#mb7b55d956c\" y=\"123.410165\"/>\r\n     <use style=\"fill:#0000ff;stroke:#0000ff;\" x=\"158.278336\" xlink:href=\"#mb7b55d956c\" y=\"141.806285\"/>\r\n     <use style=\"fill:#0000ff;stroke:#0000ff;\" x=\"138.909102\" xlink:href=\"#mb7b55d956c\" y=\"146.204499\"/>\r\n     <use style=\"fill:#0000ff;stroke:#0000ff;\" x=\"144.082217\" xlink:href=\"#mb7b55d956c\" y=\"139.638868\"/>\r\n     <use style=\"fill:#0000ff;stroke:#0000ff;\" x=\"156.230465\" xlink:href=\"#mb7b55d956c\" y=\"130.641683\"/>\r\n     <use style=\"fill:#0000ff;stroke:#0000ff;\" x=\"133.836806\" xlink:href=\"#mb7b55d956c\" y=\"140.879089\"/>\r\n     <use style=\"fill:#0000ff;stroke:#0000ff;\" x=\"146.190637\" xlink:href=\"#mb7b55d956c\" y=\"131.459316\"/>\r\n     <use style=\"fill:#0000ff;stroke:#0000ff;\" x=\"140.563514\" xlink:href=\"#mb7b55d956c\" y=\"131.150229\"/>\r\n     <use style=\"fill:#0000ff;stroke:#0000ff;\" x=\"115.874155\" xlink:href=\"#mb7b55d956c\" y=\"147.34516\"/>\r\n     <use style=\"fill:#0000ff;stroke:#0000ff;\" x=\"115.617786\" xlink:href=\"#mb7b55d956c\" y=\"132.611765\"/>\r\n     <use style=\"fill:#0000ff;stroke:#0000ff;\" x=\"119.139675\" xlink:href=\"#mb7b55d956c\" y=\"130.485075\"/>\r\n     <use style=\"fill:#0000ff;stroke:#0000ff;\" x=\"109.751096\" xlink:href=\"#mb7b55d956c\" y=\"136.423321\"/>\r\n     <use style=\"fill:#0000ff;stroke:#0000ff;\" x=\"112.810336\" xlink:href=\"#mb7b55d956c\" y=\"132.46044\"/>\r\n     <use style=\"fill:#0000ff;stroke:#0000ff;\" x=\"176.058365\" xlink:href=\"#mb7b55d956c\" y=\"123.299908\"/>\r\n     <use style=\"fill:#0000ff;stroke:#0000ff;\" x=\"147.362633\" xlink:href=\"#mb7b55d956c\" y=\"140.304691\"/>\r\n     <use style=\"fill:#0000ff;stroke:#0000ff;\" x=\"144.769586\" xlink:href=\"#mb7b55d956c\" y=\"146.901904\"/>\r\n     <use style=\"fill:#0000ff;stroke:#0000ff;\" x=\"204.047292\" xlink:href=\"#mb7b55d956c\" y=\"157.946249\"/>\r\n     <use style=\"fill:#0000ff;stroke:#0000ff;\" x=\"116.079837\" xlink:href=\"#mb7b55d956c\" y=\"115.071601\"/>\r\n     <use style=\"fill:#0000ff;stroke:#0000ff;\" x=\"109.679714\" xlink:href=\"#mb7b55d956c\" y=\"120.194792\"/>\r\n     <use style=\"fill:#0000ff;stroke:#0000ff;\" x=\"123.037712\" xlink:href=\"#mb7b55d956c\" y=\"129.883596\"/>\r\n     <use style=\"fill:#0000ff;stroke:#0000ff;\" x=\"112.943792\" xlink:href=\"#mb7b55d956c\" y=\"142.882303\"/>\r\n     <use style=\"fill:#0000ff;stroke:#0000ff;\" x=\"103.480537\" xlink:href=\"#mb7b55d956c\" y=\"132.855711\"/>\r\n     <use style=\"fill:#0000ff;stroke:#0000ff;\" x=\"110.990291\" xlink:href=\"#mb7b55d956c\" y=\"134.42165\"/>\r\n     <use style=\"fill:#0000ff;stroke:#0000ff;\" x=\"101.073914\" xlink:href=\"#mb7b55d956c\" y=\"139.551098\"/>\r\n     <use style=\"fill:#0000ff;stroke:#0000ff;\" x=\"89.075915\" xlink:href=\"#mb7b55d956c\" y=\"123.942863\"/>\r\n     <use style=\"fill:#0000ff;stroke:#0000ff;\" x=\"108.07152\" xlink:href=\"#mb7b55d956c\" y=\"137.396804\"/>\r\n     <use style=\"fill:#0000ff;stroke:#0000ff;\" x=\"168.401444\" xlink:href=\"#mb7b55d956c\" y=\"176.334061\"/>\r\n     <use style=\"fill:#0000ff;stroke:#0000ff;\" x=\"117.014957\" xlink:href=\"#mb7b55d956c\" y=\"138.656044\"/>\r\n     <use style=\"fill:#0000ff;stroke:#0000ff;\" x=\"106.789408\" xlink:href=\"#mb7b55d956c\" y=\"133.271094\"/>\r\n     <use style=\"fill:#0000ff;stroke:#0000ff;\" x=\"105.8354\" xlink:href=\"#mb7b55d956c\" y=\"134.626673\"/>\r\n     <use style=\"fill:#0000ff;stroke:#0000ff;\" x=\"104.985324\" xlink:href=\"#mb7b55d956c\" y=\"139.222087\"/>\r\n     <use style=\"fill:#0000ff;stroke:#0000ff;\" x=\"109.462459\" xlink:href=\"#mb7b55d956c\" y=\"130.69739\"/>\r\n     <use style=\"fill:#0000ff;stroke:#0000ff;\" x=\"105.733361\" xlink:href=\"#mb7b55d956c\" y=\"131.387835\"/>\r\n     <use style=\"fill:#0000ff;stroke:#0000ff;\" x=\"230.329603\" xlink:href=\"#mb7b55d956c\" y=\"142.590194\"/>\r\n     <use style=\"fill:#0000ff;stroke:#0000ff;\" x=\"118.575576\" xlink:href=\"#mb7b55d956c\" y=\"141.070444\"/>\r\n     <use style=\"fill:#0000ff;stroke:#0000ff;\" x=\"110.175015\" xlink:href=\"#mb7b55d956c\" y=\"133.726886\"/>\r\n     <use style=\"fill:#0000ff;stroke:#0000ff;\" x=\"116.143045\" xlink:href=\"#mb7b55d956c\" y=\"140.851132\"/>\r\n     <use style=\"fill:#0000ff;stroke:#0000ff;\" x=\"202.536991\" xlink:href=\"#mb7b55d956c\" y=\"155.292922\"/>\r\n     <use style=\"fill:#0000ff;stroke:#0000ff;\" x=\"133.555637\" xlink:href=\"#mb7b55d956c\" y=\"146.039524\"/>\r\n     <use style=\"fill:#0000ff;stroke:#0000ff;\" x=\"121.54154\" xlink:href=\"#mb7b55d956c\" y=\"134.669615\"/>\r\n     <use style=\"fill:#0000ff;stroke:#0000ff;\" x=\"110.841982\" xlink:href=\"#mb7b55d956c\" y=\"132.750997\"/>\r\n     <use style=\"fill:#0000ff;stroke:#0000ff;\" x=\"155.638792\" xlink:href=\"#mb7b55d956c\" y=\"134.046051\"/>\r\n     <use style=\"fill:#0000ff;stroke:#0000ff;\" x=\"146.527923\" xlink:href=\"#mb7b55d956c\" y=\"139.865119\"/>\r\n     <use style=\"fill:#0000ff;stroke:#0000ff;\" x=\"106.174678\" xlink:href=\"#mb7b55d956c\" y=\"135.601618\"/>\r\n     <use style=\"fill:#0000ff;stroke:#0000ff;\" x=\"121.696907\" xlink:href=\"#mb7b55d956c\" y=\"121.214749\"/>\r\n     <use style=\"fill:#0000ff;stroke:#0000ff;\" x=\"150.163267\" xlink:href=\"#mb7b55d956c\" y=\"125.588616\"/>\r\n     <use style=\"fill:#0000ff;stroke:#0000ff;\" x=\"102.140618\" xlink:href=\"#mb7b55d956c\" y=\"133.477213\"/>\r\n     <use style=\"fill:#0000ff;stroke:#0000ff;\" x=\"184.241556\" xlink:href=\"#mb7b55d956c\" y=\"94.431166\"/>\r\n     <use style=\"fill:#0000ff;stroke:#0000ff;\" x=\"109.967093\" xlink:href=\"#mb7b55d956c\" y=\"134.148241\"/>\r\n     <use style=\"fill:#0000ff;stroke:#0000ff;\" x=\"289.81816\" xlink:href=\"#mb7b55d956c\" y=\"50.760596\"/>\r\n     <use style=\"fill:#0000ff;stroke:#0000ff;\" x=\"127.157836\" xlink:href=\"#mb7b55d956c\" y=\"124.090568\"/>\r\n     <use style=\"fill:#0000ff;stroke:#0000ff;\" x=\"114.324932\" xlink:href=\"#mb7b55d956c\" y=\"139.893682\"/>\r\n     <use style=\"fill:#0000ff;stroke:#0000ff;\" x=\"155.426319\" xlink:href=\"#mb7b55d956c\" y=\"125.971403\"/>\r\n     <use style=\"fill:#0000ff;stroke:#0000ff;\" x=\"136.220625\" xlink:href=\"#mb7b55d956c\" y=\"142.134449\"/>\r\n     <use style=\"fill:#0000ff;stroke:#0000ff;\" x=\"109.942295\" xlink:href=\"#mb7b55d956c\" y=\"128.561253\"/>\r\n     <use style=\"fill:#0000ff;stroke:#0000ff;\" x=\"114.946033\" xlink:href=\"#mb7b55d956c\" y=\"142.875017\"/>\r\n     <use style=\"fill:#0000ff;stroke:#0000ff;\" x=\"162.339027\" xlink:href=\"#mb7b55d956c\" y=\"122.710699\"/>\r\n     <use style=\"fill:#0000ff;stroke:#0000ff;\" x=\"104.3431\" xlink:href=\"#mb7b55d956c\" y=\"129.328574\"/>\r\n     <use style=\"fill:#0000ff;stroke:#0000ff;\" x=\"128.761282\" xlink:href=\"#mb7b55d956c\" y=\"128.120073\"/>\r\n     <use style=\"fill:#0000ff;stroke:#0000ff;\" x=\"91.326172\" xlink:href=\"#mb7b55d956c\" y=\"134.41777\"/>\r\n     <use style=\"fill:#0000ff;stroke:#0000ff;\" x=\"104.575489\" xlink:href=\"#mb7b55d956c\" y=\"129.185528\"/>\r\n     <use style=\"fill:#0000ff;stroke:#0000ff;\" x=\"133.246533\" xlink:href=\"#mb7b55d956c\" y=\"130.216658\"/>\r\n     <use style=\"fill:#0000ff;stroke:#0000ff;\" x=\"122.684166\" xlink:href=\"#mb7b55d956c\" y=\"128.370286\"/>\r\n     <use style=\"fill:#0000ff;stroke:#0000ff;\" x=\"111.815941\" xlink:href=\"#mb7b55d956c\" y=\"129.547947\"/>\r\n     <use style=\"fill:#0000ff;stroke:#0000ff;\" x=\"108.382577\" xlink:href=\"#mb7b55d956c\" y=\"136.764336\"/>\r\n     <use style=\"fill:#0000ff;stroke:#0000ff;\" x=\"154.474364\" xlink:href=\"#mb7b55d956c\" y=\"144.580702\"/>\r\n     <use style=\"fill:#0000ff;stroke:#0000ff;\" x=\"197.859801\" xlink:href=\"#mb7b55d956c\" y=\"134.780919\"/>\r\n     <use style=\"fill:#0000ff;stroke:#0000ff;\" x=\"153.003103\" xlink:href=\"#mb7b55d956c\" y=\"132.392627\"/>\r\n     <use style=\"fill:#0000ff;stroke:#0000ff;\" x=\"140.873317\" xlink:href=\"#mb7b55d956c\" y=\"122.023494\"/>\r\n     <use style=\"fill:#0000ff;stroke:#0000ff;\" x=\"119.695544\" xlink:href=\"#mb7b55d956c\" y=\"130.777805\"/>\r\n     <use style=\"fill:#0000ff;stroke:#0000ff;\" x=\"113.29973\" xlink:href=\"#mb7b55d956c\" y=\"132.718163\"/>\r\n     <use style=\"fill:#0000ff;stroke:#0000ff;\" x=\"135.629479\" xlink:href=\"#mb7b55d956c\" y=\"132.267834\"/>\r\n     <use style=\"fill:#0000ff;stroke:#0000ff;\" x=\"114.035328\" xlink:href=\"#mb7b55d956c\" y=\"123.815659\"/>\r\n     <use style=\"fill:#0000ff;stroke:#0000ff;\" x=\"167.215607\" xlink:href=\"#mb7b55d956c\" y=\"144.123979\"/>\r\n     <use style=\"fill:#0000ff;stroke:#0000ff;\" x=\"110.204746\" xlink:href=\"#mb7b55d956c\" y=\"136.66222\"/>\r\n     <use style=\"fill:#0000ff;stroke:#0000ff;\" x=\"197.668627\" xlink:href=\"#mb7b55d956c\" y=\"114.773353\"/>\r\n     <use style=\"fill:#0000ff;stroke:#0000ff;\" x=\"106.306844\" xlink:href=\"#mb7b55d956c\" y=\"136.998345\"/>\r\n     <use style=\"fill:#0000ff;stroke:#0000ff;\" x=\"88.535824\" xlink:href=\"#mb7b55d956c\" y=\"130.294072\"/>\r\n     <use style=\"fill:#0000ff;stroke:#0000ff;\" x=\"95.708055\" xlink:href=\"#mb7b55d956c\" y=\"130.089714\"/>\r\n     <use style=\"fill:#0000ff;stroke:#0000ff;\" x=\"152.687373\" xlink:href=\"#mb7b55d956c\" y=\"140.189114\"/>\r\n     <use style=\"fill:#0000ff;stroke:#0000ff;\" x=\"106.438497\" xlink:href=\"#mb7b55d956c\" y=\"134.413424\"/>\r\n     <use style=\"fill:#0000ff;stroke:#0000ff;\" x=\"123.945168\" xlink:href=\"#mb7b55d956c\" y=\"135.669982\"/>\r\n     <use style=\"fill:#0000ff;stroke:#0000ff;\" x=\"129.257387\" xlink:href=\"#mb7b55d956c\" y=\"134.48611\"/>\r\n     <use style=\"fill:#0000ff;stroke:#0000ff;\" x=\"122.024846\" xlink:href=\"#mb7b55d956c\" y=\"121.652872\"/>\r\n     <use style=\"fill:#0000ff;stroke:#0000ff;\" x=\"137.659908\" xlink:href=\"#mb7b55d956c\" y=\"129.62114\"/>\r\n     <use style=\"fill:#0000ff;stroke:#0000ff;\" x=\"150.849436\" xlink:href=\"#mb7b55d956c\" y=\"123.295712\"/>\r\n     <use style=\"fill:#0000ff;stroke:#0000ff;\" x=\"105.638774\" xlink:href=\"#mb7b55d956c\" y=\"137.177378\"/>\r\n     <use style=\"fill:#0000ff;stroke:#0000ff;\" x=\"97.376407\" xlink:href=\"#mb7b55d956c\" y=\"125.659793\"/>\r\n     <use style=\"fill:#0000ff;stroke:#0000ff;\" x=\"164.011188\" xlink:href=\"#mb7b55d956c\" y=\"143.763603\"/>\r\n     <use style=\"fill:#0000ff;stroke:#0000ff;\" x=\"125.272484\" xlink:href=\"#mb7b55d956c\" y=\"141.677473\"/>\r\n     <use style=\"fill:#0000ff;stroke:#0000ff;\" x=\"115.645695\" xlink:href=\"#mb7b55d956c\" y=\"129.97221\"/>\r\n     <use style=\"fill:#0000ff;stroke:#0000ff;\" x=\"119.02156\" xlink:href=\"#mb7b55d956c\" y=\"133.077125\"/>\r\n     <use style=\"fill:#0000ff;stroke:#0000ff;\" x=\"119.402479\" xlink:href=\"#mb7b55d956c\" y=\"138.851653\"/>\r\n     <use style=\"fill:#0000ff;stroke:#0000ff;\" x=\"225.479344\" xlink:href=\"#mb7b55d956c\" y=\"96.240805\"/>\r\n     <use style=\"fill:#0000ff;stroke:#0000ff;\" x=\"119.6373\" xlink:href=\"#mb7b55d956c\" y=\"126.765755\"/>\r\n     <use style=\"fill:#0000ff;stroke:#0000ff;\" x=\"85.972572\" xlink:href=\"#mb7b55d956c\" y=\"131.067621\"/>\r\n     <use style=\"fill:#0000ff;stroke:#0000ff;\" x=\"125.710311\" xlink:href=\"#mb7b55d956c\" y=\"136.864962\"/>\r\n     <use style=\"fill:#0000ff;stroke:#0000ff;\" x=\"132.579272\" xlink:href=\"#mb7b55d956c\" y=\"122.964211\"/>\r\n     <use style=\"fill:#0000ff;stroke:#0000ff;\" x=\"148.848757\" xlink:href=\"#mb7b55d956c\" y=\"128.87775\"/>\r\n     <use style=\"fill:#0000ff;stroke:#0000ff;\" x=\"128.285895\" xlink:href=\"#mb7b55d956c\" y=\"132.64738\"/>\r\n     <use style=\"fill:#0000ff;stroke:#0000ff;\" x=\"105.003257\" xlink:href=\"#mb7b55d956c\" y=\"127.021972\"/>\r\n     <use style=\"fill:#0000ff;stroke:#0000ff;\" x=\"124.726458\" xlink:href=\"#mb7b55d956c\" y=\"126.79154\"/>\r\n     <use style=\"fill:#0000ff;stroke:#0000ff;\" x=\"119.067249\" xlink:href=\"#mb7b55d956c\" y=\"126.465556\"/>\r\n     <use style=\"fill:#0000ff;stroke:#0000ff;\" x=\"146.380136\" xlink:href=\"#mb7b55d956c\" y=\"137.133039\"/>\r\n     <use style=\"fill:#0000ff;stroke:#0000ff;\" x=\"138.038993\" xlink:href=\"#mb7b55d956c\" y=\"140.703206\"/>\r\n     <use style=\"fill:#0000ff;stroke:#0000ff;\" x=\"92.579148\" xlink:href=\"#mb7b55d956c\" y=\"136.404734\"/>\r\n     <use style=\"fill:#0000ff;stroke:#0000ff;\" x=\"115.092791\" xlink:href=\"#mb7b55d956c\" y=\"133.13157\"/>\r\n     <use style=\"fill:#0000ff;stroke:#0000ff;\" x=\"110.51593\" xlink:href=\"#mb7b55d956c\" y=\"145.319702\"/>\r\n     <use style=\"fill:#0000ff;stroke:#0000ff;\" x=\"133.774502\" xlink:href=\"#mb7b55d956c\" y=\"142.173404\"/>\r\n     <use style=\"fill:#0000ff;stroke:#0000ff;\" x=\"117.980018\" xlink:href=\"#mb7b55d956c\" y=\"139.164261\"/>\r\n     <use style=\"fill:#0000ff;stroke:#0000ff;\" x=\"104.09548\" xlink:href=\"#mb7b55d956c\" y=\"130.525298\"/>\r\n     <use style=\"fill:#0000ff;stroke:#0000ff;\" x=\"160.368688\" xlink:href=\"#mb7b55d956c\" y=\"115.037454\"/>\r\n     <use style=\"fill:#0000ff;stroke:#0000ff;\" x=\"86.943232\" xlink:href=\"#mb7b55d956c\" y=\"133.436764\"/>\r\n     <use style=\"fill:#0000ff;stroke:#0000ff;\" x=\"96.969536\" xlink:href=\"#mb7b55d956c\" y=\"124.118402\"/>\r\n     <use style=\"fill:#0000ff;stroke:#0000ff;\" x=\"205.150226\" xlink:href=\"#mb7b55d956c\" y=\"131.984553\"/>\r\n     <use style=\"fill:#0000ff;stroke:#0000ff;\" x=\"115.043524\" xlink:href=\"#mb7b55d956c\" y=\"137.617853\"/>\r\n     <use style=\"fill:#0000ff;stroke:#0000ff;\" x=\"119.422977\" xlink:href=\"#mb7b55d956c\" y=\"138.862448\"/>\r\n     <use style=\"fill:#0000ff;stroke:#0000ff;\" x=\"113.838428\" xlink:href=\"#mb7b55d956c\" y=\"129.020473\"/>\r\n     <use style=\"fill:#0000ff;stroke:#0000ff;\" x=\"103.030766\" xlink:href=\"#mb7b55d956c\" y=\"131.291728\"/>\r\n     <use style=\"fill:#0000ff;stroke:#0000ff;\" x=\"140.590735\" xlink:href=\"#mb7b55d956c\" y=\"128.510312\"/>\r\n     <use style=\"fill:#0000ff;stroke:#0000ff;\" x=\"266.643097\" xlink:href=\"#mb7b55d956c\" y=\"131.189606\"/>\r\n     <use style=\"fill:#0000ff;stroke:#0000ff;\" x=\"234.566358\" xlink:href=\"#mb7b55d956c\" y=\"160.746855\"/>\r\n     <use style=\"fill:#0000ff;stroke:#0000ff;\" x=\"131.920694\" xlink:href=\"#mb7b55d956c\" y=\"129.253023\"/>\r\n     <use style=\"fill:#0000ff;stroke:#0000ff;\" x=\"128.559721\" xlink:href=\"#mb7b55d956c\" y=\"132.791581\"/>\r\n     <use style=\"fill:#0000ff;stroke:#0000ff;\" x=\"107.569451\" xlink:href=\"#mb7b55d956c\" y=\"132.354751\"/>\r\n     <use style=\"fill:#0000ff;stroke:#0000ff;\" x=\"114.583258\" xlink:href=\"#mb7b55d956c\" y=\"128.085587\"/>\r\n     <use style=\"fill:#0000ff;stroke:#0000ff;\" x=\"100.146343\" xlink:href=\"#mb7b55d956c\" y=\"132.957843\"/>\r\n     <use style=\"fill:#0000ff;stroke:#0000ff;\" x=\"170.765503\" xlink:href=\"#mb7b55d956c\" y=\"143.073738\"/>\r\n     <use style=\"fill:#0000ff;stroke:#0000ff;\" x=\"117.220209\" xlink:href=\"#mb7b55d956c\" y=\"103.197155\"/>\r\n     <use style=\"fill:#0000ff;stroke:#0000ff;\" x=\"183.575617\" xlink:href=\"#mb7b55d956c\" y=\"141.857009\"/>\r\n     <use style=\"fill:#0000ff;stroke:#0000ff;\" x=\"95.376818\" xlink:href=\"#mb7b55d956c\" y=\"120.625397\"/>\r\n     <use style=\"fill:#0000ff;stroke:#0000ff;\" x=\"143.833732\" xlink:href=\"#mb7b55d956c\" y=\"138.446311\"/>\r\n     <use style=\"fill:#0000ff;stroke:#0000ff;\" x=\"99.951086\" xlink:href=\"#mb7b55d956c\" y=\"136.570971\"/>\r\n     <use style=\"fill:#0000ff;stroke:#0000ff;\" x=\"148.64274\" xlink:href=\"#mb7b55d956c\" y=\"128.769258\"/>\r\n     <use style=\"fill:#0000ff;stroke:#0000ff;\" x=\"318.327584\" xlink:href=\"#mb7b55d956c\" y=\"185.215493\"/>\r\n     <use style=\"fill:#0000ff;stroke:#0000ff;\" x=\"125.884323\" xlink:href=\"#mb7b55d956c\" y=\"131.38267\"/>\r\n     <use style=\"fill:#0000ff;stroke:#0000ff;\" x=\"163.87905\" xlink:href=\"#mb7b55d956c\" y=\"136.792961\"/>\r\n     <use style=\"fill:#0000ff;stroke:#0000ff;\" x=\"180.095824\" xlink:href=\"#mb7b55d956c\" y=\"112.154843\"/>\r\n     <use style=\"fill:#0000ff;stroke:#0000ff;\" x=\"125.251037\" xlink:href=\"#mb7b55d956c\" y=\"123.086415\"/>\r\n     <use style=\"fill:#0000ff;stroke:#0000ff;\" x=\"143.689085\" xlink:href=\"#mb7b55d956c\" y=\"132.796208\"/>\r\n     <use style=\"fill:#0000ff;stroke:#0000ff;\" x=\"131.586555\" xlink:href=\"#mb7b55d956c\" y=\"139.959493\"/>\r\n     <use style=\"fill:#0000ff;stroke:#0000ff;\" x=\"111.386285\" xlink:href=\"#mb7b55d956c\" y=\"139.938691\"/>\r\n     <use style=\"fill:#0000ff;stroke:#0000ff;\" x=\"128.872705\" xlink:href=\"#mb7b55d956c\" y=\"130.833002\"/>\r\n     <use style=\"fill:#0000ff;stroke:#0000ff;\" x=\"109.570436\" xlink:href=\"#mb7b55d956c\" y=\"129.427127\"/>\r\n     <use style=\"fill:#0000ff;stroke:#0000ff;\" x=\"109.843294\" xlink:href=\"#mb7b55d956c\" y=\"130.897944\"/>\r\n     <use style=\"fill:#0000ff;stroke:#0000ff;\" x=\"70.563494\" xlink:href=\"#mb7b55d956c\" y=\"125.872613\"/>\r\n     <use style=\"fill:#0000ff;stroke:#0000ff;\" x=\"100.915149\" xlink:href=\"#mb7b55d956c\" y=\"134.424411\"/>\r\n     <use style=\"fill:#0000ff;stroke:#0000ff;\" x=\"114.247046\" xlink:href=\"#mb7b55d956c\" y=\"131.88991\"/>\r\n     <use style=\"fill:#0000ff;stroke:#0000ff;\" x=\"172.471309\" xlink:href=\"#mb7b55d956c\" y=\"141.317793\"/>\r\n     <use style=\"fill:#0000ff;stroke:#0000ff;\" x=\"151.265148\" xlink:href=\"#mb7b55d956c\" y=\"128.026862\"/>\r\n     <use style=\"fill:#0000ff;stroke:#0000ff;\" x=\"119.033561\" xlink:href=\"#mb7b55d956c\" y=\"121.139311\"/>\r\n     <use style=\"fill:#0000ff;stroke:#0000ff;\" x=\"137.716866\" xlink:href=\"#mb7b55d956c\" y=\"142.922395\"/>\r\n     <use style=\"fill:#0000ff;stroke:#0000ff;\" x=\"121.910426\" xlink:href=\"#mb7b55d956c\" y=\"139.641531\"/>\r\n     <use style=\"fill:#0000ff;stroke:#0000ff;\" x=\"117.237676\" xlink:href=\"#mb7b55d956c\" y=\"138.773331\"/>\r\n     <use style=\"fill:#0000ff;stroke:#0000ff;\" x=\"111.597423\" xlink:href=\"#mb7b55d956c\" y=\"140.315306\"/>\r\n     <use style=\"fill:#0000ff;stroke:#0000ff;\" x=\"152.170698\" xlink:href=\"#mb7b55d956c\" y=\"129.565441\"/>\r\n     <use style=\"fill:#0000ff;stroke:#0000ff;\" x=\"147.617794\" xlink:href=\"#mb7b55d956c\" y=\"136.19226\"/>\r\n     <use style=\"fill:#0000ff;stroke:#0000ff;\" x=\"129.841862\" xlink:href=\"#mb7b55d956c\" y=\"129.485401\"/>\r\n     <use style=\"fill:#0000ff;stroke:#0000ff;\" x=\"90.045139\" xlink:href=\"#mb7b55d956c\" y=\"129.496352\"/>\r\n     <use style=\"fill:#0000ff;stroke:#0000ff;\" x=\"145.228014\" xlink:href=\"#mb7b55d956c\" y=\"147.14332\"/>\r\n     <use style=\"fill:#0000ff;stroke:#0000ff;\" x=\"122.037518\" xlink:href=\"#mb7b55d956c\" y=\"147.936641\"/>\r\n     <use style=\"fill:#0000ff;stroke:#0000ff;\" x=\"255.473815\" xlink:href=\"#mb7b55d956c\" y=\"162.467199\"/>\r\n     <use style=\"fill:#0000ff;stroke:#0000ff;\" x=\"120.401588\" xlink:href=\"#mb7b55d956c\" y=\"139.643227\"/>\r\n     <use style=\"fill:#0000ff;stroke:#0000ff;\" x=\"123.064197\" xlink:href=\"#mb7b55d956c\" y=\"138.125725\"/>\r\n     <use style=\"fill:#0000ff;stroke:#0000ff;\" x=\"170.025193\" xlink:href=\"#mb7b55d956c\" y=\"156.751414\"/>\r\n     <use style=\"fill:#0000ff;stroke:#0000ff;\" x=\"131.561888\" xlink:href=\"#mb7b55d956c\" y=\"98.540171\"/>\r\n     <use style=\"fill:#0000ff;stroke:#0000ff;\" x=\"115.385027\" xlink:href=\"#mb7b55d956c\" y=\"141.779073\"/>\r\n     <use style=\"fill:#0000ff;stroke:#0000ff;\" x=\"125.568734\" xlink:href=\"#mb7b55d956c\" y=\"17.083636\"/>\r\n     <use style=\"fill:#0000ff;stroke:#0000ff;\" x=\"210.801095\" xlink:href=\"#mb7b55d956c\" y=\"143.188579\"/>\r\n     <use style=\"fill:#0000ff;stroke:#0000ff;\" x=\"110.685878\" xlink:href=\"#mb7b55d956c\" y=\"136.915593\"/>\r\n     <use style=\"fill:#0000ff;stroke:#0000ff;\" x=\"122.95127\" xlink:href=\"#mb7b55d956c\" y=\"128.510948\"/>\r\n     <use style=\"fill:#0000ff;stroke:#0000ff;\" x=\"79.947467\" xlink:href=\"#mb7b55d956c\" y=\"128.690972\"/>\r\n     <use style=\"fill:#0000ff;stroke:#0000ff;\" x=\"100.732513\" xlink:href=\"#mb7b55d956c\" y=\"132.73568\"/>\r\n     <use style=\"fill:#0000ff;stroke:#0000ff;\" x=\"111.836547\" xlink:href=\"#mb7b55d956c\" y=\"140.441232\"/>\r\n     <use style=\"fill:#0000ff;stroke:#0000ff;\" x=\"119.378201\" xlink:href=\"#mb7b55d956c\" y=\"133.530364\"/>\r\n     <use style=\"fill:#0000ff;stroke:#0000ff;\" x=\"134.488678\" xlink:href=\"#mb7b55d956c\" y=\"137.240998\"/>\r\n     <use style=\"fill:#0000ff;stroke:#0000ff;\" x=\"121.490017\" xlink:href=\"#mb7b55d956c\" y=\"141.012687\"/>\r\n     <use style=\"fill:#0000ff;stroke:#0000ff;\" x=\"142.94523\" xlink:href=\"#mb7b55d956c\" y=\"129.750229\"/>\r\n     <use style=\"fill:#0000ff;stroke:#0000ff;\" x=\"139.75525\" xlink:href=\"#mb7b55d956c\" y=\"130.724583\"/>\r\n     <use style=\"fill:#0000ff;stroke:#0000ff;\" x=\"154.959484\" xlink:href=\"#mb7b55d956c\" y=\"152.26808\"/>\r\n     <use style=\"fill:#0000ff;stroke:#0000ff;\" x=\"119.132301\" xlink:href=\"#mb7b55d956c\" y=\"139.771074\"/>\r\n     <use style=\"fill:#0000ff;stroke:#0000ff;\" x=\"117.416932\" xlink:href=\"#mb7b55d956c\" y=\"137.540604\"/>\r\n     <use style=\"fill:#0000ff;stroke:#0000ff;\" x=\"135.115712\" xlink:href=\"#mb7b55d956c\" y=\"131.201\"/>\r\n     <use style=\"fill:#0000ff;stroke:#0000ff;\" x=\"143.506055\" xlink:href=\"#mb7b55d956c\" y=\"138.273751\"/>\r\n     <use style=\"fill:#0000ff;stroke:#0000ff;\" x=\"123.771339\" xlink:href=\"#mb7b55d956c\" y=\"135.578441\"/>\r\n     <use style=\"fill:#0000ff;stroke:#0000ff;\" x=\"212.795735\" xlink:href=\"#mb7b55d956c\" y=\"143.973565\"/>\r\n     <use style=\"fill:#0000ff;stroke:#0000ff;\" x=\"109.093409\" xlink:href=\"#mb7b55d956c\" y=\"134.218995\"/>\r\n     <use style=\"fill:#0000ff;stroke:#0000ff;\" x=\"101.738836\" xlink:href=\"#mb7b55d956c\" y=\"138.574131\"/>\r\n     <use style=\"fill:#0000ff;stroke:#0000ff;\" x=\"111.573745\" xlink:href=\"#mb7b55d956c\" y=\"136.056033\"/>\r\n     <use style=\"fill:#0000ff;stroke:#0000ff;\" x=\"123.38309\" xlink:href=\"#mb7b55d956c\" y=\"135.373982\"/>\r\n     <use style=\"fill:#0000ff;stroke:#0000ff;\" x=\"139.051304\" xlink:href=\"#mb7b55d956c\" y=\"142.298007\"/>\r\n     <use style=\"fill:#0000ff;stroke:#0000ff;\" x=\"124.346068\" xlink:href=\"#mb7b55d956c\" y=\"138.535355\"/>\r\n     <use style=\"fill:#0000ff;stroke:#0000ff;\" x=\"141.163624\" xlink:href=\"#mb7b55d956c\" y=\"144.737517\"/>\r\n     <use style=\"fill:#0000ff;stroke:#0000ff;\" x=\"173.763607\" xlink:href=\"#mb7b55d956c\" y=\"141.998339\"/>\r\n     <use style=\"fill:#0000ff;stroke:#0000ff;\" x=\"109.774351\" xlink:href=\"#mb7b55d956c\" y=\"138.824394\"/>\r\n     <use style=\"fill:#0000ff;stroke:#0000ff;\" x=\"265.215456\" xlink:href=\"#mb7b55d956c\" y=\"147.690424\"/>\r\n     <use style=\"fill:#0000ff;stroke:#0000ff;\" x=\"102.601769\" xlink:href=\"#mb7b55d956c\" y=\"133.720063\"/>\r\n     <use style=\"fill:#0000ff;stroke:#0000ff;\" x=\"117.615869\" xlink:href=\"#mb7b55d956c\" y=\"137.645368\"/>\r\n     <use style=\"fill:#0000ff;stroke:#0000ff;\" x=\"160.157474\" xlink:href=\"#mb7b55d956c\" y=\"136.160241\"/>\r\n     <use style=\"fill:#0000ff;stroke:#0000ff;\" x=\"139.07695\" xlink:href=\"#mb7b55d956c\" y=\"131.95993\"/>\r\n     <use style=\"fill:#0000ff;stroke:#0000ff;\" x=\"119.893161\" xlink:href=\"#mb7b55d956c\" y=\"130.881873\"/>\r\n     <use style=\"fill:#0000ff;stroke:#0000ff;\" x=\"126.881165\" xlink:href=\"#mb7b55d956c\" y=\"124.210294\"/>\r\n     <use style=\"fill:#0000ff;stroke:#0000ff;\" x=\"95.003447\" xlink:href=\"#mb7b55d956c\" y=\"140.070239\"/>\r\n     <use style=\"fill:#0000ff;stroke:#0000ff;\" x=\"97.108124\" xlink:href=\"#mb7b55d956c\" y=\"133.481267\"/>\r\n     <use style=\"fill:#0000ff;stroke:#0000ff;\" x=\"160.014489\" xlink:href=\"#mb7b55d956c\" y=\"94.944036\"/>\r\n     <use style=\"fill:#0000ff;stroke:#0000ff;\" x=\"277.352837\" xlink:href=\"#mb7b55d956c\" y=\"97.015759\"/>\r\n     <use style=\"fill:#0000ff;stroke:#0000ff;\" x=\"90.622805\" xlink:href=\"#mb7b55d956c\" y=\"118.387277\"/>\r\n     <use style=\"fill:#0000ff;stroke:#0000ff;\" x=\"106.364131\" xlink:href=\"#mb7b55d956c\" y=\"139.948191\"/>\r\n     <use style=\"fill:#0000ff;stroke:#0000ff;\" x=\"123.135124\" xlink:href=\"#mb7b55d956c\" y=\"121.972139\"/>\r\n     <use style=\"fill:#0000ff;stroke:#0000ff;\" x=\"126.519114\" xlink:href=\"#mb7b55d956c\" y=\"141.006845\"/>\r\n     <use style=\"fill:#0000ff;stroke:#0000ff;\" x=\"98.975903\" xlink:href=\"#mb7b55d956c\" y=\"135.791998\"/>\r\n     <use style=\"fill:#0000ff;stroke:#0000ff;\" x=\"122.314746\" xlink:href=\"#mb7b55d956c\" y=\"134.811374\"/>\r\n     <use style=\"fill:#0000ff;stroke:#0000ff;\" x=\"108.658072\" xlink:href=\"#mb7b55d956c\" y=\"114.348273\"/>\r\n     <use style=\"fill:#0000ff;stroke:#0000ff;\" x=\"118.4691\" xlink:href=\"#mb7b55d956c\" y=\"144.730325\"/>\r\n     <use style=\"fill:#0000ff;stroke:#0000ff;\" x=\"129.20245\" xlink:href=\"#mb7b55d956c\" y=\"121.185919\"/>\r\n     <use style=\"fill:#0000ff;stroke:#0000ff;\" x=\"133.430012\" xlink:href=\"#mb7b55d956c\" y=\"141.46114\"/>\r\n     <use style=\"fill:#0000ff;stroke:#0000ff;\" x=\"146.420041\" xlink:href=\"#mb7b55d956c\" y=\"137.154054\"/>\r\n     <use style=\"fill:#0000ff;stroke:#0000ff;\" x=\"122.021924\" xlink:href=\"#mb7b55d956c\" y=\"130.67579\"/>\r\n     <use style=\"fill:#0000ff;stroke:#0000ff;\" x=\"115.27732\" xlink:href=\"#mb7b55d956c\" y=\"131.370769\"/>\r\n     <use style=\"fill:#0000ff;stroke:#0000ff;\" x=\"107.260517\" xlink:href=\"#mb7b55d956c\" y=\"120.247927\"/>\r\n     <use style=\"fill:#0000ff;stroke:#0000ff;\" x=\"107.482543\" xlink:href=\"#mb7b55d956c\" y=\"132.57441\"/>\r\n     <use style=\"fill:#0000ff;stroke:#0000ff;\" x=\"113.490902\" xlink:href=\"#mb7b55d956c\" y=\"131.491712\"/>\r\n     <use style=\"fill:#0000ff;stroke:#0000ff;\" x=\"119.533984\" xlink:href=\"#mb7b55d956c\" y=\"141.309732\"/>\r\n     <use style=\"fill:#0000ff;stroke:#0000ff;\" x=\"135.822427\" xlink:href=\"#mb7b55d956c\" y=\"139.535924\"/>\r\n     <use style=\"fill:#0000ff;stroke:#0000ff;\" x=\"115.539803\" xlink:href=\"#mb7b55d956c\" y=\"135.22495\"/>\r\n     <use style=\"fill:#0000ff;stroke:#0000ff;\" x=\"114.341943\" xlink:href=\"#mb7b55d956c\" y=\"140.168066\"/>\r\n     <use style=\"fill:#0000ff;stroke:#0000ff;\" x=\"153.299547\" xlink:href=\"#mb7b55d956c\" y=\"133.875865\"/>\r\n     <use style=\"fill:#0000ff;stroke:#0000ff;\" x=\"184.716995\" xlink:href=\"#mb7b55d956c\" y=\"146.439456\"/>\r\n     <use style=\"fill:#0000ff;stroke:#0000ff;\" x=\"123.167526\" xlink:href=\"#mb7b55d956c\" y=\"132.60621\"/>\r\n     <use style=\"fill:#0000ff;stroke:#0000ff;\" x=\"142.524164\" xlink:href=\"#mb7b55d956c\" y=\"145.719426\"/>\r\n     <use style=\"fill:#0000ff;stroke:#0000ff;\" x=\"109.672887\" xlink:href=\"#mb7b55d956c\" y=\"138.770961\"/>\r\n     <use style=\"fill:#0000ff;stroke:#0000ff;\" x=\"120.523957\" xlink:href=\"#mb7b55d956c\" y=\"142.36192\"/>\r\n     <use style=\"fill:#0000ff;stroke:#0000ff;\" x=\"180.203827\" xlink:href=\"#mb7b55d956c\" y=\"148.044122\"/>\r\n     <use style=\"fill:#0000ff;stroke:#0000ff;\" x=\"139.460254\" xlink:href=\"#mb7b55d956c\" y=\"128.180406\"/>\r\n     <use style=\"fill:#0000ff;stroke:#0000ff;\" x=\"118.830127\" xlink:href=\"#mb7b55d956c\" y=\"143.858747\"/>\r\n     <use style=\"fill:#0000ff;stroke:#0000ff;\" x=\"120.147465\" xlink:href=\"#mb7b55d956c\" y=\"134.466322\"/>\r\n     <use style=\"fill:#0000ff;stroke:#0000ff;\" x=\"147.748192\" xlink:href=\"#mb7b55d956c\" y=\"136.526355\"/>\r\n     <use style=\"fill:#0000ff;stroke:#0000ff;\" x=\"248.283106\" xlink:href=\"#mb7b55d956c\" y=\"134.792179\"/>\r\n     <use style=\"fill:#0000ff;stroke:#0000ff;\" x=\"134.881631\" xlink:href=\"#mb7b55d956c\" y=\"133.731981\"/>\r\n     <use style=\"fill:#0000ff;stroke:#0000ff;\" x=\"106.475084\" xlink:href=\"#mb7b55d956c\" y=\"135.759817\"/>\r\n     <use style=\"fill:#0000ff;stroke:#0000ff;\" x=\"179.21495\" xlink:href=\"#mb7b55d956c\" y=\"135.579228\"/>\r\n     <use style=\"fill:#0000ff;stroke:#0000ff;\" x=\"106.722932\" xlink:href=\"#mb7b55d956c\" y=\"131.90896\"/>\r\n     <use style=\"fill:#0000ff;stroke:#0000ff;\" x=\"135.983686\" xlink:href=\"#mb7b55d956c\" y=\"148.645303\"/>\r\n     <use style=\"fill:#0000ff;stroke:#0000ff;\" x=\"122.169467\" xlink:href=\"#mb7b55d956c\" y=\"129.426363\"/>\r\n     <use style=\"fill:#0000ff;stroke:#0000ff;\" x=\"125.800905\" xlink:href=\"#mb7b55d956c\" y=\"143.282875\"/>\r\n     <use style=\"fill:#0000ff;stroke:#0000ff;\" x=\"144.047131\" xlink:href=\"#mb7b55d956c\" y=\"141.743793\"/>\r\n     <use style=\"fill:#0000ff;stroke:#0000ff;\" x=\"217.078513\" xlink:href=\"#mb7b55d956c\" y=\"157.376809\"/>\r\n     <use style=\"fill:#0000ff;stroke:#0000ff;\" x=\"103.362554\" xlink:href=\"#mb7b55d956c\" y=\"138.102083\"/>\r\n     <use style=\"fill:#0000ff;stroke:#0000ff;\" x=\"125.744341\" xlink:href=\"#mb7b55d956c\" y=\"121.753646\"/>\r\n     <use style=\"fill:#0000ff;stroke:#0000ff;\" x=\"118.277393\" xlink:href=\"#mb7b55d956c\" y=\"141.975116\"/>\r\n     <use style=\"fill:#0000ff;stroke:#0000ff;\" x=\"223.012625\" xlink:href=\"#mb7b55d956c\" y=\"161.563515\"/>\r\n     <use style=\"fill:#0000ff;stroke:#0000ff;\" x=\"103.623785\" xlink:href=\"#mb7b55d956c\" y=\"135.5854\"/>\r\n     <use style=\"fill:#0000ff;stroke:#0000ff;\" x=\"117.406233\" xlink:href=\"#mb7b55d956c\" y=\"145.497727\"/>\r\n     <use style=\"fill:#0000ff;stroke:#0000ff;\" x=\"120.940463\" xlink:href=\"#mb7b55d956c\" y=\"142.581259\"/>\r\n     <use style=\"fill:#0000ff;stroke:#0000ff;\" x=\"203.674619\" xlink:href=\"#mb7b55d956c\" y=\"144.478733\"/>\r\n     <use style=\"fill:#0000ff;stroke:#0000ff;\" x=\"124.495048\" xlink:href=\"#mb7b55d956c\" y=\"136.224983\"/>\r\n     <use style=\"fill:#0000ff;stroke:#0000ff;\" x=\"153.783022\" xlink:href=\"#mb7b55d956c\" y=\"123.513463\"/>\r\n     <use style=\"fill:#0000ff;stroke:#0000ff;\" x=\"125.945526\" xlink:href=\"#mb7b55d956c\" y=\"145.217012\"/>\r\n     <use style=\"fill:#0000ff;stroke:#0000ff;\" x=\"116.930357\" xlink:href=\"#mb7b55d956c\" y=\"125.340232\"/>\r\n     <use style=\"fill:#0000ff;stroke:#0000ff;\" x=\"133.224789\" xlink:href=\"#mb7b55d956c\" y=\"108.705765\"/>\r\n     <use style=\"fill:#0000ff;stroke:#0000ff;\" x=\"117.697512\" xlink:href=\"#mb7b55d956c\" y=\"140.342615\"/>\r\n     <use style=\"fill:#0000ff;stroke:#0000ff;\" x=\"117.174255\" xlink:href=\"#mb7b55d956c\" y=\"145.906414\"/>\r\n     <use style=\"fill:#0000ff;stroke:#0000ff;\" x=\"152.921134\" xlink:href=\"#mb7b55d956c\" y=\"123.325003\"/>\r\n     <use style=\"fill:#0000ff;stroke:#0000ff;\" x=\"150.44421\" xlink:href=\"#mb7b55d956c\" y=\"146.970582\"/>\r\n     <use style=\"fill:#0000ff;stroke:#0000ff;\" x=\"114.600572\" xlink:href=\"#mb7b55d956c\" y=\"130.748957\"/>\r\n     <use style=\"fill:#0000ff;stroke:#0000ff;\" x=\"93.946038\" xlink:href=\"#mb7b55d956c\" y=\"137.124562\"/>\r\n     <use style=\"fill:#0000ff;stroke:#0000ff;\" x=\"207.146315\" xlink:href=\"#mb7b55d956c\" y=\"127.727223\"/>\r\n     <use style=\"fill:#0000ff;stroke:#0000ff;\" x=\"102.174385\" xlink:href=\"#mb7b55d956c\" y=\"132.69872\"/>\r\n     <use style=\"fill:#0000ff;stroke:#0000ff;\" x=\"138.170884\" xlink:href=\"#mb7b55d956c\" y=\"127.235976\"/>\r\n     <use style=\"fill:#0000ff;stroke:#0000ff;\" x=\"123.525198\" xlink:href=\"#mb7b55d956c\" y=\"148.454654\"/>\r\n     <use style=\"fill:#0000ff;stroke:#0000ff;\" x=\"117.68804\" xlink:href=\"#mb7b55d956c\" y=\"145.646131\"/>\r\n     <use style=\"fill:#0000ff;stroke:#0000ff;\" x=\"155.921226\" xlink:href=\"#mb7b55d956c\" y=\"106.059714\"/>\r\n     <use style=\"fill:#0000ff;stroke:#0000ff;\" x=\"121.874355\" xlink:href=\"#mb7b55d956c\" y=\"135.906582\"/>\r\n     <use style=\"fill:#0000ff;stroke:#0000ff;\" x=\"127.174203\" xlink:href=\"#mb7b55d956c\" y=\"141.617251\"/>\r\n     <use style=\"fill:#0000ff;stroke:#0000ff;\" x=\"116.668167\" xlink:href=\"#mb7b55d956c\" y=\"134.49204\"/>\r\n     <use style=\"fill:#0000ff;stroke:#0000ff;\" x=\"140.340779\" xlink:href=\"#mb7b55d956c\" y=\"140.322815\"/>\r\n    </g>\r\n   </g>\r\n   <g id=\"patch_3\">\r\n    <path d=\"M 55.345313 224.64 \r\nL 55.345313 7.2 \r\n\" style=\"fill:none;stroke:#000000;stroke-linecap:square;stroke-linejoin:miter;stroke-width:0.8;\"/>\r\n   </g>\r\n   <g id=\"patch_4\">\r\n    <path d=\"M 390.145312 224.64 \r\nL 390.145312 7.2 \r\n\" style=\"fill:none;stroke:#000000;stroke-linecap:square;stroke-linejoin:miter;stroke-width:0.8;\"/>\r\n   </g>\r\n   <g id=\"patch_5\">\r\n    <path d=\"M 55.345313 224.64 \r\nL 390.145312 224.64 \r\n\" style=\"fill:none;stroke:#000000;stroke-linecap:square;stroke-linejoin:miter;stroke-width:0.8;\"/>\r\n   </g>\r\n   <g id=\"patch_6\">\r\n    <path d=\"M 55.345313 7.2 \r\nL 390.145312 7.2 \r\n\" style=\"fill:none;stroke:#000000;stroke-linecap:square;stroke-linejoin:miter;stroke-width:0.8;\"/>\r\n   </g>\r\n  </g>\r\n </g>\r\n <defs>\r\n  <clipPath id=\"p5c90098a4f\">\r\n   <rect height=\"217.44\" width=\"334.8\" x=\"55.345313\" y=\"7.2\"/>\r\n  </clipPath>\r\n </defs>\r\n</svg>\r\n",
      "image/png": "[encoded data removed]"
     },
     "metadata": {
      "needs_background": "light"
     }
    }
   ]
  },
  {
   "cell_type": "code",
   "execution_count": 23,
   "metadata": {},
   "outputs": [],
   "source": [
    "from sklearn.svm import SVR\n",
    "from sklearn.model_selection import GridSearchCV"
   ]
  },
  {
   "cell_type": "code",
   "execution_count": 33,
   "metadata": {},
   "outputs": [],
   "source": [
    "svr_rbf = SVR(kernel='rbf', C=100, gamma=0.1, epsilon=.1)\n"
   ]
  },
  {
   "cell_type": "code",
   "execution_count": 28,
   "metadata": {},
   "outputs": [],
   "source": [
    "parameters = {'kernel':('linear', 'rbf','Polynomial'), 'C':[0.1,1, 10, 100,1000,10000],                        'gamma':[0.01,0.1,1, 10, 100], 'degree':[2,3,4],\n",
    "             'epsilon' : [0.001, 0.01, 0.1,1, 10, 100], 'cache_size' : [500]}\n",
    "model = SVR()\n",
    "clf = GridSearchCV(estimator=model, param_grid=parameters, n_jobs=4, verbose = 2)"
   ]
  },
  {
   "cell_type": "code",
   "execution_count": 29,
   "metadata": {},
   "outputs": [
    {
     "output_type": "stream",
     "name": "stdout",
     "text": [
      "Fitting 5 folds for each of 1620 candidates, totalling 8100 fits\n"
     ]
    },
    {
     "output_type": "execute_result",
     "data": {
      "text/plain": [
       "GridSearchCV(estimator=SVR(), n_jobs=4,\n",
       "             param_grid={'C': [0.1, 1, 10, 100, 1000, 10000],\n",
       "                         'cache_size': [500], 'degree': [2, 3, 4],\n",
       "                         'epsilon': [0.001, 0.01, 0.1, 1, 10, 100],\n",
       "                         'gamma': [0.01, 0.1, 1, 10, 100],\n",
       "                         'kernel': ('linear', 'rbf', 'Polynomial')},\n",
       "             verbose=2)"
      ]
     },
     "metadata": {},
     "execution_count": 29
    }
   ],
   "source": [
    "clf.fit(X3_train, y3_train)"
   ]
  },
  {
   "cell_type": "code",
   "execution_count": 30,
   "metadata": {},
   "outputs": [
    {
     "output_type": "execute_result",
     "data": {
      "text/plain": [
       "   mean_fit_time  std_fit_time  mean_score_time  std_score_time param_C  \\\n",
       "0       0.267085      0.015025         0.035705        0.004155     0.1   \n",
       "1       0.344677      0.018135         0.200862        0.013300     0.1   \n",
       "2       0.001397      0.000490         0.000000        0.000000     0.1   \n",
       "3       0.267084      0.009300         0.034110        0.001323     0.1   \n",
       "4       0.342085      0.015931         0.209439        0.015020     0.1   \n",
       "\n",
       "  param_cache_size param_degree param_epsilon param_gamma param_kernel  \\\n",
       "0              500            2         0.001        0.01       linear   \n",
       "1              500            2         0.001        0.01          rbf   \n",
       "2              500            2         0.001        0.01   Polynomial   \n",
       "3              500            2         0.001         0.1       linear   \n",
       "4              500            2         0.001         0.1          rbf   \n",
       "\n",
       "                                              params  split0_test_score  \\\n",
       "0  {'C': 0.1, 'cache_size': 500, 'degree': 2, 'ep...           0.472242   \n",
       "1  {'C': 0.1, 'cache_size': 500, 'degree': 2, 'ep...          -0.041808   \n",
       "2  {'C': 0.1, 'cache_size': 500, 'degree': 2, 'ep...                NaN   \n",
       "3  {'C': 0.1, 'cache_size': 500, 'degree': 2, 'ep...           0.472242   \n",
       "4  {'C': 0.1, 'cache_size': 500, 'degree': 2, 'ep...          -0.104754   \n",
       "\n",
       "   split1_test_score  split2_test_score  split3_test_score  split4_test_score  \\\n",
       "0           0.426879           0.461401           0.559631           0.547520   \n",
       "1          -0.006405           0.000539           0.005413          -0.043564   \n",
       "2                NaN                NaN                NaN                NaN   \n",
       "3           0.426879           0.461401           0.559631           0.547520   \n",
       "4          -0.060184          -0.049390          -0.054593          -0.113124   \n",
       "\n",
       "   mean_test_score  std_test_score  rank_test_score  \n",
       "0         0.493535        0.051404              466  \n",
       "1        -0.017165        0.021181              850  \n",
       "2              NaN             NaN             1343  \n",
       "3         0.493535        0.051404              466  \n",
       "4        -0.076409        0.026909              979  "
      ],
      "text/html": "<div>\n<style scoped>\n    .dataframe tbody tr th:only-of-type {\n        vertical-align: middle;\n    }\n\n    .dataframe tbody tr th {\n        vertical-align: top;\n    }\n\n    .dataframe thead th {\n        text-align: right;\n    }\n</style>\n<table border=\"1\" class=\"dataframe\">\n  <thead>\n    <tr style=\"text-align: right;\">\n      <th></th>\n      <th>mean_fit_time</th>\n      <th>std_fit_time</th>\n      <th>mean_score_time</th>\n      <th>std_score_time</th>\n      <th>param_C</th>\n      <th>param_cache_size</th>\n      <th>param_degree</th>\n      <th>param_epsilon</th>\n      <th>param_gamma</th>\n      <th>param_kernel</th>\n      <th>params</th>\n      <th>split0_test_score</th>\n      <th>split1_test_score</th>\n      <th>split2_test_score</th>\n      <th>split3_test_score</th>\n      <th>split4_test_score</th>\n      <th>mean_test_score</th>\n      <th>std_test_score</th>\n      <th>rank_test_score</th>\n    </tr>\n  </thead>\n  <tbody>\n    <tr>\n      <th>0</th>\n      <td>0.267085</td>\n      <td>0.015025</td>\n      <td>0.035705</td>\n      <td>0.004155</td>\n      <td>0.1</td>\n      <td>500</td>\n      <td>2</td>\n      <td>0.001</td>\n      <td>0.01</td>\n      <td>linear</td>\n      <td>{'C': 0.1, 'cache_size': 500, 'degree': 2, 'ep...</td>\n      <td>0.472242</td>\n      <td>0.426879</td>\n      <td>0.461401</td>\n      <td>0.559631</td>\n      <td>0.547520</td>\n      <td>0.493535</td>\n      <td>0.051404</td>\n      <td>466</td>\n    </tr>\n    <tr>\n      <th>1</th>\n      <td>0.344677</td>\n      <td>0.018135</td>\n      <td>0.200862</td>\n      <td>0.013300</td>\n      <td>0.1</td>\n      <td>500</td>\n      <td>2</td>\n      <td>0.001</td>\n      <td>0.01</td>\n      <td>rbf</td>\n      <td>{'C': 0.1, 'cache_size': 500, 'degree': 2, 'ep...</td>\n      <td>-0.041808</td>\n      <td>-0.006405</td>\n      <td>0.000539</td>\n      <td>0.005413</td>\n      <td>-0.043564</td>\n      <td>-0.017165</td>\n      <td>0.021181</td>\n      <td>850</td>\n    </tr>\n    <tr>\n      <th>2</th>\n      <td>0.001397</td>\n      <td>0.000490</td>\n      <td>0.000000</td>\n      <td>0.000000</td>\n      <td>0.1</td>\n      <td>500</td>\n      <td>2</td>\n      <td>0.001</td>\n      <td>0.01</td>\n      <td>Polynomial</td>\n      <td>{'C': 0.1, 'cache_size': 500, 'degree': 2, 'ep...</td>\n      <td>NaN</td>\n      <td>NaN</td>\n      <td>NaN</td>\n      <td>NaN</td>\n      <td>NaN</td>\n      <td>NaN</td>\n      <td>NaN</td>\n      <td>1343</td>\n    </tr>\n    <tr>\n      <th>3</th>\n      <td>0.267084</td>\n      <td>0.009300</td>\n      <td>0.034110</td>\n      <td>0.001323</td>\n      <td>0.1</td>\n      <td>500</td>\n      <td>2</td>\n      <td>0.001</td>\n      <td>0.1</td>\n      <td>linear</td>\n      <td>{'C': 0.1, 'cache_size': 500, 'degree': 2, 'ep...</td>\n      <td>0.472242</td>\n      <td>0.426879</td>\n      <td>0.461401</td>\n      <td>0.559631</td>\n      <td>0.547520</td>\n      <td>0.493535</td>\n      <td>0.051404</td>\n      <td>466</td>\n    </tr>\n    <tr>\n      <th>4</th>\n      <td>0.342085</td>\n      <td>0.015931</td>\n      <td>0.209439</td>\n      <td>0.015020</td>\n      <td>0.1</td>\n      <td>500</td>\n      <td>2</td>\n      <td>0.001</td>\n      <td>0.1</td>\n      <td>rbf</td>\n      <td>{'C': 0.1, 'cache_size': 500, 'degree': 2, 'ep...</td>\n      <td>-0.104754</td>\n      <td>-0.060184</td>\n      <td>-0.049390</td>\n      <td>-0.054593</td>\n      <td>-0.113124</td>\n      <td>-0.076409</td>\n      <td>0.026909</td>\n      <td>979</td>\n    </tr>\n  </tbody>\n</table>\n</div>"
     },
     "metadata": {},
     "execution_count": 30
    }
   ],
   "source": [
    "pd.DataFrame(clf.cv_results_).head()"
   ]
  },
  {
   "cell_type": "code",
   "execution_count": 31,
   "metadata": {},
   "outputs": [
    {
     "output_type": "execute_result",
     "data": {
      "text/plain": [
       "{'C': 1000,\n",
       " 'cache_size': 500,\n",
       " 'degree': 2,\n",
       " 'epsilon': 1,\n",
       " 'gamma': 0.01,\n",
       " 'kernel': 'rbf'}"
      ]
     },
     "metadata": {},
     "execution_count": 31
    }
   ],
   "source": [
    "clf.best_params_"
   ]
  },
  {
   "cell_type": "code",
   "execution_count": 65,
   "metadata": {},
   "outputs": [
    {
     "output_type": "execute_result",
     "data": {
      "text/plain": [
       "{'C': 10, 'degree': 2, 'epsilon': 1, 'gamma': 0.1, 'kernel': 'linear'}"
      ]
     },
     "metadata": {},
     "execution_count": 65
    }
   ],
   "source": []
  },
  {
   "cell_type": "code",
   "execution_count": 71,
   "metadata": {},
   "outputs": [
    {
     "output_type": "execute_result",
     "data": {
      "text/plain": [
       "Index(['host_since', 'host_response_rate', 'host_acceptance_rate',\n",
       "       'property_type', 'room_type', 'bed_type', 'amenities',\n",
       "       'calendar_updated', 'first_review', 'last_review',\n",
       "       'cancellation_policy'],\n",
       "      dtype='object')"
      ]
     },
     "metadata": {},
     "execution_count": 71
    }
   ],
   "source": [
    "cat_vars_int = df_1drop.select_dtypes(include=['object']).copy().columns\n",
    "cat_vars_int"
   ]
  },
  {
   "cell_type": "code",
   "execution_count": 99,
   "metadata": {
    "tags": []
   },
   "outputs": [
    {
     "output_type": "execute_result",
     "data": {
      "text/plain": [
       "       host_is_superhost  host_total_listings_count  host_identity_verified  \\\n",
       "count        3816.000000                3816.000000             3816.000000   \n",
       "mean            0.203878                   7.157757                0.785377   \n",
       "std             0.402932                  28.628149                0.410614   \n",
       "min             0.000000                   1.000000                0.000000   \n",
       "25%             0.000000                   1.000000                1.000000   \n",
       "50%             0.000000                   1.000000                1.000000   \n",
       "75%             0.000000                   3.000000                1.000000   \n",
       "max             1.000000                 502.000000                1.000000   \n",
       "\n",
       "          latitude    longitude  is_location_exact  accommodates    bathrooms  \\\n",
       "count  3818.000000  3818.000000        3818.000000   3818.000000  3802.000000   \n",
       "mean     47.628961  -122.333103           0.893662      3.349398     1.259469   \n",
       "std       0.043052     0.031745           0.308311      1.977599     0.590369   \n",
       "min      47.505088  -122.417219           0.000000      1.000000     0.000000   \n",
       "25%      47.609418  -122.354320           1.000000      2.000000     1.000000   \n",
       "50%      47.623601  -122.328874           1.000000      3.000000     1.000000   \n",
       "75%      47.662694  -122.310800           1.000000      4.000000     1.000000   \n",
       "max      47.733358  -122.240607           1.000000     16.000000     8.000000   \n",
       "\n",
       "          bedrooms         beds  ...  last_review_2015-12-27  \\\n",
       "count  3812.000000  3817.000000  ...             3818.000000   \n",
       "mean      1.307712     1.735394  ...                0.013358   \n",
       "std       0.883395     1.139480  ...                0.114816   \n",
       "min       0.000000     1.000000  ...                0.000000   \n",
       "25%       1.000000     1.000000  ...                0.000000   \n",
       "50%       1.000000     1.000000  ...                0.000000   \n",
       "75%       2.000000     2.000000  ...                0.000000   \n",
       "max       7.000000    15.000000  ...                1.000000   \n",
       "\n",
       "       last_review_2015-12-28  last_review_2015-12-29  last_review_2015-12-30  \\\n",
       "count             3818.000000             3818.000000             3818.000000   \n",
       "mean                 0.015977                0.019644                0.020168   \n",
       "std                  0.125403                0.138791                0.140592   \n",
       "min                  0.000000                0.000000                0.000000   \n",
       "25%                  0.000000                0.000000                0.000000   \n",
       "50%                  0.000000                0.000000                0.000000   \n",
       "75%                  0.000000                0.000000                0.000000   \n",
       "max                  1.000000                1.000000                1.000000   \n",
       "\n",
       "       last_review_2015-12-31  last_review_2016-01-01  last_review_2016-01-02  \\\n",
       "count             3818.000000             3818.000000             3818.000000   \n",
       "mean                 0.015191                0.022787                0.024620   \n",
       "std                  0.122329                0.149243                0.154985   \n",
       "min                  0.000000                0.000000                0.000000   \n",
       "25%                  0.000000                0.000000                0.000000   \n",
       "50%                  0.000000                0.000000                0.000000   \n",
       "75%                  0.000000                0.000000                0.000000   \n",
       "max                  1.000000                1.000000                1.000000   \n",
       "\n",
       "       last_review_2016-01-03  cancellation_policy_moderate  \\\n",
       "count             3818.000000                   3818.000000   \n",
       "mean                 0.009429                      0.327658   \n",
       "std                  0.096657                      0.469421   \n",
       "min                  0.000000                      0.000000   \n",
       "25%                  0.000000                      0.000000   \n",
       "50%                  0.000000                      0.000000   \n",
       "75%                  0.000000                      1.000000   \n",
       "max                  1.000000                      1.000000   \n",
       "\n",
       "       cancellation_policy_strict  \n",
       "count                 3818.000000  \n",
       "mean                     0.371137  \n",
       "std                      0.483172  \n",
       "min                      0.000000  \n",
       "25%                      0.000000  \n",
       "50%                      0.000000  \n",
       "75%                      1.000000  \n",
       "max                      1.000000  \n",
       "\n",
       "[8 rows x 6100 columns]"
      ],
      "text/html": "<div>\n<style scoped>\n    .dataframe tbody tr th:only-of-type {\n        vertical-align: middle;\n    }\n\n    .dataframe tbody tr th {\n        vertical-align: top;\n    }\n\n    .dataframe thead th {\n        text-align: right;\n    }\n</style>\n<table border=\"1\" class=\"dataframe\">\n  <thead>\n    <tr style=\"text-align: right;\">\n      <th></th>\n      <th>host_is_superhost</th>\n      <th>host_total_listings_count</th>\n      <th>host_identity_verified</th>\n      <th>latitude</th>\n      <th>longitude</th>\n      <th>is_location_exact</th>\n      <th>accommodates</th>\n      <th>bathrooms</th>\n      <th>bedrooms</th>\n      <th>beds</th>\n      <th>...</th>\n      <th>last_review_2015-12-27</th>\n      <th>last_review_2015-12-28</th>\n      <th>last_review_2015-12-29</th>\n      <th>last_review_2015-12-30</th>\n      <th>last_review_2015-12-31</th>\n      <th>last_review_2016-01-01</th>\n      <th>last_review_2016-01-02</th>\n      <th>last_review_2016-01-03</th>\n      <th>cancellation_policy_moderate</th>\n      <th>cancellation_policy_strict</th>\n    </tr>\n  </thead>\n  <tbody>\n    <tr>\n      <th>count</th>\n      <td>3816.000000</td>\n      <td>3816.000000</td>\n      <td>3816.000000</td>\n      <td>3818.000000</td>\n      <td>3818.000000</td>\n      <td>3818.000000</td>\n      <td>3818.000000</td>\n      <td>3802.000000</td>\n      <td>3812.000000</td>\n      <td>3817.000000</td>\n      <td>...</td>\n      <td>3818.000000</td>\n      <td>3818.000000</td>\n      <td>3818.000000</td>\n      <td>3818.000000</td>\n      <td>3818.000000</td>\n      <td>3818.000000</td>\n      <td>3818.000000</td>\n      <td>3818.000000</td>\n      <td>3818.000000</td>\n      <td>3818.000000</td>\n    </tr>\n    <tr>\n      <th>mean</th>\n      <td>0.203878</td>\n      <td>7.157757</td>\n      <td>0.785377</td>\n      <td>47.628961</td>\n      <td>-122.333103</td>\n      <td>0.893662</td>\n      <td>3.349398</td>\n      <td>1.259469</td>\n      <td>1.307712</td>\n      <td>1.735394</td>\n      <td>...</td>\n      <td>0.013358</td>\n      <td>0.015977</td>\n      <td>0.019644</td>\n      <td>0.020168</td>\n      <td>0.015191</td>\n      <td>0.022787</td>\n      <td>0.024620</td>\n      <td>0.009429</td>\n      <td>0.327658</td>\n      <td>0.371137</td>\n    </tr>\n    <tr>\n      <th>std</th>\n      <td>0.402932</td>\n      <td>28.628149</td>\n      <td>0.410614</td>\n      <td>0.043052</td>\n      <td>0.031745</td>\n      <td>0.308311</td>\n      <td>1.977599</td>\n      <td>0.590369</td>\n      <td>0.883395</td>\n      <td>1.139480</td>\n      <td>...</td>\n      <td>0.114816</td>\n      <td>0.125403</td>\n      <td>0.138791</td>\n      <td>0.140592</td>\n      <td>0.122329</td>\n      <td>0.149243</td>\n      <td>0.154985</td>\n      <td>0.096657</td>\n      <td>0.469421</td>\n      <td>0.483172</td>\n    </tr>\n    <tr>\n      <th>min</th>\n      <td>0.000000</td>\n      <td>1.000000</td>\n      <td>0.000000</td>\n      <td>47.505088</td>\n      <td>-122.417219</td>\n      <td>0.000000</td>\n      <td>1.000000</td>\n      <td>0.000000</td>\n      <td>0.000000</td>\n      <td>1.000000</td>\n      <td>...</td>\n      <td>0.000000</td>\n      <td>0.000000</td>\n      <td>0.000000</td>\n      <td>0.000000</td>\n      <td>0.000000</td>\n      <td>0.000000</td>\n      <td>0.000000</td>\n      <td>0.000000</td>\n      <td>0.000000</td>\n      <td>0.000000</td>\n    </tr>\n    <tr>\n      <th>25%</th>\n      <td>0.000000</td>\n      <td>1.000000</td>\n      <td>1.000000</td>\n      <td>47.609418</td>\n      <td>-122.354320</td>\n      <td>1.000000</td>\n      <td>2.000000</td>\n      <td>1.000000</td>\n      <td>1.000000</td>\n      <td>1.000000</td>\n      <td>...</td>\n      <td>0.000000</td>\n      <td>0.000000</td>\n      <td>0.000000</td>\n      <td>0.000000</td>\n      <td>0.000000</td>\n      <td>0.000000</td>\n      <td>0.000000</td>\n      <td>0.000000</td>\n      <td>0.000000</td>\n      <td>0.000000</td>\n    </tr>\n    <tr>\n      <th>50%</th>\n      <td>0.000000</td>\n      <td>1.000000</td>\n      <td>1.000000</td>\n      <td>47.623601</td>\n      <td>-122.328874</td>\n      <td>1.000000</td>\n      <td>3.000000</td>\n      <td>1.000000</td>\n      <td>1.000000</td>\n      <td>1.000000</td>\n      <td>...</td>\n      <td>0.000000</td>\n      <td>0.000000</td>\n      <td>0.000000</td>\n      <td>0.000000</td>\n      <td>0.000000</td>\n      <td>0.000000</td>\n      <td>0.000000</td>\n      <td>0.000000</td>\n      <td>0.000000</td>\n      <td>0.000000</td>\n    </tr>\n    <tr>\n      <th>75%</th>\n      <td>0.000000</td>\n      <td>3.000000</td>\n      <td>1.000000</td>\n      <td>47.662694</td>\n      <td>-122.310800</td>\n      <td>1.000000</td>\n      <td>4.000000</td>\n      <td>1.000000</td>\n      <td>2.000000</td>\n      <td>2.000000</td>\n      <td>...</td>\n      <td>0.000000</td>\n      <td>0.000000</td>\n      <td>0.000000</td>\n      <td>0.000000</td>\n      <td>0.000000</td>\n      <td>0.000000</td>\n      <td>0.000000</td>\n      <td>0.000000</td>\n      <td>1.000000</td>\n      <td>1.000000</td>\n    </tr>\n    <tr>\n      <th>max</th>\n      <td>1.000000</td>\n      <td>502.000000</td>\n      <td>1.000000</td>\n      <td>47.733358</td>\n      <td>-122.240607</td>\n      <td>1.000000</td>\n      <td>16.000000</td>\n      <td>8.000000</td>\n      <td>7.000000</td>\n      <td>15.000000</td>\n      <td>...</td>\n      <td>1.000000</td>\n      <td>1.000000</td>\n      <td>1.000000</td>\n      <td>1.000000</td>\n      <td>1.000000</td>\n      <td>1.000000</td>\n      <td>1.000000</td>\n      <td>1.000000</td>\n      <td>1.000000</td>\n      <td>1.000000</td>\n    </tr>\n  </tbody>\n</table>\n<p>8 rows × 6100 columns</p>\n</div>"
     },
     "metadata": {},
     "execution_count": 99
    }
   ],
   "source": [
    "df_cat = df_1drop.copy()\n",
    "for var in  cat_vars_int:\n",
    "    # for each cat add dummy var, drop original column\n",
    "    df_cat = pd.concat([df_cat.drop(var, axis=1), pd.get_dummies(df_cat[var], prefix=var, prefix_sep='_', drop_first=True)], axis=1)\n",
    "\n",
    "df_cat.describe()"
   ]
  },
  {
   "cell_type": "code",
   "execution_count": 101,
   "metadata": {},
   "outputs": [
    {
     "output_type": "execute_result",
     "data": {
      "text/plain": [
       "       host_is_superhost  host_total_listings_count  host_identity_verified  \\\n",
       "count        3818.000000                3818.000000             3818.000000   \n",
       "mean            0.203878                   7.157757                0.785377   \n",
       "std             0.402827                  28.620648                0.410507   \n",
       "min             0.000000                   1.000000                0.000000   \n",
       "25%             0.000000                   1.000000                1.000000   \n",
       "50%             0.000000                   1.000000                1.000000   \n",
       "75%             0.000000                   3.000000                1.000000   \n",
       "max             1.000000                 502.000000                1.000000   \n",
       "\n",
       "          latitude    longitude  is_location_exact  accommodates    bathrooms  \\\n",
       "count  3818.000000  3818.000000        3818.000000   3818.000000  3818.000000   \n",
       "mean     47.628961  -122.333103           0.893662      3.349398     1.259469   \n",
       "std       0.043052     0.031745           0.308311      1.977599     0.589130   \n",
       "min      47.505088  -122.417219           0.000000      1.000000     0.000000   \n",
       "25%      47.609418  -122.354320           1.000000      2.000000     1.000000   \n",
       "50%      47.623601  -122.328874           1.000000      3.000000     1.000000   \n",
       "75%      47.662694  -122.310800           1.000000      4.000000     1.000000   \n",
       "max      47.733358  -122.240607           1.000000     16.000000     8.000000   \n",
       "\n",
       "          bedrooms         beds  ...  last_review_2015-12-27  \\\n",
       "count  3818.000000  3818.000000  ...             3818.000000   \n",
       "mean      1.307712     1.735394  ...                0.013358   \n",
       "std       0.882700     1.139330  ...                0.114816   \n",
       "min       0.000000     1.000000  ...                0.000000   \n",
       "25%       1.000000     1.000000  ...                0.000000   \n",
       "50%       1.000000     1.000000  ...                0.000000   \n",
       "75%       2.000000     2.000000  ...                0.000000   \n",
       "max       7.000000    15.000000  ...                1.000000   \n",
       "\n",
       "       last_review_2015-12-28  last_review_2015-12-29  last_review_2015-12-30  \\\n",
       "count             3818.000000             3818.000000             3818.000000   \n",
       "mean                 0.015977                0.019644                0.020168   \n",
       "std                  0.125403                0.138791                0.140592   \n",
       "min                  0.000000                0.000000                0.000000   \n",
       "25%                  0.000000                0.000000                0.000000   \n",
       "50%                  0.000000                0.000000                0.000000   \n",
       "75%                  0.000000                0.000000                0.000000   \n",
       "max                  1.000000                1.000000                1.000000   \n",
       "\n",
       "       last_review_2015-12-31  last_review_2016-01-01  last_review_2016-01-02  \\\n",
       "count             3818.000000             3818.000000             3818.000000   \n",
       "mean                 0.015191                0.022787                0.024620   \n",
       "std                  0.122329                0.149243                0.154985   \n",
       "min                  0.000000                0.000000                0.000000   \n",
       "25%                  0.000000                0.000000                0.000000   \n",
       "50%                  0.000000                0.000000                0.000000   \n",
       "75%                  0.000000                0.000000                0.000000   \n",
       "max                  1.000000                1.000000                1.000000   \n",
       "\n",
       "       last_review_2016-01-03  cancellation_policy_moderate  \\\n",
       "count             3818.000000                   3818.000000   \n",
       "mean                 0.009429                      0.327658   \n",
       "std                  0.096657                      0.469421   \n",
       "min                  0.000000                      0.000000   \n",
       "25%                  0.000000                      0.000000   \n",
       "50%                  0.000000                      0.000000   \n",
       "75%                  0.000000                      1.000000   \n",
       "max                  1.000000                      1.000000   \n",
       "\n",
       "       cancellation_policy_strict  \n",
       "count                 3818.000000  \n",
       "mean                     0.371137  \n",
       "std                      0.483172  \n",
       "min                      0.000000  \n",
       "25%                      0.000000  \n",
       "50%                      0.000000  \n",
       "75%                      1.000000  \n",
       "max                      1.000000  \n",
       "\n",
       "[8 rows x 6100 columns]"
      ],
      "text/html": "<div>\n<style scoped>\n    .dataframe tbody tr th:only-of-type {\n        vertical-align: middle;\n    }\n\n    .dataframe tbody tr th {\n        vertical-align: top;\n    }\n\n    .dataframe thead th {\n        text-align: right;\n    }\n</style>\n<table border=\"1\" class=\"dataframe\">\n  <thead>\n    <tr style=\"text-align: right;\">\n      <th></th>\n      <th>host_is_superhost</th>\n      <th>host_total_listings_count</th>\n      <th>host_identity_verified</th>\n      <th>latitude</th>\n      <th>longitude</th>\n      <th>is_location_exact</th>\n      <th>accommodates</th>\n      <th>bathrooms</th>\n      <th>bedrooms</th>\n      <th>beds</th>\n      <th>...</th>\n      <th>last_review_2015-12-27</th>\n      <th>last_review_2015-12-28</th>\n      <th>last_review_2015-12-29</th>\n      <th>last_review_2015-12-30</th>\n      <th>last_review_2015-12-31</th>\n      <th>last_review_2016-01-01</th>\n      <th>last_review_2016-01-02</th>\n      <th>last_review_2016-01-03</th>\n      <th>cancellation_policy_moderate</th>\n      <th>cancellation_policy_strict</th>\n    </tr>\n  </thead>\n  <tbody>\n    <tr>\n      <th>count</th>\n      <td>3818.000000</td>\n      <td>3818.000000</td>\n      <td>3818.000000</td>\n      <td>3818.000000</td>\n      <td>3818.000000</td>\n      <td>3818.000000</td>\n      <td>3818.000000</td>\n      <td>3818.000000</td>\n      <td>3818.000000</td>\n      <td>3818.000000</td>\n      <td>...</td>\n      <td>3818.000000</td>\n      <td>3818.000000</td>\n      <td>3818.000000</td>\n      <td>3818.000000</td>\n      <td>3818.000000</td>\n      <td>3818.000000</td>\n      <td>3818.000000</td>\n      <td>3818.000000</td>\n      <td>3818.000000</td>\n      <td>3818.000000</td>\n    </tr>\n    <tr>\n      <th>mean</th>\n      <td>0.203878</td>\n      <td>7.157757</td>\n      <td>0.785377</td>\n      <td>47.628961</td>\n      <td>-122.333103</td>\n      <td>0.893662</td>\n      <td>3.349398</td>\n      <td>1.259469</td>\n      <td>1.307712</td>\n      <td>1.735394</td>\n      <td>...</td>\n      <td>0.013358</td>\n      <td>0.015977</td>\n      <td>0.019644</td>\n      <td>0.020168</td>\n      <td>0.015191</td>\n      <td>0.022787</td>\n      <td>0.024620</td>\n      <td>0.009429</td>\n      <td>0.327658</td>\n      <td>0.371137</td>\n    </tr>\n    <tr>\n      <th>std</th>\n      <td>0.402827</td>\n      <td>28.620648</td>\n      <td>0.410507</td>\n      <td>0.043052</td>\n      <td>0.031745</td>\n      <td>0.308311</td>\n      <td>1.977599</td>\n      <td>0.589130</td>\n      <td>0.882700</td>\n      <td>1.139330</td>\n      <td>...</td>\n      <td>0.114816</td>\n      <td>0.125403</td>\n      <td>0.138791</td>\n      <td>0.140592</td>\n      <td>0.122329</td>\n      <td>0.149243</td>\n      <td>0.154985</td>\n      <td>0.096657</td>\n      <td>0.469421</td>\n      <td>0.483172</td>\n    </tr>\n    <tr>\n      <th>min</th>\n      <td>0.000000</td>\n      <td>1.000000</td>\n      <td>0.000000</td>\n      <td>47.505088</td>\n      <td>-122.417219</td>\n      <td>0.000000</td>\n      <td>1.000000</td>\n      <td>0.000000</td>\n      <td>0.000000</td>\n      <td>1.000000</td>\n      <td>...</td>\n      <td>0.000000</td>\n      <td>0.000000</td>\n      <td>0.000000</td>\n      <td>0.000000</td>\n      <td>0.000000</td>\n      <td>0.000000</td>\n      <td>0.000000</td>\n      <td>0.000000</td>\n      <td>0.000000</td>\n      <td>0.000000</td>\n    </tr>\n    <tr>\n      <th>25%</th>\n      <td>0.000000</td>\n      <td>1.000000</td>\n      <td>1.000000</td>\n      <td>47.609418</td>\n      <td>-122.354320</td>\n      <td>1.000000</td>\n      <td>2.000000</td>\n      <td>1.000000</td>\n      <td>1.000000</td>\n      <td>1.000000</td>\n      <td>...</td>\n      <td>0.000000</td>\n      <td>0.000000</td>\n      <td>0.000000</td>\n      <td>0.000000</td>\n      <td>0.000000</td>\n      <td>0.000000</td>\n      <td>0.000000</td>\n      <td>0.000000</td>\n      <td>0.000000</td>\n      <td>0.000000</td>\n    </tr>\n    <tr>\n      <th>50%</th>\n      <td>0.000000</td>\n      <td>1.000000</td>\n      <td>1.000000</td>\n      <td>47.623601</td>\n      <td>-122.328874</td>\n      <td>1.000000</td>\n      <td>3.000000</td>\n      <td>1.000000</td>\n      <td>1.000000</td>\n      <td>1.000000</td>\n      <td>...</td>\n      <td>0.000000</td>\n      <td>0.000000</td>\n      <td>0.000000</td>\n      <td>0.000000</td>\n      <td>0.000000</td>\n      <td>0.000000</td>\n      <td>0.000000</td>\n      <td>0.000000</td>\n      <td>0.000000</td>\n      <td>0.000000</td>\n    </tr>\n    <tr>\n      <th>75%</th>\n      <td>0.000000</td>\n      <td>3.000000</td>\n      <td>1.000000</td>\n      <td>47.662694</td>\n      <td>-122.310800</td>\n      <td>1.000000</td>\n      <td>4.000000</td>\n      <td>1.000000</td>\n      <td>2.000000</td>\n      <td>2.000000</td>\n      <td>...</td>\n      <td>0.000000</td>\n      <td>0.000000</td>\n      <td>0.000000</td>\n      <td>0.000000</td>\n      <td>0.000000</td>\n      <td>0.000000</td>\n      <td>0.000000</td>\n      <td>0.000000</td>\n      <td>1.000000</td>\n      <td>1.000000</td>\n    </tr>\n    <tr>\n      <th>max</th>\n      <td>1.000000</td>\n      <td>502.000000</td>\n      <td>1.000000</td>\n      <td>47.733358</td>\n      <td>-122.240607</td>\n      <td>1.000000</td>\n      <td>16.000000</td>\n      <td>8.000000</td>\n      <td>7.000000</td>\n      <td>15.000000</td>\n      <td>...</td>\n      <td>1.000000</td>\n      <td>1.000000</td>\n      <td>1.000000</td>\n      <td>1.000000</td>\n      <td>1.000000</td>\n      <td>1.000000</td>\n      <td>1.000000</td>\n      <td>1.000000</td>\n      <td>1.000000</td>\n      <td>1.000000</td>\n    </tr>\n  </tbody>\n</table>\n<p>8 rows × 6100 columns</p>\n</div>"
     },
     "metadata": {},
     "execution_count": 101
    }
   ],
   "source": [
    "df_totrain4 = df_cat.apply(lambda x: x.fillna(x.mean()),axis=0)\n",
    "df_totrain4.describe()"
   ]
  },
  {
   "cell_type": "code",
   "execution_count": 103,
   "metadata": {},
   "outputs": [
    {
     "output_type": "execute_result",
     "data": {
      "text/plain": [
       "                      Train r2 score            Test r2 score  \\\n",
       "LinearRegression            0.999988 -162582965210863665152.0   \n",
       "RandomForestRegressor       0.944719                 0.683832   \n",
       "SVR                         0.999868                 0.000773   \n",
       "\n",
       "                                          Test MSE  \n",
       "LinearRegression       1319572920286364945088512.0  \n",
       "RandomForestRegressor                  2566.114917  \n",
       "SVR                                    8110.034681  "
      ],
      "text/html": "<div>\n<style scoped>\n    .dataframe tbody tr th:only-of-type {\n        vertical-align: middle;\n    }\n\n    .dataframe tbody tr th {\n        vertical-align: top;\n    }\n\n    .dataframe thead th {\n        text-align: right;\n    }\n</style>\n<table border=\"1\" class=\"dataframe\">\n  <thead>\n    <tr style=\"text-align: right;\">\n      <th></th>\n      <th>Train r2 score</th>\n      <th>Test r2 score</th>\n      <th>Test MSE</th>\n    </tr>\n  </thead>\n  <tbody>\n    <tr>\n      <th>LinearRegression</th>\n      <td>0.999988</td>\n      <td>-162582965210863665152.0</td>\n      <td>1319572920286364945088512.0</td>\n    </tr>\n    <tr>\n      <th>RandomForestRegressor</th>\n      <td>0.944719</td>\n      <td>0.683832</td>\n      <td>2566.114917</td>\n    </tr>\n    <tr>\n      <th>SVR</th>\n      <td>0.999868</td>\n      <td>0.000773</td>\n      <td>8110.034681</td>\n    </tr>\n  </tbody>\n</table>\n</div>"
     },
     "metadata": {},
     "execution_count": 103
    }
   ],
   "source": [
    "X4 = df_totrain4.drop(['price','weekly_price','monthly_price'],axis = 1)\n",
    "y4 = df_totrain4['price']\n",
    "X4_train, X4_test, y4_train, y4_test = train_test_split(X4, y4, test_size = .20, random_state=42)\n",
    "scaler4 = StandardScaler()\n",
    "scaler4.fit(X4_train)\n",
    "X4_train = scaler4.transform(X4_train)\n",
    "X4_test = scaler4.transform(X4_test)\n",
    "\n",
    "lr4_model = LinearRegression()\n",
    "rf4_model = RandomForestRegressor(n_estimators=100, criterion = 'mse')\n",
    "sv4_model = SVR(kernel= 'rbf', C= 1000, gamma= 0.01, epsilon=1, cache_size = 500)\n",
    "models4 = [lr4_model, rf4_model, sv4_model]\n",
    "index=['LinearRegression','RandomForestRegressor','SVR']\n",
    "columns=['Train r2 score','Test r2 score','Test MSE']\n",
    "df4_summary=pd.DataFrame(data=None,index=index,columns=columns)\n",
    "for n,model in enumerate(models4):\n",
    "    model.fit(X4_train, y4_train)\n",
    "    y4_train_preds = model.predict(X4_train)\n",
    "    y4_test_preds = model.predict(X4_test)\n",
    "    score = []\n",
    "    score.append(r2_score(y4_train, y4_train_preds))\n",
    "    score.append(r2_score(y4_test, y4_test_preds))\n",
    "    score.append(mean_squared_error(y4_test, y4_test_preds))\n",
    "    df3_summary.loc[df3_summary.index[n]] = score\n",
    "df3_summary"
   ]
  },
  {
   "cell_type": "code",
   "execution_count": null,
   "metadata": {},
   "outputs": [],
   "source": []
  }
 ]
}